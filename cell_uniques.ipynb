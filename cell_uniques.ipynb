{
  "nbformat": 4,
  "nbformat_minor": 0,
  "metadata": {
    "colab": {
      "name": "cell uniques.ipynb",
      "provenance": [],
      "collapsed_sections": [],
      "toc_visible": true,
      "authorship_tag": "ABX9TyMmnQruL3FO8BVKfekln0Cd",
      "include_colab_link": true
    },
    "kernelspec": {
      "name": "python3",
      "display_name": "Python 3"
    },
    "language_info": {
      "name": "python"
    }
  },
  "cells": [
    {
      "cell_type": "markdown",
      "metadata": {
        "id": "view-in-github",
        "colab_type": "text"
      },
      "source": [
        "<a href=\"https://colab.research.google.com/github/linyuehzzz/census_privacy/blob/main/cell_uniques.ipynb\" target=\"_parent\"><img src=\"https://colab.research.google.com/assets/colab-badge.svg\" alt=\"Open In Colab\"/></a>"
      ]
    },
    {
      "cell_type": "code",
      "metadata": {
        "id": "zLeEw-8vLEbA",
        "colab": {
          "base_uri": "https://localhost:8080/"
        },
        "outputId": "ee597e71-a98f-48e6-c1d0-ef27625bde55"
      },
      "source": [
        "from google.colab import drive\n",
        "drive.mount(\"/content/gdrive\")"
      ],
      "execution_count": 22,
      "outputs": [
        {
          "output_type": "stream",
          "name": "stdout",
          "text": [
            "Drive already mounted at /content/gdrive; to attempt to forcibly remount, call drive.mount(\"/content/gdrive\", force_remount=True).\n"
          ]
        }
      ]
    },
    {
      "cell_type": "markdown",
      "metadata": {
        "id": "fpO_TqoLYDJ8"
      },
      "source": [
        "####**Impact of geographic scales**\n",
        "Some simulations to demonstrate how spatial scales affect the probability of finding a true unique. Two aspects of spatial scales are examined here: resolution and extent.\n",
        "\n"
      ]
    },
    {
      "cell_type": "markdown",
      "metadata": {
        "id": "CEe6eE16vwXo"
      },
      "source": [
        "\n",
        "**Read original workload query outputs**  \n",
        "We consider the query of race for the purpose of demonstration. Cell uniqueness is presented in this query."
      ]
    },
    {
      "cell_type": "code",
      "metadata": {
        "colab": {
          "base_uri": "https://localhost:8080/",
          "height": 472
        },
        "id": "V04A9tgqjDpe",
        "outputId": "25880bbc-a31d-4d61-cda8-744661d99a2d"
      },
      "source": [
        "%cd \"/content/gdrive/My Drive/Colab Notebooks/census_privacy\"\n",
        "import pandas as pd\n",
        "import numpy as np\n",
        "\n",
        "n4 = 63\n",
        "filename_hist1 = 'data/franklin/microdata/franklin_hist.csv'\n",
        "hist1 = pd.read_csv(filename_hist1)\n",
        "hist1['BLK'] = hist1['GEOID10'].astype(str)\n",
        "col_names = hist1.columns.to_numpy()\n",
        "col_names = np.delete(col_names, [0, -1])\n",
        "hist1 = hist1.groupby('BLK').sum()[col_names]\n",
        "\n",
        "col_two_or_more_races = []\n",
        "for x in range(n4):     # race\n",
        "    if x >= 0 and x <= 5:\n",
        "        x = '{number:0{width}d}'.format(width=2, number=x)\n",
        "        col_names = [col for col in hist1.columns if x in col[6:8]]\n",
        "        hist1[str(x)] = hist1[col_names].sum(axis=1)\n",
        "    else:\n",
        "        x = '{number:0{width}d}'.format(width=2, number=x)\n",
        "        col_names = [col for col in hist1.columns if x in col[6:8]]\n",
        "        col_two_or_more_races.extend(col_names)\n",
        "hist1['06'] = hist1[col_two_or_more_races].sum(axis=1)\n",
        "hist1.drop([col for col in hist1.columns if len(col)==8], axis=1, inplace=True)\n",
        "hist1"
      ],
      "execution_count": 33,
      "outputs": [
        {
          "output_type": "stream",
          "name": "stdout",
          "text": [
            "/content/gdrive/My Drive/Colab Notebooks/census_privacy\n"
          ]
        },
        {
          "output_type": "execute_result",
          "data": {
            "text/html": [
              "<div>\n",
              "<style scoped>\n",
              "    .dataframe tbody tr th:only-of-type {\n",
              "        vertical-align: middle;\n",
              "    }\n",
              "\n",
              "    .dataframe tbody tr th {\n",
              "        vertical-align: top;\n",
              "    }\n",
              "\n",
              "    .dataframe thead th {\n",
              "        text-align: right;\n",
              "    }\n",
              "</style>\n",
              "<table border=\"1\" class=\"dataframe\">\n",
              "  <thead>\n",
              "    <tr style=\"text-align: right;\">\n",
              "      <th></th>\n",
              "      <th>00</th>\n",
              "      <th>01</th>\n",
              "      <th>02</th>\n",
              "      <th>03</th>\n",
              "      <th>04</th>\n",
              "      <th>05</th>\n",
              "      <th>06</th>\n",
              "    </tr>\n",
              "    <tr>\n",
              "      <th>BLK</th>\n",
              "      <th></th>\n",
              "      <th></th>\n",
              "      <th></th>\n",
              "      <th></th>\n",
              "      <th></th>\n",
              "      <th></th>\n",
              "      <th></th>\n",
              "    </tr>\n",
              "  </thead>\n",
              "  <tbody>\n",
              "    <tr>\n",
              "      <th>390490001101000</th>\n",
              "      <td>0</td>\n",
              "      <td>0</td>\n",
              "      <td>0</td>\n",
              "      <td>0</td>\n",
              "      <td>0</td>\n",
              "      <td>0</td>\n",
              "      <td>0</td>\n",
              "    </tr>\n",
              "    <tr>\n",
              "      <th>390490001101001</th>\n",
              "      <td>1</td>\n",
              "      <td>0</td>\n",
              "      <td>0</td>\n",
              "      <td>0</td>\n",
              "      <td>0</td>\n",
              "      <td>0</td>\n",
              "      <td>0</td>\n",
              "    </tr>\n",
              "    <tr>\n",
              "      <th>390490001101002</th>\n",
              "      <td>45</td>\n",
              "      <td>0</td>\n",
              "      <td>0</td>\n",
              "      <td>0</td>\n",
              "      <td>0</td>\n",
              "      <td>0</td>\n",
              "      <td>0</td>\n",
              "    </tr>\n",
              "    <tr>\n",
              "      <th>390490001101003</th>\n",
              "      <td>51</td>\n",
              "      <td>4</td>\n",
              "      <td>0</td>\n",
              "      <td>0</td>\n",
              "      <td>0</td>\n",
              "      <td>0</td>\n",
              "      <td>0</td>\n",
              "    </tr>\n",
              "    <tr>\n",
              "      <th>390490001101004</th>\n",
              "      <td>48</td>\n",
              "      <td>0</td>\n",
              "      <td>0</td>\n",
              "      <td>0</td>\n",
              "      <td>0</td>\n",
              "      <td>0</td>\n",
              "      <td>0</td>\n",
              "    </tr>\n",
              "    <tr>\n",
              "      <th>...</th>\n",
              "      <td>...</td>\n",
              "      <td>...</td>\n",
              "      <td>...</td>\n",
              "      <td>...</td>\n",
              "      <td>...</td>\n",
              "      <td>...</td>\n",
              "      <td>...</td>\n",
              "    </tr>\n",
              "    <tr>\n",
              "      <th>390499800001070</th>\n",
              "      <td>0</td>\n",
              "      <td>0</td>\n",
              "      <td>0</td>\n",
              "      <td>0</td>\n",
              "      <td>0</td>\n",
              "      <td>0</td>\n",
              "      <td>0</td>\n",
              "    </tr>\n",
              "    <tr>\n",
              "      <th>390499800001071</th>\n",
              "      <td>0</td>\n",
              "      <td>0</td>\n",
              "      <td>0</td>\n",
              "      <td>0</td>\n",
              "      <td>0</td>\n",
              "      <td>0</td>\n",
              "      <td>0</td>\n",
              "    </tr>\n",
              "    <tr>\n",
              "      <th>390499800001072</th>\n",
              "      <td>0</td>\n",
              "      <td>0</td>\n",
              "      <td>0</td>\n",
              "      <td>0</td>\n",
              "      <td>0</td>\n",
              "      <td>0</td>\n",
              "      <td>0</td>\n",
              "    </tr>\n",
              "    <tr>\n",
              "      <th>390499800001073</th>\n",
              "      <td>0</td>\n",
              "      <td>0</td>\n",
              "      <td>0</td>\n",
              "      <td>0</td>\n",
              "      <td>0</td>\n",
              "      <td>0</td>\n",
              "      <td>0</td>\n",
              "    </tr>\n",
              "    <tr>\n",
              "      <th>390499800001074</th>\n",
              "      <td>0</td>\n",
              "      <td>0</td>\n",
              "      <td>0</td>\n",
              "      <td>0</td>\n",
              "      <td>0</td>\n",
              "      <td>0</td>\n",
              "      <td>0</td>\n",
              "    </tr>\n",
              "  </tbody>\n",
              "</table>\n",
              "<p>22826 rows × 7 columns</p>\n",
              "</div>"
            ],
            "text/plain": [
              "                 00  01  02  03  04  05  06\n",
              "BLK                                        \n",
              "390490001101000   0   0   0   0   0   0   0\n",
              "390490001101001   1   0   0   0   0   0   0\n",
              "390490001101002  45   0   0   0   0   0   0\n",
              "390490001101003  51   4   0   0   0   0   0\n",
              "390490001101004  48   0   0   0   0   0   0\n",
              "...              ..  ..  ..  ..  ..  ..  ..\n",
              "390499800001070   0   0   0   0   0   0   0\n",
              "390499800001071   0   0   0   0   0   0   0\n",
              "390499800001072   0   0   0   0   0   0   0\n",
              "390499800001073   0   0   0   0   0   0   0\n",
              "390499800001074   0   0   0   0   0   0   0\n",
              "\n",
              "[22826 rows x 7 columns]"
            ]
          },
          "metadata": {},
          "execution_count": 33
        }
      ]
    },
    {
      "cell_type": "markdown",
      "metadata": {
        "id": "36Ykw3GKLCg3"
      },
      "source": [
        "**Read dp workload query outputs**  "
      ]
    },
    {
      "cell_type": "code",
      "metadata": {
        "colab": {
          "base_uri": "https://localhost:8080/",
          "height": 472
        },
        "id": "lNkah0XsLGvF",
        "outputId": "5f482fe6-8915-4179-b1d9-6d66ff11001d"
      },
      "source": [
        "%cd \"/content/gdrive/My Drive/Colab Notebooks/census_privacy\"\n",
        "import pandas as pd\n",
        "import numpy as np\n",
        "\n",
        "n4 = 63\n",
        "filename_hist2 = 'data/franklin/microdata/rho_2.56/franklin_hist_dp_blk2.csv'\n",
        "hist2 = pd.read_csv(filename_hist2)\n",
        "hist2['BLK'] = hist2['BLK'].astype(str)\n",
        "col_names = hist2.columns.to_numpy()\n",
        "col_names = np.delete(col_names, [0, -1])\n",
        "hist2 = hist2.groupby('BLK').sum()[col_names]\n",
        "\n",
        "col_two_or_more_races = []\n",
        "for x in range(n4):     # race\n",
        "    if x >= 0 and x <= 5:\n",
        "        x = '{number:0{width}d}'.format(width=2, number=x)\n",
        "        col_names = [col for col in hist2.columns if x in col[6:8]]\n",
        "        hist2[str(x)] = hist2[col_names].sum(axis=1)\n",
        "    else:\n",
        "        x = '{number:0{width}d}'.format(width=2, number=x)\n",
        "        col_names = [col for col in hist2.columns if x in col[6:8]]\n",
        "        col_two_or_more_races.extend(col_names)\n",
        "hist2['06'] = hist2[col_two_or_more_races].sum(axis=1)\n",
        "hist2.drop([col for col in hist2.columns if len(col)==8], axis=1, inplace=True)\n",
        "hist2"
      ],
      "execution_count": 40,
      "outputs": [
        {
          "output_type": "stream",
          "name": "stdout",
          "text": [
            "/content/gdrive/My Drive/Colab Notebooks/census_privacy\n"
          ]
        },
        {
          "output_type": "execute_result",
          "data": {
            "text/html": [
              "<div>\n",
              "<style scoped>\n",
              "    .dataframe tbody tr th:only-of-type {\n",
              "        vertical-align: middle;\n",
              "    }\n",
              "\n",
              "    .dataframe tbody tr th {\n",
              "        vertical-align: top;\n",
              "    }\n",
              "\n",
              "    .dataframe thead th {\n",
              "        text-align: right;\n",
              "    }\n",
              "</style>\n",
              "<table border=\"1\" class=\"dataframe\">\n",
              "  <thead>\n",
              "    <tr style=\"text-align: right;\">\n",
              "      <th></th>\n",
              "      <th>00</th>\n",
              "      <th>01</th>\n",
              "      <th>02</th>\n",
              "      <th>03</th>\n",
              "      <th>04</th>\n",
              "      <th>05</th>\n",
              "      <th>06</th>\n",
              "    </tr>\n",
              "    <tr>\n",
              "      <th>BLK</th>\n",
              "      <th></th>\n",
              "      <th></th>\n",
              "      <th></th>\n",
              "      <th></th>\n",
              "      <th></th>\n",
              "      <th></th>\n",
              "      <th></th>\n",
              "    </tr>\n",
              "  </thead>\n",
              "  <tbody>\n",
              "    <tr>\n",
              "      <th>390490001101000</th>\n",
              "      <td>0.0</td>\n",
              "      <td>2.0</td>\n",
              "      <td>0.0</td>\n",
              "      <td>1.0</td>\n",
              "      <td>0.0</td>\n",
              "      <td>2.0</td>\n",
              "      <td>0.0</td>\n",
              "    </tr>\n",
              "    <tr>\n",
              "      <th>390490001101001</th>\n",
              "      <td>1.0</td>\n",
              "      <td>0.0</td>\n",
              "      <td>0.0</td>\n",
              "      <td>3.0</td>\n",
              "      <td>1.0</td>\n",
              "      <td>1.0</td>\n",
              "      <td>1.0</td>\n",
              "    </tr>\n",
              "    <tr>\n",
              "      <th>390490001101002</th>\n",
              "      <td>43.0</td>\n",
              "      <td>0.0</td>\n",
              "      <td>0.0</td>\n",
              "      <td>0.0</td>\n",
              "      <td>0.0</td>\n",
              "      <td>2.0</td>\n",
              "      <td>1.0</td>\n",
              "    </tr>\n",
              "    <tr>\n",
              "      <th>390490001101003</th>\n",
              "      <td>55.0</td>\n",
              "      <td>5.0</td>\n",
              "      <td>0.0</td>\n",
              "      <td>0.0</td>\n",
              "      <td>0.0</td>\n",
              "      <td>0.0</td>\n",
              "      <td>1.0</td>\n",
              "    </tr>\n",
              "    <tr>\n",
              "      <th>390490001101004</th>\n",
              "      <td>49.0</td>\n",
              "      <td>0.0</td>\n",
              "      <td>0.0</td>\n",
              "      <td>2.0</td>\n",
              "      <td>0.0</td>\n",
              "      <td>0.0</td>\n",
              "      <td>0.0</td>\n",
              "    </tr>\n",
              "    <tr>\n",
              "      <th>...</th>\n",
              "      <td>...</td>\n",
              "      <td>...</td>\n",
              "      <td>...</td>\n",
              "      <td>...</td>\n",
              "      <td>...</td>\n",
              "      <td>...</td>\n",
              "      <td>...</td>\n",
              "    </tr>\n",
              "    <tr>\n",
              "      <th>390499800001070</th>\n",
              "      <td>0.0</td>\n",
              "      <td>0.0</td>\n",
              "      <td>0.0</td>\n",
              "      <td>0.0</td>\n",
              "      <td>0.0</td>\n",
              "      <td>0.0</td>\n",
              "      <td>0.0</td>\n",
              "    </tr>\n",
              "    <tr>\n",
              "      <th>390499800001071</th>\n",
              "      <td>0.0</td>\n",
              "      <td>0.0</td>\n",
              "      <td>0.0</td>\n",
              "      <td>0.0</td>\n",
              "      <td>0.0</td>\n",
              "      <td>0.0</td>\n",
              "      <td>0.0</td>\n",
              "    </tr>\n",
              "    <tr>\n",
              "      <th>390499800001072</th>\n",
              "      <td>0.0</td>\n",
              "      <td>0.0</td>\n",
              "      <td>0.0</td>\n",
              "      <td>0.0</td>\n",
              "      <td>0.0</td>\n",
              "      <td>0.0</td>\n",
              "      <td>0.0</td>\n",
              "    </tr>\n",
              "    <tr>\n",
              "      <th>390499800001073</th>\n",
              "      <td>0.0</td>\n",
              "      <td>0.0</td>\n",
              "      <td>0.0</td>\n",
              "      <td>0.0</td>\n",
              "      <td>0.0</td>\n",
              "      <td>0.0</td>\n",
              "      <td>0.0</td>\n",
              "    </tr>\n",
              "    <tr>\n",
              "      <th>390499800001074</th>\n",
              "      <td>0.0</td>\n",
              "      <td>0.0</td>\n",
              "      <td>0.0</td>\n",
              "      <td>0.0</td>\n",
              "      <td>0.0</td>\n",
              "      <td>0.0</td>\n",
              "      <td>0.0</td>\n",
              "    </tr>\n",
              "  </tbody>\n",
              "</table>\n",
              "<p>22826 rows × 7 columns</p>\n",
              "</div>"
            ],
            "text/plain": [
              "                   00   01   02   03   04   05   06\n",
              "BLK                                                \n",
              "390490001101000   0.0  2.0  0.0  1.0  0.0  2.0  0.0\n",
              "390490001101001   1.0  0.0  0.0  3.0  1.0  1.0  1.0\n",
              "390490001101002  43.0  0.0  0.0  0.0  0.0  2.0  1.0\n",
              "390490001101003  55.0  5.0  0.0  0.0  0.0  0.0  1.0\n",
              "390490001101004  49.0  0.0  0.0  2.0  0.0  0.0  0.0\n",
              "...               ...  ...  ...  ...  ...  ...  ...\n",
              "390499800001070   0.0  0.0  0.0  0.0  0.0  0.0  0.0\n",
              "390499800001071   0.0  0.0  0.0  0.0  0.0  0.0  0.0\n",
              "390499800001072   0.0  0.0  0.0  0.0  0.0  0.0  0.0\n",
              "390499800001073   0.0  0.0  0.0  0.0  0.0  0.0  0.0\n",
              "390499800001074   0.0  0.0  0.0  0.0  0.0  0.0  0.0\n",
              "\n",
              "[22826 rows x 7 columns]"
            ]
          },
          "metadata": {},
          "execution_count": 40
        }
      ]
    },
    {
      "cell_type": "markdown",
      "metadata": {
        "id": "EeZcCSfqrMD7"
      },
      "source": [
        "#####**Impact of resolutions (aggregation levels)**\n",
        "We test the probability of finding a true unique at block, block group, and tract levels. We make comparisons among (1) our results, (2) NHGIS data from the 2021-06-08 vintage of the PPMF, and (3) the OLS estimators. "
      ]
    },
    {
      "cell_type": "markdown",
      "metadata": {
        "id": "3XuguTyHvd0R"
      },
      "source": [
        "Group 1: Franklin County, my data"
      ]
    },
    {
      "cell_type": "code",
      "metadata": {
        "colab": {
          "base_uri": "https://localhost:8080/"
        },
        "id": "uELpCq3krNuk",
        "outputId": "166bd7bf-f29c-41a4-d390-36b6a1bff8f3"
      },
      "source": [
        "## block\n",
        "hist1_blk, hist2_blk = hist1, hist2\n",
        "tu = (hist1_blk == hist2_blk) & (hist1_blk == 1) & (hist2_blk == 1) # find a true unique\n",
        "n_tu = np.unique(tu.values, return_counts=True)[1][1]\n",
        "u = hist2_blk == 1  # uniques after noise injection\n",
        "n_u = np.unique(u.values, return_counts=True)[1][1]\n",
        "p_tu_blk = n_tu / n_u   # frequency of finding the true uniques\n",
        "\n",
        "## block group\n",
        "col_names = hist1.columns.to_numpy()\n",
        "hist1_bg = hist1.groupby(hist1.index.astype(str).str[:12]).sum()\n",
        "hist1_bg.index.name = 'BG'\n",
        "hist2_bg = hist2.groupby(hist2.index.astype(str).str[:12]).sum()\n",
        "hist2_bg.index.name = 'BG'\n",
        "\n",
        "tu = (hist1_bg == hist2_bg) & (hist1_bg == 1) & (hist2_bg == 1) # find a true unique\n",
        "n_tu = np.unique(tu.values, return_counts=True)[1][1]\n",
        "u = hist2_bg == 1  # uniques after noise injection\n",
        "n_u = np.unique(u.values, return_counts=True)[1][1]\n",
        "p_tu_bg = n_tu / n_u   # frequency of finding the true uniques\n",
        "\n",
        "## tract\n",
        "col_names = hist1.columns.to_numpy()\n",
        "hist1_tr = hist1.groupby(hist1.index.astype(str).str[:11]).sum()\n",
        "hist1_tr.index.name = 'TRACT'\n",
        "hist2_tr = hist2.groupby(hist2.index.astype(str).str[:11]).sum()\n",
        "hist2_tr.index.name = 'TRACT'\n",
        "\n",
        "tu = (hist1_tr == hist2_tr) & (hist1_tr == 1) & (hist2_tr == 1) # find a true unique\n",
        "n_tu = np.unique(tu.values, return_counts=True)[1][1]\n",
        "u = hist2_tr == 1  # uniques after noise injection\n",
        "n_u = np.unique(u.values, return_counts=True)[1][1]\n",
        "p_tu_tr = n_tu / n_u   # frequency of finding the true uniques\n",
        "\n",
        "print(p_tu_blk, p_tu_bg, p_tu_tr)"
      ],
      "execution_count": 41,
      "outputs": [
        {
          "output_type": "stream",
          "name": "stdout",
          "text": [
            "0.06568958245466049 0.13142857142857142 0.15384615384615385\n"
          ]
        }
      ]
    },
    {
      "cell_type": "markdown",
      "metadata": {
        "id": "7bnX9BpAvnPQ"
      },
      "source": [
        "Group 2: Franklin County, NHGIS data (2021-06-08)"
      ]
    },
    {
      "cell_type": "code",
      "metadata": {
        "colab": {
          "base_uri": "https://localhost:8080/"
        },
        "id": "GWO22mF4vrB8",
        "outputId": "d82e09eb-380b-4afd-b9b6-639b4e36b3b7"
      },
      "source": [
        "# ppmf\n",
        "import pandas as pd\n",
        "\n",
        "## block\n",
        "filename_nhgis = 'data/nhgis/nhgis_ppdd_20210608_block_OH.csv'\n",
        "data_nhgis = pd.read_csv(filename_nhgis, encoding = \"ISO-8859-1\")\n",
        "data_nhgis = data_nhgis[['H72003_dp', 'H72004_dp', 'H72005_dp', 'H72006_dp', 'H72007_dp', 'H72008_dp', 'H72009_dp', \n",
        "                         'H72003_sf', 'H72004_sf', 'H72005_sf', 'H72006_sf', 'H72007_sf', 'H72008_sf', 'H72009_sf']]\n",
        "hist1_nhgis_blk = data_nhgis[['H72003_sf', 'H72004_sf', 'H72005_sf', 'H72006_sf', 'H72007_sf', 'H72008_sf', 'H72009_sf']]\n",
        "hist1_nhgis_blk = hist1_nhgis_blk.rename(columns={'H72003_sf': '1', 'H72004_sf': '2', 'H72005_sf': '3', 'H72006_sf': '4', \n",
        "                                                  'H72007_sf': '5', 'H72008_sf': '6', 'H72009_sf': '7'})\n",
        "hist2_nhgis_blk = data_nhgis[['H72003_dp', 'H72004_dp', 'H72005_dp', 'H72006_dp', 'H72007_dp', 'H72008_dp', 'H72009_dp']]\n",
        "hist2_nhgis_blk = hist2_nhgis_blk.rename(columns={'H72003_dp': '1', 'H72004_dp': '2', 'H72005_dp': '3', 'H72006_dp': '4', \n",
        "                                                  'H72007_dp': '5', 'H72008_dp': '6', 'H72009_dp': '7'})\n",
        "\n",
        "tu = (hist1_nhgis_blk == hist2_nhgis_blk) & (hist1_nhgis_blk == 1) & (hist2_nhgis_blk == 1) # find a true unique\n",
        "n_tu = np.unique(tu.values, return_counts=True)[1][1]\n",
        "u = hist2_nhgis_blk == 1    # uniques after noise injection\n",
        "n_u = np.unique(u.values, return_counts=True)[1][1]\n",
        "p_tu_nhgis_blk = n_tu / n_u # frequency of finding the true uniques\n",
        "\n",
        "## block group\n",
        "filename_nhgis = 'data/nhgis/nhgis_ppdd_20210608_blck_grp.csv'\n",
        "data_nhgis = pd.read_csv(filename_nhgis, encoding = \"ISO-8859-1\")\n",
        "data_nhgis[\"STATE\"] = data_nhgis[\"gisjoin\"].str.slice(1, 3)\n",
        "data_nhgis['COUNTY'] = data_nhgis[\"gisjoin\"].str.slice(4, 7)\n",
        "data_nhgis = data_nhgis[(data_nhgis[\"STATE\"] == '39') & (data_nhgis[\"COUNTY\"] == '049')]\n",
        "data_nhgis = data_nhgis[['H72003_dp', 'H72004_dp', 'H72005_dp', 'H72006_dp', 'H72007_dp', 'H72008_dp', 'H72009_dp', \n",
        "                         'H72003_sf', 'H72004_sf', 'H72005_sf', 'H72006_sf', 'H72007_sf', 'H72008_sf', 'H72009_sf']]\n",
        "hist1_nhgis_bg = data_nhgis[['H72003_sf', 'H72004_sf', 'H72005_sf', 'H72006_sf', 'H72007_sf', 'H72008_sf', 'H72009_sf']]\n",
        "hist1_nhgis_bg = hist1_nhgis_bg.rename(columns={'H72003_sf': '1', 'H72004_sf': '2', 'H72005_sf': '3', 'H72006_sf': '4', \n",
        "                                                  'H72007_sf': '5', 'H72008_sf': '6', 'H72009_sf': '7'})\n",
        "hist2_nhgis_bg = data_nhgis[['H72003_dp', 'H72004_dp', 'H72005_dp', 'H72006_dp', 'H72007_dp', 'H72008_dp', 'H72009_dp']]\n",
        "hist2_nhgis_bg = hist2_nhgis_bg.rename(columns={'H72003_dp': '1', 'H72004_dp': '2', 'H72005_dp': '3', 'H72006_dp': '4', \n",
        "                                                  'H72007_dp': '5', 'H72008_dp': '6', 'H72009_dp': '7'})\n",
        "\n",
        "tu = (hist1_nhgis_bg == hist2_nhgis_bg) & (hist1_nhgis_bg == 1) & (hist2_nhgis_bg == 1) # find a true unique\n",
        "n_tu = np.unique(tu.values, return_counts=True)[1][1]\n",
        "u = hist2_nhgis_bg == 1    # uniques after noise injection\n",
        "n_u = np.unique(u.values, return_counts=True)[1][1]\n",
        "p_tu_nhgis_bg = n_tu / n_u # frequency of finding the true uniques\n",
        "\n",
        "## tract\n",
        "filename_nhgis = 'data/nhgis/nhgis_ppdd_20210608_tract.csv'\n",
        "data_nhgis = pd.read_csv(filename_nhgis, encoding = \"ISO-8859-1\")\n",
        "data_nhgis[\"STATE\"] = data_nhgis[\"gisjoin\"].str.slice(1, 3)\n",
        "data_nhgis['COUNTY'] = data_nhgis[\"gisjoin\"].str.slice(4, 7)\n",
        "data_nhgis = data_nhgis[(data_nhgis[\"STATE\"] == '39') & (data_nhgis[\"COUNTY\"] == '049')]\n",
        "data_nhgis = data_nhgis[['H72003_dp', 'H72004_dp', 'H72005_dp', 'H72006_dp', 'H72007_dp', 'H72008_dp', 'H72009_dp', \n",
        "                         'H72003_sf', 'H72004_sf', 'H72005_sf', 'H72006_sf', 'H72007_sf', 'H72008_sf', 'H72009_sf']]\n",
        "hist1_nhgis_tr = data_nhgis[['H72003_sf', 'H72004_sf', 'H72005_sf', 'H72006_sf', 'H72007_sf', 'H72008_sf', 'H72009_sf']]\n",
        "hist1_nhgis_tr = hist1_nhgis_tr.rename(columns={'H72003_sf': '1', 'H72004_sf': '2', 'H72005_sf': '3', 'H72006_sf': '4', \n",
        "                                                  'H72007_sf': '5', 'H72008_sf': '6', 'H72009_sf': '7'})\n",
        "hist2_nhgis_tr = data_nhgis[['H72003_dp', 'H72004_dp', 'H72005_dp', 'H72006_dp', 'H72007_dp', 'H72008_dp', 'H72009_dp']]\n",
        "hist2_nhgis_tr = hist2_nhgis_tr.rename(columns={'H72003_dp': '1', 'H72004_dp': '2', 'H72005_dp': '3', 'H72006_dp': '4', \n",
        "                                                  'H72007_dp': '5', 'H72008_dp': '6', 'H72009_dp': '7'})\n",
        "\n",
        "tu = (hist1_nhgis_tr == hist2_nhgis_tr) & (hist1_nhgis_tr == 1) & (hist2_nhgis_tr == 1) # find a true unique\n",
        "n_tu = np.unique(tu.values, return_counts=True)[1][1]\n",
        "u = hist2_nhgis_tr == 1    # uniques after noise injection\n",
        "n_u = np.unique(u.values, return_counts=True)[1][1]\n",
        "p_tu_nhgis_tr = n_tu / n_u # frequency of finding the true uniques\n",
        "\n",
        "print(p_tu_nhgis_blk, p_tu_nhgis_bg, p_tu_nhgis_tr)"
      ],
      "execution_count": 47,
      "outputs": [
        {
          "output_type": "stream",
          "name": "stdout",
          "text": [
            "0.09278543777592396 0.2316715542521994 0.18181818181818182\n"
          ]
        }
      ]
    },
    {
      "cell_type": "markdown",
      "metadata": {
        "id": "EksTgJrpyq7z"
      },
      "source": [
        "Group 3: Franklin County, OLS"
      ]
    },
    {
      "cell_type": "code",
      "metadata": {
        "id": "8dgv8YF-RiME"
      },
      "source": [
        ""
      ],
      "execution_count": null,
      "outputs": []
    },
    {
      "cell_type": "markdown",
      "metadata": {
        "id": "6aR_Cvazj5i8"
      },
      "source": [
        "#### **Add noises (Zero-concentrated differential privacy)**\n",
        "There are two core components to the 2020 DAS: noise injection and post-processing. We only focus on the noise injection here. Consistent with the 2020 DAS, discrete Gaussian noise is applied.\n",
        "\n",
        "Bun, M., & Steinke, T. (2016, November). Concentrated differential privacy: Simplifications, extensions, and lower bounds. In Theory of Cryptography Conference (pp. 635-658). Springer, Berlin, Heidelberg."
      ]
    },
    {
      "cell_type": "markdown",
      "metadata": {
        "id": "pPVBCJgakEH_"
      },
      "source": [
        "Parameters for generating Gaussian noise."
      ]
    },
    {
      "cell_type": "code",
      "metadata": {
        "colab": {
          "base_uri": "https://localhost:8080/"
        },
        "id": "J-IMj2nFqOzE",
        "outputId": "fe7ef763-db96-4e66-ccb3-35693c154b6d"
      },
      "source": [
        "%cd \"/content/gdrive/My Drive/Colab Notebooks/census_privacy\"\n",
        "import math\n",
        "from fractions import Fraction\n",
        "\n",
        "import lib.discretegauss as discretegauss\n",
        "import lib.cdp2adp as cdp2adp\n",
        "\n",
        "eps = 17.14\n",
        "delta = 1e-10\n",
        "# convert to concentrated DP\n",
        "rho = cdp2adp.cdp_rho(eps, delta)\n",
        "print(str(rho) + \"-CDP implies (\" + str(eps) + \",\" + str(delta) + \")-DP\")\n",
        "rho_per_q = Fraction(rho) * 9/4097 * 165/4099\n",
        "rho_per_q\n",
        "# compute noise variance parameter per query\n",
        "sigma2 = 2 ** 2 / (2 * rho_per_q)\n",
        "# actual variance, at most sigma2\n",
        "var = discretegauss.variance(sigma2)\n",
        "print(\"standard deviation for each count = \" + str(math.sqrt(var)))"
      ],
      "execution_count": null,
      "outputs": [
        {
          "output_type": "stream",
          "name": "stdout",
          "text": [
            "/content/gdrive/My Drive/Colab Notebooks/census_privacy\n",
            "2.5553177660014468-CDP implies (17.14,1e-10)-DP\n",
            "standard deviation for each count = 94.0808548569315\n"
          ]
        }
      ]
    },
    {
      "cell_type": "code",
      "metadata": {
        "colab": {
          "base_uri": "https://localhost:8080/",
          "height": 447
        },
        "id": "ePauzf4Qjncr",
        "outputId": "1fbad335-976b-4c04-edd8-6728a3c1a591"
      },
      "source": [
        "hist2 = hist1 + np.round(np.random.normal(0, math.sqrt(sigma2), size=(hist1.shape)), 0)\n",
        "hist2"
      ],
      "execution_count": null,
      "outputs": [
        {
          "output_type": "execute_result",
          "data": {
            "text/html": [
              "<div>\n",
              "<style scoped>\n",
              "    .dataframe tbody tr th:only-of-type {\n",
              "        vertical-align: middle;\n",
              "    }\n",
              "\n",
              "    .dataframe tbody tr th {\n",
              "        vertical-align: top;\n",
              "    }\n",
              "\n",
              "    .dataframe thead th {\n",
              "        text-align: right;\n",
              "    }\n",
              "</style>\n",
              "<table border=\"1\" class=\"dataframe\">\n",
              "  <thead>\n",
              "    <tr style=\"text-align: right;\">\n",
              "      <th>race</th>\n",
              "      <th>1</th>\n",
              "      <th>2</th>\n",
              "      <th>3</th>\n",
              "      <th>4</th>\n",
              "      <th>5</th>\n",
              "      <th>6</th>\n",
              "      <th>7</th>\n",
              "    </tr>\n",
              "    <tr>\n",
              "      <th>GEOID10</th>\n",
              "      <th></th>\n",
              "      <th></th>\n",
              "      <th></th>\n",
              "      <th></th>\n",
              "      <th></th>\n",
              "      <th></th>\n",
              "      <th></th>\n",
              "    </tr>\n",
              "  </thead>\n",
              "  <tbody>\n",
              "    <tr>\n",
              "      <th>390490001101001</th>\n",
              "      <td>-7.0</td>\n",
              "      <td>-3.0</td>\n",
              "      <td>-5.0</td>\n",
              "      <td>7.0</td>\n",
              "      <td>3.0</td>\n",
              "      <td>1.0</td>\n",
              "      <td>4.0</td>\n",
              "    </tr>\n",
              "    <tr>\n",
              "      <th>390490001101002</th>\n",
              "      <td>54.0</td>\n",
              "      <td>16.0</td>\n",
              "      <td>0.0</td>\n",
              "      <td>3.0</td>\n",
              "      <td>3.0</td>\n",
              "      <td>-8.0</td>\n",
              "      <td>5.0</td>\n",
              "    </tr>\n",
              "    <tr>\n",
              "      <th>390490001101003</th>\n",
              "      <td>55.0</td>\n",
              "      <td>6.0</td>\n",
              "      <td>13.0</td>\n",
              "      <td>-1.0</td>\n",
              "      <td>-4.0</td>\n",
              "      <td>-6.0</td>\n",
              "      <td>-1.0</td>\n",
              "    </tr>\n",
              "    <tr>\n",
              "      <th>390490001101004</th>\n",
              "      <td>50.0</td>\n",
              "      <td>0.0</td>\n",
              "      <td>0.0</td>\n",
              "      <td>0.0</td>\n",
              "      <td>-3.0</td>\n",
              "      <td>5.0</td>\n",
              "      <td>5.0</td>\n",
              "    </tr>\n",
              "    <tr>\n",
              "      <th>390490001101005</th>\n",
              "      <td>50.0</td>\n",
              "      <td>1.0</td>\n",
              "      <td>-4.0</td>\n",
              "      <td>6.0</td>\n",
              "      <td>4.0</td>\n",
              "      <td>-22.0</td>\n",
              "      <td>8.0</td>\n",
              "    </tr>\n",
              "    <tr>\n",
              "      <th>...</th>\n",
              "      <td>...</td>\n",
              "      <td>...</td>\n",
              "      <td>...</td>\n",
              "      <td>...</td>\n",
              "      <td>...</td>\n",
              "      <td>...</td>\n",
              "      <td>...</td>\n",
              "    </tr>\n",
              "    <tr>\n",
              "      <th>390490107001015</th>\n",
              "      <td>104.0</td>\n",
              "      <td>22.0</td>\n",
              "      <td>2.0</td>\n",
              "      <td>5.0</td>\n",
              "      <td>-2.0</td>\n",
              "      <td>0.0</td>\n",
              "      <td>11.0</td>\n",
              "    </tr>\n",
              "    <tr>\n",
              "      <th>390490107001016</th>\n",
              "      <td>17.0</td>\n",
              "      <td>6.0</td>\n",
              "      <td>-4.0</td>\n",
              "      <td>1.0</td>\n",
              "      <td>12.0</td>\n",
              "      <td>14.0</td>\n",
              "      <td>-4.0</td>\n",
              "    </tr>\n",
              "    <tr>\n",
              "      <th>390490107001017</th>\n",
              "      <td>40.0</td>\n",
              "      <td>-1.0</td>\n",
              "      <td>0.0</td>\n",
              "      <td>11.0</td>\n",
              "      <td>18.0</td>\n",
              "      <td>-8.0</td>\n",
              "      <td>3.0</td>\n",
              "    </tr>\n",
              "    <tr>\n",
              "      <th>390490107001020</th>\n",
              "      <td>158.0</td>\n",
              "      <td>18.0</td>\n",
              "      <td>-9.0</td>\n",
              "      <td>8.0</td>\n",
              "      <td>-8.0</td>\n",
              "      <td>-3.0</td>\n",
              "      <td>-5.0</td>\n",
              "    </tr>\n",
              "    <tr>\n",
              "      <th>390499800001027</th>\n",
              "      <td>0.0</td>\n",
              "      <td>-12.0</td>\n",
              "      <td>1.0</td>\n",
              "      <td>1.0</td>\n",
              "      <td>-10.0</td>\n",
              "      <td>-12.0</td>\n",
              "      <td>-3.0</td>\n",
              "    </tr>\n",
              "  </tbody>\n",
              "</table>\n",
              "<p>15127 rows × 7 columns</p>\n",
              "</div>"
            ],
            "text/plain": [
              "race                 1     2     3     4     5     6     7\n",
              "GEOID10                                                   \n",
              "390490001101001   -7.0  -3.0  -5.0   7.0   3.0   1.0   4.0\n",
              "390490001101002   54.0  16.0   0.0   3.0   3.0  -8.0   5.0\n",
              "390490001101003   55.0   6.0  13.0  -1.0  -4.0  -6.0  -1.0\n",
              "390490001101004   50.0   0.0   0.0   0.0  -3.0   5.0   5.0\n",
              "390490001101005   50.0   1.0  -4.0   6.0   4.0 -22.0   8.0\n",
              "...                ...   ...   ...   ...   ...   ...   ...\n",
              "390490107001015  104.0  22.0   2.0   5.0  -2.0   0.0  11.0\n",
              "390490107001016   17.0   6.0  -4.0   1.0  12.0  14.0  -4.0\n",
              "390490107001017   40.0  -1.0   0.0  11.0  18.0  -8.0   3.0\n",
              "390490107001020  158.0  18.0  -9.0   8.0  -8.0  -3.0  -5.0\n",
              "390499800001027    0.0 -12.0   1.0   1.0 -10.0 -12.0  -3.0\n",
              "\n",
              "[15127 rows x 7 columns]"
            ]
          },
          "metadata": {},
          "execution_count": 30
        }
      ]
    },
    {
      "cell_type": "markdown",
      "metadata": {
        "id": "KMQVJ_rzvGCU"
      },
      "source": [
        "Add noise to histogram."
      ]
    },
    {
      "cell_type": "code",
      "metadata": {
        "colab": {
          "base_uri": "https://localhost:8080/",
          "height": 464
        },
        "id": "Xhagd-wJAsPX",
        "outputId": "36a30466-6269-469a-d6b9-e993b6a6b5f9"
      },
      "source": [
        "%cd \"/content/gdrive/My Drive/Colab Notebooks/census_privacy\"\n",
        "import lib.discretegauss as discretegauss\n",
        "\n",
        "noise = np.empty(hist1.shape, dtype=int)\n",
        "for i in range(hist1.shape[0]):\n",
        "    for j in range(hist1.shape[1]):\n",
        "        noise[i, j] = discretegauss.sample_dgauss(sigma2)\n",
        "\n",
        "hist2 = hist1 + noise\n",
        "hist2"
      ],
      "execution_count": null,
      "outputs": [
        {
          "output_type": "stream",
          "name": "stdout",
          "text": [
            "/content/gdrive/My Drive/Colab Notebooks/census_privacy\n"
          ]
        },
        {
          "output_type": "execute_result",
          "data": {
            "text/html": [
              "<div>\n",
              "<style scoped>\n",
              "    .dataframe tbody tr th:only-of-type {\n",
              "        vertical-align: middle;\n",
              "    }\n",
              "\n",
              "    .dataframe tbody tr th {\n",
              "        vertical-align: top;\n",
              "    }\n",
              "\n",
              "    .dataframe thead th {\n",
              "        text-align: right;\n",
              "    }\n",
              "</style>\n",
              "<table border=\"1\" class=\"dataframe\">\n",
              "  <thead>\n",
              "    <tr style=\"text-align: right;\">\n",
              "      <th>race</th>\n",
              "      <th>1</th>\n",
              "      <th>2</th>\n",
              "      <th>3</th>\n",
              "      <th>4</th>\n",
              "      <th>5</th>\n",
              "      <th>6</th>\n",
              "      <th>7</th>\n",
              "    </tr>\n",
              "    <tr>\n",
              "      <th>GEOID10</th>\n",
              "      <th></th>\n",
              "      <th></th>\n",
              "      <th></th>\n",
              "      <th></th>\n",
              "      <th></th>\n",
              "      <th></th>\n",
              "      <th></th>\n",
              "    </tr>\n",
              "  </thead>\n",
              "  <tbody>\n",
              "    <tr>\n",
              "      <th>390490001101001</th>\n",
              "      <td>12</td>\n",
              "      <td>-132</td>\n",
              "      <td>-40</td>\n",
              "      <td>71</td>\n",
              "      <td>73</td>\n",
              "      <td>-41</td>\n",
              "      <td>149</td>\n",
              "    </tr>\n",
              "    <tr>\n",
              "      <th>390490001101002</th>\n",
              "      <td>124</td>\n",
              "      <td>219</td>\n",
              "      <td>-113</td>\n",
              "      <td>41</td>\n",
              "      <td>10</td>\n",
              "      <td>-20</td>\n",
              "      <td>76</td>\n",
              "    </tr>\n",
              "    <tr>\n",
              "      <th>390490001101003</th>\n",
              "      <td>99</td>\n",
              "      <td>-44</td>\n",
              "      <td>-52</td>\n",
              "      <td>123</td>\n",
              "      <td>114</td>\n",
              "      <td>99</td>\n",
              "      <td>26</td>\n",
              "    </tr>\n",
              "    <tr>\n",
              "      <th>390490001101004</th>\n",
              "      <td>-150</td>\n",
              "      <td>-31</td>\n",
              "      <td>138</td>\n",
              "      <td>-17</td>\n",
              "      <td>98</td>\n",
              "      <td>-26</td>\n",
              "      <td>50</td>\n",
              "    </tr>\n",
              "    <tr>\n",
              "      <th>390490001101005</th>\n",
              "      <td>156</td>\n",
              "      <td>-155</td>\n",
              "      <td>-14</td>\n",
              "      <td>-75</td>\n",
              "      <td>-104</td>\n",
              "      <td>-93</td>\n",
              "      <td>-9</td>\n",
              "    </tr>\n",
              "    <tr>\n",
              "      <th>...</th>\n",
              "      <td>...</td>\n",
              "      <td>...</td>\n",
              "      <td>...</td>\n",
              "      <td>...</td>\n",
              "      <td>...</td>\n",
              "      <td>...</td>\n",
              "      <td>...</td>\n",
              "    </tr>\n",
              "    <tr>\n",
              "      <th>390490107001015</th>\n",
              "      <td>-6</td>\n",
              "      <td>138</td>\n",
              "      <td>106</td>\n",
              "      <td>51</td>\n",
              "      <td>187</td>\n",
              "      <td>12</td>\n",
              "      <td>128</td>\n",
              "    </tr>\n",
              "    <tr>\n",
              "      <th>390490107001016</th>\n",
              "      <td>-55</td>\n",
              "      <td>97</td>\n",
              "      <td>36</td>\n",
              "      <td>72</td>\n",
              "      <td>-59</td>\n",
              "      <td>-58</td>\n",
              "      <td>32</td>\n",
              "    </tr>\n",
              "    <tr>\n",
              "      <th>390490107001017</th>\n",
              "      <td>24</td>\n",
              "      <td>-38</td>\n",
              "      <td>-117</td>\n",
              "      <td>-174</td>\n",
              "      <td>-1</td>\n",
              "      <td>-79</td>\n",
              "      <td>145</td>\n",
              "    </tr>\n",
              "    <tr>\n",
              "      <th>390490107001020</th>\n",
              "      <td>43</td>\n",
              "      <td>166</td>\n",
              "      <td>67</td>\n",
              "      <td>-69</td>\n",
              "      <td>-84</td>\n",
              "      <td>25</td>\n",
              "      <td>222</td>\n",
              "    </tr>\n",
              "    <tr>\n",
              "      <th>390499800001027</th>\n",
              "      <td>37</td>\n",
              "      <td>-129</td>\n",
              "      <td>123</td>\n",
              "      <td>-55</td>\n",
              "      <td>80</td>\n",
              "      <td>-44</td>\n",
              "      <td>17</td>\n",
              "    </tr>\n",
              "  </tbody>\n",
              "</table>\n",
              "<p>15127 rows × 7 columns</p>\n",
              "</div>"
            ],
            "text/plain": [
              "race               1    2    3    4    5   6    7\n",
              "GEOID10                                          \n",
              "390490001101001   12 -132  -40   71   73 -41  149\n",
              "390490001101002  124  219 -113   41   10 -20   76\n",
              "390490001101003   99  -44  -52  123  114  99   26\n",
              "390490001101004 -150  -31  138  -17   98 -26   50\n",
              "390490001101005  156 -155  -14  -75 -104 -93   -9\n",
              "...              ...  ...  ...  ...  ...  ..  ...\n",
              "390490107001015   -6  138  106   51  187  12  128\n",
              "390490107001016  -55   97   36   72  -59 -58   32\n",
              "390490107001017   24  -38 -117 -174   -1 -79  145\n",
              "390490107001020   43  166   67  -69  -84  25  222\n",
              "390499800001027   37 -129  123  -55   80 -44   17\n",
              "\n",
              "[15127 rows x 7 columns]"
            ]
          },
          "metadata": {},
          "execution_count": 20
        }
      ]
    },
    {
      "cell_type": "markdown",
      "metadata": {
        "id": "KzDk5nC0yKiI"
      },
      "source": [
        "####**Cell uniqueness**\n",
        "Young, C., Martin, D., & Skinner, C. (2009). Geographically intelligent disclosure control for flexible aggregation of census data. International Journal of Geographical Information Science, 23(4), 457-482.\n",
        "\n",
        "Privacy measure: probability of finding a true unique"
      ]
    },
    {
      "cell_type": "code",
      "metadata": {
        "colab": {
          "base_uri": "https://localhost:8080/"
        },
        "id": "nLNB98iXyPj1",
        "outputId": "b21bde0d-b396-4de4-c477-16f46513c1a6"
      },
      "source": [
        "# find a true unique\n",
        "tu = (hist1 == hist2) & (hist1 == 1) & (hist2 == 1)\n",
        "n_tu = np.unique(tu.values, return_counts=True)[1][1]\n",
        "n_tu"
      ],
      "execution_count": 19,
      "outputs": [
        {
          "output_type": "execute_result",
          "data": {
            "text/plain": [
              "623"
            ]
          },
          "metadata": {},
          "execution_count": 19
        }
      ]
    },
    {
      "cell_type": "code",
      "metadata": {
        "colab": {
          "base_uri": "https://localhost:8080/"
        },
        "id": "c9dGf3LC4d7_",
        "outputId": "292eea92-6764-4182-fb76-6fa783cef795"
      },
      "source": [
        "# uniques after noise injection\n",
        "u = hist2 == 1\n",
        "n_u = np.unique(u.values, return_counts=True)[1][1]\n",
        "n_u"
      ],
      "execution_count": 20,
      "outputs": [
        {
          "output_type": "execute_result",
          "data": {
            "text/plain": [
              "9484"
            ]
          },
          "metadata": {},
          "execution_count": 20
        }
      ]
    },
    {
      "cell_type": "code",
      "metadata": {
        "colab": {
          "base_uri": "https://localhost:8080/"
        },
        "id": "fd73PgPg4nz7",
        "outputId": "849bc95f-a6ea-4d04-9966-4a1a2da3c2f5"
      },
      "source": [
        "# frequency of finding the true uniques\n",
        "p_tu = n_tu / n_u\n",
        "p_tu"
      ],
      "execution_count": 21,
      "outputs": [
        {
          "output_type": "execute_result",
          "data": {
            "text/plain": [
              "0.06568958245466049"
            ]
          },
          "metadata": {},
          "execution_count": 21
        }
      ]
    },
    {
      "cell_type": "markdown",
      "metadata": {
        "id": "4HDpGpvHcXUM"
      },
      "source": [
        "Let $A_i$ = {cell = $i$ before noise injection}, and the noise be $W\\sim N(0,\\sigma^2)$. A true unique (TU) is a cell = 1 before and after noise injection. The probability of finding a true unique can be defined using the Bayes' theorem:\n",
        "\n",
        "$p(TU)=\\frac{p(W=0)p(A_1)}{\\sum_ip(W=1-i)p(A_i)}$\n",
        "\n",
        "\n",
        "$p(TU)$ is large if (i) the histogram is dominantly \"unique\", (ii) non-unique cells have relatively large values, and/or (iii) the privacy budget is large."
      ]
    },
    {
      "cell_type": "code",
      "metadata": {
        "colab": {
          "base_uri": "https://localhost:8080/"
        },
        "id": "1CE869uxc5x-",
        "outputId": "fecadc4f-2229-4cc4-f74e-0a4fa469e803"
      },
      "source": [
        "import scipy.stats\n",
        "\n",
        "column_values = hist1[hist1.columns].values.ravel()\n",
        "A = pd.unique(column_values)\n",
        "\n",
        "probs = []\n",
        "for i in A:\n",
        "    p1 = scipy.stats.norm(0, sigma).cdf(0.5 - i) - scipy.stats.norm(0, sigma).cdf(1.5 - i)\n",
        "    u0 = hist1 == i\n",
        "    p2 = np.unique(u0.values, return_counts=True)[1][1] / (np.unique(u0.values, return_counts=True)[1][1] + \n",
        "                                                           np.unique(u0.values, return_counts=True)[1][0])\n",
        "    probs.append(p1 * p2)\n",
        "\n",
        "p3 = scipy.stats.norm(0, sigma).cdf(-0.5) - scipy.stats.norm(0, sigma).cdf(0.5)\n",
        "u0 = hist1 == 1\n",
        "p4 = np.unique(u0.values, return_counts=True)[1][1] / (np.unique(u0.values, return_counts=True)[1][1] + \n",
        "                                                       np.unique(u0.values, return_counts=True)[1][0])\n",
        "p_tu = p3 * p4 / sum(probs)\n",
        "p_tu"
      ],
      "execution_count": null,
      "outputs": [
        {
          "output_type": "execute_result",
          "data": {
            "text/plain": [
              "0.06967364027048083"
            ]
          },
          "metadata": {},
          "execution_count": 22
        }
      ]
    },
    {
      "cell_type": "markdown",
      "metadata": {
        "id": "rQ1i-cbNdbc_"
      },
      "source": [
        "We also use a Monte Carlo method to calculate the expected frequency (probability) of finding the true uniques. The result is consistent with the theoretical value."
      ]
    },
    {
      "cell_type": "code",
      "metadata": {
        "colab": {
          "base_uri": "https://localhost:8080/"
        },
        "id": "y8OG9nTl8SQE",
        "outputId": "cbc1c764-c3df-44a0-ea0b-12d0ad88a85f"
      },
      "source": [
        "import statistics\n",
        "import numpy as np\n",
        "\n",
        "N = 1000    # bootstrap times\n",
        "p_tus = []\n",
        "\n",
        "for i in range(N):\n",
        "    hist2 = hist1 + np.round(np.random.normal(0, sigma, size=(hist1.shape)), 0)\n",
        "    # find a true unique\n",
        "    tu = (hist1 == hist2) & (hist1 == 1) & (hist2 == 1)\n",
        "    n_tu = np.unique(tu.values, return_counts=True)[1][1]\n",
        "    # uniques after noise injection\n",
        "    u = hist2 == 1\n",
        "    n_u = np.unique(u.values, return_counts=True)[1][1]\n",
        "    # frequency of finding the true uniques\n",
        "    p_tu = n_tu / n_u\n",
        "    p_tus.append(p_tu)\n",
        "\n",
        "statistics.mean(p_tus)"
      ],
      "execution_count": null,
      "outputs": [
        {
          "output_type": "execute_result",
          "data": {
            "text/plain": [
              "0.0790808269701855"
            ]
          },
          "metadata": {},
          "execution_count": 109
        }
      ]
    },
    {
      "cell_type": "markdown",
      "metadata": {
        "id": "AjhQwN2SkimP"
      },
      "source": [
        "Compare with the Privacy-Protected 2010 Census Demonstration Data derived from the 2021-06-08 vintage of the PPMF. The result shows that after post-processing, the $p(TU)$ is potentially larger than that calculated immediately after noise injection."
      ]
    },
    {
      "cell_type": "code",
      "metadata": {
        "colab": {
          "base_uri": "https://localhost:8080/"
        },
        "id": "TvK9f0hTwvp_",
        "outputId": "95d9d62a-4dd0-40bc-db8e-0f512700e3a3"
      },
      "source": [
        "%cd \"/content/gdrive/My Drive/Colab Notebooks/census_privacy\"\n",
        "import pandas as pd\n",
        "\n",
        "filename_nhgis_block = 'franklin/nhgis/franklin_nhgis_block.csv'\n",
        "nhgis_block = pd.read_csv(filename_nhgis_block)\n",
        "\n",
        "hist1_nhgis = nhgis_block[['H72003_sf', 'H72004_sf', 'H72005_sf', 'H72006_sf', 'H72007_sf', 'H72008_sf', 'H72009_sf']]\n",
        "hist1_nhgis = hist1_nhgis.rename(columns={'H72003_sf': '1', 'H72004_sf': '2', 'H72005_sf': '3', 'H72006_sf': '4', 'H72007_sf': '5', 'H72008_sf': '6', \n",
        "                                          'H72009_sf': '7'})\n",
        "hist2_nhgis = nhgis_block[['H72003_dp', 'H72004_dp', 'H72005_dp', 'H72006_dp', 'H72007_dp', 'H72008_dp', 'H72009_dp']]\n",
        "hist2_nhgis = hist2_nhgis.rename(columns={'H72003_dp': '1', 'H72004_dp': '2', 'H72005_dp': '3', 'H72006_dp': '4', 'H72007_dp': '5', 'H72008_dp': '6', \n",
        "                                          'H72009_dp': '7'})\n",
        "\n",
        "# find a true unique\n",
        "tu = (hist1_nhgis == hist2_nhgis) & (hist1_nhgis == 1) & (hist2_nhgis == 1)\n",
        "n_tu = np.unique(tu.values, return_counts=True)[1][1]\n",
        "# uniques after noise injection\n",
        "u = hist2_nhgis == 1\n",
        "n_u = np.unique(u.values, return_counts=True)[1][1]\n",
        "# frequency of finding the true uniques\n",
        "p_tu_nhgis = n_tu / n_u\n",
        "p_tu_nhgis"
      ],
      "execution_count": null,
      "outputs": [
        {
          "output_type": "stream",
          "name": "stdout",
          "text": [
            "/content/gdrive/My Drive/Colab Notebooks/census_privacy\n"
          ]
        },
        {
          "output_type": "execute_result",
          "data": {
            "text/plain": [
              "0.11636167922497309"
            ]
          },
          "metadata": {},
          "execution_count": 110
        }
      ]
    },
    {
      "cell_type": "markdown",
      "metadata": {
        "id": "FJoHrlwkbPK7"
      },
      "source": [
        "We also compare the results with that derived in the Guernsey county, which only has a population of 40,087."
      ]
    },
    {
      "cell_type": "code",
      "metadata": {
        "colab": {
          "base_uri": "https://localhost:8080/",
          "height": 220
        },
        "id": "UfdS2mILej9i",
        "outputId": "1e14e0f0-8889-44a2-9689-8dba50c89d83"
      },
      "source": [
        "%cd \"/content/gdrive/My Drive/Colab Notebooks/census_privacy\"\n",
        "import pandas as pd\n",
        "import seaborn as sns\n",
        "\n",
        "filename_people_g = 'guernsey/microdata/guernsey_people_all.csv'\n",
        "data_people_g = pd.read_csv(filename_people_g)\n",
        "data_people_g['GEOID10'] = data_people_g['GEOID10'].astype(str)\n",
        "data_people_g['BGID10'] = data_people_g['GEOID10'].str[:12]\n",
        "data_people_g['TRACTID10'] = data_people_g['GEOID10'].str[:11]\n",
        "data_people_g.head()"
      ],
      "execution_count": null,
      "outputs": [
        {
          "output_type": "stream",
          "name": "stdout",
          "text": [
            "/content/gdrive/My Drive/Colab Notebooks/census_privacy\n"
          ]
        },
        {
          "output_type": "execute_result",
          "data": {
            "text/html": [
              "<div>\n",
              "<style scoped>\n",
              "    .dataframe tbody tr th:only-of-type {\n",
              "        vertical-align: middle;\n",
              "    }\n",
              "\n",
              "    .dataframe tbody tr th {\n",
              "        vertical-align: top;\n",
              "    }\n",
              "\n",
              "    .dataframe thead th {\n",
              "        text-align: right;\n",
              "    }\n",
              "</style>\n",
              "<table border=\"1\" class=\"dataframe\">\n",
              "  <thead>\n",
              "    <tr style=\"text-align: right;\">\n",
              "      <th></th>\n",
              "      <th>GEOID10</th>\n",
              "      <th>race</th>\n",
              "      <th>sex</th>\n",
              "      <th>age</th>\n",
              "      <th>age_v</th>\n",
              "      <th>BGID10</th>\n",
              "      <th>TRACTID10</th>\n",
              "    </tr>\n",
              "  </thead>\n",
              "  <tbody>\n",
              "    <tr>\n",
              "      <th>0</th>\n",
              "      <td>390599771001005</td>\n",
              "      <td>1</td>\n",
              "      <td>1</td>\n",
              "      <td>1</td>\n",
              "      <td>1</td>\n",
              "      <td>390599771001</td>\n",
              "      <td>39059977100</td>\n",
              "    </tr>\n",
              "    <tr>\n",
              "      <th>1</th>\n",
              "      <td>390599771001005</td>\n",
              "      <td>1</td>\n",
              "      <td>1</td>\n",
              "      <td>1</td>\n",
              "      <td>1</td>\n",
              "      <td>390599771001</td>\n",
              "      <td>39059977100</td>\n",
              "    </tr>\n",
              "    <tr>\n",
              "      <th>2</th>\n",
              "      <td>390599771001005</td>\n",
              "      <td>1</td>\n",
              "      <td>1</td>\n",
              "      <td>1</td>\n",
              "      <td>2</td>\n",
              "      <td>390599771001</td>\n",
              "      <td>39059977100</td>\n",
              "    </tr>\n",
              "    <tr>\n",
              "      <th>3</th>\n",
              "      <td>390599771001005</td>\n",
              "      <td>1</td>\n",
              "      <td>1</td>\n",
              "      <td>1</td>\n",
              "      <td>0</td>\n",
              "      <td>390599771001</td>\n",
              "      <td>39059977100</td>\n",
              "    </tr>\n",
              "    <tr>\n",
              "      <th>4</th>\n",
              "      <td>390599771001005</td>\n",
              "      <td>1</td>\n",
              "      <td>1</td>\n",
              "      <td>1</td>\n",
              "      <td>2</td>\n",
              "      <td>390599771001</td>\n",
              "      <td>39059977100</td>\n",
              "    </tr>\n",
              "  </tbody>\n",
              "</table>\n",
              "</div>"
            ],
            "text/plain": [
              "           GEOID10  race  sex  age  age_v        BGID10    TRACTID10\n",
              "0  390599771001005     1    1    1      1  390599771001  39059977100\n",
              "1  390599771001005     1    1    1      1  390599771001  39059977100\n",
              "2  390599771001005     1    1    1      2  390599771001  39059977100\n",
              "3  390599771001005     1    1    1      0  390599771001  39059977100\n",
              "4  390599771001005     1    1    1      2  390599771001  39059977100"
            ]
          },
          "metadata": {},
          "execution_count": 111
        }
      ]
    },
    {
      "cell_type": "code",
      "metadata": {
        "colab": {
          "base_uri": "https://localhost:8080/",
          "height": 335
        },
        "id": "Ll9FFHP0beuo",
        "outputId": "a78aba54-c90d-4f2e-b814-7c0215aecedd"
      },
      "source": [
        "import seaborn as sns\n",
        "\n",
        "hist1_g = pd.crosstab(data_people_g.GEOID10, data_people_g.race)\n",
        "probabilities = hist1_g.stack().value_counts(normalize=True)    \n",
        "sns.barplot(probabilities.index, probabilities.values).set(xlim=(0, 10))"
      ],
      "execution_count": null,
      "outputs": [
        {
          "output_type": "stream",
          "name": "stderr",
          "text": [
            "/usr/local/lib/python3.7/dist-packages/seaborn/_decorators.py:43: FutureWarning: Pass the following variables as keyword args: x, y. From version 0.12, the only valid positional argument will be `data`, and passing other arguments without an explicit keyword will result in an error or misinterpretation.\n",
            "  FutureWarning\n"
          ]
        },
        {
          "output_type": "execute_result",
          "data": {
            "text/plain": [
              "[(0.0, 10.0)]"
            ]
          },
          "metadata": {},
          "execution_count": 112
        },
        {
          "output_type": "display_data",
          "data": {
            "image/png": "[encoded data removed]",
            "text/plain": [
              "<Figure size 432x288 with 1 Axes>"
            ]
          },
          "metadata": {
            "needs_background": "light"
          }
        }
      ]
    },
    {
      "cell_type": "code",
      "metadata": {
        "colab": {
          "base_uri": "https://localhost:8080/"
        },
        "id": "48s6YxFTcoPA",
        "outputId": "d8aff7ae-b459-4bc7-ff44-454fe1991a48"
      },
      "source": [
        "import scipy.stats\n",
        "\n",
        "column_values = hist1_g[hist1_g.columns].values.ravel()\n",
        "A = pd.unique(column_values)\n",
        "\n",
        "probs = []\n",
        "for i in A:\n",
        "    p1 = scipy.stats.norm(0, sigma).cdf(0.5 - i) - scipy.stats.norm(0, sigma).cdf(1.5 - i)\n",
        "    u0 = hist1_g == i\n",
        "    p2 = np.unique(u0.values, return_counts=True)[1][1] / (np.unique(u0.values, return_counts=True)[1][1] + \n",
        "                                                           np.unique(u0.values, return_counts=True)[1][0])\n",
        "    probs.append(p1 * p2)\n",
        "\n",
        "p3 = scipy.stats.norm(0, sigma).cdf(-0.5) - scipy.stats.norm(0, sigma).cdf(0.5)\n",
        "u0 = hist1_g == 1\n",
        "p4 = np.unique(u0.values, return_counts=True)[1][1] / (np.unique(u0.values, return_counts=True)[1][1] + \n",
        "                                                       np.unique(u0.values, return_counts=True)[1][0])\n",
        "p_tu_g = p3 * p4 / sum(probs)\n",
        "p_tu_g"
      ],
      "execution_count": null,
      "outputs": [
        {
          "output_type": "execute_result",
          "data": {
            "text/plain": [
              "0.030857459138181408"
            ]
          },
          "metadata": {},
          "execution_count": 113
        }
      ]
    },
    {
      "cell_type": "code",
      "metadata": {
        "colab": {
          "base_uri": "https://localhost:8080/"
        },
        "id": "INTyFA6hhY9w",
        "outputId": "197e1d4e-b721-4915-aaad-15ebfeb9942a"
      },
      "source": [
        "# compare with NHGIS\n",
        "%cd \"/content/gdrive/My Drive/Colab Notebooks/census_privacy\"\n",
        "import pandas as pd\n",
        "\n",
        "filename_nhgis_block_g = 'guernsey/nhgis/guernsey_nhgis_block.csv'\n",
        "nhgis_block_g = pd.read_csv(filename_nhgis_block_g)\n",
        "\n",
        "hist1_nhgis_g = nhgis_block_g[['H72003_sf', 'H72004_sf', 'H72005_sf', 'H72006_sf', 'H72007_sf', 'H72008_sf', 'H72009_sf']]\n",
        "hist1_nhgis_g = hist1_nhgis_g.rename(columns={'H72003_sf': '1', 'H72004_sf': '2', 'H72005_sf': '3', 'H72006_sf': '4', 'H72007_sf': '5', 'H72008_sf': '6', \n",
        "                                          'H72009_sf': '7'})\n",
        "hist2_nhgis_g = nhgis_block_g[['H72003_dp', 'H72004_dp', 'H72005_dp', 'H72006_dp', 'H72007_dp', 'H72008_dp', 'H72009_dp']]\n",
        "hist2_nhgis_g = hist2_nhgis_g.rename(columns={'H72003_dp': '1', 'H72004_dp': '2', 'H72005_dp': '3', 'H72006_dp': '4', 'H72007_dp': '5', 'H72008_dp': '6', \n",
        "                                          'H72009_dp': '7'})\n",
        "\n",
        "# find a true unique\n",
        "tu = (hist1_nhgis_g == hist2_nhgis_g) & (hist1_nhgis_g == 1) & (hist2_nhgis_g == 1)\n",
        "n_tu = np.unique(tu.values, return_counts=True)[1][1]\n",
        "# uniques after noise injection\n",
        "u = hist2_nhgis_g == 1\n",
        "n_u = np.unique(u.values, return_counts=True)[1][1]\n",
        "# frequency of finding the true uniques\n",
        "p_tu_nhgis_g = n_tu / n_u\n",
        "p_tu_nhgis_g"
      ],
      "execution_count": null,
      "outputs": [
        {
          "output_type": "stream",
          "name": "stdout",
          "text": [
            "/content/gdrive/My Drive/Colab Notebooks/census_privacy\n"
          ]
        },
        {
          "output_type": "execute_result",
          "data": {
            "text/plain": [
              "0.05958132045088567"
            ]
          },
          "metadata": {},
          "execution_count": 114
        }
      ]
    },
    {
      "cell_type": "markdown",
      "metadata": {
        "id": "4JlBwV4iM9mv"
      },
      "source": [
        "####**More on cell uniqueness**\n",
        "Some simulations to demonstrate how spatial scales affect the probability of finding a true unique. Two aspects of spatial scales are examined here: resolution and extent."
      ]
    },
    {
      "cell_type": "markdown",
      "metadata": {
        "id": "YAgcz2I07Pvq"
      },
      "source": [
        "#####**Impact of resolutions (aggregation levels)**\n",
        "We test the probability of finding a true unique at both block group and tract levels. As shown below, as we increase the aggregation level, the probability raises. This is potentially due to the fact that the histogram is less clustered around the small numbers (e.g., 2, 3, 0 that are easily transformed to 1 when adding noises)."
      ]
    },
    {
      "cell_type": "markdown",
      "metadata": {
        "id": "87-T5Xj47Wal"
      },
      "source": [
        "######**Block group**"
      ]
    },
    {
      "cell_type": "code",
      "metadata": {
        "colab": {
          "base_uri": "https://localhost:8080/",
          "height": 455
        },
        "id": "l04sSEhV7YaO",
        "outputId": "9489722d-958e-4d95-d61d-c3c7d121a999"
      },
      "source": [
        "hist1_bg = pd.crosstab(data_people.BGID10, data_people.race)\n",
        "hist1_bg"
      ],
      "execution_count": null,
      "outputs": [
        {
          "output_type": "execute_result",
          "data": {
            "text/html": [
              "<div>\n",
              "<style scoped>\n",
              "    .dataframe tbody tr th:only-of-type {\n",
              "        vertical-align: middle;\n",
              "    }\n",
              "\n",
              "    .dataframe tbody tr th {\n",
              "        vertical-align: top;\n",
              "    }\n",
              "\n",
              "    .dataframe thead th {\n",
              "        text-align: right;\n",
              "    }\n",
              "</style>\n",
              "<table border=\"1\" class=\"dataframe\">\n",
              "  <thead>\n",
              "    <tr style=\"text-align: right;\">\n",
              "      <th>race</th>\n",
              "      <th>1</th>\n",
              "      <th>2</th>\n",
              "      <th>3</th>\n",
              "      <th>4</th>\n",
              "      <th>5</th>\n",
              "      <th>6</th>\n",
              "      <th>7</th>\n",
              "    </tr>\n",
              "    <tr>\n",
              "      <th>BGID10</th>\n",
              "      <th></th>\n",
              "      <th></th>\n",
              "      <th></th>\n",
              "      <th></th>\n",
              "      <th></th>\n",
              "      <th></th>\n",
              "      <th></th>\n",
              "    </tr>\n",
              "  </thead>\n",
              "  <tbody>\n",
              "    <tr>\n",
              "      <th>390490001101</th>\n",
              "      <td>1040</td>\n",
              "      <td>14</td>\n",
              "      <td>0</td>\n",
              "      <td>8</td>\n",
              "      <td>0</td>\n",
              "      <td>3</td>\n",
              "      <td>15</td>\n",
              "    </tr>\n",
              "    <tr>\n",
              "      <th>390490001102</th>\n",
              "      <td>814</td>\n",
              "      <td>15</td>\n",
              "      <td>0</td>\n",
              "      <td>18</td>\n",
              "      <td>0</td>\n",
              "      <td>3</td>\n",
              "      <td>7</td>\n",
              "    </tr>\n",
              "    <tr>\n",
              "      <th>390490001103</th>\n",
              "      <td>619</td>\n",
              "      <td>6</td>\n",
              "      <td>2</td>\n",
              "      <td>6</td>\n",
              "      <td>0</td>\n",
              "      <td>6</td>\n",
              "      <td>9</td>\n",
              "    </tr>\n",
              "    <tr>\n",
              "      <th>390490001104</th>\n",
              "      <td>744</td>\n",
              "      <td>5</td>\n",
              "      <td>0</td>\n",
              "      <td>4</td>\n",
              "      <td>0</td>\n",
              "      <td>1</td>\n",
              "      <td>5</td>\n",
              "    </tr>\n",
              "    <tr>\n",
              "      <th>390490001201</th>\n",
              "      <td>758</td>\n",
              "      <td>6</td>\n",
              "      <td>0</td>\n",
              "      <td>11</td>\n",
              "      <td>0</td>\n",
              "      <td>2</td>\n",
              "      <td>12</td>\n",
              "    </tr>\n",
              "    <tr>\n",
              "      <th>...</th>\n",
              "      <td>...</td>\n",
              "      <td>...</td>\n",
              "      <td>...</td>\n",
              "      <td>...</td>\n",
              "      <td>...</td>\n",
              "      <td>...</td>\n",
              "      <td>...</td>\n",
              "    </tr>\n",
              "    <tr>\n",
              "      <th>390490106021</th>\n",
              "      <td>1369</td>\n",
              "      <td>48</td>\n",
              "      <td>4</td>\n",
              "      <td>41</td>\n",
              "      <td>0</td>\n",
              "      <td>17</td>\n",
              "      <td>31</td>\n",
              "    </tr>\n",
              "    <tr>\n",
              "      <th>390490106022</th>\n",
              "      <td>2293</td>\n",
              "      <td>59</td>\n",
              "      <td>1</td>\n",
              "      <td>159</td>\n",
              "      <td>0</td>\n",
              "      <td>17</td>\n",
              "      <td>45</td>\n",
              "    </tr>\n",
              "    <tr>\n",
              "      <th>390490106023</th>\n",
              "      <td>1824</td>\n",
              "      <td>50</td>\n",
              "      <td>4</td>\n",
              "      <td>220</td>\n",
              "      <td>0</td>\n",
              "      <td>20</td>\n",
              "      <td>37</td>\n",
              "    </tr>\n",
              "    <tr>\n",
              "      <th>390490107001</th>\n",
              "      <td>1062</td>\n",
              "      <td>119</td>\n",
              "      <td>4</td>\n",
              "      <td>61</td>\n",
              "      <td>1</td>\n",
              "      <td>19</td>\n",
              "      <td>33</td>\n",
              "    </tr>\n",
              "    <tr>\n",
              "      <th>390499800001</th>\n",
              "      <td>2</td>\n",
              "      <td>0</td>\n",
              "      <td>0</td>\n",
              "      <td>0</td>\n",
              "      <td>0</td>\n",
              "      <td>0</td>\n",
              "      <td>0</td>\n",
              "    </tr>\n",
              "  </tbody>\n",
              "</table>\n",
              "<p>887 rows × 7 columns</p>\n",
              "</div>"
            ],
            "text/plain": [
              "race             1    2  3    4  5   6   7\n",
              "BGID10                                    \n",
              "390490001101  1040   14  0    8  0   3  15\n",
              "390490001102   814   15  0   18  0   3   7\n",
              "390490001103   619    6  2    6  0   6   9\n",
              "390490001104   744    5  0    4  0   1   5\n",
              "390490001201   758    6  0   11  0   2  12\n",
              "...            ...  ... ..  ... ..  ..  ..\n",
              "390490106021  1369   48  4   41  0  17  31\n",
              "390490106022  2293   59  1  159  0  17  45\n",
              "390490106023  1824   50  4  220  0  20  37\n",
              "390490107001  1062  119  4   61  1  19  33\n",
              "390499800001     2    0  0    0  0   0   0\n",
              "\n",
              "[887 rows x 7 columns]"
            ]
          },
          "metadata": {},
          "execution_count": 132
        }
      ]
    },
    {
      "cell_type": "code",
      "metadata": {
        "colab": {
          "base_uri": "https://localhost:8080/",
          "height": 337
        },
        "id": "gn5tDEpKADBZ",
        "outputId": "cb86ee9f-013a-4ec1-cecd-63bae48c69fe"
      },
      "source": [
        "import seaborn as sns\n",
        "\n",
        "probabilities = hist1_bg.stack().value_counts(normalize=True)    \n",
        "sns.barplot(probabilities.index, probabilities.values).set(xlim=(0, 10))"
      ],
      "execution_count": null,
      "outputs": [
        {
          "output_type": "stream",
          "name": "stderr",
          "text": [
            "/usr/local/lib/python3.7/dist-packages/seaborn/_decorators.py:43: FutureWarning: Pass the following variables as keyword args: x, y. From version 0.12, the only valid positional argument will be `data`, and passing other arguments without an explicit keyword will result in an error or misinterpretation.\n",
            "  FutureWarning\n"
          ]
        },
        {
          "output_type": "execute_result",
          "data": {
            "text/plain": [
              "[(0.0, 10.0)]"
            ]
          },
          "metadata": {},
          "execution_count": 133
        },
        {
          "output_type": "display_data",
          "data": {
            "image/png": "[encoded data removed]",
            "text/plain": [
              "<Figure size 432x288 with 1 Axes>"
            ]
          },
          "metadata": {
            "needs_background": "light"
          }
        }
      ]
    },
    {
      "cell_type": "code",
      "metadata": {
        "colab": {
          "base_uri": "https://localhost:8080/"
        },
        "id": "e1LQyv9k7xUQ",
        "outputId": "988cf553-1127-4ea4-d1b0-a8bd3825554e"
      },
      "source": [
        "import math\n",
        "import numpy as np\n",
        "\n",
        "# privacy budget allocation\n",
        "delta = 10 ** (-10)\n",
        "rho = 2.56 * 3/4099\n",
        "\n",
        "# calculate sigma (standard deviation)\n",
        "sigma = math.sqrt(1 / (2 * rho))\n",
        "# privacy loss budget in differential privacy\n",
        "eps = rho + 2 * math.sqrt(rho * math.log(1 / delta))\n",
        "\n",
        "rho, eps, sigma"
      ],
      "execution_count": null,
      "outputs": [
        {
          "output_type": "execute_result",
          "data": {
            "text/plain": [
              "(0.001873627714076604, 0.417286061050071, 16.33591072351544)"
            ]
          },
          "metadata": {},
          "execution_count": 176
        }
      ]
    },
    {
      "cell_type": "code",
      "metadata": {
        "colab": {
          "base_uri": "https://localhost:8080/"
        },
        "id": "Z1-qO5xU7VyW",
        "outputId": "a933d227-0263-4987-d017-f78dcf42622f"
      },
      "source": [
        "import scipy.stats\n",
        "\n",
        "column_values = hist1_bg[hist1_bg.columns].values.ravel()\n",
        "A = pd.unique(column_values)\n",
        "\n",
        "probs = []\n",
        "for i in A:\n",
        "    p1 = scipy.stats.norm(0, sigma).cdf(0.5 - i) - scipy.stats.norm(0, sigma).cdf(1.5 - i)\n",
        "    u0 = hist1_bg == i\n",
        "    p2 = np.unique(u0.values, return_counts=True)[1][1] / (np.unique(u0.values, return_counts=True)[1][1] + \n",
        "                                                           np.unique(u0.values, return_counts=True)[1][0])\n",
        "    probs.append(p1 * p2)\n",
        "\n",
        "p3 = scipy.stats.norm(0, sigma).cdf(-0.5) - scipy.stats.norm(0, sigma).cdf(0.5)\n",
        "u0 = hist1_bg == 1\n",
        "p4 = np.unique(u0.values, return_counts=True)[1][1] / (np.unique(u0.values, return_counts=True)[1][1] + \n",
        "                                                       np.unique(u0.values, return_counts=True)[1][0])\n",
        "p_tu_bg = p3 * p4 / sum(probs)\n",
        "p_tu_bg"
      ],
      "execution_count": null,
      "outputs": [
        {
          "output_type": "execute_result",
          "data": {
            "text/plain": [
              "0.1247062657604142"
            ]
          },
          "metadata": {},
          "execution_count": 135
        }
      ]
    },
    {
      "cell_type": "code",
      "metadata": {
        "colab": {
          "base_uri": "https://localhost:8080/"
        },
        "id": "NpAvMAMM99VK",
        "outputId": "e203a76f-a023-4d67-881b-6aa4fa1fb5cc"
      },
      "source": [
        "# Compare with NHGIS data\n",
        "%cd \"/content/gdrive/My Drive/Colab Notebooks/census_privacy\"\n",
        "import pandas as pd\n",
        "\n",
        "filename_nhgis_bg = 'franklin/nhgis/franklin_nhgis_bg.csv'\n",
        "nhgis_bg = pd.read_csv(filename_nhgis_bg)\n",
        "\n",
        "hist1_nhgis_bg = nhgis_bg[['H72003_sf', 'H72004_sf', 'H72005_sf', 'H72006_sf', 'H72007_sf', 'H72008_sf', 'H72009_sf']]\n",
        "hist1_nhgis_bg = hist1_nhgis_bg.rename(columns={'H72003_sf': '1', 'H72004_sf': '2', 'H72005_sf': '3', 'H72006_sf': '4', 'H72007_sf': '5', 'H72008_sf': '6', \n",
        "                                          'H72009_sf': '7'})\n",
        "hist2_nhgis_bg = nhgis_bg[['H72003_dp', 'H72004_dp', 'H72005_dp', 'H72006_dp', 'H72007_dp', 'H72008_dp', 'H72009_dp']]\n",
        "hist2_nhgis_bg = hist2_nhgis_bg.rename(columns={'H72003_dp': '1', 'H72004_dp': '2', 'H72005_dp': '3', 'H72006_dp': '4', 'H72007_dp': '5', 'H72008_dp': '6', \n",
        "                                          'H72009_dp': '7'})\n",
        "\n",
        "# find a true unique\n",
        "tu = (hist1_nhgis_bg == hist2_nhgis_bg) & (hist1_nhgis_bg == 1) & (hist2_nhgis_bg == 1)\n",
        "n_tu = np.unique(tu.values, return_counts=True)[1][1]\n",
        "# uniques after noise injection\n",
        "u = hist2_nhgis_bg == 1\n",
        "n_u = np.unique(u.values, return_counts=True)[1][1]\n",
        "# frequency of finding the true uniques\n",
        "p_tu_bg_nhgis = n_tu / n_u\n",
        "p_tu_bg_nhgis"
      ],
      "execution_count": null,
      "outputs": [
        {
          "output_type": "stream",
          "name": "stdout",
          "text": [
            "/content/gdrive/My Drive/Colab Notebooks/census_privacy\n"
          ]
        },
        {
          "output_type": "execute_result",
          "data": {
            "text/plain": [
              "0.2316715542521994"
            ]
          },
          "metadata": {},
          "execution_count": 136
        }
      ]
    },
    {
      "cell_type": "markdown",
      "metadata": {
        "id": "qyuFdb4vdO8n"
      },
      "source": [
        "Compare with Guernsey county."
      ]
    },
    {
      "cell_type": "code",
      "metadata": {
        "colab": {
          "base_uri": "https://localhost:8080/"
        },
        "id": "1S55lJY9dZvX",
        "outputId": "1da21c97-2a02-4614-fc87-af091492f187"
      },
      "source": [
        "import scipy.stats\n",
        "\n",
        "hist1_bg_g = pd.crosstab(data_people_g.BGID10, data_people_g.race)\n",
        "column_values = hist1_bg_g[hist1_bg_g.columns].values.ravel()\n",
        "A = pd.unique(column_values)\n",
        "\n",
        "probs = []\n",
        "for i in A:\n",
        "    p1 = scipy.stats.norm(0, sigma).cdf(0.5 - i) - scipy.stats.norm(0, sigma).cdf(1.5 - i)\n",
        "    u0 = hist1_bg_g == i\n",
        "    p2 = np.unique(u0.values, return_counts=True)[1][1] / (np.unique(u0.values, return_counts=True)[1][1] + \n",
        "                                                           np.unique(u0.values, return_counts=True)[1][0])\n",
        "    probs.append(p1 * p2)\n",
        "\n",
        "p3 = scipy.stats.norm(0, sigma).cdf(-0.5) - scipy.stats.norm(0, sigma).cdf(0.5)\n",
        "u0 = hist1_bg_g == 1\n",
        "p4 = np.unique(u0.values, return_counts=True)[1][1] / (np.unique(u0.values, return_counts=True)[1][1] + \n",
        "                                                       np.unique(u0.values, return_counts=True)[1][0])\n",
        "p_tu_bg_g = p3 * p4 / sum(probs)\n",
        "p_tu_bg_g"
      ],
      "execution_count": null,
      "outputs": [
        {
          "output_type": "execute_result",
          "data": {
            "text/plain": [
              "0.16603359268777793"
            ]
          },
          "metadata": {},
          "execution_count": 137
        }
      ]
    },
    {
      "cell_type": "code",
      "metadata": {
        "colab": {
          "base_uri": "https://localhost:8080/"
        },
        "id": "EZxxOjyCe9Tw",
        "outputId": "a7e12c09-62ae-4de3-91a4-30b6f3af09a6"
      },
      "source": [
        "# Compare with NHGIS data (Guernsey)\n",
        "%cd \"/content/gdrive/My Drive/Colab Notebooks/census_privacy\"\n",
        "import pandas as pd\n",
        "\n",
        "filename_nhgis_bg_g = 'guernsey/nhgis/guernsey_nhgis_bg.csv'\n",
        "nhgis_bg_g = pd.read_csv(filename_nhgis_bg_g)\n",
        "\n",
        "hist1_nhgis_bg_g = nhgis_bg_g[['H72003_sf', 'H72004_sf', 'H72005_sf', 'H72006_sf', 'H72007_sf', 'H72008_sf', 'H72009_sf']]\n",
        "hist1_nhgis_bg_g = hist1_nhgis_bg_g.rename(columns={'H72003_sf': '1', 'H72004_sf': '2', 'H72005_sf': '3', 'H72006_sf': '4', 'H72007_sf': '5', 'H72008_sf': '6', \n",
        "                                          'H72009_sf': '7'})\n",
        "hist2_nhgis_bg_g = nhgis_bg_g[['H72003_dp', 'H72004_dp', 'H72005_dp', 'H72006_dp', 'H72007_dp', 'H72008_dp', 'H72009_dp']]\n",
        "hist2_nhgis_bg_g = hist2_nhgis_bg_g.rename(columns={'H72003_dp': '1', 'H72004_dp': '2', 'H72005_dp': '3', 'H72006_dp': '4', 'H72007_dp': '5', 'H72008_dp': '6', \n",
        "                                          'H72009_dp': '7'})\n",
        "\n",
        "# find a true unique\n",
        "tu = (hist1_nhgis_bg_g == hist2_nhgis_bg_g) & (hist1_nhgis_bg_g == 1) & (hist2_nhgis_bg_g == 1)\n",
        "n_tu = np.unique(tu.values, return_counts=True)[1][1]\n",
        "# uniques after noise injection\n",
        "u = hist2_nhgis_bg_g == 1\n",
        "n_u = np.unique(u.values, return_counts=True)[1][1]\n",
        "# frequency of finding the true uniques\n",
        "p_tu_bg_nhgis_g = n_tu / n_u\n",
        "p_tu_bg_nhgis_g"
      ],
      "execution_count": null,
      "outputs": [
        {
          "output_type": "stream",
          "name": "stdout",
          "text": [
            "/content/gdrive/My Drive/Colab Notebooks/census_privacy\n"
          ]
        },
        {
          "output_type": "execute_result",
          "data": {
            "text/plain": [
              "0.3448275862068966"
            ]
          },
          "metadata": {},
          "execution_count": 138
        }
      ]
    },
    {
      "cell_type": "markdown",
      "metadata": {
        "id": "gbwbohOH8Hd1"
      },
      "source": [
        "######**Tract**"
      ]
    },
    {
      "cell_type": "code",
      "metadata": {
        "colab": {
          "base_uri": "https://localhost:8080/",
          "height": 455
        },
        "id": "Q55Isky-8HeK",
        "outputId": "a6af483b-9df6-434c-8ae0-21b733395677"
      },
      "source": [
        "hist1_tr = pd.crosstab(data_people.TRACTID10, data_people.race)\n",
        "hist1_tr"
      ],
      "execution_count": null,
      "outputs": [
        {
          "output_type": "execute_result",
          "data": {
            "text/html": [
              "<div>\n",
              "<style scoped>\n",
              "    .dataframe tbody tr th:only-of-type {\n",
              "        vertical-align: middle;\n",
              "    }\n",
              "\n",
              "    .dataframe tbody tr th {\n",
              "        vertical-align: top;\n",
              "    }\n",
              "\n",
              "    .dataframe thead th {\n",
              "        text-align: right;\n",
              "    }\n",
              "</style>\n",
              "<table border=\"1\" class=\"dataframe\">\n",
              "  <thead>\n",
              "    <tr style=\"text-align: right;\">\n",
              "      <th>race</th>\n",
              "      <th>1</th>\n",
              "      <th>2</th>\n",
              "      <th>3</th>\n",
              "      <th>4</th>\n",
              "      <th>5</th>\n",
              "      <th>6</th>\n",
              "      <th>7</th>\n",
              "    </tr>\n",
              "    <tr>\n",
              "      <th>TRACTID10</th>\n",
              "      <th></th>\n",
              "      <th></th>\n",
              "      <th></th>\n",
              "      <th></th>\n",
              "      <th></th>\n",
              "      <th></th>\n",
              "      <th></th>\n",
              "    </tr>\n",
              "  </thead>\n",
              "  <tbody>\n",
              "    <tr>\n",
              "      <th>39049000110</th>\n",
              "      <td>3217</td>\n",
              "      <td>40</td>\n",
              "      <td>2</td>\n",
              "      <td>36</td>\n",
              "      <td>0</td>\n",
              "      <td>13</td>\n",
              "      <td>36</td>\n",
              "    </tr>\n",
              "    <tr>\n",
              "      <th>39049000120</th>\n",
              "      <td>3016</td>\n",
              "      <td>44</td>\n",
              "      <td>3</td>\n",
              "      <td>42</td>\n",
              "      <td>1</td>\n",
              "      <td>7</td>\n",
              "      <td>49</td>\n",
              "    </tr>\n",
              "    <tr>\n",
              "      <th>39049000210</th>\n",
              "      <td>2773</td>\n",
              "      <td>52</td>\n",
              "      <td>5</td>\n",
              "      <td>32</td>\n",
              "      <td>0</td>\n",
              "      <td>10</td>\n",
              "      <td>63</td>\n",
              "    </tr>\n",
              "    <tr>\n",
              "      <th>39049000220</th>\n",
              "      <td>3536</td>\n",
              "      <td>32</td>\n",
              "      <td>4</td>\n",
              "      <td>55</td>\n",
              "      <td>0</td>\n",
              "      <td>24</td>\n",
              "      <td>76</td>\n",
              "    </tr>\n",
              "    <tr>\n",
              "      <th>39049000310</th>\n",
              "      <td>2135</td>\n",
              "      <td>739</td>\n",
              "      <td>3</td>\n",
              "      <td>70</td>\n",
              "      <td>2</td>\n",
              "      <td>61</td>\n",
              "      <td>137</td>\n",
              "    </tr>\n",
              "    <tr>\n",
              "      <th>...</th>\n",
              "      <td>...</td>\n",
              "      <td>...</td>\n",
              "      <td>...</td>\n",
              "      <td>...</td>\n",
              "      <td>...</td>\n",
              "      <td>...</td>\n",
              "      <td>...</td>\n",
              "    </tr>\n",
              "    <tr>\n",
              "      <th>39049010500</th>\n",
              "      <td>6499</td>\n",
              "      <td>108</td>\n",
              "      <td>4</td>\n",
              "      <td>1179</td>\n",
              "      <td>1</td>\n",
              "      <td>43</td>\n",
              "      <td>119</td>\n",
              "    </tr>\n",
              "    <tr>\n",
              "      <th>39049010601</th>\n",
              "      <td>3933</td>\n",
              "      <td>128</td>\n",
              "      <td>3</td>\n",
              "      <td>453</td>\n",
              "      <td>0</td>\n",
              "      <td>32</td>\n",
              "      <td>95</td>\n",
              "    </tr>\n",
              "    <tr>\n",
              "      <th>39049010602</th>\n",
              "      <td>5486</td>\n",
              "      <td>157</td>\n",
              "      <td>9</td>\n",
              "      <td>420</td>\n",
              "      <td>0</td>\n",
              "      <td>54</td>\n",
              "      <td>113</td>\n",
              "    </tr>\n",
              "    <tr>\n",
              "      <th>39049010700</th>\n",
              "      <td>1062</td>\n",
              "      <td>119</td>\n",
              "      <td>4</td>\n",
              "      <td>61</td>\n",
              "      <td>1</td>\n",
              "      <td>19</td>\n",
              "      <td>33</td>\n",
              "    </tr>\n",
              "    <tr>\n",
              "      <th>39049980000</th>\n",
              "      <td>2</td>\n",
              "      <td>0</td>\n",
              "      <td>0</td>\n",
              "      <td>0</td>\n",
              "      <td>0</td>\n",
              "      <td>0</td>\n",
              "      <td>0</td>\n",
              "    </tr>\n",
              "  </tbody>\n",
              "</table>\n",
              "<p>284 rows × 7 columns</p>\n",
              "</div>"
            ],
            "text/plain": [
              "race            1    2  3     4  5   6    7\n",
              "TRACTID10                                  \n",
              "39049000110  3217   40  2    36  0  13   36\n",
              "39049000120  3016   44  3    42  1   7   49\n",
              "39049000210  2773   52  5    32  0  10   63\n",
              "39049000220  3536   32  4    55  0  24   76\n",
              "39049000310  2135  739  3    70  2  61  137\n",
              "...           ...  ... ..   ... ..  ..  ...\n",
              "39049010500  6499  108  4  1179  1  43  119\n",
              "39049010601  3933  128  3   453  0  32   95\n",
              "39049010602  5486  157  9   420  0  54  113\n",
              "39049010700  1062  119  4    61  1  19   33\n",
              "39049980000     2    0  0     0  0   0    0\n",
              "\n",
              "[284 rows x 7 columns]"
            ]
          },
          "metadata": {},
          "execution_count": 139
        }
      ]
    },
    {
      "cell_type": "code",
      "metadata": {
        "colab": {
          "base_uri": "https://localhost:8080/",
          "height": 339
        },
        "id": "zglJ3iq7AMyn",
        "outputId": "d407240b-8c4e-45d4-c852-1fd930998fa4"
      },
      "source": [
        "import seaborn as sns\n",
        "\n",
        "probabilities = hist1_tr.stack().value_counts(normalize=True)    \n",
        "sns.barplot(probabilities.index, probabilities.values).set(xlim=(0, 10))"
      ],
      "execution_count": null,
      "outputs": [
        {
          "output_type": "stream",
          "name": "stderr",
          "text": [
            "/usr/local/lib/python3.7/dist-packages/seaborn/_decorators.py:43: FutureWarning: Pass the following variables as keyword args: x, y. From version 0.12, the only valid positional argument will be `data`, and passing other arguments without an explicit keyword will result in an error or misinterpretation.\n",
            "  FutureWarning\n"
          ]
        },
        {
          "output_type": "execute_result",
          "data": {
            "text/plain": [
              "[(0.0, 10.0)]"
            ]
          },
          "metadata": {},
          "execution_count": 140
        },
        {
          "output_type": "display_data",
          "data": {
            "image/png": "[encoded data removed]",
            "text/plain": [
              "<Figure size 432x288 with 1 Axes>"
            ]
          },
          "metadata": {
            "needs_background": "light"
          }
        }
      ]
    },
    {
      "cell_type": "code",
      "metadata": {
        "colab": {
          "base_uri": "https://localhost:8080/"
        },
        "id": "fU3kNMNX8HeL",
        "outputId": "ce4e2c09-a5d8-4969-f864-6b9fa0c8f59d"
      },
      "source": [
        "import math\n",
        "import numpy as np\n",
        "\n",
        "# privacy budget allocation\n",
        "delta = 10 ** (-10)\n",
        "rho = 2.56 * 4/2051\n",
        "\n",
        "# calculate sigma (standard deviation)\n",
        "sigma = math.sqrt(1 / (2 * rho))\n",
        "# privacy loss budget in differential privacy\n",
        "eps = rho + 2 * math.sqrt(rho * math.log(1 / delta))\n",
        "\n",
        "rho, eps, sigma"
      ],
      "execution_count": null,
      "outputs": [
        {
          "output_type": "execute_result",
          "data": {
            "text/plain": [
              "(0.004992686494392979, 0.6831102425562302, 10.007321538503698)"
            ]
          },
          "metadata": {},
          "execution_count": 141
        }
      ]
    },
    {
      "cell_type": "code",
      "metadata": {
        "colab": {
          "base_uri": "https://localhost:8080/"
        },
        "id": "fJfVioNn8HeL",
        "outputId": "725451aa-d217-4045-a790-94fcbe938b39"
      },
      "source": [
        "import scipy.stats\n",
        "\n",
        "column_values = hist1_tr[hist1_tr.columns].values.ravel()\n",
        "A = pd.unique(column_values)\n",
        "\n",
        "probs = []\n",
        "for i in A:\n",
        "    p1 = scipy.stats.norm(0, sigma).cdf(0.5 - i) - scipy.stats.norm(0, sigma).cdf(1.5 - i)\n",
        "    u0 = hist1_tr == i\n",
        "    p2 = np.unique(u0.values, return_counts=True)[1][1] / (np.unique(u0.values, return_counts=True)[1][1] + \n",
        "                                                           np.unique(u0.values, return_counts=True)[1][0])\n",
        "    probs.append(p1 * p2)\n",
        "\n",
        "p3 = scipy.stats.norm(0, sigma).cdf(-0.5) - scipy.stats.norm(0, sigma).cdf(0.5)\n",
        "u0 = hist1_tr == 1\n",
        "p4 = np.unique(u0.values, return_counts=True)[1][1] / (np.unique(u0.values, return_counts=True)[1][1] + \n",
        "                                                       np.unique(u0.values, return_counts=True)[1][0])\n",
        "p_tu_tr = p3 * p4 / sum(probs)\n",
        "p_tu_tr"
      ],
      "execution_count": null,
      "outputs": [
        {
          "output_type": "execute_result",
          "data": {
            "text/plain": [
              "0.14954544232212066"
            ]
          },
          "metadata": {},
          "execution_count": 142
        }
      ]
    },
    {
      "cell_type": "code",
      "metadata": {
        "colab": {
          "base_uri": "https://localhost:8080/"
        },
        "id": "GpUEviut_JK4",
        "outputId": "8f5c4d95-53bd-453f-9b28-d5429262874d"
      },
      "source": [
        "# Compare with NHGIS data\n",
        "%cd \"/content/gdrive/My Drive/Colab Notebooks/census_privacy\"\n",
        "import pandas as pd\n",
        "\n",
        "filename_nhgis_tr = 'franklin/nhgis/franklin_nhgis_tract.csv'\n",
        "nhgis_tr = pd.read_csv(filename_nhgis_tr)\n",
        "\n",
        "hist1_nhgis_tr = nhgis_tr[['H72003_sf', 'H72004_sf', 'H72005_sf', 'H72006_sf', 'H72007_sf', 'H72008_sf', 'H72009_sf']]\n",
        "hist1_nhgis_tr = hist1_nhgis_tr.rename(columns={'H72003_sf': '1', 'H72004_sf': '2', 'H72005_sf': '3', 'H72006_sf': '4', 'H72007_sf': '5', 'H72008_sf': '6', \n",
        "                                          'H72009_sf': '7'})\n",
        "hist2_nhgis_tr = nhgis_tr[['H72003_dp', 'H72004_dp', 'H72005_dp', 'H72006_dp', 'H72007_dp', 'H72008_dp', 'H72009_dp']]\n",
        "hist2_nhgis_tr = hist2_nhgis_tr.rename(columns={'H72003_dp': '1', 'H72004_dp': '2', 'H72005_dp': '3', 'H72006_dp': '4', 'H72007_dp': '5', 'H72008_dp': '6', \n",
        "                                          'H72009_dp': '7'})\n",
        "\n",
        "# find a true unique\n",
        "tu = (hist1_nhgis_tr == hist2_nhgis_tr) & (hist1_nhgis_tr == 1) & (hist2_nhgis_tr == 1)\n",
        "n_tu = np.unique(tu.values, return_counts=True)[1][1]\n",
        "# uniques after noise injection\n",
        "u = hist2_nhgis_tr == 1\n",
        "n_u = np.unique(u.values, return_counts=True)[1][1]\n",
        "# frequency of finding the true uniques\n",
        "p_tu_tr_nhgis = n_tu / n_u\n",
        "p_tu_tr_nhgis"
      ],
      "execution_count": null,
      "outputs": [
        {
          "output_type": "stream",
          "name": "stdout",
          "text": [
            "/content/gdrive/My Drive/Colab Notebooks/census_privacy\n"
          ]
        },
        {
          "output_type": "execute_result",
          "data": {
            "text/plain": [
              "0.18181818181818182"
            ]
          },
          "metadata": {},
          "execution_count": 143
        }
      ]
    },
    {
      "cell_type": "markdown",
      "metadata": {
        "id": "TyYDCCvjgPW_"
      },
      "source": [
        "Compare with Guernsey county."
      ]
    },
    {
      "cell_type": "code",
      "metadata": {
        "colab": {
          "base_uri": "https://localhost:8080/"
        },
        "id": "higb1JERfx9j",
        "outputId": "57347a34-e460-457e-d442-c5c47b6361aa"
      },
      "source": [
        "import scipy.stats\n",
        "\n",
        "hist1_tr_g = pd.crosstab(data_people_g.TRACTID10, data_people_g.race)\n",
        "column_values = hist1_tr_g[hist1_tr_g.columns].values.ravel()\n",
        "A = pd.unique(column_values)\n",
        "\n",
        "probs = []\n",
        "for i in A:\n",
        "    p1 = scipy.stats.norm(0, sigma).cdf(0.5 - i) - scipy.stats.norm(0, sigma).cdf(1.5 - i)\n",
        "    u0 = hist1_tr_g == i\n",
        "    p2 = np.unique(u0.values, return_counts=True)[1][1] / (np.unique(u0.values, return_counts=True)[1][1] + \n",
        "                                                           np.unique(u0.values, return_counts=True)[1][0])\n",
        "    probs.append(p1 * p2)\n",
        "\n",
        "p3 = scipy.stats.norm(0, sigma).cdf(-0.5) - scipy.stats.norm(0, sigma).cdf(0.5)\n",
        "u0 = hist1_tr_g == 1\n",
        "p4 = np.unique(u0.values, return_counts=True)[1][1] / (np.unique(u0.values, return_counts=True)[1][1] + \n",
        "                                                       np.unique(u0.values, return_counts=True)[1][0])\n",
        "p_tu_tr_g = p3 * p4 / sum(probs)\n",
        "p_tu_tr_g"
      ],
      "execution_count": null,
      "outputs": [
        {
          "output_type": "execute_result",
          "data": {
            "text/plain": [
              "0.12673117475298584"
            ]
          },
          "metadata": {},
          "execution_count": 144
        }
      ]
    },
    {
      "cell_type": "code",
      "metadata": {
        "colab": {
          "base_uri": "https://localhost:8080/"
        },
        "id": "2qw3C6FmgS4X",
        "outputId": "a850ba7e-1eb8-47ef-f803-802c96c1e1ee"
      },
      "source": [
        "# Compare with NHGIS data (Guernsey)\n",
        "%cd \"/content/gdrive/My Drive/Colab Notebooks/census_privacy\"\n",
        "import pandas as pd\n",
        "\n",
        "filename_nhgis_tr_g = 'guernsey/nhgis/guernsey_nhgis_tract.csv'\n",
        "nhgis_tr_g = pd.read_csv(filename_nhgis_tr_g)\n",
        "\n",
        "hist1_nhgis_tr_g = nhgis_tr_g[['H72003_sf', 'H72004_sf', 'H72005_sf', 'H72006_sf', 'H72007_sf', 'H72008_sf', 'H72009_sf']]\n",
        "hist1_nhgis_tr_g = hist1_nhgis_tr_g.rename(columns={'H72003_sf': '1', 'H72004_sf': '2', 'H72005_sf': '3', 'H72006_sf': '4', 'H72007_sf': '5', 'H72008_sf': '6', \n",
        "                                          'H72009_sf': '7'})\n",
        "hist2_nhgis_tr_g = nhgis_tr_g[['H72003_dp', 'H72004_dp', 'H72005_dp', 'H72006_dp', 'H72007_dp', 'H72008_dp', 'H72009_dp']]\n",
        "hist2_nhgis_tr_g = hist2_nhgis_tr_g.rename(columns={'H72003_dp': '1', 'H72004_dp': '2', 'H72005_dp': '3', 'H72006_dp': '4', 'H72007_dp': '5', 'H72008_dp': '6', \n",
        "                                          'H72009_dp': '7'})\n",
        "\n",
        "# find a true unique\n",
        "tu = (hist1_nhgis_tr_g == hist2_nhgis_tr_g) & (hist1_nhgis_tr_g == 1) & (hist2_nhgis_tr_g == 1)\n",
        "n_tu = np.unique(tu.values, return_counts=True)[1][1]\n",
        "# uniques after noise injection\n",
        "u = hist2_nhgis_tr_g == 1\n",
        "n_u = np.unique(u.values, return_counts=True)[1][1]\n",
        "# frequency of finding the true uniques\n",
        "p_tu_tr_nhgis_g = n_tu / n_u\n",
        "p_tu_tr_nhgis_g"
      ],
      "execution_count": null,
      "outputs": [
        {
          "output_type": "stream",
          "name": "stdout",
          "text": [
            "/content/gdrive/My Drive/Colab Notebooks/census_privacy\n"
          ]
        },
        {
          "output_type": "execute_result",
          "data": {
            "text/plain": [
              "0.5"
            ]
          },
          "metadata": {},
          "execution_count": 145
        }
      ]
    },
    {
      "cell_type": "markdown",
      "metadata": {
        "id": "2sY5PpoMvgSv"
      },
      "source": [
        "We can plot the $p(TU)$ under different aggregation levels using a bar chart."
      ]
    },
    {
      "cell_type": "code",
      "metadata": {
        "colab": {
          "base_uri": "https://localhost:8080/",
          "height": 265
        },
        "id": "Aw22CxrwvpwV",
        "outputId": "d511fd74-e181-41e5-bcc1-796a061eeceb"
      },
      "source": [
        "import matplotlib.pyplot as plt\n",
        "\n",
        "labels = ['Block', 'Block Group', 'Tract']\n",
        "p_tu_1 = [p_tu, p_tu_bg, p_tu_tr]\n",
        "p_tu_2 = [p_tu_nhgis, p_tu_bg_nhgis, p_tu_tr_nhgis]\n",
        "p_tu_3 = [p_tu_g, p_tu_bg_g, p_tu_tr_g]\n",
        "p_tu_4 = [p_tu_nhgis_g, p_tu_bg_nhgis_g, p_tu_tr_nhgis_g]\n",
        "\n",
        "x = np.arange(len(labels))  # the label locations\n",
        "width = 0.1 # the width of the bars\n",
        "\n",
        "fig, ax = plt.subplots()\n",
        "colors = [(0, 0, 1, 1), (1, 0, 0, 1)]\n",
        "\n",
        "rects1 = ax.bar(x - 0.5 * width, p_tu_1, width, label='Franklin (Noisy histogram)', color=(0,0,0,0), edgecolor=colors[0])\n",
        "rects3 = ax.bar(x + 0.5 * width, p_tu_3, width, label='Guernsey (Noisy histogram)', color=(0,0,0,0), edgecolor=colors[1])\n",
        "rects2 = ax.scatter(x - 0.5 * width, p_tu_2, label='Franklin (NHGIS)')\n",
        "rects4 = ax.scatter(x + 0.5 * width, p_tu_4, label='Guernsey (NHGIS)')\n",
        "\n",
        "ax.set_ylabel('p(TU)')\n",
        "ax.set_xticks(x)\n",
        "ax.set_xticklabels(labels)\n",
        "ax.legend()\n",
        "\n",
        "plt.show()"
      ],
      "execution_count": null,
      "outputs": [
        {
          "output_type": "display_data",
          "data": {
            "image/png": "[encoded data removed]",
            "text/plain": [
              "<Figure size 432x288 with 1 Axes>"
            ]
          },
          "metadata": {
            "needs_background": "light"
          }
        }
      ]
    },
    {
      "cell_type": "markdown",
      "metadata": {
        "id": "9N1XIX6aGlNx"
      },
      "source": [
        "#####**Impact of extents**"
      ]
    },
    {
      "cell_type": "markdown",
      "metadata": {
        "id": "Eg9zH9_Ki7Fq"
      },
      "source": [
        "Read block and tract data."
      ]
    },
    {
      "cell_type": "code",
      "metadata": {
        "id": "z74fUdStIjrH"
      },
      "source": [
        "!pip install geopandas\n",
        "!pip install pysal"
      ],
      "execution_count": null,
      "outputs": []
    },
    {
      "cell_type": "code",
      "metadata": {
        "colab": {
          "base_uri": "https://localhost:8080/"
        },
        "id": "DGZGgSzaIjrH",
        "outputId": "a1577744-7546-4126-af11-f238d8d3c455"
      },
      "source": [
        "%cd \"/content/gdrive/My Drive/Colab Notebooks/census_privacy\"\n",
        "import geopandas as gpd\n",
        "\n",
        "filename_block = 'franklin/buildings/franklin_block10.json'\n",
        "data_block = gpd.read_file(filename_block)\n",
        "data_block['GEOID10'] = data_block['GEOID10'].astype(str)\n",
        "data_block['BGID10'] = data_block['GEOID10'].str[:12]\n",
        "data_block['TRACTID10'] = data_block['GEOID10'].str[:11]\n",
        "data_block.columns"
      ],
      "execution_count": null,
      "outputs": [
        {
          "output_type": "stream",
          "name": "stdout",
          "text": [
            "/content/gdrive/My Drive/Colab Notebooks/census_privacy\n"
          ]
        },
        {
          "output_type": "execute_result",
          "data": {
            "text/plain": [
              "Index(['OBJECTID_1', 'STATEFP10', 'COUNTYFP10', 'TRACTCE10', 'BLOCKCE10',\n",
              "       'GEOID10', 'NAME10', 'MTFCC10', 'UR10', 'UACE10', 'UATYPE',\n",
              "       'FUNCSTAT10', 'ALAND10', 'AWATER10', 'INTPTLAT10', 'INTPTLON10', 'PUMA',\n",
              "       'Shape_Length', 'Shape_Area', 'BGID10', 'TRACTID10', 'geometry'],\n",
              "      dtype='object')"
            ]
          },
          "metadata": {},
          "execution_count": 147
        }
      ]
    },
    {
      "cell_type": "code",
      "metadata": {
        "colab": {
          "base_uri": "https://localhost:8080/"
        },
        "id": "JGFxJ_t75sqO",
        "outputId": "21753555-07bc-4ca2-9f0e-ed4614f6ed60"
      },
      "source": [
        "%cd \"/content/gdrive/My Drive/Colab Notebooks/census_privacy\"\n",
        "import geopandas as gpd\n",
        "\n",
        "filename_tract = 'franklin/buildings/franklin_tract10.json'\n",
        "data_tract = gpd.read_file(filename_tract)\n",
        "data_tract['GEOID10'] = data_tract['GEOID10'].astype(str)\n",
        "data_tract.columns"
      ],
      "execution_count": null,
      "outputs": [
        {
          "output_type": "stream",
          "name": "stdout",
          "text": [
            "/content/gdrive/My Drive/Colab Notebooks/census_privacy\n"
          ]
        },
        {
          "output_type": "execute_result",
          "data": {
            "text/plain": [
              "Index(['OBJECTID', 'STATEFP10', 'COUNTYFP10', 'TRACTCE10', 'GEOID10', 'NAME10',\n",
              "       'NAMELSAD10', 'MTFCC10', 'FUNCSTAT10', 'ALAND10', 'AWATER10',\n",
              "       'INTPTLAT10', 'INTPTLON10', 'Shape_Length', 'Shape_Area', 'geometry'],\n",
              "      dtype='object')"
            ]
          },
          "metadata": {},
          "execution_count": 148
        }
      ]
    },
    {
      "cell_type": "markdown",
      "metadata": {
        "id": "URjSPZB6Pg-W"
      },
      "source": [
        "######**Continuous neighbors**"
      ]
    },
    {
      "cell_type": "markdown",
      "metadata": {
        "id": "H59SvuWwjCTE"
      },
      "source": [
        "Find blocks in the most populated tract (largest population density)."
      ]
    },
    {
      "cell_type": "code",
      "metadata": {
        "colab": {
          "base_uri": "https://localhost:8080/",
          "height": 203
        },
        "id": "H1ecmHHIGpsu",
        "outputId": "3d7cfc8d-40a4-475c-872f-5f1f8240e90f"
      },
      "source": [
        "total = hist1_tr.sum(axis=1).to_frame()\n",
        "total[\"GEOID10\"] = total.index.map(str)\n",
        "total = total.rename(columns={total.columns[0]: \"POP\"})\n",
        "total.index.name = None\n",
        "data_tract_new = data_tract.merge(total[['GEOID10', 'POP']], how='left', on=['GEOID10'])\n",
        "total.head()"
      ],
      "execution_count": null,
      "outputs": [
        {
          "output_type": "execute_result",
          "data": {
            "text/html": [
              "<div>\n",
              "<style scoped>\n",
              "    .dataframe tbody tr th:only-of-type {\n",
              "        vertical-align: middle;\n",
              "    }\n",
              "\n",
              "    .dataframe tbody tr th {\n",
              "        vertical-align: top;\n",
              "    }\n",
              "\n",
              "    .dataframe thead th {\n",
              "        text-align: right;\n",
              "    }\n",
              "</style>\n",
              "<table border=\"1\" class=\"dataframe\">\n",
              "  <thead>\n",
              "    <tr style=\"text-align: right;\">\n",
              "      <th></th>\n",
              "      <th>POP</th>\n",
              "      <th>GEOID10</th>\n",
              "    </tr>\n",
              "  </thead>\n",
              "  <tbody>\n",
              "    <tr>\n",
              "      <th>39049000110</th>\n",
              "      <td>3344</td>\n",
              "      <td>39049000110</td>\n",
              "    </tr>\n",
              "    <tr>\n",
              "      <th>39049000120</th>\n",
              "      <td>3162</td>\n",
              "      <td>39049000120</td>\n",
              "    </tr>\n",
              "    <tr>\n",
              "      <th>39049000210</th>\n",
              "      <td>2935</td>\n",
              "      <td>39049000210</td>\n",
              "    </tr>\n",
              "    <tr>\n",
              "      <th>39049000220</th>\n",
              "      <td>3727</td>\n",
              "      <td>39049000220</td>\n",
              "    </tr>\n",
              "    <tr>\n",
              "      <th>39049000310</th>\n",
              "      <td>3147</td>\n",
              "      <td>39049000310</td>\n",
              "    </tr>\n",
              "  </tbody>\n",
              "</table>\n",
              "</div>"
            ],
            "text/plain": [
              "              POP      GEOID10\n",
              "39049000110  3344  39049000110\n",
              "39049000120  3162  39049000120\n",
              "39049000210  2935  39049000210\n",
              "39049000220  3727  39049000220\n",
              "39049000310  3147  39049000310"
            ]
          },
          "metadata": {},
          "execution_count": 149
        }
      ]
    },
    {
      "cell_type": "code",
      "metadata": {
        "colab": {
          "base_uri": "https://localhost:8080/"
        },
        "id": "m5oPoBUR6JSq",
        "outputId": "55da5f15-2cbe-4d55-f021-c6df92bdcd57"
      },
      "source": [
        "data_tract_new[\"POP_DEN\"] = data_tract_new[\"POP\"] / data_tract_new[\"ALAND10\"]\n",
        "max_index = data_tract_new[\"POP_DEN\"].idxmax()\n",
        "max_id = data_tract_new.loc[max_index].at['GEOID10']\n",
        "max_index, max_id"
      ],
      "execution_count": null,
      "outputs": [
        {
          "output_type": "execute_result",
          "data": {
            "text/plain": [
              "(232, '39049001810')"
            ]
          },
          "metadata": {},
          "execution_count": 150
        }
      ]
    },
    {
      "cell_type": "markdown",
      "metadata": {
        "id": "Y3Xs2-gVEbQ8"
      },
      "source": [
        "We can keep searching the neighbors based on Rook continuity until all blocks in the county are covered. "
      ]
    },
    {
      "cell_type": "code",
      "metadata": {
        "colab": {
          "base_uri": "https://localhost:8080/"
        },
        "id": "4EEivlxRSIRc",
        "outputId": "20312eac-6421-4627-b99c-648f2fdef0c9"
      },
      "source": [
        "import math\n",
        "import numpy as np\n",
        "\n",
        "# privacy budget allocation\n",
        "delta = 10 ** (-10)\n",
        "rho = 2.56 * 9/4097\n",
        "\n",
        "# calculate sigma (standard deviation)\n",
        "sigma = math.sqrt(1 / (2 * rho))\n",
        "# privacy loss budget in differential privacy\n",
        "eps = rho + 2 * math.sqrt(rho * math.log(1 / delta))\n",
        "\n",
        "rho, eps, sigma"
      ],
      "execution_count": null,
      "outputs": [
        {
          "output_type": "execute_result",
          "data": {
            "text/plain": [
              "(0.005623627044178667, 0.7253146663237842, 9.429241235527797)"
            ]
          },
          "metadata": {},
          "execution_count": 151
        }
      ]
    },
    {
      "cell_type": "code",
      "metadata": {
        "colab": {
          "base_uri": "https://localhost:8080/"
        },
        "id": "COGn30YeFHcH",
        "outputId": "d905d6be-149c-46dd-a4f9-4deb122bf916"
      },
      "source": [
        "import geopandas as gpd\n",
        "from pysal.lib import weights\n",
        "import scipy.stats\n",
        "\n",
        "# k-nearest neighbors for all tracts\n",
        "k10 = weights.Rook.from_dataframe(data_tract)\n",
        "\n",
        "tract_index = [max_index]\n",
        "p_tu_all = []\n",
        "flag = 0\n",
        "while flag < 1:\n",
        "    if len(tract_index) == len(data_tract):\n",
        "        flag = 1\n",
        "\n",
        "    # create histogram\n",
        "    tract_ids = data_tract[\"GEOID10\"].iloc[tract_index]\n",
        "    data_people_sub = data_people[data_people[\"TRACTID10\"].isin(tract_ids)]\n",
        "    hist1_sub = pd.crosstab(data_people_sub.GEOID10, data_people_sub.race)\n",
        "    \n",
        "    # calculate p(TU)\n",
        "    column_values = hist1_sub[hist1_sub.columns].values.ravel()\n",
        "    A = pd.unique(column_values)\n",
        "    probs = []\n",
        "    for i in A:\n",
        "        p1 = scipy.stats.norm(0, sigma).cdf(0.5 - i) - scipy.stats.norm(0, sigma).cdf(1.5 - i)\n",
        "        u0 = hist1_sub == i\n",
        "        p2 = np.unique(u0.values, return_counts=True)[1][1] / (np.unique(u0.values, return_counts=True)[1][1] + \n",
        "                                                               np.unique(u0.values, return_counts=True)[1][0])\n",
        "        probs.append(p1 * p2)\n",
        "    p3 = scipy.stats.norm(0, sigma).cdf(-0.5) - scipy.stats.norm(0, sigma).cdf(0.5)\n",
        "    u0 = hist1_sub == 1\n",
        "    p4 = np.unique(u0.values, return_counts=True)[1][1] / (np.unique(u0.values, return_counts=True)[1][1] + \n",
        "                                                           np.unique(u0.values, return_counts=True)[1][0])\n",
        "    p_tu = p3 * p4 / sum(probs)\n",
        "    p_tu_all.append(p_tu)\n",
        "\n",
        "    # add neighbors \n",
        "    nb_index = [k10.neighbors.get(tract) for tract in tract_index]\n",
        "    nb_index = [x for sublist in nb_index for x in sublist]\n",
        "    tract_index = list(set(np.append(tract_index, nb_index)))\n",
        "    # print(len(tract_index))\n",
        "p_tu_all"
      ],
      "execution_count": null,
      "outputs": [
        {
          "output_type": "execute_result",
          "data": {
            "text/plain": [
              "[0.1425634364619828,\n",
              " 0.09094839356570802,\n",
              " 0.10382830930448199,\n",
              " 0.1031387703888544,\n",
              " 0.09267993905539498,\n",
              " 0.08745329946181782,\n",
              " 0.08402071308928735,\n",
              " 0.08238798414803729,\n",
              " 0.08035829609353787,\n",
              " 0.07990075583278043,\n",
              " 0.07946967429507722,\n",
              " 0.07905880704376685]"
            ]
          },
          "metadata": {},
          "execution_count": 152
        }
      ]
    },
    {
      "cell_type": "markdown",
      "metadata": {
        "id": "4YMxHsGXKNEE"
      },
      "source": [
        "We can use the same procedure to calculate $p(TU)$ based on the NHGIS data."
      ]
    },
    {
      "cell_type": "code",
      "metadata": {
        "colab": {
          "base_uri": "https://localhost:8080/"
        },
        "id": "4ZvaYk5YKWoX",
        "outputId": "cfc7e674-47f6-44a9-e10d-041b9dfc5aed"
      },
      "source": [
        "%cd \"/content/gdrive/My Drive/Colab Notebooks/census_privacy\"\n",
        "import pandas as pd\n",
        "import geopandas as gpd\n",
        "from pysal.lib import weights\n",
        "import scipy.stats\n",
        "\n",
        "filename_nhgis_block = 'franklin/nhgis/franklin_nhgis_block.csv'\n",
        "nhgis_block = pd.read_csv(filename_nhgis_block)\n",
        "nhgis_block['GEOID10'] = nhgis_block['GEOID10'].astype(str)\n",
        "nhgis_block['TRACTID10'] = nhgis_block['GEOID10'].str[:11]\n",
        "\n",
        "hist1_nhgis = nhgis_block[['H72003_sf', 'H72004_sf', 'H72005_sf', 'H72006_sf', 'H72007_sf', 'H72008_sf', 'H72009_sf']]\n",
        "hist1_nhgis = hist1_nhgis.rename(columns={'H72003_sf': '1', 'H72004_sf': '2', 'H72005_sf': '3', 'H72006_sf': '4', 'H72007_sf': '5', 'H72008_sf': '6', \n",
        "                                          'H72009_sf': '7'})\n",
        "hist2_nhgis = nhgis_block[['H72003_dp', 'H72004_dp', 'H72005_dp', 'H72006_dp', 'H72007_dp', 'H72008_dp', 'H72009_dp']]\n",
        "hist2_nhgis = hist2_nhgis.rename(columns={'H72003_dp': '1', 'H72004_dp': '2', 'H72005_dp': '3', 'H72006_dp': '4', 'H72007_dp': '5', 'H72008_dp': '6', \n",
        "                                          'H72009_dp': '7'})\n",
        "\n",
        "# k-nearest neighbors for all tracts\n",
        "k10 = weights.Rook.from_dataframe(data_tract)\n",
        "\n",
        "tract_index = [max_index]\n",
        "p_tu_all_nhgis = []\n",
        "flag = 0\n",
        "while flag < 1:\n",
        "    if len(tract_index) == len(data_tract):\n",
        "        flag = 1\n",
        "        \n",
        "    # create histogram\n",
        "    tract_ids = data_tract[\"GEOID10\"].iloc[tract_index]\n",
        "    nhgis_sub = nhgis_block[nhgis_block[\"TRACTID10\"].isin(tract_ids)]\n",
        "    hist1_nhgis = nhgis_sub[['H72003_sf', 'H72004_sf', 'H72005_sf', 'H72006_sf', 'H72007_sf', 'H72008_sf', 'H72009_sf']]\n",
        "    hist1_nhgis = hist1_nhgis.rename(columns={'H72003_sf': '1', 'H72004_sf': '2', 'H72005_sf': '3', 'H72006_sf': '4', 'H72007_sf': '5', 'H72008_sf': '6', \n",
        "                                            'H72009_sf': '7'})\n",
        "    hist2_nhgis = nhgis_sub[['H72003_dp', 'H72004_dp', 'H72005_dp', 'H72006_dp', 'H72007_dp', 'H72008_dp', 'H72009_dp']]\n",
        "    hist2_nhgis = hist2_nhgis.rename(columns={'H72003_dp': '1', 'H72004_dp': '2', 'H72005_dp': '3', 'H72006_dp': '4', 'H72007_dp': '5', 'H72008_dp': '6', \n",
        "                                            'H72009_dp': '7'})\n",
        "    \n",
        "    # calculate p(TU)\n",
        "    # find a true unique\n",
        "    tu = (hist1_nhgis == hist2_nhgis) & (hist1_nhgis == 1) & (hist2_nhgis == 1)\n",
        "    n_tu = np.unique(tu.values, return_counts=True)[1][1]\n",
        "    # uniques after noise injection\n",
        "    u = hist2_nhgis == 1\n",
        "    n_u = np.unique(u.values, return_counts=True)[1][1]\n",
        "    # frequency of finding the true uniques\n",
        "    p_tu_nhgis = n_tu / n_u\n",
        "    p_tu_all_nhgis.append(p_tu_nhgis)\n",
        "\n",
        "    # add neighbors \n",
        "    nb_index = [k10.neighbors.get(tract) for tract in tract_index]\n",
        "    nb_index = [x for sublist in nb_index for x in sublist]\n",
        "    tract_index = list(set(np.append(tract_index, nb_index)))\n",
        "p_tu_all_nhgis"
      ],
      "execution_count": null,
      "outputs": [
        {
          "output_type": "stream",
          "name": "stdout",
          "text": [
            "/content/gdrive/My Drive/Colab Notebooks/census_privacy\n"
          ]
        },
        {
          "output_type": "execute_result",
          "data": {
            "text/plain": [
              "[0.2857142857142857,\n",
              " 0.18032786885245902,\n",
              " 0.16194331983805668,\n",
              " 0.15014436958614052,\n",
              " 0.13876040703052728,\n",
              " 0.13541971336648143,\n",
              " 0.12558998563513235,\n",
              " 0.12069244458825433,\n",
              " 0.11913404200155561,\n",
              " 0.11832412523020258,\n",
              " 0.11727989487516426,\n",
              " 0.11636167922497309]"
            ]
          },
          "metadata": {},
          "execution_count": 153
        }
      ]
    },
    {
      "cell_type": "markdown",
      "metadata": {
        "id": "1XioTBcCu8Yg"
      },
      "source": [
        "Compare with Guernsey county."
      ]
    },
    {
      "cell_type": "code",
      "metadata": {
        "colab": {
          "base_uri": "https://localhost:8080/"
        },
        "id": "4RUYIJHZvZfN",
        "outputId": "289db81d-f06f-45b5-dfe9-f028253d80e3"
      },
      "source": [
        "%cd \"/content/gdrive/My Drive/Colab Notebooks/census_privacy\"\n",
        "import geopandas as gpd\n",
        "\n",
        "filename_block_g = 'guernsey/buildings/guernsey_block10.json'\n",
        "data_block_g = gpd.read_file(filename_block_g)\n",
        "data_block_g['GEOID10'] = data_block_g['GEOID10'].astype(str)\n",
        "data_block_g['BGID10'] = data_block_g['GEOID10'].str[:12]\n",
        "data_block_g['TRACTID10'] = data_block_g['GEOID10'].str[:11]\n",
        "data_block_g.columns"
      ],
      "execution_count": null,
      "outputs": [
        {
          "output_type": "stream",
          "name": "stdout",
          "text": [
            "/content/gdrive/My Drive/Colab Notebooks/census_privacy\n"
          ]
        },
        {
          "output_type": "execute_result",
          "data": {
            "text/plain": [
              "Index(['FID', 'STATEFP10', 'COUNTYFP10', 'TRACTCE10', 'BLOCKCE10', 'GEOID10',\n",
              "       'NAME10', 'MTFCC10', 'UR10', 'UACE10', 'FUNCSTAT10', 'ALAND10',\n",
              "       'AWATER10', 'INTPTLAT10', 'INTPTLON10', 'geometry', 'BGID10',\n",
              "       'TRACTID10'],\n",
              "      dtype='object')"
            ]
          },
          "metadata": {},
          "execution_count": 154
        }
      ]
    },
    {
      "cell_type": "code",
      "metadata": {
        "colab": {
          "base_uri": "https://localhost:8080/"
        },
        "id": "vQij8fgOvZfO",
        "outputId": "0234d5c7-a4c6-4bc1-908a-b3d329aabe8d"
      },
      "source": [
        "%cd \"/content/gdrive/My Drive/Colab Notebooks/census_privacy\"\n",
        "import geopandas as gpd\n",
        "\n",
        "filename_tract_g = 'guernsey/buildings/guernsey_tract10.json'\n",
        "data_tract_g = gpd.read_file(filename_tract_g)\n",
        "data_tract_g['GEOID10'] = data_tract_g['GEOID10'].astype(str)\n",
        "data_tract_g.columns"
      ],
      "execution_count": null,
      "outputs": [
        {
          "output_type": "stream",
          "name": "stdout",
          "text": [
            "/content/gdrive/My Drive/Colab Notebooks/census_privacy\n"
          ]
        },
        {
          "output_type": "execute_result",
          "data": {
            "text/plain": [
              "Index(['FID', 'STATEFP10', 'COUNTYFP10', 'TRACTCE10', 'GEOID10', 'NAME10',\n",
              "       'NAMELSAD10', 'MTFCC10', 'FUNCSTAT10', 'ALAND10', 'AWATER10',\n",
              "       'INTPTLAT10', 'INTPTLON10', 'geometry'],\n",
              "      dtype='object')"
            ]
          },
          "metadata": {},
          "execution_count": 155
        }
      ]
    },
    {
      "cell_type": "code",
      "metadata": {
        "colab": {
          "base_uri": "https://localhost:8080/"
        },
        "id": "ertf3BuLu8u3",
        "outputId": "8f8b0d7d-e0f5-4ba3-84ff-45c2c01bc069"
      },
      "source": [
        "import geopandas as gpd\n",
        "from pysal.lib import weights\n",
        "import scipy.stats\n",
        "\n",
        "total_g = hist1_tr_g.sum(axis=1).to_frame()\n",
        "total_g[\"GEOID10\"] = total_g.index.map(str)\n",
        "total_g = total_g.rename(columns={total_g.columns[0]: \"POP\"})\n",
        "total_g.index.name = None\n",
        "data_tract_new_g = data_tract_g.merge(total_g[['GEOID10', 'POP']], how='left', on=['GEOID10'])\n",
        "\n",
        "data_tract_new_g[\"POP_DEN\"] = data_tract_new_g[\"POP\"] / data_tract_new_g[\"ALAND10\"]\n",
        "max_index = data_tract_new_g[\"POP_DEN\"].idxmax()\n",
        "max_id = data_tract_new_g.loc[max_index].at['GEOID10']\n",
        "\n",
        "# k-nearest neighbors for all tracts\n",
        "k10 = weights.Rook.from_dataframe(data_tract_g)\n",
        "tract_index = [max_index]\n",
        "p_tu_all_g = []\n",
        "flag = 0\n",
        "while flag < 1:\n",
        "    if len(tract_index) == len(data_tract_g):\n",
        "        flag = 1\n",
        "    # create histogram\n",
        "    tract_ids = data_tract_g[\"GEOID10\"].iloc[tract_index]\n",
        "    data_people_sub = data_people_g[data_people_g[\"TRACTID10\"].isin(tract_ids)]\n",
        "    hist1_sub = pd.crosstab(data_people_sub.GEOID10, data_people_sub.race)\n",
        "\n",
        "    # calculate p(TU)\n",
        "    column_values = hist1_sub[hist1_sub.columns].values.ravel()\n",
        "    A = pd.unique(column_values)\n",
        "    probs = []\n",
        "    for i in A:\n",
        "        p1 = scipy.stats.norm(0, sigma).cdf(0.5 - i) - scipy.stats.norm(0, sigma).cdf(1.5 - i)\n",
        "        u0 = hist1_sub == i\n",
        "        p2 = np.unique(u0.values, return_counts=True)[1][1] / (np.unique(u0.values, return_counts=True)[1][1] + \n",
        "                                                               np.unique(u0.values, return_counts=True)[1][0])\n",
        "        probs.append(p1 * p2)\n",
        "    p3 = scipy.stats.norm(0, sigma).cdf(-0.5) - scipy.stats.norm(0, sigma).cdf(0.5)\n",
        "    u0 = hist1_sub == 1\n",
        "    p4 = np.unique(u0.values, return_counts=True)[1][1] / (np.unique(u0.values, return_counts=True)[1][1] + \n",
        "                                                           np.unique(u0.values, return_counts=True)[1][0])\n",
        "    p_tu = p3 * p4 / sum(probs)\n",
        "    p_tu_all_g.append(p_tu)\n",
        "\n",
        "    # add neighbors \n",
        "    nb_index = [k10.neighbors.get(tract) for tract in tract_index]\n",
        "    nb_index = [x for sublist in nb_index for x in sublist]\n",
        "    tract_index = list(set(np.append(tract_index, nb_index)))\n",
        "    # print(len(tract_index))\n",
        "p_tu_all_g"
      ],
      "execution_count": null,
      "outputs": [
        {
          "output_type": "execute_result",
          "data": {
            "text/plain": [
              "[0.06441614538205882,\n",
              " 0.0483149738383513,\n",
              " 0.03387245507887868,\n",
              " 0.030857459138181408]"
            ]
          },
          "metadata": {},
          "execution_count": 156
        }
      ]
    },
    {
      "cell_type": "code",
      "metadata": {
        "colab": {
          "base_uri": "https://localhost:8080/"
        },
        "id": "F2rlKe4yfgv4",
        "outputId": "baa78a51-fe0a-4a76-faf8-578d30ddf71b"
      },
      "source": [
        "%cd \"/content/gdrive/My Drive/Colab Notebooks/census_privacy\"\n",
        "import pandas as pd\n",
        "import geopandas as gpd\n",
        "from pysal.lib import weights\n",
        "import scipy.stats\n",
        "\n",
        "filename_nhgis_block_g = 'guernsey/nhgis/guernsey_nhgis_block.csv'\n",
        "nhgis_block_g = pd.read_csv(filename_nhgis_block_g)\n",
        "nhgis_block_g['GEOID10'] = nhgis_block_g['GEOID10'].astype(str)\n",
        "nhgis_block_g['TRACTID10'] = nhgis_block_g['GEOID10'].str[:11]\n",
        "\n",
        "hist1_nhgis_g = nhgis_block_g[['H72003_sf', 'H72004_sf', 'H72005_sf', 'H72006_sf', 'H72007_sf', 'H72008_sf', 'H72009_sf']]\n",
        "hist1_nhgis_g = hist1_nhgis_g.rename(columns={'H72003_sf': '1', 'H72004_sf': '2', 'H72005_sf': '3', 'H72006_sf': '4', 'H72007_sf': '5', 'H72008_sf': '6', \n",
        "                                          'H72009_sf': '7'})\n",
        "hist2_nhgis_g = nhgis_block_g[['H72003_dp', 'H72004_dp', 'H72005_dp', 'H72006_dp', 'H72007_dp', 'H72008_dp', 'H72009_dp']]\n",
        "hist2_nhgis_g = hist2_nhgis_g.rename(columns={'H72003_dp': '1', 'H72004_dp': '2', 'H72005_dp': '3', 'H72006_dp': '4', 'H72007_dp': '5', 'H72008_dp': '6', \n",
        "                                          'H72009_dp': '7'})\n",
        "\n",
        "# k-nearest neighbors for all tracts\n",
        "k10 = weights.Rook.from_dataframe(data_tract_g)\n",
        "\n",
        "tract_index = [max_index]\n",
        "p_tu_all_nhgis_g = []\n",
        "flag = 0\n",
        "while flag < 1:\n",
        "    if len(tract_index) == len(data_tract_g):\n",
        "        flag = 1\n",
        "        \n",
        "    # create histogram\n",
        "    tract_ids = data_tract_g[\"GEOID10\"].iloc[tract_index]\n",
        "    nhgis_sub = nhgis_block_g[nhgis_block_g[\"TRACTID10\"].isin(tract_ids)]\n",
        "    hist1_nhgis = nhgis_sub[['H72003_sf', 'H72004_sf', 'H72005_sf', 'H72006_sf', 'H72007_sf', 'H72008_sf', 'H72009_sf']]\n",
        "    hist1_nhgis = hist1_nhgis.rename(columns={'H72003_sf': '1', 'H72004_sf': '2', 'H72005_sf': '3', 'H72006_sf': '4', 'H72007_sf': '5', 'H72008_sf': '6', \n",
        "                                            'H72009_sf': '7'})\n",
        "    hist2_nhgis = nhgis_sub[['H72003_dp', 'H72004_dp', 'H72005_dp', 'H72006_dp', 'H72007_dp', 'H72008_dp', 'H72009_dp']]\n",
        "    hist2_nhgis = hist2_nhgis.rename(columns={'H72003_dp': '1', 'H72004_dp': '2', 'H72005_dp': '3', 'H72006_dp': '4', 'H72007_dp': '5', 'H72008_dp': '6', \n",
        "                                            'H72009_dp': '7'})\n",
        "    \n",
        "    # calculate p(TU)\n",
        "    # find a true unique\n",
        "    tu = (hist1_nhgis == hist2_nhgis) & (hist1_nhgis == 1) & (hist2_nhgis == 1)\n",
        "    n_tu = np.unique(tu.values, return_counts=True)[1][1]\n",
        "    # uniques after noise injection\n",
        "    u = hist2_nhgis == 1\n",
        "    n_u = np.unique(u.values, return_counts=True)[1][1]\n",
        "    # frequency of finding the true uniques\n",
        "    p_tu_nhgis = n_tu / n_u\n",
        "    p_tu_all_nhgis_g.append(p_tu_nhgis)\n",
        "\n",
        "    # add neighbors \n",
        "    nb_index = [k10.neighbors.get(tract) for tract in tract_index]\n",
        "    nb_index = [x for sublist in nb_index for x in sublist]\n",
        "    tract_index = list(set(np.append(tract_index, nb_index)))\n",
        "p_tu_all_nhgis_g"
      ],
      "execution_count": null,
      "outputs": [
        {
          "output_type": "stream",
          "name": "stdout",
          "text": [
            "/content/gdrive/My Drive/Colab Notebooks/census_privacy\n"
          ]
        },
        {
          "output_type": "execute_result",
          "data": {
            "text/plain": [
              "[0.08823529411764706,\n",
              " 0.06428571428571428,\n",
              " 0.061630218687872766,\n",
              " 0.05958132045088567]"
            ]
          },
          "metadata": {},
          "execution_count": 157
        }
      ]
    },
    {
      "cell_type": "markdown",
      "metadata": {
        "id": "mwxnp9CMWL8x"
      },
      "source": [
        "We visualize the trend of $p(TU)$ during the expansion. As shown in the figure, $p(TU)$ increases in the first iteration, and then continues to decrease during the subsequent interations."
      ]
    },
    {
      "cell_type": "code",
      "metadata": {
        "colab": {
          "base_uri": "https://localhost:8080/",
          "height": 279
        },
        "id": "EGjZotAMSx3q",
        "outputId": "c2e14c5c-d4d4-497c-d083-836998d6fdf5"
      },
      "source": [
        "import matplotlib.pyplot as plt\n",
        "import numpy as np\n",
        "\n",
        "plt.plot(np.array(p_tu_all), color = 'r', label='Franklin (Noisy histogram)')\n",
        "plt.plot(np.array(p_tu_all_nhgis), color = 'r', label='Franklin (NHGIS)', linestyle='dashed')\n",
        "plt.plot(np.array(p_tu_all_g), color = 'g', label='Guernsey (Noisy histogram)')\n",
        "plt.plot(np.array(p_tu_all_nhgis_g), color = 'g', label='Guernsey (NHGIS)', linestyle='dashed')\n",
        "plt.xlabel(\"Iteration\")\n",
        "plt.ylabel(\"p(TU)\")\n",
        "plt.legend()\n",
        "plt.show()"
      ],
      "execution_count": null,
      "outputs": [
        {
          "output_type": "display_data",
          "data": {
            "image/png": "[encoded data removed]",
            "text/plain": [
              "<Figure size 432x288 with 1 Axes>"
            ]
          },
          "metadata": {
            "needs_background": "light"
          }
        }
      ]
    },
    {
      "cell_type": "markdown",
      "metadata": {
        "id": "qARnVeDhP3Pl"
      },
      "source": [
        "######**Random**"
      ]
    },
    {
      "cell_type": "markdown",
      "metadata": {
        "id": "dFleRu0lS355"
      },
      "source": [
        "Randomly sample 10% of the blocks (without replacement) and add  to the histogram."
      ]
    },
    {
      "cell_type": "code",
      "metadata": {
        "colab": {
          "base_uri": "https://localhost:8080/"
        },
        "id": "NL3VlMeYQC9Z",
        "outputId": "270e1f4a-6f94-41da-a5b3-1516a6b307d7"
      },
      "source": [
        "import scipy.stats\n",
        "\n",
        "filename_nhgis_block = 'franklin/nhgis/franklin_nhgis_block.csv'\n",
        "nhgis_block = pd.read_csv(filename_nhgis_block)\n",
        "nhgis_block['GEOID10'] = nhgis_block['GEOID10'].astype(str)\n",
        "\n",
        "hist1_nhgis = nhgis_block[['H72003_sf', 'H72004_sf', 'H72005_sf', 'H72006_sf', 'H72007_sf', 'H72008_sf', 'H72009_sf']]\n",
        "hist1_nhgis = hist1_nhgis.rename(columns={'H72003_sf': '1', 'H72004_sf': '2', 'H72005_sf': '3', 'H72006_sf': '4', 'H72007_sf': '5', 'H72008_sf': '6', \n",
        "                                          'H72009_sf': '7'})\n",
        "hist2_nhgis = nhgis_block[['H72003_dp', 'H72004_dp', 'H72005_dp', 'H72006_dp', 'H72007_dp', 'H72008_dp', 'H72009_dp']]\n",
        "hist2_nhgis = hist2_nhgis.rename(columns={'H72003_dp': '1', 'H72004_dp': '2', 'H72005_dp': '3', 'H72006_dp': '4', 'H72007_dp': '5', 'H72008_dp': '6', \n",
        "                                          'H72009_dp': '7'})\n",
        "\n",
        "data_block_new = data_block\n",
        "N = int(0.1 * len(data_block_new))\n",
        "block_ids_all = []\n",
        "p_tu_all = []\n",
        "p_tu_all_nhgis = []\n",
        "\n",
        "while len(block_ids_all) < len(data_block):\n",
        "    # sampling\n",
        "    if len(data_block_new) >= N:\n",
        "        block_ids = data_block_new[\"GEOID10\"].sample(n=N)\n",
        "    else: \n",
        "        block_ids = data_block_new[\"GEOID10\"]\n",
        "    block_ids_all = list(set(np.append(block_ids_all, block_ids)))\n",
        "    data_block_new = data_block_new.loc[~data_block_new[\"GEOID10\"].isin(block_ids)]    \n",
        "\n",
        "    # create histogram\n",
        "    data_people_sub = data_people[data_people[\"GEOID10\"].isin(block_ids_all)]\n",
        "    hist1_sub = pd.crosstab(data_people_sub.GEOID10, data_people_sub.race)\n",
        "\n",
        "    # calculate p(TU)\n",
        "    column_values = hist1_sub[hist1_sub.columns].values.ravel()\n",
        "    A = pd.unique(column_values)\n",
        "    probs = []\n",
        "    for i in A:\n",
        "        p1 = scipy.stats.norm(0, sigma).cdf(0.5 - i) - scipy.stats.norm(0, sigma).cdf(1.5 - i)\n",
        "        u0 = hist1_sub == i\n",
        "        p2 = np.unique(u0.values, return_counts=True)[1][1] / (np.unique(u0.values, return_counts=True)[1][1] + \n",
        "                                                               np.unique(u0.values, return_counts=True)[1][0])\n",
        "        probs.append(p1 * p2)\n",
        "    p3 = scipy.stats.norm(0, sigma).cdf(-0.5) - scipy.stats.norm(0, sigma).cdf(0.5)\n",
        "    u0 = hist1_sub == 1\n",
        "    p4 = np.unique(u0.values, return_counts=True)[1][1] / (np.unique(u0.values, return_counts=True)[1][1] + \n",
        "                                                           np.unique(u0.values, return_counts=True)[1][0])\n",
        "    p_tu = p3 * p4 / sum(probs)\n",
        "    p_tu_all.append(p_tu)\n",
        "\n",
        "    ## NHGIS\n",
        "    # create histogram\n",
        "    nhgis_sub = nhgis_block[nhgis_block[\"GEOID10\"].isin(block_ids_all)]\n",
        "    hist1_nhgis = nhgis_sub[['H72003_sf', 'H72004_sf', 'H72005_sf', 'H72006_sf', 'H72007_sf', 'H72008_sf', 'H72009_sf']]\n",
        "    hist1_nhgis = hist1_nhgis.rename(columns={'H72003_sf': '1', 'H72004_sf': '2', 'H72005_sf': '3', 'H72006_sf': '4', 'H72007_sf': '5', 'H72008_sf': '6', \n",
        "                                            'H72009_sf': '7'})\n",
        "    hist2_nhgis = nhgis_sub[['H72003_dp', 'H72004_dp', 'H72005_dp', 'H72006_dp', 'H72007_dp', 'H72008_dp', 'H72009_dp']]\n",
        "    hist2_nhgis = hist2_nhgis.rename(columns={'H72003_dp': '1', 'H72004_dp': '2', 'H72005_dp': '3', 'H72006_dp': '4', 'H72007_dp': '5', 'H72008_dp': '6', \n",
        "                                            'H72009_dp': '7'})\n",
        "    \n",
        "    # calculate p(TU)\n",
        "    # find a true unique\n",
        "    tu = (hist1_nhgis == hist2_nhgis) & (hist1_nhgis == 1) & (hist2_nhgis == 1)\n",
        "    n_tu = np.unique(tu.values, return_counts=True)[1][1]\n",
        "    # uniques after noise injection\n",
        "    u = hist2_nhgis == 1\n",
        "    n_u = np.unique(u.values, return_counts=True)[1][1]\n",
        "    # frequency of finding the true uniques\n",
        "    p_tu_nhgis = n_tu / n_u\n",
        "    p_tu_all_nhgis.append(p_tu_nhgis)\n",
        "    # print(len(block_ids_all))\n",
        "\n",
        "p_tu_all, p_tu_all_nhgis"
      ],
      "execution_count": null,
      "outputs": [
        {
          "output_type": "execute_result",
          "data": {
            "text/plain": [
              "([0.08245813697285383,\n",
              "  0.0813281976605486,\n",
              "  0.08075435859372317,\n",
              "  0.07997407871412415,\n",
              "  0.07933184674349662,\n",
              "  0.07921258953058226,\n",
              "  0.07969534911465345,\n",
              "  0.07939374567226849,\n",
              "  0.07892789479412825,\n",
              "  0.0790807663149489,\n",
              "  0.07905880704376685],\n",
              " [0.11392405063291139,\n",
              "  0.1086021505376344,\n",
              "  0.11467236467236468,\n",
              "  0.11644562334217506,\n",
              "  0.11334320152252061,\n",
              "  0.11237756010685664,\n",
              "  0.11349598517603458,\n",
              "  0.11296620438939006,\n",
              "  0.11403299067654793,\n",
              "  0.11638673557278209,\n",
              "  0.11636167922497309])"
            ]
          },
          "metadata": {},
          "execution_count": 159
        }
      ]
    },
    {
      "cell_type": "markdown",
      "metadata": {
        "id": "MGWdTI5MdNLi"
      },
      "source": [
        "Compare with Guernsey county."
      ]
    },
    {
      "cell_type": "code",
      "metadata": {
        "colab": {
          "base_uri": "https://localhost:8080/"
        },
        "id": "tZKZKGeOgKiS",
        "outputId": "62a4ef66-8278-46ae-aea5-926031a37121"
      },
      "source": [
        "import scipy.stats\n",
        "import geopandas as gpd\n",
        "\n",
        "filename_block_g = 'guernsey/buildings/guernsey_block10.json'\n",
        "data_block_g = gpd.read_file(filename_block_g)\n",
        "data_block_g['GEOID10'] = data_block_g['GEOID10'].astype(str)\n",
        "\n",
        "filename_nhgis_block = 'guernsey/nhgis/guernsey_nhgis_block.csv'\n",
        "nhgis_block = pd.read_csv(filename_nhgis_block)\n",
        "nhgis_block['GEOID10'] = nhgis_block['GEOID10'].astype(str)\n",
        "\n",
        "hist1_nhgis = nhgis_block[['H72003_sf', 'H72004_sf', 'H72005_sf', 'H72006_sf', 'H72007_sf', 'H72008_sf', 'H72009_sf']]\n",
        "hist1_nhgis = hist1_nhgis.rename(columns={'H72003_sf': '1', 'H72004_sf': '2', 'H72005_sf': '3', 'H72006_sf': '4', 'H72007_sf': '5', 'H72008_sf': '6', \n",
        "                                          'H72009_sf': '7'})\n",
        "hist2_nhgis = nhgis_block[['H72003_dp', 'H72004_dp', 'H72005_dp', 'H72006_dp', 'H72007_dp', 'H72008_dp', 'H72009_dp']]\n",
        "hist2_nhgis = hist2_nhgis.rename(columns={'H72003_dp': '1', 'H72004_dp': '2', 'H72005_dp': '3', 'H72006_dp': '4', 'H72007_dp': '5', 'H72008_dp': '6', \n",
        "                                          'H72009_dp': '7'})\n",
        "\n",
        "data_block_new = data_block_g\n",
        "N = int(0.1 * len(data_block_new))\n",
        "block_ids_all = []\n",
        "p_tu_all_g = []\n",
        "p_tu_all_nhgis_g = []\n",
        "\n",
        "while len(block_ids_all) < len(data_block_g):\n",
        "    # sampling\n",
        "    if len(data_block_new) >= N:\n",
        "        block_ids = data_block_new[\"GEOID10\"].sample(n=N)\n",
        "    else: \n",
        "        block_ids = data_block_new[\"GEOID10\"]\n",
        "    block_ids_all = list(set(np.append(block_ids_all, block_ids)))\n",
        "    data_block_new = data_block_new.loc[~data_block_new[\"GEOID10\"].isin(block_ids)]    \n",
        "\n",
        "    # create histogram\n",
        "    data_people_sub = data_people_g[data_people_g[\"GEOID10\"].isin(block_ids_all)]\n",
        "    hist1_sub = pd.crosstab(data_people_sub.GEOID10, data_people_sub.race)\n",
        "\n",
        "    # calculate p(TU)\n",
        "    column_values = hist1_sub[hist1_sub.columns].values.ravel()\n",
        "    A = pd.unique(column_values)\n",
        "    probs = []\n",
        "    for i in A:\n",
        "        p1 = scipy.stats.norm(0, sigma).cdf(0.5 - i) - scipy.stats.norm(0, sigma).cdf(1.5 - i)\n",
        "        u0 = hist1_sub == i\n",
        "        p2 = np.unique(u0.values, return_counts=True)[1][1] / (np.unique(u0.values, return_counts=True)[1][1] + \n",
        "                                                               np.unique(u0.values, return_counts=True)[1][0])\n",
        "        probs.append(p1 * p2)\n",
        "    p3 = scipy.stats.norm(0, sigma).cdf(-0.5) - scipy.stats.norm(0, sigma).cdf(0.5)\n",
        "    u0 = hist1_sub == 1\n",
        "    p4 = np.unique(u0.values, return_counts=True)[1][1] / (np.unique(u0.values, return_counts=True)[1][1] + \n",
        "                                                           np.unique(u0.values, return_counts=True)[1][0])\n",
        "    p_tu = p3 * p4 / sum(probs)\n",
        "    p_tu_all_g.append(p_tu)\n",
        "\n",
        "    ## NHGIS\n",
        "    # create histogram\n",
        "    nhgis_sub = nhgis_block[nhgis_block[\"GEOID10\"].isin(block_ids_all)]\n",
        "    hist1_nhgis = nhgis_sub[['H72003_sf', 'H72004_sf', 'H72005_sf', 'H72006_sf', 'H72007_sf', 'H72008_sf', 'H72009_sf']]\n",
        "    hist1_nhgis = hist1_nhgis.rename(columns={'H72003_sf': '1', 'H72004_sf': '2', 'H72005_sf': '3', 'H72006_sf': '4', 'H72007_sf': '5', 'H72008_sf': '6', \n",
        "                                            'H72009_sf': '7'})\n",
        "    hist2_nhgis = nhgis_sub[['H72003_dp', 'H72004_dp', 'H72005_dp', 'H72006_dp', 'H72007_dp', 'H72008_dp', 'H72009_dp']]\n",
        "    hist2_nhgis = hist2_nhgis.rename(columns={'H72003_dp': '1', 'H72004_dp': '2', 'H72005_dp': '3', 'H72006_dp': '4', 'H72007_dp': '5', 'H72008_dp': '6', \n",
        "                                            'H72009_dp': '7'})\n",
        "    \n",
        "    # calculate p(TU)\n",
        "    # find a true unique\n",
        "    tu = (hist1_nhgis == hist2_nhgis) & (hist1_nhgis == 1) & (hist2_nhgis == 1)\n",
        "    n_tu = np.unique(tu.values, return_counts=True)[1][1]\n",
        "    # uniques after noise injection\n",
        "    u = hist2_nhgis == 1\n",
        "    n_u = np.unique(u.values, return_counts=True)[1][1]\n",
        "    # frequency of finding the true uniques\n",
        "    p_tu_nhgis_g = n_tu / n_u\n",
        "    p_tu_all_nhgis_g.append(p_tu_nhgis_g)\n",
        "    # print(len(block_ids_all))\n",
        "\n",
        "p_tu_all_g, p_tu_all_nhgis_g"
      ],
      "execution_count": null,
      "outputs": [
        {
          "output_type": "execute_result",
          "data": {
            "text/plain": [
              "([0.036384098771528046,\n",
              "  0.037373091481054464,\n",
              "  0.03140369479531988,\n",
              "  0.03271418399286753,\n",
              "  0.034025121311531015,\n",
              "  0.03281642294472919,\n",
              "  0.03230153624392682,\n",
              "  0.03160038730777287,\n",
              "  0.03122452212617743,\n",
              "  0.030758154638974234,\n",
              "  0.030857459138181408],\n",
              " [0.046875,\n",
              "  0.04504504504504504,\n",
              "  0.0446927374301676,\n",
              "  0.05,\n",
              "  0.05177993527508091,\n",
              "  0.0546448087431694,\n",
              "  0.05568445475638051,\n",
              "  0.055776892430278883,\n",
              "  0.05653710247349823,\n",
              "  0.05958132045088567,\n",
              "  0.05958132045088567])"
            ]
          },
          "metadata": {},
          "execution_count": 160
        }
      ]
    },
    {
      "cell_type": "code",
      "metadata": {
        "colab": {
          "base_uri": "https://localhost:8080/",
          "height": 282
        },
        "id": "uIFr7sl7fml-",
        "outputId": "17d4441b-beed-44f5-db9b-526a1bc40d38"
      },
      "source": [
        "import matplotlib.pyplot as plt\n",
        "import numpy as np\n",
        "\n",
        "plt.plot(np.array(p_tu_all), color = 'r', label='Franklin (Noisy histogram)')\n",
        "plt.plot(np.array(p_tu_all_nhgis), color = 'r', label='Franklin (NHGIS)', linestyle='dashed')\n",
        "plt.plot(np.array(p_tu_all_g), color = 'g', label='Guernsey (Noisy histogram)')\n",
        "plt.plot(np.array(p_tu_all_nhgis_g), color = 'g', label='Guernsey (NHGIS)', linestyle='dashed')\n",
        "plt.xlabel(\"Iteration\")\n",
        "plt.ylabel(\"p(TU)\")\n",
        "plt.legend()\n",
        "plt.show()"
      ],
      "execution_count": null,
      "outputs": [
        {
          "output_type": "display_data",
          "data": {
            "image/png": "[encoded data removed]",
            "text/plain": [
              "<Figure size 432x288 with 1 Axes>"
            ]
          },
          "metadata": {
            "needs_background": "light"
          }
        }
      ]
    },
    {
      "cell_type": "markdown",
      "metadata": {
        "id": "26ueNIqNrKqr"
      },
      "source": [
        "#####**Impact of privacy loss budget (rho)**"
      ]
    },
    {
      "cell_type": "markdown",
      "metadata": {
        "id": "DmE-4EdYxPvj"
      },
      "source": [
        "For block level data, change epsilon from 1 to 20 while using the same allocation budget."
      ]
    },
    {
      "cell_type": "code",
      "metadata": {
        "id": "etcdrAMPrP2v"
      },
      "source": [
        "import scipy.stats\n",
        "import math\n",
        "import numpy as np\n",
        "\n",
        "delta = 10 ** (-10)\n",
        "hist1 = pd.crosstab(data_people.GEOID10, data_people.race)\n",
        "column_values = hist1[hist1.columns].values.ravel()\n",
        "A = pd.unique(column_values)\n",
        "\n",
        "p_tu_rho = []\n",
        "for k in np.arange(0.5, 21, 0.5):\n",
        "    rho = k * 9/4097\n",
        "    sigma = math.sqrt(1 / (2 * rho))\n",
        "\n",
        "    probs = []\n",
        "    for i in A:\n",
        "        p1 = scipy.stats.norm(0, sigma).cdf(0.5 - i) - scipy.stats.norm(0, sigma).cdf(1.5 - i)\n",
        "        u0 = hist1 == i\n",
        "        p2 = np.unique(u0.values, return_counts=True)[1][1] / (np.unique(u0.values, return_counts=True)[1][1] + \n",
        "                                                            np.unique(u0.values, return_counts=True)[1][0])\n",
        "        probs.append(p1 * p2)\n",
        "\n",
        "    p3 = scipy.stats.norm(0, sigma).cdf(-0.5) - scipy.stats.norm(0, sigma).cdf(0.5)\n",
        "    u0 = hist1 == 1\n",
        "    p4 = np.unique(u0.values, return_counts=True)[1][1] / (np.unique(u0.values, return_counts=True)[1][1] + \n",
        "                                                        np.unique(u0.values, return_counts=True)[1][0])\n",
        "    p_tu = p3 * p4 / sum(probs)\n",
        "    p_tu_rho.append(p_tu)\n",
        "\n",
        "p_tu_rho"
      ],
      "execution_count": null,
      "outputs": []
    },
    {
      "cell_type": "markdown",
      "metadata": {
        "id": "Y-UcTRFg6XPG"
      },
      "source": [
        "Compare with Guernsey county."
      ]
    },
    {
      "cell_type": "code",
      "metadata": {
        "id": "S3WP79ea6UgU"
      },
      "source": [
        "import scipy.stats\n",
        "import math\n",
        "import numpy as np\n",
        "\n",
        "delta = 10 ** (-10)\n",
        "hist1 = pd.crosstab(data_people_g.GEOID10, data_people_g.race)\n",
        "column_values = hist1[hist1.columns].values.ravel()\n",
        "A = pd.unique(column_values)\n",
        "\n",
        "p_tu_rho_g = []\n",
        "for k in np.arange(0.5, 21, 0.5):\n",
        "    rho = k * 9/4097\n",
        "    sigma = math.sqrt(1 / (2 * rho))\n",
        "\n",
        "    probs = []\n",
        "    for i in A:\n",
        "        p1 = scipy.stats.norm(0, sigma).cdf(0.5 - i) - scipy.stats.norm(0, sigma).cdf(1.5 - i)\n",
        "        u0 = hist1 == i\n",
        "        p2 = np.unique(u0.values, return_counts=True)[1][1] / (np.unique(u0.values, return_counts=True)[1][1] + \n",
        "                                                            np.unique(u0.values, return_counts=True)[1][0])\n",
        "        probs.append(p1 * p2)\n",
        "\n",
        "    p3 = scipy.stats.norm(0, sigma).cdf(-0.5) - scipy.stats.norm(0, sigma).cdf(0.5)\n",
        "    u0 = hist1 == 1\n",
        "    p4 = np.unique(u0.values, return_counts=True)[1][1] / (np.unique(u0.values, return_counts=True)[1][1] + \n",
        "                                                        np.unique(u0.values, return_counts=True)[1][0])\n",
        "    p_tu = p3 * p4 / sum(probs)\n",
        "    p_tu_rho_g.append(p_tu)\n",
        "\n",
        "p_tu_rho_g"
      ],
      "execution_count": null,
      "outputs": []
    },
    {
      "cell_type": "code",
      "metadata": {
        "colab": {
          "base_uri": "https://localhost:8080/",
          "height": 279
        },
        "id": "nQcx48o-6GrE",
        "outputId": "47bfdfc1-1719-46c3-a525-7173eb8b7370"
      },
      "source": [
        "import matplotlib.pyplot as plt\n",
        "import numpy as np\n",
        "\n",
        "plt.plot(np.array(p_tu_rho), color = 'r', label='Franklin')\n",
        "plt.plot(np.array(p_tu_rho_g), color = 'g', label='Guernsey')\n",
        "plt.xlabel(\"Rho\")\n",
        "plt.ylabel(\"p(TU)\")\n",
        "plt.legend()\n",
        "plt.show()"
      ],
      "execution_count": null,
      "outputs": [
        {
          "output_type": "display_data",
          "data": {
            "image/png": "[encoded data removed]",
            "text/plain": [
              "<Figure size 432x288 with 1 Axes>"
            ]
          },
          "metadata": {
            "needs_background": "light"
          }
        }
      ]
    },
    {
      "cell_type": "markdown",
      "metadata": {
        "id": "1fEN3YVkTS8J"
      },
      "source": [
        "**Something to do with population density**"
      ]
    },
    {
      "cell_type": "markdown",
      "metadata": {
        "id": "Q__o1dGLon0M"
      },
      "source": [
        "The trend above can potentially be explained by the population distribution in the county. As the iteration increases, more sparse blocks are added, and the histogram is more concentrated around zero. This can lead to the sharpe decrease in $p(TU)$."
      ]
    },
    {
      "cell_type": "code",
      "metadata": {
        "colab": {
          "base_uri": "https://localhost:8080/",
          "height": 281
        },
        "id": "I8P0mGszIY7J",
        "outputId": "c1770509-69df-42ba-82ac-60cc5b491ce9"
      },
      "source": [
        "import matplotlib.pyplot as plt\n",
        "\n",
        "fig, ax = plt.subplots(1, 1)\n",
        "data_tract_new.plot(column='POP_DEN', ax=ax, legend=True)"
      ],
      "execution_count": null,
      "outputs": [
        {
          "output_type": "execute_result",
          "data": {
            "text/plain": [
              "<matplotlib.axes._subplots.AxesSubplot at 0x7f3450b9e1d0>"
            ]
          },
          "metadata": {},
          "execution_count": 131
        },
        {
          "output_type": "display_data",
          "data": {
            "image/png": "[encoded data removed]",
            "text/plain": [
              "<Figure size 432x288 with 2 Axes>"
            ]
          },
          "metadata": {
            "needs_background": "light"
          }
        }
      ]
    },
    {
      "cell_type": "code",
      "metadata": {
        "colab": {
          "base_uri": "https://localhost:8080/",
          "height": 434
        },
        "id": "Nd5lxf8Ue6xq",
        "outputId": "2729a59f-ed38-400d-8cb9-713afd7563f6"
      },
      "source": [
        "from splot.esda import lisa_cluster\n",
        "from pysal.lib import weights\n",
        "from pysal.explore import esda\n",
        "\n",
        "data_tract_new['POP_DEN'] = data_tract_new['POP_DEN'].fillna(0)\n",
        "# Generate W from the GeoDataFrame\n",
        "w = weights.Queen.from_dataframe(data_tract_new)\n",
        "# Row-standardization\n",
        "w.transform = 'R'\n",
        "\n",
        "moran_loc = esda.moran.Moran_Local(data_tract_new['POP_DEN'].values, w)\n",
        "lisa_cluster(moran_loc, data_tract_new, p=0.05, figsize = (9,9))\n",
        "plt.show()"
      ],
      "execution_count": null,
      "outputs": [
        {
          "output_type": "stream",
          "name": "stderr",
          "text": [
            "/usr/local/lib/python3.7/dist-packages/numba/np/ufunc/parallel.py:363: NumbaWarning: The TBB threading layer requires TBB version 2019.5 or later i.e., TBB_INTERFACE_VERSION >= 11005. Found TBB_INTERFACE_VERSION = 9107. The TBB threading layer is disabled.\n",
            "  warnings.warn(problem)\n"
          ]
        },
        {
          "output_type": "display_data",
          "data": {
            "image/png": "[encoded data removed]",
            "text/plain": [
              "<Figure size 648x648 with 1 Axes>"
            ]
          },
          "metadata": {
            "needs_background": "light"
          }
        }
      ]
    }
  ]
}