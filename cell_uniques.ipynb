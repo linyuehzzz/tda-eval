{
  "nbformat": 4,
  "nbformat_minor": 0,
  "metadata": {
    "colab": {
      "name": "cell uniques.ipynb",
      "provenance": [],
      "collapsed_sections": [],
      "authorship_tag": "ABX9TyON5YqvpvJRzt2IaJMjiXWm",
      "include_colab_link": true
    },
    "kernelspec": {
      "name": "python3",
      "display_name": "Python 3"
    },
    "language_info": {
      "name": "python"
    }
  },
  "cells": [
    {
      "cell_type": "markdown",
      "metadata": {
        "id": "view-in-github",
        "colab_type": "text"
      },
      "source": [
        "<a href=\"https://colab.research.google.com/github/linyuehzzz/census_privacy/blob/main/cell_uniques.ipynb\" target=\"_parent\"><img src=\"https://colab.research.google.com/assets/colab-badge.svg\" alt=\"Open In Colab\"/></a>"
      ]
    },
    {
      "cell_type": "code",
      "metadata": {
        "id": "zLeEw-8vLEbA",
        "colab": {
          "base_uri": "https://localhost:8080/"
        },
        "outputId": "81f3ba1c-1976-42b8-f603-a848b311070f"
      },
      "source": [
        "from google.colab import drive\n",
        "drive.mount(\"/content/gdrive\")"
      ],
      "execution_count": 72,
      "outputs": [
        {
          "output_type": "stream",
          "name": "stdout",
          "text": [
            "Drive already mounted at /content/gdrive; to attempt to forcibly remount, call drive.mount(\"/content/gdrive\", force_remount=True).\n"
          ]
        }
      ]
    },
    {
      "cell_type": "markdown",
      "metadata": {
        "id": "S4xVcLAfX1bz"
      },
      "source": [
        "#### **Read synthetic population data**"
      ]
    },
    {
      "cell_type": "code",
      "metadata": {
        "colab": {
          "base_uri": "https://localhost:8080/",
          "height": 452
        },
        "id": "K-v55hYUUWEC",
        "outputId": "29e9e890-930d-4075-a6d8-c02ad03f0329"
      },
      "source": [
        "%cd \"/content/gdrive/My Drive/Colab Notebooks/census_privacy\"\n",
        "import pandas as pd\n",
        "\n",
        "filename_people = 'franklin/microdata/franklin_peoplev0.csv'\n",
        "data_people = pd.read_csv(filename_people)\n",
        "data_people['GEOID10'] = data_people['GEOID10'].astype(str)\n",
        "data_people['BGID10'] = data_people['GEOID10'].str[:12]\n",
        "data_people['TRACTID10'] = data_people['GEOID10'].str[:11]\n",
        "data_people"
      ],
      "execution_count": 73,
      "outputs": [
        {
          "output_type": "stream",
          "name": "stdout",
          "text": [
            "/content/gdrive/My Drive/Colab Notebooks/census_privacy\n"
          ]
        },
        {
          "output_type": "execute_result",
          "data": {
            "text/html": [
              "<div>\n",
              "<style scoped>\n",
              "    .dataframe tbody tr th:only-of-type {\n",
              "        vertical-align: middle;\n",
              "    }\n",
              "\n",
              "    .dataframe tbody tr th {\n",
              "        vertical-align: top;\n",
              "    }\n",
              "\n",
              "    .dataframe thead th {\n",
              "        text-align: right;\n",
              "    }\n",
              "</style>\n",
              "<table border=\"1\" class=\"dataframe\">\n",
              "  <thead>\n",
              "    <tr style=\"text-align: right;\">\n",
              "      <th></th>\n",
              "      <th>GEOID10</th>\n",
              "      <th>PUMAID</th>\n",
              "      <th>SEX</th>\n",
              "      <th>RAC1P</th>\n",
              "      <th>AGEP</th>\n",
              "      <th>DIS</th>\n",
              "      <th>MSP</th>\n",
              "      <th>MIG</th>\n",
              "      <th>MIL</th>\n",
              "      <th>SCHL</th>\n",
              "      <th>FOD1P</th>\n",
              "      <th>HICOV</th>\n",
              "      <th>PRIVCOV</th>\n",
              "      <th>PUBCOV</th>\n",
              "      <th>PINCP</th>\n",
              "      <th>POVPIP</th>\n",
              "      <th>COW</th>\n",
              "      <th>ESR</th>\n",
              "      <th>SOCP</th>\n",
              "      <th>JWMNP</th>\n",
              "      <th>JWRIP</th>\n",
              "      <th>JWTRNS</th>\n",
              "      <th>HouseholdID</th>\n",
              "      <th>lon</th>\n",
              "      <th>lat</th>\n",
              "      <th>BGID10</th>\n",
              "      <th>TRACTID10</th>\n",
              "    </tr>\n",
              "  </thead>\n",
              "  <tbody>\n",
              "    <tr>\n",
              "      <th>0</th>\n",
              "      <td>390490001101001</td>\n",
              "      <td>3904102</td>\n",
              "      <td>1</td>\n",
              "      <td>1</td>\n",
              "      <td>26</td>\n",
              "      <td>2</td>\n",
              "      <td>6.0</td>\n",
              "      <td>3.0</td>\n",
              "      <td>4.0</td>\n",
              "      <td>19.0</td>\n",
              "      <td>NaN</td>\n",
              "      <td>2</td>\n",
              "      <td>2</td>\n",
              "      <td>2</td>\n",
              "      <td>25000.0</td>\n",
              "      <td>495.0</td>\n",
              "      <td>6.0</td>\n",
              "      <td>1.0</td>\n",
              "      <td>1191XX</td>\n",
              "      <td>5.0</td>\n",
              "      <td>1.0</td>\n",
              "      <td>1.0</td>\n",
              "      <td>1</td>\n",
              "      <td>-82.999368</td>\n",
              "      <td>40.054253</td>\n",
              "      <td>390490001101</td>\n",
              "      <td>39049000110</td>\n",
              "    </tr>\n",
              "    <tr>\n",
              "      <th>1</th>\n",
              "      <td>390490001101001</td>\n",
              "      <td>3904102</td>\n",
              "      <td>2</td>\n",
              "      <td>9</td>\n",
              "      <td>26</td>\n",
              "      <td>2</td>\n",
              "      <td>6.0</td>\n",
              "      <td>3.0</td>\n",
              "      <td>4.0</td>\n",
              "      <td>19.0</td>\n",
              "      <td>NaN</td>\n",
              "      <td>1</td>\n",
              "      <td>1</td>\n",
              "      <td>2</td>\n",
              "      <td>20000.0</td>\n",
              "      <td>162.0</td>\n",
              "      <td>1.0</td>\n",
              "      <td>1.0</td>\n",
              "      <td>37201X</td>\n",
              "      <td>5.0</td>\n",
              "      <td>2.0</td>\n",
              "      <td>1.0</td>\n",
              "      <td>1</td>\n",
              "      <td>-82.999368</td>\n",
              "      <td>40.054253</td>\n",
              "      <td>390490001101</td>\n",
              "      <td>39049000110</td>\n",
              "    </tr>\n",
              "    <tr>\n",
              "      <th>2</th>\n",
              "      <td>390490001101002</td>\n",
              "      <td>3904102</td>\n",
              "      <td>2</td>\n",
              "      <td>1</td>\n",
              "      <td>1</td>\n",
              "      <td>2</td>\n",
              "      <td>NaN</td>\n",
              "      <td>3.0</td>\n",
              "      <td>NaN</td>\n",
              "      <td>NaN</td>\n",
              "      <td>NaN</td>\n",
              "      <td>2</td>\n",
              "      <td>2</td>\n",
              "      <td>2</td>\n",
              "      <td>NaN</td>\n",
              "      <td>13.0</td>\n",
              "      <td>NaN</td>\n",
              "      <td>NaN</td>\n",
              "      <td>NaN</td>\n",
              "      <td>NaN</td>\n",
              "      <td>NaN</td>\n",
              "      <td>NaN</td>\n",
              "      <td>4</td>\n",
              "      <td>-83.002695</td>\n",
              "      <td>40.060864</td>\n",
              "      <td>390490001101</td>\n",
              "      <td>39049000110</td>\n",
              "    </tr>\n",
              "    <tr>\n",
              "      <th>3</th>\n",
              "      <td>390490001101002</td>\n",
              "      <td>3904102</td>\n",
              "      <td>2</td>\n",
              "      <td>1</td>\n",
              "      <td>4</td>\n",
              "      <td>2</td>\n",
              "      <td>NaN</td>\n",
              "      <td>1.0</td>\n",
              "      <td>NaN</td>\n",
              "      <td>2.0</td>\n",
              "      <td>NaN</td>\n",
              "      <td>1</td>\n",
              "      <td>1</td>\n",
              "      <td>2</td>\n",
              "      <td>NaN</td>\n",
              "      <td>501.0</td>\n",
              "      <td>NaN</td>\n",
              "      <td>NaN</td>\n",
              "      <td>NaN</td>\n",
              "      <td>NaN</td>\n",
              "      <td>NaN</td>\n",
              "      <td>NaN</td>\n",
              "      <td>5</td>\n",
              "      <td>-83.001629</td>\n",
              "      <td>40.060899</td>\n",
              "      <td>390490001101</td>\n",
              "      <td>39049000110</td>\n",
              "    </tr>\n",
              "    <tr>\n",
              "      <th>4</th>\n",
              "      <td>390490001101002</td>\n",
              "      <td>3904102</td>\n",
              "      <td>2</td>\n",
              "      <td>1</td>\n",
              "      <td>8</td>\n",
              "      <td>2</td>\n",
              "      <td>NaN</td>\n",
              "      <td>1.0</td>\n",
              "      <td>NaN</td>\n",
              "      <td>4.0</td>\n",
              "      <td>NaN</td>\n",
              "      <td>1</td>\n",
              "      <td>1</td>\n",
              "      <td>2</td>\n",
              "      <td>NaN</td>\n",
              "      <td>491.0</td>\n",
              "      <td>NaN</td>\n",
              "      <td>NaN</td>\n",
              "      <td>NaN</td>\n",
              "      <td>NaN</td>\n",
              "      <td>NaN</td>\n",
              "      <td>NaN</td>\n",
              "      <td>6</td>\n",
              "      <td>-83.001937</td>\n",
              "      <td>40.060852</td>\n",
              "      <td>390490001101</td>\n",
              "      <td>39049000110</td>\n",
              "    </tr>\n",
              "    <tr>\n",
              "      <th>...</th>\n",
              "      <td>...</td>\n",
              "      <td>...</td>\n",
              "      <td>...</td>\n",
              "      <td>...</td>\n",
              "      <td>...</td>\n",
              "      <td>...</td>\n",
              "      <td>...</td>\n",
              "      <td>...</td>\n",
              "      <td>...</td>\n",
              "      <td>...</td>\n",
              "      <td>...</td>\n",
              "      <td>...</td>\n",
              "      <td>...</td>\n",
              "      <td>...</td>\n",
              "      <td>...</td>\n",
              "      <td>...</td>\n",
              "      <td>...</td>\n",
              "      <td>...</td>\n",
              "      <td>...</td>\n",
              "      <td>...</td>\n",
              "      <td>...</td>\n",
              "      <td>...</td>\n",
              "      <td>...</td>\n",
              "      <td>...</td>\n",
              "      <td>...</td>\n",
              "      <td>...</td>\n",
              "      <td>...</td>\n",
              "    </tr>\n",
              "    <tr>\n",
              "      <th>1138714</th>\n",
              "      <td>390490107001020</td>\n",
              "      <td>3904102</td>\n",
              "      <td>2</td>\n",
              "      <td>1</td>\n",
              "      <td>77</td>\n",
              "      <td>1</td>\n",
              "      <td>3.0</td>\n",
              "      <td>1.0</td>\n",
              "      <td>4.0</td>\n",
              "      <td>19.0</td>\n",
              "      <td>NaN</td>\n",
              "      <td>1</td>\n",
              "      <td>2</td>\n",
              "      <td>1</td>\n",
              "      <td>17200.0</td>\n",
              "      <td>144.0</td>\n",
              "      <td>NaN</td>\n",
              "      <td>6.0</td>\n",
              "      <td>NaN</td>\n",
              "      <td>NaN</td>\n",
              "      <td>NaN</td>\n",
              "      <td>NaN</td>\n",
              "      <td>70</td>\n",
              "      <td>-83.017831</td>\n",
              "      <td>40.065591</td>\n",
              "      <td>390490107001</td>\n",
              "      <td>39049010700</td>\n",
              "    </tr>\n",
              "    <tr>\n",
              "      <th>1138715</th>\n",
              "      <td>390490107001020</td>\n",
              "      <td>3904102</td>\n",
              "      <td>1</td>\n",
              "      <td>1</td>\n",
              "      <td>94</td>\n",
              "      <td>2</td>\n",
              "      <td>1.0</td>\n",
              "      <td>1.0</td>\n",
              "      <td>2.0</td>\n",
              "      <td>22.0</td>\n",
              "      <td>5200.0</td>\n",
              "      <td>1</td>\n",
              "      <td>1</td>\n",
              "      <td>1</td>\n",
              "      <td>5200.0</td>\n",
              "      <td>266.0</td>\n",
              "      <td>NaN</td>\n",
              "      <td>6.0</td>\n",
              "      <td>NaN</td>\n",
              "      <td>NaN</td>\n",
              "      <td>NaN</td>\n",
              "      <td>NaN</td>\n",
              "      <td>108</td>\n",
              "      <td>-83.017814</td>\n",
              "      <td>40.062582</td>\n",
              "      <td>390490107001</td>\n",
              "      <td>39049010700</td>\n",
              "    </tr>\n",
              "    <tr>\n",
              "      <th>1138716</th>\n",
              "      <td>390490107001020</td>\n",
              "      <td>3904102</td>\n",
              "      <td>2</td>\n",
              "      <td>1</td>\n",
              "      <td>94</td>\n",
              "      <td>1</td>\n",
              "      <td>6.0</td>\n",
              "      <td>1.0</td>\n",
              "      <td>4.0</td>\n",
              "      <td>16.0</td>\n",
              "      <td>NaN</td>\n",
              "      <td>1</td>\n",
              "      <td>2</td>\n",
              "      <td>1</td>\n",
              "      <td>0.0</td>\n",
              "      <td>NaN</td>\n",
              "      <td>NaN</td>\n",
              "      <td>6.0</td>\n",
              "      <td>NaN</td>\n",
              "      <td>NaN</td>\n",
              "      <td>NaN</td>\n",
              "      <td>NaN</td>\n",
              "      <td>95</td>\n",
              "      <td>-83.018259</td>\n",
              "      <td>40.064492</td>\n",
              "      <td>390490107001</td>\n",
              "      <td>39049010700</td>\n",
              "    </tr>\n",
              "    <tr>\n",
              "      <th>1138717</th>\n",
              "      <td>390499800001027</td>\n",
              "      <td>3904106</td>\n",
              "      <td>1</td>\n",
              "      <td>1</td>\n",
              "      <td>74</td>\n",
              "      <td>2</td>\n",
              "      <td>2.0</td>\n",
              "      <td>1.0</td>\n",
              "      <td>4.0</td>\n",
              "      <td>15.0</td>\n",
              "      <td>NaN</td>\n",
              "      <td>1</td>\n",
              "      <td>1</td>\n",
              "      <td>1</td>\n",
              "      <td>33300.0</td>\n",
              "      <td>221.0</td>\n",
              "      <td>NaN</td>\n",
              "      <td>6.0</td>\n",
              "      <td>NaN</td>\n",
              "      <td>NaN</td>\n",
              "      <td>NaN</td>\n",
              "      <td>NaN</td>\n",
              "      <td>1</td>\n",
              "      <td>-82.879433</td>\n",
              "      <td>40.004085</td>\n",
              "      <td>390499800001</td>\n",
              "      <td>39049980000</td>\n",
              "    </tr>\n",
              "    <tr>\n",
              "      <th>1138718</th>\n",
              "      <td>390499800001027</td>\n",
              "      <td>3904106</td>\n",
              "      <td>2</td>\n",
              "      <td>1</td>\n",
              "      <td>71</td>\n",
              "      <td>1</td>\n",
              "      <td>1.0</td>\n",
              "      <td>1.0</td>\n",
              "      <td>4.0</td>\n",
              "      <td>15.0</td>\n",
              "      <td>NaN</td>\n",
              "      <td>1</td>\n",
              "      <td>2</td>\n",
              "      <td>1</td>\n",
              "      <td>8500.0</td>\n",
              "      <td>334.0</td>\n",
              "      <td>2.0</td>\n",
              "      <td>6.0</td>\n",
              "      <td>37201X</td>\n",
              "      <td>NaN</td>\n",
              "      <td>NaN</td>\n",
              "      <td>NaN</td>\n",
              "      <td>1</td>\n",
              "      <td>-82.879433</td>\n",
              "      <td>40.004085</td>\n",
              "      <td>390499800001</td>\n",
              "      <td>39049980000</td>\n",
              "    </tr>\n",
              "  </tbody>\n",
              "</table>\n",
              "<p>1138719 rows × 27 columns</p>\n",
              "</div>"
            ],
            "text/plain": [
              "                 GEOID10   PUMAID  SEX  ...        lat        BGID10    TRACTID10\n",
              "0        390490001101001  3904102    1  ...  40.054253  390490001101  39049000110\n",
              "1        390490001101001  3904102    2  ...  40.054253  390490001101  39049000110\n",
              "2        390490001101002  3904102    2  ...  40.060864  390490001101  39049000110\n",
              "3        390490001101002  3904102    2  ...  40.060899  390490001101  39049000110\n",
              "4        390490001101002  3904102    2  ...  40.060852  390490001101  39049000110\n",
              "...                  ...      ...  ...  ...        ...           ...          ...\n",
              "1138714  390490107001020  3904102    2  ...  40.065591  390490107001  39049010700\n",
              "1138715  390490107001020  3904102    1  ...  40.062582  390490107001  39049010700\n",
              "1138716  390490107001020  3904102    2  ...  40.064492  390490107001  39049010700\n",
              "1138717  390499800001027  3904106    1  ...  40.004085  390499800001  39049980000\n",
              "1138718  390499800001027  3904106    2  ...  40.004085  390499800001  39049980000\n",
              "\n",
              "[1138719 rows x 27 columns]"
            ]
          },
          "metadata": {},
          "execution_count": 73
        }
      ]
    },
    {
      "cell_type": "markdown",
      "metadata": {
        "id": "fpO_TqoLYDJ8"
      },
      "source": [
        "#### **Create original histograms**\n",
        "We consider the query of race (RAC1P) for the purpose of demonstration. Cell uniqueness is presented in this query."
      ]
    },
    {
      "cell_type": "code",
      "metadata": {
        "colab": {
          "base_uri": "https://localhost:8080/",
          "height": 446
        },
        "id": "V04A9tgqjDpe",
        "outputId": "2fc0e63d-549e-4dc8-f221-e66c58ef4e4d"
      },
      "source": [
        "hist1 = pd.crosstab(data_people.GEOID10, data_people.RAC1P)\n",
        "hist1"
      ],
      "execution_count": 74,
      "outputs": [
        {
          "output_type": "execute_result",
          "data": {
            "text/html": [
              "<div>\n",
              "<style scoped>\n",
              "    .dataframe tbody tr th:only-of-type {\n",
              "        vertical-align: middle;\n",
              "    }\n",
              "\n",
              "    .dataframe tbody tr th {\n",
              "        vertical-align: top;\n",
              "    }\n",
              "\n",
              "    .dataframe thead th {\n",
              "        text-align: right;\n",
              "    }\n",
              "</style>\n",
              "<table border=\"1\" class=\"dataframe\">\n",
              "  <thead>\n",
              "    <tr style=\"text-align: right;\">\n",
              "      <th>RAC1P</th>\n",
              "      <th>1</th>\n",
              "      <th>2</th>\n",
              "      <th>3</th>\n",
              "      <th>4</th>\n",
              "      <th>5</th>\n",
              "      <th>6</th>\n",
              "      <th>7</th>\n",
              "      <th>8</th>\n",
              "      <th>9</th>\n",
              "    </tr>\n",
              "    <tr>\n",
              "      <th>GEOID10</th>\n",
              "      <th></th>\n",
              "      <th></th>\n",
              "      <th></th>\n",
              "      <th></th>\n",
              "      <th></th>\n",
              "      <th></th>\n",
              "      <th></th>\n",
              "      <th></th>\n",
              "      <th></th>\n",
              "    </tr>\n",
              "  </thead>\n",
              "  <tbody>\n",
              "    <tr>\n",
              "      <th>390490001101001</th>\n",
              "      <td>1</td>\n",
              "      <td>0</td>\n",
              "      <td>0</td>\n",
              "      <td>0</td>\n",
              "      <td>0</td>\n",
              "      <td>0</td>\n",
              "      <td>0</td>\n",
              "      <td>0</td>\n",
              "      <td>1</td>\n",
              "    </tr>\n",
              "    <tr>\n",
              "      <th>390490001101002</th>\n",
              "      <td>45</td>\n",
              "      <td>0</td>\n",
              "      <td>0</td>\n",
              "      <td>0</td>\n",
              "      <td>0</td>\n",
              "      <td>0</td>\n",
              "      <td>0</td>\n",
              "      <td>0</td>\n",
              "      <td>0</td>\n",
              "    </tr>\n",
              "    <tr>\n",
              "      <th>390490001101003</th>\n",
              "      <td>51</td>\n",
              "      <td>4</td>\n",
              "      <td>0</td>\n",
              "      <td>0</td>\n",
              "      <td>0</td>\n",
              "      <td>0</td>\n",
              "      <td>0</td>\n",
              "      <td>0</td>\n",
              "      <td>0</td>\n",
              "    </tr>\n",
              "    <tr>\n",
              "      <th>390490001101004</th>\n",
              "      <td>48</td>\n",
              "      <td>0</td>\n",
              "      <td>0</td>\n",
              "      <td>0</td>\n",
              "      <td>0</td>\n",
              "      <td>0</td>\n",
              "      <td>0</td>\n",
              "      <td>0</td>\n",
              "      <td>0</td>\n",
              "    </tr>\n",
              "    <tr>\n",
              "      <th>390490001101005</th>\n",
              "      <td>51</td>\n",
              "      <td>0</td>\n",
              "      <td>0</td>\n",
              "      <td>0</td>\n",
              "      <td>0</td>\n",
              "      <td>0</td>\n",
              "      <td>0</td>\n",
              "      <td>0</td>\n",
              "      <td>4</td>\n",
              "    </tr>\n",
              "    <tr>\n",
              "      <th>...</th>\n",
              "      <td>...</td>\n",
              "      <td>...</td>\n",
              "      <td>...</td>\n",
              "      <td>...</td>\n",
              "      <td>...</td>\n",
              "      <td>...</td>\n",
              "      <td>...</td>\n",
              "      <td>...</td>\n",
              "      <td>...</td>\n",
              "    </tr>\n",
              "    <tr>\n",
              "      <th>390490107001015</th>\n",
              "      <td>92</td>\n",
              "      <td>17</td>\n",
              "      <td>0</td>\n",
              "      <td>0</td>\n",
              "      <td>0</td>\n",
              "      <td>0</td>\n",
              "      <td>0</td>\n",
              "      <td>1</td>\n",
              "      <td>2</td>\n",
              "    </tr>\n",
              "    <tr>\n",
              "      <th>390490107001016</th>\n",
              "      <td>9</td>\n",
              "      <td>0</td>\n",
              "      <td>0</td>\n",
              "      <td>0</td>\n",
              "      <td>0</td>\n",
              "      <td>0</td>\n",
              "      <td>0</td>\n",
              "      <td>0</td>\n",
              "      <td>0</td>\n",
              "    </tr>\n",
              "    <tr>\n",
              "      <th>390490107001017</th>\n",
              "      <td>42</td>\n",
              "      <td>6</td>\n",
              "      <td>0</td>\n",
              "      <td>0</td>\n",
              "      <td>0</td>\n",
              "      <td>9</td>\n",
              "      <td>0</td>\n",
              "      <td>0</td>\n",
              "      <td>0</td>\n",
              "    </tr>\n",
              "    <tr>\n",
              "      <th>390490107001020</th>\n",
              "      <td>167</td>\n",
              "      <td>20</td>\n",
              "      <td>0</td>\n",
              "      <td>0</td>\n",
              "      <td>0</td>\n",
              "      <td>7</td>\n",
              "      <td>0</td>\n",
              "      <td>1</td>\n",
              "      <td>1</td>\n",
              "    </tr>\n",
              "    <tr>\n",
              "      <th>390499800001027</th>\n",
              "      <td>2</td>\n",
              "      <td>0</td>\n",
              "      <td>0</td>\n",
              "      <td>0</td>\n",
              "      <td>0</td>\n",
              "      <td>0</td>\n",
              "      <td>0</td>\n",
              "      <td>0</td>\n",
              "      <td>0</td>\n",
              "    </tr>\n",
              "  </tbody>\n",
              "</table>\n",
              "<p>15048 rows × 9 columns</p>\n",
              "</div>"
            ],
            "text/plain": [
              "RAC1P              1   2  3  4  5  6  7  8  9\n",
              "GEOID10                                      \n",
              "390490001101001    1   0  0  0  0  0  0  0  1\n",
              "390490001101002   45   0  0  0  0  0  0  0  0\n",
              "390490001101003   51   4  0  0  0  0  0  0  0\n",
              "390490001101004   48   0  0  0  0  0  0  0  0\n",
              "390490001101005   51   0  0  0  0  0  0  0  4\n",
              "...              ...  .. .. .. .. .. .. .. ..\n",
              "390490107001015   92  17  0  0  0  0  0  1  2\n",
              "390490107001016    9   0  0  0  0  0  0  0  0\n",
              "390490107001017   42   6  0  0  0  9  0  0  0\n",
              "390490107001020  167  20  0  0  0  7  0  1  1\n",
              "390499800001027    2   0  0  0  0  0  0  0  0\n",
              "\n",
              "[15048 rows x 9 columns]"
            ]
          },
          "metadata": {},
          "execution_count": 74
        }
      ]
    },
    {
      "cell_type": "code",
      "metadata": {
        "colab": {
          "base_uri": "https://localhost:8080/",
          "height": 281
        },
        "id": "vzjnkTLX_oxn",
        "outputId": "98f73e62-e7e3-476e-962f-c32b5852b9e3"
      },
      "source": [
        "import seaborn as sns\n",
        "\n",
        "probabilities = hist1.stack().value_counts(normalize=True)    \n",
        "sns.barplot(probabilities.index, probabilities.values).set(xlim=(0, 10))"
      ],
      "execution_count": 75,
      "outputs": [
        {
          "output_type": "execute_result",
          "data": {
            "text/plain": [
              "[(0.0, 10.0)]"
            ]
          },
          "metadata": {},
          "execution_count": 75
        },
        {
          "output_type": "display_data",
          "data": {
            "image/png": "[encoded data removed]",
            "text/plain": [
              "<Figure size 432x288 with 1 Axes>"
            ]
          },
          "metadata": {
            "needs_background": "light"
          }
        }
      ]
    },
    {
      "cell_type": "markdown",
      "metadata": {
        "id": "6aR_Cvazj5i8"
      },
      "source": [
        "#### **Add noises (Zero-concentrated differential privacy)**\n",
        "There are two core components to the 2020 DAS: noise injection and post-processing. We only focus on the noise injection here. Consistent with the 2020 DAS, discrete Gaussian noise is applied.\n",
        "\n",
        "Bun, M., & Steinke, T. (2016, November). Concentrated differential privacy: Simplifications, extensions, and lower bounds. In Theory of Cryptography Conference (pp. 635-658). Springer, Berlin, Heidelberg."
      ]
    },
    {
      "cell_type": "markdown",
      "metadata": {
        "id": "pPVBCJgakEH_"
      },
      "source": [
        "Parameters for generating Gaussian noise."
      ]
    },
    {
      "cell_type": "code",
      "metadata": {
        "colab": {
          "base_uri": "https://localhost:8080/"
        },
        "id": "uozf2TuOqMN-",
        "outputId": "53f8d22e-d65b-42a5-c373-151ef0313668"
      },
      "source": [
        "import math\n",
        "import numpy as np\n",
        "\n",
        "# privacy budget allocation\n",
        "delta = 10 ** (-10)\n",
        "eps = 17.14 * 9/4097\n",
        "\n",
        "# calculate sigma (standard deviation)\n",
        "sigma = math.sqrt(1 / (2 * eps))\n",
        "# privacy loss budget in differential privacy\n",
        "eps0 = eps + 2 * math.sqrt(eps * math.log(1 / delta))\n",
        "eps, eps0"
      ],
      "execution_count": 76,
      "outputs": [
        {
          "output_type": "execute_result",
          "data": {
            "text/plain": [
              "(0.03765194044422748, 1.8998742342553376)"
            ]
          },
          "metadata": {},
          "execution_count": 76
        }
      ]
    },
    {
      "cell_type": "markdown",
      "metadata": {
        "id": "_P4-Pl6Nyt01"
      },
      "source": [
        "Probability of generating zero noise and other noises."
      ]
    },
    {
      "cell_type": "code",
      "metadata": {
        "colab": {
          "base_uri": "https://localhost:8080/"
        },
        "id": "dMCXfSjpyhA3",
        "outputId": "f1b6bf3a-7e19-41db-c2b7-e5a6b103f53f"
      },
      "source": [
        "import scipy.stats\n",
        "\n",
        "print(scipy.stats.norm(0, sigma).cdf(0.5) - scipy.stats.norm(0, sigma).cdf(-0.5), \n",
        "      scipy.stats.norm(0, sigma).cdf(1.5) - scipy.stats.norm(0, sigma).cdf(0.5),\n",
        "      scipy.stats.norm(0, sigma).cdf(2.5) - scipy.stats.norm(0, sigma).cdf(1.5),\n",
        "      scipy.stats.norm(0, sigma).cdf(3.5) - scipy.stats.norm(0, sigma).cdf(2.5), \n",
        "      scipy.stats.norm(0, sigma).cdf(8.5) - scipy.stats.norm(0, sigma).cdf(7.5))"
      ],
      "execution_count": 77,
      "outputs": [
        {
          "output_type": "stream",
          "name": "stdout",
          "text": [
            "0.10913342502468493 0.1051255079831912 0.09396346340685724 0.07793101600369479 0.009953116866908474\n"
          ]
        }
      ]
    },
    {
      "cell_type": "markdown",
      "metadata": {
        "id": "KMQVJ_rzvGCU"
      },
      "source": [
        "Add noise to histogram."
      ]
    },
    {
      "cell_type": "code",
      "metadata": {
        "colab": {
          "base_uri": "https://localhost:8080/",
          "height": 446
        },
        "id": "uf_C7vK6wmz0",
        "outputId": "bece8f74-fea2-44dc-b7f0-9ee406e99eaf"
      },
      "source": [
        "hist2 = hist1 + np.round(np.random.normal(0, sigma, size=(hist1.shape)), 0)\n",
        "hist2"
      ],
      "execution_count": 78,
      "outputs": [
        {
          "output_type": "execute_result",
          "data": {
            "text/html": [
              "<div>\n",
              "<style scoped>\n",
              "    .dataframe tbody tr th:only-of-type {\n",
              "        vertical-align: middle;\n",
              "    }\n",
              "\n",
              "    .dataframe tbody tr th {\n",
              "        vertical-align: top;\n",
              "    }\n",
              "\n",
              "    .dataframe thead th {\n",
              "        text-align: right;\n",
              "    }\n",
              "</style>\n",
              "<table border=\"1\" class=\"dataframe\">\n",
              "  <thead>\n",
              "    <tr style=\"text-align: right;\">\n",
              "      <th>RAC1P</th>\n",
              "      <th>1</th>\n",
              "      <th>2</th>\n",
              "      <th>3</th>\n",
              "      <th>4</th>\n",
              "      <th>5</th>\n",
              "      <th>6</th>\n",
              "      <th>7</th>\n",
              "      <th>8</th>\n",
              "      <th>9</th>\n",
              "    </tr>\n",
              "    <tr>\n",
              "      <th>GEOID10</th>\n",
              "      <th></th>\n",
              "      <th></th>\n",
              "      <th></th>\n",
              "      <th></th>\n",
              "      <th></th>\n",
              "      <th></th>\n",
              "      <th></th>\n",
              "      <th></th>\n",
              "      <th></th>\n",
              "    </tr>\n",
              "  </thead>\n",
              "  <tbody>\n",
              "    <tr>\n",
              "      <th>390490001101001</th>\n",
              "      <td>3.0</td>\n",
              "      <td>2.0</td>\n",
              "      <td>4.0</td>\n",
              "      <td>1.0</td>\n",
              "      <td>-1.0</td>\n",
              "      <td>-1.0</td>\n",
              "      <td>2.0</td>\n",
              "      <td>0.0</td>\n",
              "      <td>5.0</td>\n",
              "    </tr>\n",
              "    <tr>\n",
              "      <th>390490001101002</th>\n",
              "      <td>47.0</td>\n",
              "      <td>-3.0</td>\n",
              "      <td>2.0</td>\n",
              "      <td>-8.0</td>\n",
              "      <td>6.0</td>\n",
              "      <td>4.0</td>\n",
              "      <td>-2.0</td>\n",
              "      <td>5.0</td>\n",
              "      <td>4.0</td>\n",
              "    </tr>\n",
              "    <tr>\n",
              "      <th>390490001101003</th>\n",
              "      <td>50.0</td>\n",
              "      <td>7.0</td>\n",
              "      <td>-1.0</td>\n",
              "      <td>9.0</td>\n",
              "      <td>8.0</td>\n",
              "      <td>1.0</td>\n",
              "      <td>0.0</td>\n",
              "      <td>-5.0</td>\n",
              "      <td>1.0</td>\n",
              "    </tr>\n",
              "    <tr>\n",
              "      <th>390490001101004</th>\n",
              "      <td>52.0</td>\n",
              "      <td>0.0</td>\n",
              "      <td>1.0</td>\n",
              "      <td>-2.0</td>\n",
              "      <td>6.0</td>\n",
              "      <td>4.0</td>\n",
              "      <td>2.0</td>\n",
              "      <td>8.0</td>\n",
              "      <td>7.0</td>\n",
              "    </tr>\n",
              "    <tr>\n",
              "      <th>390490001101005</th>\n",
              "      <td>55.0</td>\n",
              "      <td>-1.0</td>\n",
              "      <td>10.0</td>\n",
              "      <td>-2.0</td>\n",
              "      <td>-4.0</td>\n",
              "      <td>-2.0</td>\n",
              "      <td>-1.0</td>\n",
              "      <td>-5.0</td>\n",
              "      <td>7.0</td>\n",
              "    </tr>\n",
              "    <tr>\n",
              "      <th>...</th>\n",
              "      <td>...</td>\n",
              "      <td>...</td>\n",
              "      <td>...</td>\n",
              "      <td>...</td>\n",
              "      <td>...</td>\n",
              "      <td>...</td>\n",
              "      <td>...</td>\n",
              "      <td>...</td>\n",
              "      <td>...</td>\n",
              "    </tr>\n",
              "    <tr>\n",
              "      <th>390490107001015</th>\n",
              "      <td>91.0</td>\n",
              "      <td>18.0</td>\n",
              "      <td>-7.0</td>\n",
              "      <td>-6.0</td>\n",
              "      <td>-2.0</td>\n",
              "      <td>-3.0</td>\n",
              "      <td>-1.0</td>\n",
              "      <td>0.0</td>\n",
              "      <td>4.0</td>\n",
              "    </tr>\n",
              "    <tr>\n",
              "      <th>390490107001016</th>\n",
              "      <td>13.0</td>\n",
              "      <td>-2.0</td>\n",
              "      <td>-10.0</td>\n",
              "      <td>1.0</td>\n",
              "      <td>-3.0</td>\n",
              "      <td>-1.0</td>\n",
              "      <td>-1.0</td>\n",
              "      <td>0.0</td>\n",
              "      <td>0.0</td>\n",
              "    </tr>\n",
              "    <tr>\n",
              "      <th>390490107001017</th>\n",
              "      <td>41.0</td>\n",
              "      <td>9.0</td>\n",
              "      <td>-1.0</td>\n",
              "      <td>4.0</td>\n",
              "      <td>-2.0</td>\n",
              "      <td>11.0</td>\n",
              "      <td>-6.0</td>\n",
              "      <td>-2.0</td>\n",
              "      <td>-1.0</td>\n",
              "    </tr>\n",
              "    <tr>\n",
              "      <th>390490107001020</th>\n",
              "      <td>169.0</td>\n",
              "      <td>16.0</td>\n",
              "      <td>-2.0</td>\n",
              "      <td>4.0</td>\n",
              "      <td>2.0</td>\n",
              "      <td>6.0</td>\n",
              "      <td>0.0</td>\n",
              "      <td>-6.0</td>\n",
              "      <td>6.0</td>\n",
              "    </tr>\n",
              "    <tr>\n",
              "      <th>390499800001027</th>\n",
              "      <td>5.0</td>\n",
              "      <td>5.0</td>\n",
              "      <td>-2.0</td>\n",
              "      <td>-8.0</td>\n",
              "      <td>1.0</td>\n",
              "      <td>-1.0</td>\n",
              "      <td>1.0</td>\n",
              "      <td>5.0</td>\n",
              "      <td>-1.0</td>\n",
              "    </tr>\n",
              "  </tbody>\n",
              "</table>\n",
              "<p>15048 rows × 9 columns</p>\n",
              "</div>"
            ],
            "text/plain": [
              "RAC1P                1     2     3    4    5     6    7    8    9\n",
              "GEOID10                                                          \n",
              "390490001101001    3.0   2.0   4.0  1.0 -1.0  -1.0  2.0  0.0  5.0\n",
              "390490001101002   47.0  -3.0   2.0 -8.0  6.0   4.0 -2.0  5.0  4.0\n",
              "390490001101003   50.0   7.0  -1.0  9.0  8.0   1.0  0.0 -5.0  1.0\n",
              "390490001101004   52.0   0.0   1.0 -2.0  6.0   4.0  2.0  8.0  7.0\n",
              "390490001101005   55.0  -1.0  10.0 -2.0 -4.0  -2.0 -1.0 -5.0  7.0\n",
              "...                ...   ...   ...  ...  ...   ...  ...  ...  ...\n",
              "390490107001015   91.0  18.0  -7.0 -6.0 -2.0  -3.0 -1.0  0.0  4.0\n",
              "390490107001016   13.0  -2.0 -10.0  1.0 -3.0  -1.0 -1.0  0.0  0.0\n",
              "390490107001017   41.0   9.0  -1.0  4.0 -2.0  11.0 -6.0 -2.0 -1.0\n",
              "390490107001020  169.0  16.0  -2.0  4.0  2.0   6.0  0.0 -6.0  6.0\n",
              "390499800001027    5.0   5.0  -2.0 -8.0  1.0  -1.0  1.0  5.0 -1.0\n",
              "\n",
              "[15048 rows x 9 columns]"
            ]
          },
          "metadata": {},
          "execution_count": 78
        }
      ]
    },
    {
      "cell_type": "markdown",
      "metadata": {
        "id": "KzDk5nC0yKiI"
      },
      "source": [
        "####**Cell uniqueness**\n",
        "Young, C., Martin, D., & Skinner, C. (2009). Geographically intelligent disclosure control for flexible aggregation of census data. International Journal of Geographical Information Science, 23(4), 457-482.\n",
        "\n",
        "Privacy measure: probability of finding a true unique"
      ]
    },
    {
      "cell_type": "code",
      "metadata": {
        "colab": {
          "base_uri": "https://localhost:8080/"
        },
        "id": "nLNB98iXyPj1",
        "outputId": "2e9b67cd-47b7-4054-8c62-e804dd22b65d"
      },
      "source": [
        "# find a true unique\n",
        "tu = (hist1 == hist2) & (hist1 == 1) & (hist2 == 1)\n",
        "n_tu = np.unique(tu.values, return_counts=True)[1][1]\n",
        "n_tu"
      ],
      "execution_count": 79,
      "outputs": [
        {
          "output_type": "execute_result",
          "data": {
            "text/plain": [
              "653"
            ]
          },
          "metadata": {},
          "execution_count": 79
        }
      ]
    },
    {
      "cell_type": "code",
      "metadata": {
        "colab": {
          "base_uri": "https://localhost:8080/"
        },
        "id": "c9dGf3LC4d7_",
        "outputId": "0fcb029e-755f-4347-c8fb-6d14f3f3331c"
      },
      "source": [
        "# uniques after noise injection\n",
        "u = hist2 == 1\n",
        "n_u = np.unique(u.values, return_counts=True)[1][1]\n",
        "n_u"
      ],
      "execution_count": 80,
      "outputs": [
        {
          "output_type": "execute_result",
          "data": {
            "text/plain": [
              "11652"
            ]
          },
          "metadata": {},
          "execution_count": 80
        }
      ]
    },
    {
      "cell_type": "code",
      "metadata": {
        "colab": {
          "base_uri": "https://localhost:8080/"
        },
        "id": "fd73PgPg4nz7",
        "outputId": "bd6e2048-d288-414a-ec12-8f1abd03d7fc"
      },
      "source": [
        "# frequency of finding the true uniques\n",
        "p_tu = n_tu / n_u\n",
        "p_tu"
      ],
      "execution_count": 81,
      "outputs": [
        {
          "output_type": "execute_result",
          "data": {
            "text/plain": [
              "0.05604188122210779"
            ]
          },
          "metadata": {},
          "execution_count": 81
        }
      ]
    },
    {
      "cell_type": "markdown",
      "metadata": {
        "id": "4HDpGpvHcXUM"
      },
      "source": [
        "Let $A_i$ = {cell = $i$ before noise injection}, and the noise be $W\\sim N(0,\\sigma^2)$. A true unique (TU) is a cell = 1 before and after noise injection. The probability of finding a true unique can be defined using the Bayes' theorem:\n",
        "\n",
        "$p(TU)=\\frac{p(-0.5<=W<=0.5)p(A_1)}{\\sum_ip(0.5-i<=W<=1.5-i)p(A_i)}$\n",
        "\n",
        "\n",
        "$p(TU)$ is large if (i) the histogram is dominantly \"unique\", (ii) non-unique cells have relatively large values, and/or (iii) the privacy budget is large."
      ]
    },
    {
      "cell_type": "code",
      "metadata": {
        "colab": {
          "base_uri": "https://localhost:8080/"
        },
        "id": "1CE869uxc5x-",
        "outputId": "7fdb1ea5-ce0d-43c3-b251-0826b78b6402"
      },
      "source": [
        "import scipy.stats\n",
        "\n",
        "column_values = hist1[hist1.columns].values.ravel()\n",
        "A = pd.unique(column_values)\n",
        "\n",
        "probs = []\n",
        "for i in A:\n",
        "    p1 = scipy.stats.norm(0, sigma).cdf(0.5 - i) - scipy.stats.norm(0, sigma).cdf(1.5 - i)\n",
        "    u0 = hist1 == i\n",
        "    p2 = np.unique(u0.values, return_counts=True)[1][1] / (np.unique(u0.values, return_counts=True)[1][1] + \n",
        "                                                           np.unique(u0.values, return_counts=True)[1][0])\n",
        "    probs.append(p1 * p2)\n",
        "\n",
        "p3 = scipy.stats.norm(0, sigma).cdf(-0.5) - scipy.stats.norm(0, sigma).cdf(0.5)\n",
        "u0 = hist1 == 1\n",
        "p4 = np.unique(u0.values, return_counts=True)[1][1] / (np.unique(u0.values, return_counts=True)[1][1] + \n",
        "                                                       np.unique(u0.values, return_counts=True)[1][0])\n",
        "p_tu = p3 * p4 / sum(probs)\n",
        "p_tu"
      ],
      "execution_count": 64,
      "outputs": [
        {
          "output_type": "execute_result",
          "data": {
            "text/plain": [
              "0.054544768415419304"
            ]
          },
          "metadata": {},
          "execution_count": 64
        }
      ]
    },
    {
      "cell_type": "markdown",
      "metadata": {
        "id": "rQ1i-cbNdbc_"
      },
      "source": [
        "We also use a Monte Carlo method to calculate the expected frequency (probability) of finding the true uniques. The result is consistent with the theoretical value."
      ]
    },
    {
      "cell_type": "code",
      "metadata": {
        "colab": {
          "base_uri": "https://localhost:8080/"
        },
        "id": "y8OG9nTl8SQE",
        "outputId": "be707483-610c-488b-fb0f-92a5fe69f09b"
      },
      "source": [
        "import statistics\n",
        "import numpy as np\n",
        "\n",
        "N = 1000    # bootstrap times\n",
        "p_tus = []\n",
        "\n",
        "for i in range(N):\n",
        "    hist2 = hist1 + np.round(np.random.normal(0, sigma, size=(hist1.shape)), 0)\n",
        "    # find a true unique\n",
        "    tu = (hist1 == hist2) & (hist1 == 1) & (hist2 == 1)\n",
        "    n_tu = np.unique(tu.values, return_counts=True)[1][1]\n",
        "    # uniques after noise injection\n",
        "    u = hist2 == 1\n",
        "    n_u = np.unique(u.values, return_counts=True)[1][1]\n",
        "    # frequency of finding the true uniques\n",
        "    p_tu = n_tu / n_u\n",
        "    p_tus.append(p_tu)\n",
        "\n",
        "statistics.mean(p_tus)"
      ],
      "execution_count": 65,
      "outputs": [
        {
          "output_type": "execute_result",
          "data": {
            "text/plain": [
              "0.05450878379766212"
            ]
          },
          "metadata": {},
          "execution_count": 65
        }
      ]
    },
    {
      "cell_type": "markdown",
      "metadata": {
        "id": "4JlBwV4iM9mv"
      },
      "source": [
        "####**More on cell uniqueness**\n",
        "Some simulations to demonstrate how spatial scales affect the probability of finding a true unique. Two aspects of spatial scales are examined here: resolution and extent."
      ]
    },
    {
      "cell_type": "markdown",
      "metadata": {
        "id": "YAgcz2I07Pvq"
      },
      "source": [
        "#####**Impact of resolutions (aggregation levels)**\n",
        "We test the probability of finding a true unique at both block group and tract levels. As shown below, as we increase the aggregation level, the probability raises. This is potentially due to the fact that the histogram is less clustered around the small numbers (e.g., 2, 3, 0 that are easily transformed to 1 when adding noises)."
      ]
    },
    {
      "cell_type": "markdown",
      "metadata": {
        "id": "87-T5Xj47Wal"
      },
      "source": [
        "Block group."
      ]
    },
    {
      "cell_type": "code",
      "metadata": {
        "colab": {
          "base_uri": "https://localhost:8080/",
          "height": 446
        },
        "id": "l04sSEhV7YaO",
        "outputId": "47359e8c-d58c-4536-9155-e2765b3f2f87"
      },
      "source": [
        "hist1_bg = pd.crosstab(data_people.BGID10, data_people.RAC1P)\n",
        "hist1_bg"
      ],
      "execution_count": 82,
      "outputs": [
        {
          "output_type": "execute_result",
          "data": {
            "text/html": [
              "<div>\n",
              "<style scoped>\n",
              "    .dataframe tbody tr th:only-of-type {\n",
              "        vertical-align: middle;\n",
              "    }\n",
              "\n",
              "    .dataframe tbody tr th {\n",
              "        vertical-align: top;\n",
              "    }\n",
              "\n",
              "    .dataframe thead th {\n",
              "        text-align: right;\n",
              "    }\n",
              "</style>\n",
              "<table border=\"1\" class=\"dataframe\">\n",
              "  <thead>\n",
              "    <tr style=\"text-align: right;\">\n",
              "      <th>RAC1P</th>\n",
              "      <th>1</th>\n",
              "      <th>2</th>\n",
              "      <th>3</th>\n",
              "      <th>4</th>\n",
              "      <th>5</th>\n",
              "      <th>6</th>\n",
              "      <th>7</th>\n",
              "      <th>8</th>\n",
              "      <th>9</th>\n",
              "    </tr>\n",
              "    <tr>\n",
              "      <th>BGID10</th>\n",
              "      <th></th>\n",
              "      <th></th>\n",
              "      <th></th>\n",
              "      <th></th>\n",
              "      <th></th>\n",
              "      <th></th>\n",
              "      <th></th>\n",
              "      <th></th>\n",
              "      <th></th>\n",
              "    </tr>\n",
              "  </thead>\n",
              "  <tbody>\n",
              "    <tr>\n",
              "      <th>390490001101</th>\n",
              "      <td>1040</td>\n",
              "      <td>14</td>\n",
              "      <td>0</td>\n",
              "      <td>0</td>\n",
              "      <td>0</td>\n",
              "      <td>8</td>\n",
              "      <td>0</td>\n",
              "      <td>3</td>\n",
              "      <td>15</td>\n",
              "    </tr>\n",
              "    <tr>\n",
              "      <th>390490001102</th>\n",
              "      <td>814</td>\n",
              "      <td>15</td>\n",
              "      <td>0</td>\n",
              "      <td>0</td>\n",
              "      <td>0</td>\n",
              "      <td>14</td>\n",
              "      <td>0</td>\n",
              "      <td>2</td>\n",
              "      <td>7</td>\n",
              "    </tr>\n",
              "    <tr>\n",
              "      <th>390490001103</th>\n",
              "      <td>619</td>\n",
              "      <td>6</td>\n",
              "      <td>0</td>\n",
              "      <td>0</td>\n",
              "      <td>0</td>\n",
              "      <td>4</td>\n",
              "      <td>0</td>\n",
              "      <td>6</td>\n",
              "      <td>9</td>\n",
              "    </tr>\n",
              "    <tr>\n",
              "      <th>390490001104</th>\n",
              "      <td>744</td>\n",
              "      <td>5</td>\n",
              "      <td>0</td>\n",
              "      <td>0</td>\n",
              "      <td>0</td>\n",
              "      <td>4</td>\n",
              "      <td>0</td>\n",
              "      <td>1</td>\n",
              "      <td>5</td>\n",
              "    </tr>\n",
              "    <tr>\n",
              "      <th>390490001201</th>\n",
              "      <td>758</td>\n",
              "      <td>6</td>\n",
              "      <td>0</td>\n",
              "      <td>0</td>\n",
              "      <td>0</td>\n",
              "      <td>10</td>\n",
              "      <td>0</td>\n",
              "      <td>1</td>\n",
              "      <td>12</td>\n",
              "    </tr>\n",
              "    <tr>\n",
              "      <th>...</th>\n",
              "      <td>...</td>\n",
              "      <td>...</td>\n",
              "      <td>...</td>\n",
              "      <td>...</td>\n",
              "      <td>...</td>\n",
              "      <td>...</td>\n",
              "      <td>...</td>\n",
              "      <td>...</td>\n",
              "      <td>...</td>\n",
              "    </tr>\n",
              "    <tr>\n",
              "      <th>390490106021</th>\n",
              "      <td>1369</td>\n",
              "      <td>46</td>\n",
              "      <td>0</td>\n",
              "      <td>0</td>\n",
              "      <td>0</td>\n",
              "      <td>39</td>\n",
              "      <td>0</td>\n",
              "      <td>15</td>\n",
              "      <td>23</td>\n",
              "    </tr>\n",
              "    <tr>\n",
              "      <th>390490106022</th>\n",
              "      <td>2293</td>\n",
              "      <td>58</td>\n",
              "      <td>0</td>\n",
              "      <td>0</td>\n",
              "      <td>0</td>\n",
              "      <td>154</td>\n",
              "      <td>0</td>\n",
              "      <td>14</td>\n",
              "      <td>41</td>\n",
              "    </tr>\n",
              "    <tr>\n",
              "      <th>390490106023</th>\n",
              "      <td>1824</td>\n",
              "      <td>50</td>\n",
              "      <td>0</td>\n",
              "      <td>0</td>\n",
              "      <td>0</td>\n",
              "      <td>209</td>\n",
              "      <td>0</td>\n",
              "      <td>18</td>\n",
              "      <td>35</td>\n",
              "    </tr>\n",
              "    <tr>\n",
              "      <th>390490107001</th>\n",
              "      <td>1062</td>\n",
              "      <td>119</td>\n",
              "      <td>0</td>\n",
              "      <td>0</td>\n",
              "      <td>0</td>\n",
              "      <td>60</td>\n",
              "      <td>0</td>\n",
              "      <td>12</td>\n",
              "      <td>31</td>\n",
              "    </tr>\n",
              "    <tr>\n",
              "      <th>390499800001</th>\n",
              "      <td>2</td>\n",
              "      <td>0</td>\n",
              "      <td>0</td>\n",
              "      <td>0</td>\n",
              "      <td>0</td>\n",
              "      <td>0</td>\n",
              "      <td>0</td>\n",
              "      <td>0</td>\n",
              "      <td>0</td>\n",
              "    </tr>\n",
              "  </tbody>\n",
              "</table>\n",
              "<p>885 rows × 9 columns</p>\n",
              "</div>"
            ],
            "text/plain": [
              "RAC1P            1    2  3  4  5    6  7   8   9\n",
              "BGID10                                          \n",
              "390490001101  1040   14  0  0  0    8  0   3  15\n",
              "390490001102   814   15  0  0  0   14  0   2   7\n",
              "390490001103   619    6  0  0  0    4  0   6   9\n",
              "390490001104   744    5  0  0  0    4  0   1   5\n",
              "390490001201   758    6  0  0  0   10  0   1  12\n",
              "...            ...  ... .. .. ..  ... ..  ..  ..\n",
              "390490106021  1369   46  0  0  0   39  0  15  23\n",
              "390490106022  2293   58  0  0  0  154  0  14  41\n",
              "390490106023  1824   50  0  0  0  209  0  18  35\n",
              "390490107001  1062  119  0  0  0   60  0  12  31\n",
              "390499800001     2    0  0  0  0    0  0   0   0\n",
              "\n",
              "[885 rows x 9 columns]"
            ]
          },
          "metadata": {},
          "execution_count": 82
        }
      ]
    },
    {
      "cell_type": "code",
      "metadata": {
        "colab": {
          "base_uri": "https://localhost:8080/",
          "height": 281
        },
        "id": "gn5tDEpKADBZ",
        "outputId": "9176efc2-a349-4689-cf15-aad9cdcc18af"
      },
      "source": [
        "import seaborn as sns\n",
        "\n",
        "probabilities = hist1_bg.stack().value_counts(normalize=True)    \n",
        "sns.barplot(probabilities.index, probabilities.values).set(xlim=(0, 10))"
      ],
      "execution_count": 83,
      "outputs": [
        {
          "output_type": "execute_result",
          "data": {
            "text/plain": [
              "[(0.0, 10.0)]"
            ]
          },
          "metadata": {},
          "execution_count": 83
        },
        {
          "output_type": "display_data",
          "data": {
            "image/png": "[encoded data removed]",
            "text/plain": [
              "<Figure size 432x288 with 1 Axes>"
            ]
          },
          "metadata": {
            "needs_background": "light"
          }
        }
      ]
    },
    {
      "cell_type": "code",
      "metadata": {
        "colab": {
          "base_uri": "https://localhost:8080/"
        },
        "id": "e1LQyv9k7xUQ",
        "outputId": "c0028561-9c60-44a7-a13e-d393189034ca"
      },
      "source": [
        "import math\n",
        "import numpy as np\n",
        "\n",
        "# privacy budget allocation\n",
        "delta = 10 ** (-10)\n",
        "eps = 17.14 * 3/4099\n",
        "\n",
        "# calculate sigma (standard deviation)\n",
        "sigma = math.sqrt(1 / (2 * eps))\n",
        "# privacy loss budget in differential privacy\n",
        "eps0 = eps + 2 * math.sqrt(eps * math.log(1 / delta))\n",
        "eps, eps0"
      ],
      "execution_count": 67,
      "outputs": [
        {
          "output_type": "execute_result",
          "data": {
            "text/plain": [
              "(0.012544523054403513, 1.0874367368840445)"
            ]
          },
          "metadata": {},
          "execution_count": 67
        }
      ]
    },
    {
      "cell_type": "code",
      "metadata": {
        "colab": {
          "base_uri": "https://localhost:8080/"
        },
        "id": "Z1-qO5xU7VyW",
        "outputId": "ced2a47e-de29-45b6-993e-839761dda226"
      },
      "source": [
        "import scipy.stats\n",
        "\n",
        "column_values = hist1_bg[hist1_bg.columns].values.ravel()\n",
        "A = pd.unique(column_values)\n",
        "\n",
        "probs = []\n",
        "for i in A:\n",
        "    p1 = scipy.stats.norm(0, sigma).cdf(0.5 - i) - scipy.stats.norm(0, sigma).cdf(1.5 - i)\n",
        "    u0 = hist1_bg == i\n",
        "    p2 = np.unique(u0.values, return_counts=True)[1][1] / (np.unique(u0.values, return_counts=True)[1][1] + \n",
        "                                                           np.unique(u0.values, return_counts=True)[1][0])\n",
        "    probs.append(p1 * p2)\n",
        "\n",
        "p3 = scipy.stats.norm(0, sigma).cdf(-0.5) - scipy.stats.norm(0, sigma).cdf(0.5)\n",
        "u0 = hist1_bg == 1\n",
        "p4 = np.unique(u0.values, return_counts=True)[1][1] / (np.unique(u0.values, return_counts=True)[1][1] + \n",
        "                                                       np.unique(u0.values, return_counts=True)[1][0])\n",
        "p_tu = p3 * p4 / sum(probs)\n",
        "p_tu"
      ],
      "execution_count": 68,
      "outputs": [
        {
          "output_type": "execute_result",
          "data": {
            "text/plain": [
              "0.06184121453803658"
            ]
          },
          "metadata": {},
          "execution_count": 68
        }
      ]
    },
    {
      "cell_type": "markdown",
      "metadata": {
        "id": "gbwbohOH8Hd1"
      },
      "source": [
        "Tract."
      ]
    },
    {
      "cell_type": "code",
      "metadata": {
        "colab": {
          "base_uri": "https://localhost:8080/",
          "height": 446
        },
        "id": "Q55Isky-8HeK",
        "outputId": "35761ec0-1e87-41db-9de7-15c15f22fd21"
      },
      "source": [
        "hist1_tr = pd.crosstab(data_people.TRACTID10, data_people.RAC1P)\n",
        "hist1_tr"
      ],
      "execution_count": 31,
      "outputs": [
        {
          "output_type": "execute_result",
          "data": {
            "text/html": [
              "<div>\n",
              "<style scoped>\n",
              "    .dataframe tbody tr th:only-of-type {\n",
              "        vertical-align: middle;\n",
              "    }\n",
              "\n",
              "    .dataframe tbody tr th {\n",
              "        vertical-align: top;\n",
              "    }\n",
              "\n",
              "    .dataframe thead th {\n",
              "        text-align: right;\n",
              "    }\n",
              "</style>\n",
              "<table border=\"1\" class=\"dataframe\">\n",
              "  <thead>\n",
              "    <tr style=\"text-align: right;\">\n",
              "      <th>RAC1P</th>\n",
              "      <th>1</th>\n",
              "      <th>2</th>\n",
              "      <th>3</th>\n",
              "      <th>4</th>\n",
              "      <th>5</th>\n",
              "      <th>6</th>\n",
              "      <th>7</th>\n",
              "      <th>8</th>\n",
              "      <th>9</th>\n",
              "    </tr>\n",
              "    <tr>\n",
              "      <th>TRACTID10</th>\n",
              "      <th></th>\n",
              "      <th></th>\n",
              "      <th></th>\n",
              "      <th></th>\n",
              "      <th></th>\n",
              "      <th></th>\n",
              "      <th></th>\n",
              "      <th></th>\n",
              "      <th></th>\n",
              "    </tr>\n",
              "  </thead>\n",
              "  <tbody>\n",
              "    <tr>\n",
              "      <th>39049000110</th>\n",
              "      <td>3217</td>\n",
              "      <td>40</td>\n",
              "      <td>0</td>\n",
              "      <td>0</td>\n",
              "      <td>0</td>\n",
              "      <td>30</td>\n",
              "      <td>0</td>\n",
              "      <td>12</td>\n",
              "      <td>36</td>\n",
              "    </tr>\n",
              "    <tr>\n",
              "      <th>39049000120</th>\n",
              "      <td>3016</td>\n",
              "      <td>44</td>\n",
              "      <td>0</td>\n",
              "      <td>0</td>\n",
              "      <td>1</td>\n",
              "      <td>36</td>\n",
              "      <td>0</td>\n",
              "      <td>6</td>\n",
              "      <td>48</td>\n",
              "    </tr>\n",
              "    <tr>\n",
              "      <th>39049000210</th>\n",
              "      <td>2773</td>\n",
              "      <td>51</td>\n",
              "      <td>1</td>\n",
              "      <td>0</td>\n",
              "      <td>0</td>\n",
              "      <td>26</td>\n",
              "      <td>0</td>\n",
              "      <td>8</td>\n",
              "      <td>62</td>\n",
              "    </tr>\n",
              "    <tr>\n",
              "      <th>39049000220</th>\n",
              "      <td>3536</td>\n",
              "      <td>31</td>\n",
              "      <td>0</td>\n",
              "      <td>0</td>\n",
              "      <td>0</td>\n",
              "      <td>50</td>\n",
              "      <td>0</td>\n",
              "      <td>20</td>\n",
              "      <td>76</td>\n",
              "    </tr>\n",
              "    <tr>\n",
              "      <th>39049000310</th>\n",
              "      <td>2135</td>\n",
              "      <td>739</td>\n",
              "      <td>0</td>\n",
              "      <td>0</td>\n",
              "      <td>0</td>\n",
              "      <td>67</td>\n",
              "      <td>0</td>\n",
              "      <td>55</td>\n",
              "      <td>137</td>\n",
              "    </tr>\n",
              "    <tr>\n",
              "      <th>...</th>\n",
              "      <td>...</td>\n",
              "      <td>...</td>\n",
              "      <td>...</td>\n",
              "      <td>...</td>\n",
              "      <td>...</td>\n",
              "      <td>...</td>\n",
              "      <td>...</td>\n",
              "      <td>...</td>\n",
              "      <td>...</td>\n",
              "    </tr>\n",
              "    <tr>\n",
              "      <th>39049010500</th>\n",
              "      <td>6499</td>\n",
              "      <td>100</td>\n",
              "      <td>0</td>\n",
              "      <td>0</td>\n",
              "      <td>0</td>\n",
              "      <td>1178</td>\n",
              "      <td>0</td>\n",
              "      <td>28</td>\n",
              "      <td>115</td>\n",
              "    </tr>\n",
              "    <tr>\n",
              "      <th>39049010601</th>\n",
              "      <td>3933</td>\n",
              "      <td>127</td>\n",
              "      <td>0</td>\n",
              "      <td>0</td>\n",
              "      <td>0</td>\n",
              "      <td>436</td>\n",
              "      <td>0</td>\n",
              "      <td>30</td>\n",
              "      <td>83</td>\n",
              "    </tr>\n",
              "    <tr>\n",
              "      <th>39049010602</th>\n",
              "      <td>5486</td>\n",
              "      <td>154</td>\n",
              "      <td>0</td>\n",
              "      <td>0</td>\n",
              "      <td>0</td>\n",
              "      <td>402</td>\n",
              "      <td>0</td>\n",
              "      <td>47</td>\n",
              "      <td>99</td>\n",
              "    </tr>\n",
              "    <tr>\n",
              "      <th>39049010700</th>\n",
              "      <td>1062</td>\n",
              "      <td>119</td>\n",
              "      <td>0</td>\n",
              "      <td>0</td>\n",
              "      <td>0</td>\n",
              "      <td>60</td>\n",
              "      <td>0</td>\n",
              "      <td>12</td>\n",
              "      <td>31</td>\n",
              "    </tr>\n",
              "    <tr>\n",
              "      <th>39049980000</th>\n",
              "      <td>2</td>\n",
              "      <td>0</td>\n",
              "      <td>0</td>\n",
              "      <td>0</td>\n",
              "      <td>0</td>\n",
              "      <td>0</td>\n",
              "      <td>0</td>\n",
              "      <td>0</td>\n",
              "      <td>0</td>\n",
              "    </tr>\n",
              "  </tbody>\n",
              "</table>\n",
              "<p>284 rows × 9 columns</p>\n",
              "</div>"
            ],
            "text/plain": [
              "RAC1P           1    2  3  4  5     6  7   8    9\n",
              "TRACTID10                                        \n",
              "39049000110  3217   40  0  0  0    30  0  12   36\n",
              "39049000120  3016   44  0  0  1    36  0   6   48\n",
              "39049000210  2773   51  1  0  0    26  0   8   62\n",
              "39049000220  3536   31  0  0  0    50  0  20   76\n",
              "39049000310  2135  739  0  0  0    67  0  55  137\n",
              "...           ...  ... .. .. ..   ... ..  ..  ...\n",
              "39049010500  6499  100  0  0  0  1178  0  28  115\n",
              "39049010601  3933  127  0  0  0   436  0  30   83\n",
              "39049010602  5486  154  0  0  0   402  0  47   99\n",
              "39049010700  1062  119  0  0  0    60  0  12   31\n",
              "39049980000     2    0  0  0  0     0  0   0    0\n",
              "\n",
              "[284 rows x 9 columns]"
            ]
          },
          "metadata": {},
          "execution_count": 31
        }
      ]
    },
    {
      "cell_type": "code",
      "metadata": {
        "colab": {
          "base_uri": "https://localhost:8080/",
          "height": 285
        },
        "id": "zglJ3iq7AMyn",
        "outputId": "733a53eb-b8e5-4570-c7ca-a7c5ff219794"
      },
      "source": [
        "import seaborn as sns\n",
        "\n",
        "probabilities = hist1_tr.stack().value_counts(normalize=True)    \n",
        "sns.barplot(probabilities.index, probabilities.values).set(xlim=(0, 10))"
      ],
      "execution_count": null,
      "outputs": [
        {
          "output_type": "execute_result",
          "data": {
            "text/plain": [
              "[(0.0, 10.0)]"
            ]
          },
          "metadata": {},
          "execution_count": 240
        },
        {
          "output_type": "display_data",
          "data": {
            "image/png": "[encoded data removed]",
            "text/plain": [
              "<Figure size 432x288 with 1 Axes>"
            ]
          },
          "metadata": {
            "needs_background": "light"
          }
        }
      ]
    },
    {
      "cell_type": "code",
      "metadata": {
        "colab": {
          "base_uri": "https://localhost:8080/"
        },
        "id": "fU3kNMNX8HeL",
        "outputId": "c1de917d-c1b5-40eb-8a68-c325a0293b1d"
      },
      "source": [
        "import math\n",
        "import numpy as np\n",
        "\n",
        "# privacy budget allocation\n",
        "delta = 10 ** (-10)\n",
        "eps = 17.14 * 4/2051\n",
        "\n",
        "# calculate sigma (standard deviation)\n",
        "sigma = math.sqrt(1 / (2 * eps))\n",
        "# privacy loss budget in differential privacy\n",
        "eps0 = eps + 2 * math.sqrt(eps * math.log(1 / delta))\n",
        "eps, eps0"
      ],
      "execution_count": 69,
      "outputs": [
        {
          "output_type": "execute_result",
          "data": {
            "text/plain": [
              "(0.03342759629449049, 1.7880772470489288)"
            ]
          },
          "metadata": {},
          "execution_count": 69
        }
      ]
    },
    {
      "cell_type": "code",
      "metadata": {
        "colab": {
          "base_uri": "https://localhost:8080/"
        },
        "id": "fJfVioNn8HeL",
        "outputId": "36c6bc1d-91f8-4ce9-89d4-500e9c772284"
      },
      "source": [
        "import scipy.stats\n",
        "\n",
        "column_values = hist1_tr[hist1_tr.columns].values.ravel()\n",
        "A = pd.unique(column_values)\n",
        "\n",
        "probs = []\n",
        "for i in A:\n",
        "    p1 = scipy.stats.norm(0, sigma).cdf(0.5 - i) - scipy.stats.norm(0, sigma).cdf(1.5 - i)\n",
        "    u0 = hist1_tr == i\n",
        "    p2 = np.unique(u0.values, return_counts=True)[1][1] / (np.unique(u0.values, return_counts=True)[1][1] + \n",
        "                                                           np.unique(u0.values, return_counts=True)[1][0])\n",
        "    probs.append(p1 * p2)\n",
        "\n",
        "p3 = scipy.stats.norm(0, sigma).cdf(-0.5) - scipy.stats.norm(0, sigma).cdf(0.5)\n",
        "u0 = hist1_tr == 1\n",
        "p4 = np.unique(u0.values, return_counts=True)[1][1] / (np.unique(u0.values, return_counts=True)[1][1] + \n",
        "                                                       np.unique(u0.values, return_counts=True)[1][0])\n",
        "p_tu = p3 * p4 / sum(probs)\n",
        "p_tu"
      ],
      "execution_count": 70,
      "outputs": [
        {
          "output_type": "execute_result",
          "data": {
            "text/plain": [
              "0.109321997384347"
            ]
          },
          "metadata": {},
          "execution_count": 70
        }
      ]
    },
    {
      "cell_type": "markdown",
      "metadata": {
        "id": "9N1XIX6aGlNx"
      },
      "source": [
        "#####**Impact of extents**"
      ]
    },
    {
      "cell_type": "markdown",
      "metadata": {
        "id": "Eg9zH9_Ki7Fq"
      },
      "source": [
        "Read block and tract data."
      ]
    },
    {
      "cell_type": "code",
      "metadata": {
        "id": "z74fUdStIjrH"
      },
      "source": [
        "!pip install geopandas\n",
        "!pip install pysal"
      ],
      "execution_count": null,
      "outputs": []
    },
    {
      "cell_type": "code",
      "metadata": {
        "colab": {
          "base_uri": "https://localhost:8080/"
        },
        "id": "DGZGgSzaIjrH",
        "outputId": "d0a0bcea-4ee5-4854-f22c-a7d63ef70ef2"
      },
      "source": [
        "%cd \"/content/gdrive/My Drive/Colab Notebooks/census_privacy\"\n",
        "import geopandas as gpd\n",
        "\n",
        "filename_block = 'franklin/buildings/franklin_block10.json'\n",
        "data_block = gpd.read_file(filename_block)\n",
        "data_block['GEOID10'] = data_block['GEOID10'].astype(str)\n",
        "data_block['BGID10'] = data_block['GEOID10'].str[:12]\n",
        "data_block['TRACTID10'] = data_block['GEOID10'].str[:11]\n",
        "data_block.columns"
      ],
      "execution_count": 91,
      "outputs": [
        {
          "output_type": "stream",
          "name": "stdout",
          "text": [
            "/content/gdrive/My Drive/Colab Notebooks/census_privacy\n"
          ]
        },
        {
          "output_type": "execute_result",
          "data": {
            "text/plain": [
              "Index(['OBJECTID_1', 'STATEFP10', 'COUNTYFP10', 'TRACTCE10', 'BLOCKCE10',\n",
              "       'GEOID10', 'NAME10', 'MTFCC10', 'UR10', 'UACE10', 'UATYPE',\n",
              "       'FUNCSTAT10', 'ALAND10', 'AWATER10', 'INTPTLAT10', 'INTPTLON10', 'PUMA',\n",
              "       'Shape_Length', 'Shape_Area', 'BGID10', 'TRACTID10', 'geometry'],\n",
              "      dtype='object')"
            ]
          },
          "metadata": {},
          "execution_count": 91
        }
      ]
    },
    {
      "cell_type": "code",
      "metadata": {
        "colab": {
          "base_uri": "https://localhost:8080/"
        },
        "id": "JGFxJ_t75sqO",
        "outputId": "e75d3ba3-ad0c-4a55-c6af-c12b4d35ed42"
      },
      "source": [
        "%cd \"/content/gdrive/My Drive/Colab Notebooks/census_privacy\"\n",
        "import geopandas as gpd\n",
        "\n",
        "filename_tract = 'franklin/buildings/franklin_tract10.json'\n",
        "data_tract = gpd.read_file(filename_tract)\n",
        "data_tract['GEOID10'] = data_tract['GEOID10'].astype(str)\n",
        "data_tract.columns"
      ],
      "execution_count": 112,
      "outputs": [
        {
          "output_type": "stream",
          "name": "stdout",
          "text": [
            "/content/gdrive/My Drive/Colab Notebooks/census_privacy\n"
          ]
        },
        {
          "output_type": "execute_result",
          "data": {
            "text/plain": [
              "Index(['OBJECTID', 'STATEFP10', 'COUNTYFP10', 'TRACTCE10', 'GEOID10', 'NAME10',\n",
              "       'NAMELSAD10', 'MTFCC10', 'FUNCSTAT10', 'ALAND10', 'AWATER10',\n",
              "       'INTPTLAT10', 'INTPTLON10', 'Shape_Length', 'Shape_Area', 'geometry'],\n",
              "      dtype='object')"
            ]
          },
          "metadata": {},
          "execution_count": 112
        }
      ]
    },
    {
      "cell_type": "markdown",
      "metadata": {
        "id": "H59SvuWwjCTE"
      },
      "source": [
        "Find blocks in the most populated tract (largest population density)."
      ]
    },
    {
      "cell_type": "code",
      "metadata": {
        "colab": {
          "base_uri": "https://localhost:8080/",
          "height": 202
        },
        "id": "H1ecmHHIGpsu",
        "outputId": "1a7246b2-b264-4b4c-9b20-22bd2b2d9bd6"
      },
      "source": [
        "total = hist1_tr.sum(axis=1).to_frame()\n",
        "total[\"GEOID10\"] = total.index.map(str)\n",
        "total = total.rename(columns={total.columns[0]: \"POP\"})\n",
        "total.index.name = None\n",
        "data_tract_new = data_tract.merge(total[['GEOID10', 'POP']], how='left', on=['GEOID10'])\n",
        "total.head()"
      ],
      "execution_count": 98,
      "outputs": [
        {
          "output_type": "execute_result",
          "data": {
            "text/html": [
              "<div>\n",
              "<style scoped>\n",
              "    .dataframe tbody tr th:only-of-type {\n",
              "        vertical-align: middle;\n",
              "    }\n",
              "\n",
              "    .dataframe tbody tr th {\n",
              "        vertical-align: top;\n",
              "    }\n",
              "\n",
              "    .dataframe thead th {\n",
              "        text-align: right;\n",
              "    }\n",
              "</style>\n",
              "<table border=\"1\" class=\"dataframe\">\n",
              "  <thead>\n",
              "    <tr style=\"text-align: right;\">\n",
              "      <th></th>\n",
              "      <th>POP</th>\n",
              "      <th>GEOID10</th>\n",
              "    </tr>\n",
              "  </thead>\n",
              "  <tbody>\n",
              "    <tr>\n",
              "      <th>39049000110</th>\n",
              "      <td>3335</td>\n",
              "      <td>39049000110</td>\n",
              "    </tr>\n",
              "    <tr>\n",
              "      <th>39049000120</th>\n",
              "      <td>3151</td>\n",
              "      <td>39049000120</td>\n",
              "    </tr>\n",
              "    <tr>\n",
              "      <th>39049000210</th>\n",
              "      <td>2921</td>\n",
              "      <td>39049000210</td>\n",
              "    </tr>\n",
              "    <tr>\n",
              "      <th>39049000220</th>\n",
              "      <td>3713</td>\n",
              "      <td>39049000220</td>\n",
              "    </tr>\n",
              "    <tr>\n",
              "      <th>39049000310</th>\n",
              "      <td>3133</td>\n",
              "      <td>39049000310</td>\n",
              "    </tr>\n",
              "  </tbody>\n",
              "</table>\n",
              "</div>"
            ],
            "text/plain": [
              "              POP      GEOID10\n",
              "39049000110  3335  39049000110\n",
              "39049000120  3151  39049000120\n",
              "39049000210  2921  39049000210\n",
              "39049000220  3713  39049000220\n",
              "39049000310  3133  39049000310"
            ]
          },
          "metadata": {},
          "execution_count": 98
        }
      ]
    },
    {
      "cell_type": "code",
      "metadata": {
        "colab": {
          "base_uri": "https://localhost:8080/"
        },
        "id": "m5oPoBUR6JSq",
        "outputId": "645fc2ca-73a5-4593-fdfc-30bf35b1d23b"
      },
      "source": [
        "data_tract_new[\"POP_DEN\"] = data_tract_new[\"POP\"] / data_tract_new[\"ALAND10\"]\n",
        "max_index = data_tract_new[\"POP_DEN\"].idxmax()\n",
        "max_id = data_tract_new.loc[max_index].at['GEOID10']\n",
        "max_index, max_id"
      ],
      "execution_count": 110,
      "outputs": [
        {
          "output_type": "execute_result",
          "data": {
            "text/plain": [
              "(232, '39049001810')"
            ]
          },
          "metadata": {},
          "execution_count": 110
        }
      ]
    },
    {
      "cell_type": "markdown",
      "metadata": {
        "id": "1g9Bgrc_ou0A"
      },
      "source": [
        "Calculate $p(TU)$ based on the selected blocks (only blocks in the most population tract)."
      ]
    },
    {
      "cell_type": "code",
      "metadata": {
        "colab": {
          "base_uri": "https://localhost:8080/",
          "height": 233
        },
        "id": "9Fd4jEXtoufF",
        "outputId": "23fe119f-1cc9-4160-e7b4-c6635bb2a194"
      },
      "source": [
        "data_people_b1 = data_people[data_people[\"TRACTID10\"] == max_id]\n",
        "hist1_b1 = pd.crosstab(data_people_b1.GEOID10, data_people_b1.RAC1P)\n",
        "hist1_b1.head()"
      ],
      "execution_count": 101,
      "outputs": [
        {
          "output_type": "execute_result",
          "data": {
            "text/html": [
              "<div>\n",
              "<style scoped>\n",
              "    .dataframe tbody tr th:only-of-type {\n",
              "        vertical-align: middle;\n",
              "    }\n",
              "\n",
              "    .dataframe tbody tr th {\n",
              "        vertical-align: top;\n",
              "    }\n",
              "\n",
              "    .dataframe thead th {\n",
              "        text-align: right;\n",
              "    }\n",
              "</style>\n",
              "<table border=\"1\" class=\"dataframe\">\n",
              "  <thead>\n",
              "    <tr style=\"text-align: right;\">\n",
              "      <th>RAC1P</th>\n",
              "      <th>1</th>\n",
              "      <th>2</th>\n",
              "      <th>3</th>\n",
              "      <th>5</th>\n",
              "      <th>6</th>\n",
              "      <th>8</th>\n",
              "      <th>9</th>\n",
              "    </tr>\n",
              "    <tr>\n",
              "      <th>GEOID10</th>\n",
              "      <th></th>\n",
              "      <th></th>\n",
              "      <th></th>\n",
              "      <th></th>\n",
              "      <th></th>\n",
              "      <th></th>\n",
              "      <th></th>\n",
              "    </tr>\n",
              "  </thead>\n",
              "  <tbody>\n",
              "    <tr>\n",
              "      <th>390490018101000</th>\n",
              "      <td>88</td>\n",
              "      <td>5</td>\n",
              "      <td>0</td>\n",
              "      <td>0</td>\n",
              "      <td>7</td>\n",
              "      <td>2</td>\n",
              "      <td>4</td>\n",
              "    </tr>\n",
              "    <tr>\n",
              "      <th>390490018101001</th>\n",
              "      <td>45</td>\n",
              "      <td>0</td>\n",
              "      <td>0</td>\n",
              "      <td>0</td>\n",
              "      <td>8</td>\n",
              "      <td>0</td>\n",
              "      <td>1</td>\n",
              "    </tr>\n",
              "    <tr>\n",
              "      <th>390490018101002</th>\n",
              "      <td>338</td>\n",
              "      <td>25</td>\n",
              "      <td>0</td>\n",
              "      <td>0</td>\n",
              "      <td>53</td>\n",
              "      <td>6</td>\n",
              "      <td>15</td>\n",
              "    </tr>\n",
              "    <tr>\n",
              "      <th>390490018101003</th>\n",
              "      <td>153</td>\n",
              "      <td>4</td>\n",
              "      <td>0</td>\n",
              "      <td>0</td>\n",
              "      <td>30</td>\n",
              "      <td>0</td>\n",
              "      <td>5</td>\n",
              "    </tr>\n",
              "    <tr>\n",
              "      <th>390490018101004</th>\n",
              "      <td>234</td>\n",
              "      <td>7</td>\n",
              "      <td>0</td>\n",
              "      <td>0</td>\n",
              "      <td>40</td>\n",
              "      <td>0</td>\n",
              "      <td>6</td>\n",
              "    </tr>\n",
              "  </tbody>\n",
              "</table>\n",
              "</div>"
            ],
            "text/plain": [
              "RAC1P              1   2  3  5   6  8   9\n",
              "GEOID10                                  \n",
              "390490018101000   88   5  0  0   7  2   4\n",
              "390490018101001   45   0  0  0   8  0   1\n",
              "390490018101002  338  25  0  0  53  6  15\n",
              "390490018101003  153   4  0  0  30  0   5\n",
              "390490018101004  234   7  0  0  40  0   6"
            ]
          },
          "metadata": {},
          "execution_count": 101
        }
      ]
    },
    {
      "cell_type": "code",
      "metadata": {
        "colab": {
          "base_uri": "https://localhost:8080/",
          "height": 281
        },
        "id": "jiExPImE9Szz",
        "outputId": "4cc22658-8c47-4005-a1f1-b79daec4e3b1"
      },
      "source": [
        "import seaborn as sns\n",
        "\n",
        "probabilities = hist1_b1.stack().value_counts(normalize=True)    \n",
        "sns.barplot(probabilities.index, probabilities.values).set(xlim=(0, 10))"
      ],
      "execution_count": 102,
      "outputs": [
        {
          "output_type": "execute_result",
          "data": {
            "text/plain": [
              "[(0.0, 10.0)]"
            ]
          },
          "metadata": {},
          "execution_count": 102
        },
        {
          "output_type": "display_data",
          "data": {
            "image/png": "[encoded data removed]",
            "text/plain": [
              "<Figure size 432x288 with 1 Axes>"
            ]
          },
          "metadata": {
            "needs_background": "light"
          }
        }
      ]
    },
    {
      "cell_type": "code",
      "metadata": {
        "colab": {
          "base_uri": "https://localhost:8080/"
        },
        "id": "DzIZZ1OLoZPI",
        "outputId": "bf8cedcc-2b6e-4a72-8417-ca8740c7f3bd"
      },
      "source": [
        "import scipy.stats\n",
        "\n",
        "column_values = hist1_b1[hist1_b1.columns].values.ravel()\n",
        "A = pd.unique(column_values)\n",
        "\n",
        "probs = []\n",
        "for i in A:\n",
        "    p1 = scipy.stats.norm(0, sigma).cdf(0.5 - i) - scipy.stats.norm(0, sigma).cdf(1.5 - i)\n",
        "    u0 = hist1_b1 == i\n",
        "    p2 = np.unique(u0.values, return_counts=True)[1][1] / (np.unique(u0.values, return_counts=True)[1][1] + \n",
        "                                                           np.unique(u0.values, return_counts=True)[1][0])\n",
        "    probs.append(p1 * p2)\n",
        "\n",
        "p3 = scipy.stats.norm(0, sigma).cdf(-0.5) - scipy.stats.norm(0, sigma).cdf(0.5)\n",
        "u0 = hist1_b1 == 1\n",
        "p4 = np.unique(u0.values, return_counts=True)[1][1] / (np.unique(u0.values, return_counts=True)[1][1] + \n",
        "                                                       np.unique(u0.values, return_counts=True)[1][0])\n",
        "p_tu = p3 * p4 / sum(probs)\n",
        "p_tu"
      ],
      "execution_count": 103,
      "outputs": [
        {
          "output_type": "execute_result",
          "data": {
            "text/plain": [
              "0.12633160521910972"
            ]
          },
          "metadata": {},
          "execution_count": 103
        }
      ]
    },
    {
      "cell_type": "markdown",
      "metadata": {
        "id": "suP6PRBYq2uD"
      },
      "source": [
        "Expand the examined blocks by considering those in the k-nearst neighbors of the most populated tract."
      ]
    },
    {
      "cell_type": "code",
      "metadata": {
        "colab": {
          "base_uri": "https://localhost:8080/"
        },
        "id": "uatdlUkVtFi0",
        "outputId": "33abe6ab-e87a-49a4-a8b1-5441a223de0a"
      },
      "source": [
        "import geopandas as gpd\n",
        "from pysal.lib import weights\n",
        "\n",
        "k5 = weights.KNN.from_dataframe(data_tract, k=5)\n",
        "nb_index = k5.neighbors[max_index]\n",
        "nb_id = data_tract[\"GEOID10\"].iloc[nb_index]\n",
        "nb_id"
      ],
      "execution_count": 125,
      "outputs": [
        {
          "output_type": "execute_result",
          "data": {
            "text/plain": [
              "231    39049001820\n",
              "126    39049001121\n",
              "233    39049001700\n",
              "230    39049002000\n",
              "244    39049001300\n",
              "Name: GEOID10, dtype: object"
            ]
          },
          "metadata": {},
          "execution_count": 125
        }
      ]
    },
    {
      "cell_type": "code",
      "metadata": {
        "colab": {
          "base_uri": "https://localhost:8080/",
          "height": 233
        },
        "id": "i4b5VpLJ8lVl",
        "outputId": "fc666333-7fbc-415a-d1b8-82f732b8782a"
      },
      "source": [
        "data_people_b2 = data_people[data_people[\"TRACTID10\"].isin(nb_id)]\n",
        "hist1_b2 = pd.crosstab(data_people_b2.GEOID10, data_people_b2.RAC1P)\n",
        "hist1_b2.head()"
      ],
      "execution_count": 126,
      "outputs": [
        {
          "output_type": "execute_result",
          "data": {
            "text/html": [
              "<div>\n",
              "<style scoped>\n",
              "    .dataframe tbody tr th:only-of-type {\n",
              "        vertical-align: middle;\n",
              "    }\n",
              "\n",
              "    .dataframe tbody tr th {\n",
              "        vertical-align: top;\n",
              "    }\n",
              "\n",
              "    .dataframe thead th {\n",
              "        text-align: right;\n",
              "    }\n",
              "</style>\n",
              "<table border=\"1\" class=\"dataframe\">\n",
              "  <thead>\n",
              "    <tr style=\"text-align: right;\">\n",
              "      <th>RAC1P</th>\n",
              "      <th>1</th>\n",
              "      <th>2</th>\n",
              "      <th>3</th>\n",
              "      <th>5</th>\n",
              "      <th>6</th>\n",
              "      <th>8</th>\n",
              "      <th>9</th>\n",
              "    </tr>\n",
              "    <tr>\n",
              "      <th>GEOID10</th>\n",
              "      <th></th>\n",
              "      <th></th>\n",
              "      <th></th>\n",
              "      <th></th>\n",
              "      <th></th>\n",
              "      <th></th>\n",
              "      <th></th>\n",
              "    </tr>\n",
              "  </thead>\n",
              "  <tbody>\n",
              "    <tr>\n",
              "      <th>390490011212001</th>\n",
              "      <td>5</td>\n",
              "      <td>1</td>\n",
              "      <td>0</td>\n",
              "      <td>0</td>\n",
              "      <td>0</td>\n",
              "      <td>0</td>\n",
              "      <td>0</td>\n",
              "    </tr>\n",
              "    <tr>\n",
              "      <th>390490011212003</th>\n",
              "      <td>1779</td>\n",
              "      <td>90</td>\n",
              "      <td>0</td>\n",
              "      <td>2</td>\n",
              "      <td>125</td>\n",
              "      <td>16</td>\n",
              "      <td>5</td>\n",
              "    </tr>\n",
              "    <tr>\n",
              "      <th>390490011213000</th>\n",
              "      <td>13</td>\n",
              "      <td>0</td>\n",
              "      <td>0</td>\n",
              "      <td>0</td>\n",
              "      <td>10</td>\n",
              "      <td>0</td>\n",
              "      <td>1</td>\n",
              "    </tr>\n",
              "    <tr>\n",
              "      <th>390490011213001</th>\n",
              "      <td>11</td>\n",
              "      <td>0</td>\n",
              "      <td>0</td>\n",
              "      <td>0</td>\n",
              "      <td>4</td>\n",
              "      <td>0</td>\n",
              "      <td>1</td>\n",
              "    </tr>\n",
              "    <tr>\n",
              "      <th>390490011213002</th>\n",
              "      <td>36</td>\n",
              "      <td>1</td>\n",
              "      <td>0</td>\n",
              "      <td>0</td>\n",
              "      <td>0</td>\n",
              "      <td>0</td>\n",
              "      <td>0</td>\n",
              "    </tr>\n",
              "  </tbody>\n",
              "</table>\n",
              "</div>"
            ],
            "text/plain": [
              "RAC1P               1   2  3  5    6   8  9\n",
              "GEOID10                                    \n",
              "390490011212001     5   1  0  0    0   0  0\n",
              "390490011212003  1779  90  0  2  125  16  5\n",
              "390490011213000    13   0  0  0   10   0  1\n",
              "390490011213001    11   0  0  0    4   0  1\n",
              "390490011213002    36   1  0  0    0   0  0"
            ]
          },
          "metadata": {},
          "execution_count": 126
        }
      ]
    },
    {
      "cell_type": "code",
      "metadata": {
        "colab": {
          "base_uri": "https://localhost:8080/",
          "height": 281
        },
        "id": "04Nt3-8dEio7",
        "outputId": "a77e79b3-e86c-4653-f044-3075cc2d1cec"
      },
      "source": [
        "import seaborn as sns\n",
        "\n",
        "probabilities = hist1_b2.stack().value_counts(normalize=True)    \n",
        "sns.barplot(probabilities.index, probabilities.values).set(xlim=(0, 10))"
      ],
      "execution_count": 127,
      "outputs": [
        {
          "output_type": "execute_result",
          "data": {
            "text/plain": [
              "[(0.0, 10.0)]"
            ]
          },
          "metadata": {},
          "execution_count": 127
        },
        {
          "output_type": "display_data",
          "data": {
            "image/png": "[encoded data removed]",
            "text/plain": [
              "<Figure size 432x288 with 1 Axes>"
            ]
          },
          "metadata": {
            "needs_background": "light"
          }
        }
      ]
    },
    {
      "cell_type": "code",
      "metadata": {
        "colab": {
          "base_uri": "https://localhost:8080/"
        },
        "id": "Sodp-AUXEn5l",
        "outputId": "d6cc991a-045f-4e31-a423-4d21ff7299bf"
      },
      "source": [
        "import scipy.stats\n",
        "\n",
        "column_values = hist1_b2[hist1_b2.columns].values.ravel()\n",
        "A = pd.unique(column_values)\n",
        "\n",
        "probs = []\n",
        "for i in A:\n",
        "    p1 = scipy.stats.norm(0, sigma).cdf(0.5 - i) - scipy.stats.norm(0, sigma).cdf(1.5 - i)\n",
        "    u0 = hist1_b2 == i\n",
        "    p2 = np.unique(u0.values, return_counts=True)[1][1] / (np.unique(u0.values, return_counts=True)[1][1] + \n",
        "                                                           np.unique(u0.values, return_counts=True)[1][0])\n",
        "    probs.append(p1 * p2)\n",
        "\n",
        "p3 = scipy.stats.norm(0, sigma).cdf(-0.5) - scipy.stats.norm(0, sigma).cdf(0.5)\n",
        "u0 = hist1_b2 == 1\n",
        "p4 = np.unique(u0.values, return_counts=True)[1][1] / (np.unique(u0.values, return_counts=True)[1][1] + \n",
        "                                                       np.unique(u0.values, return_counts=True)[1][0])\n",
        "p_tu = p3 * p4 / sum(probs)\n",
        "p_tu"
      ],
      "execution_count": 128,
      "outputs": [
        {
          "output_type": "execute_result",
          "data": {
            "text/plain": [
              "0.13538124078773764"
            ]
          },
          "metadata": {},
          "execution_count": 128
        }
      ]
    },
    {
      "cell_type": "markdown",
      "metadata": {
        "id": "Y3Xs2-gVEbQ8"
      },
      "source": [
        "We can keep searching the k-neighbors until all blocks in the county are covered. "
      ]
    },
    {
      "cell_type": "code",
      "metadata": {
        "colab": {
          "base_uri": "https://localhost:8080/"
        },
        "id": "COGn30YeFHcH",
        "outputId": "7dff2426-f83e-47b5-d6b8-73742beff8dd"
      },
      "source": [
        "import geopandas as gpd\n",
        "from pysal.lib import weights\n",
        "import scipy.stats\n",
        "\n",
        "# k-nearest neighbors for all tracts\n",
        "k10 = weights.KNN.from_dataframe(data_tract, k=10)\n",
        "\n",
        "tract_index = [max_index]\n",
        "p_tu_all = []\n",
        "while len(tract_index) < len(data_tract):\n",
        "    # create histogram\n",
        "    tract_ids = data_tract[\"GEOID10\"].iloc[tract_index]\n",
        "    data_people_sub = data_people[data_people[\"TRACTID10\"].isin(tract_ids)]\n",
        "    hist1_sub = pd.crosstab(data_people_sub.GEOID10, data_people_sub.RAC1P)\n",
        "    \n",
        "    # calculate p(TU)\n",
        "    column_values = hist1_sub[hist1_sub.columns].values.ravel()\n",
        "    A = pd.unique(column_values)\n",
        "    probs = []\n",
        "    for i in A:\n",
        "        p1 = scipy.stats.norm(0, sigma).cdf(0.5 - i) - scipy.stats.norm(0, sigma).cdf(1.5 - i)\n",
        "        u0 = hist1_sub == i\n",
        "        p2 = np.unique(u0.values, return_counts=True)[1][1] / (np.unique(u0.values, return_counts=True)[1][1] + \n",
        "                                                               np.unique(u0.values, return_counts=True)[1][0])\n",
        "        probs.append(p1 * p2)\n",
        "    p3 = scipy.stats.norm(0, sigma).cdf(-0.5) - scipy.stats.norm(0, sigma).cdf(0.5)\n",
        "    u0 = hist1_sub == 1\n",
        "    p4 = np.unique(u0.values, return_counts=True)[1][1] / (np.unique(u0.values, return_counts=True)[1][1] + \n",
        "                                                           np.unique(u0.values, return_counts=True)[1][0])\n",
        "    p_tu = p3 * p4 / sum(probs)\n",
        "    p_tu_all.append(p_tu)\n",
        "\n",
        "    # add neighbors \n",
        "    nb_index = np.array([k10.neighbors.get(tract) for tract in tract_index]).flatten()\n",
        "    tract_index = list(set(np.append(tract_index, nb_index)))\n",
        "    # print(len(tract_index))\n",
        "p_tu_all"
      ],
      "execution_count": 167,
      "outputs": [
        {
          "output_type": "execute_result",
          "data": {
            "text/plain": [
              "[0.12633160521910972,\n",
              " 0.142613659839094,\n",
              " 0.12191766888618107,\n",
              " 0.08939383684202645,\n",
              " 0.07462288610627751,\n",
              " 0.0708886671197483,\n",
              " 0.05880320127166395,\n",
              " 0.05653310155035756,\n",
              " 0.05631255893117945,\n",
              " 0.05549527302405874,\n",
              " 0.05480016528592121]"
            ]
          },
          "metadata": {},
          "execution_count": 167
        }
      ]
    },
    {
      "cell_type": "markdown",
      "metadata": {
        "id": "mwxnp9CMWL8x"
      },
      "source": [
        "We visualize the trend of $p(TU)$ during the expansion. As shown in the figure, $p(TU)$ increases in the first iteration, and then continues to decrease during the subsequent interations."
      ]
    },
    {
      "cell_type": "code",
      "metadata": {
        "colab": {
          "base_uri": "https://localhost:8080/",
          "height": 279
        },
        "id": "EGjZotAMSx3q",
        "outputId": "528148d4-2736-4276-f9e8-2a6a9b7de8ab"
      },
      "source": [
        "import matplotlib.pyplot as plt\n",
        "import numpy as np\n",
        "\n",
        "plt.plot(np.array(p_tu_all), color = 'r')\n",
        "plt.xlabel(\"Iteration\")\n",
        "plt.ylabel(\"p(TU)\")\n",
        "plt.show()"
      ],
      "execution_count": 169,
      "outputs": [
        {
          "output_type": "display_data",
          "data": {
            "image/png": "[encoded data removed]",
            "text/plain": [
              "<Figure size 432x288 with 1 Axes>"
            ]
          },
          "metadata": {
            "needs_background": "light"
          }
        }
      ]
    },
    {
      "cell_type": "markdown",
      "metadata": {
        "id": "Q__o1dGLon0M"
      },
      "source": [
        "The trend above can potentially be explained by the population distribution in the county. During the first iteration, more populated blocks are added in the histogram, and thus it is less concentrated around small numbers. As the iteration increases, more sparse blocks are added, and the histogram is more concentrated around zero. This can lead to the sharpe decrease in $p(TU)$."
      ]
    },
    {
      "cell_type": "code",
      "metadata": {
        "colab": {
          "base_uri": "https://localhost:8080/",
          "height": 281
        },
        "id": "I8P0mGszIY7J",
        "outputId": "ebc392f6-1f09-480a-beee-38485e4d5ab5"
      },
      "source": [
        "import matplotlib.pyplot as plt\n",
        "\n",
        "fig, ax = plt.subplots(1, 1)\n",
        "data_tract_new.plot(column='POP_DEN', ax=ax, legend=True)"
      ],
      "execution_count": 170,
      "outputs": [
        {
          "output_type": "execute_result",
          "data": {
            "text/plain": [
              "<matplotlib.axes._subplots.AxesSubplot at 0x7fae25842bd0>"
            ]
          },
          "metadata": {},
          "execution_count": 170
        },
        {
          "output_type": "display_data",
          "data": {
            "image/png": "[encoded data removed]",
            "text/plain": [
              "<Figure size 432x288 with 2 Axes>"
            ]
          },
          "metadata": {
            "needs_background": "light"
          }
        }
      ]
    },
    {
      "cell_type": "code",
      "metadata": {
        "colab": {
          "base_uri": "https://localhost:8080/",
          "height": 381
        },
        "id": "Nd5lxf8Ue6xq",
        "outputId": "e1476b0a-2cd8-4593-c454-daca36c31149"
      },
      "source": [
        "from splot.esda import lisa_cluster\n",
        "from pysal.lib import weights\n",
        "from pysal.explore import esda\n",
        "\n",
        "data_tract_new['POP_DEN'] = data_tract_new['POP_DEN'].fillna(0)\n",
        "# Generate W from the GeoDataFrame\n",
        "w = weights.Queen.from_dataframe(data_tract_new)\n",
        "# Row-standardization\n",
        "w.transform = 'R'\n",
        "\n",
        "moran_loc = esda.moran.Moran_Local(data_tract_new['POP_DEN'].values, w)\n",
        "lisa_cluster(moran_loc, data_tract_new, p=0.05, figsize = (9,9))\n",
        "plt.show()"
      ],
      "execution_count": 171,
      "outputs": [
        {
          "output_type": "display_data",
          "data": {
            "image/png": "[encoded data removed]",
            "text/plain": [
              "<Figure size 648x648 with 1 Axes>"
            ]
          },
          "metadata": {
            "needs_background": "light"
          }
        }
      ]
    },
    {
      "cell_type": "markdown",
      "metadata": {
        "id": "_J1uqhyE_4ld"
      },
      "source": [
        "####**Check LP metric**\n",
        "Wieland, S. C., Cassa, C. A., Mandl, K. D., & Berger, B. (2008). Revealing the spatial distribution of a disease while preserving privacy. Proceedings of the National Academy of Sciences, 105(46), 17608-17613.\n",
        "\n",
        "Privacy measure: probability that any chosen member of the population belong to the target population"
      ]
    },
    {
      "cell_type": "code",
      "metadata": {
        "id": "_VACghV8-vUk"
      },
      "source": [
        ""
      ],
      "execution_count": null,
      "outputs": []
    }
  ]
}