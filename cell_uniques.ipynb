{
  "nbformat": 4,
  "nbformat_minor": 0,
  "metadata": {
    "colab": {
      "name": "cell uniques.ipynb",
      "provenance": [],
      "collapsed_sections": [],
      "authorship_tag": "ABX9TyNo6sDN4zWLtbpnSRbIrNSs",
      "include_colab_link": true
    },
    "kernelspec": {
      "name": "python3",
      "display_name": "Python 3"
    },
    "language_info": {
      "name": "python"
    }
  },
  "cells": [
    {
      "cell_type": "markdown",
      "metadata": {
        "id": "view-in-github",
        "colab_type": "text"
      },
      "source": [
        "<a href=\"https://colab.research.google.com/github/linyuehzzz/census_privacy/blob/main/cell_uniques.ipynb\" target=\"_parent\"><img src=\"https://colab.research.google.com/assets/colab-badge.svg\" alt=\"Open In Colab\"/></a>"
      ]
    },
    {
      "cell_type": "code",
      "metadata": {
        "id": "zLeEw-8vLEbA",
        "colab": {
          "base_uri": "https://localhost:8080/"
        },
        "outputId": "5cf4036b-2f98-4f91-a920-3d95424f8ceb"
      },
      "source": [
        "from google.colab import drive\n",
        "drive.mount(\"/content/gdrive\")"
      ],
      "execution_count": null,
      "outputs": [
        {
          "output_type": "stream",
          "name": "stdout",
          "text": [
            "Mounted at /content/gdrive\n"
          ]
        }
      ]
    },
    {
      "cell_type": "markdown",
      "metadata": {
        "id": "S4xVcLAfX1bz"
      },
      "source": [
        "#### **Read synthetic population data**"
      ]
    },
    {
      "cell_type": "code",
      "metadata": {
        "colab": {
          "base_uri": "https://localhost:8080/",
          "height": 432
        },
        "id": "K-v55hYUUWEC",
        "outputId": "4df6909f-b719-4803-95bb-527b45fc3a98"
      },
      "source": [
        "%cd \"/content/gdrive/My Drive/Colab Notebooks/census_privacy\"\n",
        "import pandas as pd\n",
        "\n",
        "filename_people = 'franklin/microdata/franklin_people_all.csv'\n",
        "data_people = pd.read_csv(filename_people)\n",
        "data_people['GEOID10'] = data_people['GEOID10'].astype(str)\n",
        "data_people['BGID10'] = data_people['GEOID10'].str[:12]\n",
        "data_people['TRACTID10'] = data_people['GEOID10'].str[:11]\n",
        "data_people"
      ],
      "execution_count": null,
      "outputs": [
        {
          "output_type": "stream",
          "name": "stdout",
          "text": [
            "/content/gdrive/My Drive/Colab Notebooks/census_privacy\n"
          ]
        },
        {
          "output_type": "execute_result",
          "data": {
            "text/html": [
              "<div>\n",
              "<style scoped>\n",
              "    .dataframe tbody tr th:only-of-type {\n",
              "        vertical-align: middle;\n",
              "    }\n",
              "\n",
              "    .dataframe tbody tr th {\n",
              "        vertical-align: top;\n",
              "    }\n",
              "\n",
              "    .dataframe thead th {\n",
              "        text-align: right;\n",
              "    }\n",
              "</style>\n",
              "<table border=\"1\" class=\"dataframe\">\n",
              "  <thead>\n",
              "    <tr style=\"text-align: right;\">\n",
              "      <th></th>\n",
              "      <th>GEOID10</th>\n",
              "      <th>race</th>\n",
              "      <th>sex</th>\n",
              "      <th>age</th>\n",
              "      <th>age_v</th>\n",
              "      <th>PUMA</th>\n",
              "      <th>BGID10</th>\n",
              "      <th>TRACTID10</th>\n",
              "    </tr>\n",
              "  </thead>\n",
              "  <tbody>\n",
              "    <tr>\n",
              "      <th>0</th>\n",
              "      <td>390490001101001</td>\n",
              "      <td>1</td>\n",
              "      <td>1</td>\n",
              "      <td>9</td>\n",
              "      <td>28</td>\n",
              "      <td>3904102</td>\n",
              "      <td>390490001101</td>\n",
              "      <td>39049000110</td>\n",
              "    </tr>\n",
              "    <tr>\n",
              "      <th>1</th>\n",
              "      <td>390490001101001</td>\n",
              "      <td>7</td>\n",
              "      <td>2</td>\n",
              "      <td>9</td>\n",
              "      <td>27</td>\n",
              "      <td>3904102</td>\n",
              "      <td>390490001101</td>\n",
              "      <td>39049000110</td>\n",
              "    </tr>\n",
              "    <tr>\n",
              "      <th>2</th>\n",
              "      <td>390490001101002</td>\n",
              "      <td>1</td>\n",
              "      <td>2</td>\n",
              "      <td>1</td>\n",
              "      <td>0</td>\n",
              "      <td>3904102</td>\n",
              "      <td>390490001101</td>\n",
              "      <td>39049000110</td>\n",
              "    </tr>\n",
              "    <tr>\n",
              "      <th>3</th>\n",
              "      <td>390490001101002</td>\n",
              "      <td>1</td>\n",
              "      <td>2</td>\n",
              "      <td>1</td>\n",
              "      <td>3</td>\n",
              "      <td>3904102</td>\n",
              "      <td>390490001101</td>\n",
              "      <td>39049000110</td>\n",
              "    </tr>\n",
              "    <tr>\n",
              "      <th>4</th>\n",
              "      <td>390490001101002</td>\n",
              "      <td>1</td>\n",
              "      <td>2</td>\n",
              "      <td>2</td>\n",
              "      <td>7</td>\n",
              "      <td>3904102</td>\n",
              "      <td>390490001101</td>\n",
              "      <td>39049000110</td>\n",
              "    </tr>\n",
              "    <tr>\n",
              "      <th>...</th>\n",
              "      <td>...</td>\n",
              "      <td>...</td>\n",
              "      <td>...</td>\n",
              "      <td>...</td>\n",
              "      <td>...</td>\n",
              "      <td>...</td>\n",
              "      <td>...</td>\n",
              "      <td>...</td>\n",
              "    </tr>\n",
              "    <tr>\n",
              "      <th>1163409</th>\n",
              "      <td>390490107001020</td>\n",
              "      <td>1</td>\n",
              "      <td>2</td>\n",
              "      <td>21</td>\n",
              "      <td>75</td>\n",
              "      <td>3904102</td>\n",
              "      <td>390490107001</td>\n",
              "      <td>39049010700</td>\n",
              "    </tr>\n",
              "    <tr>\n",
              "      <th>1163410</th>\n",
              "      <td>390490107001020</td>\n",
              "      <td>1</td>\n",
              "      <td>1</td>\n",
              "      <td>23</td>\n",
              "      <td>95</td>\n",
              "      <td>3904102</td>\n",
              "      <td>390490107001</td>\n",
              "      <td>39049010700</td>\n",
              "    </tr>\n",
              "    <tr>\n",
              "      <th>1163411</th>\n",
              "      <td>390490107001020</td>\n",
              "      <td>1</td>\n",
              "      <td>2</td>\n",
              "      <td>23</td>\n",
              "      <td>97</td>\n",
              "      <td>3904102</td>\n",
              "      <td>390490107001</td>\n",
              "      <td>39049010700</td>\n",
              "    </tr>\n",
              "    <tr>\n",
              "      <th>1163412</th>\n",
              "      <td>390499800001027</td>\n",
              "      <td>1</td>\n",
              "      <td>1</td>\n",
              "      <td>20</td>\n",
              "      <td>70</td>\n",
              "      <td>3904106</td>\n",
              "      <td>390499800001</td>\n",
              "      <td>39049980000</td>\n",
              "    </tr>\n",
              "    <tr>\n",
              "      <th>1163413</th>\n",
              "      <td>390499800001027</td>\n",
              "      <td>1</td>\n",
              "      <td>2</td>\n",
              "      <td>20</td>\n",
              "      <td>70</td>\n",
              "      <td>3904106</td>\n",
              "      <td>390499800001</td>\n",
              "      <td>39049980000</td>\n",
              "    </tr>\n",
              "  </tbody>\n",
              "</table>\n",
              "<p>1163414 rows × 8 columns</p>\n",
              "</div>"
            ],
            "text/plain": [
              "                 GEOID10  race  sex  ...     PUMA        BGID10    TRACTID10\n",
              "0        390490001101001     1    1  ...  3904102  390490001101  39049000110\n",
              "1        390490001101001     7    2  ...  3904102  390490001101  39049000110\n",
              "2        390490001101002     1    2  ...  3904102  390490001101  39049000110\n",
              "3        390490001101002     1    2  ...  3904102  390490001101  39049000110\n",
              "4        390490001101002     1    2  ...  3904102  390490001101  39049000110\n",
              "...                  ...   ...  ...  ...      ...           ...          ...\n",
              "1163409  390490107001020     1    2  ...  3904102  390490107001  39049010700\n",
              "1163410  390490107001020     1    1  ...  3904102  390490107001  39049010700\n",
              "1163411  390490107001020     1    2  ...  3904102  390490107001  39049010700\n",
              "1163412  390499800001027     1    1  ...  3904106  390499800001  39049980000\n",
              "1163413  390499800001027     1    2  ...  3904106  390499800001  39049980000\n",
              "\n",
              "[1163414 rows x 8 columns]"
            ]
          },
          "metadata": {},
          "execution_count": 19
        }
      ]
    },
    {
      "cell_type": "markdown",
      "metadata": {
        "id": "fpO_TqoLYDJ8"
      },
      "source": [
        "#### **Create original histograms**\n",
        "We consider the query of race for the purpose of demonstration. Cell uniqueness is presented in this query."
      ]
    },
    {
      "cell_type": "code",
      "metadata": {
        "colab": {
          "base_uri": "https://localhost:8080/",
          "height": 446
        },
        "id": "V04A9tgqjDpe",
        "outputId": "9dd4659d-7697-49c2-ca45-869519ee73f0"
      },
      "source": [
        "hist1 = pd.crosstab(data_people.GEOID10, data_people.race)\n",
        "hist1"
      ],
      "execution_count": null,
      "outputs": [
        {
          "output_type": "execute_result",
          "data": {
            "text/html": [
              "<div>\n",
              "<style scoped>\n",
              "    .dataframe tbody tr th:only-of-type {\n",
              "        vertical-align: middle;\n",
              "    }\n",
              "\n",
              "    .dataframe tbody tr th {\n",
              "        vertical-align: top;\n",
              "    }\n",
              "\n",
              "    .dataframe thead th {\n",
              "        text-align: right;\n",
              "    }\n",
              "</style>\n",
              "<table border=\"1\" class=\"dataframe\">\n",
              "  <thead>\n",
              "    <tr style=\"text-align: right;\">\n",
              "      <th>race</th>\n",
              "      <th>1</th>\n",
              "      <th>2</th>\n",
              "      <th>3</th>\n",
              "      <th>4</th>\n",
              "      <th>5</th>\n",
              "      <th>6</th>\n",
              "      <th>7</th>\n",
              "    </tr>\n",
              "    <tr>\n",
              "      <th>GEOID10</th>\n",
              "      <th></th>\n",
              "      <th></th>\n",
              "      <th></th>\n",
              "      <th></th>\n",
              "      <th></th>\n",
              "      <th></th>\n",
              "      <th></th>\n",
              "    </tr>\n",
              "  </thead>\n",
              "  <tbody>\n",
              "    <tr>\n",
              "      <th>390490001101001</th>\n",
              "      <td>1</td>\n",
              "      <td>0</td>\n",
              "      <td>0</td>\n",
              "      <td>0</td>\n",
              "      <td>0</td>\n",
              "      <td>0</td>\n",
              "      <td>1</td>\n",
              "    </tr>\n",
              "    <tr>\n",
              "      <th>390490001101002</th>\n",
              "      <td>45</td>\n",
              "      <td>0</td>\n",
              "      <td>0</td>\n",
              "      <td>0</td>\n",
              "      <td>0</td>\n",
              "      <td>0</td>\n",
              "      <td>0</td>\n",
              "    </tr>\n",
              "    <tr>\n",
              "      <th>390490001101003</th>\n",
              "      <td>51</td>\n",
              "      <td>4</td>\n",
              "      <td>0</td>\n",
              "      <td>0</td>\n",
              "      <td>0</td>\n",
              "      <td>0</td>\n",
              "      <td>0</td>\n",
              "    </tr>\n",
              "    <tr>\n",
              "      <th>390490001101004</th>\n",
              "      <td>48</td>\n",
              "      <td>0</td>\n",
              "      <td>0</td>\n",
              "      <td>0</td>\n",
              "      <td>0</td>\n",
              "      <td>0</td>\n",
              "      <td>0</td>\n",
              "    </tr>\n",
              "    <tr>\n",
              "      <th>390490001101005</th>\n",
              "      <td>51</td>\n",
              "      <td>0</td>\n",
              "      <td>0</td>\n",
              "      <td>0</td>\n",
              "      <td>0</td>\n",
              "      <td>0</td>\n",
              "      <td>4</td>\n",
              "    </tr>\n",
              "    <tr>\n",
              "      <th>...</th>\n",
              "      <td>...</td>\n",
              "      <td>...</td>\n",
              "      <td>...</td>\n",
              "      <td>...</td>\n",
              "      <td>...</td>\n",
              "      <td>...</td>\n",
              "      <td>...</td>\n",
              "    </tr>\n",
              "    <tr>\n",
              "      <th>390490107001015</th>\n",
              "      <td>92</td>\n",
              "      <td>17</td>\n",
              "      <td>0</td>\n",
              "      <td>0</td>\n",
              "      <td>0</td>\n",
              "      <td>1</td>\n",
              "      <td>2</td>\n",
              "    </tr>\n",
              "    <tr>\n",
              "      <th>390490107001016</th>\n",
              "      <td>9</td>\n",
              "      <td>0</td>\n",
              "      <td>0</td>\n",
              "      <td>0</td>\n",
              "      <td>0</td>\n",
              "      <td>0</td>\n",
              "      <td>0</td>\n",
              "    </tr>\n",
              "    <tr>\n",
              "      <th>390490107001017</th>\n",
              "      <td>42</td>\n",
              "      <td>6</td>\n",
              "      <td>0</td>\n",
              "      <td>9</td>\n",
              "      <td>0</td>\n",
              "      <td>0</td>\n",
              "      <td>0</td>\n",
              "    </tr>\n",
              "    <tr>\n",
              "      <th>390490107001020</th>\n",
              "      <td>167</td>\n",
              "      <td>20</td>\n",
              "      <td>0</td>\n",
              "      <td>7</td>\n",
              "      <td>0</td>\n",
              "      <td>1</td>\n",
              "      <td>1</td>\n",
              "    </tr>\n",
              "    <tr>\n",
              "      <th>390499800001027</th>\n",
              "      <td>2</td>\n",
              "      <td>0</td>\n",
              "      <td>0</td>\n",
              "      <td>0</td>\n",
              "      <td>0</td>\n",
              "      <td>0</td>\n",
              "      <td>0</td>\n",
              "    </tr>\n",
              "  </tbody>\n",
              "</table>\n",
              "<p>15127 rows × 7 columns</p>\n",
              "</div>"
            ],
            "text/plain": [
              "race               1   2  3  4  5  6  7\n",
              "GEOID10                                \n",
              "390490001101001    1   0  0  0  0  0  1\n",
              "390490001101002   45   0  0  0  0  0  0\n",
              "390490001101003   51   4  0  0  0  0  0\n",
              "390490001101004   48   0  0  0  0  0  0\n",
              "390490001101005   51   0  0  0  0  0  4\n",
              "...              ...  .. .. .. .. .. ..\n",
              "390490107001015   92  17  0  0  0  1  2\n",
              "390490107001016    9   0  0  0  0  0  0\n",
              "390490107001017   42   6  0  9  0  0  0\n",
              "390490107001020  167  20  0  7  0  1  1\n",
              "390499800001027    2   0  0  0  0  0  0\n",
              "\n",
              "[15127 rows x 7 columns]"
            ]
          },
          "metadata": {},
          "execution_count": 33
        }
      ]
    },
    {
      "cell_type": "code",
      "metadata": {
        "colab": {
          "base_uri": "https://localhost:8080/",
          "height": 335
        },
        "id": "vzjnkTLX_oxn",
        "outputId": "479f3333-979b-4611-9b18-37f49ce38fde"
      },
      "source": [
        "import seaborn as sns\n",
        "\n",
        "probabilities = hist1.stack().value_counts(normalize=True)    \n",
        "sns.barplot(probabilities.index, probabilities.values).set(xlim=(0, 10))"
      ],
      "execution_count": null,
      "outputs": [
        {
          "output_type": "stream",
          "name": "stderr",
          "text": [
            "/usr/local/lib/python3.7/dist-packages/seaborn/_decorators.py:43: FutureWarning: Pass the following variables as keyword args: x, y. From version 0.12, the only valid positional argument will be `data`, and passing other arguments without an explicit keyword will result in an error or misinterpretation.\n",
            "  FutureWarning\n"
          ]
        },
        {
          "output_type": "execute_result",
          "data": {
            "text/plain": [
              "[(0.0, 10.0)]"
            ]
          },
          "metadata": {},
          "execution_count": 96
        },
        {
          "output_type": "display_data",
          "data": {
            "image/png": "[encoded data removed]",
            "text/plain": [
              "<Figure size 432x288 with 1 Axes>"
            ]
          },
          "metadata": {
            "needs_background": "light"
          }
        }
      ]
    },
    {
      "cell_type": "markdown",
      "metadata": {
        "id": "6aR_Cvazj5i8"
      },
      "source": [
        "#### **Add noises (Zero-concentrated differential privacy)**\n",
        "There are two core components to the 2020 DAS: noise injection and post-processing. We only focus on the noise injection here. Consistent with the 2020 DAS, discrete Gaussian noise is applied.\n",
        "\n",
        "Bun, M., & Steinke, T. (2016, November). Concentrated differential privacy: Simplifications, extensions, and lower bounds. In Theory of Cryptography Conference (pp. 635-658). Springer, Berlin, Heidelberg."
      ]
    },
    {
      "cell_type": "markdown",
      "metadata": {
        "id": "pPVBCJgakEH_"
      },
      "source": [
        "Parameters for generating Gaussian noise."
      ]
    },
    {
      "cell_type": "code",
      "metadata": {
        "colab": {
          "base_uri": "https://localhost:8080/"
        },
        "id": "uozf2TuOqMN-",
        "outputId": "1f6b2e67-c352-44a6-8ba7-295e73f6123d"
      },
      "source": [
        "import math\n",
        "import numpy as np\n",
        "\n",
        "# privacy budget allocation\n",
        "delta = 10 ** (-10)\n",
        "eps = 17.14 * 9/4097\n",
        "\n",
        "# calculate sigma (standard deviation)\n",
        "sigma = math.sqrt(1 / (2 * eps))\n",
        "# privacy loss budget in differential privacy\n",
        "eps0 = eps + 2 * math.sqrt(eps * math.log(1 / delta))\n",
        "eps, eps0"
      ],
      "execution_count": null,
      "outputs": [
        {
          "output_type": "execute_result",
          "data": {
            "text/plain": [
              "(0.03765194044422748, 1.8998742342553376)"
            ]
          },
          "metadata": {},
          "execution_count": 34
        }
      ]
    },
    {
      "cell_type": "markdown",
      "metadata": {
        "id": "_P4-Pl6Nyt01"
      },
      "source": [
        "Probability of generating zero noise and other noises."
      ]
    },
    {
      "cell_type": "code",
      "metadata": {
        "colab": {
          "base_uri": "https://localhost:8080/"
        },
        "id": "dMCXfSjpyhA3",
        "outputId": "1bf13852-25a6-4fe1-beae-73d0d0b6762b"
      },
      "source": [
        "import scipy.stats\n",
        "\n",
        "print(scipy.stats.norm(0, sigma).cdf(0.5) - scipy.stats.norm(0, sigma).cdf(-0.5), \n",
        "      scipy.stats.norm(0, sigma).cdf(1.5) - scipy.stats.norm(0, sigma).cdf(0.5),\n",
        "      scipy.stats.norm(0, sigma).cdf(2.5) - scipy.stats.norm(0, sigma).cdf(1.5),\n",
        "      scipy.stats.norm(0, sigma).cdf(3.5) - scipy.stats.norm(0, sigma).cdf(2.5), \n",
        "      scipy.stats.norm(0, sigma).cdf(8.5) - scipy.stats.norm(0, sigma).cdf(7.5))"
      ],
      "execution_count": null,
      "outputs": [
        {
          "output_type": "stream",
          "name": "stdout",
          "text": [
            "0.10913342502468493 0.1051255079831912 0.09396346340685724 0.07793101600369479 0.009953116866908474\n"
          ]
        }
      ]
    },
    {
      "cell_type": "markdown",
      "metadata": {
        "id": "KMQVJ_rzvGCU"
      },
      "source": [
        "Add noise to histogram."
      ]
    },
    {
      "cell_type": "code",
      "metadata": {
        "colab": {
          "base_uri": "https://localhost:8080/",
          "height": 446
        },
        "id": "uf_C7vK6wmz0",
        "outputId": "6ac41594-74dd-44ba-ce89-8b0542182d47"
      },
      "source": [
        "hist2 = hist1 + np.round(np.random.normal(0, sigma, size=(hist1.shape)), 0)\n",
        "hist2"
      ],
      "execution_count": null,
      "outputs": [
        {
          "output_type": "execute_result",
          "data": {
            "text/html": [
              "<div>\n",
              "<style scoped>\n",
              "    .dataframe tbody tr th:only-of-type {\n",
              "        vertical-align: middle;\n",
              "    }\n",
              "\n",
              "    .dataframe tbody tr th {\n",
              "        vertical-align: top;\n",
              "    }\n",
              "\n",
              "    .dataframe thead th {\n",
              "        text-align: right;\n",
              "    }\n",
              "</style>\n",
              "<table border=\"1\" class=\"dataframe\">\n",
              "  <thead>\n",
              "    <tr style=\"text-align: right;\">\n",
              "      <th>race</th>\n",
              "      <th>1</th>\n",
              "      <th>2</th>\n",
              "      <th>3</th>\n",
              "      <th>4</th>\n",
              "      <th>5</th>\n",
              "      <th>6</th>\n",
              "      <th>7</th>\n",
              "    </tr>\n",
              "    <tr>\n",
              "      <th>GEOID10</th>\n",
              "      <th></th>\n",
              "      <th></th>\n",
              "      <th></th>\n",
              "      <th></th>\n",
              "      <th></th>\n",
              "      <th></th>\n",
              "      <th></th>\n",
              "    </tr>\n",
              "  </thead>\n",
              "  <tbody>\n",
              "    <tr>\n",
              "      <th>390490001101001</th>\n",
              "      <td>3.0</td>\n",
              "      <td>-3.0</td>\n",
              "      <td>-3.0</td>\n",
              "      <td>-2.0</td>\n",
              "      <td>-6.0</td>\n",
              "      <td>-4.0</td>\n",
              "      <td>1.0</td>\n",
              "    </tr>\n",
              "    <tr>\n",
              "      <th>390490001101002</th>\n",
              "      <td>50.0</td>\n",
              "      <td>-3.0</td>\n",
              "      <td>4.0</td>\n",
              "      <td>-2.0</td>\n",
              "      <td>-1.0</td>\n",
              "      <td>3.0</td>\n",
              "      <td>-6.0</td>\n",
              "    </tr>\n",
              "    <tr>\n",
              "      <th>390490001101003</th>\n",
              "      <td>51.0</td>\n",
              "      <td>5.0</td>\n",
              "      <td>3.0</td>\n",
              "      <td>3.0</td>\n",
              "      <td>-3.0</td>\n",
              "      <td>5.0</td>\n",
              "      <td>2.0</td>\n",
              "    </tr>\n",
              "    <tr>\n",
              "      <th>390490001101004</th>\n",
              "      <td>44.0</td>\n",
              "      <td>1.0</td>\n",
              "      <td>-2.0</td>\n",
              "      <td>-1.0</td>\n",
              "      <td>-1.0</td>\n",
              "      <td>-3.0</td>\n",
              "      <td>-3.0</td>\n",
              "    </tr>\n",
              "    <tr>\n",
              "      <th>390490001101005</th>\n",
              "      <td>57.0</td>\n",
              "      <td>0.0</td>\n",
              "      <td>-2.0</td>\n",
              "      <td>0.0</td>\n",
              "      <td>4.0</td>\n",
              "      <td>1.0</td>\n",
              "      <td>10.0</td>\n",
              "    </tr>\n",
              "    <tr>\n",
              "      <th>...</th>\n",
              "      <td>...</td>\n",
              "      <td>...</td>\n",
              "      <td>...</td>\n",
              "      <td>...</td>\n",
              "      <td>...</td>\n",
              "      <td>...</td>\n",
              "      <td>...</td>\n",
              "    </tr>\n",
              "    <tr>\n",
              "      <th>390490107001015</th>\n",
              "      <td>92.0</td>\n",
              "      <td>23.0</td>\n",
              "      <td>-5.0</td>\n",
              "      <td>4.0</td>\n",
              "      <td>-4.0</td>\n",
              "      <td>8.0</td>\n",
              "      <td>6.0</td>\n",
              "    </tr>\n",
              "    <tr>\n",
              "      <th>390490107001016</th>\n",
              "      <td>10.0</td>\n",
              "      <td>5.0</td>\n",
              "      <td>-5.0</td>\n",
              "      <td>-4.0</td>\n",
              "      <td>-6.0</td>\n",
              "      <td>4.0</td>\n",
              "      <td>-5.0</td>\n",
              "    </tr>\n",
              "    <tr>\n",
              "      <th>390490107001017</th>\n",
              "      <td>41.0</td>\n",
              "      <td>2.0</td>\n",
              "      <td>3.0</td>\n",
              "      <td>5.0</td>\n",
              "      <td>-7.0</td>\n",
              "      <td>1.0</td>\n",
              "      <td>4.0</td>\n",
              "    </tr>\n",
              "    <tr>\n",
              "      <th>390490107001020</th>\n",
              "      <td>161.0</td>\n",
              "      <td>29.0</td>\n",
              "      <td>1.0</td>\n",
              "      <td>12.0</td>\n",
              "      <td>5.0</td>\n",
              "      <td>2.0</td>\n",
              "      <td>3.0</td>\n",
              "    </tr>\n",
              "    <tr>\n",
              "      <th>390499800001027</th>\n",
              "      <td>4.0</td>\n",
              "      <td>8.0</td>\n",
              "      <td>4.0</td>\n",
              "      <td>-5.0</td>\n",
              "      <td>-2.0</td>\n",
              "      <td>5.0</td>\n",
              "      <td>1.0</td>\n",
              "    </tr>\n",
              "  </tbody>\n",
              "</table>\n",
              "<p>15127 rows × 7 columns</p>\n",
              "</div>"
            ],
            "text/plain": [
              "race                 1     2    3     4    5    6     7\n",
              "GEOID10                                                \n",
              "390490001101001    3.0  -3.0 -3.0  -2.0 -6.0 -4.0   1.0\n",
              "390490001101002   50.0  -3.0  4.0  -2.0 -1.0  3.0  -6.0\n",
              "390490001101003   51.0   5.0  3.0   3.0 -3.0  5.0   2.0\n",
              "390490001101004   44.0   1.0 -2.0  -1.0 -1.0 -3.0  -3.0\n",
              "390490001101005   57.0   0.0 -2.0   0.0  4.0  1.0  10.0\n",
              "...                ...   ...  ...   ...  ...  ...   ...\n",
              "390490107001015   92.0  23.0 -5.0   4.0 -4.0  8.0   6.0\n",
              "390490107001016   10.0   5.0 -5.0  -4.0 -6.0  4.0  -5.0\n",
              "390490107001017   41.0   2.0  3.0   5.0 -7.0  1.0   4.0\n",
              "390490107001020  161.0  29.0  1.0  12.0  5.0  2.0   3.0\n",
              "390499800001027    4.0   8.0  4.0  -5.0 -2.0  5.0   1.0\n",
              "\n",
              "[15127 rows x 7 columns]"
            ]
          },
          "metadata": {},
          "execution_count": 35
        }
      ]
    },
    {
      "cell_type": "markdown",
      "metadata": {
        "id": "KzDk5nC0yKiI"
      },
      "source": [
        "####**Cell uniqueness**\n",
        "Young, C., Martin, D., & Skinner, C. (2009). Geographically intelligent disclosure control for flexible aggregation of census data. International Journal of Geographical Information Science, 23(4), 457-482.\n",
        "\n",
        "Privacy measure: probability of finding a true unique"
      ]
    },
    {
      "cell_type": "code",
      "metadata": {
        "colab": {
          "base_uri": "https://localhost:8080/"
        },
        "id": "nLNB98iXyPj1",
        "outputId": "04cb61e8-829e-4780-cb28-1f9c326716ce"
      },
      "source": [
        "# find a true unique\n",
        "tu = (hist1 == hist2) & (hist1 == 1) & (hist2 == 1)\n",
        "n_tu = np.unique(tu.values, return_counts=True)[1][1]\n",
        "n_tu"
      ],
      "execution_count": null,
      "outputs": [
        {
          "output_type": "execute_result",
          "data": {
            "text/plain": [
              "795"
            ]
          },
          "metadata": {},
          "execution_count": 100
        }
      ]
    },
    {
      "cell_type": "code",
      "metadata": {
        "colab": {
          "base_uri": "https://localhost:8080/"
        },
        "id": "c9dGf3LC4d7_",
        "outputId": "a02c9acc-5bd7-49ac-b47c-be6325ba8fa3"
      },
      "source": [
        "# uniques after noise injection\n",
        "u = hist2 == 1\n",
        "n_u = np.unique(u.values, return_counts=True)[1][1]\n",
        "n_u"
      ],
      "execution_count": null,
      "outputs": [
        {
          "output_type": "execute_result",
          "data": {
            "text/plain": [
              "8362"
            ]
          },
          "metadata": {},
          "execution_count": 101
        }
      ]
    },
    {
      "cell_type": "code",
      "metadata": {
        "colab": {
          "base_uri": "https://localhost:8080/"
        },
        "id": "fd73PgPg4nz7",
        "outputId": "384cb747-aeb1-42d5-a415-568b0434a5c3"
      },
      "source": [
        "# frequency of finding the true uniques\n",
        "p_tu = n_tu / n_u\n",
        "p_tu"
      ],
      "execution_count": null,
      "outputs": [
        {
          "output_type": "execute_result",
          "data": {
            "text/plain": [
              "0.09507294905524993"
            ]
          },
          "metadata": {},
          "execution_count": 102
        }
      ]
    },
    {
      "cell_type": "markdown",
      "metadata": {
        "id": "4HDpGpvHcXUM"
      },
      "source": [
        "Let $A_i$ = {cell = $i$ before noise injection}, and the noise be $W\\sim N(0,\\sigma^2)$. A true unique (TU) is a cell = 1 before and after noise injection. The probability of finding a true unique can be defined using the Bayes' theorem:\n",
        "\n",
        "$p(TU)=\\frac{p(-0.5<=W<=0.5)p(A_1)}{\\sum_ip(0.5-i<=W<=1.5-i)p(A_i)}$\n",
        "\n",
        "\n",
        "$p(TU)$ is large if (i) the histogram is dominantly \"unique\", (ii) non-unique cells have relatively large values, and/or (iii) the privacy budget is large."
      ]
    },
    {
      "cell_type": "code",
      "metadata": {
        "colab": {
          "base_uri": "https://localhost:8080/"
        },
        "id": "1CE869uxc5x-",
        "outputId": "a4eac372-0268-452c-99d8-6a3132c89a97"
      },
      "source": [
        "import scipy.stats\n",
        "\n",
        "column_values = hist1[hist1.columns].values.ravel()\n",
        "A = pd.unique(column_values)\n",
        "\n",
        "probs = []\n",
        "for i in A:\n",
        "    p1 = scipy.stats.norm(0, sigma).cdf(0.5 - i) - scipy.stats.norm(0, sigma).cdf(1.5 - i)\n",
        "    u0 = hist1 == i\n",
        "    p2 = np.unique(u0.values, return_counts=True)[1][1] / (np.unique(u0.values, return_counts=True)[1][1] + \n",
        "                                                           np.unique(u0.values, return_counts=True)[1][0])\n",
        "    probs.append(p1 * p2)\n",
        "\n",
        "p3 = scipy.stats.norm(0, sigma).cdf(-0.5) - scipy.stats.norm(0, sigma).cdf(0.5)\n",
        "u0 = hist1 == 1\n",
        "p4 = np.unique(u0.values, return_counts=True)[1][1] / (np.unique(u0.values, return_counts=True)[1][1] + \n",
        "                                                       np.unique(u0.values, return_counts=True)[1][0])\n",
        "p_tu = p3 * p4 / sum(probs)\n",
        "p_tu"
      ],
      "execution_count": null,
      "outputs": [
        {
          "output_type": "execute_result",
          "data": {
            "text/plain": [
              "0.08792193110751202"
            ]
          },
          "metadata": {},
          "execution_count": 36
        }
      ]
    },
    {
      "cell_type": "markdown",
      "metadata": {
        "id": "rQ1i-cbNdbc_"
      },
      "source": [
        "We also use a Monte Carlo method to calculate the expected frequency (probability) of finding the true uniques. The result is consistent with the theoretical value."
      ]
    },
    {
      "cell_type": "code",
      "metadata": {
        "colab": {
          "base_uri": "https://localhost:8080/"
        },
        "id": "y8OG9nTl8SQE",
        "outputId": "45ae90f0-ff95-4e21-ec03-7931e802e4e7"
      },
      "source": [
        "import statistics\n",
        "import numpy as np\n",
        "\n",
        "N = 1000    # bootstrap times\n",
        "p_tus = []\n",
        "\n",
        "for i in range(N):\n",
        "    hist2 = hist1 + np.round(np.random.normal(0, sigma, size=(hist1.shape)), 0)\n",
        "    # find a true unique\n",
        "    tu = (hist1 == hist2) & (hist1 == 1) & (hist2 == 1)\n",
        "    n_tu = np.unique(tu.values, return_counts=True)[1][1]\n",
        "    # uniques after noise injection\n",
        "    u = hist2 == 1\n",
        "    n_u = np.unique(u.values, return_counts=True)[1][1]\n",
        "    # frequency of finding the true uniques\n",
        "    p_tu = n_tu / n_u\n",
        "    p_tus.append(p_tu)\n",
        "\n",
        "statistics.mean(p_tus)"
      ],
      "execution_count": null,
      "outputs": [
        {
          "output_type": "execute_result",
          "data": {
            "text/plain": [
              "0.08784854985966403"
            ]
          },
          "metadata": {},
          "execution_count": 104
        }
      ]
    },
    {
      "cell_type": "markdown",
      "metadata": {
        "id": "AjhQwN2SkimP"
      },
      "source": [
        "Compare with the Privacy-Protected 2010 Census Demonstration Data derived from the 2021-06-08 vintage of the PPMF. The result shows that after post-processing, the $p(TU)$ is potentially larger than that calculated immediately after noise injection."
      ]
    },
    {
      "cell_type": "code",
      "metadata": {
        "colab": {
          "base_uri": "https://localhost:8080/"
        },
        "id": "TvK9f0hTwvp_",
        "outputId": "76232615-6d37-4aa1-a8a1-ba5a6c86aa5a"
      },
      "source": [
        "%cd \"/content/gdrive/My Drive/Colab Notebooks/census_privacy\"\n",
        "import pandas as pd\n",
        "\n",
        "filename_nhgis_block = 'franklin/nhgis/franklin_nhgis_block.csv'\n",
        "nhgis_block = pd.read_csv(filename_nhgis_block)\n",
        "\n",
        "hist1_nhgis = nhgis_block[['H72003_sf', 'H72004_sf', 'H72005_sf', 'H72006_sf', 'H72007_sf', 'H72008_sf', 'H72009_sf']]\n",
        "hist1_nhgis = hist1_nhgis.rename(columns={'H72003_sf': '1', 'H72004_sf': '2', 'H72005_sf': '3', 'H72006_sf': '4', 'H72007_sf': '5', 'H72008_sf': '6', \n",
        "                                          'H72009_sf': '7'})\n",
        "hist2_nhgis = nhgis_block[['H72003_dp', 'H72004_dp', 'H72005_dp', 'H72006_dp', 'H72007_dp', 'H72008_dp', 'H72009_dp']]\n",
        "hist2_nhgis = hist2_nhgis.rename(columns={'H72003_dp': '1', 'H72004_dp': '2', 'H72005_dp': '3', 'H72006_dp': '4', 'H72007_dp': '5', 'H72008_dp': '6', \n",
        "                                          'H72009_dp': '7'})\n",
        "\n",
        "# find a true unique\n",
        "tu = (hist1_nhgis == hist2_nhgis) & (hist1_nhgis == 1) & (hist2_nhgis == 1)\n",
        "n_tu = np.unique(tu.values, return_counts=True)[1][1]\n",
        "# uniques after noise injection\n",
        "u = hist2_nhgis == 1\n",
        "n_u = np.unique(u.values, return_counts=True)[1][1]\n",
        "# frequency of finding the true uniques\n",
        "p_tu_nhgis = n_tu / n_u\n",
        "p_tu_nhgis"
      ],
      "execution_count": null,
      "outputs": [
        {
          "output_type": "stream",
          "name": "stdout",
          "text": [
            "/content/gdrive/My Drive/Colab Notebooks/census_privacy\n"
          ]
        },
        {
          "output_type": "execute_result",
          "data": {
            "text/plain": [
              "0.11636167922497309"
            ]
          },
          "metadata": {},
          "execution_count": 43
        }
      ]
    },
    {
      "cell_type": "markdown",
      "metadata": {
        "id": "FJoHrlwkbPK7"
      },
      "source": [
        "We also compare the results with that derived in the Guernsey county, which only has a population of 40,087."
      ]
    },
    {
      "cell_type": "code",
      "metadata": {
        "colab": {
          "base_uri": "https://localhost:8080/",
          "height": 219
        },
        "id": "UfdS2mILej9i",
        "outputId": "59e429f9-1021-4187-c4ef-17447978e69d"
      },
      "source": [
        "%cd \"/content/gdrive/My Drive/Colab Notebooks/census_privacy\"\n",
        "import pandas as pd\n",
        "import seaborn as sns\n",
        "\n",
        "filename_people_g = 'guernsey/microdata/guernsey_people_all.csv'\n",
        "data_people_g = pd.read_csv(filename_people_g)\n",
        "data_people_g['GEOID10'] = data_people_g['GEOID10'].astype(str)\n",
        "data_people_g['BGID10'] = data_people_g['GEOID10'].str[:12]\n",
        "data_people_g['TRACTID10'] = data_people_g['GEOID10'].str[:11]\n",
        "data_people_g.head()"
      ],
      "execution_count": null,
      "outputs": [
        {
          "output_type": "stream",
          "name": "stdout",
          "text": [
            "/content/gdrive/My Drive/Colab Notebooks/census_privacy\n"
          ]
        },
        {
          "output_type": "execute_result",
          "data": {
            "text/html": [
              "<div>\n",
              "<style scoped>\n",
              "    .dataframe tbody tr th:only-of-type {\n",
              "        vertical-align: middle;\n",
              "    }\n",
              "\n",
              "    .dataframe tbody tr th {\n",
              "        vertical-align: top;\n",
              "    }\n",
              "\n",
              "    .dataframe thead th {\n",
              "        text-align: right;\n",
              "    }\n",
              "</style>\n",
              "<table border=\"1\" class=\"dataframe\">\n",
              "  <thead>\n",
              "    <tr style=\"text-align: right;\">\n",
              "      <th></th>\n",
              "      <th>GEOID10</th>\n",
              "      <th>race</th>\n",
              "      <th>sex</th>\n",
              "      <th>age</th>\n",
              "      <th>age_v</th>\n",
              "      <th>BGID10</th>\n",
              "      <th>TRACTID10</th>\n",
              "    </tr>\n",
              "  </thead>\n",
              "  <tbody>\n",
              "    <tr>\n",
              "      <th>0</th>\n",
              "      <td>390599771001005</td>\n",
              "      <td>1</td>\n",
              "      <td>1</td>\n",
              "      <td>1</td>\n",
              "      <td>1</td>\n",
              "      <td>390599771001</td>\n",
              "      <td>39059977100</td>\n",
              "    </tr>\n",
              "    <tr>\n",
              "      <th>1</th>\n",
              "      <td>390599771001005</td>\n",
              "      <td>1</td>\n",
              "      <td>1</td>\n",
              "      <td>1</td>\n",
              "      <td>1</td>\n",
              "      <td>390599771001</td>\n",
              "      <td>39059977100</td>\n",
              "    </tr>\n",
              "    <tr>\n",
              "      <th>2</th>\n",
              "      <td>390599771001005</td>\n",
              "      <td>1</td>\n",
              "      <td>1</td>\n",
              "      <td>1</td>\n",
              "      <td>2</td>\n",
              "      <td>390599771001</td>\n",
              "      <td>39059977100</td>\n",
              "    </tr>\n",
              "    <tr>\n",
              "      <th>3</th>\n",
              "      <td>390599771001005</td>\n",
              "      <td>1</td>\n",
              "      <td>1</td>\n",
              "      <td>1</td>\n",
              "      <td>0</td>\n",
              "      <td>390599771001</td>\n",
              "      <td>39059977100</td>\n",
              "    </tr>\n",
              "    <tr>\n",
              "      <th>4</th>\n",
              "      <td>390599771001005</td>\n",
              "      <td>1</td>\n",
              "      <td>1</td>\n",
              "      <td>1</td>\n",
              "      <td>2</td>\n",
              "      <td>390599771001</td>\n",
              "      <td>39059977100</td>\n",
              "    </tr>\n",
              "  </tbody>\n",
              "</table>\n",
              "</div>"
            ],
            "text/plain": [
              "           GEOID10  race  sex  age  age_v        BGID10    TRACTID10\n",
              "0  390599771001005     1    1    1      1  390599771001  39059977100\n",
              "1  390599771001005     1    1    1      1  390599771001  39059977100\n",
              "2  390599771001005     1    1    1      2  390599771001  39059977100\n",
              "3  390599771001005     1    1    1      0  390599771001  39059977100\n",
              "4  390599771001005     1    1    1      2  390599771001  39059977100"
            ]
          },
          "metadata": {},
          "execution_count": 11
        }
      ]
    },
    {
      "cell_type": "code",
      "metadata": {
        "colab": {
          "base_uri": "https://localhost:8080/",
          "height": 335
        },
        "id": "Ll9FFHP0beuo",
        "outputId": "11f69121-ff92-4251-8556-d75e8e28c35a"
      },
      "source": [
        "hist1_g = pd.crosstab(data_people_g.GEOID10, data_people_g.race)\n",
        "probabilities = hist1_g.stack().value_counts(normalize=True)    \n",
        "sns.barplot(probabilities.index, probabilities.values).set(xlim=(0, 10))"
      ],
      "execution_count": null,
      "outputs": [
        {
          "output_type": "stream",
          "name": "stderr",
          "text": [
            "/usr/local/lib/python3.7/dist-packages/seaborn/_decorators.py:43: FutureWarning: Pass the following variables as keyword args: x, y. From version 0.12, the only valid positional argument will be `data`, and passing other arguments without an explicit keyword will result in an error or misinterpretation.\n",
            "  FutureWarning\n"
          ]
        },
        {
          "output_type": "execute_result",
          "data": {
            "text/plain": [
              "[(0.0, 10.0)]"
            ]
          },
          "metadata": {},
          "execution_count": 44
        },
        {
          "output_type": "display_data",
          "data": {
            "image/png": "[encoded data removed]",
            "text/plain": [
              "<Figure size 432x288 with 1 Axes>"
            ]
          },
          "metadata": {
            "needs_background": "light"
          }
        }
      ]
    },
    {
      "cell_type": "code",
      "metadata": {
        "colab": {
          "base_uri": "https://localhost:8080/"
        },
        "id": "48s6YxFTcoPA",
        "outputId": "eb8cbe3a-bca6-4143-e518-c873ce625d28"
      },
      "source": [
        "import scipy.stats\n",
        "\n",
        "column_values = hist1_g[hist1_g.columns].values.ravel()\n",
        "A = pd.unique(column_values)\n",
        "\n",
        "probs = []\n",
        "for i in A:\n",
        "    p1 = scipy.stats.norm(0, sigma).cdf(0.5 - i) - scipy.stats.norm(0, sigma).cdf(1.5 - i)\n",
        "    u0 = hist1_g == i\n",
        "    p2 = np.unique(u0.values, return_counts=True)[1][1] / (np.unique(u0.values, return_counts=True)[1][1] + \n",
        "                                                           np.unique(u0.values, return_counts=True)[1][0])\n",
        "    probs.append(p1 * p2)\n",
        "\n",
        "p3 = scipy.stats.norm(0, sigma).cdf(-0.5) - scipy.stats.norm(0, sigma).cdf(0.5)\n",
        "u0 = hist1_g == 1\n",
        "p4 = np.unique(u0.values, return_counts=True)[1][1] / (np.unique(u0.values, return_counts=True)[1][1] + \n",
        "                                                       np.unique(u0.values, return_counts=True)[1][0])\n",
        "p_tu_g = p3 * p4 / sum(probs)\n",
        "p_tu_g"
      ],
      "execution_count": null,
      "outputs": [
        {
          "output_type": "execute_result",
          "data": {
            "text/plain": [
              "0.03317121400234159"
            ]
          },
          "metadata": {},
          "execution_count": 10
        }
      ]
    },
    {
      "cell_type": "code",
      "metadata": {
        "colab": {
          "base_uri": "https://localhost:8080/"
        },
        "id": "INTyFA6hhY9w",
        "outputId": "fc44f87f-b377-4813-a4ab-ea4ac03553d5"
      },
      "source": [
        "# compare with NHGIS\n",
        "%cd \"/content/gdrive/My Drive/Colab Notebooks/census_privacy\"\n",
        "import pandas as pd\n",
        "\n",
        "filename_nhgis_block_g = 'guernsey/nhgis/guernsey_nhgis_block.csv'\n",
        "nhgis_block_g = pd.read_csv(filename_nhgis_block_g)\n",
        "\n",
        "hist1_nhgis_g = nhgis_block_g[['H72003_sf', 'H72004_sf', 'H72005_sf', 'H72006_sf', 'H72007_sf', 'H72008_sf', 'H72009_sf']]\n",
        "hist1_nhgis_g = hist1_nhgis_g.rename(columns={'H72003_sf': '1', 'H72004_sf': '2', 'H72005_sf': '3', 'H72006_sf': '4', 'H72007_sf': '5', 'H72008_sf': '6', \n",
        "                                          'H72009_sf': '7'})\n",
        "hist2_nhgis_g = nhgis_block_g[['H72003_dp', 'H72004_dp', 'H72005_dp', 'H72006_dp', 'H72007_dp', 'H72008_dp', 'H72009_dp']]\n",
        "hist2_nhgis_g = hist2_nhgis_g.rename(columns={'H72003_dp': '1', 'H72004_dp': '2', 'H72005_dp': '3', 'H72006_dp': '4', 'H72007_dp': '5', 'H72008_dp': '6', \n",
        "                                          'H72009_dp': '7'})\n",
        "\n",
        "# find a true unique\n",
        "tu = (hist1_nhgis_g == hist2_nhgis_g) & (hist1_nhgis_g == 1) & (hist2_nhgis_g == 1)\n",
        "n_tu = np.unique(tu.values, return_counts=True)[1][1]\n",
        "# uniques after noise injection\n",
        "u = hist2_nhgis_g == 1\n",
        "n_u = np.unique(u.values, return_counts=True)[1][1]\n",
        "# frequency of finding the true uniques\n",
        "p_tu_nhgis_g = n_tu / n_u\n",
        "p_tu_nhgis_g"
      ],
      "execution_count": null,
      "outputs": [
        {
          "output_type": "stream",
          "name": "stdout",
          "text": [
            "/content/gdrive/My Drive/Colab Notebooks/census_privacy\n"
          ]
        },
        {
          "output_type": "execute_result",
          "data": {
            "text/plain": [
              "0.12637362637362637"
            ]
          },
          "metadata": {},
          "execution_count": 45
        }
      ]
    },
    {
      "cell_type": "markdown",
      "metadata": {
        "id": "4JlBwV4iM9mv"
      },
      "source": [
        "####**More on cell uniqueness**\n",
        "Some simulations to demonstrate how spatial scales affect the probability of finding a true unique. Two aspects of spatial scales are examined here: resolution and extent."
      ]
    },
    {
      "cell_type": "markdown",
      "metadata": {
        "id": "YAgcz2I07Pvq"
      },
      "source": [
        "#####**Impact of resolutions (aggregation levels)**\n",
        "We test the probability of finding a true unique at both block group and tract levels. As shown below, as we increase the aggregation level, the probability raises. This is potentially due to the fact that the histogram is less clustered around the small numbers (e.g., 2, 3, 0 that are easily transformed to 1 when adding noises)."
      ]
    },
    {
      "cell_type": "markdown",
      "metadata": {
        "id": "87-T5Xj47Wal"
      },
      "source": [
        "**Block group.**"
      ]
    },
    {
      "cell_type": "code",
      "metadata": {
        "colab": {
          "base_uri": "https://localhost:8080/",
          "height": 446
        },
        "id": "l04sSEhV7YaO",
        "outputId": "5a283468-a8e4-4d88-cbce-e0b34910e791"
      },
      "source": [
        "hist1_bg = pd.crosstab(data_people.BGID10, data_people.race)\n",
        "hist1_bg"
      ],
      "execution_count": null,
      "outputs": [
        {
          "output_type": "execute_result",
          "data": {
            "text/html": [
              "<div>\n",
              "<style scoped>\n",
              "    .dataframe tbody tr th:only-of-type {\n",
              "        vertical-align: middle;\n",
              "    }\n",
              "\n",
              "    .dataframe tbody tr th {\n",
              "        vertical-align: top;\n",
              "    }\n",
              "\n",
              "    .dataframe thead th {\n",
              "        text-align: right;\n",
              "    }\n",
              "</style>\n",
              "<table border=\"1\" class=\"dataframe\">\n",
              "  <thead>\n",
              "    <tr style=\"text-align: right;\">\n",
              "      <th>race</th>\n",
              "      <th>1</th>\n",
              "      <th>2</th>\n",
              "      <th>3</th>\n",
              "      <th>4</th>\n",
              "      <th>5</th>\n",
              "      <th>6</th>\n",
              "      <th>7</th>\n",
              "    </tr>\n",
              "    <tr>\n",
              "      <th>BGID10</th>\n",
              "      <th></th>\n",
              "      <th></th>\n",
              "      <th></th>\n",
              "      <th></th>\n",
              "      <th></th>\n",
              "      <th></th>\n",
              "      <th></th>\n",
              "    </tr>\n",
              "  </thead>\n",
              "  <tbody>\n",
              "    <tr>\n",
              "      <th>390490001101</th>\n",
              "      <td>1040</td>\n",
              "      <td>14</td>\n",
              "      <td>0</td>\n",
              "      <td>8</td>\n",
              "      <td>0</td>\n",
              "      <td>3</td>\n",
              "      <td>15</td>\n",
              "    </tr>\n",
              "    <tr>\n",
              "      <th>390490001102</th>\n",
              "      <td>814</td>\n",
              "      <td>15</td>\n",
              "      <td>0</td>\n",
              "      <td>18</td>\n",
              "      <td>0</td>\n",
              "      <td>3</td>\n",
              "      <td>7</td>\n",
              "    </tr>\n",
              "    <tr>\n",
              "      <th>390490001103</th>\n",
              "      <td>619</td>\n",
              "      <td>6</td>\n",
              "      <td>2</td>\n",
              "      <td>6</td>\n",
              "      <td>0</td>\n",
              "      <td>6</td>\n",
              "      <td>9</td>\n",
              "    </tr>\n",
              "    <tr>\n",
              "      <th>390490001104</th>\n",
              "      <td>744</td>\n",
              "      <td>5</td>\n",
              "      <td>0</td>\n",
              "      <td>4</td>\n",
              "      <td>0</td>\n",
              "      <td>1</td>\n",
              "      <td>5</td>\n",
              "    </tr>\n",
              "    <tr>\n",
              "      <th>390490001201</th>\n",
              "      <td>758</td>\n",
              "      <td>6</td>\n",
              "      <td>0</td>\n",
              "      <td>11</td>\n",
              "      <td>0</td>\n",
              "      <td>2</td>\n",
              "      <td>12</td>\n",
              "    </tr>\n",
              "    <tr>\n",
              "      <th>...</th>\n",
              "      <td>...</td>\n",
              "      <td>...</td>\n",
              "      <td>...</td>\n",
              "      <td>...</td>\n",
              "      <td>...</td>\n",
              "      <td>...</td>\n",
              "      <td>...</td>\n",
              "    </tr>\n",
              "    <tr>\n",
              "      <th>390490106021</th>\n",
              "      <td>1369</td>\n",
              "      <td>48</td>\n",
              "      <td>4</td>\n",
              "      <td>41</td>\n",
              "      <td>0</td>\n",
              "      <td>17</td>\n",
              "      <td>31</td>\n",
              "    </tr>\n",
              "    <tr>\n",
              "      <th>390490106022</th>\n",
              "      <td>2293</td>\n",
              "      <td>59</td>\n",
              "      <td>1</td>\n",
              "      <td>159</td>\n",
              "      <td>0</td>\n",
              "      <td>17</td>\n",
              "      <td>45</td>\n",
              "    </tr>\n",
              "    <tr>\n",
              "      <th>390490106023</th>\n",
              "      <td>1824</td>\n",
              "      <td>50</td>\n",
              "      <td>4</td>\n",
              "      <td>220</td>\n",
              "      <td>0</td>\n",
              "      <td>20</td>\n",
              "      <td>37</td>\n",
              "    </tr>\n",
              "    <tr>\n",
              "      <th>390490107001</th>\n",
              "      <td>1062</td>\n",
              "      <td>119</td>\n",
              "      <td>4</td>\n",
              "      <td>61</td>\n",
              "      <td>1</td>\n",
              "      <td>19</td>\n",
              "      <td>33</td>\n",
              "    </tr>\n",
              "    <tr>\n",
              "      <th>390499800001</th>\n",
              "      <td>2</td>\n",
              "      <td>0</td>\n",
              "      <td>0</td>\n",
              "      <td>0</td>\n",
              "      <td>0</td>\n",
              "      <td>0</td>\n",
              "      <td>0</td>\n",
              "    </tr>\n",
              "  </tbody>\n",
              "</table>\n",
              "<p>887 rows × 7 columns</p>\n",
              "</div>"
            ],
            "text/plain": [
              "race             1    2  3    4  5   6   7\n",
              "BGID10                                    \n",
              "390490001101  1040   14  0    8  0   3  15\n",
              "390490001102   814   15  0   18  0   3   7\n",
              "390490001103   619    6  2    6  0   6   9\n",
              "390490001104   744    5  0    4  0   1   5\n",
              "390490001201   758    6  0   11  0   2  12\n",
              "...            ...  ... ..  ... ..  ..  ..\n",
              "390490106021  1369   48  4   41  0  17  31\n",
              "390490106022  2293   59  1  159  0  17  45\n",
              "390490106023  1824   50  4  220  0  20  37\n",
              "390490107001  1062  119  4   61  1  19  33\n",
              "390499800001     2    0  0    0  0   0   0\n",
              "\n",
              "[887 rows x 7 columns]"
            ]
          },
          "metadata": {},
          "execution_count": 20
        }
      ]
    },
    {
      "cell_type": "code",
      "metadata": {
        "colab": {
          "base_uri": "https://localhost:8080/",
          "height": 335
        },
        "id": "gn5tDEpKADBZ",
        "outputId": "712de61d-657e-4b20-91b5-c3dac35eeb14"
      },
      "source": [
        "import seaborn as sns\n",
        "\n",
        "probabilities = hist1_bg.stack().value_counts(normalize=True)    \n",
        "sns.barplot(probabilities.index, probabilities.values).set(xlim=(0, 10))"
      ],
      "execution_count": null,
      "outputs": [
        {
          "output_type": "stream",
          "name": "stderr",
          "text": [
            "/usr/local/lib/python3.7/dist-packages/seaborn/_decorators.py:43: FutureWarning: Pass the following variables as keyword args: x, y. From version 0.12, the only valid positional argument will be `data`, and passing other arguments without an explicit keyword will result in an error or misinterpretation.\n",
            "  FutureWarning\n"
          ]
        },
        {
          "output_type": "execute_result",
          "data": {
            "text/plain": [
              "[(0.0, 10.0)]"
            ]
          },
          "metadata": {},
          "execution_count": 107
        },
        {
          "output_type": "display_data",
          "data": {
            "image/png": "[encoded data removed]",
            "text/plain": [
              "<Figure size 432x288 with 1 Axes>"
            ]
          },
          "metadata": {
            "needs_background": "light"
          }
        }
      ]
    },
    {
      "cell_type": "code",
      "metadata": {
        "colab": {
          "base_uri": "https://localhost:8080/"
        },
        "id": "e1LQyv9k7xUQ",
        "outputId": "f9275619-836e-4fbd-8b17-4e176678acae"
      },
      "source": [
        "import math\n",
        "import numpy as np\n",
        "\n",
        "# privacy budget allocation\n",
        "delta = 10 ** (-10)\n",
        "eps = 17.14 * 3/4099\n",
        "\n",
        "# calculate sigma (standard deviation)\n",
        "sigma = math.sqrt(1 / (2 * eps))\n",
        "# privacy loss budget in differential privacy\n",
        "eps0 = eps + 2 * math.sqrt(eps * math.log(1 / delta))\n",
        "eps, eps0"
      ],
      "execution_count": null,
      "outputs": [
        {
          "output_type": "execute_result",
          "data": {
            "text/plain": [
              "(0.012544523054403513, 1.0874367368840445)"
            ]
          },
          "metadata": {},
          "execution_count": 21
        }
      ]
    },
    {
      "cell_type": "code",
      "metadata": {
        "colab": {
          "base_uri": "https://localhost:8080/"
        },
        "id": "Z1-qO5xU7VyW",
        "outputId": "925835db-dbb3-436f-8674-0bdea93fff62"
      },
      "source": [
        "import scipy.stats\n",
        "\n",
        "column_values = hist1_bg[hist1_bg.columns].values.ravel()\n",
        "A = pd.unique(column_values)\n",
        "\n",
        "probs = []\n",
        "for i in A:\n",
        "    p1 = scipy.stats.norm(0, sigma).cdf(0.5 - i) - scipy.stats.norm(0, sigma).cdf(1.5 - i)\n",
        "    u0 = hist1_bg == i\n",
        "    p2 = np.unique(u0.values, return_counts=True)[1][1] / (np.unique(u0.values, return_counts=True)[1][1] + \n",
        "                                                           np.unique(u0.values, return_counts=True)[1][0])\n",
        "    probs.append(p1 * p2)\n",
        "\n",
        "p3 = scipy.stats.norm(0, sigma).cdf(-0.5) - scipy.stats.norm(0, sigma).cdf(0.5)\n",
        "u0 = hist1_bg == 1\n",
        "p4 = np.unique(u0.values, return_counts=True)[1][1] / (np.unique(u0.values, return_counts=True)[1][1] + \n",
        "                                                       np.unique(u0.values, return_counts=True)[1][0])\n",
        "p_tu_bg = p3 * p4 / sum(probs)\n",
        "p_tu_bg"
      ],
      "execution_count": null,
      "outputs": [
        {
          "output_type": "execute_result",
          "data": {
            "text/plain": [
              "0.1661838820385404"
            ]
          },
          "metadata": {},
          "execution_count": 22
        }
      ]
    },
    {
      "cell_type": "code",
      "metadata": {
        "colab": {
          "base_uri": "https://localhost:8080/"
        },
        "id": "NpAvMAMM99VK",
        "outputId": "b303e695-e86e-4f58-c15b-90c6c8dac530"
      },
      "source": [
        "# Compare with NHGIS data\n",
        "%cd \"/content/gdrive/My Drive/Colab Notebooks/census_privacy\"\n",
        "import pandas as pd\n",
        "\n",
        "filename_nhgis_bg = 'franklin/nhgis/franklin_nhgis_bg.csv'\n",
        "nhgis_bg = pd.read_csv(filename_nhgis_bg)\n",
        "\n",
        "hist1_nhgis_bg = nhgis_bg[['H72003_sf', 'H72004_sf', 'H72005_sf', 'H72006_sf', 'H72007_sf', 'H72008_sf', 'H72009_sf']]\n",
        "hist1_nhgis_bg = hist1_nhgis_bg.rename(columns={'H72003_sf': '1', 'H72004_sf': '2', 'H72005_sf': '3', 'H72006_sf': '4', 'H72007_sf': '5', 'H72008_sf': '6', \n",
        "                                          'H72009_sf': '7'})\n",
        "hist2_nhgis_bg = nhgis_bg[['H72003_dp', 'H72004_dp', 'H72005_dp', 'H72006_dp', 'H72007_dp', 'H72008_dp', 'H72009_dp']]\n",
        "hist2_nhgis_bg = hist2_nhgis_bg.rename(columns={'H72003_dp': '1', 'H72004_dp': '2', 'H72005_dp': '3', 'H72006_dp': '4', 'H72007_dp': '5', 'H72008_dp': '6', \n",
        "                                          'H72009_dp': '7'})\n",
        "\n",
        "# find a true unique\n",
        "tu = (hist1_nhgis_bg == hist2_nhgis_bg) & (hist1_nhgis_bg == 1) & (hist2_nhgis_bg == 1)\n",
        "n_tu = np.unique(tu.values, return_counts=True)[1][1]\n",
        "# uniques after noise injection\n",
        "u = hist2_nhgis_bg == 1\n",
        "n_u = np.unique(u.values, return_counts=True)[1][1]\n",
        "# frequency of finding the true uniques\n",
        "p_tu_bg_nhgis = n_tu / n_u\n",
        "p_tu_bg_nhgis"
      ],
      "execution_count": null,
      "outputs": [
        {
          "output_type": "stream",
          "name": "stdout",
          "text": [
            "/content/gdrive/My Drive/Colab Notebooks/census_privacy\n"
          ]
        },
        {
          "output_type": "execute_result",
          "data": {
            "text/plain": [
              "0.2316715542521994"
            ]
          },
          "metadata": {},
          "execution_count": 39
        }
      ]
    },
    {
      "cell_type": "markdown",
      "metadata": {
        "id": "qyuFdb4vdO8n"
      },
      "source": [
        "Compare with Guernsey county."
      ]
    },
    {
      "cell_type": "code",
      "metadata": {
        "colab": {
          "base_uri": "https://localhost:8080/"
        },
        "id": "1S55lJY9dZvX",
        "outputId": "59363440-4e1e-419c-9f0f-4c6faa8f46db"
      },
      "source": [
        "import scipy.stats\n",
        "\n",
        "hist1_bg_g = pd.crosstab(data_people_g.BGID10, data_people_g.race)\n",
        "column_values = hist1_bg_g[hist1_bg_g.columns].values.ravel()\n",
        "A = pd.unique(column_values)\n",
        "\n",
        "probs = []\n",
        "for i in A:\n",
        "    p1 = scipy.stats.norm(0, sigma).cdf(0.5 - i) - scipy.stats.norm(0, sigma).cdf(1.5 - i)\n",
        "    u0 = hist1_bg_g == i\n",
        "    p2 = np.unique(u0.values, return_counts=True)[1][1] / (np.unique(u0.values, return_counts=True)[1][1] + \n",
        "                                                           np.unique(u0.values, return_counts=True)[1][0])\n",
        "    probs.append(p1 * p2)\n",
        "\n",
        "p3 = scipy.stats.norm(0, sigma).cdf(-0.5) - scipy.stats.norm(0, sigma).cdf(0.5)\n",
        "u0 = hist1_bg_g == 1\n",
        "p4 = np.unique(u0.values, return_counts=True)[1][1] / (np.unique(u0.values, return_counts=True)[1][1] + \n",
        "                                                       np.unique(u0.values, return_counts=True)[1][0])\n",
        "p_tu_bg_g = p3 * p4 / sum(probs)\n",
        "p_tu_bg_g"
      ],
      "execution_count": null,
      "outputs": [
        {
          "output_type": "execute_result",
          "data": {
            "text/plain": [
              "0.201244639220228"
            ]
          },
          "metadata": {},
          "execution_count": 24
        }
      ]
    },
    {
      "cell_type": "code",
      "metadata": {
        "colab": {
          "base_uri": "https://localhost:8080/"
        },
        "id": "EZxxOjyCe9Tw",
        "outputId": "730180b6-b121-449f-a771-60061bdaeb99"
      },
      "source": [
        "# Compare with NHGIS data (Guernsey)\n",
        "%cd \"/content/gdrive/My Drive/Colab Notebooks/census_privacy\"\n",
        "import pandas as pd\n",
        "\n",
        "filename_nhgis_bg_g = 'guernsey/nhgis/guernsey_nhgis_bg.csv'\n",
        "nhgis_bg_g = pd.read_csv(filename_nhgis_bg_g)\n",
        "\n",
        "hist1_nhgis_bg_g = nhgis_bg_g[['H72003_sf', 'H72004_sf', 'H72005_sf', 'H72006_sf', 'H72007_sf', 'H72008_sf', 'H72009_sf']]\n",
        "hist1_nhgis_bg_g = hist1_nhgis_bg_g.rename(columns={'H72003_sf': '1', 'H72004_sf': '2', 'H72005_sf': '3', 'H72006_sf': '4', 'H72007_sf': '5', 'H72008_sf': '6', \n",
        "                                          'H72009_sf': '7'})\n",
        "hist2_nhgis_bg_g = nhgis_bg_g[['H72003_dp', 'H72004_dp', 'H72005_dp', 'H72006_dp', 'H72007_dp', 'H72008_dp', 'H72009_dp']]\n",
        "hist2_nhgis_bg_g = hist2_nhgis_bg_g.rename(columns={'H72003_dp': '1', 'H72004_dp': '2', 'H72005_dp': '3', 'H72006_dp': '4', 'H72007_dp': '5', 'H72008_dp': '6', \n",
        "                                          'H72009_dp': '7'})\n",
        "\n",
        "# find a true unique\n",
        "tu = (hist1_nhgis_bg_g == hist2_nhgis_bg_g) & (hist1_nhgis_bg_g == 1) & (hist2_nhgis_bg_g == 1)\n",
        "n_tu = np.unique(tu.values, return_counts=True)[1][1]\n",
        "# uniques after noise injection\n",
        "u = hist2_nhgis_bg_g == 1\n",
        "n_u = np.unique(u.values, return_counts=True)[1][1]\n",
        "# frequency of finding the true uniques\n",
        "p_tu_bg_nhgis_g = n_tu / n_u\n",
        "p_tu_bg_nhgis_g"
      ],
      "execution_count": null,
      "outputs": [
        {
          "output_type": "stream",
          "name": "stdout",
          "text": [
            "/content/gdrive/My Drive/Colab Notebooks/census_privacy\n"
          ]
        },
        {
          "output_type": "execute_result",
          "data": {
            "text/plain": [
              "0.16666666666666666"
            ]
          },
          "metadata": {},
          "execution_count": 25
        }
      ]
    },
    {
      "cell_type": "markdown",
      "metadata": {
        "id": "gbwbohOH8Hd1"
      },
      "source": [
        "**Tract.**"
      ]
    },
    {
      "cell_type": "code",
      "metadata": {
        "colab": {
          "base_uri": "https://localhost:8080/",
          "height": 446
        },
        "id": "Q55Isky-8HeK",
        "outputId": "8e4c6cfe-e6b4-4f85-b6ef-3e092ef329ff"
      },
      "source": [
        "hist1_tr = pd.crosstab(data_people.TRACTID10, data_people.race)\n",
        "hist1_tr"
      ],
      "execution_count": null,
      "outputs": [
        {
          "output_type": "execute_result",
          "data": {
            "text/html": [
              "<div>\n",
              "<style scoped>\n",
              "    .dataframe tbody tr th:only-of-type {\n",
              "        vertical-align: middle;\n",
              "    }\n",
              "\n",
              "    .dataframe tbody tr th {\n",
              "        vertical-align: top;\n",
              "    }\n",
              "\n",
              "    .dataframe thead th {\n",
              "        text-align: right;\n",
              "    }\n",
              "</style>\n",
              "<table border=\"1\" class=\"dataframe\">\n",
              "  <thead>\n",
              "    <tr style=\"text-align: right;\">\n",
              "      <th>race</th>\n",
              "      <th>1</th>\n",
              "      <th>2</th>\n",
              "      <th>3</th>\n",
              "      <th>4</th>\n",
              "      <th>5</th>\n",
              "      <th>6</th>\n",
              "      <th>7</th>\n",
              "    </tr>\n",
              "    <tr>\n",
              "      <th>TRACTID10</th>\n",
              "      <th></th>\n",
              "      <th></th>\n",
              "      <th></th>\n",
              "      <th></th>\n",
              "      <th></th>\n",
              "      <th></th>\n",
              "      <th></th>\n",
              "    </tr>\n",
              "  </thead>\n",
              "  <tbody>\n",
              "    <tr>\n",
              "      <th>39049000110</th>\n",
              "      <td>3217</td>\n",
              "      <td>40</td>\n",
              "      <td>2</td>\n",
              "      <td>36</td>\n",
              "      <td>0</td>\n",
              "      <td>13</td>\n",
              "      <td>36</td>\n",
              "    </tr>\n",
              "    <tr>\n",
              "      <th>39049000120</th>\n",
              "      <td>3016</td>\n",
              "      <td>44</td>\n",
              "      <td>3</td>\n",
              "      <td>42</td>\n",
              "      <td>1</td>\n",
              "      <td>7</td>\n",
              "      <td>49</td>\n",
              "    </tr>\n",
              "    <tr>\n",
              "      <th>39049000210</th>\n",
              "      <td>2773</td>\n",
              "      <td>52</td>\n",
              "      <td>5</td>\n",
              "      <td>32</td>\n",
              "      <td>0</td>\n",
              "      <td>10</td>\n",
              "      <td>63</td>\n",
              "    </tr>\n",
              "    <tr>\n",
              "      <th>39049000220</th>\n",
              "      <td>3536</td>\n",
              "      <td>32</td>\n",
              "      <td>4</td>\n",
              "      <td>55</td>\n",
              "      <td>0</td>\n",
              "      <td>24</td>\n",
              "      <td>76</td>\n",
              "    </tr>\n",
              "    <tr>\n",
              "      <th>39049000310</th>\n",
              "      <td>2135</td>\n",
              "      <td>739</td>\n",
              "      <td>3</td>\n",
              "      <td>70</td>\n",
              "      <td>2</td>\n",
              "      <td>61</td>\n",
              "      <td>137</td>\n",
              "    </tr>\n",
              "    <tr>\n",
              "      <th>...</th>\n",
              "      <td>...</td>\n",
              "      <td>...</td>\n",
              "      <td>...</td>\n",
              "      <td>...</td>\n",
              "      <td>...</td>\n",
              "      <td>...</td>\n",
              "      <td>...</td>\n",
              "    </tr>\n",
              "    <tr>\n",
              "      <th>39049010500</th>\n",
              "      <td>6499</td>\n",
              "      <td>108</td>\n",
              "      <td>4</td>\n",
              "      <td>1179</td>\n",
              "      <td>1</td>\n",
              "      <td>43</td>\n",
              "      <td>119</td>\n",
              "    </tr>\n",
              "    <tr>\n",
              "      <th>39049010601</th>\n",
              "      <td>3933</td>\n",
              "      <td>128</td>\n",
              "      <td>3</td>\n",
              "      <td>453</td>\n",
              "      <td>0</td>\n",
              "      <td>32</td>\n",
              "      <td>95</td>\n",
              "    </tr>\n",
              "    <tr>\n",
              "      <th>39049010602</th>\n",
              "      <td>5486</td>\n",
              "      <td>157</td>\n",
              "      <td>9</td>\n",
              "      <td>420</td>\n",
              "      <td>0</td>\n",
              "      <td>54</td>\n",
              "      <td>113</td>\n",
              "    </tr>\n",
              "    <tr>\n",
              "      <th>39049010700</th>\n",
              "      <td>1062</td>\n",
              "      <td>119</td>\n",
              "      <td>4</td>\n",
              "      <td>61</td>\n",
              "      <td>1</td>\n",
              "      <td>19</td>\n",
              "      <td>33</td>\n",
              "    </tr>\n",
              "    <tr>\n",
              "      <th>39049980000</th>\n",
              "      <td>2</td>\n",
              "      <td>0</td>\n",
              "      <td>0</td>\n",
              "      <td>0</td>\n",
              "      <td>0</td>\n",
              "      <td>0</td>\n",
              "      <td>0</td>\n",
              "    </tr>\n",
              "  </tbody>\n",
              "</table>\n",
              "<p>284 rows × 7 columns</p>\n",
              "</div>"
            ],
            "text/plain": [
              "race            1    2  3     4  5   6    7\n",
              "TRACTID10                                  \n",
              "39049000110  3217   40  2    36  0  13   36\n",
              "39049000120  3016   44  3    42  1   7   49\n",
              "39049000210  2773   52  5    32  0  10   63\n",
              "39049000220  3536   32  4    55  0  24   76\n",
              "39049000310  2135  739  3    70  2  61  137\n",
              "...           ...  ... ..   ... ..  ..  ...\n",
              "39049010500  6499  108  4  1179  1  43  119\n",
              "39049010601  3933  128  3   453  0  32   95\n",
              "39049010602  5486  157  9   420  0  54  113\n",
              "39049010700  1062  119  4    61  1  19   33\n",
              "39049980000     2    0  0     0  0   0    0\n",
              "\n",
              "[284 rows x 7 columns]"
            ]
          },
          "metadata": {},
          "execution_count": 28
        }
      ]
    },
    {
      "cell_type": "code",
      "metadata": {
        "colab": {
          "base_uri": "https://localhost:8080/",
          "height": 337
        },
        "id": "zglJ3iq7AMyn",
        "outputId": "d849b757-68d3-4f80-f726-6cc3ad342a91"
      },
      "source": [
        "import seaborn as sns\n",
        "\n",
        "probabilities = hist1_tr.stack().value_counts(normalize=True)    \n",
        "sns.barplot(probabilities.index, probabilities.values).set(xlim=(0, 10))"
      ],
      "execution_count": null,
      "outputs": [
        {
          "output_type": "stream",
          "name": "stderr",
          "text": [
            "/usr/local/lib/python3.7/dist-packages/seaborn/_decorators.py:43: FutureWarning: Pass the following variables as keyword args: x, y. From version 0.12, the only valid positional argument will be `data`, and passing other arguments without an explicit keyword will result in an error or misinterpretation.\n",
            "  FutureWarning\n"
          ]
        },
        {
          "output_type": "execute_result",
          "data": {
            "text/plain": [
              "[(0.0, 10.0)]"
            ]
          },
          "metadata": {},
          "execution_count": 112
        },
        {
          "output_type": "display_data",
          "data": {
            "image/png": "[encoded data removed]",
            "text/plain": [
              "<Figure size 432x288 with 1 Axes>"
            ]
          },
          "metadata": {
            "needs_background": "light"
          }
        }
      ]
    },
    {
      "cell_type": "code",
      "metadata": {
        "colab": {
          "base_uri": "https://localhost:8080/"
        },
        "id": "fU3kNMNX8HeL",
        "outputId": "d6e7eeea-a038-4f41-bc52-bbd6ade5592a"
      },
      "source": [
        "import math\n",
        "import numpy as np\n",
        "\n",
        "# privacy budget allocation\n",
        "delta = 10 ** (-10)\n",
        "eps = 17.14 * 4/2051\n",
        "\n",
        "# calculate sigma (standard deviation)\n",
        "sigma = math.sqrt(1 / (2 * eps))\n",
        "# privacy loss budget in differential privacy\n",
        "eps0 = eps + 2 * math.sqrt(eps * math.log(1 / delta))\n",
        "eps, eps0"
      ],
      "execution_count": null,
      "outputs": [
        {
          "output_type": "execute_result",
          "data": {
            "text/plain": [
              "(0.03342759629449049, 1.7880772470489288)"
            ]
          },
          "metadata": {},
          "execution_count": 26
        }
      ]
    },
    {
      "cell_type": "code",
      "metadata": {
        "colab": {
          "base_uri": "https://localhost:8080/"
        },
        "id": "fJfVioNn8HeL",
        "outputId": "bb961493-5b49-4cf4-ec76-c253a7c5b459"
      },
      "source": [
        "import scipy.stats\n",
        "\n",
        "column_values = hist1_tr[hist1_tr.columns].values.ravel()\n",
        "A = pd.unique(column_values)\n",
        "\n",
        "probs = []\n",
        "for i in A:\n",
        "    p1 = scipy.stats.norm(0, sigma).cdf(0.5 - i) - scipy.stats.norm(0, sigma).cdf(1.5 - i)\n",
        "    u0 = hist1_tr == i\n",
        "    p2 = np.unique(u0.values, return_counts=True)[1][1] / (np.unique(u0.values, return_counts=True)[1][1] + \n",
        "                                                           np.unique(u0.values, return_counts=True)[1][0])\n",
        "    probs.append(p1 * p2)\n",
        "\n",
        "p3 = scipy.stats.norm(0, sigma).cdf(-0.5) - scipy.stats.norm(0, sigma).cdf(0.5)\n",
        "u0 = hist1_tr == 1\n",
        "p4 = np.unique(u0.values, return_counts=True)[1][1] / (np.unique(u0.values, return_counts=True)[1][1] + \n",
        "                                                       np.unique(u0.values, return_counts=True)[1][0])\n",
        "p_tu_tr = p3 * p4 / sum(probs)\n",
        "p_tu_tr"
      ],
      "execution_count": null,
      "outputs": [
        {
          "output_type": "execute_result",
          "data": {
            "text/plain": [
              "0.22091171504653892"
            ]
          },
          "metadata": {},
          "execution_count": 29
        }
      ]
    },
    {
      "cell_type": "code",
      "metadata": {
        "colab": {
          "base_uri": "https://localhost:8080/"
        },
        "id": "GpUEviut_JK4",
        "outputId": "f71e6f39-acd5-473d-a1b6-43c1773727e4"
      },
      "source": [
        "# Compare with NHGIS data\n",
        "%cd \"/content/gdrive/My Drive/Colab Notebooks/census_privacy\"\n",
        "import pandas as pd\n",
        "\n",
        "filename_nhgis_tr = 'franklin/nhgis/franklin_nhgis_tract.csv'\n",
        "nhgis_tr = pd.read_csv(filename_nhgis_tr)\n",
        "\n",
        "hist1_nhgis_tr = nhgis_tr[['H72003_sf', 'H72004_sf', 'H72005_sf', 'H72006_sf', 'H72007_sf', 'H72008_sf', 'H72009_sf']]\n",
        "hist1_nhgis_tr = hist1_nhgis_tr.rename(columns={'H72003_sf': '1', 'H72004_sf': '2', 'H72005_sf': '3', 'H72006_sf': '4', 'H72007_sf': '5', 'H72008_sf': '6', \n",
        "                                          'H72009_sf': '7'})\n",
        "hist2_nhgis_tr = nhgis_tr[['H72003_dp', 'H72004_dp', 'H72005_dp', 'H72006_dp', 'H72007_dp', 'H72008_dp', 'H72009_dp']]\n",
        "hist2_nhgis_tr = hist2_nhgis_tr.rename(columns={'H72003_dp': '1', 'H72004_dp': '2', 'H72005_dp': '3', 'H72006_dp': '4', 'H72007_dp': '5', 'H72008_dp': '6', \n",
        "                                          'H72009_dp': '7'})\n",
        "\n",
        "# find a true unique\n",
        "tu = (hist1_nhgis_tr == hist2_nhgis_tr) & (hist1_nhgis_tr == 1) & (hist2_nhgis_tr == 1)\n",
        "n_tu = np.unique(tu.values, return_counts=True)[1][1]\n",
        "# uniques after noise injection\n",
        "u = hist2_nhgis_tr == 1\n",
        "n_u = np.unique(u.values, return_counts=True)[1][1]\n",
        "# frequency of finding the true uniques\n",
        "p_tu_tr_nhgis = n_tu / n_u\n",
        "p_tu_tr_nhgis"
      ],
      "execution_count": null,
      "outputs": [
        {
          "output_type": "stream",
          "name": "stdout",
          "text": [
            "/content/gdrive/My Drive/Colab Notebooks/census_privacy\n"
          ]
        },
        {
          "output_type": "execute_result",
          "data": {
            "text/plain": [
              "0.18181818181818182"
            ]
          },
          "metadata": {},
          "execution_count": 40
        }
      ]
    },
    {
      "cell_type": "markdown",
      "metadata": {
        "id": "TyYDCCvjgPW_"
      },
      "source": [
        "Compare with Guernsey county."
      ]
    },
    {
      "cell_type": "code",
      "metadata": {
        "colab": {
          "base_uri": "https://localhost:8080/"
        },
        "id": "higb1JERfx9j",
        "outputId": "0a8f4102-319c-48bf-9076-2838e6192b5a"
      },
      "source": [
        "import scipy.stats\n",
        "\n",
        "hist1_tr_g = pd.crosstab(data_people_g.TRACTID10, data_people_g.race)\n",
        "column_values = hist1_tr_g[hist1_tr_g.columns].values.ravel()\n",
        "A = pd.unique(column_values)\n",
        "\n",
        "probs = []\n",
        "for i in A:\n",
        "    p1 = scipy.stats.norm(0, sigma).cdf(0.5 - i) - scipy.stats.norm(0, sigma).cdf(1.5 - i)\n",
        "    u0 = hist1_tr_g == i\n",
        "    p2 = np.unique(u0.values, return_counts=True)[1][1] / (np.unique(u0.values, return_counts=True)[1][1] + \n",
        "                                                           np.unique(u0.values, return_counts=True)[1][0])\n",
        "    probs.append(p1 * p2)\n",
        "\n",
        "p3 = scipy.stats.norm(0, sigma).cdf(-0.5) - scipy.stats.norm(0, sigma).cdf(0.5)\n",
        "u0 = hist1_tr_g == 1\n",
        "p4 = np.unique(u0.values, return_counts=True)[1][1] / (np.unique(u0.values, return_counts=True)[1][1] + \n",
        "                                                       np.unique(u0.values, return_counts=True)[1][0])\n",
        "p_tu_tr_g = p3 * p4 / sum(probs)\n",
        "p_tu_tr_g"
      ],
      "execution_count": null,
      "outputs": [
        {
          "output_type": "execute_result",
          "data": {
            "text/plain": [
              "0.2394362602087821"
            ]
          },
          "metadata": {},
          "execution_count": 95
        }
      ]
    },
    {
      "cell_type": "code",
      "metadata": {
        "colab": {
          "base_uri": "https://localhost:8080/"
        },
        "id": "2qw3C6FmgS4X",
        "outputId": "d59bcbf3-fed7-4ebb-9d83-65ff4908fb70"
      },
      "source": [
        "# Compare with NHGIS data (Guernsey)\n",
        "%cd \"/content/gdrive/My Drive/Colab Notebooks/census_privacy\"\n",
        "import pandas as pd\n",
        "\n",
        "filename_nhgis_tr_g = 'guernsey/nhgis/guernsey_nhgis_tract.csv'\n",
        "nhgis_tr_g = pd.read_csv(filename_nhgis_tr_g)\n",
        "\n",
        "hist1_nhgis_tr_g = nhgis_tr_g[['H72003_sf', 'H72004_sf', 'H72005_sf', 'H72006_sf', 'H72007_sf', 'H72008_sf', 'H72009_sf']]\n",
        "hist1_nhgis_tr_g = hist1_nhgis_tr_g.rename(columns={'H72003_sf': '1', 'H72004_sf': '2', 'H72005_sf': '3', 'H72006_sf': '4', 'H72007_sf': '5', 'H72008_sf': '6', \n",
        "                                          'H72009_sf': '7'})\n",
        "hist2_nhgis_tr_g = nhgis_tr_g[['H72003_dp', 'H72004_dp', 'H72005_dp', 'H72006_dp', 'H72007_dp', 'H72008_dp', 'H72009_dp']]\n",
        "hist2_nhgis_tr_g = hist2_nhgis_tr_g.rename(columns={'H72003_dp': '1', 'H72004_dp': '2', 'H72005_dp': '3', 'H72006_dp': '4', 'H72007_dp': '5', 'H72008_dp': '6', \n",
        "                                          'H72009_dp': '7'})\n",
        "\n",
        "# find a true unique\n",
        "tu = (hist1_nhgis_tr_g == hist2_nhgis_tr_g) & (hist1_nhgis_tr_g == 1) & (hist2_nhgis_tr_g == 1)\n",
        "n_tu = np.unique(tu.values, return_counts=True)[1][1]\n",
        "# uniques after noise injection\n",
        "u = hist2_nhgis_tr_g == 1\n",
        "n_u = np.unique(u.values, return_counts=True)[1][1]\n",
        "# frequency of finding the true uniques\n",
        "p_tu_tr_nhgis_g = n_tu / n_u\n",
        "p_tu_tr_nhgis_g"
      ],
      "execution_count": null,
      "outputs": [
        {
          "output_type": "stream",
          "name": "stdout",
          "text": [
            "/content/gdrive/My Drive/Colab Notebooks/census_privacy\n"
          ]
        },
        {
          "output_type": "execute_result",
          "data": {
            "text/plain": [
              "0.5"
            ]
          },
          "metadata": {},
          "execution_count": 31
        }
      ]
    },
    {
      "cell_type": "markdown",
      "metadata": {
        "id": "2sY5PpoMvgSv"
      },
      "source": [
        "We can plot the $p(TU)$ under different aggregation levels using a bar chart."
      ]
    },
    {
      "cell_type": "code",
      "metadata": {
        "colab": {
          "base_uri": "https://localhost:8080/",
          "height": 265
        },
        "id": "Aw22CxrwvpwV",
        "outputId": "53b254af-abc3-4b18-add4-da309f3cbf76"
      },
      "source": [
        "import matplotlib.pyplot as plt\n",
        "\n",
        "labels = ['Block', 'Block Group', 'Tract']\n",
        "p_tu_1 = [p_tu, p_tu_bg, p_tu_tr]\n",
        "p_tu_2 = [p_tu_nhgis, p_tu_bg_nhgis, p_tu_tr_nhgis]\n",
        "p_tu_3 = [p_tu_g, p_tu_bg_g, p_tu_tr_g]\n",
        "p_tu_4 = [p_tu_nhgis_g, p_tu_bg_nhgis_g, p_tu_tr_nhgis_g]\n",
        "\n",
        "x = np.arange(len(labels))  # the label locations\n",
        "width = 0.1 # the width of the bars\n",
        "\n",
        "fig, ax = plt.subplots()\n",
        "colors = [(0, 0, 1, 1), (1, 0, 0, 1)]\n",
        "\n",
        "rects1 = ax.bar(x - 0.5 * width, p_tu_1, width, label='Franklin (Noisy histogram)', color=(0,0,0,0), edgecolor=colors[0])\n",
        "rects3 = ax.bar(x + 0.5 * width, p_tu_3, width, label='Guernsey (Noisy histogram)', color=(0,0,0,0), edgecolor=colors[1])\n",
        "rects2 = ax.scatter(x - 0.5 * width, p_tu_2, label='Franklin (NHGIS)')\n",
        "rects4 = ax.scatter(x + 0.5 * width, p_tu_4, label='Guernsey (NHGIS)')\n",
        "\n",
        "ax.set_ylabel('p(TU)')\n",
        "ax.set_xticks(x)\n",
        "ax.set_xticklabels(labels)\n",
        "ax.legend()\n",
        "\n",
        "plt.show()"
      ],
      "execution_count": null,
      "outputs": [
        {
          "output_type": "display_data",
          "data": {
            "image/png": "[encoded data removed]",
            "text/plain": [
              "<Figure size 432x288 with 1 Axes>"
            ]
          },
          "metadata": {
            "needs_background": "light"
          }
        }
      ]
    },
    {
      "cell_type": "markdown",
      "metadata": {
        "id": "9N1XIX6aGlNx"
      },
      "source": [
        "#####**Impact of extents**"
      ]
    },
    {
      "cell_type": "markdown",
      "metadata": {
        "id": "Eg9zH9_Ki7Fq"
      },
      "source": [
        "Read block and tract data."
      ]
    },
    {
      "cell_type": "code",
      "metadata": {
        "id": "z74fUdStIjrH"
      },
      "source": [
        "!pip install geopandas\n",
        "!pip install pysal"
      ],
      "execution_count": null,
      "outputs": []
    },
    {
      "cell_type": "code",
      "metadata": {
        "colab": {
          "base_uri": "https://localhost:8080/"
        },
        "id": "DGZGgSzaIjrH",
        "outputId": "0f18f116-bd97-4092-930d-76e5a6068169"
      },
      "source": [
        "%cd \"/content/gdrive/My Drive/Colab Notebooks/census_privacy\"\n",
        "import geopandas as gpd\n",
        "\n",
        "filename_block = 'franklin/buildings/franklin_block10.json'\n",
        "data_block = gpd.read_file(filename_block)\n",
        "data_block['GEOID10'] = data_block['GEOID10'].astype(str)\n",
        "data_block['BGID10'] = data_block['GEOID10'].str[:12]\n",
        "data_block['TRACTID10'] = data_block['GEOID10'].str[:11]\n",
        "data_block.columns"
      ],
      "execution_count": 149,
      "outputs": [
        {
          "output_type": "stream",
          "name": "stdout",
          "text": [
            "/content/gdrive/My Drive/Colab Notebooks/census_privacy\n"
          ]
        },
        {
          "output_type": "execute_result",
          "data": {
            "text/plain": [
              "Index(['OBJECTID_1', 'STATEFP10', 'COUNTYFP10', 'TRACTCE10', 'BLOCKCE10',\n",
              "       'GEOID10', 'NAME10', 'MTFCC10', 'UR10', 'UACE10', 'UATYPE',\n",
              "       'FUNCSTAT10', 'ALAND10', 'AWATER10', 'INTPTLAT10', 'INTPTLON10', 'PUMA',\n",
              "       'Shape_Length', 'Shape_Area', 'BGID10', 'TRACTID10', 'geometry'],\n",
              "      dtype='object')"
            ]
          },
          "metadata": {},
          "execution_count": 149
        }
      ]
    },
    {
      "cell_type": "code",
      "metadata": {
        "colab": {
          "base_uri": "https://localhost:8080/"
        },
        "id": "JGFxJ_t75sqO",
        "outputId": "c3173db7-e078-47f5-dead-40a45446e91b"
      },
      "source": [
        "%cd \"/content/gdrive/My Drive/Colab Notebooks/census_privacy\"\n",
        "import geopandas as gpd\n",
        "\n",
        "filename_tract = 'franklin/buildings/franklin_tract10.json'\n",
        "data_tract = gpd.read_file(filename_tract)\n",
        "data_tract['GEOID10'] = data_tract['GEOID10'].astype(str)\n",
        "data_tract.columns"
      ],
      "execution_count": 150,
      "outputs": [
        {
          "output_type": "stream",
          "name": "stdout",
          "text": [
            "/content/gdrive/My Drive/Colab Notebooks/census_privacy\n"
          ]
        },
        {
          "output_type": "execute_result",
          "data": {
            "text/plain": [
              "Index(['OBJECTID', 'STATEFP10', 'COUNTYFP10', 'TRACTCE10', 'GEOID10', 'NAME10',\n",
              "       'NAMELSAD10', 'MTFCC10', 'FUNCSTAT10', 'ALAND10', 'AWATER10',\n",
              "       'INTPTLAT10', 'INTPTLON10', 'Shape_Length', 'Shape_Area', 'geometry'],\n",
              "      dtype='object')"
            ]
          },
          "metadata": {},
          "execution_count": 150
        }
      ]
    },
    {
      "cell_type": "markdown",
      "metadata": {
        "id": "H59SvuWwjCTE"
      },
      "source": [
        "Find blocks in the most populated tract (largest population density)."
      ]
    },
    {
      "cell_type": "code",
      "metadata": {
        "colab": {
          "base_uri": "https://localhost:8080/",
          "height": 202
        },
        "id": "H1ecmHHIGpsu",
        "outputId": "c12da62c-43b8-4e8b-e572-e1b006fd9784"
      },
      "source": [
        "total = hist1_tr.sum(axis=1).to_frame()\n",
        "total[\"GEOID10\"] = total.index.map(str)\n",
        "total = total.rename(columns={total.columns[0]: \"POP\"})\n",
        "total.index.name = None\n",
        "data_tract_new = data_tract.merge(total[['GEOID10', 'POP']], how='left', on=['GEOID10'])\n",
        "total.head()"
      ],
      "execution_count": 151,
      "outputs": [
        {
          "output_type": "execute_result",
          "data": {
            "text/html": [
              "<div>\n",
              "<style scoped>\n",
              "    .dataframe tbody tr th:only-of-type {\n",
              "        vertical-align: middle;\n",
              "    }\n",
              "\n",
              "    .dataframe tbody tr th {\n",
              "        vertical-align: top;\n",
              "    }\n",
              "\n",
              "    .dataframe thead th {\n",
              "        text-align: right;\n",
              "    }\n",
              "</style>\n",
              "<table border=\"1\" class=\"dataframe\">\n",
              "  <thead>\n",
              "    <tr style=\"text-align: right;\">\n",
              "      <th></th>\n",
              "      <th>POP</th>\n",
              "      <th>GEOID10</th>\n",
              "    </tr>\n",
              "  </thead>\n",
              "  <tbody>\n",
              "    <tr>\n",
              "      <th>39049000110</th>\n",
              "      <td>3344</td>\n",
              "      <td>39049000110</td>\n",
              "    </tr>\n",
              "    <tr>\n",
              "      <th>39049000120</th>\n",
              "      <td>3162</td>\n",
              "      <td>39049000120</td>\n",
              "    </tr>\n",
              "    <tr>\n",
              "      <th>39049000210</th>\n",
              "      <td>2935</td>\n",
              "      <td>39049000210</td>\n",
              "    </tr>\n",
              "    <tr>\n",
              "      <th>39049000220</th>\n",
              "      <td>3727</td>\n",
              "      <td>39049000220</td>\n",
              "    </tr>\n",
              "    <tr>\n",
              "      <th>39049000310</th>\n",
              "      <td>3147</td>\n",
              "      <td>39049000310</td>\n",
              "    </tr>\n",
              "  </tbody>\n",
              "</table>\n",
              "</div>"
            ],
            "text/plain": [
              "              POP      GEOID10\n",
              "39049000110  3344  39049000110\n",
              "39049000120  3162  39049000120\n",
              "39049000210  2935  39049000210\n",
              "39049000220  3727  39049000220\n",
              "39049000310  3147  39049000310"
            ]
          },
          "metadata": {},
          "execution_count": 151
        }
      ]
    },
    {
      "cell_type": "code",
      "metadata": {
        "colab": {
          "base_uri": "https://localhost:8080/"
        },
        "id": "m5oPoBUR6JSq",
        "outputId": "d7178621-730b-4168-a0ce-6a62088ff1cf"
      },
      "source": [
        "data_tract_new[\"POP_DEN\"] = data_tract_new[\"POP\"] / data_tract_new[\"ALAND10\"]\n",
        "max_index = data_tract_new[\"POP_DEN\"].idxmax()\n",
        "max_id = data_tract_new.loc[max_index].at['GEOID10']\n",
        "max_index, max_id"
      ],
      "execution_count": 152,
      "outputs": [
        {
          "output_type": "execute_result",
          "data": {
            "text/plain": [
              "(232, '39049001810')"
            ]
          },
          "metadata": {},
          "execution_count": 152
        }
      ]
    },
    {
      "cell_type": "markdown",
      "metadata": {
        "id": "1g9Bgrc_ou0A"
      },
      "source": [
        "Calculate $p(TU)$ based on the selected blocks (only blocks in the most population tract)."
      ]
    },
    {
      "cell_type": "code",
      "metadata": {
        "colab": {
          "base_uri": "https://localhost:8080/",
          "height": 233
        },
        "id": "9Fd4jEXtoufF",
        "outputId": "16f37e77-408c-4c28-b384-c75f86ef1b2d"
      },
      "source": [
        "data_people_b1 = data_people[data_people[\"TRACTID10\"] == max_id]\n",
        "hist1_b1 = pd.crosstab(data_people_b1.GEOID10, data_people_b1.race)\n",
        "hist1_b1.head()"
      ],
      "execution_count": 153,
      "outputs": [
        {
          "output_type": "execute_result",
          "data": {
            "text/html": [
              "<div>\n",
              "<style scoped>\n",
              "    .dataframe tbody tr th:only-of-type {\n",
              "        vertical-align: middle;\n",
              "    }\n",
              "\n",
              "    .dataframe tbody tr th {\n",
              "        vertical-align: top;\n",
              "    }\n",
              "\n",
              "    .dataframe thead th {\n",
              "        text-align: right;\n",
              "    }\n",
              "</style>\n",
              "<table border=\"1\" class=\"dataframe\">\n",
              "  <thead>\n",
              "    <tr style=\"text-align: right;\">\n",
              "      <th>race</th>\n",
              "      <th>1</th>\n",
              "      <th>2</th>\n",
              "      <th>3</th>\n",
              "      <th>4</th>\n",
              "      <th>6</th>\n",
              "      <th>7</th>\n",
              "    </tr>\n",
              "    <tr>\n",
              "      <th>GEOID10</th>\n",
              "      <th></th>\n",
              "      <th></th>\n",
              "      <th></th>\n",
              "      <th></th>\n",
              "      <th></th>\n",
              "      <th></th>\n",
              "    </tr>\n",
              "  </thead>\n",
              "  <tbody>\n",
              "    <tr>\n",
              "      <th>390490018101000</th>\n",
              "      <td>88</td>\n",
              "      <td>5</td>\n",
              "      <td>0</td>\n",
              "      <td>7</td>\n",
              "      <td>2</td>\n",
              "      <td>4</td>\n",
              "    </tr>\n",
              "    <tr>\n",
              "      <th>390490018101001</th>\n",
              "      <td>45</td>\n",
              "      <td>0</td>\n",
              "      <td>0</td>\n",
              "      <td>8</td>\n",
              "      <td>0</td>\n",
              "      <td>1</td>\n",
              "    </tr>\n",
              "    <tr>\n",
              "      <th>390490018101002</th>\n",
              "      <td>338</td>\n",
              "      <td>25</td>\n",
              "      <td>0</td>\n",
              "      <td>53</td>\n",
              "      <td>6</td>\n",
              "      <td>15</td>\n",
              "    </tr>\n",
              "    <tr>\n",
              "      <th>390490018101003</th>\n",
              "      <td>153</td>\n",
              "      <td>4</td>\n",
              "      <td>0</td>\n",
              "      <td>30</td>\n",
              "      <td>0</td>\n",
              "      <td>5</td>\n",
              "    </tr>\n",
              "    <tr>\n",
              "      <th>390490018101004</th>\n",
              "      <td>234</td>\n",
              "      <td>7</td>\n",
              "      <td>0</td>\n",
              "      <td>40</td>\n",
              "      <td>0</td>\n",
              "      <td>6</td>\n",
              "    </tr>\n",
              "  </tbody>\n",
              "</table>\n",
              "</div>"
            ],
            "text/plain": [
              "race               1   2  3   4  6   7\n",
              "GEOID10                               \n",
              "390490018101000   88   5  0   7  2   4\n",
              "390490018101001   45   0  0   8  0   1\n",
              "390490018101002  338  25  0  53  6  15\n",
              "390490018101003  153   4  0  30  0   5\n",
              "390490018101004  234   7  0  40  0   6"
            ]
          },
          "metadata": {},
          "execution_count": 153
        }
      ]
    },
    {
      "cell_type": "code",
      "metadata": {
        "colab": {
          "base_uri": "https://localhost:8080/",
          "height": 335
        },
        "id": "jiExPImE9Szz",
        "outputId": "1b5bd9e7-25f1-4016-edd7-10ba59d52b9a"
      },
      "source": [
        "import seaborn as sns\n",
        "\n",
        "probabilities = hist1_b1.stack().value_counts(normalize=True)    \n",
        "sns.barplot(probabilities.index, probabilities.values).set(xlim=(0, 10))"
      ],
      "execution_count": null,
      "outputs": [
        {
          "output_type": "stream",
          "name": "stderr",
          "text": [
            "/usr/local/lib/python3.7/dist-packages/seaborn/_decorators.py:43: FutureWarning: Pass the following variables as keyword args: x, y. From version 0.12, the only valid positional argument will be `data`, and passing other arguments without an explicit keyword will result in an error or misinterpretation.\n",
            "  FutureWarning\n"
          ]
        },
        {
          "output_type": "execute_result",
          "data": {
            "text/plain": [
              "[(0.0, 10.0)]"
            ]
          },
          "metadata": {},
          "execution_count": 75
        },
        {
          "output_type": "display_data",
          "data": {
            "image/png": "[encoded data removed]",
            "text/plain": [
              "<Figure size 432x288 with 1 Axes>"
            ]
          },
          "metadata": {
            "needs_background": "light"
          }
        }
      ]
    },
    {
      "cell_type": "code",
      "metadata": {
        "colab": {
          "base_uri": "https://localhost:8080/"
        },
        "id": "4EEivlxRSIRc",
        "outputId": "989c240e-429d-4c3f-8680-95ef53d98814"
      },
      "source": [
        "import math\n",
        "import numpy as np\n",
        "\n",
        "# privacy budget allocation\n",
        "delta = 10 ** (-10)\n",
        "eps = 17.14 * 9/4097\n",
        "\n",
        "# calculate sigma (standard deviation)\n",
        "sigma = math.sqrt(1 / (2 * eps))\n",
        "# privacy loss budget in differential privacy\n",
        "eps0 = eps + 2 * math.sqrt(eps * math.log(1 / delta))\n",
        "eps, eps0"
      ],
      "execution_count": 154,
      "outputs": [
        {
          "output_type": "execute_result",
          "data": {
            "text/plain": [
              "(0.03765194044422748, 1.8998742342553376)"
            ]
          },
          "metadata": {},
          "execution_count": 154
        }
      ]
    },
    {
      "cell_type": "code",
      "metadata": {
        "colab": {
          "base_uri": "https://localhost:8080/"
        },
        "id": "DzIZZ1OLoZPI",
        "outputId": "53b3d4a3-512a-442b-d535-dd82e383e54a"
      },
      "source": [
        "import scipy.stats\n",
        "\n",
        "column_values = hist1_b1[hist1_b1.columns].values.ravel()\n",
        "A = pd.unique(column_values)\n",
        "\n",
        "probs = []\n",
        "for i in A:\n",
        "    p1 = scipy.stats.norm(0, sigma).cdf(0.5 - i) - scipy.stats.norm(0, sigma).cdf(1.5 - i)\n",
        "    u0 = hist1_b1 == i\n",
        "    p2 = np.unique(u0.values, return_counts=True)[1][1] / (np.unique(u0.values, return_counts=True)[1][1] + \n",
        "                                                           np.unique(u0.values, return_counts=True)[1][0])\n",
        "    probs.append(p1 * p2)\n",
        "\n",
        "p3 = scipy.stats.norm(0, sigma).cdf(-0.5) - scipy.stats.norm(0, sigma).cdf(0.5)\n",
        "u0 = hist1_b1 == 1\n",
        "p4 = np.unique(u0.values, return_counts=True)[1][1] / (np.unique(u0.values, return_counts=True)[1][1] + \n",
        "                                                       np.unique(u0.values, return_counts=True)[1][0])\n",
        "p_tu = p3 * p4 / sum(probs)\n",
        "p_tu"
      ],
      "execution_count": 155,
      "outputs": [
        {
          "output_type": "execute_result",
          "data": {
            "text/plain": [
              "0.18278672381416478"
            ]
          },
          "metadata": {},
          "execution_count": 155
        }
      ]
    },
    {
      "cell_type": "markdown",
      "metadata": {
        "id": "suP6PRBYq2uD"
      },
      "source": [
        "Expand the examined blocks by considering the neighbors of the most populated tract based on Rook continuity."
      ]
    },
    {
      "cell_type": "code",
      "metadata": {
        "colab": {
          "base_uri": "https://localhost:8080/"
        },
        "id": "uatdlUkVtFi0",
        "outputId": "7a765802-e1ca-40d1-c4d2-0f68591e5bc4"
      },
      "source": [
        "import geopandas as gpd\n",
        "from pysal.lib import weights\n",
        "\n",
        "k10 = weights.Rook.from_dataframe(data_tract)\n",
        "nb_index = k10.neighbors[max_index]\n",
        "nb_id = data_tract[\"GEOID10\"].iloc[nb_index]\n",
        "nb_id"
      ],
      "execution_count": 157,
      "outputs": [
        {
          "output_type": "execute_result",
          "data": {
            "text/plain": [
              "233    39049001700\n",
              "35     39049001122\n",
              "126    39049001121\n",
              "231    39049001820\n",
              "Name: GEOID10, dtype: object"
            ]
          },
          "metadata": {},
          "execution_count": 157
        }
      ]
    },
    {
      "cell_type": "code",
      "metadata": {
        "colab": {
          "base_uri": "https://localhost:8080/",
          "height": 233
        },
        "id": "i4b5VpLJ8lVl",
        "outputId": "2d0ce174-687d-4e3d-e779-43e735399979"
      },
      "source": [
        "data_people_b2 = data_people[data_people[\"TRACTID10\"].isin(nb_id)]\n",
        "hist1_b2 = pd.crosstab(data_people_b2.GEOID10, data_people_b2.race)\n",
        "hist1_b2.head()"
      ],
      "execution_count": 158,
      "outputs": [
        {
          "output_type": "execute_result",
          "data": {
            "text/html": [
              "<div>\n",
              "<style scoped>\n",
              "    .dataframe tbody tr th:only-of-type {\n",
              "        vertical-align: middle;\n",
              "    }\n",
              "\n",
              "    .dataframe tbody tr th {\n",
              "        vertical-align: top;\n",
              "    }\n",
              "\n",
              "    .dataframe thead th {\n",
              "        text-align: right;\n",
              "    }\n",
              "</style>\n",
              "<table border=\"1\" class=\"dataframe\">\n",
              "  <thead>\n",
              "    <tr style=\"text-align: right;\">\n",
              "      <th>race</th>\n",
              "      <th>1</th>\n",
              "      <th>2</th>\n",
              "      <th>3</th>\n",
              "      <th>4</th>\n",
              "      <th>5</th>\n",
              "      <th>6</th>\n",
              "      <th>7</th>\n",
              "    </tr>\n",
              "    <tr>\n",
              "      <th>GEOID10</th>\n",
              "      <th></th>\n",
              "      <th></th>\n",
              "      <th></th>\n",
              "      <th></th>\n",
              "      <th></th>\n",
              "      <th></th>\n",
              "      <th></th>\n",
              "    </tr>\n",
              "  </thead>\n",
              "  <tbody>\n",
              "    <tr>\n",
              "      <th>390490011211002</th>\n",
              "      <td>1900</td>\n",
              "      <td>110</td>\n",
              "      <td>5</td>\n",
              "      <td>113</td>\n",
              "      <td>0</td>\n",
              "      <td>27</td>\n",
              "      <td>6</td>\n",
              "    </tr>\n",
              "    <tr>\n",
              "      <th>390490011212000</th>\n",
              "      <td>486</td>\n",
              "      <td>14</td>\n",
              "      <td>0</td>\n",
              "      <td>91</td>\n",
              "      <td>0</td>\n",
              "      <td>3</td>\n",
              "      <td>1</td>\n",
              "    </tr>\n",
              "    <tr>\n",
              "      <th>390490011212001</th>\n",
              "      <td>5</td>\n",
              "      <td>1</td>\n",
              "      <td>0</td>\n",
              "      <td>0</td>\n",
              "      <td>0</td>\n",
              "      <td>0</td>\n",
              "      <td>0</td>\n",
              "    </tr>\n",
              "    <tr>\n",
              "      <th>390490011212003</th>\n",
              "      <td>1779</td>\n",
              "      <td>90</td>\n",
              "      <td>7</td>\n",
              "      <td>125</td>\n",
              "      <td>0</td>\n",
              "      <td>27</td>\n",
              "      <td>5</td>\n",
              "    </tr>\n",
              "    <tr>\n",
              "      <th>390490011213000</th>\n",
              "      <td>13</td>\n",
              "      <td>0</td>\n",
              "      <td>0</td>\n",
              "      <td>10</td>\n",
              "      <td>0</td>\n",
              "      <td>0</td>\n",
              "      <td>1</td>\n",
              "    </tr>\n",
              "  </tbody>\n",
              "</table>\n",
              "</div>"
            ],
            "text/plain": [
              "race                1    2  3    4  5   6  7\n",
              "GEOID10                                     \n",
              "390490011211002  1900  110  5  113  0  27  6\n",
              "390490011212000   486   14  0   91  0   3  1\n",
              "390490011212001     5    1  0    0  0   0  0\n",
              "390490011212003  1779   90  7  125  0  27  5\n",
              "390490011213000    13    0  0   10  0   0  1"
            ]
          },
          "metadata": {},
          "execution_count": 158
        }
      ]
    },
    {
      "cell_type": "code",
      "metadata": {
        "colab": {
          "base_uri": "https://localhost:8080/",
          "height": 335
        },
        "id": "04Nt3-8dEio7",
        "outputId": "fe1736cd-6864-438b-fa5f-e620057bbc69"
      },
      "source": [
        "import seaborn as sns\n",
        "\n",
        "probabilities = hist1_b2.stack().value_counts(normalize=True)    \n",
        "sns.barplot(probabilities.index, probabilities.values).set(xlim=(0, 10))"
      ],
      "execution_count": 159,
      "outputs": [
        {
          "output_type": "stream",
          "name": "stderr",
          "text": [
            "/usr/local/lib/python3.7/dist-packages/seaborn/_decorators.py:43: FutureWarning: Pass the following variables as keyword args: x, y. From version 0.12, the only valid positional argument will be `data`, and passing other arguments without an explicit keyword will result in an error or misinterpretation.\n",
            "  FutureWarning\n"
          ]
        },
        {
          "output_type": "execute_result",
          "data": {
            "text/plain": [
              "[(0.0, 10.0)]"
            ]
          },
          "metadata": {},
          "execution_count": 159
        },
        {
          "output_type": "display_data",
          "data": {
            "image/png": "[encoded data removed]",
            "text/plain": [
              "<Figure size 432x288 with 1 Axes>"
            ]
          },
          "metadata": {
            "needs_background": "light"
          }
        }
      ]
    },
    {
      "cell_type": "code",
      "metadata": {
        "colab": {
          "base_uri": "https://localhost:8080/"
        },
        "id": "Sodp-AUXEn5l",
        "outputId": "3b3add77-7357-4160-e7e7-7404482eba89"
      },
      "source": [
        "import scipy.stats\n",
        "\n",
        "column_values = hist1_b2[hist1_b2.columns].values.ravel()\n",
        "A = pd.unique(column_values)\n",
        "\n",
        "probs = []\n",
        "for i in A:\n",
        "    p1 = scipy.stats.norm(0, sigma).cdf(0.5 - i) - scipy.stats.norm(0, sigma).cdf(1.5 - i)\n",
        "    u0 = hist1_b2 == i\n",
        "    p2 = np.unique(u0.values, return_counts=True)[1][1] / (np.unique(u0.values, return_counts=True)[1][1] + \n",
        "                                                           np.unique(u0.values, return_counts=True)[1][0])\n",
        "    probs.append(p1 * p2)\n",
        "\n",
        "p3 = scipy.stats.norm(0, sigma).cdf(-0.5) - scipy.stats.norm(0, sigma).cdf(0.5)\n",
        "u0 = hist1_b2 == 1\n",
        "p4 = np.unique(u0.values, return_counts=True)[1][1] / (np.unique(u0.values, return_counts=True)[1][1] + \n",
        "                                                       np.unique(u0.values, return_counts=True)[1][0])\n",
        "p_tu = p3 * p4 / sum(probs)\n",
        "p_tu"
      ],
      "execution_count": 160,
      "outputs": [
        {
          "output_type": "execute_result",
          "data": {
            "text/plain": [
              "0.09916652833582495"
            ]
          },
          "metadata": {},
          "execution_count": 160
        }
      ]
    },
    {
      "cell_type": "markdown",
      "metadata": {
        "id": "Y3Xs2-gVEbQ8"
      },
      "source": [
        "We can keep searching the neighbors based on Rook continuity until all blocks in the county are covered. "
      ]
    },
    {
      "cell_type": "code",
      "metadata": {
        "colab": {
          "base_uri": "https://localhost:8080/"
        },
        "id": "COGn30YeFHcH",
        "outputId": "a11f3ceb-4cd0-4033-8c8e-54857a689515"
      },
      "source": [
        "import geopandas as gpd\n",
        "from pysal.lib import weights\n",
        "import scipy.stats\n",
        "\n",
        "# k-nearest neighbors for all tracts\n",
        "k10 = weights.Rook.from_dataframe(data_tract)\n",
        "\n",
        "tract_index = [max_index]\n",
        "p_tu_all = []\n",
        "flag = 0\n",
        "while flag < 1:\n",
        "    if len(tract_index) == len(data_tract):\n",
        "        flag = 1\n",
        "\n",
        "    # create histogram\n",
        "    tract_ids = data_tract[\"GEOID10\"].iloc[tract_index]\n",
        "    data_people_sub = data_people[data_people[\"TRACTID10\"].isin(tract_ids)]\n",
        "    hist1_sub = pd.crosstab(data_people_sub.GEOID10, data_people_sub.race)\n",
        "    \n",
        "    # calculate p(TU)\n",
        "    column_values = hist1_sub[hist1_sub.columns].values.ravel()\n",
        "    A = pd.unique(column_values)\n",
        "    probs = []\n",
        "    for i in A:\n",
        "        p1 = scipy.stats.norm(0, sigma).cdf(0.5 - i) - scipy.stats.norm(0, sigma).cdf(1.5 - i)\n",
        "        u0 = hist1_sub == i\n",
        "        p2 = np.unique(u0.values, return_counts=True)[1][1] / (np.unique(u0.values, return_counts=True)[1][1] + \n",
        "                                                               np.unique(u0.values, return_counts=True)[1][0])\n",
        "        probs.append(p1 * p2)\n",
        "    p3 = scipy.stats.norm(0, sigma).cdf(-0.5) - scipy.stats.norm(0, sigma).cdf(0.5)\n",
        "    u0 = hist1_sub == 1\n",
        "    p4 = np.unique(u0.values, return_counts=True)[1][1] / (np.unique(u0.values, return_counts=True)[1][1] + \n",
        "                                                           np.unique(u0.values, return_counts=True)[1][0])\n",
        "    p_tu = p3 * p4 / sum(probs)\n",
        "    p_tu_all.append(p_tu)\n",
        "\n",
        "    # add neighbors \n",
        "    nb_index = [k10.neighbors.get(tract) for tract in tract_index]\n",
        "    nb_index = [x for sublist in nb_index for x in sublist]\n",
        "    tract_index = list(set(np.append(tract_index, nb_index)))\n",
        "    # print(len(tract_index))\n",
        "p_tu_all"
      ],
      "execution_count": 202,
      "outputs": [
        {
          "output_type": "execute_result",
          "data": {
            "text/plain": [
              "[0.10650680004889271,\n",
              " 0.09995002156150583,\n",
              " 0.09810755659844284,\n",
              " 0.09625490060863949,\n",
              " 0.09159851843302295,\n",
              " 0.08877685665562594,\n",
              " 0.08933634079309022,\n",
              " 0.090974652377388,\n",
              " 0.09164292719254498,\n",
              " 0.09238519675494726,\n",
              " 0.09170678645043967,\n",
              " 0.09139689444093806,\n",
              " 0.08944482746660222,\n",
              " 0.08797286076692697,\n",
              " 0.08792193110751202]"
            ]
          },
          "metadata": {},
          "execution_count": 202
        }
      ]
    },
    {
      "cell_type": "markdown",
      "metadata": {
        "id": "4YMxHsGXKNEE"
      },
      "source": [
        "We can use the same procedure to calculate $p(TU)$ based on the NHGIS data."
      ]
    },
    {
      "cell_type": "code",
      "metadata": {
        "colab": {
          "base_uri": "https://localhost:8080/"
        },
        "id": "4ZvaYk5YKWoX",
        "outputId": "d5cf51a8-ad05-4914-bfbb-7d9ecb50095d"
      },
      "source": [
        "%cd \"/content/gdrive/My Drive/Colab Notebooks/census_privacy\"\n",
        "import pandas as pd\n",
        "import geopandas as gpd\n",
        "from pysal.lib import weights\n",
        "import scipy.stats\n",
        "\n",
        "filename_nhgis_block = 'franklin/nhgis/franklin_nhgis_block.csv'\n",
        "nhgis_block = pd.read_csv(filename_nhgis_block)\n",
        "nhgis_block['GEOID10'] = data_block['GEOID10'].astype(str)\n",
        "nhgis_block['TRACTID10'] = nhgis_block['GEOID10'].str[:11]\n",
        "\n",
        "hist1_nhgis = nhgis_block[['H72003_sf', 'H72004_sf', 'H72005_sf', 'H72006_sf', 'H72007_sf', 'H72008_sf', 'H72009_sf']]\n",
        "hist1_nhgis = hist1_nhgis.rename(columns={'H72003_sf': '1', 'H72004_sf': '2', 'H72005_sf': '3', 'H72006_sf': '4', 'H72007_sf': '5', 'H72008_sf': '6', \n",
        "                                          'H72009_sf': '7'})\n",
        "hist2_nhgis = nhgis_block[['H72003_dp', 'H72004_dp', 'H72005_dp', 'H72006_dp', 'H72007_dp', 'H72008_dp', 'H72009_dp']]\n",
        "hist2_nhgis = hist2_nhgis.rename(columns={'H72003_dp': '1', 'H72004_dp': '2', 'H72005_dp': '3', 'H72006_dp': '4', 'H72007_dp': '5', 'H72008_dp': '6', \n",
        "                                          'H72009_dp': '7'})\n",
        "\n",
        "# k-nearest neighbors for all tracts\n",
        "k10 = weights.Rook.from_dataframe(data_tract)\n",
        "\n",
        "tract_index = [max_index]\n",
        "p_tu_all_nhgis = []\n",
        "flag = 0\n",
        "while flag < 1:\n",
        "    if len(tract_index) == len(data_tract):\n",
        "        flag = 1\n",
        "        \n",
        "    # create histogram\n",
        "    tract_ids = data_tract[\"GEOID10\"].iloc[tract_index]\n",
        "    nhgis_sub = nhgis_block[nhgis_block[\"TRACTID10\"].isin(tract_ids)]\n",
        "    hist1_nhgis = nhgis_sub[['H72003_sf', 'H72004_sf', 'H72005_sf', 'H72006_sf', 'H72007_sf', 'H72008_sf', 'H72009_sf']]\n",
        "    hist1_nhgis = hist1_nhgis.rename(columns={'H72003_sf': '1', 'H72004_sf': '2', 'H72005_sf': '3', 'H72006_sf': '4', 'H72007_sf': '5', 'H72008_sf': '6', \n",
        "                                            'H72009_sf': '7'})\n",
        "    hist2_nhgis = nhgis_sub[['H72003_dp', 'H72004_dp', 'H72005_dp', 'H72006_dp', 'H72007_dp', 'H72008_dp', 'H72009_dp']]\n",
        "    hist2_nhgis = hist2_nhgis.rename(columns={'H72003_dp': '1', 'H72004_dp': '2', 'H72005_dp': '3', 'H72006_dp': '4', 'H72007_dp': '5', 'H72008_dp': '6', \n",
        "                                            'H72009_dp': '7'})\n",
        "    \n",
        "    # calculate p(TU)\n",
        "    # find a true unique\n",
        "    tu = (hist1_nhgis == hist2_nhgis) & (hist1_nhgis == 1) & (hist2_nhgis == 1)\n",
        "    n_tu = np.unique(tu.values, return_counts=True)[1][1]\n",
        "    # uniques after noise injection\n",
        "    u = hist2_nhgis == 1\n",
        "    n_u = np.unique(u.values, return_counts=True)[1][1]\n",
        "    # frequency of finding the true uniques\n",
        "    p_tu_nhgis = n_tu / n_u\n",
        "    p_tu_all_nhgis.append(p_tu_nhgis)\n",
        "\n",
        "    # add neighbors \n",
        "    nb_index = [k10.neighbors.get(tract) for tract in tract_index]\n",
        "    nb_index = [x for sublist in nb_index for x in sublist]\n",
        "    tract_index = list(set(np.append(tract_index, nb_index)))\n",
        "p_tu_all_nhgis"
      ],
      "execution_count": 201,
      "outputs": [
        {
          "output_type": "stream",
          "name": "stdout",
          "text": [
            "/content/gdrive/My Drive/Colab Notebooks/census_privacy\n"
          ]
        },
        {
          "output_type": "execute_result",
          "data": {
            "text/plain": [
              "[0.09259259259259259,\n",
              " 0.14046822742474915,\n",
              " 0.13804173354735153,\n",
              " 0.13272727272727272,\n",
              " 0.12344280860702152,\n",
              " 0.12478260869565218,\n",
              " 0.12439696760854584,\n",
              " 0.12320837927232635,\n",
              " 0.12042328042328042,\n",
              " 0.11735309322764087,\n",
              " 0.11692170554152428,\n",
              " 0.11604006764667621,\n",
              " 0.11665120593692022,\n",
              " 0.11650275586296337,\n",
              " 0.11636167922497309]"
            ]
          },
          "metadata": {},
          "execution_count": 201
        }
      ]
    },
    {
      "cell_type": "markdown",
      "metadata": {
        "id": "1XioTBcCu8Yg"
      },
      "source": [
        "**Compare with Guernsey county.**"
      ]
    },
    {
      "cell_type": "code",
      "metadata": {
        "colab": {
          "base_uri": "https://localhost:8080/"
        },
        "id": "4RUYIJHZvZfN",
        "outputId": "8d14996c-69f9-405a-81c8-4ffe57d2b7e0"
      },
      "source": [
        "%cd \"/content/gdrive/My Drive/Colab Notebooks/census_privacy\"\n",
        "import geopandas as gpd\n",
        "\n",
        "filename_block_g = 'guernsey/buildings/guernsey_block10.json'\n",
        "data_block_g = gpd.read_file(filename_block_g)\n",
        "data_block_g['GEOID10'] = data_block_g['GEOID10'].astype(str)\n",
        "data_block_g['BGID10'] = data_block_g['GEOID10'].str[:12]\n",
        "data_block_g['TRACTID10'] = data_block_g['GEOID10'].str[:11]\n",
        "data_block_g.columns"
      ],
      "execution_count": null,
      "outputs": [
        {
          "output_type": "stream",
          "name": "stdout",
          "text": [
            "/content/gdrive/My Drive/Colab Notebooks/census_privacy\n"
          ]
        },
        {
          "output_type": "execute_result",
          "data": {
            "text/plain": [
              "Index(['FID', 'STATEFP10', 'COUNTYFP10', 'TRACTCE10', 'BLOCKCE10', 'GEOID10',\n",
              "       'NAME10', 'MTFCC10', 'UR10', 'UACE10', 'FUNCSTAT10', 'ALAND10',\n",
              "       'AWATER10', 'INTPTLAT10', 'INTPTLON10', 'geometry', 'BGID10',\n",
              "       'TRACTID10'],\n",
              "      dtype='object')"
            ]
          },
          "metadata": {},
          "execution_count": 129
        }
      ]
    },
    {
      "cell_type": "code",
      "metadata": {
        "colab": {
          "base_uri": "https://localhost:8080/"
        },
        "id": "vQij8fgOvZfO",
        "outputId": "d8f2fa6e-663d-4d13-c5c8-eedfbb8e5a50"
      },
      "source": [
        "%cd \"/content/gdrive/My Drive/Colab Notebooks/census_privacy\"\n",
        "import geopandas as gpd\n",
        "\n",
        "filename_tract_g = 'guernsey/buildings/guernsey_tract10.json'\n",
        "data_tract_g = gpd.read_file(filename_tract_g)\n",
        "data_tract_g['GEOID10'] = data_tract_g['GEOID10'].astype(str)\n",
        "data_tract_g.columns"
      ],
      "execution_count": null,
      "outputs": [
        {
          "output_type": "stream",
          "name": "stdout",
          "text": [
            "/content/gdrive/My Drive/Colab Notebooks/census_privacy\n"
          ]
        },
        {
          "output_type": "execute_result",
          "data": {
            "text/plain": [
              "Index(['FID', 'STATEFP10', 'COUNTYFP10', 'TRACTCE10', 'GEOID10', 'NAME10',\n",
              "       'NAMELSAD10', 'MTFCC10', 'FUNCSTAT10', 'ALAND10', 'AWATER10',\n",
              "       'INTPTLAT10', 'INTPTLON10', 'geometry'],\n",
              "      dtype='object')"
            ]
          },
          "metadata": {},
          "execution_count": 130
        }
      ]
    },
    {
      "cell_type": "code",
      "metadata": {
        "colab": {
          "base_uri": "https://localhost:8080/"
        },
        "id": "ertf3BuLu8u3",
        "outputId": "12e46175-3ac9-4f1a-dc8c-9fa76800fcf2"
      },
      "source": [
        "import geopandas as gpd\n",
        "from pysal.lib import weights\n",
        "import scipy.stats\n",
        "\n",
        "total_g = hist1_tr_g.sum(axis=1).to_frame()\n",
        "total_g[\"GEOID10\"] = total_g.index.map(str)\n",
        "total_g = total_g.rename(columns={total_g.columns[0]: \"POP\"})\n",
        "total_g.index.name = None\n",
        "data_tract_new_g = data_tract_g.merge(total_g[['GEOID10', 'POP']], how='left', on=['GEOID10'])\n",
        "\n",
        "data_tract_new_g[\"POP_DEN\"] = data_tract_new_g[\"POP\"] / data_tract_new_g[\"ALAND10\"]\n",
        "max_index = data_tract_new_g[\"POP_DEN\"].idxmax()\n",
        "max_id = data_tract_new_g.loc[max_index].at['GEOID10']\n",
        "\n",
        "# k-nearest neighbors for all tracts\n",
        "k10 = weights.Rook.from_dataframe(data_tract_g)\n",
        "tract_index = [max_index]\n",
        "p_tu_all_g = []\n",
        "flag = 0\n",
        "while flag < 1:\n",
        "    if len(tract_index) == len(data_tract_g):\n",
        "        flag = 1\n",
        "    # create histogram\n",
        "    tract_ids = data_tract_g[\"GEOID10\"].iloc[tract_index]\n",
        "    data_people_sub = data_people_g[data_people_g[\"TRACTID10\"].isin(tract_ids)]\n",
        "    hist1_sub = pd.crosstab(data_people_sub.GEOID10, data_people_sub.race)\n",
        "\n",
        "    # calculate p(TU)\n",
        "    column_values = hist1_sub[hist1_sub.columns].values.ravel()\n",
        "    A = pd.unique(column_values)\n",
        "    probs = []\n",
        "    for i in A:\n",
        "        p1 = scipy.stats.norm(0, sigma).cdf(0.5 - i) - scipy.stats.norm(0, sigma).cdf(1.5 - i)\n",
        "        u0 = hist1_sub == i\n",
        "        p2 = np.unique(u0.values, return_counts=True)[1][1] / (np.unique(u0.values, return_counts=True)[1][1] + \n",
        "                                                               np.unique(u0.values, return_counts=True)[1][0])\n",
        "        probs.append(p1 * p2)\n",
        "    p3 = scipy.stats.norm(0, sigma).cdf(-0.5) - scipy.stats.norm(0, sigma).cdf(0.5)\n",
        "    u0 = hist1_sub == 1\n",
        "    p4 = np.unique(u0.values, return_counts=True)[1][1] / (np.unique(u0.values, return_counts=True)[1][1] + \n",
        "                                                           np.unique(u0.values, return_counts=True)[1][0])\n",
        "    p_tu = p3 * p4 / sum(probs)\n",
        "    p_tu_all_g.append(p_tu)\n",
        "\n",
        "    # add neighbors \n",
        "    nb_index = [k10.neighbors.get(tract) for tract in tract_index]\n",
        "    nb_index = [x for sublist in nb_index for x in sublist]\n",
        "    tract_index = list(set(np.append(tract_index, nb_index)))\n",
        "    # print(len(tract_index))\n",
        "p_tu_all_g"
      ],
      "execution_count": 197,
      "outputs": [
        {
          "output_type": "execute_result",
          "data": {
            "text/plain": [
              "[0.06995867221233878,\n",
              " 0.05219107308927424,\n",
              " 0.03645256101226877,\n",
              " 0.03317121400234159]"
            ]
          },
          "metadata": {},
          "execution_count": 197
        }
      ]
    },
    {
      "cell_type": "code",
      "metadata": {
        "colab": {
          "base_uri": "https://localhost:8080/"
        },
        "id": "F2rlKe4yfgv4",
        "outputId": "8659fe8d-84cc-4d6c-b44a-26d9f7f82aa6"
      },
      "source": [
        "%cd \"/content/gdrive/My Drive/Colab Notebooks/census_privacy\"\n",
        "import pandas as pd\n",
        "import geopandas as gpd\n",
        "from pysal.lib import weights\n",
        "import scipy.stats\n",
        "\n",
        "filename_nhgis_block_g = 'guernsey/nhgis/guernsey_nhgis_block.csv'\n",
        "nhgis_block_g = pd.read_csv(filename_nhgis_block_g)\n",
        "nhgis_block_g['GEOID10'] = data_block_g['GEOID10'].astype(str)\n",
        "nhgis_block_g['TRACTID10'] = nhgis_block_g['GEOID10'].str[:11]\n",
        "\n",
        "hist1_nhgis_g = nhgis_block_g[['H72003_sf', 'H72004_sf', 'H72005_sf', 'H72006_sf', 'H72007_sf', 'H72008_sf', 'H72009_sf']]\n",
        "hist1_nhgis_g = hist1_nhgis_g.rename(columns={'H72003_sf': '1', 'H72004_sf': '2', 'H72005_sf': '3', 'H72006_sf': '4', 'H72007_sf': '5', 'H72008_sf': '6', \n",
        "                                          'H72009_sf': '7'})\n",
        "hist2_nhgis_g = nhgis_block_g[['H72003_dp', 'H72004_dp', 'H72005_dp', 'H72006_dp', 'H72007_dp', 'H72008_dp', 'H72009_dp']]\n",
        "hist2_nhgis_g = hist2_nhgis_g.rename(columns={'H72003_dp': '1', 'H72004_dp': '2', 'H72005_dp': '3', 'H72006_dp': '4', 'H72007_dp': '5', 'H72008_dp': '6', \n",
        "                                          'H72009_dp': '7'})\n",
        "\n",
        "# k-nearest neighbors for all tracts\n",
        "k10 = weights.Rook.from_dataframe(data_tract_g)\n",
        "\n",
        "tract_index = [max_index]\n",
        "p_tu_all_nhgis_g = []\n",
        "flag = 0\n",
        "while flag < 1:\n",
        "    if len(tract_index) == len(data_tract_g):\n",
        "        flag = 1\n",
        "        \n",
        "    # create histogram\n",
        "    tract_ids = data_tract_g[\"GEOID10\"].iloc[tract_index]\n",
        "    nhgis_sub = nhgis_block_g[nhgis_block_g[\"TRACTID10\"].isin(tract_ids)]\n",
        "    hist1_nhgis = nhgis_sub[['H72003_sf', 'H72004_sf', 'H72005_sf', 'H72006_sf', 'H72007_sf', 'H72008_sf', 'H72009_sf']]\n",
        "    hist1_nhgis = hist1_nhgis.rename(columns={'H72003_sf': '1', 'H72004_sf': '2', 'H72005_sf': '3', 'H72006_sf': '4', 'H72007_sf': '5', 'H72008_sf': '6', \n",
        "                                            'H72009_sf': '7'})\n",
        "    hist2_nhgis = nhgis_sub[['H72003_dp', 'H72004_dp', 'H72005_dp', 'H72006_dp', 'H72007_dp', 'H72008_dp', 'H72009_dp']]\n",
        "    hist2_nhgis = hist2_nhgis.rename(columns={'H72003_dp': '1', 'H72004_dp': '2', 'H72005_dp': '3', 'H72006_dp': '4', 'H72007_dp': '5', 'H72008_dp': '6', \n",
        "                                            'H72009_dp': '7'})\n",
        "    \n",
        "    # calculate p(TU)\n",
        "    # find a true unique\n",
        "    tu = (hist1_nhgis == hist2_nhgis) & (hist1_nhgis == 1) & (hist2_nhgis == 1)\n",
        "    n_tu = np.unique(tu.values, return_counts=True)[1][1]\n",
        "    # uniques after noise injection\n",
        "    u = hist2_nhgis == 1\n",
        "    n_u = np.unique(u.values, return_counts=True)[1][1]\n",
        "    # frequency of finding the true uniques\n",
        "    p_tu_nhgis = n_tu / n_u\n",
        "    p_tu_all_nhgis_g.append(p_tu_nhgis)\n",
        "\n",
        "    # add neighbors \n",
        "    nb_index = [k10.neighbors.get(tract) for tract in tract_index]\n",
        "    nb_index = [x for sublist in nb_index for x in sublist]\n",
        "    tract_index = list(set(np.append(tract_index, nb_index)))\n",
        "p_tu_all_nhgis_g"
      ],
      "execution_count": 199,
      "outputs": [
        {
          "output_type": "stream",
          "name": "stdout",
          "text": [
            "/content/gdrive/My Drive/Colab Notebooks/census_privacy\n"
          ]
        },
        {
          "output_type": "execute_result",
          "data": {
            "text/plain": [
              "[0.4, 0.14545454545454545, 0.10810810810810811, 0.12637362637362637]"
            ]
          },
          "metadata": {},
          "execution_count": 199
        }
      ]
    },
    {
      "cell_type": "markdown",
      "metadata": {
        "id": "mwxnp9CMWL8x"
      },
      "source": [
        "We visualize the trend of $p(TU)$ during the expansion. As shown in the figure, $p(TU)$ increases in the first iteration, and then continues to decrease during the subsequent interations."
      ]
    },
    {
      "cell_type": "code",
      "metadata": {
        "colab": {
          "base_uri": "https://localhost:8080/",
          "height": 279
        },
        "id": "EGjZotAMSx3q",
        "outputId": "18a016bc-ca51-40e0-8ee0-5d83feb42f7d"
      },
      "source": [
        "import matplotlib.pyplot as plt\n",
        "import numpy as np\n",
        "\n",
        "plt.plot(np.array(p_tu_all), color = 'r', label='Franklin (Noisy histogram)')\n",
        "plt.plot(np.array(p_tu_all_nhgis), color = 'r', label='Franklin (NHGIS)', linestyle='dashed')\n",
        "plt.plot(np.array(p_tu_all_g), color = 'g', label='Guernsey (Noisy histogram)')\n",
        "plt.plot(np.array(p_tu_all_nhgis_g), color = 'g', label='Guernsey (NHGIS)', linestyle='dashed')\n",
        "plt.xlabel(\"Iteration\")\n",
        "plt.ylabel(\"p(TU)\")\n",
        "plt.legend()\n",
        "plt.show()"
      ],
      "execution_count": 203,
      "outputs": [
        {
          "output_type": "display_data",
          "data": {
            "image/png": "[encoded data removed]",
            "text/plain": [
              "<Figure size 432x288 with 1 Axes>"
            ]
          },
          "metadata": {
            "needs_background": "light"
          }
        }
      ]
    },
    {
      "cell_type": "markdown",
      "metadata": {
        "id": "Q__o1dGLon0M"
      },
      "source": [
        "The trend above can potentially be explained by the population distribution in the county. As the iteration increases, more sparse blocks are added, and the histogram is more concentrated around zero. This can lead to the sharpe decrease in $p(TU)$."
      ]
    },
    {
      "cell_type": "code",
      "metadata": {
        "colab": {
          "base_uri": "https://localhost:8080/",
          "height": 281
        },
        "id": "I8P0mGszIY7J",
        "outputId": "c1770509-69df-42ba-82ac-60cc5b491ce9"
      },
      "source": [
        "import matplotlib.pyplot as plt\n",
        "\n",
        "fig, ax = plt.subplots(1, 1)\n",
        "data_tract_new.plot(column='POP_DEN', ax=ax, legend=True)"
      ],
      "execution_count": null,
      "outputs": [
        {
          "output_type": "execute_result",
          "data": {
            "text/plain": [
              "<matplotlib.axes._subplots.AxesSubplot at 0x7f3450b9e1d0>"
            ]
          },
          "metadata": {},
          "execution_count": 131
        },
        {
          "output_type": "display_data",
          "data": {
            "image/png": "[encoded data removed]",
            "text/plain": [
              "<Figure size 432x288 with 2 Axes>"
            ]
          },
          "metadata": {
            "needs_background": "light"
          }
        }
      ]
    },
    {
      "cell_type": "code",
      "metadata": {
        "colab": {
          "base_uri": "https://localhost:8080/",
          "height": 434
        },
        "id": "Nd5lxf8Ue6xq",
        "outputId": "2729a59f-ed38-400d-8cb9-713afd7563f6"
      },
      "source": [
        "from splot.esda import lisa_cluster\n",
        "from pysal.lib import weights\n",
        "from pysal.explore import esda\n",
        "\n",
        "data_tract_new['POP_DEN'] = data_tract_new['POP_DEN'].fillna(0)\n",
        "# Generate W from the GeoDataFrame\n",
        "w = weights.Queen.from_dataframe(data_tract_new)\n",
        "# Row-standardization\n",
        "w.transform = 'R'\n",
        "\n",
        "moran_loc = esda.moran.Moran_Local(data_tract_new['POP_DEN'].values, w)\n",
        "lisa_cluster(moran_loc, data_tract_new, p=0.05, figsize = (9,9))\n",
        "plt.show()"
      ],
      "execution_count": null,
      "outputs": [
        {
          "output_type": "stream",
          "name": "stderr",
          "text": [
            "/usr/local/lib/python3.7/dist-packages/numba/np/ufunc/parallel.py:363: NumbaWarning: The TBB threading layer requires TBB version 2019.5 or later i.e., TBB_INTERFACE_VERSION >= 11005. Found TBB_INTERFACE_VERSION = 9107. The TBB threading layer is disabled.\n",
            "  warnings.warn(problem)\n"
          ]
        },
        {
          "output_type": "display_data",
          "data": {
            "image/png": "[encoded data removed]",
            "text/plain": [
              "<Figure size 648x648 with 1 Axes>"
            ]
          },
          "metadata": {
            "needs_background": "light"
          }
        }
      ]
    },
    {
      "cell_type": "markdown",
      "metadata": {
        "id": "_J1uqhyE_4ld"
      },
      "source": [
        "####**Check LP metric**\n",
        "Wieland, S. C., Cassa, C. A., Mandl, K. D., & Berger, B. (2008). Revealing the spatial distribution of a disease while preserving privacy. Proceedings of the National Academy of Sciences, 105(46), 17608-17613.\n",
        "\n",
        "Privacy measure: probability that any chosen member of the population belong to the target population"
      ]
    },
    {
      "cell_type": "code",
      "metadata": {
        "id": "_VACghV8-vUk"
      },
      "source": [
        ""
      ],
      "execution_count": null,
      "outputs": []
    }
  ]
}