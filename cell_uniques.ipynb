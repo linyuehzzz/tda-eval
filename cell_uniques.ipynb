{
  "nbformat": 4,
  "nbformat_minor": 0,
  "metadata": {
    "colab": {
      "name": "cell uniques.ipynb",
      "provenance": [],
      "collapsed_sections": [],
      "toc_visible": true,
      "authorship_tag": "ABX9TyMmZmhUJy7sqZ2MJWo2XRx8",
      "include_colab_link": true
    },
    "kernelspec": {
      "name": "python3",
      "display_name": "Python 3"
    },
    "language_info": {
      "name": "python"
    }
  },
  "cells": [
    {
      "cell_type": "markdown",
      "metadata": {
        "id": "view-in-github",
        "colab_type": "text"
      },
      "source": [
        "<a href=\"https://colab.research.google.com/github/linyuehzzz/census_privacy/blob/main/cell_uniques.ipynb\" target=\"_parent\"><img src=\"https://colab.research.google.com/assets/colab-badge.svg\" alt=\"Open In Colab\"/></a>"
      ]
    },
    {
      "cell_type": "code",
      "metadata": {
        "id": "zLeEw-8vLEbA",
        "colab": {
          "base_uri": "https://localhost:8080/"
        },
        "outputId": "bcafd25c-dd03-49e3-8555-c4b18d44f1b5"
      },
      "source": [
        "from google.colab import drive\n",
        "drive.mount(\"/content/gdrive\")"
      ],
      "execution_count": 1,
      "outputs": [
        {
          "output_type": "stream",
          "name": "stdout",
          "text": [
            "Mounted at /content/gdrive\n"
          ]
        }
      ]
    },
    {
      "cell_type": "markdown",
      "metadata": {
        "id": "dOzG_kv2Lg-q"
      },
      "source": [
        "####**Read data**\n",
        "Here we consider different combinations of attributes as the quasi-identifiers:\n",
        "\n",
        "*   All attributes\n",
        "*   Voting age * race\n",
        "*   Race (compared with NHGIS)\n",
        "\n",
        "\n"
      ]
    },
    {
      "cell_type": "markdown",
      "metadata": {
        "id": "uua6Cv1oV3Fb"
      },
      "source": [
        "Franklin county"
      ]
    },
    {
      "cell_type": "code",
      "metadata": {
        "colab": {
          "base_uri": "https://localhost:8080/"
        },
        "id": "V04A9tgqjDpe",
        "outputId": "bde1508d-c66c-4440-cbb7-9be959ac2241"
      },
      "source": [
        "%cd \"/content/gdrive/My Drive/Colab Notebooks/census_privacy\"\n",
        "import pandas as pd\n",
        "from lib.uniques import *\n",
        "\n",
        "filename_hist1 = 'data/franklin/microdata/franklin_hist.csv'\n",
        "hist1 = pd.read_csv(filename_hist1)\n",
        "filename_hist2 = 'data/franklin/microdata/rho_1.60/franklin_hist_dp_blk.csv'\n",
        "hist2 = pd.read_csv(filename_hist2)\n",
        "\n",
        "n2, n3, n4 = 2, 2, 63\n",
        "\n",
        "## QID 1: HHGQ ∗ VA ∗ HISP ∗ RACE (2016 cells)\n",
        "hist1_detail = query_detail_ori(hist1)\n",
        "hist2_detail = query_detail_dp(hist2)\n",
        "\n",
        "## QID 2: VA * RACE (126 cells)\n",
        "hist1_va_race = query_race_va_ori(n2, n4, hist1)\n",
        "hist2_va_race = query_race_va_dp(n2, n4, hist2)\n",
        "\n",
        "## QID 3: Race* (7 cells)\n",
        "hist1_race = query_race_ori(n4, hist1)\n",
        "hist2_race = query_race_dp(n4, hist2)"
      ],
      "execution_count": 3,
      "outputs": [
        {
          "output_type": "stream",
          "name": "stdout",
          "text": [
            "/content/gdrive/My Drive/Colab Notebooks/census_privacy\n"
          ]
        }
      ]
    },
    {
      "cell_type": "markdown",
      "metadata": {
        "id": "zyxqyFvKV0Wl"
      },
      "source": [
        "Guernsey county"
      ]
    },
    {
      "cell_type": "code",
      "metadata": {
        "colab": {
          "base_uri": "https://localhost:8080/"
        },
        "id": "B9cwFtq4Vz8M",
        "outputId": "c5fa5c92-9957-490e-f5ac-3a48dfe13f00"
      },
      "source": [
        "%cd \"/content/gdrive/My Drive/Colab Notebooks/census_privacy\"\n",
        "import pandas as pd\n",
        "from lib.uniques import *\n",
        "\n",
        "filename_hist1_g = 'data/guernsey/microdata/guernsey_hist.csv'\n",
        "hist1_g = pd.read_csv(filename_hist1_g)\n",
        "filename_hist2_g = 'data/guernsey/microdata/rho_1.60/guernsey_hist_dp_blk2.csv'\n",
        "hist2_g = pd.read_csv(filename_hist2_g)\n",
        "\n",
        "n2, n4 = 2, 63\n",
        "\n",
        "## QID 1: HHGQ ∗ VA ∗ HISP ∗ RACE  (2016 cells)\n",
        "hist1_detail_g = query_detail_ori(hist1_g)\n",
        "hist2_detail_g = query_detail_dp(hist2_g)\n",
        "\n",
        "## QID 2: VA * RACE (126 cells)\n",
        "hist1_va_race_g = query_race_va_ori(n2, n4, hist1_g)\n",
        "hist2_va_race_g = query_race_va_dp(n2, n4, hist2_g)\n",
        "\n",
        "## QID 3: Race (7 cells)\n",
        "hist1_race_g = query_race_ori(n4, hist1_g)\n",
        "hist2_race_g = query_race_dp(n4, hist2_g)"
      ],
      "execution_count": 25,
      "outputs": [
        {
          "output_type": "stream",
          "name": "stdout",
          "text": [
            "/content/gdrive/My Drive/Colab Notebooks/census_privacy\n"
          ]
        }
      ]
    },
    {
      "cell_type": "markdown",
      "metadata": {
        "id": "fpO_TqoLYDJ8"
      },
      "source": [
        "####**Impact of geographic scales**\n",
        "> Some simulations to demonstrate how geographic scales affect the probability of finding a true unique. Two aspects of spatial scales are examined here: resolution and extent.\n",
        "\n"
      ]
    },
    {
      "cell_type": "markdown",
      "metadata": {
        "id": "EeZcCSfqrMD7"
      },
      "source": [
        "#####**Impact of resolutions (aggregation levels)**\n",
        "> We test the probability of finding a true unique at block, block group, and tract levels. We make comparisons among (1) our results, (2) NHGIS data from the 2021-06-08 vintage of the PPMF, and (3) the OLS estimators.\n",
        "\n"
      ]
    },
    {
      "cell_type": "markdown",
      "metadata": {
        "id": "3XuguTyHvd0R"
      },
      "source": [
        "Group 1: Franklin County, my data"
      ]
    },
    {
      "cell_type": "code",
      "metadata": {
        "colab": {
          "base_uri": "https://localhost:8080/"
        },
        "id": "uELpCq3krNuk",
        "outputId": "9e55d897-d014-4e6b-851b-fa63d2cf8aed"
      },
      "source": [
        "%cd \"/content/gdrive/My Drive/Colab Notebooks/census_privacy\"\n",
        "from lib.uniques import *\n",
        "\n",
        "## QID 1: HHGQ ∗ VA ∗ HISP ∗ RACE  (2016 cells)\n",
        "tpr_detail_blk, tpr_detail_bg, tpr_detail_tr = tpr_res(hist1_detail, hist2_detail)\n",
        "\n",
        "## QID 2: VA * RACE (126 cells)\n",
        "tpr_va_race_blk, tpr_va_race_bg, tpr_va_race_tr = tpr_res(hist1_va_race, hist2_va_race) \n",
        "\n",
        "## QID 3: Race (7 cells)\n",
        "tpr_race_blk, tpr_race_bg, tpr_race_tr = tpr_res(hist1_race, hist2_race)\n",
        "\n",
        "print(tpr_detail_blk, tpr_detail_bg, tpr_detail_tr)\n",
        "print(tpr_va_race_blk, tpr_va_race_bg, tpr_va_race_tr)\n",
        "print(tpr_race_blk, tpr_race_bg, tpr_race_tr)"
      ],
      "execution_count": null,
      "outputs": [
        {
          "output_type": "stream",
          "name": "stdout",
          "text": [
            "/content/gdrive/My Drive/Colab Notebooks/census_privacy\n",
            "0.05789570214587027 0.12453531598513011 0.09016393442622951\n",
            "0.06246711268135007 0.14803625377643503 0.10452961672473868\n",
            "0.06568958245466049 0.13142857142857142 0.15384615384615385\n"
          ]
        }
      ]
    },
    {
      "cell_type": "markdown",
      "metadata": {
        "id": "EksTgJrpyq7z"
      },
      "source": [
        "Group 2: Franklin County, OLS\n",
        "\n",
        "> Let $A_i$ = {cell = $i$ before noise injection}, and the noise be $W\\sim N(0,\\sigma^2)$. A true unique (TU) is a cell = 1 before and after noise injection. The probability of finding a true unique can be defined using the Bayes' theorem:\n",
        "\n",
        "> $p(TU)=\\frac{p(W=0)p(A_1)}{\\sum_ip(W=1-i)p(A_i)}$\n",
        "\n",
        "\n",
        "> $p(TU)$ is large if (i) the histogram is dominantly \"unique\", (ii) non-unique cells have relatively large values, and/or (iii) the privacy budget is large."
      ]
    },
    {
      "cell_type": "code",
      "metadata": {
        "colab": {
          "base_uri": "https://localhost:8080/"
        },
        "id": "8dgv8YF-RiME",
        "outputId": "70e8d58f-3d1f-4622-9838-61016c74bd73"
      },
      "source": [
        "%cd \"/content/gdrive/My Drive/Colab Notebooks/census_privacy\"\n",
        "from lib.topdown_ols import *\n",
        "from lib.uniques import *\n",
        "import math\n",
        "\n",
        "eps = 17.14\n",
        "delta = 1e-10\n",
        "# rho = 1\n",
        "rho = cdp2adp.cdp_rho(eps, delta)\n",
        "\n",
        "## QID 1:  HHGQ ∗ VA ∗ HISP ∗ RACE  (2016 cells)\n",
        "W_detail = workload_mtx_detail()\n",
        "tpr_detail_ols_blk, tpr_detail_ols_bg, tpr_detail_ols_tr = tpr_res_ols(rho, hist1_detail, W_detail)\n",
        "\n",
        "## QID 2: VA * RACE (126 cells)\n",
        "W_va_race = workload_mtx_va_race()\n",
        "tpr_va_race_ols_blk, tpr_va_race_ols_bg, tpr_va_race_ols_tr = tpr_res_ols(rho, hist1_va_race, W_va_race)\n",
        "\n",
        "## QID 3: Race (7 cells)\n",
        "W_race = workload_mtx_race()\n",
        "tpr_race_ols_blk, tpr_race_ols_bg, tpr_race_ols_tr = tpr_res_ols(rho, hist1_race, W_race)\n",
        "\n",
        "print(tpr_detail_ols_blk, tpr_detail_ols_bg, tpr_detail_ols_tr)\n",
        "print(tpr_va_race_ols_blk, tpr_va_race_ols_bg, tpr_va_race_ols_tr)\n",
        "print(tpr_race_ols_blk, tpr_race_ols_bg, tpr_race_ols_tr)"
      ],
      "execution_count": null,
      "outputs": [
        {
          "output_type": "stream",
          "name": "stdout",
          "text": [
            "/content/gdrive/My Drive/Colab Notebooks/census_privacy\n",
            "(1, 2016) (63, 2016) (2, 2016) (2, 2016) (8, 2016) (126, 2016) (126, 2016) (4, 2016) (252, 2016) (2016, 2016) (2600, 2016)\n",
            "(1, 2016) (63, 2016) (2, 2016) (2, 2016) (8, 2016) (126, 2016) (126, 2016) (4, 2016) (252, 2016) (2016, 2016) (2600, 2016)\n",
            "(1, 2016) (63, 2016) (2, 2016) (2, 2016) (8, 2016) (126, 2016) (126, 2016) (4, 2016) (252, 2016) (2016, 2016) (2600, 2016)\n",
            "(1, 2016) (63, 2016) (2, 2016) (2, 2016) (8, 2016) (126, 2016) (126, 2016) (4, 2016) (252, 2016) (2016, 2016) (2600, 2016)\n",
            "(1, 2016) (63, 2016) (2, 2016) (2, 2016) (8, 2016) (126, 2016) (126, 2016) (4, 2016) (252, 2016) (2016, 2016) (2600, 2016)\n",
            "(1, 2016) (63, 2016) (2, 2016) (2, 2016) (8, 2016) (126, 2016) (126, 2016) (4, 2016) (252, 2016) (2016, 2016) (2600, 2016)\n",
            "(1, 2016) (63, 2016) (2, 2016) (2, 2016) (8, 2016) (126, 2016) (126, 2016) (4, 2016) (252, 2016) (2016, 2016) (2600, 2016)\n",
            "(1, 2016) (63, 2016) (2, 2016) (2, 2016) (8, 2016) (126, 2016) (126, 2016) (4, 2016) (252, 2016) (2016, 2016) (2600, 2016)\n",
            "(1, 2016) (63, 2016) (2, 2016) (2, 2016) (8, 2016) (126, 2016) (126, 2016) (4, 2016) (252, 2016) (2016, 2016) (2600, 2016)\n",
            "0.00037466461624375923 0.0021752480413006177 0.0030157726169422294\n",
            "0.004592426595641587 0.024107878076101534 0.033217814851044726\n",
            "0.04810039918421055 0.19986342407377952 0.2432720528950051\n"
          ]
        }
      ]
    },
    {
      "cell_type": "markdown",
      "metadata": {
        "id": "rrLZJdo9XIAS"
      },
      "source": [
        "Group 3: Guernsey County, my data"
      ]
    },
    {
      "cell_type": "code",
      "metadata": {
        "colab": {
          "base_uri": "https://localhost:8080/"
        },
        "id": "6sNISetOXIAT",
        "outputId": "446822be-da3e-40f6-c44f-88209320e7e1"
      },
      "source": [
        "%cd \"/content/gdrive/My Drive/Colab Notebooks/census_privacy\"\n",
        "from lib.uniques import *\n",
        "\n",
        "## QID 1: HHGQ ∗ VA ∗ HISP ∗ RACE  (2016 cells)\n",
        "tpr_detail_blk_g, tpr_detail_bg_g, tpr_detail_tr_g = tpr_res(hist1_detail_g, hist2_detail_g)\n",
        "\n",
        "## QID 2: VA * RACE (126 cells)\n",
        "tpr_va_race_blk_g, tpr_va_race_bg_g, tpr_va_race_tr_g = tpr_res(hist1_va_race_g, hist2_va_race_g) \n",
        "\n",
        "## QID 3: Race (7 cells)\n",
        "tpr_race_blk_g, tpr_race_bg_g, tpr_race_tr_g = tpr_res(hist1_race_g, hist2_race_g)\n",
        "\n",
        "print(tpr_detail_blk_g, tpr_detail_bg_g, tpr_detail_tr_g)\n",
        "print(tpr_va_race_blk_g, tpr_va_race_bg_g, tpr_va_race_tr_g)\n",
        "print(tpr_race_blk_g, tpr_race_bg_g, tpr_race_tr_g)"
      ],
      "execution_count": null,
      "outputs": [
        {
          "output_type": "stream",
          "name": "stdout",
          "text": [
            "/content/gdrive/My Drive/Colab Notebooks/census_privacy\n",
            "0.023809523809523808 0.10204081632653061 0.03125\n",
            "0.02617801047120419 0.13513513513513514 0.058823529411764705\n",
            "0.02158273381294964 0.2857142857142857 0\n"
          ]
        }
      ]
    },
    {
      "cell_type": "markdown",
      "metadata": {
        "id": "bsU7zgaZYIAf"
      },
      "source": [
        "Group 4: Guernsey County, OLS"
      ]
    },
    {
      "cell_type": "code",
      "metadata": {
        "colab": {
          "base_uri": "https://localhost:8080/"
        },
        "id": "75IihwMAYIAg",
        "outputId": "f2d94c52-a4e1-45d5-c205-889deae313b8"
      },
      "source": [
        "%cd \"/content/gdrive/My Drive/Colab Notebooks/census_privacy\"\n",
        "from lib.topdown_ols import *\n",
        "from lib.uniques import *\n",
        "import math\n",
        "\n",
        "eps = 17.14\n",
        "delta = 1e-10\n",
        "# rho = 1\n",
        "rho = cdp2adp.cdp_rho(eps, delta)\n",
        "\n",
        "## QID 1: HHGQ ∗ VA ∗ HISP ∗ RACE  (2016 cells)\n",
        "W_detail = workload_mtx_detail()\n",
        "tpr_detail_ols_blk_g, tpr_detail_ols_bg_g, tpr_detail_ols_tr_g = tpr_res_ols(rho, hist1_detail_g, W_detail)\n",
        "\n",
        "## QID 2: VA * RACE (126 cells)\n",
        "W_va_race = workload_mtx_va_race()\n",
        "tpr_va_race_ols_blk_g, tpr_va_race_ols_bg_g, tpr_va_race_ols_tr_g = tpr_res_ols(rho, hist1_va_race_g, W_va_race)\n",
        "\n",
        "## QID 3: Race (7 cells)\n",
        "W_race = workload_mtx_race()\n",
        "tpr_race_ols_blk_g, tpr_race_ols_bg_g, tpr_race_ols_tr_g = tpr_res_ols(rho, hist1_race_g, W_race)\n",
        "\n",
        "print(tpr_detail_ols_blk_g, tpr_detail_ols_bg_g, tpr_detail_ols_tr_g)\n",
        "print(tpr_va_race_ols_blk_g, tpr_va_race_ols_bg_g, tpr_va_race_ols_tr_g)\n",
        "print(tpr_race_ols_blk_g, tpr_race_ols_bg_g, tpr_race_ols_tr_g)"
      ],
      "execution_count": null,
      "outputs": [
        {
          "output_type": "stream",
          "name": "stdout",
          "text": [
            "/content/gdrive/My Drive/Colab Notebooks/census_privacy\n",
            "(1, 2016) (63, 2016) (2, 2016) (2, 2016) (8, 2016) (126, 2016) (126, 2016) (4, 2016) (252, 2016) (2016, 2016) (2600, 2016)\n",
            "(1, 2016) (63, 2016) (2, 2016) (2, 2016) (8, 2016) (126, 2016) (126, 2016) (4, 2016) (252, 2016) (2016, 2016) (2600, 2016)\n",
            "(1, 2016) (63, 2016) (2, 2016) (2, 2016) (8, 2016) (126, 2016) (126, 2016) (4, 2016) (252, 2016) (2016, 2016) (2600, 2016)\n",
            "(1, 2016) (63, 2016) (2, 2016) (2, 2016) (8, 2016) (126, 2016) (126, 2016) (4, 2016) (252, 2016) (2016, 2016) (2600, 2016)\n",
            "(1, 2016) (63, 2016) (2, 2016) (2, 2016) (8, 2016) (126, 2016) (126, 2016) (4, 2016) (252, 2016) (2016, 2016) (2600, 2016)\n",
            "(1, 2016) (63, 2016) (2, 2016) (2, 2016) (8, 2016) (126, 2016) (126, 2016) (4, 2016) (252, 2016) (2016, 2016) (2600, 2016)\n",
            "(1, 2016) (63, 2016) (2, 2016) (2, 2016) (8, 2016) (126, 2016) (126, 2016) (4, 2016) (252, 2016) (2016, 2016) (2600, 2016)\n",
            "(1, 2016) (63, 2016) (2, 2016) (2, 2016) (8, 2016) (126, 2016) (126, 2016) (4, 2016) (252, 2016) (2016, 2016) (2600, 2016)\n",
            "(1, 2016) (63, 2016) (2, 2016) (2, 2016) (8, 2016) (126, 2016) (126, 2016) (4, 2016) (252, 2016) (2016, 2016) (2600, 2016)\n",
            "0.00011842576149352261 0.0021638846146137427 0.003261535187321956\n",
            "0.0016226260491167992 0.026430142165441265 0.03739547700040818\n",
            "0.01568221578235666 0.23142010016685494 0.2709674729516857\n"
          ]
        }
      ]
    },
    {
      "cell_type": "code",
      "metadata": {
        "colab": {
          "base_uri": "https://localhost:8080/",
          "height": 452
        },
        "id": "BTY9Ee4I0ZEf",
        "outputId": "daae1948-769b-4a5c-e02d-e123e0d4448f"
      },
      "source": [
        "import matplotlib.pyplot as plt\n",
        "import matplotlib.style as style\n",
        "\n",
        "# style.use('seaborn-white')\n",
        "\n",
        "labels = ['Block', 'Block Group', 'Tract']\n",
        "x = np.arange(len(labels))  # the label locations\n",
        "width = 0.3 # the width of the bars\n",
        "fig, ax = plt.subplots(nrows=1, ncols=2, sharex=True, sharey=True)\n",
        "\n",
        "## franklin\n",
        "## Constraint\n",
        "tpr_1 = [tpr_detail_blk, tpr_detail_bg, tpr_detail_tr]\n",
        "tpr_2 = [tpr_va_race_blk, tpr_va_race_bg, tpr_va_race_tr]\n",
        "tpr_3 = [tpr_race_blk, tpr_race_bg, tpr_race_tr]\n",
        "\n",
        "rects1 = ax[0].bar(x - width, tpr_1, width, label='HHGQ ∗ VA ∗ HISP ∗ RACE, Constraint', color='white', edgecolor='black')\n",
        "rects2 = ax[0].bar(x, tpr_2, width, label='VA ∗ RACE, Constraint', color='white', edgecolor='black', hatch=\"x\")\n",
        "rects3 = ax[0].bar(x + width, tpr_3, width, label='RACE*, Constraint', color='white', edgecolor='black', hatch=\".\")\n",
        "ax[0].set_title('Franklin')\n",
        "ax[0].set_ylabel('TPR')\n",
        "ax[0].set_xticks(x)\n",
        "ax[0].set_xticklabels(labels)\n",
        "\n",
        "## Unconstraint\n",
        "tpr_1 = [tpr_detail_ols_blk, tpr_detail_ols_bg, tpr_detail_ols_tr]\n",
        "tpr_2 = [tpr_va_race_ols_blk, tpr_va_race_ols_bg, tpr_va_race_ols_tr]\n",
        "tpr_3 = [tpr_race_ols_blk, tpr_race_ols_bg, tpr_race_ols_tr]\n",
        "ax[0].scatter(x - width, tpr_1, marker='^', zorder=2, label='HHGQ ∗ VA ∗ HISP ∗ RACE, Unconstraint')\n",
        "ax[0].scatter(x, tpr_2, marker='o', zorder=2, label='VA ∗ RACE, Unconstraint')\n",
        "ax[0].scatter(x + width, tpr_3, marker='X', zorder=2, label='RACE*, Unconstraint')\n",
        "\n",
        "\n",
        "## guernsey\n",
        "## Constraint\n",
        "tpr_1 = [tpr_detail_blk_g, tpr_detail_bg_g, tpr_detail_tr_g]\n",
        "tpr_2 = [tpr_va_race_blk_g, tpr_va_race_bg_g, tpr_va_race_tr_g]\n",
        "tpr_3 = [tpr_race_blk_g, tpr_race_bg_g, tpr_race_tr_g]\n",
        "\n",
        "rects1 = ax[1].bar(x - width, tpr_1, width, label='HHGQ ∗ VA ∗ HISP ∗ RACE, Constraint', color='white', edgecolor='black')\n",
        "rects2 = ax[1].bar(x, tpr_2, width, label='VA ∗ RACE, Constraint', color='white', edgecolor='black', hatch=\"x\")\n",
        "rects3 = ax[1].bar(x + width, tpr_3, width, label='RACE*, Constraint', color='white', edgecolor='black', hatch=\".\")\n",
        "ax[1].set_title('Guernsey')\n",
        "ax[1].set_ylabel('TPR')\n",
        "ax[1].set_xticks(x)\n",
        "ax[1].set_xticklabels(labels)\n",
        "\n",
        "## Unconstraint\n",
        "tpr_1 = [tpr_detail_ols_blk_g, tpr_detail_ols_bg_g, tpr_detail_ols_tr_g]\n",
        "tpr_2 = [tpr_va_race_ols_blk_g, tpr_va_race_ols_bg_g, tpr_va_race_ols_tr_g]\n",
        "tpr_3 = [tpr_race_ols_blk_g, tpr_race_ols_bg_g, tpr_race_ols_tr_g]\n",
        "ax[1].scatter(x - width, tpr_1, marker='^', zorder=2, label='HHGQ ∗ VA ∗ HISP ∗ RACE, Unconstraint')\n",
        "ax[1].scatter(x, tpr_2, marker='o', zorder=2, label='VA ∗ RACE, Unconstraint')\n",
        "ax[1].scatter(x + width, tpr_3, marker='X', zorder=2, label='RACE*, Unconstraint')\n",
        "\n",
        "lines, labels = fig.axes[0].get_legend_handles_labels()\n",
        "fig.legend(lines, labels, loc=5, bbox_to_anchor=(1.5, 0.5))\n",
        "# fig.set_figwidth(12)\n",
        "plt.show()\n",
        "plt.close()"
      ],
      "execution_count": null,
      "outputs": [
        {
          "output_type": "display_data",
          "data": {
            "image/png": "[encoded data removed]",
            "text/plain": [
              "<Figure size 640x480 with 2 Axes>"
            ]
          },
          "metadata": {}
        }
      ]
    },
    {
      "cell_type": "markdown",
      "metadata": {
        "id": "7bnX9BpAvnPQ"
      },
      "source": [
        "Group 5*: Franklin County, NHGIS data (2021-06-08)"
      ]
    },
    {
      "cell_type": "code",
      "metadata": {
        "colab": {
          "base_uri": "https://localhost:8080/"
        },
        "id": "GWO22mF4vrB8",
        "outputId": "7d87e2fc-da75-4a4d-c7bd-aeb0600d4ab6"
      },
      "source": [
        "%cd \"/content/gdrive/My Drive/Colab Notebooks/census_privacy\"\n",
        "import pandas as pd\n",
        "\n",
        "## block\n",
        "filename_nhgis = 'data/nhgis/nhgis_ppdd_20210608_block_OH.csv'\n",
        "data_nhgis = pd.read_csv(filename_nhgis, encoding = \"ISO-8859-1\")\n",
        "data_nhgis[\"STATE\"] = data_nhgis[\"gisjoin\"].str.slice(1, 3)\n",
        "data_nhgis['COUNTY'] = data_nhgis[\"gisjoin\"].str.slice(4, 7)\n",
        "data_nhgis = data_nhgis[(data_nhgis[\"STATE\"] == '39') & (data_nhgis[\"COUNTY\"] == '049')]\n",
        "hist1_nhgis_blk = data_nhgis[['H72003_sf', 'H72004_sf', 'H72005_sf', 'H72006_sf', 'H72007_sf', 'H72008_sf', 'H72009_sf']]\n",
        "hist1_nhgis_blk = hist1_nhgis_blk.rename(columns={'H72003_sf': '1', 'H72004_sf': '2', 'H72005_sf': '3', 'H72006_sf': '4', \n",
        "                                                  'H72007_sf': '5', 'H72008_sf': '6', 'H72009_sf': '7'})\n",
        "hist2_nhgis_blk = data_nhgis[['H72003_dp', 'H72004_dp', 'H72005_dp', 'H72006_dp', 'H72007_dp', 'H72008_dp', 'H72009_dp']]\n",
        "hist2_nhgis_blk = hist2_nhgis_blk.rename(columns={'H72003_dp': '1', 'H72004_dp': '2', 'H72005_dp': '3', 'H72006_dp': '4', \n",
        "                                                  'H72007_dp': '5', 'H72008_dp': '6', 'H72009_dp': '7'})\n",
        "\n",
        "tu = (hist1_nhgis_blk == hist2_nhgis_blk) & (hist1_nhgis_blk == 1) & (hist2_nhgis_blk == 1) # find a true unique\n",
        "n_tu = np.unique(tu.values, return_counts=True)[1][1]\n",
        "u = hist2_nhgis_blk == 1    # uniques after noise injection\n",
        "n_u = np.unique(u.values, return_counts=True)[1][1]\n",
        "tpr_race_nhgis_blk = n_tu / n_u # frequency of finding the true uniques\n",
        "\n",
        "## block group\n",
        "filename_nhgis = 'data/nhgis/nhgis_ppdd_20210608_blck_grp.csv'\n",
        "data_nhgis = pd.read_csv(filename_nhgis, encoding = \"ISO-8859-1\")\n",
        "data_nhgis[\"STATE\"] = data_nhgis[\"gisjoin\"].str.slice(1, 3)\n",
        "data_nhgis['COUNTY'] = data_nhgis[\"gisjoin\"].str.slice(4, 7)\n",
        "data_nhgis = data_nhgis[(data_nhgis[\"STATE\"] == '39') & (data_nhgis[\"COUNTY\"] == '049')]\n",
        "hist1_nhgis_bg = data_nhgis[['H72003_sf', 'H72004_sf', 'H72005_sf', 'H72006_sf', 'H72007_sf', 'H72008_sf', 'H72009_sf']]\n",
        "hist1_nhgis_bg = hist1_nhgis_bg.rename(columns={'H72003_sf': '1', 'H72004_sf': '2', 'H72005_sf': '3', 'H72006_sf': '4', \n",
        "                                                  'H72007_sf': '5', 'H72008_sf': '6', 'H72009_sf': '7'})\n",
        "hist2_nhgis_bg = data_nhgis[['H72003_dp', 'H72004_dp', 'H72005_dp', 'H72006_dp', 'H72007_dp', 'H72008_dp', 'H72009_dp']]\n",
        "hist2_nhgis_bg = hist2_nhgis_bg.rename(columns={'H72003_dp': '1', 'H72004_dp': '2', 'H72005_dp': '3', 'H72006_dp': '4', \n",
        "                                                  'H72007_dp': '5', 'H72008_dp': '6', 'H72009_dp': '7'})\n",
        "\n",
        "tu = (hist1_nhgis_bg == hist2_nhgis_bg) & (hist1_nhgis_bg == 1) & (hist2_nhgis_bg == 1) # find a true unique\n",
        "n_tu = np.unique(tu.values, return_counts=True)[1][1]\n",
        "u = hist2_nhgis_bg == 1    # uniques after noise injection\n",
        "n_u = np.unique(u.values, return_counts=True)[1][1]\n",
        "tpr_race_nhgis_bg = n_tu / n_u # frequency of finding the true uniques\n",
        "\n",
        "## tract\n",
        "filename_nhgis = 'data/nhgis/nhgis_ppdd_20210608_tract.csv'\n",
        "data_nhgis = pd.read_csv(filename_nhgis, encoding = \"ISO-8859-1\")\n",
        "data_nhgis[\"STATE\"] = data_nhgis[\"gisjoin\"].str.slice(1, 3)\n",
        "data_nhgis['COUNTY'] = data_nhgis[\"gisjoin\"].str.slice(4, 7)\n",
        "data_nhgis = data_nhgis[(data_nhgis[\"STATE\"] == '39') & (data_nhgis[\"COUNTY\"] == '049')]\n",
        "hist1_nhgis_tr = data_nhgis[['H72003_sf', 'H72004_sf', 'H72005_sf', 'H72006_sf', 'H72007_sf', 'H72008_sf', 'H72009_sf']]\n",
        "hist1_nhgis_tr = hist1_nhgis_tr.rename(columns={'H72003_sf': '1', 'H72004_sf': '2', 'H72005_sf': '3', 'H72006_sf': '4', \n",
        "                                                  'H72007_sf': '5', 'H72008_sf': '6', 'H72009_sf': '7'})\n",
        "hist2_nhgis_tr = data_nhgis[['H72003_dp', 'H72004_dp', 'H72005_dp', 'H72006_dp', 'H72007_dp', 'H72008_dp', 'H72009_dp']]\n",
        "hist2_nhgis_tr = hist2_nhgis_tr.rename(columns={'H72003_dp': '1', 'H72004_dp': '2', 'H72005_dp': '3', 'H72006_dp': '4', \n",
        "                                                  'H72007_dp': '5', 'H72008_dp': '6', 'H72009_dp': '7'})\n",
        "\n",
        "tu = (hist1_nhgis_tr == hist2_nhgis_tr) & (hist1_nhgis_tr == 1) & (hist2_nhgis_tr == 1) # find a true unique\n",
        "n_tu = np.unique(tu.values, return_counts=True)[1][1]\n",
        "u = hist2_nhgis_tr == 1    # uniques after noise injection\n",
        "n_u = np.unique(u.values, return_counts=True)[1][1]\n",
        "tpr_race_nhgis_tr = n_tu / n_u # frequency of finding the true uniques\n",
        "\n",
        "print(tpr_race_nhgis_blk, tpr_race_nhgis_bg, tpr_race_nhgis_tr)"
      ],
      "execution_count": null,
      "outputs": [
        {
          "output_type": "stream",
          "name": "stdout",
          "text": [
            "/content/gdrive/My Drive/Colab Notebooks/census_privacy\n",
            "0.115491452991453 0.2316715542521994 0.18181818181818182\n"
          ]
        }
      ]
    },
    {
      "cell_type": "markdown",
      "metadata": {
        "id": "c-Nl-i2lXcbO"
      },
      "source": [
        "Group 6*: Guernsey County, NHGIS data (2021-06-08)"
      ]
    },
    {
      "cell_type": "code",
      "metadata": {
        "colab": {
          "base_uri": "https://localhost:8080/"
        },
        "id": "G1LbNWpkXcbP",
        "outputId": "1e70ebff-4f66-4130-c571-7ad4bda58da4"
      },
      "source": [
        "%cd \"/content/gdrive/My Drive/Colab Notebooks/census_privacy\"\n",
        "import pandas as pd\n",
        "\n",
        "## block\n",
        "filename_nhgis = 'data/nhgis/nhgis_ppdd_20210608_block_OH.csv'\n",
        "data_nhgis = pd.read_csv(filename_nhgis, encoding = \"ISO-8859-1\")\n",
        "data_nhgis[\"STATE\"] = data_nhgis[\"gisjoin\"].str.slice(1, 3)\n",
        "data_nhgis['COUNTY'] = data_nhgis[\"gisjoin\"].str.slice(4, 7)\n",
        "data_nhgis = data_nhgis[(data_nhgis[\"STATE\"] == '39') & (data_nhgis[\"COUNTY\"] == '059')]\n",
        "hist1_nhgis_blk = data_nhgis[['H72003_sf', 'H72004_sf', 'H72005_sf', 'H72006_sf', 'H72007_sf', 'H72008_sf', 'H72009_sf']]\n",
        "hist1_nhgis_blk = hist1_nhgis_blk.rename(columns={'H72003_sf': '1', 'H72004_sf': '2', 'H72005_sf': '3', 'H72006_sf': '4', \n",
        "                                                  'H72007_sf': '5', 'H72008_sf': '6', 'H72009_sf': '7'})\n",
        "hist2_nhgis_blk = data_nhgis[['H72003_dp', 'H72004_dp', 'H72005_dp', 'H72006_dp', 'H72007_dp', 'H72008_dp', 'H72009_dp']]\n",
        "hist2_nhgis_blk = hist2_nhgis_blk.rename(columns={'H72003_dp': '1', 'H72004_dp': '2', 'H72005_dp': '3', 'H72006_dp': '4', \n",
        "                                                  'H72007_dp': '5', 'H72008_dp': '6', 'H72009_dp': '7'})\n",
        "\n",
        "tu = (hist1_nhgis_blk == hist2_nhgis_blk) & (hist1_nhgis_blk == 1) & (hist2_nhgis_blk == 1) # find a true unique\n",
        "n_tu = np.unique(tu.values, return_counts=True)[1][1]\n",
        "u = hist2_nhgis_blk == 1    # uniques after noise injection\n",
        "n_u = np.unique(u.values, return_counts=True)[1][1]\n",
        "tpr_race_nhgis_blk_g = n_tu / n_u # frequency of finding the true uniques\n",
        "\n",
        "## block group\n",
        "filename_nhgis = 'data/nhgis/nhgis_ppdd_20210608_blck_grp.csv'\n",
        "data_nhgis = pd.read_csv(filename_nhgis, encoding = \"ISO-8859-1\")\n",
        "data_nhgis[\"STATE\"] = data_nhgis[\"gisjoin\"].str.slice(1, 3)\n",
        "data_nhgis['COUNTY'] = data_nhgis[\"gisjoin\"].str.slice(4, 7)\n",
        "data_nhgis = data_nhgis[(data_nhgis[\"STATE\"] == '39') & (data_nhgis[\"COUNTY\"] == '059')]\n",
        "hist1_nhgis_bg = data_nhgis[['H72003_sf', 'H72004_sf', 'H72005_sf', 'H72006_sf', 'H72007_sf', 'H72008_sf', 'H72009_sf']]\n",
        "hist1_nhgis_bg = hist1_nhgis_bg.rename(columns={'H72003_sf': '1', 'H72004_sf': '2', 'H72005_sf': '3', 'H72006_sf': '4', \n",
        "                                                  'H72007_sf': '5', 'H72008_sf': '6', 'H72009_sf': '7'})\n",
        "hist2_nhgis_bg = data_nhgis[['H72003_dp', 'H72004_dp', 'H72005_dp', 'H72006_dp', 'H72007_dp', 'H72008_dp', 'H72009_dp']]\n",
        "hist2_nhgis_bg = hist2_nhgis_bg.rename(columns={'H72003_dp': '1', 'H72004_dp': '2', 'H72005_dp': '3', 'H72006_dp': '4', \n",
        "                                                  'H72007_dp': '5', 'H72008_dp': '6', 'H72009_dp': '7'})\n",
        "\n",
        "tu = (hist1_nhgis_bg == hist2_nhgis_bg) & (hist1_nhgis_bg == 1) & (hist2_nhgis_bg == 1) # find a true unique\n",
        "n_tu = np.unique(tu.values, return_counts=True)[1][1]\n",
        "u = hist2_nhgis_bg == 1    # uniques after noise injection\n",
        "n_u = np.unique(u.values, return_counts=True)[1][1]\n",
        "tpr_race_nhgis_bg_g = n_tu / n_u # frequency of finding the true uniques\n",
        "\n",
        "## tract\n",
        "filename_nhgis = 'data/nhgis/nhgis_ppdd_20210608_tract.csv'\n",
        "data_nhgis = pd.read_csv(filename_nhgis, encoding = \"ISO-8859-1\")\n",
        "data_nhgis[\"STATE\"] = data_nhgis[\"gisjoin\"].str.slice(1, 3)\n",
        "data_nhgis['COUNTY'] = data_nhgis[\"gisjoin\"].str.slice(4, 7)\n",
        "data_nhgis = data_nhgis[(data_nhgis[\"STATE\"] == '39') & (data_nhgis[\"COUNTY\"] == '059')]\n",
        "hist1_nhgis_tr = data_nhgis[['H72003_sf', 'H72004_sf', 'H72005_sf', 'H72006_sf', 'H72007_sf', 'H72008_sf', 'H72009_sf']]\n",
        "hist1_nhgis_tr = hist1_nhgis_tr.rename(columns={'H72003_sf': '1', 'H72004_sf': '2', 'H72005_sf': '3', 'H72006_sf': '4', \n",
        "                                                  'H72007_sf': '5', 'H72008_sf': '6', 'H72009_sf': '7'})\n",
        "hist2_nhgis_tr = data_nhgis[['H72003_dp', 'H72004_dp', 'H72005_dp', 'H72006_dp', 'H72007_dp', 'H72008_dp', 'H72009_dp']]\n",
        "hist2_nhgis_tr = hist2_nhgis_tr.rename(columns={'H72003_dp': '1', 'H72004_dp': '2', 'H72005_dp': '3', 'H72006_dp': '4', \n",
        "                                                  'H72007_dp': '5', 'H72008_dp': '6', 'H72009_dp': '7'})\n",
        "\n",
        "tu = (hist1_nhgis_tr == hist2_nhgis_tr) & (hist1_nhgis_tr == 1) & (hist2_nhgis_tr == 1) # find a true unique\n",
        "n_tu = np.unique(tu.values, return_counts=True)[1][1]\n",
        "u = hist2_nhgis_tr == 1    # uniques after noise injection\n",
        "n_u = np.unique(u.values, return_counts=True)[1][1]\n",
        "tpr_race_nhgis_tr_g = n_tu / n_u # frequency of finding the true uniques\n",
        "\n",
        "print(tpr_race_nhgis_blk_g, tpr_race_nhgis_bg_g, tpr_race_nhgis_tr_g)"
      ],
      "execution_count": null,
      "outputs": [
        {
          "output_type": "stream",
          "name": "stdout",
          "text": [
            "/content/gdrive/My Drive/Colab Notebooks/census_privacy\n",
            "0.05701078582434515 0.3448275862068966 0.5\n"
          ]
        }
      ]
    },
    {
      "cell_type": "markdown",
      "metadata": {
        "id": "ieirVzBe9WW5"
      },
      "source": [
        "#####**Impact of extents**"
      ]
    },
    {
      "cell_type": "markdown",
      "metadata": {
        "id": "Vh_1LBqdTyTB"
      },
      "source": [
        "Read block and tract data"
      ]
    },
    {
      "cell_type": "code",
      "metadata": {
        "id": "KB49RS8R9ZLQ"
      },
      "source": [
        "!pip install geopandas\n",
        "!pip install pysal"
      ],
      "execution_count": null,
      "outputs": []
    },
    {
      "cell_type": "markdown",
      "metadata": {
        "id": "C2BG_IVUdXnl"
      },
      "source": [
        "Franklin county"
      ]
    },
    {
      "cell_type": "code",
      "metadata": {
        "id": "DDWaNiW69kcK",
        "colab": {
          "base_uri": "https://localhost:8080/"
        },
        "outputId": "afd57eed-d75c-4b75-eae3-e510949b396b"
      },
      "source": [
        "%cd \"/content/gdrive/My Drive/Colab Notebooks/census_privacy\"\n",
        "import geopandas as gpd\n",
        "\n",
        "filename_block = 'data/franklin/buildings/franklin_block10.json'\n",
        "data_block = gpd.read_file(filename_block)\n",
        "data_block['GEOID10'] = data_block['GEOID10'].astype(str)\n",
        "data_block['BGID10'] = data_block['GEOID10'].str[:12]\n",
        "data_block['TRACTID10'] = data_block['GEOID10'].str[:11]\n",
        "\n",
        "filename_tract = 'data/franklin/buildings/franklin_tract10.json'\n",
        "data_tract = gpd.read_file(filename_tract)\n",
        "data_tract['GEOID10'] = data_tract['GEOID10'].astype(str)\n",
        "data_block.columns, data_tract.columns"
      ],
      "execution_count": 62,
      "outputs": [
        {
          "output_type": "stream",
          "name": "stdout",
          "text": [
            "/content/gdrive/My Drive/Colab Notebooks/census_privacy\n"
          ]
        },
        {
          "output_type": "execute_result",
          "data": {
            "text/plain": [
              "(Index(['OBJECTID_1', 'STATEFP10', 'COUNTYFP10', 'TRACTCE10', 'BLOCKCE10',\n",
              "        'GEOID10', 'NAME10', 'MTFCC10', 'UR10', 'UACE10', 'UATYPE',\n",
              "        'FUNCSTAT10', 'ALAND10', 'AWATER10', 'INTPTLAT10', 'INTPTLON10', 'PUMA',\n",
              "        'Shape_Length', 'Shape_Area', 'BGID10', 'TRACTID10', 'geometry'],\n",
              "       dtype='object'),\n",
              " Index(['OBJECTID', 'STATEFP10', 'COUNTYFP10', 'TRACTCE10', 'GEOID10', 'NAME10',\n",
              "        'NAMELSAD10', 'MTFCC10', 'FUNCSTAT10', 'ALAND10', 'AWATER10',\n",
              "        'INTPTLAT10', 'INTPTLON10', 'Shape_Length', 'Shape_Area', 'geometry'],\n",
              "       dtype='object'))"
            ]
          },
          "metadata": {},
          "execution_count": 62
        }
      ]
    },
    {
      "cell_type": "markdown",
      "metadata": {
        "id": "pZYlBFkNdbi3"
      },
      "source": [
        "Guernsey county"
      ]
    },
    {
      "cell_type": "code",
      "metadata": {
        "colab": {
          "base_uri": "https://localhost:8080/"
        },
        "id": "SFWCVT3Bdbi3",
        "outputId": "c071c5cc-54c8-4ae2-8a29-e6c4385feacf"
      },
      "source": [
        "%cd \"/content/gdrive/My Drive/Colab Notebooks/census_privacy\"\n",
        "import geopandas as gpd\n",
        "\n",
        "filename_block_g = 'data/guernsey/buildings/guernsey_block10.json'\n",
        "data_block_g = gpd.read_file(filename_block_g)\n",
        "data_block_g['GEOID10'] = data_block_g['GEOID10'].astype(str)\n",
        "data_block_g['BGID10'] = data_block_g['GEOID10'].str[:12]\n",
        "data_block_g['TRACTID10'] = data_block_g['GEOID10'].str[:11]\n",
        "\n",
        "filename_tract_g = 'data/guernsey/buildings/guernsey_tract10.json'\n",
        "data_tract_g = gpd.read_file(filename_tract_g)\n",
        "data_tract_g['GEOID10'] = data_tract_g['GEOID10'].astype(str)\n",
        "data_block_g.columns, data_tract_g.columns"
      ],
      "execution_count": 59,
      "outputs": [
        {
          "output_type": "stream",
          "name": "stdout",
          "text": [
            "/content/gdrive/My Drive/Colab Notebooks/census_privacy\n"
          ]
        },
        {
          "output_type": "execute_result",
          "data": {
            "text/plain": [
              "(Index(['FID', 'STATEFP10', 'COUNTYFP10', 'TRACTCE10', 'BLOCKCE10', 'GEOID10',\n",
              "        'NAME10', 'MTFCC10', 'UR10', 'UACE10', 'FUNCSTAT10', 'ALAND10',\n",
              "        'AWATER10', 'INTPTLAT10', 'INTPTLON10', 'geometry', 'BGID10',\n",
              "        'TRACTID10'],\n",
              "       dtype='object'),\n",
              " Index(['FID', 'STATEFP10', 'COUNTYFP10', 'TRACTCE10', 'GEOID10', 'NAME10',\n",
              "        'NAMELSAD10', 'MTFCC10', 'FUNCSTAT10', 'ALAND10', 'AWATER10',\n",
              "        'INTPTLAT10', 'INTPTLON10', 'geometry'],\n",
              "       dtype='object'))"
            ]
          },
          "metadata": {},
          "execution_count": 59
        }
      ]
    },
    {
      "cell_type": "markdown",
      "metadata": {
        "id": "sh30xKiNT-RW"
      },
      "source": [
        "######**Continuous neighbors**\n",
        "\n",
        "> Find blocks in the most populated tract (largest population density), and keep searching the neighbors based on Rook continuity until all blocks in the county are covered.\n",
        "\n"
      ]
    },
    {
      "cell_type": "markdown",
      "metadata": {
        "id": "x5lYLDQ_dC4a"
      },
      "source": [
        "**Franklin county**"
      ]
    },
    {
      "cell_type": "code",
      "metadata": {
        "colab": {
          "base_uri": "https://localhost:8080/"
        },
        "id": "Lvx3s3dWT-SE",
        "outputId": "7af6fe1b-fc18-4f67-9b62-b0ef5db07f39"
      },
      "source": [
        "col_names = hist1_race.columns.to_numpy()\n",
        "hist1_tr = hist1_race.groupby(hist1_race.index.astype(str).str[:11]).sum()\n",
        "hist1_tr.index.name = 'TRACT'\n",
        "total = hist1_tr.sum(axis=1).to_frame()\n",
        "total[\"GEOID10\"] = total.index.map(str)\n",
        "total = total.rename(columns={total.columns[0]: \"POP\"})\n",
        "total.index.name = None\n",
        "data_tract_new = data_tract.merge(total[['GEOID10', 'POP']], how='left', on=['GEOID10'])\n",
        "\n",
        "data_tract_new[\"POP_DEN\"] = data_tract_new[\"POP\"] / data_tract_new[\"ALAND10\"]\n",
        "max_index = data_tract_new[\"POP_DEN\"].idxmax()\n",
        "max_id = data_tract_new.loc[max_index].at['GEOID10']\n",
        "max_index, max_id"
      ],
      "execution_count": 58,
      "outputs": [
        {
          "output_type": "execute_result",
          "data": {
            "text/plain": [
              "(232, '39049001810')"
            ]
          },
          "metadata": {},
          "execution_count": 58
        }
      ]
    },
    {
      "cell_type": "markdown",
      "metadata": {
        "id": "45HCeHqlWo05"
      },
      "source": [
        "Group 1: Franklin County, my data"
      ]
    },
    {
      "cell_type": "code",
      "metadata": {
        "colab": {
          "base_uri": "https://localhost:8080/"
        },
        "id": "VNuCPlRqT-SH",
        "outputId": "2751f2b4-d362-4c38-d7ca-58056f019951"
      },
      "source": [
        "import geopandas as gpd\n",
        "from pysal.lib import weights\n",
        "import scipy.stats\n",
        "\n",
        "# k-nearest neighbors for all tracts\n",
        "k10 = weights.Rook.from_dataframe(data_tract)\n",
        "\n",
        "tract_index = [max_index]\n",
        "tpr_detail, tpr_va_race, tpr_race = [], [], []\n",
        "flag = 0\n",
        "while flag < 1:\n",
        "    if len(tract_index) == len(data_tract):\n",
        "        flag = 1\n",
        "    tract_ids = data_tract[\"GEOID10\"].iloc[tract_index]\n",
        "\n",
        "    ## QID 1: HHGQ ∗ VA ∗ HISP ∗ RACE (2016 cells)\n",
        "    hist1_sub = hist1_detail[hist1_detail.index.astype(str).str[:11].isin(tract_ids)].sort_index()\n",
        "    hist2_sub = hist2_detail[hist2_detail.index.astype(str).str[:11].isin(tract_ids)].sort_index()\n",
        "    # calculate p(TU)\n",
        "    tu = (hist1_sub == hist2_sub) & (hist1_sub == 1) & (hist2_sub == 1) # find a true unique\n",
        "    n_tu = np.unique(tu.values, return_counts=True)[1][1]\n",
        "    u = hist2_sub == 1  # uniques after noise injection\n",
        "    n_u = np.unique(u.values, return_counts=True)[1][1]\n",
        "    tpr_all = n_tu / n_u   # frequency of finding the true uniques\n",
        "    tpr_detail.append(tpr_all)\n",
        "\n",
        "    ## QID 2: VA * RACE (126 cells)\n",
        "    hist1_sub = hist1_va_race[hist1_va_race.index.astype(str).str[:11].isin(tract_ids)].sort_index()\n",
        "    hist2_sub = hist2_va_race[hist2_va_race.index.astype(str).str[:11].isin(tract_ids)].sort_index()\n",
        "    # calculate p(TU)\n",
        "    tu = (hist1_sub == hist2_sub) & (hist1_sub == 1) & (hist2_sub == 1) # find a true unique\n",
        "    n_tu = np.unique(tu.values, return_counts=True)[1][1]\n",
        "    u = hist2_sub == 1  # uniques after noise injection\n",
        "    n_u = np.unique(u.values, return_counts=True)[1][1]\n",
        "    tpr_all = n_tu / n_u   # frequency of finding the true uniques\n",
        "    tpr_va_race.append(tpr_all)\n",
        "\n",
        "    ## QID 3: Race* (7 cells)\n",
        "    hist1_sub = hist1_race[hist1_race.index.astype(str).str[:11].isin(tract_ids)].sort_index()\n",
        "    hist2_sub = hist2_race[hist2_race.index.astype(str).str[:11].isin(tract_ids)].sort_index()\n",
        "    # calculate p(TU)\n",
        "    tu = (hist1_sub == hist2_sub) & (hist1_sub == 1) & (hist2_sub == 1) # find a true unique\n",
        "    n_tu = np.unique(tu.values, return_counts=True)[1][1]\n",
        "    u = hist2_sub == 1  # uniques after noise injection\n",
        "    n_u = np.unique(u.values, return_counts=True)[1][1]\n",
        "    tpr_all = n_tu / n_u   # frequency of finding the true uniques\n",
        "    tpr_race.append(tpr_all)\n",
        "\n",
        "    # add neighbors \n",
        "    nb_index = [k10.neighbors.get(tract) for tract in tract_index]\n",
        "    nb_index = [x for sublist in nb_index for x in sublist]\n",
        "    tract_index = list(set(np.append(tract_index, nb_index)))\n",
        "    # print(len(tract_index))\n",
        "tpr_detail, tpr_va_race, tpr_race"
      ],
      "execution_count": 11,
      "outputs": [
        {
          "output_type": "execute_result",
          "data": {
            "text/plain": [
              "([0.09523809523809523,\n",
              "  0.03205128205128205,\n",
              "  0.074719800747198,\n",
              "  0.06976744186046512,\n",
              "  0.06495882891125343,\n",
              "  0.06116378509016546,\n",
              "  0.059516351334419244,\n",
              "  0.058758417120191864,\n",
              "  0.05805600351854567,\n",
              "  0.05897840968931016,\n",
              "  0.057896369841762337,\n",
              "  0.05789570214587027],\n",
              " [0.07692307692307693,\n",
              "  0.04032258064516129,\n",
              "  0.07333333333333333,\n",
              "  0.06752655538694992,\n",
              "  0.06583427922814983,\n",
              "  0.0664215122960239,\n",
              "  0.0651601919207553,\n",
              "  0.06376878082348893,\n",
              "  0.06294213676764013,\n",
              "  0.06413069982930993,\n",
              "  0.06262888566409532,\n",
              "  0.06246711268135007],\n",
              " [0.09090909090909091,\n",
              "  0.037037037037037035,\n",
              "  0.08430913348946135,\n",
              "  0.08067729083665338,\n",
              "  0.07761642463695544,\n",
              "  0.07682659140796488,\n",
              "  0.07269617276031644,\n",
              "  0.06855032910579548,\n",
              "  0.06486555371479547,\n",
              "  0.0670926517571885,\n",
              "  0.06607410580424074,\n",
              "  0.06568958245466049])"
            ]
          },
          "metadata": {},
          "execution_count": 11
        }
      ]
    },
    {
      "cell_type": "markdown",
      "metadata": {
        "id": "hXvKJ2MEiIzI"
      },
      "source": [
        "Group 2: Franklin County, OLS"
      ]
    },
    {
      "cell_type": "code",
      "metadata": {
        "colab": {
          "base_uri": "https://localhost:8080/"
        },
        "id": "qXxhDJ9jiM2C",
        "outputId": "dc8c2a3a-5967-448e-c836-4f0c8c1d6593"
      },
      "source": [
        "import geopandas as gpd\n",
        "from pysal.lib import weights\n",
        "import scipy.stats\n",
        "from lib.topdown_ols import *\n",
        "import math\n",
        "\n",
        "eps = 17.14\n",
        "delta = 1e-10\n",
        "# rho = 1\n",
        "rho = cdp2adp.cdp_rho(eps, delta)\n",
        "f1, f2, f3, f4, f6, f7, f8, f9, f10, f11 = 165/4099*5/4097, 165/4099*9/4097, 165/4099*5/4097, 165/4099*5/4097, 165/4099*5/4097, 165/4099*21/4097, 165/4099*21/4097, 165/4099*5/4097, 165/4099*71/4097, 165/4099*3945/4097\n",
        "A = strategy_mtx(rho, f1, f2, f3, f4, f6, f7, f8, f9, f10, f11)\n",
        "W = workload_mtx_race()\n",
        "var = (W @ np.linalg.inv(A.T @ A) @ W.T)[0, 0]\n",
        "sigma = math.sqrt(var)\n",
        "\n",
        "# k-nearest neighbors for all tracts\n",
        "k10 = weights.Rook.from_dataframe(data_tract)\n",
        "\n",
        "tract_index = [max_index]\n",
        "tpr_detail_ols, tpr_va_race_ols, tpr_race_ols = [], [], []\n",
        "flag = 0\n",
        "while flag < 1:\n",
        "    if len(tract_index) == len(data_tract):\n",
        "        flag = 1\n",
        "    tract_ids = data_tract[\"GEOID10\"].iloc[tract_index]\n",
        "\n",
        "    ## QID 1: HHGQ ∗ VA ∗ HISP ∗ RACE (2016 cells)  \n",
        "    hist1_sub = hist1_detail[hist1_detail.index.astype(str).str[:11].isin(tract_ids)].sort_index()\n",
        "    # calculate p(TU)\n",
        "    column_values = hist1_sub[hist1_sub.columns].values.ravel()\n",
        "    A = pd.unique(column_values)\n",
        "    probs = []\n",
        "    for i in A:\n",
        "        p1 = math.exp(-(i - 1)**2 / (2 * sigma**2))\n",
        "        u0 = hist1_sub == i\n",
        "        p2 = np.unique(u0.values, return_counts=True)[1][1] / (np.unique(u0.values, return_counts=True)[1][1] + \n",
        "                                                            np.unique(u0.values, return_counts=True)[1][0])\n",
        "        probs.append(p1 * p2)\n",
        "    p3 = 1\n",
        "    u0 = hist1_sub == 1\n",
        "    p4 = np.unique(u0.values, return_counts=True)[1][1] / (np.unique(u0.values, return_counts=True)[1][1] + \n",
        "                                                        np.unique(u0.values, return_counts=True)[1][0])\n",
        "    tpr_all = p3 * p4 / sum(probs)\n",
        "    tpr_detail_ols.append(tpr_all)\n",
        "\n",
        "    ## QID 2: VA * RACE (126 cells)\n",
        "    hist1_sub = hist1_va_race[hist1_va_race.index.astype(str).str[:11].isin(tract_ids)].sort_index()\n",
        "    # calculate p(TU)\n",
        "    column_values = hist1_sub[hist1_sub.columns].values.ravel()\n",
        "    A = pd.unique(column_values)\n",
        "    probs = []\n",
        "    for i in A:\n",
        "        p1 = math.exp(-(i - 1)**2 / (2 * sigma**2))\n",
        "        u0 = hist1_sub == i\n",
        "        p2 = np.unique(u0.values, return_counts=True)[1][1] / (np.unique(u0.values, return_counts=True)[1][1] + \n",
        "                                                            np.unique(u0.values, return_counts=True)[1][0])\n",
        "        probs.append(p1 * p2)\n",
        "    p3 = 1\n",
        "    u0 = hist1_sub == 1\n",
        "    p4 = np.unique(u0.values, return_counts=True)[1][1] / (np.unique(u0.values, return_counts=True)[1][1] + \n",
        "                                                        np.unique(u0.values, return_counts=True)[1][0])\n",
        "    tpr_all = p3 * p4 / sum(probs)\n",
        "    tpr_va_race_ols.append(tpr_all)\n",
        "\n",
        "    ## QID 3: RACE* (7 cells)\n",
        "    hist1_sub = hist1_race[hist1_race.index.astype(str).str[:11].isin(tract_ids)].sort_index()\n",
        "    # calculate p(TU)\n",
        "    column_values = hist1_sub[hist1_sub.columns].values.ravel()\n",
        "    A = pd.unique(column_values)\n",
        "    probs = []\n",
        "    for i in A:\n",
        "        p1 = math.exp(-(i - 1)**2 / (2 * sigma**2))\n",
        "        u0 = hist1_sub == i\n",
        "        p2 = np.unique(u0.values, return_counts=True)[1][1] / (np.unique(u0.values, return_counts=True)[1][1] + \n",
        "                                                            np.unique(u0.values, return_counts=True)[1][0])\n",
        "        probs.append(p1 * p2)\n",
        "    p3 = 1\n",
        "    u0 = hist1_sub == 1\n",
        "    p4 = np.unique(u0.values, return_counts=True)[1][1] / (np.unique(u0.values, return_counts=True)[1][1] + \n",
        "                                                        np.unique(u0.values, return_counts=True)[1][0])\n",
        "    tpr_all = p3 * p4 / sum(probs)\n",
        "    tpr_race_ols.append(tpr_all)\n",
        "\n",
        "    # add neighbors \n",
        "    nb_index = [k10.neighbors.get(tract) for tract in tract_index]\n",
        "    nb_index = [x for sublist in nb_index for x in sublist]\n",
        "    tract_index = list(set(np.append(tract_index, nb_index)))\n",
        "    # print(len(tract_index))\n",
        "tpr_detail_ols, tpr_va_race_ols, tpr_race_ols"
      ],
      "execution_count": 14,
      "outputs": [
        {
          "output_type": "stream",
          "name": "stdout",
          "text": [
            "(1, 2016) (63, 2016) (2, 2016) (2, 2016) (8, 2016) (126, 2016) (126, 2016) (4, 2016) (252, 2016) (2016, 2016) (2600, 2016)\n"
          ]
        },
        {
          "output_type": "execute_result",
          "data": {
            "text/plain": [
              "([0.0006106621005905862,\n",
              "  0.0003590292383670816,\n",
              "  0.000451082296234845,\n",
              "  0.0003813985484260077,\n",
              "  0.0003632247190565789,\n",
              "  0.00036633060243307077,\n",
              "  0.00035988705060959787,\n",
              "  0.0003690669510830209,\n",
              "  0.0003670446200987201,\n",
              "  0.00036372738419787853,\n",
              "  0.00035801277168568833,\n",
              "  0.00035672844945430716],\n",
              " [0.004400494287651093,\n",
              "  0.003553499928300122,\n",
              "  0.005067404777486273,\n",
              "  0.004518410939235337,\n",
              "  0.004530737399376788,\n",
              "  0.004646032603399037,\n",
              "  0.004598639640657033,\n",
              "  0.0047051136862980665,\n",
              "  0.004688897034899499,\n",
              "  0.004670063115714091,\n",
              "  0.00459538797759756,\n",
              "  0.004578081232346899],\n",
              " [0.061036521048569777,\n",
              "  0.03893833551927802,\n",
              "  0.06625487317389685,\n",
              "  0.056935698944827716,\n",
              "  0.0543993054000305,\n",
              "  0.052735153231142466,\n",
              "  0.05098011686706259,\n",
              "  0.05065267007714823,\n",
              "  0.04960023048297752,\n",
              "  0.04934832883618581,\n",
              "  0.04829368738461431,\n",
              "  0.04810039918421055])"
            ]
          },
          "metadata": {},
          "execution_count": 14
        }
      ]
    },
    {
      "cell_type": "markdown",
      "metadata": {
        "id": "OOFBOYNqZPJg"
      },
      "source": [
        "Group 5*: Franklin County, NHGIS data (2021-06-08)"
      ]
    },
    {
      "cell_type": "code",
      "metadata": {
        "colab": {
          "base_uri": "https://localhost:8080/"
        },
        "id": "dvRGndA2ZSMn",
        "outputId": "16dbee39-fb9c-4690-8f59-122b57c43569"
      },
      "source": [
        "%cd \"/content/gdrive/My Drive/Colab Notebooks/census_privacy\"\n",
        "import pandas as pd\n",
        "import geopandas as gpd\n",
        "from pysal.lib import weights\n",
        "import scipy.stats\n",
        "\n",
        "filename_nhgis = 'data/nhgis/nhgis_ppdd_20210608_block_OH.csv'\n",
        "data_nhgis = pd.read_csv(filename_nhgis, encoding = \"ISO-8859-1\")\n",
        "data_nhgis[\"STATE\"] = data_nhgis[\"gisjoin\"].str.slice(1, 3)\n",
        "data_nhgis['COUNTY'] = data_nhgis[\"gisjoin\"].str.slice(4, 7)\n",
        "data_nhgis['TRACT'] = data_nhgis[\"gisjoin\"].str.slice(8, 14)\n",
        "data_nhgis['GEOID10'] = data_nhgis[['STATE', 'COUNTY', 'TRACT']].apply(lambda x: ''.join(x), axis=1)\n",
        "data_nhgis = data_nhgis.set_index('GEOID10')\n",
        "data_nhgis = data_nhgis[['H72003_dp', 'H72004_dp', 'H72005_dp', 'H72006_dp', 'H72007_dp', 'H72008_dp', 'H72009_dp', \n",
        "                         'H72003_sf', 'H72004_sf', 'H72005_sf', 'H72006_sf', 'H72007_sf', 'H72008_sf', 'H72009_sf']]\n",
        "hist1_nhgis_blk = data_nhgis[['H72003_sf', 'H72004_sf', 'H72005_sf', 'H72006_sf', 'H72007_sf', 'H72008_sf', 'H72009_sf']]\n",
        "hist1_nhgis_blk = hist1_nhgis_blk.rename(columns={'H72003_sf': '1', 'H72004_sf': '2', 'H72005_sf': '3', 'H72006_sf': '4', \n",
        "                                                  'H72007_sf': '5', 'H72008_sf': '6', 'H72009_sf': '7'})\n",
        "hist2_nhgis_blk = data_nhgis[['H72003_dp', 'H72004_dp', 'H72005_dp', 'H72006_dp', 'H72007_dp', 'H72008_dp', 'H72009_dp']]\n",
        "hist2_nhgis_blk = hist2_nhgis_blk.rename(columns={'H72003_dp': '1', 'H72004_dp': '2', 'H72005_dp': '3', 'H72006_dp': '4', \n",
        "                                                  'H72007_dp': '5', 'H72008_dp': '6', 'H72009_dp': '7'})\n",
        "\n",
        "# k-nearest neighbors for all tracts\n",
        "k10 = weights.Rook.from_dataframe(data_tract)\n",
        "\n",
        "tract_index = [max_index]\n",
        "tpr_race_nhgis = []\n",
        "flag = 0\n",
        "while flag < 1:\n",
        "    if len(tract_index) == len(data_tract):\n",
        "        flag = 1\n",
        "\n",
        "    # create histogram\n",
        "    tract_ids = data_tract[\"GEOID10\"].iloc[tract_index]\n",
        "    hist1_sub = hist1_nhgis_blk[hist1_nhgis_blk.index.astype(str).isin(tract_ids)].sort_index()\n",
        "    hist2_sub = hist2_nhgis_blk[hist2_nhgis_blk.index.astype(str).isin(tract_ids)].sort_index()\n",
        "    \n",
        "    # calculate p(TU)\n",
        "    tu = (hist1_sub == hist2_sub) & (hist1_sub == 1) & (hist2_sub == 1) # find a true unique\n",
        "    n_tu = np.unique(tu.values, return_counts=True)[1][1]\n",
        "    u = hist2_sub == 1  # uniques after noise injection\n",
        "    n_u = np.unique(u.values, return_counts=True)[1][1]\n",
        "    tpr_all = n_tu / n_u   # frequency of finding the true uniques\n",
        "    tpr_race_nhgis.append(tpr_all)\n",
        "\n",
        "    # add neighbors \n",
        "    nb_index = [k10.neighbors.get(tract) for tract in tract_index]\n",
        "    nb_index = [x for sublist in nb_index for x in sublist]\n",
        "    tract_index = list(set(np.append(tract_index, nb_index)))\n",
        "    # print(len(tract_index))\n",
        "tpr_race_nhgis"
      ],
      "execution_count": 47,
      "outputs": [
        {
          "output_type": "stream",
          "name": "stdout",
          "text": [
            "/content/gdrive/My Drive/Colab Notebooks/census_privacy\n"
          ]
        },
        {
          "output_type": "execute_result",
          "data": {
            "text/plain": [
              "[0.2857142857142857,\n",
              " 0.18032786885245902,\n",
              " 0.16194331983805668,\n",
              " 0.15,\n",
              " 0.13799448022079117,\n",
              " 0.13467132053519487,\n",
              " 0.12461820403176542,\n",
              " 0.1198201092194025,\n",
              " 0.11827541827541828,\n",
              " 0.11745886654478976,\n",
              " 0.1163877417952619,\n",
              " 0.115491452991453]"
            ]
          },
          "metadata": {},
          "execution_count": 47
        }
      ]
    },
    {
      "cell_type": "markdown",
      "metadata": {
        "id": "XiPP05KBdLhw"
      },
      "source": [
        "**Guernsey county**"
      ]
    },
    {
      "cell_type": "code",
      "metadata": {
        "colab": {
          "base_uri": "https://localhost:8080/"
        },
        "id": "khUEKvAwdLhx",
        "outputId": "4dd40f4f-8c9a-4ab3-8f90-b9986b441e90"
      },
      "source": [
        "col_names = hist1_race_g.columns.to_numpy()\n",
        "hist1_tr_g = hist1_race_g.groupby(hist1_race_g.index.astype(str).str[:11]).sum()\n",
        "hist1_tr_g.index.name = 'TRACT'\n",
        "total = hist1_tr_g.sum(axis=1).to_frame()\n",
        "total[\"GEOID10\"] = total.index.map(str)\n",
        "total = total.rename(columns={total.columns[0]: \"POP\"})\n",
        "total.index.name = None\n",
        "data_tract_new = data_tract_g.merge(total[['GEOID10', 'POP']], how='left', on=['GEOID10'])\n",
        "\n",
        "data_tract_new[\"POP_DEN\"] = data_tract_new[\"POP\"] / data_tract_new[\"ALAND10\"]\n",
        "max_index = data_tract_new[\"POP_DEN\"].idxmax()\n",
        "max_id = data_tract_new.loc[max_index].at['GEOID10']\n",
        "max_index, max_id"
      ],
      "execution_count": 49,
      "outputs": [
        {
          "output_type": "execute_result",
          "data": {
            "text/plain": [
              "(8, '39059977500')"
            ]
          },
          "metadata": {},
          "execution_count": 49
        }
      ]
    },
    {
      "cell_type": "markdown",
      "metadata": {
        "id": "hASuR7MxdLhx"
      },
      "source": [
        "Group 3: Guernsey County, my data"
      ]
    },
    {
      "cell_type": "code",
      "metadata": {
        "colab": {
          "base_uri": "https://localhost:8080/"
        },
        "id": "4_3BCUtddLhy",
        "outputId": "0fb520c9-4a7a-4dc7-ba6b-40b6f87717b8"
      },
      "source": [
        "import geopandas as gpd\n",
        "from pysal.lib import weights\n",
        "import scipy.stats\n",
        "\n",
        "# k-nearest neighbors for all tracts\n",
        "k10 = weights.Rook.from_dataframe(data_tract_g)\n",
        "\n",
        "tract_index = [max_index]\n",
        "tpr_detail_g, tpr_va_race_g, tpr_race_g = [], [], []\n",
        "flag = 0\n",
        "while flag < 1:\n",
        "    if len(tract_index) == len(data_tract_g):\n",
        "        flag = 1\n",
        "    tract_ids = data_tract_g[\"GEOID10\"].iloc[tract_index]\n",
        "\n",
        "    ## QID 1: HHGQ ∗ VA ∗ HISP ∗ RACE (2016 cells)\n",
        "    hist1_sub = hist1_detail_g[hist1_detail_g.index.astype(str).str[:11].isin(tract_ids)].sort_index()\n",
        "    hist2_sub = hist2_detail_g[hist2_detail_g.index.astype(str).str[:11].isin(tract_ids)].sort_index()\n",
        "    # calculate p(TU)\n",
        "    tu = (hist1_sub == hist2_sub) & (hist1_sub == 1) & (hist2_sub == 1) # find a true unique\n",
        "    if len(np.unique(tu.values, return_counts=True)[1]) == 2:\n",
        "        n_tu = np.unique(tu.values, return_counts=True)[1][1]\n",
        "        u = hist2_sub == 1  # uniques after noise injection\n",
        "        n_u = np.unique(u.values, return_counts=True)[1][1]\n",
        "        tpr_all = n_tu / n_u   # frequency of finding the true uniques\n",
        "    else:\n",
        "        tpr_all = 0\n",
        "    tpr_detail_g.append(tpr_all)\n",
        "\n",
        "    ## QID 2: VA * RACE (126 cells)\n",
        "    hist1_sub = hist1_va_race_g[hist1_va_race_g.index.astype(str).str[:11].isin(tract_ids)].sort_index()\n",
        "    hist2_sub = hist2_va_race_g[hist2_va_race_g.index.astype(str).str[:11].isin(tract_ids)].sort_index()\n",
        "    # calculate p(TU)\n",
        "    tu = (hist1_sub == hist2_sub) & (hist1_sub == 1) & (hist2_sub == 1) # find a true unique\n",
        "    if len(np.unique(tu.values, return_counts=True)[1]) == 2:\n",
        "        n_tu = np.unique(tu.values, return_counts=True)[1][1]\n",
        "        u = hist2_sub == 1  # uniques after noise injection\n",
        "        n_u = np.unique(u.values, return_counts=True)[1][1]\n",
        "        tpr_all = n_tu / n_u   # frequency of finding the true uniques\n",
        "    else:\n",
        "        tpr_all = 0\n",
        "    tpr_va_race_g.append(tpr_all)\n",
        "\n",
        "    ## QID 3: Race* (7 cells)\n",
        "    hist1_sub = hist1_race_g[hist1_race_g.index.astype(str).str[:11].isin(tract_ids)].sort_index()\n",
        "    hist2_sub = hist2_race_g[hist2_race_g.index.astype(str).str[:11].isin(tract_ids)].sort_index()\n",
        "    # calculate p(TU)\n",
        "    tu = (hist1_sub == hist2_sub) & (hist1_sub == 1) & (hist2_sub == 1) # find a true unique\n",
        "    if len(np.unique(tu.values, return_counts=True)[1]) == 2:\n",
        "        n_tu = np.unique(tu.values, return_counts=True)[1][1]\n",
        "        u = hist2_sub == 1  # uniques after noise injection\n",
        "        n_u = np.unique(u.values, return_counts=True)[1][1]\n",
        "        tpr_all = n_tu / n_u   # frequency of finding the true uniques\n",
        "    else:\n",
        "        tpr_all = 0\n",
        "    tpr_race_g.append(tpr_all)\n",
        "\n",
        "    # add neighbors \n",
        "    nb_index = [k10.neighbors.get(tract) for tract in tract_index]\n",
        "    nb_index = [x for sublist in nb_index for x in sublist]\n",
        "    tract_index = list(set(np.append(tract_index, nb_index)))\n",
        "    # print(len(tract_index))\n",
        "tpr_detail_g, tpr_va_race_g, tpr_race_g"
      ],
      "execution_count": 33,
      "outputs": [
        {
          "output_type": "execute_result",
          "data": {
            "text/plain": [
              "([0, 0.02702702702702703, 0.023809523809523808, 0.023809523809523808],\n",
              " [0, 0.028985507246376812, 0.025806451612903226, 0.02617801047120419],\n",
              " [0, 0.02, 0.018018018018018018, 0.02158273381294964])"
            ]
          },
          "metadata": {},
          "execution_count": 33
        }
      ]
    },
    {
      "cell_type": "markdown",
      "metadata": {
        "id": "KHPadbrmdLhz"
      },
      "source": [
        "Group 4: Guernsey County, OLS"
      ]
    },
    {
      "cell_type": "code",
      "metadata": {
        "id": "OgWCOMw1dLh1",
        "colab": {
          "base_uri": "https://localhost:8080/"
        },
        "outputId": "67b54f66-6834-437a-9fb2-544f19eeccc2"
      },
      "source": [
        "import geopandas as gpd\n",
        "from pysal.lib import weights\n",
        "import scipy.stats\n",
        "from lib.topdown_ols import *\n",
        "import math\n",
        "\n",
        "eps = 17.14\n",
        "delta = 1e-10\n",
        "# rho = 1\n",
        "rho = cdp2adp.cdp_rho(eps, delta)\n",
        "f1, f2, f3, f4, f6, f7, f8, f9, f10, f11 = 165/4099*5/4097, 165/4099*9/4097, 165/4099*5/4097, 165/4099*5/4097, 165/4099*5/4097, 165/4099*21/4097, 165/4099*21/4097, 165/4099*5/4097, 165/4099*71/4097, 165/4099*3945/4097\n",
        "A = strategy_mtx(rho, f1, f2, f3, f4, f6, f7, f8, f9, f10, f11)\n",
        "W = workload_mtx_race()\n",
        "var = (W @ np.linalg.inv(A.T @ A) @ W.T)[0, 0]\n",
        "sigma = math.sqrt(var)\n",
        "\n",
        "# k-nearest neighbors for all tracts\n",
        "k10 = weights.Rook.from_dataframe(data_tract_g)\n",
        "\n",
        "tract_index = [max_index]\n",
        "tpr_detail_ols_g, tpr_va_race_ols_g, tpr_race_ols_g = [], [], []\n",
        "flag = 0\n",
        "while flag < 1:\n",
        "    if len(tract_index) == len(data_tract_g):\n",
        "        flag = 1\n",
        "    tract_ids = data_tract_g[\"GEOID10\"].iloc[tract_index]\n",
        "\n",
        "    ## QID 1: HHGQ ∗ VA ∗ HISP ∗ RACE (2016 cells)  \n",
        "    hist1_sub = hist1_detail_g[hist1_detail_g.index.astype(str).str[:11].isin(tract_ids)].sort_index()\n",
        "    # calculate p(TU)\n",
        "    column_values = hist1_sub[hist1_sub.columns].values.ravel()\n",
        "    A = pd.unique(column_values)\n",
        "    probs = []\n",
        "    for i in A:\n",
        "        p1 = math.exp(-(i - 1)**2 / (2 * sigma**2))\n",
        "        u0 = hist1_sub == i\n",
        "        p2 = np.unique(u0.values, return_counts=True)[1][1] / (np.unique(u0.values, return_counts=True)[1][1] + \n",
        "                                                            np.unique(u0.values, return_counts=True)[1][0])\n",
        "        probs.append(p1 * p2)\n",
        "    p3 = 1\n",
        "    u0 = hist1_sub == 1\n",
        "    p4 = np.unique(u0.values, return_counts=True)[1][1] / (np.unique(u0.values, return_counts=True)[1][1] + \n",
        "                                                        np.unique(u0.values, return_counts=True)[1][0])\n",
        "    tpr_all = p3 * p4 / sum(probs)\n",
        "    tpr_detail_ols_g.append(tpr_all)\n",
        "\n",
        "    ## QID 2: VA * RACE (126 cells)\n",
        "    hist1_sub = hist1_va_race_g[hist1_va_race_g.index.astype(str).str[:11].isin(tract_ids)].sort_index()\n",
        "    # calculate p(TU)\n",
        "    column_values = hist1_sub[hist1_sub.columns].values.ravel()\n",
        "    A = pd.unique(column_values)\n",
        "    probs = []\n",
        "    for i in A:\n",
        "        p1 = math.exp(-(i - 1)**2 / (2 * sigma**2))\n",
        "        u0 = hist1_sub == i\n",
        "        p2 = np.unique(u0.values, return_counts=True)[1][1] / (np.unique(u0.values, return_counts=True)[1][1] + \n",
        "                                                            np.unique(u0.values, return_counts=True)[1][0])\n",
        "        probs.append(p1 * p2)\n",
        "    p3 = 1\n",
        "    u0 = hist1_sub == 1\n",
        "    p4 = np.unique(u0.values, return_counts=True)[1][1] / (np.unique(u0.values, return_counts=True)[1][1] + \n",
        "                                                        np.unique(u0.values, return_counts=True)[1][0])\n",
        "    tpr_all = p3 * p4 / sum(probs)\n",
        "    tpr_va_race_ols_g.append(tpr_all)\n",
        "\n",
        "    ## QID 3: RACE* (7 cells)\n",
        "    hist1_sub = hist1_race_g[hist1_race_g.index.astype(str).str[:11].isin(tract_ids)].sort_index()\n",
        "    # calculate p(TU)\n",
        "    column_values = hist1_sub[hist1_sub.columns].values.ravel()\n",
        "    A = pd.unique(column_values)\n",
        "    probs = []\n",
        "    for i in A:\n",
        "        p1 = math.exp(-(i - 1)**2 / (2 * sigma**2))\n",
        "        u0 = hist1_sub == i\n",
        "        p2 = np.unique(u0.values, return_counts=True)[1][1] / (np.unique(u0.values, return_counts=True)[1][1] + \n",
        "                                                            np.unique(u0.values, return_counts=True)[1][0])\n",
        "        probs.append(p1 * p2)\n",
        "    p3 = 1\n",
        "    u0 = hist1_sub == 1\n",
        "    p4 = np.unique(u0.values, return_counts=True)[1][1] / (np.unique(u0.values, return_counts=True)[1][1] + \n",
        "                                                        np.unique(u0.values, return_counts=True)[1][0])\n",
        "    tpr_all = p3 * p4 / sum(probs)\n",
        "    tpr_race_ols_g.append(tpr_all)\n",
        "\n",
        "    # add neighbors \n",
        "    nb_index = [k10.neighbors.get(tract) for tract in tract_index]\n",
        "    nb_index = [x for sublist in nb_index for x in sublist]\n",
        "    tract_index = list(set(np.append(tract_index, nb_index)))\n",
        "    # print(len(tract_index))\n",
        "tpr_detail_ols_g, tpr_va_race_ols_g, tpr_race_ols_g"
      ],
      "execution_count": 34,
      "outputs": [
        {
          "output_type": "stream",
          "name": "stdout",
          "text": [
            "(1, 2016) (63, 2016) (2, 2016) (2, 2016) (8, 2016) (126, 2016) (126, 2016) (4, 2016) (252, 2016) (2016, 2016) (2600, 2016)\n"
          ]
        },
        {
          "output_type": "execute_result",
          "data": {
            "text/plain": [
              "([0.000276239587996728,\n",
              "  0.00019289054087146036,\n",
              "  0.00012397522318016976,\n",
              "  0.00011277950240181518],\n",
              " [0.004081310029560179,\n",
              "  0.00274335695828831,\n",
              "  0.0017738922899430414,\n",
              "  0.0016187476132181087],\n",
              " [0.04114738788952455,\n",
              "  0.02936527458858291,\n",
              "  0.017444737472524757,\n",
              "  0.01568221578235666])"
            ]
          },
          "metadata": {},
          "execution_count": 34
        }
      ]
    },
    {
      "cell_type": "markdown",
      "metadata": {
        "id": "EE55evNwdLhy"
      },
      "source": [
        "Group 6*: Guernsey County, NHGIS data (2021-06-08)"
      ]
    },
    {
      "cell_type": "code",
      "metadata": {
        "id": "Ov5hyG40dLhy",
        "colab": {
          "base_uri": "https://localhost:8080/"
        },
        "outputId": "a0da3d15-90bc-4cf6-f000-9116fd5bfa9f"
      },
      "source": [
        "%cd \"/content/gdrive/My Drive/Colab Notebooks/census_privacy\"\n",
        "import pandas as pd\n",
        "import geopandas as gpd\n",
        "from pysal.lib import weights\n",
        "import scipy.stats\n",
        "\n",
        "filename_nhgis = 'data/nhgis/nhgis_ppdd_20210608_block_OH.csv'\n",
        "data_nhgis = pd.read_csv(filename_nhgis, encoding = \"ISO-8859-1\")\n",
        "data_nhgis[\"STATE\"] = data_nhgis[\"gisjoin\"].str.slice(1, 3)\n",
        "data_nhgis['COUNTY'] = data_nhgis[\"gisjoin\"].str.slice(4, 7)\n",
        "data_nhgis['TRACT'] = data_nhgis[\"gisjoin\"].str.slice(8, 14)\n",
        "data_nhgis['GEOID10'] = data_nhgis[['STATE', 'COUNTY', 'TRACT']].apply(lambda x: ''.join(x), axis=1)\n",
        "data_nhgis = data_nhgis.set_index('GEOID10')\n",
        "data_nhgis = data_nhgis[['H72003_dp', 'H72004_dp', 'H72005_dp', 'H72006_dp', 'H72007_dp', 'H72008_dp', 'H72009_dp', \n",
        "                         'H72003_sf', 'H72004_sf', 'H72005_sf', 'H72006_sf', 'H72007_sf', 'H72008_sf', 'H72009_sf']]\n",
        "hist1_nhgis_blk = data_nhgis[['H72003_sf', 'H72004_sf', 'H72005_sf', 'H72006_sf', 'H72007_sf', 'H72008_sf', 'H72009_sf']]\n",
        "hist1_nhgis_blk = hist1_nhgis_blk.rename(columns={'H72003_sf': '1', 'H72004_sf': '2', 'H72005_sf': '3', 'H72006_sf': '4', \n",
        "                                                  'H72007_sf': '5', 'H72008_sf': '6', 'H72009_sf': '7'})\n",
        "hist2_nhgis_blk = data_nhgis[['H72003_dp', 'H72004_dp', 'H72005_dp', 'H72006_dp', 'H72007_dp', 'H72008_dp', 'H72009_dp']]\n",
        "hist2_nhgis_blk = hist2_nhgis_blk.rename(columns={'H72003_dp': '1', 'H72004_dp': '2', 'H72005_dp': '3', 'H72006_dp': '4', \n",
        "                                                  'H72007_dp': '5', 'H72008_dp': '6', 'H72009_dp': '7'})\n",
        "\n",
        "# k-nearest neighbors for all tracts\n",
        "k10 = weights.Rook.from_dataframe(data_tract_g)\n",
        "\n",
        "tract_index = [max_index]\n",
        "tpr_race_nhgis_g = []\n",
        "flag = 0\n",
        "while flag < 1:\n",
        "    if len(tract_index) == len(data_tract_g):\n",
        "        flag = 1\n",
        "\n",
        "    # create histogram\n",
        "    tract_ids = data_tract_g[\"GEOID10\"].iloc[tract_index]\n",
        "    hist1_sub = hist1_nhgis_blk[hist1_nhgis_blk.index.astype(str).isin(tract_ids)].sort_index()\n",
        "    hist2_sub = hist2_nhgis_blk[hist2_nhgis_blk.index.astype(str).isin(tract_ids)].sort_index()\n",
        "    \n",
        "    # calculate p(TU)\n",
        "    tu = (hist1_sub == hist2_sub) & (hist1_sub == 1) & (hist2_sub == 1) # find a true unique\n",
        "    n_tu = np.unique(tu.values, return_counts=True)[1][1]\n",
        "    u = hist2_sub == 1  # uniques after noise injection\n",
        "    n_u = np.unique(u.values, return_counts=True)[1][1]\n",
        "    tpr_all = n_tu / n_u   # frequency of finding the true uniques\n",
        "    tpr_race_nhgis_g.append(tpr_all)\n",
        "\n",
        "    # add neighbors \n",
        "    nb_index = [k10.neighbors.get(tract) for tract in tract_index]\n",
        "    nb_index = [x for sublist in nb_index for x in sublist]\n",
        "    tract_index = list(set(np.append(tract_index, nb_index)))\n",
        "    # print(len(tract_index))\n",
        "tpr_race_nhgis_g"
      ],
      "execution_count": 54,
      "outputs": [
        {
          "output_type": "stream",
          "name": "stdout",
          "text": [
            "/content/gdrive/My Drive/Colab Notebooks/census_privacy\n"
          ]
        },
        {
          "output_type": "execute_result",
          "data": {
            "text/plain": [
              "[0.08823529411764706,\n",
              " 0.06293706293706294,\n",
              " 0.05904761904761905,\n",
              " 0.05701078582434515]"
            ]
          },
          "metadata": {},
          "execution_count": 54
        }
      ]
    },
    {
      "cell_type": "code",
      "metadata": {
        "id": "2Ry8borbkzLs",
        "colab": {
          "base_uri": "https://localhost:8080/",
          "height": 283
        },
        "outputId": "cf32fbec-1322-4b8c-a235-c4deabe41938"
      },
      "source": [
        "import matplotlib.pyplot as plt\n",
        "import numpy as np\n",
        "\n",
        "fig, ax = plt.subplots(nrows=1, ncols=2, sharey=True)\n",
        "\n",
        "ax[0].plot(np.array(tpr_detail), color = 'r', label='HHGQ ∗ VA ∗ HISP ∗ RACE, Constraint')\n",
        "ax[0].plot(np.array(tpr_va_race), color = 'g', label='VA ∗ RACE, Constraint')\n",
        "ax[0].plot(np.array(tpr_race), color = 'b', label='RACE*, Constraint')\n",
        "ax[0].plot(np.array(tpr_detail_ols), color = 'r', linestyle='--', label='HHGQ ∗ VA ∗ HISP ∗ RACE, Unconstraint')\n",
        "ax[0].plot(np.array(tpr_va_race_ols), color = 'g', linestyle='--', label='VA ∗ RACE, Unconstraint')\n",
        "ax[0].plot(np.array(tpr_race_ols), color = 'b', linestyle='--', label='RACE*, Unconstraint')\n",
        "ax[0].plot(np.array(tpr_race_nhgis), color = 'b', linestyle=':', label='RACE*, NHGIS')\n",
        "ax[0].set_xlabel(\"Iteration\")\n",
        "ax[0].set_ylabel(\"TPR\")\n",
        "\n",
        "ax[1].plot(np.array(tpr_detail_g), color = 'r', label='HHGQ ∗ VA ∗ HISP ∗ RACE, Constraint')\n",
        "ax[1].plot(np.array(tpr_va_race_g), color = 'g', label='VA ∗ RACE, Constraint')\n",
        "ax[1].plot(np.array(tpr_race_g), color = 'b', label='RACE*, Constraint')\n",
        "ax[1].plot(np.array(tpr_detail_ols_g), color = 'r', linestyle='--', label='HHGQ ∗ VA ∗ HISP ∗ RACE, Unconstraint')\n",
        "ax[1].plot(np.array(tpr_va_race_ols_g), color = 'g', linestyle='--', label='VA ∗ RACE, Unconstraint')\n",
        "ax[1].plot(np.array(tpr_race_ols_g), color = 'b', linestyle='--', label='RACE*, Unconstraint')\n",
        "ax[1].plot(np.array(tpr_race_nhgis_g), color = 'b', linestyle=':', label='RACE*, NHGIS')\n",
        "ax[1].set_xlabel(\"Iteration\")\n",
        "\n",
        "lines, labels = fig.axes[0].get_legend_handles_labels()\n",
        "fig.legend(lines, labels, loc=5, bbox_to_anchor=(1.5, 0.5))\n",
        "\n",
        "plt.show()"
      ],
      "execution_count": 56,
      "outputs": [
        {
          "output_type": "display_data",
          "data": {
            "image/png": "[encoded data removed]",
            "text/plain": [
              "<Figure size 432x288 with 2 Axes>"
            ]
          },
          "metadata": {
            "needs_background": "light"
          }
        }
      ]
    },
    {
      "cell_type": "markdown",
      "metadata": {
        "id": "Pf7uNEmzlVPQ"
      },
      "source": [
        "######**Random**"
      ]
    },
    {
      "cell_type": "markdown",
      "metadata": {
        "id": "ijUPxrNalVPY"
      },
      "source": [
        "Randomly sample 10% of the blocks (without replacement) and add  to the histogram."
      ]
    },
    {
      "cell_type": "code",
      "metadata": {
        "id": "2AVTkPsikNTN",
        "colab": {
          "base_uri": "https://localhost:8080/"
        },
        "outputId": "35bf11c2-a6d8-43d1-c65a-e685ec8fbb91"
      },
      "source": [
        "%cd \"/content/gdrive/My Drive/Colab Notebooks/census_privacy\"\n",
        "import pandas as pd\n",
        "import geopandas as gpd\n",
        "from pysal.lib import weights\n",
        "import scipy.stats\n",
        "from lib.topdown_ols import *\n",
        "import math\n",
        "\n",
        "filename_nhgis = 'data/nhgis/nhgis_ppdd_20210608_block_OH.csv'\n",
        "data_nhgis = pd.read_csv(filename_nhgis, encoding = \"ISO-8859-1\")\n",
        "data_nhgis[\"STATE\"] = data_nhgis[\"gisjoin\"].str.slice(1, 3)\n",
        "data_nhgis['COUNTY'] = data_nhgis[\"gisjoin\"].str.slice(4, 7)\n",
        "data_nhgis['TRACT'] = data_nhgis[\"gisjoin\"].str.slice(8, 14)\n",
        "data_nhgis['BLOCK'] = data_nhgis[\"gisjoin\"].str.slice(14, 18)\n",
        "data_nhgis['GEOID10'] = data_nhgis[['STATE', 'COUNTY', 'TRACT', 'BLOCK']].apply(lambda x: ''.join(x), axis=1)\n",
        "data_nhgis = data_nhgis.set_index('GEOID10')\n",
        "data_nhgis = data_nhgis[['H72003_dp', 'H72004_dp', 'H72005_dp', 'H72006_dp', 'H72007_dp', 'H72008_dp', 'H72009_dp', \n",
        "                         'H72003_sf', 'H72004_sf', 'H72005_sf', 'H72006_sf', 'H72007_sf', 'H72008_sf', 'H72009_sf']]\n",
        "\n",
        "eps = 17.14\n",
        "delta = 1e-10\n",
        "# rho = 1\n",
        "rho = cdp2adp.cdp_rho(eps, delta)\n",
        "f1, f2, f3, f4, f6, f7, f8, f9, f10, f11 = 165/4099*5/4097, 165/4099*9/4097, 165/4099*5/4097, 165/4099*5/4097, 165/4099*5/4097, 165/4099*21/4097, 165/4099*21/4097, 165/4099*5/4097, 165/4099*71/4097, 165/4099*3945/4097\n",
        "A = strategy_mtx(rho, f1, f2, f3, f4, f6, f7, f8, f9, f10, f11)\n",
        "W = workload_mtx_race()\n",
        "var = (W @ np.linalg.inv(A.T @ A) @ W.T)[0, 0]\n",
        "sigma = math.sqrt(var)\n",
        "\n",
        "data_block_new = data_block\n",
        "N = int(0.1 * len(data_block_new))\n",
        "block_ids_all = []\n",
        "tpr_detail, tpr_va_race, tpr_race, tpr_detail_ols, tpr_va_race_ols, tpr_race_ols, tpr_race_nhgis = [], [], [], [], [], [], []\n",
        "\n",
        "while len(block_ids_all) < len(data_block):\n",
        "    # sampling\n",
        "    if len(data_block_new) >= N:\n",
        "        block_ids = data_block_new[\"GEOID10\"].sample(n=N)\n",
        "    else: \n",
        "        block_ids = data_block_new[\"GEOID10\"]\n",
        "    block_ids_all = list(set(np.append(block_ids_all, block_ids)))\n",
        "    data_block_new = data_block_new.loc[~data_block_new[\"GEOID10\"].isin(block_ids)]    \n",
        "\n",
        "    ## QID 1: HHGQ ∗ VA ∗ HISP ∗ RACE (2016 cells)\n",
        "    ## Constraint\n",
        "    hist1_sub = hist1_detail[hist1_detail.index.astype(str).isin(block_ids_all)].sort_index()\n",
        "    hist2_sub = hist2_detail[hist2_detail.index.astype(str).isin(block_ids_all)].sort_index()\n",
        "    # calculate p(TU)\n",
        "    tu = (hist1_sub == hist2_sub) & (hist1_sub == 1) & (hist2_sub == 1) # find a true unique\n",
        "    if len(np.unique(tu.values, return_counts=True)[1]) == 2:\n",
        "        n_tu = np.unique(tu.values, return_counts=True)[1][1]\n",
        "        u = hist2_sub == 1  # uniques after noise injection\n",
        "        n_u = np.unique(u.values, return_counts=True)[1][1]\n",
        "        tpr_all = n_tu / n_u   # frequency of finding the true uniques\n",
        "    else:\n",
        "        tpr_all = 0\n",
        "    tpr_detail.append(tpr_all)\n",
        "\n",
        "    ## Unconstraint\n",
        "    column_values = hist1_sub[hist1_sub.columns].values.ravel()\n",
        "    A = pd.unique(column_values)\n",
        "    probs = []\n",
        "    for i in A:\n",
        "        p1 = math.exp(-(i - 1)**2 / (2 * sigma**2))\n",
        "        u0 = hist1_sub == i\n",
        "        p2 = np.unique(u0.values, return_counts=True)[1][1] / (np.unique(u0.values, return_counts=True)[1][1] + \n",
        "                                                            np.unique(u0.values, return_counts=True)[1][0])\n",
        "        probs.append(p1 * p2)\n",
        "    p3 = 1\n",
        "    u0 = hist1_sub == 1\n",
        "    p4 = np.unique(u0.values, return_counts=True)[1][1] / (np.unique(u0.values, return_counts=True)[1][1] + \n",
        "                                                        np.unique(u0.values, return_counts=True)[1][0])\n",
        "    tpr_all = p3 * p4 / sum(probs)\n",
        "    tpr_detail_ols.append(tpr_all)\n",
        "\n",
        "\n",
        "    ## QID 2: VA * RACE (126 cells)\n",
        "    ## Constraint\n",
        "    hist1_sub = hist1_va_race[hist1_va_race.index.astype(str).isin(block_ids_all)].sort_index()\n",
        "    hist2_sub = hist2_va_race[hist2_va_race.index.astype(str).isin(block_ids_all)].sort_index()\n",
        "    # calculate p(TU)\n",
        "    tu = (hist1_sub == hist2_sub) & (hist1_sub == 1) & (hist2_sub == 1) # find a true unique\n",
        "    if len(np.unique(tu.values, return_counts=True)[1]) == 2:\n",
        "        n_tu = np.unique(tu.values, return_counts=True)[1][1]\n",
        "        u = hist2_sub == 1  # uniques after noise injection\n",
        "        n_u = np.unique(u.values, return_counts=True)[1][1]\n",
        "        tpr_all = n_tu / n_u   # frequency of finding the true uniques\n",
        "    else:\n",
        "        tpr_all = 0\n",
        "    tpr_va_race.append(tpr_all)\n",
        "\n",
        "    ## Unconstraint\n",
        "    column_values = hist1_sub[hist1_sub.columns].values.ravel()\n",
        "    A = pd.unique(column_values)\n",
        "    probs = []\n",
        "    for i in A:\n",
        "        p1 = math.exp(-(i - 1)**2 / (2 * sigma**2))\n",
        "        u0 = hist1_sub == i\n",
        "        p2 = np.unique(u0.values, return_counts=True)[1][1] / (np.unique(u0.values, return_counts=True)[1][1] + \n",
        "                                                            np.unique(u0.values, return_counts=True)[1][0])\n",
        "        probs.append(p1 * p2)\n",
        "    p3 = 1\n",
        "    u0 = hist1_sub == 1\n",
        "    p4 = np.unique(u0.values, return_counts=True)[1][1] / (np.unique(u0.values, return_counts=True)[1][1] + \n",
        "                                                        np.unique(u0.values, return_counts=True)[1][0])\n",
        "    tpr_all = p3 * p4 / sum(probs)\n",
        "    tpr_va_race_ols.append(tpr_all)\n",
        "\n",
        "\n",
        "    ## QID 3: Race* (7 cells)\n",
        "    ## Constraint\n",
        "    hist1_sub = hist1_race[hist1_race.index.astype(str).isin(block_ids_all)].sort_index()\n",
        "    hist2_sub = hist2_race[hist2_race.index.astype(str).isin(block_ids_all)].sort_index()\n",
        "    # calculate p(TU)\n",
        "    tu = (hist1_sub == hist2_sub) & (hist1_sub == 1) & (hist2_sub == 1) # find a true unique\n",
        "    if len(np.unique(tu.values, return_counts=True)[1]) == 2:\n",
        "        n_tu = np.unique(tu.values, return_counts=True)[1][1]\n",
        "        u = hist2_sub == 1  # uniques after noise injection\n",
        "        n_u = np.unique(u.values, return_counts=True)[1][1]\n",
        "        tpr_all = n_tu / n_u   # frequency of finding the true uniques\n",
        "    else:\n",
        "        tpr_all = 0\n",
        "    tpr_race.append(tpr_all)\n",
        "\n",
        "    ## Unconstraint\n",
        "    column_values = hist1_sub[hist1_sub.columns].values.ravel()\n",
        "    A = pd.unique(column_values)\n",
        "    probs = []\n",
        "    for i in A:\n",
        "        p1 = math.exp(-(i - 1)**2 / (2 * sigma**2))\n",
        "        u0 = hist1_sub == i\n",
        "        p2 = np.unique(u0.values, return_counts=True)[1][1] / (np.unique(u0.values, return_counts=True)[1][1] + \n",
        "                                                            np.unique(u0.values, return_counts=True)[1][0])\n",
        "        probs.append(p1 * p2)\n",
        "    p3 = 1\n",
        "    u0 = hist1_sub == 1\n",
        "    p4 = np.unique(u0.values, return_counts=True)[1][1] / (np.unique(u0.values, return_counts=True)[1][1] + \n",
        "                                                        np.unique(u0.values, return_counts=True)[1][0])\n",
        "    tpr_all = p3 * p4 / sum(probs)\n",
        "    tpr_race_ols.append(tpr_all)    \n",
        "\n",
        "    ## NHGIS\n",
        "    nhgis_sub = data_nhgis[data_nhgis.index.astype(str).isin(block_ids_all)]\n",
        "    hist1_nhgis = nhgis_sub[['H72003_sf', 'H72004_sf', 'H72005_sf', 'H72006_sf', 'H72007_sf', 'H72008_sf', 'H72009_sf']]\n",
        "    hist1_nhgis = hist1_nhgis.rename(columns={'H72003_sf': '1', 'H72004_sf': '2', 'H72005_sf': '3', 'H72006_sf': '4', 'H72007_sf': '5', 'H72008_sf': '6', \n",
        "                                            'H72009_sf': '7'})\n",
        "    hist2_nhgis = nhgis_sub[['H72003_dp', 'H72004_dp', 'H72005_dp', 'H72006_dp', 'H72007_dp', 'H72008_dp', 'H72009_dp']]\n",
        "    hist2_nhgis = hist2_nhgis.rename(columns={'H72003_dp': '1', 'H72004_dp': '2', 'H72005_dp': '3', 'H72006_dp': '4', 'H72007_dp': '5', 'H72008_dp': '6', \n",
        "                                            'H72009_dp': '7'})\n",
        "    tu = (hist1_nhgis == hist2_nhgis) & (hist1_nhgis == 1) & (hist2_nhgis == 1)\n",
        "    n_tu = np.unique(tu.values, return_counts=True)[1][1]\n",
        "    u = hist2_nhgis == 1\n",
        "    n_u = np.unique(u.values, return_counts=True)[1][1]\n",
        "    tpr_nhgis_all = n_tu / n_u\n",
        "    tpr_race_nhgis.append(tpr_nhgis_all)\n",
        "\n",
        "tpr_detail, tpr_va_race, tpr_race, tpr_detail_ols, tpr_va_race_ols, tpr_race_ols, tpr_race_nhgis"
      ],
      "execution_count": 69,
      "outputs": [
        {
          "output_type": "stream",
          "name": "stdout",
          "text": [
            "/content/gdrive/My Drive/Colab Notebooks/census_privacy\n",
            "(1, 2016) (63, 2016) (2, 2016) (2, 2016) (8, 2016) (126, 2016) (126, 2016) (4, 2016) (252, 2016) (2016, 2016) (2600, 2016)\n"
          ]
        },
        {
          "output_type": "execute_result",
          "data": {
            "text/plain": [
              "([0.05687203791469194,\n",
              "  0.05377329666972197,\n",
              "  0.05348460291734198,\n",
              "  0.05499231950844854,\n",
              "  0.057275731244645696,\n",
              "  0.05831710566772574,\n",
              "  0.05859204197638828,\n",
              "  0.05810841807477636,\n",
              "  0.05771976341015705,\n",
              "  0.05779109589041096,\n",
              "  0.05789570214587027],\n",
              " [0.0631424375917768,\n",
              "  0.06336707911511061,\n",
              "  0.06041770263550472,\n",
              "  0.06208966422809979,\n",
              "  0.06425461642396037,\n",
              "  0.06415094339622641,\n",
              "  0.06401884166577454,\n",
              "  0.0629567172568859,\n",
              "  0.06227075691897299,\n",
              "  0.06233551394841717,\n",
              "  0.06246711268135007],\n",
              " [0.06779661016949153,\n",
              "  0.06929637526652452,\n",
              "  0.06596119929453263,\n",
              "  0.06914893617021277,\n",
              "  0.06720544449170565,\n",
              "  0.06645513837475762,\n",
              "  0.06620627533403393,\n",
              "  0.06616778259157148,\n",
              "  0.06605204808028942,\n",
              "  0.06559797511073613,\n",
              "  0.06568958245466049],\n",
              " [0.000353247575856543,\n",
              "  0.00035684353532902235,\n",
              "  0.0003507777245649222,\n",
              "  0.00035248402624939965,\n",
              "  0.0003553835359698959,\n",
              "  0.00035807859940837955,\n",
              "  0.0003573886645249786,\n",
              "  0.0003590234717390462,\n",
              "  0.00035566964855061,\n",
              "  0.0003567132875311914,\n",
              "  0.00035672844945430716],\n",
              " [0.004596265772353584,\n",
              "  0.0045927812999411975,\n",
              "  0.0045249505595499565,\n",
              "  0.004543532895032193,\n",
              "  0.004562709878657486,\n",
              "  0.004589966540394345,\n",
              "  0.004582888098689258,\n",
              "  0.004601329604133918,\n",
              "  0.004561392836505547,\n",
              "  0.004577532802665285,\n",
              "  0.004578081232346899],\n",
              " [0.04768820544741067,\n",
              "  0.04916003702531092,\n",
              "  0.04827388159661893,\n",
              "  0.047664535308064644,\n",
              "  0.04779800516655326,\n",
              "  0.04802629399695821,\n",
              "  0.047923806453567135,\n",
              "  0.04817890813571159,\n",
              "  0.048003323371125034,\n",
              "  0.04809229206878738,\n",
              "  0.04810039918421055],\n",
              " [0.1217750257997936,\n",
              "  0.11653543307086614,\n",
              "  0.11464285714285714,\n",
              "  0.11589580010632643,\n",
              "  0.11693548387096774,\n",
              "  0.11904761904761904,\n",
              "  0.11736163760424564,\n",
              "  0.11679318151551471,\n",
              "  0.11637315564017135,\n",
              "  0.11544628540887227,\n",
              "  0.115491452991453])"
            ]
          },
          "metadata": {},
          "execution_count": 69
        }
      ]
    },
    {
      "cell_type": "code",
      "metadata": {
        "id": "nyXdmKsElVPY",
        "colab": {
          "base_uri": "https://localhost:8080/"
        },
        "outputId": "bafa317c-121a-4057-d3d2-2e03fec92b1f"
      },
      "source": [
        "%cd \"/content/gdrive/My Drive/Colab Notebooks/census_privacy\"\n",
        "import pandas as pd\n",
        "import geopandas as gpd\n",
        "from pysal.lib import weights\n",
        "import scipy.stats\n",
        "from lib.topdown_ols import *\n",
        "import math\n",
        "\n",
        "filename_nhgis = 'data/nhgis/nhgis_ppdd_20210608_block_OH.csv'\n",
        "data_nhgis = pd.read_csv(filename_nhgis, encoding = \"ISO-8859-1\")\n",
        "data_nhgis[\"STATE\"] = data_nhgis[\"gisjoin\"].str.slice(1, 3)\n",
        "data_nhgis['COUNTY'] = data_nhgis[\"gisjoin\"].str.slice(4, 7)\n",
        "data_nhgis['TRACT'] = data_nhgis[\"gisjoin\"].str.slice(8, 14)\n",
        "data_nhgis['BLOCK'] = data_nhgis[\"gisjoin\"].str.slice(14, 18)\n",
        "data_nhgis['GEOID10'] = data_nhgis[['STATE', 'COUNTY', 'TRACT', 'BLOCK']].apply(lambda x: ''.join(x), axis=1)\n",
        "data_nhgis = data_nhgis.set_index('GEOID10')\n",
        "data_nhgis = data_nhgis[['H72003_dp', 'H72004_dp', 'H72005_dp', 'H72006_dp', 'H72007_dp', 'H72008_dp', 'H72009_dp', \n",
        "                         'H72003_sf', 'H72004_sf', 'H72005_sf', 'H72006_sf', 'H72007_sf', 'H72008_sf', 'H72009_sf']]\n",
        "\n",
        "eps = 17.14\n",
        "delta = 1e-10\n",
        "# rho = 1\n",
        "rho = cdp2adp.cdp_rho(eps, delta)\n",
        "f1, f2, f3, f4, f6, f7, f8, f9, f10, f11 = 165/4099*5/4097, 165/4099*9/4097, 165/4099*5/4097, 165/4099*5/4097, 165/4099*5/4097, 165/4099*21/4097, 165/4099*21/4097, 165/4099*5/4097, 165/4099*71/4097, 165/4099*3945/4097\n",
        "A = strategy_mtx(rho, f1, f2, f3, f4, f6, f7, f8, f9, f10, f11)\n",
        "W = workload_mtx_race()\n",
        "var = (W @ np.linalg.inv(A.T @ A) @ W.T)[0, 0]\n",
        "sigma = math.sqrt(var)\n",
        "\n",
        "data_block_new = data_block_g\n",
        "N = int(0.1 * len(data_block_new))\n",
        "block_ids_all = []\n",
        "tpr_detail_g, tpr_va_race_g, tpr_race_g, tpr_detail_ols_g, tpr_va_race_ols_g, tpr_race_ols_g, tpr_race_nhgis_g = [], [], [], [], [], [], []\n",
        "\n",
        "while len(block_ids_all) < len(data_block_g):\n",
        "    # sampling\n",
        "    if len(data_block_new) >= N:\n",
        "        block_ids = data_block_new[\"GEOID10\"].sample(n=N)\n",
        "    else: \n",
        "        block_ids = data_block_new[\"GEOID10\"]\n",
        "    block_ids_all = list(set(np.append(block_ids_all, block_ids)))\n",
        "    data_block_new = data_block_new.loc[~data_block_new[\"GEOID10\"].isin(block_ids)]    \n",
        "\n",
        "    ## QID 1: HHGQ ∗ VA ∗ HISP ∗ RACE (2016 cells)\n",
        "    ## Constraint\n",
        "    hist1_sub = hist1_detail_g[hist1_detail_g.index.astype(str).str[:11].isin(tract_ids)].sort_index()\n",
        "    hist2_sub = hist2_detail_g[hist2_detail_g.index.astype(str).str[:11].isin(tract_ids)].sort_index()\n",
        "    # calculate p(TU)\n",
        "    tu = (hist1_sub == hist2_sub) & (hist1_sub == 1) & (hist2_sub == 1) # find a true unique\n",
        "    if len(np.unique(tu.values, return_counts=True)[1]) == 2:\n",
        "        n_tu = np.unique(tu.values, return_counts=True)[1][1]\n",
        "        u = hist2_sub == 1  # uniques after noise injection\n",
        "        n_u = np.unique(u.values, return_counts=True)[1][1]\n",
        "        tpr_all = n_tu / n_u   # frequency of finding the true uniques\n",
        "    else:\n",
        "        tpr_all = 0\n",
        "    tpr_detail_g.append(tpr_all)\n",
        "\n",
        "    ## Unconstraint\n",
        "    column_values = hist1_sub[hist1_sub.columns].values.ravel()\n",
        "    A = pd.unique(column_values)\n",
        "    probs = []\n",
        "    for i in A:\n",
        "        p1 = math.exp(-(i - 1)**2 / (2 * sigma**2))\n",
        "        u0 = hist1_sub == i\n",
        "        p2 = np.unique(u0.values, return_counts=True)[1][1] / (np.unique(u0.values, return_counts=True)[1][1] + \n",
        "                                                            np.unique(u0.values, return_counts=True)[1][0])\n",
        "        probs.append(p1 * p2)\n",
        "    p3 = 1\n",
        "    u0 = hist1_sub == 1\n",
        "    p4 = np.unique(u0.values, return_counts=True)[1][1] / (np.unique(u0.values, return_counts=True)[1][1] + \n",
        "                                                        np.unique(u0.values, return_counts=True)[1][0])\n",
        "    tpr_all = p3 * p4 / sum(probs)\n",
        "    tpr_detail_ols_g.append(tpr_all)\n",
        "\n",
        "\n",
        "    ## QID 2: VA * RACE (126 cells)\n",
        "    ## Constraint\n",
        "    hist1_sub = hist1_va_race_g[hist1_va_race_g.index.astype(str).str[:11].isin(tract_ids)].sort_index()\n",
        "    hist2_sub = hist2_va_race_g[hist2_va_race_g.index.astype(str).str[:11].isin(tract_ids)].sort_index()\n",
        "    # calculate p(TU)\n",
        "    tu = (hist1_sub == hist2_sub) & (hist1_sub == 1) & (hist2_sub == 1) # find a true unique\n",
        "    if len(np.unique(tu.values, return_counts=True)[1]) == 2:\n",
        "        n_tu = np.unique(tu.values, return_counts=True)[1][1]\n",
        "        u = hist2_sub == 1  # uniques after noise injection\n",
        "        n_u = np.unique(u.values, return_counts=True)[1][1]\n",
        "        tpr_all = n_tu / n_u   # frequency of finding the true uniques\n",
        "    else:\n",
        "        tpr_all = 0\n",
        "    tpr_va_race_g.append(tpr_all)\n",
        "\n",
        "    ## Unconstraint\n",
        "    column_values = hist1_sub[hist1_sub.columns].values.ravel()\n",
        "    A = pd.unique(column_values)\n",
        "    probs = []\n",
        "    for i in A:\n",
        "        p1 = math.exp(-(i - 1)**2 / (2 * sigma**2))\n",
        "        u0 = hist1_sub == i\n",
        "        p2 = np.unique(u0.values, return_counts=True)[1][1] / (np.unique(u0.values, return_counts=True)[1][1] + \n",
        "                                                            np.unique(u0.values, return_counts=True)[1][0])\n",
        "        probs.append(p1 * p2)\n",
        "    p3 = 1\n",
        "    u0 = hist1_sub == 1\n",
        "    p4 = np.unique(u0.values, return_counts=True)[1][1] / (np.unique(u0.values, return_counts=True)[1][1] + \n",
        "                                                        np.unique(u0.values, return_counts=True)[1][0])\n",
        "    tpr_all = p3 * p4 / sum(probs)\n",
        "    tpr_va_race_ols_g.append(tpr_all)\n",
        "\n",
        "\n",
        "    ## QID 3: Race* (7 cells)\n",
        "    ## Constraint\n",
        "    hist1_sub = hist1_race_g[hist1_race_g.index.astype(str).str[:11].isin(tract_ids)].sort_index()\n",
        "    hist2_sub = hist2_race_g[hist2_race_g.index.astype(str).str[:11].isin(tract_ids)].sort_index()\n",
        "    # calculate p(TU)\n",
        "    tu = (hist1_sub == hist2_sub) & (hist1_sub == 1) & (hist2_sub == 1) # find a true unique\n",
        "    if len(np.unique(tu.values, return_counts=True)[1]) == 2:\n",
        "        n_tu = np.unique(tu.values, return_counts=True)[1][1]\n",
        "        u = hist2_sub == 1  # uniques after noise injection\n",
        "        n_u = np.unique(u.values, return_counts=True)[1][1]\n",
        "        tpr_all = n_tu / n_u   # frequency of finding the true uniques\n",
        "    else:\n",
        "        tpr_all = 0\n",
        "    tpr_race_g.append(tpr_all)\n",
        "\n",
        "    ## Unconstraint\n",
        "    column_values = hist1_sub[hist1_sub.columns].values.ravel()\n",
        "    A = pd.unique(column_values)\n",
        "    probs = []\n",
        "    for i in A:\n",
        "        p1 = math.exp(-(i - 1)**2 / (2 * sigma**2))\n",
        "        u0 = hist1_sub == i\n",
        "        p2 = np.unique(u0.values, return_counts=True)[1][1] / (np.unique(u0.values, return_counts=True)[1][1] + \n",
        "                                                            np.unique(u0.values, return_counts=True)[1][0])\n",
        "        probs.append(p1 * p2)\n",
        "    p3 = 1\n",
        "    u0 = hist1_sub == 1\n",
        "    p4 = np.unique(u0.values, return_counts=True)[1][1] / (np.unique(u0.values, return_counts=True)[1][1] + \n",
        "                                                        np.unique(u0.values, return_counts=True)[1][0])\n",
        "    tpr_all = p3 * p4 / sum(probs)\n",
        "    tpr_race_ols_g.append(tpr_all)    \n",
        "\n",
        "    ## NHGIS\n",
        "    nhgis_sub = data_nhgis[data_nhgis.index.astype(str).isin(block_ids_all)]\n",
        "    hist1_nhgis = nhgis_sub[['H72003_sf', 'H72004_sf', 'H72005_sf', 'H72006_sf', 'H72007_sf', 'H72008_sf', 'H72009_sf']]\n",
        "    hist1_nhgis = hist1_nhgis.rename(columns={'H72003_sf': '1', 'H72004_sf': '2', 'H72005_sf': '3', 'H72006_sf': '4', 'H72007_sf': '5', 'H72008_sf': '6', \n",
        "                                            'H72009_sf': '7'})\n",
        "    hist2_nhgis = nhgis_sub[['H72003_dp', 'H72004_dp', 'H72005_dp', 'H72006_dp', 'H72007_dp', 'H72008_dp', 'H72009_dp']]\n",
        "    hist2_nhgis = hist2_nhgis.rename(columns={'H72003_dp': '1', 'H72004_dp': '2', 'H72005_dp': '3', 'H72006_dp': '4', 'H72007_dp': '5', 'H72008_dp': '6', \n",
        "                                            'H72009_dp': '7'})\n",
        "    tu = (hist1_nhgis == hist2_nhgis) & (hist1_nhgis == 1) & (hist2_nhgis == 1)\n",
        "    n_tu = np.unique(tu.values, return_counts=True)[1][1]\n",
        "    u = hist2_nhgis == 1\n",
        "    n_u = np.unique(u.values, return_counts=True)[1][1]\n",
        "    tpr_nhgis_all = n_tu / n_u\n",
        "    tpr_race_nhgis_g.append(tpr_nhgis_all)\n",
        "\n",
        "tpr_detail_g, tpr_va_race_g, tpr_race_g, tpr_detail_ols_g, tpr_va_race_ols_g, tpr_race_ols_g, tpr_race_nhgis_g"
      ],
      "execution_count": 70,
      "outputs": [
        {
          "output_type": "stream",
          "name": "stdout",
          "text": [
            "/content/gdrive/My Drive/Colab Notebooks/census_privacy\n",
            "(1, 2016) (63, 2016) (2, 2016) (2, 2016) (8, 2016) (126, 2016) (126, 2016) (4, 2016) (252, 2016) (2016, 2016) (2600, 2016)\n"
          ]
        },
        {
          "output_type": "execute_result",
          "data": {
            "text/plain": [
              "([0.023809523809523808,\n",
              "  0.023809523809523808,\n",
              "  0.023809523809523808,\n",
              "  0.023809523809523808,\n",
              "  0.023809523809523808,\n",
              "  0.023809523809523808,\n",
              "  0.023809523809523808,\n",
              "  0.023809523809523808,\n",
              "  0.023809523809523808,\n",
              "  0.023809523809523808,\n",
              "  0.023809523809523808],\n",
              " [0.02617801047120419,\n",
              "  0.02617801047120419,\n",
              "  0.02617801047120419,\n",
              "  0.02617801047120419,\n",
              "  0.02617801047120419,\n",
              "  0.02617801047120419,\n",
              "  0.02617801047120419,\n",
              "  0.02617801047120419,\n",
              "  0.02617801047120419,\n",
              "  0.02617801047120419,\n",
              "  0.02617801047120419],\n",
              " [0.02158273381294964,\n",
              "  0.02158273381294964,\n",
              "  0.02158273381294964,\n",
              "  0.02158273381294964,\n",
              "  0.02158273381294964,\n",
              "  0.02158273381294964,\n",
              "  0.02158273381294964,\n",
              "  0.02158273381294964,\n",
              "  0.02158273381294964,\n",
              "  0.02158273381294964,\n",
              "  0.02158273381294964],\n",
              " [0.00011277950240181518,\n",
              "  0.00011277950240181518,\n",
              "  0.00011277950240181518,\n",
              "  0.00011277950240181518,\n",
              "  0.00011277950240181518,\n",
              "  0.00011277950240181518,\n",
              "  0.00011277950240181518,\n",
              "  0.00011277950240181518,\n",
              "  0.00011277950240181518,\n",
              "  0.00011277950240181518,\n",
              "  0.00011277950240181518],\n",
              " [0.0016187476132181087,\n",
              "  0.0016187476132181087,\n",
              "  0.0016187476132181087,\n",
              "  0.0016187476132181087,\n",
              "  0.0016187476132181087,\n",
              "  0.0016187476132181087,\n",
              "  0.0016187476132181087,\n",
              "  0.0016187476132181087,\n",
              "  0.0016187476132181087,\n",
              "  0.0016187476132181087,\n",
              "  0.0016187476132181087],\n",
              " [0.01568221578235666,\n",
              "  0.01568221578235666,\n",
              "  0.01568221578235666,\n",
              "  0.01568221578235666,\n",
              "  0.01568221578235666,\n",
              "  0.01568221578235666,\n",
              "  0.01568221578235666,\n",
              "  0.01568221578235666,\n",
              "  0.01568221578235666,\n",
              "  0.01568221578235666,\n",
              "  0.01568221578235666],\n",
              " [0.043478260869565216,\n",
              "  0.037383177570093455,\n",
              "  0.054945054945054944,\n",
              "  0.05439330543933055,\n",
              "  0.0429042904290429,\n",
              "  0.04851752021563342,\n",
              "  0.04943820224719101,\n",
              "  0.05242718446601942,\n",
              "  0.058823529411764705,\n",
              "  0.05564142194744977,\n",
              "  0.05701078582434515])"
            ]
          },
          "metadata": {},
          "execution_count": 70
        }
      ]
    },
    {
      "cell_type": "code",
      "metadata": {
        "id": "f1VGHrXWriPC",
        "colab": {
          "base_uri": "https://localhost:8080/",
          "height": 279
        },
        "outputId": "3b4c0b77-81aa-41e6-8d3d-5a1a0f755e5a"
      },
      "source": [
        "import matplotlib.pyplot as plt\n",
        "import numpy as np\n",
        "\n",
        "fig, ax = plt.subplots(nrows=1, ncols=2, sharey=True)\n",
        "\n",
        "ax[0].plot(np.array(tpr_detail), color = 'r', label='HHGQ ∗ VA ∗ HISP ∗ RACE, Constraint')\n",
        "ax[0].plot(np.array(tpr_va_race), color = 'g', label='VA ∗ RACE, Constraint')\n",
        "ax[0].plot(np.array(tpr_race), color = 'b', label='RACE*, Constraint')\n",
        "ax[0].plot(np.array(tpr_detail_ols), color = 'r', linestyle='--', label='HHGQ ∗ VA ∗ HISP ∗ RACE, Unconstraint')\n",
        "ax[0].plot(np.array(tpr_va_race_ols), color = 'g', linestyle='--', label='VA ∗ RACE, Unconstraint')\n",
        "ax[0].plot(np.array(tpr_race_ols), color = 'b', linestyle='--', label='RACE*, Unconstraint')\n",
        "ax[0].plot(np.array(tpr_race_nhgis), color = 'b', linestyle=':', label='RACE*, NHGIS')\n",
        "ax[0].set_xlabel(\"Iteration\")\n",
        "ax[0].set_ylabel(\"TPR\")\n",
        "\n",
        "ax[1].plot(np.array(tpr_detail_g), color = 'r', label='HHGQ ∗ VA ∗ HISP ∗ RACE, Constraint')\n",
        "ax[1].plot(np.array(tpr_va_race_g), color = 'g', label='VA ∗ RACE, Constraint')\n",
        "ax[1].plot(np.array(tpr_race_g), color = 'b', label='RACE*, Constraint')\n",
        "ax[1].plot(np.array(tpr_detail_ols_g), color = 'r', linestyle='--', label='HHGQ ∗ VA ∗ HISP ∗ RACE, Unconstraint')\n",
        "ax[1].plot(np.array(tpr_va_race_ols_g), color = 'g', linestyle='--', label='VA ∗ RACE, Unconstraint')\n",
        "ax[1].plot(np.array(tpr_race_ols_g), color = 'b', linestyle='--', label='RACE*, Unconstraint')\n",
        "ax[1].plot(np.array(tpr_race_nhgis_g), color = 'b', linestyle=':', label='RACE*, NHGIS')\n",
        "ax[1].set_xlabel(\"Iteration\")\n",
        "\n",
        "lines, labels = fig.axes[0].get_legend_handles_labels()\n",
        "fig.legend(lines, labels, loc=5, bbox_to_anchor=(1.5, 0.5))\n",
        "\n",
        "plt.show()"
      ],
      "execution_count": 71,
      "outputs": [
        {
          "output_type": "display_data",
          "data": {
            "image/png": "[encoded data removed]",
            "text/plain": [
              "<Figure size 432x288 with 2 Axes>"
            ]
          },
          "metadata": {
            "needs_background": "light"
          }
        }
      ]
    },
    {
      "cell_type": "markdown",
      "metadata": {
        "id": "4JlBwV4iM9mv"
      },
      "source": [
        "####**More on cell uniqueness**\n",
        "Some simulations to demonstrate how spatial scales affect the probability of finding a true unique. Two aspects of spatial scales are examined here: resolution and extent."
      ]
    },
    {
      "cell_type": "markdown",
      "metadata": {
        "id": "26ueNIqNrKqr"
      },
      "source": [
        "#####**Impact of privacy loss budget (rho)**"
      ]
    },
    {
      "cell_type": "markdown",
      "metadata": {
        "id": "DmE-4EdYxPvj"
      },
      "source": [
        "For block level data, change epsilon from 1 to 20 while using the same allocation budget."
      ]
    },
    {
      "cell_type": "code",
      "metadata": {
        "id": "etcdrAMPrP2v"
      },
      "source": [
        "import scipy.stats\n",
        "import math\n",
        "import numpy as np\n",
        "\n",
        "delta = 10 ** (-10)\n",
        "hist1 = pd.crosstab(data_people.GEOID10, data_people.race)\n",
        "column_values = hist1[hist1.columns].values.ravel()\n",
        "A = pd.unique(column_values)\n",
        "\n",
        "tpr_rho = []\n",
        "for k in np.arange(0.5, 21, 0.5):\n",
        "    rho = k * 9/4097\n",
        "    sigma = math.sqrt(1 / (2 * rho))\n",
        "\n",
        "    probs = []\n",
        "    for i in A:\n",
        "        p1 = scipy.stats.norm(0, sigma).cdf(0.5 - i) - scipy.stats.norm(0, sigma).cdf(1.5 - i)\n",
        "        u0 = hist1 == i\n",
        "        p2 = np.unique(u0.values, return_counts=True)[1][1] / (np.unique(u0.values, return_counts=True)[1][1] + \n",
        "                                                            np.unique(u0.values, return_counts=True)[1][0])\n",
        "        probs.append(p1 * p2)\n",
        "\n",
        "    p3 = scipy.stats.norm(0, sigma).cdf(-0.5) - scipy.stats.norm(0, sigma).cdf(0.5)\n",
        "    u0 = hist1 == 1\n",
        "    p4 = np.unique(u0.values, return_counts=True)[1][1] / (np.unique(u0.values, return_counts=True)[1][1] + \n",
        "                                                        np.unique(u0.values, return_counts=True)[1][0])\n",
        "    tpr = p3 * p4 / sum(probs)\n",
        "    tpr_rho.append(tpr)\n",
        "\n",
        "tpr_rho"
      ],
      "execution_count": null,
      "outputs": []
    },
    {
      "cell_type": "markdown",
      "metadata": {
        "id": "Y-UcTRFg6XPG"
      },
      "source": [
        "Compare with Guernsey county."
      ]
    },
    {
      "cell_type": "code",
      "metadata": {
        "id": "S3WP79ea6UgU"
      },
      "source": [
        "import scipy.stats\n",
        "import math\n",
        "import numpy as np\n",
        "\n",
        "delta = 10 ** (-10)\n",
        "hist1 = pd.crosstab(data_people_g.GEOID10, data_people_g.race)\n",
        "column_values = hist1[hist1.columns].values.ravel()\n",
        "A = pd.unique(column_values)\n",
        "\n",
        "tpr_rho_g = []\n",
        "for k in np.arange(0.5, 21, 0.5):\n",
        "    rho = k * 9/4097\n",
        "    sigma = math.sqrt(1 / (2 * rho))\n",
        "\n",
        "    probs = []\n",
        "    for i in A:\n",
        "        p1 = scipy.stats.norm(0, sigma).cdf(0.5 - i) - scipy.stats.norm(0, sigma).cdf(1.5 - i)\n",
        "        u0 = hist1 == i\n",
        "        p2 = np.unique(u0.values, return_counts=True)[1][1] / (np.unique(u0.values, return_counts=True)[1][1] + \n",
        "                                                            np.unique(u0.values, return_counts=True)[1][0])\n",
        "        probs.append(p1 * p2)\n",
        "\n",
        "    p3 = scipy.stats.norm(0, sigma).cdf(-0.5) - scipy.stats.norm(0, sigma).cdf(0.5)\n",
        "    u0 = hist1 == 1\n",
        "    p4 = np.unique(u0.values, return_counts=True)[1][1] / (np.unique(u0.values, return_counts=True)[1][1] + \n",
        "                                                        np.unique(u0.values, return_counts=True)[1][0])\n",
        "    tpr = p3 * p4 / sum(probs)\n",
        "    tpr_rho_g.append(tpr)\n",
        "\n",
        "tpr_rho_g"
      ],
      "execution_count": null,
      "outputs": []
    },
    {
      "cell_type": "code",
      "metadata": {
        "colab": {
          "base_uri": "https://localhost:8080/",
          "height": 279
        },
        "id": "nQcx48o-6GrE",
        "outputId": "47bfdfc1-1719-46c3-a525-7173eb8b7370"
      },
      "source": [
        "import matplotlib.pyplot as plt\n",
        "import numpy as np\n",
        "\n",
        "plt.plot(np.array(tpr_rho), color = 'r', label='Franklin')\n",
        "plt.plot(np.array(tpr_rho_g), color = 'g', label='Guernsey')\n",
        "plt.xlabel(\"Rho\")\n",
        "plt.ylabel(\"p(TU)\")\n",
        "plt.legend()\n",
        "plt.show()"
      ],
      "execution_count": null,
      "outputs": [
        {
          "output_type": "display_data",
          "data": {
            "image/png": "[encoded data removed]",
            "text/plain": [
              "<Figure size 432x288 with 1 Axes>"
            ]
          },
          "metadata": {
            "needs_background": "light"
          }
        }
      ]
    }
  ]
}