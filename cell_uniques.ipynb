{
  "nbformat": 4,
  "nbformat_minor": 0,
  "metadata": {
    "colab": {
      "name": "cell uniques.ipynb",
      "provenance": [],
      "collapsed_sections": [],
      "toc_visible": true,
      "authorship_tag": "ABX9TyPTdcGeuz7jrpLWFkXiEwlo",
      "include_colab_link": true
    },
    "kernelspec": {
      "name": "python3",
      "display_name": "Python 3"
    },
    "language_info": {
      "name": "python"
    }
  },
  "cells": [
    {
      "cell_type": "markdown",
      "metadata": {
        "id": "view-in-github",
        "colab_type": "text"
      },
      "source": [
        "<a href=\"https://colab.research.google.com/github/linyuehzzz/census_privacy/blob/main/cell_uniques.ipynb\" target=\"_parent\"><img src=\"https://colab.research.google.com/assets/colab-badge.svg\" alt=\"Open In Colab\"/></a>"
      ]
    },
    {
      "cell_type": "code",
      "metadata": {
        "id": "zLeEw-8vLEbA",
        "colab": {
          "base_uri": "https://localhost:8080/"
        },
        "outputId": "853794ed-f5c4-4bb2-ecd8-d1d51bfc738e"
      },
      "source": [
        "from google.colab import drive\n",
        "drive.mount(\"/content/gdrive\")"
      ],
      "execution_count": 1,
      "outputs": [
        {
          "output_type": "stream",
          "name": "stdout",
          "text": [
            "Mounted at /content/gdrive\n"
          ]
        }
      ]
    },
    {
      "cell_type": "markdown",
      "metadata": {
        "id": "dOzG_kv2Lg-q"
      },
      "source": [
        "####**Read data**\n",
        "Here we consider different combinations of attributes as the quasi-identifiers:\n",
        "\n",
        "*   All attributes\n",
        "*   Voting age * race\n",
        "*   Race (compared with NHGIS)\n",
        "\n",
        "\n"
      ]
    },
    {
      "cell_type": "markdown",
      "metadata": {
        "id": "uua6Cv1oV3Fb"
      },
      "source": [
        "Franklin county"
      ]
    },
    {
      "cell_type": "code",
      "metadata": {
        "colab": {
          "base_uri": "https://localhost:8080/"
        },
        "id": "V04A9tgqjDpe",
        "outputId": "2ee91436-6134-4877-c878-faa303f12dad"
      },
      "source": [
        "%cd \"/content/gdrive/My Drive/Colab Notebooks/census_privacy\"\n",
        "import pandas as pd\n",
        "from lib.uniques import *\n",
        "\n",
        "filename_hist1 = 'data/franklin/microdata/franklin_hist.csv'\n",
        "hist1 = pd.read_csv(filename_hist1)\n",
        "filename_hist2 = 'data/franklin/microdata/rho_1.60/franklin_hist_dp_blk2.csv'\n",
        "hist2 = pd.read_csv(filename_hist2)\n",
        "\n",
        "n2, n3, n4 = 2, 2, 63\n",
        "\n",
        "## QID 1: HHGQ ∗ VA ∗ HISP ∗ RACE (2016 cells)\n",
        "hist1_detail = query_detail_ori(hist1)\n",
        "hist2_detail = query_detail_dp(hist2)\n",
        "\n",
        "## QID 2: VA * RACE (126 cells)\n",
        "hist1_va_race = query_race_va_ori(n2, n4, hist1)\n",
        "hist2_va_race = query_race_va_dp(n2, n4, hist2)\n",
        "\n",
        "## QID 3: Race* (7 cells)\n",
        "hist1_race = query_race_ori(n4, hist1)\n",
        "hist2_race = query_race_dp(n4, hist2)\n",
        "hist1_detail.size, hist1_va_race.size, hist1_race.size"
      ],
      "execution_count": 2,
      "outputs": [
        {
          "output_type": "stream",
          "name": "stdout",
          "text": [
            "/content/gdrive/My Drive/Colab Notebooks/census_privacy\n"
          ]
        },
        {
          "output_type": "execute_result",
          "data": {
            "text/plain": [
              "(46017216, 2876076, 159782)"
            ]
          },
          "metadata": {},
          "execution_count": 2
        }
      ]
    },
    {
      "cell_type": "markdown",
      "metadata": {
        "id": "zyxqyFvKV0Wl"
      },
      "source": [
        "Guernsey county"
      ]
    },
    {
      "cell_type": "code",
      "metadata": {
        "colab": {
          "base_uri": "https://localhost:8080/"
        },
        "id": "B9cwFtq4Vz8M",
        "outputId": "580cd2a5-0040-4e88-d555-3e2f93594b4a"
      },
      "source": [
        "%cd \"/content/gdrive/My Drive/Colab Notebooks/census_privacy\"\n",
        "import pandas as pd\n",
        "from lib.uniques import *\n",
        "\n",
        "filename_hist1_g = 'data/guernsey/microdata/guernsey_hist.csv'\n",
        "hist1_g = pd.read_csv(filename_hist1_g)\n",
        "filename_hist2_g = 'data/guernsey/microdata/rho_100/guernsey_hist_dp_blk2.csv'\n",
        "hist2_g = pd.read_csv(filename_hist2_g)\n",
        "\n",
        "n2, n4 = 2, 63\n",
        "\n",
        "## QID 1: HHGQ ∗ VA ∗ HISP ∗ RACE  (2016 cells)\n",
        "hist1_detail_g = query_detail_ori(hist1_g)\n",
        "hist2_detail_g = query_detail_dp(hist2_g)\n",
        "\n",
        "## QID 2: VA * RACE (126 cells)\n",
        "hist1_va_race_g = query_race_va_ori(n2, n4, hist1_g)\n",
        "hist2_va_race_g = query_race_va_dp(n2, n4, hist2_g)\n",
        "\n",
        "## QID 3: Race (7 cells)\n",
        "hist1_race_g = query_race_ori(n4, hist1_g)\n",
        "hist2_race_g = query_race_dp(n4, hist2_g)"
      ],
      "execution_count": 3,
      "outputs": [
        {
          "output_type": "stream",
          "name": "stdout",
          "text": [
            "/content/gdrive/My Drive/Colab Notebooks/census_privacy\n"
          ]
        }
      ]
    },
    {
      "cell_type": "markdown",
      "metadata": {
        "id": "5pW1iwCbktS1"
      },
      "source": [
        "####**Data distribution**"
      ]
    },
    {
      "cell_type": "code",
      "metadata": {
        "id": "qXqTcKA_lRod"
      },
      "source": [
        "def blk_to_bg(hist1):\n",
        "\tcol_names = hist1.columns.to_numpy()\n",
        "\thist1_bg = hist1.groupby(hist1.index.astype(str).str[:12]).sum()\n",
        "\thist1_bg.index.name = 'BG'\n",
        "\treturn hist1_bg\n",
        "\n",
        "def blk_to_tr(hist1):\n",
        "\tcol_names = hist1.columns.to_numpy()\n",
        "\thist1_tr = hist1.groupby(hist1.index.astype(str).str[:11]).sum()\n",
        "\thist1_tr.index.name = 'TRACT'\n",
        "\treturn hist1_tr"
      ],
      "execution_count": 4,
      "outputs": []
    },
    {
      "cell_type": "markdown",
      "metadata": {
        "id": "-DmRktM-lSX1"
      },
      "source": [
        "Franklin"
      ]
    },
    {
      "cell_type": "code",
      "metadata": {
        "colab": {
          "base_uri": "https://localhost:8080/"
        },
        "id": "zCSXQgD8tspn",
        "outputId": "d599ab9a-522a-49be-85f4-24a282ab612a"
      },
      "source": [
        "unique_detail = (hist1_detail == 1).sum(axis=1)\n",
        "unique_va_race = (hist1_va_race == 1).sum(axis=1)\n",
        "unique_race = (hist1_race == 1).sum(axis=1)\n",
        "print((unique_detail != 0).sum(), (unique_va_race != 0).sum(), (unique_race != 0).sum())\n",
        "\n",
        "hist1_detail_bg, hist1_va_race_bg, hist1_race_bg = blk_to_bg(hist1_detail), blk_to_bg(hist1_va_race), blk_to_bg(hist1_race)\n",
        "unique_detail_bg = (hist1_detail_bg == 1).sum(axis=1)\n",
        "unique_va_race_bg = (hist1_va_race_bg == 1).sum(axis=1)\n",
        "unique_race_bg = (hist1_race_bg == 1).sum(axis=1)\n",
        "print((unique_detail_bg != 0).sum(), (unique_va_race_bg != 0).sum(), (unique_race_bg != 0).sum())\n",
        "\n",
        "hist1_detail_tr, hist1_va_race_tr, hist1_race_tr = blk_to_tr(hist1_detail), blk_to_tr(hist1_va_race), blk_to_tr(hist1_race)\n",
        "unique_detail_tr = (hist1_detail_tr == 1).sum(axis=1)\n",
        "unique_va_race_tr = (hist1_va_race_tr == 1).sum(axis=1)\n",
        "unique_race_tr = (hist1_race_tr == 1).sum(axis=1)\n",
        "print((unique_detail_tr != 0).sum(), (unique_va_race_tr != 0).sum(), (unique_race_tr != 0).sum())"
      ],
      "execution_count": 16,
      "outputs": [
        {
          "output_type": "stream",
          "name": "stdout",
          "text": [
            "9291 8332 5562\n",
            "871 829 350\n",
            "282 275 80\n"
          ]
        }
      ]
    },
    {
      "cell_type": "code",
      "metadata": {
        "colab": {
          "base_uri": "https://localhost:8080/"
        },
        "id": "jyrtawU1kyvD",
        "outputId": "ae79e138-115d-46f9-c97b-3f9bf9c38267"
      },
      "source": [
        "# block\n",
        "print(hist1_detail[hist1_detail>0].stack().value_counts(normalize=True)[1.0], \n",
        "      hist1_va_race[hist1_va_race>0].stack().value_counts(normalize=True)[1.0], \n",
        "      hist1_race[hist1_race>0].stack().value_counts(normalize=True)[1.0])\n",
        "\n",
        "# block group\n",
        "hist1_detail_bg, hist1_va_race_bg, hist1_race_bg = blk_to_bg(hist1_detail), blk_to_bg(hist1_va_race), blk_to_bg(hist1_race)\n",
        "print(hist1_detail_bg[hist1_detail_bg>0].stack().value_counts(normalize=True)[1.0], \n",
        "      hist1_va_race_bg[hist1_va_race_bg>0].stack().value_counts(normalize=True)[1.0], \n",
        "      hist1_race_bg[hist1_race_bg>0].stack().value_counts(normalize=True)[1.0])\n",
        "\n",
        "# tract\n",
        "hist1_detail_tr, hist1_va_race_tr, hist1_race_tr = blk_to_tr(hist1_detail), blk_to_tr(hist1_va_race), blk_to_tr(hist1_race)\n",
        "print(hist1_detail_tr[hist1_detail_tr>0].stack().value_counts(normalize=True)[1.0], \n",
        "      hist1_va_race_tr[hist1_va_race_tr>0].stack().value_counts(normalize=True)[1.0], \n",
        "      hist1_race_tr[hist1_race_tr>0].stack().value_counts(normalize=True)[1.0])"
      ],
      "execution_count": null,
      "outputs": [
        {
          "output_type": "stream",
          "name": "stdout",
          "text": [
            "0.2272588480222068 0.2021138312029959 0.17601635248694072\n",
            "0.23950019625801386 0.21571262205500313 0.07847235417062512\n",
            "0.220159869936323 0.2069790628115653 0.04479222881813276\n"
          ]
        }
      ]
    },
    {
      "cell_type": "markdown",
      "metadata": {
        "id": "lyp8JJ7koitd"
      },
      "source": [
        "Guernsey"
      ]
    },
    {
      "cell_type": "code",
      "metadata": {
        "colab": {
          "base_uri": "https://localhost:8080/"
        },
        "id": "t3L065yJl9A7",
        "outputId": "65563e95-f27f-4829-dc0a-12024d245aa1"
      },
      "source": [
        "# block\n",
        "print(hist1_detail_g[hist1_detail_g>0].stack().value_counts(normalize=True)[1.0], \n",
        "      hist1_va_race_g[hist1_va_race_g>0].stack().value_counts(normalize=True)[1.0], \n",
        "      hist1_race_g[hist1_race_g>0].stack().value_counts(normalize=True)[1.0])\n",
        "\n",
        "# block group\n",
        "hist1_detail_bg_g, hist1_va_race_bg_g, hist1_race_bg_g = blk_to_bg(hist1_detail_g), blk_to_bg(hist1_va_race_g), blk_to_bg(hist1_race_g)\n",
        "print(hist1_detail_bg_g[hist1_detail_bg_g>0].stack().value_counts(normalize=True)[1.0], \n",
        "      hist1_va_race_bg_g[hist1_va_race_bg_g>0].stack().value_counts(normalize=True)[1.0], \n",
        "      hist1_race_bg_g[hist1_race_bg_g>0].stack().value_counts(normalize=True)[1.0])\n",
        "\n",
        "# tract\n",
        "hist1_detail_tr_g, hist1_va_race_tr_g, hist1_race_tr_g = blk_to_tr(hist1_detail_g), blk_to_tr(hist1_va_race_g), blk_to_tr(hist1_race_g)\n",
        "print(hist1_detail_tr_g[hist1_detail_tr_g>0].stack().value_counts(normalize=True)[1.0], \n",
        "      hist1_va_race_tr_g[hist1_va_race_tr_g>0].stack().value_counts(normalize=True)[1.0], \n",
        "      hist1_race_tr_g[hist1_race_tr_g>0].stack().value_counts(normalize=True)[1.0])"
      ],
      "execution_count": null,
      "outputs": [
        {
          "output_type": "stream",
          "name": "stdout",
          "text": [
            "0.19200538962497193 0.17760259680037097 0.1492204899777283\n",
            "0.3221476510067114 0.3039772727272727 0.16326530612244897\n",
            "0.2767857142857143 0.2608695652173913 0.06060606060606061\n"
          ]
        }
      ]
    },
    {
      "cell_type": "code",
      "metadata": {
        "id": "l1aTeURDk1R5"
      },
      "source": [
        "hist1_detail_g[hist1_detail_g>0].stack().value_counts(normalize=True), hist1_va_race_g[hist1_va_race_g>0].stack().value_counts(normalize=True), hist1_race_g[hist1_race_g>0].stack().value_counts(normalize=True)"
      ],
      "execution_count": null,
      "outputs": []
    },
    {
      "cell_type": "markdown",
      "metadata": {
        "id": "fpO_TqoLYDJ8"
      },
      "source": [
        "####**Spatial reidentification risks**\n",
        "> Some simulations to demonstrate how geographic scales affect the probability of finding a true unique. Two aspects of spatial scales are examined here: resolution and extent.\n",
        "\n",
        "> We test the probability of finding a true unique at block, block group, and tract levels. We make comparisons among (1) our results, (2) NHGIS data from the 2021-06-08 vintage of the PPMF, and (3) the OLS estimators.\n",
        "\n"
      ]
    },
    {
      "cell_type": "markdown",
      "metadata": {
        "id": "3XuguTyHvd0R"
      },
      "source": [
        "Group 1: Franklin County, my data"
      ]
    },
    {
      "cell_type": "code",
      "metadata": {
        "colab": {
          "base_uri": "https://localhost:8080/"
        },
        "id": "uELpCq3krNuk",
        "outputId": "f7e6df66-53a3-4a2b-a47d-5cda9aaa8581"
      },
      "source": [
        "%cd \"/content/gdrive/My Drive/Colab Notebooks/census_privacy\"\n",
        "from lib.uniques import *\n",
        "\n",
        "## QID 1: HHGQ ∗ VA ∗ HISP ∗ RACE  (2016 cells)\n",
        "ppv_detail_blk, ppv_detail_bg, ppv_detail_tr, tpr_detail_blk, tpr_detail_bg, tpr_detail_tr = reid_risk(hist1_detail, hist2_detail)\n",
        "\n",
        "## QID 2: VA * RACE (126 cells)\n",
        "ppv_va_race_blk, ppv_va_race_bg, ppv_va_race_tr, tpr_va_race_blk, tpr_va_race_bg, tpr_va_race_tr = reid_risk(hist1_va_race, hist2_va_race) \n",
        "\n",
        "## QID 3: Race (7 cells)\n",
        "ppv_race_blk, ppv_race_bg, ppv_race_tr, tpr_race_blk, tpr_race_bg, tpr_race_tr = reid_risk(hist1_race, hist2_race)\n",
        "\n",
        "print(ppv_detail_blk, ppv_detail_bg, ppv_detail_tr, tpr_detail_blk, tpr_detail_bg, tpr_detail_tr)\n",
        "print(ppv_va_race_blk, ppv_va_race_bg, ppv_va_race_tr, tpr_va_race_blk, tpr_va_race_bg, tpr_va_race_tr)\n",
        "print(ppv_race_blk, ppv_race_bg, ppv_race_tr, tpr_race_blk, tpr_race_bg, tpr_race_tr)"
      ],
      "execution_count": null,
      "outputs": [
        {
          "output_type": "stream",
          "name": "stdout",
          "text": [
            "/content/gdrive/My Drive/Colab Notebooks/census_privacy\n",
            "156 16374 3962\n",
            "119 3661 1010\n",
            "48 1625 445\n",
            "161 13061 3239\n",
            "63 2408 575\n",
            "31 1038 229\n",
            "131 6975 2234\n",
            "16 413 145\n",
            "6 83 24\n",
            "0.03937405350832913 0.11782178217821782 0.10786516853932585 0.009527299377061194 0.032504780114722756 0.029538461538461538\n",
            "0.04970669959864155 0.10956521739130434 0.13537117903930132 0.012326774366434423 0.02616279069767442 0.029865125240847785\n",
            "0.05863921217547001 0.1103448275862069 0.25 0.01878136200716846 0.0387409200968523 0.07228915662650602\n"
          ]
        }
      ]
    },
    {
      "cell_type": "markdown",
      "metadata": {
        "id": "EksTgJrpyq7z"
      },
      "source": [
        "Group 2: Franklin County, OLS\n",
        "\n",
        "> Let $A_i$ = {cell = $i$ before noise injection}, and the noise be $W\\sim N(0,\\sigma^2)$. A true unique (TU) is a cell = 1 before and after noise injection. The probability of finding a true unique can be defined using the Bayes' theorem:\n",
        "\n",
        "> $p(TU)=\\frac{p(W=0)p(A_1)}{\\sum_ip(W=1-i)p(A_i)}$\n",
        "\n",
        "\n",
        "> $p(TU)$ is large if (i) the histogram is dominantly \"unique\", (ii) non-unique cells have relatively large values, and/or (iii) the privacy budget is large."
      ]
    },
    {
      "cell_type": "code",
      "metadata": {
        "id": "8dgv8YF-RiME",
        "colab": {
          "base_uri": "https://localhost:8080/"
        },
        "outputId": "f76ed0d5-be4b-4347-d482-c51d89b76115"
      },
      "source": [
        "%cd \"/content/gdrive/My Drive/Colab Notebooks/census_privacy\"\n",
        "from lib.topdown_ols import *\n",
        "from lib.uniques import *\n",
        "import math\n",
        "\n",
        "eps = 17.14\n",
        "delta = 1e-10\n",
        "rho = 1.60 * 4099 / 2555 \n",
        "# rho = cdp2adp.cdp_rho(eps, delta)\n",
        "\n",
        "## QID 1:  HHGQ ∗ VA ∗ HISP ∗ RACE  (2016 cells)\n",
        "W_detail = workload_mtx_detail()\n",
        "ppv_detail_ols_blk, ppv_detail_ols_bg, ppv_detail_ols_tr, tpr_detail_ols = reid_risk_ols(rho, hist1_detail, W_detail)\n",
        "\n",
        "## QID 2: VA * RACE (126 cells)\n",
        "W_va_race = workload_mtx_va_race()\n",
        "ppv_va_race_ols_blk, ppv_va_race_ols_bg, ppv_va_race_ols_tr, tpr_va_race_ols = reid_risk_ols(rho, hist1_va_race, W_va_race)\n",
        "\n",
        "## QID 3: Race (7 cells)\n",
        "W_race = workload_mtx_race()\n",
        "ppv_race_ols_blk, ppv_race_ols_bg, ppv_race_ols_tr, tpr_race_ols = reid_risk_ols(rho, hist1_race, W_race)\n",
        "\n",
        "print(ppv_detail_ols_blk, ppv_detail_ols_bg, ppv_detail_ols_tr, tpr_detail_ols)\n",
        "print(ppv_va_race_ols_blk, ppv_va_race_ols_bg, ppv_va_race_ols_tr, tpr_va_race_ols)\n",
        "print(ppv_race_ols_blk, ppv_race_ols_bg, ppv_race_ols_tr, tpr_race_ols)"
      ],
      "execution_count": null,
      "outputs": [
        {
          "output_type": "stream",
          "name": "stdout",
          "text": [
            "/content/gdrive/My Drive/Colab Notebooks/census_privacy\n",
            "(1, 2016) (63, 2016) (2, 2016) (2, 2016) (8, 2016) (126, 2016) (126, 2016) (4, 2016) (252, 2016) (2016, 2016) (2600, 2016)\n",
            "(1, 2016) (63, 2016) (2, 2016) (2, 2016) (8, 2016) (126, 2016) (126, 2016) (4, 2016) (252, 2016) (2016, 2016) (2600, 2016)\n",
            "(1, 2016) (63, 2016) (2, 2016) (2, 2016) (8, 2016) (126, 2016) (126, 2016) (4, 2016) (252, 2016) (2016, 2016) (2600, 2016)\n",
            "(1, 2016) (63, 2016) (2, 2016) (2, 2016) (8, 2016) (126, 2016) (126, 2016) (4, 2016) (252, 2016) (2016, 2016) (2600, 2016)\n",
            "(1, 2016) (63, 2016) (2, 2016) (2, 2016) (8, 2016) (126, 2016) (126, 2016) (4, 2016) (252, 2016) (2016, 2016) (2600, 2016)\n",
            "(1, 2016) (63, 2016) (2, 2016) (2, 2016) (8, 2016) (126, 2016) (126, 2016) (4, 2016) (252, 2016) (2016, 2016) (2600, 2016)\n",
            "(1, 2016) (63, 2016) (2, 2016) (2, 2016) (8, 2016) (126, 2016) (126, 2016) (4, 2016) (252, 2016) (2016, 2016) (2600, 2016)\n",
            "(1, 2016) (63, 2016) (2, 2016) (2, 2016) (8, 2016) (126, 2016) (126, 2016) (4, 2016) (252, 2016) (2016, 2016) (2600, 2016)\n",
            "(1, 2016) (63, 2016) (2, 2016) (2, 2016) (8, 2016) (126, 2016) (126, 2016) (4, 2016) (252, 2016) (2016, 2016) (2600, 2016)\n",
            "0.00037475105657439024 0.0021758079950692745 0.003016517984016275 0.38292492254802624\n",
            "0.0045925519793511265 0.024114532314920768 0.03322690114707197 0.38292492254802624\n",
            "0.04810574751454912 0.20003655579817228 0.2435184398000014 0.38292492254802624\n"
          ]
        }
      ]
    },
    {
      "cell_type": "code",
      "metadata": {
        "colab": {
          "base_uri": "https://localhost:8080/"
        },
        "id": "nrtnxfXf8XR5",
        "outputId": "8f0e1160-5eff-4464-c591-23f9f14e07da"
      },
      "source": [
        "%cd \"/content/gdrive/My Drive/Colab Notebooks/census_privacy\"\n",
        "from scipy.stats import norm\n",
        "import math\n",
        "import numpy as np\n",
        "from lib.topdown_ols import *\n",
        "from lib.uniques import *\n",
        "\n",
        "rho = 100 * 4099 / 2555 \n",
        "f1, f2, f3, f4, f6, f7, f8, f9, f10, f11 = 165/4099*5/4097, 165/4099*9/4097, 165/4099*5/4097, 165/4099*5/4097, 165/4099*5/4097, 165/4099*21/4097, 165/4099*21/4097, 165/4099*5/4097, 165/4099*71/4097, 165/4099*3945/4097\n",
        "A = strategy_mtx(rho, f1, f2, f3, f4, f6, f7, f8, f9, f10, f11)\n",
        "\n",
        "## QID 1: HHGQ ∗ VA ∗ HISP ∗ RACE  (2016 cells)\n",
        "W_detail = workload_mtx_detail()\n",
        "var = (W_detail @ np.linalg.inv(A.T @ A) @ W_detail.T)[0, 0]\n",
        "sigma = math.sqrt(var)\n",
        "print(norm.cdf(0.5, 0, sigma) - norm.cdf(-0.5, 0, sigma))\n",
        "\n",
        "## QID 2: VA * RACE (126 cells)\n",
        "W_va_race = workload_mtx_va_race()\n",
        "var = (W_va_race @ np.linalg.inv(A.T @ A) @ W_va_race.T)[0, 0]\n",
        "sigma = math.sqrt(var)\n",
        "print(norm.cdf(0.5, 0, sigma) - norm.cdf(-0.5, 0, sigma))\n",
        "\n",
        "## QID 3: Race (7 cells)\n",
        "W_race = workload_mtx_race()\n",
        "var = (W_race @ np.linalg.inv(A.T @ A) @ W_race.T)[0, 0]\n",
        "sigma = math.sqrt(var)\n",
        "print(norm.cdf(0.5, 0, sigma) - norm.cdf(-0.5, 0, sigma))"
      ],
      "execution_count": null,
      "outputs": [
        {
          "output_type": "stream",
          "name": "stdout",
          "text": [
            "/content/gdrive/My Drive/Colab Notebooks/census_privacy\n",
            "(1, 2016) (63, 2016) (2, 2016) (2, 2016) (8, 2016) (126, 2016) (126, 2016) (4, 2016) (252, 2016) (2016, 2016) (2600, 2016)\n",
            "0.7935532092818325\n",
            "0.27947201184512194\n",
            "0.20598629591771656\n"
          ]
        }
      ]
    },
    {
      "cell_type": "markdown",
      "metadata": {
        "id": "rrLZJdo9XIAS"
      },
      "source": [
        "Group 3: Guernsey County, my data"
      ]
    },
    {
      "cell_type": "code",
      "metadata": {
        "colab": {
          "base_uri": "https://localhost:8080/"
        },
        "id": "6sNISetOXIAT",
        "outputId": "fd8c8846-e772-48ce-f91e-2cbe9c2f16de"
      },
      "source": [
        "%cd \"/content/gdrive/My Drive/Colab Notebooks/census_privacy\"\n",
        "from lib.uniques import *\n",
        "\n",
        "## QID 1: HHGQ ∗ VA ∗ HISP ∗ RACE  (2016 cells)\n",
        "ppv_detail_blk_g, ppv_detail_bg_g, ppv_detail_tr_g, tpr_detail_blk_g, tpr_detail_bg_g, tpr_detail_tr_g = reid_risk(hist1_detail_g, hist2_detail_g)\n",
        "\n",
        "## QID 2: VA * RACE (126 cells)\n",
        "ppv_va_race_blk_g, ppv_va_race_bg_g, ppv_va_race_tr_g, tpr_va_race_blk_g, tpr_va_race_bg_g, tpr_va_race_tr_g = reid_risk(hist1_va_race_g, hist2_va_race_g) \n",
        "\n",
        "## QID 3: Race (7 cells)\n",
        "ppv_race_blk_g, ppv_race_bg_g, ppv_race_tr_g, tpr_race_blk_g, tpr_race_bg_g, tpr_race_tr_g = reid_risk(hist1_race_g, hist2_race_g)\n",
        "\n",
        "print(ppv_detail_blk_g, ppv_detail_bg_g, ppv_detail_tr_g, tpr_detail_blk_g, tpr_detail_bg_g, tpr_detail_tr_g)\n",
        "print(ppv_va_race_blk_g, ppv_va_race_bg_g, ppv_va_race_tr_g, tpr_va_race_blk_g, tpr_va_race_bg_g, tpr_va_race_tr_g)\n",
        "print(ppv_race_blk_g, ppv_race_bg_g, ppv_race_tr_g, tpr_race_blk_g, tpr_race_bg_g, tpr_race_tr_g)"
      ],
      "execution_count": null,
      "outputs": [
        {
          "output_type": "stream",
          "name": "stdout",
          "text": [
            "/content/gdrive/My Drive/Colab Notebooks/census_privacy\n",
            "33 855 1109\n",
            "43 144 164\n",
            "14 62 66\n",
            "35 766 970\n",
            "35 107 125\n",
            "6 42 47\n",
            "16 402 603\n",
            "18 32 35\n",
            "0 4 2\n",
            "0.029756537421100092 0.2621951219512195 0.21212121212121213 0.03859649122807018 0.2986111111111111 0.22580645161290322\n",
            "0.03608247422680412 0.28 0.1276595744680851 0.04569190600522193 0.32710280373831774 0.14285714285714285\n",
            "0.026533996683250415 0.5142857142857142 0 0.03980099502487562 0.5625 0\n"
          ]
        }
      ]
    },
    {
      "cell_type": "markdown",
      "metadata": {
        "id": "bsU7zgaZYIAf"
      },
      "source": [
        "Group 4: Guernsey County, OLS"
      ]
    },
    {
      "cell_type": "code",
      "metadata": {
        "colab": {
          "base_uri": "https://localhost:8080/"
        },
        "id": "75IihwMAYIAg",
        "outputId": "8f3daee8-432e-4ffa-ebff-5f5d3a41d9ae"
      },
      "source": [
        "%cd \"/content/gdrive/My Drive/Colab Notebooks/census_privacy\"\n",
        "from lib.topdown_ols import *\n",
        "from lib.uniques import *\n",
        "import math\n",
        "\n",
        "eps = 17.14\n",
        "delta = 1e-10\n",
        "rho = 100 * 4099 / 2555 \n",
        "# rho = cdp2adp.cdp_rho(eps, delta)\n",
        "\n",
        "## QID 1: HHGQ ∗ VA ∗ HISP ∗ RACE  (2016 cells)\n",
        "W_detail = workload_mtx_detail()\n",
        "ppv_detail_ols_blk_g, ppv_detail_ols_bg_g, ppv_detail_ols_tr_g, tpr_detail_ols_g = reid_risk_ols(rho, hist1_detail_g, W_detail)\n",
        "\n",
        "## QID 2: VA * RACE (126 cells)\n",
        "W_va_race = workload_mtx_va_race()\n",
        "ppv_va_race_ols_blk_g, ppv_va_race_ols_bg_g, ppv_va_race_ols_tr_g, tpr_va_race_ols_g = reid_risk_ols(rho, hist1_va_race_g, W_va_race)\n",
        "\n",
        "## QID 3: Race (7 cells)\n",
        "W_race = workload_mtx_race()\n",
        "ppv_race_ols_blk_g, ppv_race_ols_bg_g, ppv_race_ols_tr_g, tpr_race_ols_g = reid_risk_ols(rho, hist1_race_g, W_race)\n",
        "\n",
        "print(ppv_detail_ols_blk_g, ppv_detail_ols_bg_g, ppv_detail_ols_tr_g, tpr_detail_ols_g)\n",
        "print(ppv_va_race_ols_blk_g, ppv_va_race_ols_bg_g, ppv_va_race_ols_tr_g, tpr_va_race_ols_g)\n",
        "print(ppv_race_ols_blk_g, ppv_race_ols_bg_g, ppv_race_ols_tr_g, tpr_race_ols_g)"
      ],
      "execution_count": null,
      "outputs": [
        {
          "output_type": "stream",
          "name": "stdout",
          "text": [
            "/content/gdrive/My Drive/Colab Notebooks/census_privacy\n",
            "(1, 2016) (63, 2016) (2, 2016) (2, 2016) (8, 2016) (126, 2016) (126, 2016) (4, 2016) (252, 2016) (2016, 2016) (2600, 2016)\n",
            "(1, 2016) (63, 2016) (2, 2016) (2, 2016) (8, 2016) (126, 2016) (126, 2016) (4, 2016) (252, 2016) (2016, 2016) (2600, 2016)\n",
            "(1, 2016) (63, 2016) (2, 2016) (2, 2016) (8, 2016) (126, 2016) (126, 2016) (4, 2016) (252, 2016) (2016, 2016) (2600, 2016)\n",
            "(1, 2016) (63, 2016) (2, 2016) (2, 2016) (8, 2016) (126, 2016) (126, 2016) (4, 2016) (252, 2016) (2016, 2016) (2600, 2016)\n",
            "(1, 2016) (63, 2016) (2, 2016) (2, 2016) (8, 2016) (126, 2016) (126, 2016) (4, 2016) (252, 2016) (2016, 2016) (2600, 2016)\n",
            "(1, 2016) (63, 2016) (2, 2016) (2, 2016) (8, 2016) (126, 2016) (126, 2016) (4, 2016) (252, 2016) (2016, 2016) (2600, 2016)\n",
            "(1, 2016) (63, 2016) (2, 2016) (2, 2016) (8, 2016) (126, 2016) (126, 2016) (4, 2016) (252, 2016) (2016, 2016) (2600, 2016)\n",
            "(1, 2016) (63, 2016) (2, 2016) (2, 2016) (8, 2016) (126, 2016) (126, 2016) (4, 2016) (252, 2016) (2016, 2016) (2600, 2016)\n",
            "(1, 2016) (63, 2016) (2, 2016) (2, 2016) (8, 2016) (126, 2016) (126, 2016) (4, 2016) (252, 2016) (2016, 2016) (2600, 2016)\n",
            "0.002733312093522021 0.06614183488028995 0.08394717392546776 0.38292492254802624\n",
            "0.0020940748546367056 0.47279524908246623 0.5270656987135994 0.38292492254802624\n",
            "0.01869800406760322 0.9340499102101683 0.9516226611583839 0.38292492254802624\n"
          ]
        }
      ]
    },
    {
      "cell_type": "code",
      "metadata": {
        "colab": {
          "base_uri": "https://localhost:8080/"
        },
        "id": "B8PPikpi5gLs",
        "outputId": "10126a59-f584-4503-cb92-5530bbbd5a2d"
      },
      "source": [
        "%cd \"/content/gdrive/My Drive/Colab Notebooks/census_privacy\"\n",
        "from scipy.stats import norm\n",
        "import math\n",
        "import numpy as np\n",
        "from lib.topdown_ols import *\n",
        "from lib.uniques import *\n",
        "\n",
        "rho = 0.01 * 4099 / 2555 \n",
        "f1, f2, f3, f4, f6, f7, f8, f9, f10, f11 = 165/4099*5/4097, 165/4099*9/4097, 165/4099*5/4097, 165/4099*5/4097, 165/4099*5/4097, 165/4099*21/4097, 165/4099*21/4097, 165/4099*5/4097, 165/4099*71/4097, 165/4099*3945/4097\n",
        "A = strategy_mtx(rho, f1, f2, f3, f4, f6, f7, f8, f9, f10, f11)\n",
        "\n",
        "## QID 1: HHGQ ∗ VA ∗ HISP ∗ RACE  (2016 cells)\n",
        "W_detail = workload_mtx_detail()\n",
        "var = (W_detail @ np.linalg.inv(A.T @ A) @ W_detail.T)[0, 0]\n",
        "sigma = math.sqrt(var)\n",
        "print(norm.cdf(0.5, 0, sigma) - norm.cdf(-0.5, 0, sigma))\n",
        "\n",
        "## QID 2: VA * RACE (126 cells)\n",
        "W_va_race = workload_mtx_va_race()\n",
        "var = (W_va_race @ np.linalg.inv(A.T @ A) @ W_va_race.T)[0, 0]\n",
        "sigma = math.sqrt(var)\n",
        "print(norm.cdf(0.5, 0, sigma) - norm.cdf(-0.5, 0, sigma))\n",
        "\n",
        "## QID 3: Race (7 cells)\n",
        "W_race = workload_mtx_race()\n",
        "var = (W_race @ np.linalg.inv(A.T @ A) @ W_race.T)[0, 0]\n",
        "sigma = math.sqrt(var)\n",
        "print(norm.cdf(0.5, 0, sigma) - norm.cdf(-0.5, 0, sigma))"
      ],
      "execution_count": null,
      "outputs": [
        {
          "output_type": "stream",
          "name": "stdout",
          "text": [
            "/content/gdrive/My Drive/Colab Notebooks/census_privacy\n",
            "(1, 2016) (63, 2016) (2, 2016) (2, 2016) (8, 2016) (126, 2016) (126, 2016) (4, 2016) (252, 2016) (2016, 2016) (2600, 2016)\n",
            "0.010080173769149658\n",
            "0.002854439303653422\n",
            "0.002083272308651074\n"
          ]
        }
      ]
    },
    {
      "cell_type": "code",
      "metadata": {
        "colab": {
          "base_uri": "https://localhost:8080/",
          "height": 452
        },
        "id": "BTY9Ee4I0ZEf",
        "outputId": "daae1948-769b-4a5c-e02d-e123e0d4448f"
      },
      "source": [
        "import matplotlib.pyplot as plt\n",
        "import matplotlib.style as style\n",
        "\n",
        "# style.use('seaborn-white')\n",
        "\n",
        "labels = ['Block', 'Block Group', 'Tract']\n",
        "x = np.arange(len(labels))  # the label locations\n",
        "width = 0.3 # the width of the bars\n",
        "fig, ax = plt.subplots(nrows=1, ncols=2, sharex=True, sharey=True)\n",
        "\n",
        "## franklin\n",
        "## Constraint\n",
        "ppv_1 = [ppv_detail_blk, ppv_detail_bg, ppv_detail_tr]\n",
        "ppv_2 = [ppv_va_race_blk, ppv_va_race_bg, ppv_va_race_tr]\n",
        "ppv_3 = [ppv_race_blk, ppv_race_bg, ppv_race_tr]\n",
        "\n",
        "rects1 = ax[0].bar(x - width, ppv_1, width, label='HHGQ ∗ VA ∗ HISP ∗ RACE, Constraint', color='white', edgecolor='black')\n",
        "rects2 = ax[0].bar(x, ppv_2, width, label='VA ∗ RACE, Constraint', color='white', edgecolor='black', hatch=\"x\")\n",
        "rects3 = ax[0].bar(x + width, ppv_3, width, label='RACE*, Constraint', color='white', edgecolor='black', hatch=\".\")\n",
        "ax[0].set_title('Franklin')\n",
        "ax[0].set_ylabel('ppv')\n",
        "ax[0].set_xticks(x)\n",
        "ax[0].set_xticklabels(labels)\n",
        "\n",
        "## Unconstraint\n",
        "ppv_1 = [ppv_detail_ols_blk, ppv_detail_ols_bg, ppv_detail_ols_tr]\n",
        "ppv_2 = [ppv_va_race_ols_blk, ppv_va_race_ols_bg, ppv_va_race_ols_tr]\n",
        "ppv_3 = [ppv_race_ols_blk, ppv_race_ols_bg, ppv_race_ols_tr]\n",
        "ax[0].scatter(x - width, ppv_1, marker='^', zorder=2, label='HHGQ ∗ VA ∗ HISP ∗ RACE, Unconstraint')\n",
        "ax[0].scatter(x, ppv_2, marker='o', zorder=2, label='VA ∗ RACE, Unconstraint')\n",
        "ax[0].scatter(x + width, ppv_3, marker='X', zorder=2, label='RACE*, Unconstraint')\n",
        "\n",
        "\n",
        "## guernsey\n",
        "## Constraint\n",
        "ppv_1 = [ppv_detail_blk_g, ppv_detail_bg_g, ppv_detail_tr_g]\n",
        "ppv_2 = [ppv_va_race_blk_g, ppv_va_race_bg_g, ppv_va_race_tr_g]\n",
        "ppv_3 = [ppv_race_blk_g, ppv_race_bg_g, ppv_race_tr_g]\n",
        "\n",
        "rects1 = ax[1].bar(x - width, ppv_1, width, label='HHGQ ∗ VA ∗ HISP ∗ RACE, Constraint', color='white', edgecolor='black')\n",
        "rects2 = ax[1].bar(x, ppv_2, width, label='VA ∗ RACE, Constraint', color='white', edgecolor='black', hatch=\"x\")\n",
        "rects3 = ax[1].bar(x + width, ppv_3, width, label='RACE*, Constraint', color='white', edgecolor='black', hatch=\".\")\n",
        "ax[1].set_title('Guernsey')\n",
        "ax[1].set_ylabel('ppv')\n",
        "ax[1].set_xticks(x)\n",
        "ax[1].set_xticklabels(labels)\n",
        "\n",
        "## Unconstraint\n",
        "ppv_1 = [ppv_detail_ols_blk_g, ppv_detail_ols_bg_g, ppv_detail_ols_tr_g]\n",
        "ppv_2 = [ppv_va_race_ols_blk_g, ppv_va_race_ols_bg_g, ppv_va_race_ols_tr_g]\n",
        "ppv_3 = [ppv_race_ols_blk_g, ppv_race_ols_bg_g, ppv_race_ols_tr_g]\n",
        "ax[1].scatter(x - width, ppv_1, marker='^', zorder=2, label='HHGQ ∗ VA ∗ HISP ∗ RACE, Unconstraint')\n",
        "ax[1].scatter(x, ppv_2, marker='o', zorder=2, label='VA ∗ RACE, Unconstraint')\n",
        "ax[1].scatter(x + width, ppv_3, marker='X', zorder=2, label='RACE*, Unconstraint')\n",
        "\n",
        "lines, labels = fig.axes[0].get_legend_handles_labels()\n",
        "fig.legend(lines, labels, loc=5, bbox_to_anchor=(1.5, 0.5))\n",
        "# fig.set_figwidth(12)\n",
        "plt.show()\n",
        "plt.close()"
      ],
      "execution_count": null,
      "outputs": [
        {
          "output_type": "display_data",
          "data": {
            "image/png": "[encoded data removed]",
            "text/plain": [
              "<Figure size 640x480 with 2 Axes>"
            ]
          },
          "metadata": {}
        }
      ]
    },
    {
      "cell_type": "markdown",
      "metadata": {
        "id": "7bnX9BpAvnPQ"
      },
      "source": [
        "Group 5*: Franklin County, NHGIS data (2021-06-08)"
      ]
    },
    {
      "cell_type": "code",
      "metadata": {
        "colab": {
          "base_uri": "https://localhost:8080/"
        },
        "id": "GWO22mF4vrB8",
        "outputId": "7d87e2fc-da75-4a4d-c7bd-aeb0600d4ab6"
      },
      "source": [
        "%cd \"/content/gdrive/My Drive/Colab Notebooks/census_privacy\"\n",
        "import pandas as pd\n",
        "\n",
        "## block\n",
        "filename_nhgis = 'data/nhgis/nhgis_ppdd_20210608_block_OH.csv'\n",
        "data_nhgis = pd.read_csv(filename_nhgis, encoding = \"ISO-8859-1\")\n",
        "data_nhgis[\"STATE\"] = data_nhgis[\"gisjoin\"].str.slice(1, 3)\n",
        "data_nhgis['COUNTY'] = data_nhgis[\"gisjoin\"].str.slice(4, 7)\n",
        "data_nhgis = data_nhgis[(data_nhgis[\"STATE\"] == '39') & (data_nhgis[\"COUNTY\"] == '049')]\n",
        "hist1_nhgis_blk = data_nhgis[['H72003_sf', 'H72004_sf', 'H72005_sf', 'H72006_sf', 'H72007_sf', 'H72008_sf', 'H72009_sf']]\n",
        "hist1_nhgis_blk = hist1_nhgis_blk.rename(columns={'H72003_sf': '1', 'H72004_sf': '2', 'H72005_sf': '3', 'H72006_sf': '4', \n",
        "                                                  'H72007_sf': '5', 'H72008_sf': '6', 'H72009_sf': '7'})\n",
        "hist2_nhgis_blk = data_nhgis[['H72003_dp', 'H72004_dp', 'H72005_dp', 'H72006_dp', 'H72007_dp', 'H72008_dp', 'H72009_dp']]\n",
        "hist2_nhgis_blk = hist2_nhgis_blk.rename(columns={'H72003_dp': '1', 'H72004_dp': '2', 'H72005_dp': '3', 'H72006_dp': '4', \n",
        "                                                  'H72007_dp': '5', 'H72008_dp': '6', 'H72009_dp': '7'})\n",
        "\n",
        "tu = (hist1_nhgis_blk == hist2_nhgis_blk) & (hist1_nhgis_blk == 1) & (hist2_nhgis_blk == 1) # find a true unique\n",
        "n_tu = np.unique(tu.values, return_counts=True)[1][1]\n",
        "u = hist2_nhgis_blk == 1    # uniques after noise injection\n",
        "n_u = np.unique(u.values, return_counts=True)[1][1]\n",
        "ppv_race_nhgis_blk = n_tu / n_u # frequency of finding the true uniques\n",
        "\n",
        "## block group\n",
        "filename_nhgis = 'data/nhgis/nhgis_ppdd_20210608_blck_grp.csv'\n",
        "data_nhgis = pd.read_csv(filename_nhgis, encoding = \"ISO-8859-1\")\n",
        "data_nhgis[\"STATE\"] = data_nhgis[\"gisjoin\"].str.slice(1, 3)\n",
        "data_nhgis['COUNTY'] = data_nhgis[\"gisjoin\"].str.slice(4, 7)\n",
        "data_nhgis = data_nhgis[(data_nhgis[\"STATE\"] == '39') & (data_nhgis[\"COUNTY\"] == '049')]\n",
        "hist1_nhgis_bg = data_nhgis[['H72003_sf', 'H72004_sf', 'H72005_sf', 'H72006_sf', 'H72007_sf', 'H72008_sf', 'H72009_sf']]\n",
        "hist1_nhgis_bg = hist1_nhgis_bg.rename(columns={'H72003_sf': '1', 'H72004_sf': '2', 'H72005_sf': '3', 'H72006_sf': '4', \n",
        "                                                  'H72007_sf': '5', 'H72008_sf': '6', 'H72009_sf': '7'})\n",
        "hist2_nhgis_bg = data_nhgis[['H72003_dp', 'H72004_dp', 'H72005_dp', 'H72006_dp', 'H72007_dp', 'H72008_dp', 'H72009_dp']]\n",
        "hist2_nhgis_bg = hist2_nhgis_bg.rename(columns={'H72003_dp': '1', 'H72004_dp': '2', 'H72005_dp': '3', 'H72006_dp': '4', \n",
        "                                                  'H72007_dp': '5', 'H72008_dp': '6', 'H72009_dp': '7'})\n",
        "\n",
        "tu = (hist1_nhgis_bg == hist2_nhgis_bg) & (hist1_nhgis_bg == 1) & (hist2_nhgis_bg == 1) # find a true unique\n",
        "n_tu = np.unique(tu.values, return_counts=True)[1][1]\n",
        "u = hist2_nhgis_bg == 1    # uniques after noise injection\n",
        "n_u = np.unique(u.values, return_counts=True)[1][1]\n",
        "ppv_race_nhgis_bg = n_tu / n_u # frequency of finding the true uniques\n",
        "\n",
        "## tract\n",
        "filename_nhgis = 'data/nhgis/nhgis_ppdd_20210608_tract.csv'\n",
        "data_nhgis = pd.read_csv(filename_nhgis, encoding = \"ISO-8859-1\")\n",
        "data_nhgis[\"STATE\"] = data_nhgis[\"gisjoin\"].str.slice(1, 3)\n",
        "data_nhgis['COUNTY'] = data_nhgis[\"gisjoin\"].str.slice(4, 7)\n",
        "data_nhgis = data_nhgis[(data_nhgis[\"STATE\"] == '39') & (data_nhgis[\"COUNTY\"] == '049')]\n",
        "hist1_nhgis_tr = data_nhgis[['H72003_sf', 'H72004_sf', 'H72005_sf', 'H72006_sf', 'H72007_sf', 'H72008_sf', 'H72009_sf']]\n",
        "hist1_nhgis_tr = hist1_nhgis_tr.rename(columns={'H72003_sf': '1', 'H72004_sf': '2', 'H72005_sf': '3', 'H72006_sf': '4', \n",
        "                                                  'H72007_sf': '5', 'H72008_sf': '6', 'H72009_sf': '7'})\n",
        "hist2_nhgis_tr = data_nhgis[['H72003_dp', 'H72004_dp', 'H72005_dp', 'H72006_dp', 'H72007_dp', 'H72008_dp', 'H72009_dp']]\n",
        "hist2_nhgis_tr = hist2_nhgis_tr.rename(columns={'H72003_dp': '1', 'H72004_dp': '2', 'H72005_dp': '3', 'H72006_dp': '4', \n",
        "                                                  'H72007_dp': '5', 'H72008_dp': '6', 'H72009_dp': '7'})\n",
        "\n",
        "tu = (hist1_nhgis_tr == hist2_nhgis_tr) & (hist1_nhgis_tr == 1) & (hist2_nhgis_tr == 1) # find a true unique\n",
        "n_tu = np.unique(tu.values, return_counts=True)[1][1]\n",
        "u = hist2_nhgis_tr == 1    # uniques after noise injection\n",
        "n_u = np.unique(u.values, return_counts=True)[1][1]\n",
        "ppv_race_nhgis_tr = n_tu / n_u # frequency of finding the true uniques\n",
        "\n",
        "print(ppv_race_nhgis_blk, ppv_race_nhgis_bg, ppv_race_nhgis_tr)"
      ],
      "execution_count": null,
      "outputs": [
        {
          "output_type": "stream",
          "name": "stdout",
          "text": [
            "/content/gdrive/My Drive/Colab Notebooks/census_privacy\n",
            "0.115491452991453 0.2316715542521994 0.18181818181818182\n"
          ]
        }
      ]
    },
    {
      "cell_type": "markdown",
      "metadata": {
        "id": "c-Nl-i2lXcbO"
      },
      "source": [
        "Group 6*: Guernsey County, NHGIS data (2021-06-08)"
      ]
    },
    {
      "cell_type": "code",
      "metadata": {
        "colab": {
          "base_uri": "https://localhost:8080/"
        },
        "id": "G1LbNWpkXcbP",
        "outputId": "1e70ebff-4f66-4130-c571-7ad4bda58da4"
      },
      "source": [
        "%cd \"/content/gdrive/My Drive/Colab Notebooks/census_privacy\"\n",
        "import pandas as pd\n",
        "\n",
        "## block\n",
        "filename_nhgis = 'data/nhgis/nhgis_ppdd_20210608_block_OH.csv'\n",
        "data_nhgis = pd.read_csv(filename_nhgis, encoding = \"ISO-8859-1\")\n",
        "data_nhgis[\"STATE\"] = data_nhgis[\"gisjoin\"].str.slice(1, 3)\n",
        "data_nhgis['COUNTY'] = data_nhgis[\"gisjoin\"].str.slice(4, 7)\n",
        "data_nhgis = data_nhgis[(data_nhgis[\"STATE\"] == '39') & (data_nhgis[\"COUNTY\"] == '059')]\n",
        "hist1_nhgis_blk = data_nhgis[['H72003_sf', 'H72004_sf', 'H72005_sf', 'H72006_sf', 'H72007_sf', 'H72008_sf', 'H72009_sf']]\n",
        "hist1_nhgis_blk = hist1_nhgis_blk.rename(columns={'H72003_sf': '1', 'H72004_sf': '2', 'H72005_sf': '3', 'H72006_sf': '4', \n",
        "                                                  'H72007_sf': '5', 'H72008_sf': '6', 'H72009_sf': '7'})\n",
        "hist2_nhgis_blk = data_nhgis[['H72003_dp', 'H72004_dp', 'H72005_dp', 'H72006_dp', 'H72007_dp', 'H72008_dp', 'H72009_dp']]\n",
        "hist2_nhgis_blk = hist2_nhgis_blk.rename(columns={'H72003_dp': '1', 'H72004_dp': '2', 'H72005_dp': '3', 'H72006_dp': '4', \n",
        "                                                  'H72007_dp': '5', 'H72008_dp': '6', 'H72009_dp': '7'})\n",
        "\n",
        "tu = (hist1_nhgis_blk == hist2_nhgis_blk) & (hist1_nhgis_blk == 1) & (hist2_nhgis_blk == 1) # find a true unique\n",
        "n_tu = np.unique(tu.values, return_counts=True)[1][1]\n",
        "u = hist2_nhgis_blk == 1    # uniques after noise injection\n",
        "n_u = np.unique(u.values, return_counts=True)[1][1]\n",
        "ppv_race_nhgis_blk_g = n_tu / n_u # frequency of finding the true uniques\n",
        "\n",
        "## block group\n",
        "filename_nhgis = 'data/nhgis/nhgis_ppdd_20210608_blck_grp.csv'\n",
        "data_nhgis = pd.read_csv(filename_nhgis, encoding = \"ISO-8859-1\")\n",
        "data_nhgis[\"STATE\"] = data_nhgis[\"gisjoin\"].str.slice(1, 3)\n",
        "data_nhgis['COUNTY'] = data_nhgis[\"gisjoin\"].str.slice(4, 7)\n",
        "data_nhgis = data_nhgis[(data_nhgis[\"STATE\"] == '39') & (data_nhgis[\"COUNTY\"] == '059')]\n",
        "hist1_nhgis_bg = data_nhgis[['H72003_sf', 'H72004_sf', 'H72005_sf', 'H72006_sf', 'H72007_sf', 'H72008_sf', 'H72009_sf']]\n",
        "hist1_nhgis_bg = hist1_nhgis_bg.rename(columns={'H72003_sf': '1', 'H72004_sf': '2', 'H72005_sf': '3', 'H72006_sf': '4', \n",
        "                                                  'H72007_sf': '5', 'H72008_sf': '6', 'H72009_sf': '7'})\n",
        "hist2_nhgis_bg = data_nhgis[['H72003_dp', 'H72004_dp', 'H72005_dp', 'H72006_dp', 'H72007_dp', 'H72008_dp', 'H72009_dp']]\n",
        "hist2_nhgis_bg = hist2_nhgis_bg.rename(columns={'H72003_dp': '1', 'H72004_dp': '2', 'H72005_dp': '3', 'H72006_dp': '4', \n",
        "                                                  'H72007_dp': '5', 'H72008_dp': '6', 'H72009_dp': '7'})\n",
        "\n",
        "tu = (hist1_nhgis_bg == hist2_nhgis_bg) & (hist1_nhgis_bg == 1) & (hist2_nhgis_bg == 1) # find a true unique\n",
        "n_tu = np.unique(tu.values, return_counts=True)[1][1]\n",
        "u = hist2_nhgis_bg == 1    # uniques after noise injection\n",
        "n_u = np.unique(u.values, return_counts=True)[1][1]\n",
        "ppv_race_nhgis_bg_g = n_tu / n_u # frequency of finding the true uniques\n",
        "\n",
        "## tract\n",
        "filename_nhgis = 'data/nhgis/nhgis_ppdd_20210608_tract.csv'\n",
        "data_nhgis = pd.read_csv(filename_nhgis, encoding = \"ISO-8859-1\")\n",
        "data_nhgis[\"STATE\"] = data_nhgis[\"gisjoin\"].str.slice(1, 3)\n",
        "data_nhgis['COUNTY'] = data_nhgis[\"gisjoin\"].str.slice(4, 7)\n",
        "data_nhgis = data_nhgis[(data_nhgis[\"STATE\"] == '39') & (data_nhgis[\"COUNTY\"] == '059')]\n",
        "hist1_nhgis_tr = data_nhgis[['H72003_sf', 'H72004_sf', 'H72005_sf', 'H72006_sf', 'H72007_sf', 'H72008_sf', 'H72009_sf']]\n",
        "hist1_nhgis_tr = hist1_nhgis_tr.rename(columns={'H72003_sf': '1', 'H72004_sf': '2', 'H72005_sf': '3', 'H72006_sf': '4', \n",
        "                                                  'H72007_sf': '5', 'H72008_sf': '6', 'H72009_sf': '7'})\n",
        "hist2_nhgis_tr = data_nhgis[['H72003_dp', 'H72004_dp', 'H72005_dp', 'H72006_dp', 'H72007_dp', 'H72008_dp', 'H72009_dp']]\n",
        "hist2_nhgis_tr = hist2_nhgis_tr.rename(columns={'H72003_dp': '1', 'H72004_dp': '2', 'H72005_dp': '3', 'H72006_dp': '4', \n",
        "                                                  'H72007_dp': '5', 'H72008_dp': '6', 'H72009_dp': '7'})\n",
        "\n",
        "tu = (hist1_nhgis_tr == hist2_nhgis_tr) & (hist1_nhgis_tr == 1) & (hist2_nhgis_tr == 1) # find a true unique\n",
        "n_tu = np.unique(tu.values, return_counts=True)[1][1]\n",
        "u = hist2_nhgis_tr == 1    # uniques after noise injection\n",
        "n_u = np.unique(u.values, return_counts=True)[1][1]\n",
        "ppv_race_nhgis_tr_g = n_tu / n_u # frequency of finding the true uniques\n",
        "\n",
        "print(ppv_race_nhgis_blk_g, ppv_race_nhgis_bg_g, ppv_race_nhgis_tr_g)"
      ],
      "execution_count": null,
      "outputs": [
        {
          "output_type": "stream",
          "name": "stdout",
          "text": [
            "/content/gdrive/My Drive/Colab Notebooks/census_privacy\n",
            "0.05701078582434515 0.3448275862068966 0.5\n"
          ]
        }
      ]
    },
    {
      "cell_type": "markdown",
      "metadata": {
        "id": "OXrDA04Ku8HC"
      },
      "source": [
        "####**Reconstruction risks**\n",
        "Calculate agreement rate as the risk measure.\n",
        "\n"
      ]
    },
    {
      "cell_type": "markdown",
      "metadata": {
        "id": "RqR4Tslnypi-"
      },
      "source": [
        "Group 1: Franklin County, my data"
      ]
    },
    {
      "cell_type": "code",
      "metadata": {
        "colab": {
          "base_uri": "https://localhost:8080/"
        },
        "id": "rPgyXHHIvC0e",
        "outputId": "376ba3d8-78cb-402f-edca-a4a087f639d3"
      },
      "source": [
        "%cd \"/content/gdrive/My Drive/Colab Notebooks/census_privacy\"\n",
        "from lib.uniques import *\n",
        "\n",
        "## QID 1: HHGQ ∗ VA ∗ HISP ∗ RACE  (2016 cells)\n",
        "agg_detail_blk, agg_detail_bg, agg_detail_tr = recon_risk(hist1_detail, hist2_detail)\n",
        "\n",
        "## QID 2: VA * RACE (126 cells)\n",
        "agg_va_race_blk, agg_va_race_bg, agg_va_race_tr = recon_risk(hist1_va_race, hist2_va_race) \n",
        "\n",
        "## QID 3: Race (7 cells)\n",
        "agg_race_blk, agg_race_bg, agg_race_tr = recon_risk(hist1_race, hist2_race)\n",
        "\n",
        "print(agg_detail_blk, agg_detail_bg, agg_detail_tr)\n",
        "print(agg_va_race_blk, agg_va_race_bg, agg_va_race_tr)\n",
        "print(agg_race_blk, agg_race_bg, agg_race_tr)"
      ],
      "execution_count": null,
      "outputs": [
        {
          "output_type": "stream",
          "name": "stdout",
          "text": [
            "/content/gdrive/My Drive/Colab Notebooks/census_privacy\n",
            "0.20307892195444519 0.9358521281834721 0.9663902573043435\n",
            "0.21256236564581907 0.9497390236150862 0.9755712045052309\n",
            "0.23824036646337815 0.9665414693448007 0.9851706741839596\n"
          ]
        }
      ]
    },
    {
      "cell_type": "markdown",
      "metadata": {
        "id": "I12BW3Hjyqd_"
      },
      "source": [
        "Group 3: Guernsey County, my data"
      ]
    },
    {
      "cell_type": "code",
      "metadata": {
        "colab": {
          "base_uri": "https://localhost:8080/"
        },
        "id": "Zg7zn0Bzys0g",
        "outputId": "693a8b54-b4f6-4b90-c79a-6f2091b3aaa2"
      },
      "source": [
        "%cd \"/content/gdrive/My Drive/Colab Notebooks/census_privacy\"\n",
        "from lib.uniques import *\n",
        "\n",
        "## QID 1: HHGQ ∗ VA ∗ HISP ∗ RACE  (2016 cells)\n",
        "agg_detail_blk_g, agg_detail_bg_g, agg_detail_tr_g = recon_risk(hist1_detail_g, hist2_detail_g)\n",
        "\n",
        "## QID 2: VA * RACE (126 cells)\n",
        "agg_va_race_blk_g, agg_va_race_bg_g, agg_va_race_tr_g = recon_risk(hist1_va_race_g, hist2_va_race_g) \n",
        "\n",
        "## QID 3: Race (7 cells)\n",
        "agg_race_blk_g, agg_race_bg_g, agg_race_tr_g = recon_risk(hist1_race_g, hist2_race_g)\n",
        "\n",
        "print(agg_detail_blk_g, agg_detail_bg_g, agg_detail_tr_g)\n",
        "print(agg_va_race_blk_g, agg_va_race_bg_g, agg_va_race_tr_g)\n",
        "print(agg_race_blk_g, agg_race_bg_g, agg_race_tr_g)"
      ],
      "execution_count": null,
      "outputs": [
        {
          "output_type": "stream",
          "name": "stdout",
          "text": [
            "/content/gdrive/My Drive/Colab Notebooks/census_privacy\n",
            "0.16534157832744406 0.9875947968459645 0.9932509002996802\n",
            "0.17020018332889797 0.9896432970513562 0.9948082060587731\n",
            "0.18194307559059822 0.9942050894431846 0.9974763406940063\n"
          ]
        }
      ]
    },
    {
      "cell_type": "markdown",
      "metadata": {
        "id": "Z2RLg1R8i6C-"
      },
      "source": [
        "####**Accuracy**\n",
        "Calculate mean absolute error (MAE) as the accuracy measure.\n",
        "\n"
      ]
    },
    {
      "cell_type": "markdown",
      "metadata": {
        "id": "YOT7CBlfjptk"
      },
      "source": [
        "Group 1: Franklin County, my data"
      ]
    },
    {
      "cell_type": "code",
      "metadata": {
        "colab": {
          "base_uri": "https://localhost:8080/"
        },
        "id": "LfdyyYXvjFKI",
        "outputId": "140033f5-61b4-4ce6-c17b-2230c032dec9"
      },
      "source": [
        "%cd \"/content/gdrive/My Drive/Colab Notebooks/census_privacy\"\n",
        "from lib.uniques import *\n",
        "\n",
        "## QID 1: HHGQ ∗ VA ∗ HISP ∗ RACE  (2016 cells)\n",
        "mae_detail_blk, mae_detail_bg, mae_detail_tr = acc_mae(hist1_detail, hist2_detail)\n",
        "\n",
        "## QID 2: VA * RACE (126 cells)\n",
        "mae_va_race_blk, mae_va_race_bg, mae_va_race_tr = acc_mae(hist1_va_race, hist2_va_race) \n",
        "\n",
        "## QID 3: Race (7 cells)\n",
        "mae_race_blk, mae_race_bg, mae_race_tr = acc_mae(hist1_race, hist2_race)\n",
        "\n",
        "print(mae_detail_blk, mae_detail_bg, mae_detail_tr)\n",
        "print(mae_va_race_blk, mae_va_race_bg, mae_va_race_tr)\n",
        "print(mae_race_blk, mae_race_bg, mae_race_tr)"
      ],
      "execution_count": null,
      "outputs": [
        {
          "output_type": "stream",
          "name": "stdout",
          "text": [
            "/content/gdrive/My Drive/Colab Notebooks/census_privacy\n",
            "0.032762520879142276 0.04217667901433403 0.06794586966241896\n",
            "0.5139113152781777 0.5249727098656073 0.7864967583277442\n",
            "8.763177329110913 6.236753100338219 8.5523138832998\n"
          ]
        }
      ]
    },
    {
      "cell_type": "markdown",
      "metadata": {
        "id": "I6XCsGFZjqSO"
      },
      "source": [
        "Group 3: Guernsey County, my data"
      ]
    },
    {
      "cell_type": "code",
      "metadata": {
        "colab": {
          "base_uri": "https://localhost:8080/"
        },
        "id": "Telw8jEKjtLU",
        "outputId": "255053d2-ea6d-4f33-9474-cca9d371a100"
      },
      "source": [
        "%cd \"/content/gdrive/My Drive/Colab Notebooks/census_privacy\"\n",
        "from lib.uniques import *\n",
        "\n",
        "## QID 1: HHGQ ∗ VA ∗ HISP ∗ RACE  (2016 cells)\n",
        "mae_detail_blk_g, mae_detail_bg_g, mae_detail_tr_g = acc_mae(hist1_detail_g, hist2_detail_g)\n",
        "\n",
        "## QID 2: VA * RACE (126 cells)\n",
        "mae_va_race_blk_g, mae_va_race_bg_g, mae_va_race_tr_g = acc_mae(hist1_va_race_g, hist2_va_race_g) \n",
        "\n",
        "## QID 3: Race (7 cells)\n",
        "mae_race_blk_g, mae_race_bg_g, mae_race_tr_g = acc_mae(hist1_race_g, hist2_race_g)\n",
        "\n",
        "print(mae_detail_blk_g, mae_detail_bg_g, mae_detail_tr_g)\n",
        "print(mae_va_race_blk_g, mae_va_race_bg_g, mae_va_race_tr_g)\n",
        "print(mae_race_blk_g, mae_race_bg_g, mae_race_tr_g)"
      ],
      "execution_count": null,
      "outputs": [
        {
          "output_type": "stream",
          "name": "stdout",
          "text": [
            "/content/gdrive/My Drive/Colab Notebooks/census_privacy\n",
            "0.007460875479580706 0.0070011337868480725 0.013293650793650793\n",
            "0.11818637422245806 0.09342403628117914 0.1634920634920635\n",
            "2.076412841602547 0.9387755102040817 1.4285714285714286\n"
          ]
        }
      ]
    }
  ]
}