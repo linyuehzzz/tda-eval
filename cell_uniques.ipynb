{
  "nbformat": 4,
  "nbformat_minor": 0,
  "metadata": {
    "colab": {
      "name": "cell uniques.ipynb",
      "provenance": [],
      "collapsed_sections": [],
      "toc_visible": true,
      "authorship_tag": "ABX9TyOQIJHx5YsQx92Ib9pYFj8u",
      "include_colab_link": true
    },
    "kernelspec": {
      "name": "python3",
      "display_name": "Python 3"
    },
    "language_info": {
      "name": "python"
    }
  },
  "cells": [
    {
      "cell_type": "markdown",
      "metadata": {
        "id": "view-in-github",
        "colab_type": "text"
      },
      "source": [
        "<a href=\"https://colab.research.google.com/github/linyuehzzz/census_privacy/blob/main/cell_uniques.ipynb\" target=\"_parent\"><img src=\"https://colab.research.google.com/assets/colab-badge.svg\" alt=\"Open In Colab\"/></a>"
      ]
    },
    {
      "cell_type": "code",
      "metadata": {
        "id": "zLeEw-8vLEbA",
        "colab": {
          "base_uri": "https://localhost:8080/"
        },
        "outputId": "e097dcdd-d92c-4385-927a-22eb82dd8d33"
      },
      "source": [
        "from google.colab import drive\n",
        "drive.mount(\"/content/gdrive\")"
      ],
      "execution_count": 17,
      "outputs": [
        {
          "output_type": "stream",
          "name": "stdout",
          "text": [
            "Drive already mounted at /content/gdrive; to attempt to forcibly remount, call drive.mount(\"/content/gdrive\", force_remount=True).\n"
          ]
        }
      ]
    },
    {
      "cell_type": "markdown",
      "metadata": {
        "id": "fpO_TqoLYDJ8"
      },
      "source": [
        "####**Impact of geographic scales**\n",
        "> Some simulations to demonstrate how geographic scales affect the probability of finding a true unique. Two aspects of spatial scales are examined here: resolution and extent.\n",
        "\n"
      ]
    },
    {
      "cell_type": "markdown",
      "metadata": {
        "id": "CEe6eE16vwXo"
      },
      "source": [
        "\n",
        "**Read original workload query outputs**  \n",
        "> We consider the query of race for the purpose of demonstration. Cell uniqueness is presented in this query."
      ]
    },
    {
      "cell_type": "markdown",
      "metadata": {
        "id": "uua6Cv1oV3Fb"
      },
      "source": [
        "Franklin county"
      ]
    },
    {
      "cell_type": "code",
      "metadata": {
        "colab": {
          "base_uri": "https://localhost:8080/",
          "height": 472
        },
        "id": "V04A9tgqjDpe",
        "outputId": "ea4e0e29-b2e6-4f28-a330-e28c006f0e4b"
      },
      "source": [
        "%cd \"/content/gdrive/My Drive/Colab Notebooks/census_privacy\"\n",
        "import pandas as pd\n",
        "import numpy as np\n",
        "\n",
        "n4 = 63\n",
        "filename_hist1 = 'data/franklin/microdata/franklin_hist.csv'\n",
        "hist1 = pd.read_csv(filename_hist1)\n",
        "hist1['BLK'] = hist1['GEOID10'].astype(str)\n",
        "col_names = hist1.columns.to_numpy()\n",
        "col_names = np.delete(col_names, [0, -1])\n",
        "hist1 = hist1.groupby('BLK').sum()[col_names]\n",
        "\n",
        "col_two_or_more_races = []\n",
        "for x in range(n4):     # race\n",
        "    if x >= 0 and x <= 5:\n",
        "        x = '{number:0{width}d}'.format(width=2, number=x)\n",
        "        col_names = [col for col in hist1.columns if x in col[6:8]]\n",
        "        hist1[str(x)] = hist1[col_names].sum(axis=1)\n",
        "    else:\n",
        "        x = '{number:0{width}d}'.format(width=2, number=x)\n",
        "        col_names = [col for col in hist1.columns if x in col[6:8]]\n",
        "        col_two_or_more_races.extend(col_names)\n",
        "hist1['06'] = hist1[col_two_or_more_races].sum(axis=1)\n",
        "hist1.drop([col for col in hist1.columns if len(col)==8], axis=1, inplace=True)\n",
        "hist1"
      ],
      "execution_count": 18,
      "outputs": [
        {
          "output_type": "stream",
          "name": "stdout",
          "text": [
            "/content/gdrive/My Drive/Colab Notebooks/census_privacy\n"
          ]
        },
        {
          "output_type": "execute_result",
          "data": {
            "text/html": [
              "<div>\n",
              "<style scoped>\n",
              "    .dataframe tbody tr th:only-of-type {\n",
              "        vertical-align: middle;\n",
              "    }\n",
              "\n",
              "    .dataframe tbody tr th {\n",
              "        vertical-align: top;\n",
              "    }\n",
              "\n",
              "    .dataframe thead th {\n",
              "        text-align: right;\n",
              "    }\n",
              "</style>\n",
              "<table border=\"1\" class=\"dataframe\">\n",
              "  <thead>\n",
              "    <tr style=\"text-align: right;\">\n",
              "      <th></th>\n",
              "      <th>00</th>\n",
              "      <th>01</th>\n",
              "      <th>02</th>\n",
              "      <th>03</th>\n",
              "      <th>04</th>\n",
              "      <th>05</th>\n",
              "      <th>06</th>\n",
              "    </tr>\n",
              "    <tr>\n",
              "      <th>BLK</th>\n",
              "      <th></th>\n",
              "      <th></th>\n",
              "      <th></th>\n",
              "      <th></th>\n",
              "      <th></th>\n",
              "      <th></th>\n",
              "      <th></th>\n",
              "    </tr>\n",
              "  </thead>\n",
              "  <tbody>\n",
              "    <tr>\n",
              "      <th>390490001101000</th>\n",
              "      <td>0</td>\n",
              "      <td>0</td>\n",
              "      <td>0</td>\n",
              "      <td>0</td>\n",
              "      <td>0</td>\n",
              "      <td>0</td>\n",
              "      <td>0</td>\n",
              "    </tr>\n",
              "    <tr>\n",
              "      <th>390490001101001</th>\n",
              "      <td>1</td>\n",
              "      <td>0</td>\n",
              "      <td>0</td>\n",
              "      <td>0</td>\n",
              "      <td>0</td>\n",
              "      <td>0</td>\n",
              "      <td>0</td>\n",
              "    </tr>\n",
              "    <tr>\n",
              "      <th>390490001101002</th>\n",
              "      <td>45</td>\n",
              "      <td>0</td>\n",
              "      <td>0</td>\n",
              "      <td>0</td>\n",
              "      <td>0</td>\n",
              "      <td>0</td>\n",
              "      <td>0</td>\n",
              "    </tr>\n",
              "    <tr>\n",
              "      <th>390490001101003</th>\n",
              "      <td>51</td>\n",
              "      <td>4</td>\n",
              "      <td>0</td>\n",
              "      <td>0</td>\n",
              "      <td>0</td>\n",
              "      <td>0</td>\n",
              "      <td>0</td>\n",
              "    </tr>\n",
              "    <tr>\n",
              "      <th>390490001101004</th>\n",
              "      <td>48</td>\n",
              "      <td>0</td>\n",
              "      <td>0</td>\n",
              "      <td>0</td>\n",
              "      <td>0</td>\n",
              "      <td>0</td>\n",
              "      <td>0</td>\n",
              "    </tr>\n",
              "    <tr>\n",
              "      <th>...</th>\n",
              "      <td>...</td>\n",
              "      <td>...</td>\n",
              "      <td>...</td>\n",
              "      <td>...</td>\n",
              "      <td>...</td>\n",
              "      <td>...</td>\n",
              "      <td>...</td>\n",
              "    </tr>\n",
              "    <tr>\n",
              "      <th>390499800001070</th>\n",
              "      <td>0</td>\n",
              "      <td>0</td>\n",
              "      <td>0</td>\n",
              "      <td>0</td>\n",
              "      <td>0</td>\n",
              "      <td>0</td>\n",
              "      <td>0</td>\n",
              "    </tr>\n",
              "    <tr>\n",
              "      <th>390499800001071</th>\n",
              "      <td>0</td>\n",
              "      <td>0</td>\n",
              "      <td>0</td>\n",
              "      <td>0</td>\n",
              "      <td>0</td>\n",
              "      <td>0</td>\n",
              "      <td>0</td>\n",
              "    </tr>\n",
              "    <tr>\n",
              "      <th>390499800001072</th>\n",
              "      <td>0</td>\n",
              "      <td>0</td>\n",
              "      <td>0</td>\n",
              "      <td>0</td>\n",
              "      <td>0</td>\n",
              "      <td>0</td>\n",
              "      <td>0</td>\n",
              "    </tr>\n",
              "    <tr>\n",
              "      <th>390499800001073</th>\n",
              "      <td>0</td>\n",
              "      <td>0</td>\n",
              "      <td>0</td>\n",
              "      <td>0</td>\n",
              "      <td>0</td>\n",
              "      <td>0</td>\n",
              "      <td>0</td>\n",
              "    </tr>\n",
              "    <tr>\n",
              "      <th>390499800001074</th>\n",
              "      <td>0</td>\n",
              "      <td>0</td>\n",
              "      <td>0</td>\n",
              "      <td>0</td>\n",
              "      <td>0</td>\n",
              "      <td>0</td>\n",
              "      <td>0</td>\n",
              "    </tr>\n",
              "  </tbody>\n",
              "</table>\n",
              "<p>22826 rows × 7 columns</p>\n",
              "</div>"
            ],
            "text/plain": [
              "                 00  01  02  03  04  05  06\n",
              "BLK                                        \n",
              "390490001101000   0   0   0   0   0   0   0\n",
              "390490001101001   1   0   0   0   0   0   0\n",
              "390490001101002  45   0   0   0   0   0   0\n",
              "390490001101003  51   4   0   0   0   0   0\n",
              "390490001101004  48   0   0   0   0   0   0\n",
              "...              ..  ..  ..  ..  ..  ..  ..\n",
              "390499800001070   0   0   0   0   0   0   0\n",
              "390499800001071   0   0   0   0   0   0   0\n",
              "390499800001072   0   0   0   0   0   0   0\n",
              "390499800001073   0   0   0   0   0   0   0\n",
              "390499800001074   0   0   0   0   0   0   0\n",
              "\n",
              "[22826 rows x 7 columns]"
            ]
          },
          "metadata": {},
          "execution_count": 18
        }
      ]
    },
    {
      "cell_type": "markdown",
      "metadata": {
        "id": "zyxqyFvKV0Wl"
      },
      "source": [
        "Guernsey county"
      ]
    },
    {
      "cell_type": "code",
      "metadata": {
        "colab": {
          "base_uri": "https://localhost:8080/",
          "height": 472
        },
        "id": "B9cwFtq4Vz8M",
        "outputId": "7ca4b188-8206-4e5b-cb7f-ea21fbd5a804"
      },
      "source": [
        "%cd \"/content/gdrive/My Drive/Colab Notebooks/census_privacy\"\n",
        "import pandas as pd\n",
        "import numpy as np\n",
        "\n",
        "n4 = 63\n",
        "filename_hist1_g = 'data/guernsey/microdata/guernsey_hist.csv'\n",
        "hist1_g = pd.read_csv(filename_hist1_g)\n",
        "hist1_g['BLK'] = hist1_g['GEOID10'].astype(str)\n",
        "col_names = hist1_g.columns.to_numpy()\n",
        "col_names = np.delete(col_names, [0, -1])\n",
        "hist1_g = hist1_g.groupby('BLK').sum()[col_names]\n",
        "\n",
        "col_two_or_more_races = []\n",
        "for x in range(n4):     # race\n",
        "    if x >= 0 and x <= 5:\n",
        "        x = '{number:0{width}d}'.format(width=2, number=x)\n",
        "        col_names = [col for col in hist1_g.columns if x in col[6:8]]\n",
        "        hist1_g[str(x)] = hist1_g[col_names].sum(axis=1)\n",
        "    else:\n",
        "        x = '{number:0{width}d}'.format(width=2, number=x)\n",
        "        col_names = [col for col in hist1_g.columns if x in col[6:8]]\n",
        "        col_two_or_more_races.extend(col_names)\n",
        "hist1_g['06'] = hist1_g[col_two_or_more_races].sum(axis=1)\n",
        "hist1_g.drop([col for col in hist1_g.columns if len(col)==8], axis=1, inplace=True)\n",
        "hist1_g"
      ],
      "execution_count": 19,
      "outputs": [
        {
          "output_type": "stream",
          "name": "stdout",
          "text": [
            "/content/gdrive/My Drive/Colab Notebooks/census_privacy\n"
          ]
        },
        {
          "output_type": "execute_result",
          "data": {
            "text/html": [
              "<div>\n",
              "<style scoped>\n",
              "    .dataframe tbody tr th:only-of-type {\n",
              "        vertical-align: middle;\n",
              "    }\n",
              "\n",
              "    .dataframe tbody tr th {\n",
              "        vertical-align: top;\n",
              "    }\n",
              "\n",
              "    .dataframe thead th {\n",
              "        text-align: right;\n",
              "    }\n",
              "</style>\n",
              "<table border=\"1\" class=\"dataframe\">\n",
              "  <thead>\n",
              "    <tr style=\"text-align: right;\">\n",
              "      <th></th>\n",
              "      <th>00</th>\n",
              "      <th>01</th>\n",
              "      <th>02</th>\n",
              "      <th>03</th>\n",
              "      <th>04</th>\n",
              "      <th>05</th>\n",
              "      <th>06</th>\n",
              "    </tr>\n",
              "    <tr>\n",
              "      <th>BLK</th>\n",
              "      <th></th>\n",
              "      <th></th>\n",
              "      <th></th>\n",
              "      <th></th>\n",
              "      <th></th>\n",
              "      <th></th>\n",
              "      <th></th>\n",
              "    </tr>\n",
              "  </thead>\n",
              "  <tbody>\n",
              "    <tr>\n",
              "      <th>390599771001000</th>\n",
              "      <td>0.0</td>\n",
              "      <td>0.0</td>\n",
              "      <td>0.0</td>\n",
              "      <td>0.0</td>\n",
              "      <td>0.0</td>\n",
              "      <td>0.0</td>\n",
              "      <td>0.0</td>\n",
              "    </tr>\n",
              "    <tr>\n",
              "      <th>390599771001001</th>\n",
              "      <td>0.0</td>\n",
              "      <td>0.0</td>\n",
              "      <td>0.0</td>\n",
              "      <td>0.0</td>\n",
              "      <td>0.0</td>\n",
              "      <td>0.0</td>\n",
              "      <td>0.0</td>\n",
              "    </tr>\n",
              "    <tr>\n",
              "      <th>390599771001002</th>\n",
              "      <td>0.0</td>\n",
              "      <td>0.0</td>\n",
              "      <td>0.0</td>\n",
              "      <td>0.0</td>\n",
              "      <td>0.0</td>\n",
              "      <td>0.0</td>\n",
              "      <td>0.0</td>\n",
              "    </tr>\n",
              "    <tr>\n",
              "      <th>390599771001003</th>\n",
              "      <td>0.0</td>\n",
              "      <td>0.0</td>\n",
              "      <td>0.0</td>\n",
              "      <td>0.0</td>\n",
              "      <td>0.0</td>\n",
              "      <td>0.0</td>\n",
              "      <td>0.0</td>\n",
              "    </tr>\n",
              "    <tr>\n",
              "      <th>390599771001004</th>\n",
              "      <td>0.0</td>\n",
              "      <td>0.0</td>\n",
              "      <td>0.0</td>\n",
              "      <td>0.0</td>\n",
              "      <td>0.0</td>\n",
              "      <td>0.0</td>\n",
              "      <td>0.0</td>\n",
              "    </tr>\n",
              "    <tr>\n",
              "      <th>...</th>\n",
              "      <td>...</td>\n",
              "      <td>...</td>\n",
              "      <td>...</td>\n",
              "      <td>...</td>\n",
              "      <td>...</td>\n",
              "      <td>...</td>\n",
              "      <td>...</td>\n",
              "    </tr>\n",
              "    <tr>\n",
              "      <th>390599780004093</th>\n",
              "      <td>7.0</td>\n",
              "      <td>0.0</td>\n",
              "      <td>0.0</td>\n",
              "      <td>0.0</td>\n",
              "      <td>0.0</td>\n",
              "      <td>0.0</td>\n",
              "      <td>0.0</td>\n",
              "    </tr>\n",
              "    <tr>\n",
              "      <th>390599780004094</th>\n",
              "      <td>0.0</td>\n",
              "      <td>0.0</td>\n",
              "      <td>0.0</td>\n",
              "      <td>0.0</td>\n",
              "      <td>0.0</td>\n",
              "      <td>0.0</td>\n",
              "      <td>0.0</td>\n",
              "    </tr>\n",
              "    <tr>\n",
              "      <th>390599780004095</th>\n",
              "      <td>0.0</td>\n",
              "      <td>0.0</td>\n",
              "      <td>0.0</td>\n",
              "      <td>0.0</td>\n",
              "      <td>0.0</td>\n",
              "      <td>0.0</td>\n",
              "      <td>0.0</td>\n",
              "    </tr>\n",
              "    <tr>\n",
              "      <th>390599780004096</th>\n",
              "      <td>4.0</td>\n",
              "      <td>0.0</td>\n",
              "      <td>0.0</td>\n",
              "      <td>0.0</td>\n",
              "      <td>0.0</td>\n",
              "      <td>0.0</td>\n",
              "      <td>0.0</td>\n",
              "    </tr>\n",
              "    <tr>\n",
              "      <th>390599780004097</th>\n",
              "      <td>5.0</td>\n",
              "      <td>0.0</td>\n",
              "      <td>0.0</td>\n",
              "      <td>0.0</td>\n",
              "      <td>0.0</td>\n",
              "      <td>0.0</td>\n",
              "      <td>0.0</td>\n",
              "    </tr>\n",
              "  </tbody>\n",
              "</table>\n",
              "<p>3769 rows × 7 columns</p>\n",
              "</div>"
            ],
            "text/plain": [
              "                  00   01   02   03   04   05   06\n",
              "BLK                                               \n",
              "390599771001000  0.0  0.0  0.0  0.0  0.0  0.0  0.0\n",
              "390599771001001  0.0  0.0  0.0  0.0  0.0  0.0  0.0\n",
              "390599771001002  0.0  0.0  0.0  0.0  0.0  0.0  0.0\n",
              "390599771001003  0.0  0.0  0.0  0.0  0.0  0.0  0.0\n",
              "390599771001004  0.0  0.0  0.0  0.0  0.0  0.0  0.0\n",
              "...              ...  ...  ...  ...  ...  ...  ...\n",
              "390599780004093  7.0  0.0  0.0  0.0  0.0  0.0  0.0\n",
              "390599780004094  0.0  0.0  0.0  0.0  0.0  0.0  0.0\n",
              "390599780004095  0.0  0.0  0.0  0.0  0.0  0.0  0.0\n",
              "390599780004096  4.0  0.0  0.0  0.0  0.0  0.0  0.0\n",
              "390599780004097  5.0  0.0  0.0  0.0  0.0  0.0  0.0\n",
              "\n",
              "[3769 rows x 7 columns]"
            ]
          },
          "metadata": {},
          "execution_count": 19
        }
      ]
    },
    {
      "cell_type": "markdown",
      "metadata": {
        "id": "36Ykw3GKLCg3"
      },
      "source": [
        "**Read dp workload query outputs**  "
      ]
    },
    {
      "cell_type": "markdown",
      "metadata": {
        "id": "dN76DCuqWgt_"
      },
      "source": [
        "Franklin county"
      ]
    },
    {
      "cell_type": "code",
      "metadata": {
        "colab": {
          "base_uri": "https://localhost:8080/",
          "height": 472
        },
        "id": "lNkah0XsLGvF",
        "outputId": "e9556ed7-98ab-44ad-9598-6920c1983d49"
      },
      "source": [
        "%cd \"/content/gdrive/My Drive/Colab Notebooks/census_privacy\"\n",
        "import pandas as pd\n",
        "import numpy as np\n",
        "\n",
        "n4 = 63\n",
        "filename_hist2 = 'data/franklin/microdata/rho_2.56/franklin_hist_dp_blk.csv'\n",
        "hist2 = pd.read_csv(filename_hist2)\n",
        "hist2['BLK'] = hist2['BLK'].astype(str)\n",
        "col_names = hist2.columns.to_numpy()\n",
        "col_names = np.delete(col_names, [0, -1])\n",
        "hist2 = hist2.groupby('BLK').sum()[col_names]\n",
        "\n",
        "col_two_or_more_races = []\n",
        "for x in range(n4):     # race\n",
        "    if x >= 0 and x <= 5:\n",
        "        x = '{number:0{width}d}'.format(width=2, number=x)\n",
        "        col_names = [col for col in hist2.columns if x in col[6:8]]\n",
        "        hist2[str(x)] = hist2[col_names].sum(axis=1)\n",
        "    else:\n",
        "        x = '{number:0{width}d}'.format(width=2, number=x)\n",
        "        col_names = [col for col in hist2.columns if x in col[6:8]]\n",
        "        col_two_or_more_races.extend(col_names)\n",
        "hist2['06'] = hist2[col_two_or_more_races].sum(axis=1)\n",
        "hist2.drop([col for col in hist2.columns if len(col)==8], axis=1, inplace=True)\n",
        "hist2"
      ],
      "execution_count": 20,
      "outputs": [
        {
          "output_type": "stream",
          "name": "stdout",
          "text": [
            "/content/gdrive/My Drive/Colab Notebooks/census_privacy\n"
          ]
        },
        {
          "output_type": "execute_result",
          "data": {
            "text/html": [
              "<div>\n",
              "<style scoped>\n",
              "    .dataframe tbody tr th:only-of-type {\n",
              "        vertical-align: middle;\n",
              "    }\n",
              "\n",
              "    .dataframe tbody tr th {\n",
              "        vertical-align: top;\n",
              "    }\n",
              "\n",
              "    .dataframe thead th {\n",
              "        text-align: right;\n",
              "    }\n",
              "</style>\n",
              "<table border=\"1\" class=\"dataframe\">\n",
              "  <thead>\n",
              "    <tr style=\"text-align: right;\">\n",
              "      <th></th>\n",
              "      <th>00</th>\n",
              "      <th>01</th>\n",
              "      <th>02</th>\n",
              "      <th>03</th>\n",
              "      <th>04</th>\n",
              "      <th>05</th>\n",
              "      <th>06</th>\n",
              "    </tr>\n",
              "    <tr>\n",
              "      <th>BLK</th>\n",
              "      <th></th>\n",
              "      <th></th>\n",
              "      <th></th>\n",
              "      <th></th>\n",
              "      <th></th>\n",
              "      <th></th>\n",
              "      <th></th>\n",
              "    </tr>\n",
              "  </thead>\n",
              "  <tbody>\n",
              "    <tr>\n",
              "      <th>390490001101000</th>\n",
              "      <td>0.0</td>\n",
              "      <td>2.0</td>\n",
              "      <td>0.0</td>\n",
              "      <td>1.0</td>\n",
              "      <td>0.0</td>\n",
              "      <td>2.0</td>\n",
              "      <td>0.0</td>\n",
              "    </tr>\n",
              "    <tr>\n",
              "      <th>390490001101001</th>\n",
              "      <td>1.0</td>\n",
              "      <td>0.0</td>\n",
              "      <td>0.0</td>\n",
              "      <td>3.0</td>\n",
              "      <td>1.0</td>\n",
              "      <td>1.0</td>\n",
              "      <td>1.0</td>\n",
              "    </tr>\n",
              "    <tr>\n",
              "      <th>390490001101002</th>\n",
              "      <td>43.0</td>\n",
              "      <td>0.0</td>\n",
              "      <td>0.0</td>\n",
              "      <td>0.0</td>\n",
              "      <td>0.0</td>\n",
              "      <td>2.0</td>\n",
              "      <td>1.0</td>\n",
              "    </tr>\n",
              "    <tr>\n",
              "      <th>390490001101003</th>\n",
              "      <td>55.0</td>\n",
              "      <td>5.0</td>\n",
              "      <td>0.0</td>\n",
              "      <td>0.0</td>\n",
              "      <td>0.0</td>\n",
              "      <td>0.0</td>\n",
              "      <td>1.0</td>\n",
              "    </tr>\n",
              "    <tr>\n",
              "      <th>390490001101004</th>\n",
              "      <td>49.0</td>\n",
              "      <td>0.0</td>\n",
              "      <td>0.0</td>\n",
              "      <td>2.0</td>\n",
              "      <td>0.0</td>\n",
              "      <td>0.0</td>\n",
              "      <td>0.0</td>\n",
              "    </tr>\n",
              "    <tr>\n",
              "      <th>...</th>\n",
              "      <td>...</td>\n",
              "      <td>...</td>\n",
              "      <td>...</td>\n",
              "      <td>...</td>\n",
              "      <td>...</td>\n",
              "      <td>...</td>\n",
              "      <td>...</td>\n",
              "    </tr>\n",
              "    <tr>\n",
              "      <th>390499800001070</th>\n",
              "      <td>0.0</td>\n",
              "      <td>0.0</td>\n",
              "      <td>0.0</td>\n",
              "      <td>0.0</td>\n",
              "      <td>0.0</td>\n",
              "      <td>0.0</td>\n",
              "      <td>0.0</td>\n",
              "    </tr>\n",
              "    <tr>\n",
              "      <th>390499800001071</th>\n",
              "      <td>0.0</td>\n",
              "      <td>0.0</td>\n",
              "      <td>0.0</td>\n",
              "      <td>0.0</td>\n",
              "      <td>0.0</td>\n",
              "      <td>0.0</td>\n",
              "      <td>0.0</td>\n",
              "    </tr>\n",
              "    <tr>\n",
              "      <th>390499800001072</th>\n",
              "      <td>0.0</td>\n",
              "      <td>0.0</td>\n",
              "      <td>0.0</td>\n",
              "      <td>0.0</td>\n",
              "      <td>0.0</td>\n",
              "      <td>0.0</td>\n",
              "      <td>0.0</td>\n",
              "    </tr>\n",
              "    <tr>\n",
              "      <th>390499800001073</th>\n",
              "      <td>0.0</td>\n",
              "      <td>0.0</td>\n",
              "      <td>0.0</td>\n",
              "      <td>0.0</td>\n",
              "      <td>0.0</td>\n",
              "      <td>0.0</td>\n",
              "      <td>0.0</td>\n",
              "    </tr>\n",
              "    <tr>\n",
              "      <th>390499800001074</th>\n",
              "      <td>0.0</td>\n",
              "      <td>0.0</td>\n",
              "      <td>0.0</td>\n",
              "      <td>0.0</td>\n",
              "      <td>0.0</td>\n",
              "      <td>0.0</td>\n",
              "      <td>0.0</td>\n",
              "    </tr>\n",
              "  </tbody>\n",
              "</table>\n",
              "<p>22826 rows × 7 columns</p>\n",
              "</div>"
            ],
            "text/plain": [
              "                   00   01   02   03   04   05   06\n",
              "BLK                                                \n",
              "390490001101000   0.0  2.0  0.0  1.0  0.0  2.0  0.0\n",
              "390490001101001   1.0  0.0  0.0  3.0  1.0  1.0  1.0\n",
              "390490001101002  43.0  0.0  0.0  0.0  0.0  2.0  1.0\n",
              "390490001101003  55.0  5.0  0.0  0.0  0.0  0.0  1.0\n",
              "390490001101004  49.0  0.0  0.0  2.0  0.0  0.0  0.0\n",
              "...               ...  ...  ...  ...  ...  ...  ...\n",
              "390499800001070   0.0  0.0  0.0  0.0  0.0  0.0  0.0\n",
              "390499800001071   0.0  0.0  0.0  0.0  0.0  0.0  0.0\n",
              "390499800001072   0.0  0.0  0.0  0.0  0.0  0.0  0.0\n",
              "390499800001073   0.0  0.0  0.0  0.0  0.0  0.0  0.0\n",
              "390499800001074   0.0  0.0  0.0  0.0  0.0  0.0  0.0\n",
              "\n",
              "[22826 rows x 7 columns]"
            ]
          },
          "metadata": {},
          "execution_count": 20
        }
      ]
    },
    {
      "cell_type": "markdown",
      "metadata": {
        "id": "p1u-_q6iWiEF"
      },
      "source": [
        "Guernsey county"
      ]
    },
    {
      "cell_type": "code",
      "metadata": {
        "colab": {
          "base_uri": "https://localhost:8080/",
          "height": 472
        },
        "id": "x5lM_HsiWk7i",
        "outputId": "4d765e21-9813-4f63-92ff-d7f584a78e6f"
      },
      "source": [
        "%cd \"/content/gdrive/My Drive/Colab Notebooks/census_privacy\"\n",
        "import pandas as pd\n",
        "import numpy as np\n",
        "\n",
        "n4 = 63\n",
        "filename_hist2_g = 'data/guernsey/microdata/rho_2.56/guernsey_hist_dp_blk2.csv'\n",
        "hist2_g = pd.read_csv(filename_hist2_g)\n",
        "hist2_g['BLK'] = hist2_g['BLK'].astype(str)\n",
        "col_names = hist2_g.columns.to_numpy()\n",
        "col_names = np.delete(col_names, [0, -1])\n",
        "hist2_g = hist2_g.groupby('BLK').sum()[col_names]\n",
        "\n",
        "col_two_or_more_races = []\n",
        "for x in range(n4):     # race\n",
        "    if x >= 0 and x <= 5:\n",
        "        x = '{number:0{width}d}'.format(width=2, number=x)\n",
        "        col_names = [col for col in hist2_g.columns if x in col[6:8]]\n",
        "        hist2_g[str(x)] = hist2_g[col_names].sum(axis=1)\n",
        "    else:\n",
        "        x = '{number:0{width}d}'.format(width=2, number=x)\n",
        "        col_names = [col for col in hist2_g.columns if x in col[6:8]]\n",
        "        col_two_or_more_races.extend(col_names)\n",
        "hist2_g['06'] = hist2_g[col_two_or_more_races].sum(axis=1)\n",
        "hist2_g.drop([col for col in hist2_g.columns if len(col)==8], axis=1, inplace=True)\n",
        "hist2_g"
      ],
      "execution_count": 21,
      "outputs": [
        {
          "output_type": "stream",
          "name": "stdout",
          "text": [
            "/content/gdrive/My Drive/Colab Notebooks/census_privacy\n"
          ]
        },
        {
          "output_type": "execute_result",
          "data": {
            "text/html": [
              "<div>\n",
              "<style scoped>\n",
              "    .dataframe tbody tr th:only-of-type {\n",
              "        vertical-align: middle;\n",
              "    }\n",
              "\n",
              "    .dataframe tbody tr th {\n",
              "        vertical-align: top;\n",
              "    }\n",
              "\n",
              "    .dataframe thead th {\n",
              "        text-align: right;\n",
              "    }\n",
              "</style>\n",
              "<table border=\"1\" class=\"dataframe\">\n",
              "  <thead>\n",
              "    <tr style=\"text-align: right;\">\n",
              "      <th></th>\n",
              "      <th>00</th>\n",
              "      <th>01</th>\n",
              "      <th>02</th>\n",
              "      <th>03</th>\n",
              "      <th>04</th>\n",
              "      <th>05</th>\n",
              "      <th>06</th>\n",
              "    </tr>\n",
              "    <tr>\n",
              "      <th>BLK</th>\n",
              "      <th></th>\n",
              "      <th></th>\n",
              "      <th></th>\n",
              "      <th></th>\n",
              "      <th></th>\n",
              "      <th></th>\n",
              "      <th></th>\n",
              "    </tr>\n",
              "  </thead>\n",
              "  <tbody>\n",
              "    <tr>\n",
              "      <th>390599771001000</th>\n",
              "      <td>9.0</td>\n",
              "      <td>0.0</td>\n",
              "      <td>0.0</td>\n",
              "      <td>0.0</td>\n",
              "      <td>0.0</td>\n",
              "      <td>0.0</td>\n",
              "      <td>0.0</td>\n",
              "    </tr>\n",
              "    <tr>\n",
              "      <th>390599771001001</th>\n",
              "      <td>0.0</td>\n",
              "      <td>0.0</td>\n",
              "      <td>0.0</td>\n",
              "      <td>0.0</td>\n",
              "      <td>0.0</td>\n",
              "      <td>0.0</td>\n",
              "      <td>0.0</td>\n",
              "    </tr>\n",
              "    <tr>\n",
              "      <th>390599771001002</th>\n",
              "      <td>0.0</td>\n",
              "      <td>0.0</td>\n",
              "      <td>0.0</td>\n",
              "      <td>0.0</td>\n",
              "      <td>0.0</td>\n",
              "      <td>0.0</td>\n",
              "      <td>0.0</td>\n",
              "    </tr>\n",
              "    <tr>\n",
              "      <th>390599771001003</th>\n",
              "      <td>27.0</td>\n",
              "      <td>0.0</td>\n",
              "      <td>0.0</td>\n",
              "      <td>0.0</td>\n",
              "      <td>0.0</td>\n",
              "      <td>0.0</td>\n",
              "      <td>0.0</td>\n",
              "    </tr>\n",
              "    <tr>\n",
              "      <th>390599771001004</th>\n",
              "      <td>0.0</td>\n",
              "      <td>0.0</td>\n",
              "      <td>0.0</td>\n",
              "      <td>0.0</td>\n",
              "      <td>0.0</td>\n",
              "      <td>0.0</td>\n",
              "      <td>0.0</td>\n",
              "    </tr>\n",
              "    <tr>\n",
              "      <th>...</th>\n",
              "      <td>...</td>\n",
              "      <td>...</td>\n",
              "      <td>...</td>\n",
              "      <td>...</td>\n",
              "      <td>...</td>\n",
              "      <td>...</td>\n",
              "      <td>...</td>\n",
              "    </tr>\n",
              "    <tr>\n",
              "      <th>390599780004093</th>\n",
              "      <td>30.0</td>\n",
              "      <td>0.0</td>\n",
              "      <td>0.0</td>\n",
              "      <td>0.0</td>\n",
              "      <td>0.0</td>\n",
              "      <td>0.0</td>\n",
              "      <td>0.0</td>\n",
              "    </tr>\n",
              "    <tr>\n",
              "      <th>390599780004094</th>\n",
              "      <td>6.0</td>\n",
              "      <td>0.0</td>\n",
              "      <td>0.0</td>\n",
              "      <td>0.0</td>\n",
              "      <td>0.0</td>\n",
              "      <td>0.0</td>\n",
              "      <td>0.0</td>\n",
              "    </tr>\n",
              "    <tr>\n",
              "      <th>390599780004095</th>\n",
              "      <td>0.0</td>\n",
              "      <td>0.0</td>\n",
              "      <td>0.0</td>\n",
              "      <td>0.0</td>\n",
              "      <td>0.0</td>\n",
              "      <td>0.0</td>\n",
              "      <td>0.0</td>\n",
              "    </tr>\n",
              "    <tr>\n",
              "      <th>390599780004096</th>\n",
              "      <td>0.0</td>\n",
              "      <td>0.0</td>\n",
              "      <td>0.0</td>\n",
              "      <td>0.0</td>\n",
              "      <td>0.0</td>\n",
              "      <td>0.0</td>\n",
              "      <td>0.0</td>\n",
              "    </tr>\n",
              "    <tr>\n",
              "      <th>390599780004097</th>\n",
              "      <td>4.0</td>\n",
              "      <td>0.0</td>\n",
              "      <td>0.0</td>\n",
              "      <td>0.0</td>\n",
              "      <td>0.0</td>\n",
              "      <td>0.0</td>\n",
              "      <td>0.0</td>\n",
              "    </tr>\n",
              "  </tbody>\n",
              "</table>\n",
              "<p>3769 rows × 7 columns</p>\n",
              "</div>"
            ],
            "text/plain": [
              "                   00   01   02   03   04   05   06\n",
              "BLK                                                \n",
              "390599771001000   9.0  0.0  0.0  0.0  0.0  0.0  0.0\n",
              "390599771001001   0.0  0.0  0.0  0.0  0.0  0.0  0.0\n",
              "390599771001002   0.0  0.0  0.0  0.0  0.0  0.0  0.0\n",
              "390599771001003  27.0  0.0  0.0  0.0  0.0  0.0  0.0\n",
              "390599771001004   0.0  0.0  0.0  0.0  0.0  0.0  0.0\n",
              "...               ...  ...  ...  ...  ...  ...  ...\n",
              "390599780004093  30.0  0.0  0.0  0.0  0.0  0.0  0.0\n",
              "390599780004094   6.0  0.0  0.0  0.0  0.0  0.0  0.0\n",
              "390599780004095   0.0  0.0  0.0  0.0  0.0  0.0  0.0\n",
              "390599780004096   0.0  0.0  0.0  0.0  0.0  0.0  0.0\n",
              "390599780004097   4.0  0.0  0.0  0.0  0.0  0.0  0.0\n",
              "\n",
              "[3769 rows x 7 columns]"
            ]
          },
          "metadata": {},
          "execution_count": 21
        }
      ]
    },
    {
      "cell_type": "markdown",
      "metadata": {
        "id": "EeZcCSfqrMD7"
      },
      "source": [
        "#####**Impact of resolutions (aggregation levels)**\n",
        "> We test the probability of finding a true unique at block, block group, and tract levels. We make comparisons among (1) our results, (2) NHGIS data from the 2021-06-08 vintage of the PPMF, and (3) the OLS estimators.\n",
        "\n"
      ]
    },
    {
      "cell_type": "markdown",
      "metadata": {
        "id": "3XuguTyHvd0R"
      },
      "source": [
        "Group 1: Franklin County, my data"
      ]
    },
    {
      "cell_type": "code",
      "metadata": {
        "colab": {
          "base_uri": "https://localhost:8080/"
        },
        "id": "uELpCq3krNuk",
        "outputId": "e191f53e-7817-4b97-9083-12f7f9cf6cb7"
      },
      "source": [
        "## block\n",
        "hist1_blk, hist2_blk = hist1, hist2\n",
        "tu = (hist1_blk == hist2_blk) & (hist1_blk == 1) & (hist2_blk == 1) # find a true unique\n",
        "n_tu = np.unique(tu.values, return_counts=True)[1][1]\n",
        "u = hist2_blk == 1  # uniques after noise injection\n",
        "n_u = np.unique(u.values, return_counts=True)[1][1]\n",
        "p_tu_blk = n_tu / n_u   # frequency of finding the true uniques\n",
        "\n",
        "## block group\n",
        "col_names = hist1.columns.to_numpy()\n",
        "hist1_bg = hist1.groupby(hist1.index.astype(str).str[:12]).sum()\n",
        "hist1_bg.index.name = 'BG'\n",
        "hist2_bg = hist2.groupby(hist2.index.astype(str).str[:12]).sum()\n",
        "hist2_bg.index.name = 'BG'\n",
        "\n",
        "tu = (hist1_bg == hist2_bg) & (hist1_bg == 1) & (hist2_bg == 1) # find a true unique\n",
        "n_tu = np.unique(tu.values, return_counts=True)[1][1]\n",
        "u = hist2_bg == 1  # uniques after noise injection\n",
        "n_u = np.unique(u.values, return_counts=True)[1][1]\n",
        "p_tu_bg = n_tu / n_u   # frequency of finding the true uniques\n",
        "\n",
        "## tract\n",
        "col_names = hist1.columns.to_numpy()\n",
        "hist1_tr = hist1.groupby(hist1.index.astype(str).str[:11]).sum()\n",
        "hist1_tr.index.name = 'TRACT'\n",
        "hist2_tr = hist2.groupby(hist2.index.astype(str).str[:11]).sum()\n",
        "hist2_tr.index.name = 'TRACT'\n",
        "\n",
        "tu = (hist1_tr == hist2_tr) & (hist1_tr == 1) & (hist2_tr == 1) # find a true unique\n",
        "n_tu = np.unique(tu.values, return_counts=True)[1][1]\n",
        "u = hist2_tr == 1  # uniques after noise injection\n",
        "n_u = np.unique(u.values, return_counts=True)[1][1]\n",
        "p_tu_tr = n_tu / n_u   # frequency of finding the true uniques\n",
        "\n",
        "print(p_tu_blk, p_tu_bg, p_tu_tr)"
      ],
      "execution_count": 22,
      "outputs": [
        {
          "output_type": "stream",
          "name": "stdout",
          "text": [
            "0.06568958245466049 0.13142857142857142 0.15384615384615385\n"
          ]
        }
      ]
    },
    {
      "cell_type": "markdown",
      "metadata": {
        "id": "7bnX9BpAvnPQ"
      },
      "source": [
        "Group 2: Franklin County, NHGIS data (2021-06-08)"
      ]
    },
    {
      "cell_type": "code",
      "metadata": {
        "colab": {
          "base_uri": "https://localhost:8080/"
        },
        "id": "GWO22mF4vrB8",
        "outputId": "f348051f-3d05-4259-ecf5-8c78be0a2d04"
      },
      "source": [
        "%cd \"/content/gdrive/My Drive/Colab Notebooks/census_privacy\"\n",
        "import pandas as pd\n",
        "\n",
        "## block\n",
        "filename_nhgis = 'data/nhgis/nhgis_ppdd_20210608_block_OH.csv'\n",
        "data_nhgis = pd.read_csv(filename_nhgis, encoding = \"ISO-8859-1\")\n",
        "data_nhgis[\"STATE\"] = data_nhgis[\"gisjoin\"].str.slice(1, 3)\n",
        "data_nhgis['COUNTY'] = data_nhgis[\"gisjoin\"].str.slice(4, 7)\n",
        "data_nhgis = data_nhgis[(data_nhgis[\"STATE\"] == '39') & (data_nhgis[\"COUNTY\"] == '049')]\n",
        "data_nhgis = data_nhgis[['H72003_dp', 'H72004_dp', 'H72005_dp', 'H72006_dp', 'H72007_dp', 'H72008_dp', 'H72009_dp', \n",
        "                         'H72003_sf', 'H72004_sf', 'H72005_sf', 'H72006_sf', 'H72007_sf', 'H72008_sf', 'H72009_sf']]\n",
        "hist1_nhgis_blk = data_nhgis[['H72003_sf', 'H72004_sf', 'H72005_sf', 'H72006_sf', 'H72007_sf', 'H72008_sf', 'H72009_sf']]\n",
        "hist1_nhgis_blk = hist1_nhgis_blk.rename(columns={'H72003_sf': '1', 'H72004_sf': '2', 'H72005_sf': '3', 'H72006_sf': '4', \n",
        "                                                  'H72007_sf': '5', 'H72008_sf': '6', 'H72009_sf': '7'})\n",
        "hist2_nhgis_blk = data_nhgis[['H72003_dp', 'H72004_dp', 'H72005_dp', 'H72006_dp', 'H72007_dp', 'H72008_dp', 'H72009_dp']]\n",
        "hist2_nhgis_blk = hist2_nhgis_blk.rename(columns={'H72003_dp': '1', 'H72004_dp': '2', 'H72005_dp': '3', 'H72006_dp': '4', \n",
        "                                                  'H72007_dp': '5', 'H72008_dp': '6', 'H72009_dp': '7'})\n",
        "\n",
        "tu = (hist1_nhgis_blk == hist2_nhgis_blk) & (hist1_nhgis_blk == 1) & (hist2_nhgis_blk == 1) # find a true unique\n",
        "n_tu = np.unique(tu.values, return_counts=True)[1][1]\n",
        "u = hist2_nhgis_blk == 1    # uniques after noise injection\n",
        "n_u = np.unique(u.values, return_counts=True)[1][1]\n",
        "p_tu_nhgis_blk = n_tu / n_u # frequency of finding the true uniques\n",
        "\n",
        "## block group\n",
        "filename_nhgis = 'data/nhgis/nhgis_ppdd_20210608_blck_grp.csv'\n",
        "data_nhgis = pd.read_csv(filename_nhgis, encoding = \"ISO-8859-1\")\n",
        "data_nhgis[\"STATE\"] = data_nhgis[\"gisjoin\"].str.slice(1, 3)\n",
        "data_nhgis['COUNTY'] = data_nhgis[\"gisjoin\"].str.slice(4, 7)\n",
        "data_nhgis = data_nhgis[(data_nhgis[\"STATE\"] == '39') & (data_nhgis[\"COUNTY\"] == '049')]\n",
        "data_nhgis = data_nhgis[['H72003_dp', 'H72004_dp', 'H72005_dp', 'H72006_dp', 'H72007_dp', 'H72008_dp', 'H72009_dp', \n",
        "                         'H72003_sf', 'H72004_sf', 'H72005_sf', 'H72006_sf', 'H72007_sf', 'H72008_sf', 'H72009_sf']]\n",
        "hist1_nhgis_bg = data_nhgis[['H72003_sf', 'H72004_sf', 'H72005_sf', 'H72006_sf', 'H72007_sf', 'H72008_sf', 'H72009_sf']]\n",
        "hist1_nhgis_bg = hist1_nhgis_bg.rename(columns={'H72003_sf': '1', 'H72004_sf': '2', 'H72005_sf': '3', 'H72006_sf': '4', \n",
        "                                                  'H72007_sf': '5', 'H72008_sf': '6', 'H72009_sf': '7'})\n",
        "hist2_nhgis_bg = data_nhgis[['H72003_dp', 'H72004_dp', 'H72005_dp', 'H72006_dp', 'H72007_dp', 'H72008_dp', 'H72009_dp']]\n",
        "hist2_nhgis_bg = hist2_nhgis_bg.rename(columns={'H72003_dp': '1', 'H72004_dp': '2', 'H72005_dp': '3', 'H72006_dp': '4', \n",
        "                                                  'H72007_dp': '5', 'H72008_dp': '6', 'H72009_dp': '7'})\n",
        "\n",
        "tu = (hist1_nhgis_bg == hist2_nhgis_bg) & (hist1_nhgis_bg == 1) & (hist2_nhgis_bg == 1) # find a true unique\n",
        "n_tu = np.unique(tu.values, return_counts=True)[1][1]\n",
        "u = hist2_nhgis_bg == 1    # uniques after noise injection\n",
        "n_u = np.unique(u.values, return_counts=True)[1][1]\n",
        "p_tu_nhgis_bg = n_tu / n_u # frequency of finding the true uniques\n",
        "\n",
        "## tract\n",
        "filename_nhgis = 'data/nhgis/nhgis_ppdd_20210608_tract.csv'\n",
        "data_nhgis = pd.read_csv(filename_nhgis, encoding = \"ISO-8859-1\")\n",
        "data_nhgis[\"STATE\"] = data_nhgis[\"gisjoin\"].str.slice(1, 3)\n",
        "data_nhgis['COUNTY'] = data_nhgis[\"gisjoin\"].str.slice(4, 7)\n",
        "data_nhgis = data_nhgis[(data_nhgis[\"STATE\"] == '39') & (data_nhgis[\"COUNTY\"] == '049')]\n",
        "data_nhgis = data_nhgis[['H72003_dp', 'H72004_dp', 'H72005_dp', 'H72006_dp', 'H72007_dp', 'H72008_dp', 'H72009_dp', \n",
        "                         'H72003_sf', 'H72004_sf', 'H72005_sf', 'H72006_sf', 'H72007_sf', 'H72008_sf', 'H72009_sf']]\n",
        "hist1_nhgis_tr = data_nhgis[['H72003_sf', 'H72004_sf', 'H72005_sf', 'H72006_sf', 'H72007_sf', 'H72008_sf', 'H72009_sf']]\n",
        "hist1_nhgis_tr = hist1_nhgis_tr.rename(columns={'H72003_sf': '1', 'H72004_sf': '2', 'H72005_sf': '3', 'H72006_sf': '4', \n",
        "                                                  'H72007_sf': '5', 'H72008_sf': '6', 'H72009_sf': '7'})\n",
        "hist2_nhgis_tr = data_nhgis[['H72003_dp', 'H72004_dp', 'H72005_dp', 'H72006_dp', 'H72007_dp', 'H72008_dp', 'H72009_dp']]\n",
        "hist2_nhgis_tr = hist2_nhgis_tr.rename(columns={'H72003_dp': '1', 'H72004_dp': '2', 'H72005_dp': '3', 'H72006_dp': '4', \n",
        "                                                  'H72007_dp': '5', 'H72008_dp': '6', 'H72009_dp': '7'})\n",
        "\n",
        "tu = (hist1_nhgis_tr == hist2_nhgis_tr) & (hist1_nhgis_tr == 1) & (hist2_nhgis_tr == 1) # find a true unique\n",
        "n_tu = np.unique(tu.values, return_counts=True)[1][1]\n",
        "u = hist2_nhgis_tr == 1    # uniques after noise injection\n",
        "n_u = np.unique(u.values, return_counts=True)[1][1]\n",
        "p_tu_nhgis_tr = n_tu / n_u # frequency of finding the true uniques\n",
        "\n",
        "print(p_tu_nhgis_blk, p_tu_nhgis_bg, p_tu_nhgis_tr)"
      ],
      "execution_count": 23,
      "outputs": [
        {
          "output_type": "stream",
          "name": "stdout",
          "text": [
            "/content/gdrive/My Drive/Colab Notebooks/census_privacy\n",
            "0.115491452991453 0.2316715542521994 0.18181818181818182\n"
          ]
        }
      ]
    },
    {
      "cell_type": "markdown",
      "metadata": {
        "id": "EksTgJrpyq7z"
      },
      "source": [
        "Group 3: Franklin County, OLS\n",
        "\n",
        "> Let $A_i$ = {cell = $i$ before noise injection}, and the noise be $W\\sim N(0,\\sigma^2)$. A true unique (TU) is a cell = 1 before and after noise injection. The probability of finding a true unique can be defined using the Bayes' theorem:\n",
        "\n",
        "> $p(TU)=\\frac{p(W=0)p(A_1)}{\\sum_ip(W=1-i)p(A_i)}$\n",
        "\n",
        "\n",
        "> $p(TU)$ is large if (i) the histogram is dominantly \"unique\", (ii) non-unique cells have relatively large values, and/or (iii) the privacy budget is large."
      ]
    },
    {
      "cell_type": "code",
      "metadata": {
        "colab": {
          "base_uri": "https://localhost:8080/"
        },
        "id": "8dgv8YF-RiME",
        "outputId": "ea223f67-c73a-461d-c576-0dc17eeecc7c"
      },
      "source": [
        "%cd \"/content/gdrive/My Drive/Colab Notebooks/census_privacy\"\n",
        "from lib.topdown_ols import *\n",
        "import scipy.stats\n",
        "import math\n",
        "\n",
        "eps = 17.14\n",
        "delta = 1e-10\n",
        "# rho = 1\n",
        "rho = cdp2adp.cdp_rho(eps, delta)\n",
        "\n",
        "## block\n",
        "f1, f2, f3, f4, f6, f7, f8, f9, f10, f11 = 165/4099*5/4097, 165/4099*9/4097, 165/4099*5/4097, 165/4099*5/4097, 165/4099*5/4097, 165/4099*21/4097, 165/4099*21/4097, 165/4099*5/4097, 165/4099*71/4097, 165/4099*3945/4097\n",
        "A = strategy_mtx(rho, f1, f2, f3, f4, f6, f7, f8, f9, f10, f11)\n",
        "W = workload_mtx_race()\n",
        "var = (W @ np.linalg.inv(A.T @ A) @ W.T)[0, 0]\n",
        "sigma = math.sqrt(var)\n",
        "column_values = hist1[hist1.columns].values.ravel()\n",
        "A = pd.unique(column_values)\n",
        "probs = []\n",
        "for i in A:\n",
        "    p1 = scipy.stats.norm(0, sigma).cdf(0.5 - i) - scipy.stats.norm(0, sigma).cdf(1.5 - i)\n",
        "    u0 = hist1 == i\n",
        "    p2 = np.unique(u0.values, return_counts=True)[1][1] / (np.unique(u0.values, return_counts=True)[1][1] + \n",
        "                                                           np.unique(u0.values, return_counts=True)[1][0])\n",
        "    probs.append(p1 * p2)\n",
        "p3 = scipy.stats.norm(0, sigma).cdf(-0.5) - scipy.stats.norm(0, sigma).cdf(0.5)\n",
        "u0 = hist1 == 1\n",
        "p4 = np.unique(u0.values, return_counts=True)[1][1] / (np.unique(u0.values, return_counts=True)[1][1] + \n",
        "                                                       np.unique(u0.values, return_counts=True)[1][0])\n",
        "p_tu_ols_blk = p3 * p4 / sum(probs)\n",
        "\n",
        "## block group\n",
        "col_names = hist1.columns.to_numpy()\n",
        "hist1_bg = hist1.groupby(hist1.index.astype(str).str[:12]).sum()\n",
        "\n",
        "f1, f2, f3, f4, f6, f7, f8, f9, f10, f11 = 1256/4099*1705/4099, 1256/4099*3/4099, 1256/4099*3/4099, 1256/4099*3/4099, 1256/4099*3/4099, 1256/4099*1055/4099, 1256/4099*9/4099, 1256/4099*3/4099, 1256/4099*24/4099, 1256/4099*1288/4099\n",
        "A = strategy_mtx(rho, f1, f2, f3, f4, f6, f7, f8, f9, f10, f11)\n",
        "W = workload_mtx_race()\n",
        "var = (W @ np.linalg.inv(A.T @ A) @ W.T)[0, 0]\n",
        "sigma = math.sqrt(var)\n",
        "\n",
        "column_values = hist1_bg[hist1_bg.columns].values.ravel()\n",
        "A = pd.unique(column_values)\n",
        "probs = []\n",
        "for i in A:\n",
        "    p1 = scipy.stats.norm(0, sigma).cdf(0.5 - i) - scipy.stats.norm(0, sigma).cdf(1.5 - i)\n",
        "    u0 = hist1_bg == i\n",
        "    p2 = np.unique(u0.values, return_counts=True)[1][1] / (np.unique(u0.values, return_counts=True)[1][1] + \n",
        "                                                           np.unique(u0.values, return_counts=True)[1][0])\n",
        "    probs.append(p1 * p2)\n",
        "p3 = scipy.stats.norm(0, sigma).cdf(-0.5) - scipy.stats.norm(0, sigma).cdf(0.5)\n",
        "u0 = hist1_bg == 1\n",
        "p4 = np.unique(u0.values, return_counts=True)[1][1] / (np.unique(u0.values, return_counts=True)[1][1] + \n",
        "                                                       np.unique(u0.values, return_counts=True)[1][0])\n",
        "p_tu_ols_bg = p3 * p4 / sum(probs)\n",
        "\n",
        "## tract\n",
        "col_names = hist1.columns.to_numpy()\n",
        "hist1_tr = hist1.groupby(hist1.index.astype(str).str[:11]).sum()\n",
        "\n",
        "f1, f2, f3, f4, f6, f7, f8, f9, f10, f11 = 687/4099*1567/4102, 687/4099*4/2051, 687/4099*5/4102, 687/4099*5/4102, 687/4099*5/4102, 687/4099*1933/4102, 687/4099*10/2051, 687/4099*5/4102, 687/4099*67/4102, 687/4099*241/2051\n",
        "A = strategy_mtx(rho, f1, f2, f3, f4, f6, f7, f8, f9, f10, f11)\n",
        "W = workload_mtx_race()\n",
        "var = (W @ np.linalg.inv(A.T @ A) @ W.T)[0, 0]\n",
        "sigma = math.sqrt(var)\n",
        "\n",
        "column_values = hist1_tr[hist1_tr.columns].values.ravel()\n",
        "A = pd.unique(column_values)\n",
        "probs = []\n",
        "for i in A:\n",
        "    p1 = scipy.stats.norm(0, sigma).cdf(0.5 - i) - scipy.stats.norm(0, sigma).cdf(1.5 - i)\n",
        "    u0 = hist1_tr == i\n",
        "    p2 = np.unique(u0.values, return_counts=True)[1][1] / (np.unique(u0.values, return_counts=True)[1][1] + \n",
        "                                                           np.unique(u0.values, return_counts=True)[1][0])\n",
        "    probs.append(p1 * p2)\n",
        "p3 = scipy.stats.norm(0, sigma).cdf(-0.5) - scipy.stats.norm(0, sigma).cdf(0.5)\n",
        "u0 = hist1_tr == 1\n",
        "p4 = np.unique(u0.values, return_counts=True)[1][1] / (np.unique(u0.values, return_counts=True)[1][1] + \n",
        "                                                       np.unique(u0.values, return_counts=True)[1][0])\n",
        "p_tu_ols_tr = p3 * p4 / sum(probs)\n",
        "\n",
        "print(p_tu_ols_blk, p_tu_ols_bg, p_tu_ols_tr)"
      ],
      "execution_count": 24,
      "outputs": [
        {
          "output_type": "stream",
          "name": "stdout",
          "text": [
            "/content/gdrive/My Drive/Colab Notebooks/census_privacy\n",
            "(1, 2016) (63, 2016) (2, 2016) (2, 2016) (8, 2016) (126, 2016) (126, 2016) (4, 2016) (252, 2016) (2016, 2016) (2600, 2016)\n",
            "(1, 2016) (63, 2016) (2, 2016) (2, 2016) (8, 2016) (126, 2016) (126, 2016) (4, 2016) (252, 2016) (2016, 2016) (2600, 2016)\n",
            "(1, 2016) (63, 2016) (2, 2016) (2, 2016) (8, 2016) (126, 2016) (126, 2016) (4, 2016) (252, 2016) (2016, 2016) (2600, 2016)\n",
            "0.04809997077232813 0.1995044826450929 0.24278397521046818\n"
          ]
        }
      ]
    },
    {
      "cell_type": "markdown",
      "metadata": {
        "id": "rrLZJdo9XIAS"
      },
      "source": [
        "Group 4: Guernsey County, my data"
      ]
    },
    {
      "cell_type": "code",
      "metadata": {
        "colab": {
          "base_uri": "https://localhost:8080/"
        },
        "id": "6sNISetOXIAT",
        "outputId": "724aad8d-8ef2-4016-f76e-4ac095b208cb"
      },
      "source": [
        "## block\n",
        "hist1_blk_g, hist2_blk_g = hist1_g, hist2_g\n",
        "tu = (hist1_blk_g == hist2_blk_g) & (hist1_blk_g == 1) & (hist2_blk_g == 1) # find a true unique\n",
        "n_tu = np.unique(tu.values, return_counts=True)[1][1]\n",
        "u = hist2_blk_g == 1  # uniques after noise injection\n",
        "n_u = np.unique(u.values, return_counts=True)[1][1]\n",
        "p_tu_blk_g = n_tu / n_u   # frequency of finding the true uniques\n",
        "\n",
        "## block group\n",
        "col_names = hist1_g.columns.to_numpy()\n",
        "hist1_bg_g = hist1_g.groupby(hist1_g.index.astype(str).str[:12]).sum()\n",
        "hist1_bg_g.index.name = 'BG'\n",
        "hist2_bg_g = hist2_g.groupby(hist2_g.index.astype(str).str[:12]).sum()\n",
        "hist2_bg_g.index.name = 'BG'\n",
        "\n",
        "tu = (hist1_bg_g == hist2_bg_g) & (hist1_bg_g == 1) & (hist2_bg_g == 1) # find a true unique\n",
        "n_tu = np.unique(tu.values, return_counts=True)[1][1]\n",
        "u = hist2_bg_g == 1  # uniques after noise injection\n",
        "n_u = np.unique(u.values, return_counts=True)[1][1]\n",
        "p_tu_bg_g = n_tu / n_u   # frequency of finding the true uniques\n",
        "\n",
        "## tract\n",
        "# col_names = hist1_g.columns.to_numpy()\n",
        "# hist1_tr_g = hist1_g.groupby(hist1_g.index.astype(str).str[:11]).sum()\n",
        "# hist1_tr_g.index.name = 'TRACT'\n",
        "# hist2_tr_g = hist2_g.groupby(hist2_g.index.astype(str).str[:11]).sum()\n",
        "# hist2_tr_g.index.name = 'TRACT'\n",
        "\n",
        "# tu = (hist1_tr_g == hist2_tr_g) & (hist1_tr_g == 1) & (hist2_tr_g == 1) # find a true unique\n",
        "# n_tu = np.unique(tu.values, return_counts=True)\n",
        "# print(n_tu[1])\n",
        "# if len(n_tu) > 0:  \n",
        "#     n_tu = np.unique(tu.values, return_counts=True)[1][1]\n",
        "#     u = hist2_tr_g == 1  # uniques after noise injection\n",
        "#     n_u = np.unique(u.values, return_counts=True)[1][1]\n",
        "#     p_tu_tr_g = n_tu / n_u   # frequency of finding the true uniques\n",
        "# else:\n",
        "#     p_tu_tr_g = 0\n",
        "print(p_tu_blk_g, p_tu_bg_g)"
      ],
      "execution_count": 25,
      "outputs": [
        {
          "output_type": "stream",
          "name": "stdout",
          "text": [
            "0.00625 0.2857142857142857\n"
          ]
        }
      ]
    },
    {
      "cell_type": "markdown",
      "metadata": {
        "id": "c-Nl-i2lXcbO"
      },
      "source": [
        "Group 5: Guernsey County, NHGIS data (2021-06-08)"
      ]
    },
    {
      "cell_type": "code",
      "metadata": {
        "colab": {
          "base_uri": "https://localhost:8080/"
        },
        "id": "G1LbNWpkXcbP",
        "outputId": "79a00630-85e8-4650-f2a8-f0115772a737"
      },
      "source": [
        "%cd \"/content/gdrive/My Drive/Colab Notebooks/census_privacy\"\n",
        "import pandas as pd\n",
        "\n",
        "## block\n",
        "filename_nhgis = 'data/nhgis/nhgis_ppdd_20210608_block_OH.csv'\n",
        "data_nhgis = pd.read_csv(filename_nhgis, encoding = \"ISO-8859-1\")\n",
        "data_nhgis[\"STATE\"] = data_nhgis[\"gisjoin\"].str.slice(1, 3)\n",
        "data_nhgis['COUNTY'] = data_nhgis[\"gisjoin\"].str.slice(4, 7)\n",
        "data_nhgis = data_nhgis[(data_nhgis[\"STATE\"] == '39') & (data_nhgis[\"COUNTY\"] == '059')]\n",
        "data_nhgis = data_nhgis[['H72003_dp', 'H72004_dp', 'H72005_dp', 'H72006_dp', 'H72007_dp', 'H72008_dp', 'H72009_dp', \n",
        "                         'H72003_sf', 'H72004_sf', 'H72005_sf', 'H72006_sf', 'H72007_sf', 'H72008_sf', 'H72009_sf']]\n",
        "hist1_nhgis_blk = data_nhgis[['H72003_sf', 'H72004_sf', 'H72005_sf', 'H72006_sf', 'H72007_sf', 'H72008_sf', 'H72009_sf']]\n",
        "hist1_nhgis_blk = hist1_nhgis_blk.rename(columns={'H72003_sf': '1', 'H72004_sf': '2', 'H72005_sf': '3', 'H72006_sf': '4', \n",
        "                                                  'H72007_sf': '5', 'H72008_sf': '6', 'H72009_sf': '7'})\n",
        "hist2_nhgis_blk = data_nhgis[['H72003_dp', 'H72004_dp', 'H72005_dp', 'H72006_dp', 'H72007_dp', 'H72008_dp', 'H72009_dp']]\n",
        "hist2_nhgis_blk = hist2_nhgis_blk.rename(columns={'H72003_dp': '1', 'H72004_dp': '2', 'H72005_dp': '3', 'H72006_dp': '4', \n",
        "                                                  'H72007_dp': '5', 'H72008_dp': '6', 'H72009_dp': '7'})\n",
        "\n",
        "tu = (hist1_nhgis_blk == hist2_nhgis_blk) & (hist1_nhgis_blk == 1) & (hist2_nhgis_blk == 1) # find a true unique\n",
        "n_tu = np.unique(tu.values, return_counts=True)[1][1]\n",
        "u = hist2_nhgis_blk == 1    # uniques after noise injection\n",
        "n_u = np.unique(u.values, return_counts=True)[1][1]\n",
        "p_tu_nhgis_blk_g = n_tu / n_u # frequency of finding the true uniques\n",
        "\n",
        "## block group\n",
        "filename_nhgis = 'data/nhgis/nhgis_ppdd_20210608_blck_grp.csv'\n",
        "data_nhgis = pd.read_csv(filename_nhgis, encoding = \"ISO-8859-1\")\n",
        "data_nhgis[\"STATE\"] = data_nhgis[\"gisjoin\"].str.slice(1, 3)\n",
        "data_nhgis['COUNTY'] = data_nhgis[\"gisjoin\"].str.slice(4, 7)\n",
        "data_nhgis = data_nhgis[(data_nhgis[\"STATE\"] == '39') & (data_nhgis[\"COUNTY\"] == '059')]\n",
        "data_nhgis = data_nhgis[['H72003_dp', 'H72004_dp', 'H72005_dp', 'H72006_dp', 'H72007_dp', 'H72008_dp', 'H72009_dp', \n",
        "                         'H72003_sf', 'H72004_sf', 'H72005_sf', 'H72006_sf', 'H72007_sf', 'H72008_sf', 'H72009_sf']]\n",
        "hist1_nhgis_bg = data_nhgis[['H72003_sf', 'H72004_sf', 'H72005_sf', 'H72006_sf', 'H72007_sf', 'H72008_sf', 'H72009_sf']]\n",
        "hist1_nhgis_bg = hist1_nhgis_bg.rename(columns={'H72003_sf': '1', 'H72004_sf': '2', 'H72005_sf': '3', 'H72006_sf': '4', \n",
        "                                                  'H72007_sf': '5', 'H72008_sf': '6', 'H72009_sf': '7'})\n",
        "hist2_nhgis_bg = data_nhgis[['H72003_dp', 'H72004_dp', 'H72005_dp', 'H72006_dp', 'H72007_dp', 'H72008_dp', 'H72009_dp']]\n",
        "hist2_nhgis_bg = hist2_nhgis_bg.rename(columns={'H72003_dp': '1', 'H72004_dp': '2', 'H72005_dp': '3', 'H72006_dp': '4', \n",
        "                                                  'H72007_dp': '5', 'H72008_dp': '6', 'H72009_dp': '7'})\n",
        "\n",
        "tu = (hist1_nhgis_bg == hist2_nhgis_bg) & (hist1_nhgis_bg == 1) & (hist2_nhgis_bg == 1) # find a true unique\n",
        "n_tu = np.unique(tu.values, return_counts=True)[1][1]\n",
        "u = hist2_nhgis_bg == 1    # uniques after noise injection\n",
        "n_u = np.unique(u.values, return_counts=True)[1][1]\n",
        "p_tu_nhgis_bg_g = n_tu / n_u # frequency of finding the true uniques\n",
        "\n",
        "## tract\n",
        "filename_nhgis = 'data/nhgis/nhgis_ppdd_20210608_tract.csv'\n",
        "data_nhgis = pd.read_csv(filename_nhgis, encoding = \"ISO-8859-1\")\n",
        "data_nhgis[\"STATE\"] = data_nhgis[\"gisjoin\"].str.slice(1, 3)\n",
        "data_nhgis['COUNTY'] = data_nhgis[\"gisjoin\"].str.slice(4, 7)\n",
        "data_nhgis = data_nhgis[(data_nhgis[\"STATE\"] == '39') & (data_nhgis[\"COUNTY\"] == '059')]\n",
        "data_nhgis = data_nhgis[['H72003_dp', 'H72004_dp', 'H72005_dp', 'H72006_dp', 'H72007_dp', 'H72008_dp', 'H72009_dp', \n",
        "                         'H72003_sf', 'H72004_sf', 'H72005_sf', 'H72006_sf', 'H72007_sf', 'H72008_sf', 'H72009_sf']]\n",
        "hist1_nhgis_tr = data_nhgis[['H72003_sf', 'H72004_sf', 'H72005_sf', 'H72006_sf', 'H72007_sf', 'H72008_sf', 'H72009_sf']]\n",
        "hist1_nhgis_tr = hist1_nhgis_tr.rename(columns={'H72003_sf': '1', 'H72004_sf': '2', 'H72005_sf': '3', 'H72006_sf': '4', \n",
        "                                                  'H72007_sf': '5', 'H72008_sf': '6', 'H72009_sf': '7'})\n",
        "hist2_nhgis_tr = data_nhgis[['H72003_dp', 'H72004_dp', 'H72005_dp', 'H72006_dp', 'H72007_dp', 'H72008_dp', 'H72009_dp']]\n",
        "hist2_nhgis_tr = hist2_nhgis_tr.rename(columns={'H72003_dp': '1', 'H72004_dp': '2', 'H72005_dp': '3', 'H72006_dp': '4', \n",
        "                                                  'H72007_dp': '5', 'H72008_dp': '6', 'H72009_dp': '7'})\n",
        "\n",
        "tu = (hist1_nhgis_tr == hist2_nhgis_tr) & (hist1_nhgis_tr == 1) & (hist2_nhgis_tr == 1) # find a true unique\n",
        "n_tu = np.unique(tu.values, return_counts=True)[1][1]\n",
        "u = hist2_nhgis_tr == 1    # uniques after noise injection\n",
        "n_u = np.unique(u.values, return_counts=True)[1][1]\n",
        "p_tu_nhgis_tr_g = n_tu / n_u # frequency of finding the true uniques\n",
        "\n",
        "print(p_tu_nhgis_blk_g, p_tu_nhgis_bg_g, p_tu_nhgis_tr_g)"
      ],
      "execution_count": 26,
      "outputs": [
        {
          "output_type": "stream",
          "name": "stdout",
          "text": [
            "/content/gdrive/My Drive/Colab Notebooks/census_privacy\n",
            "0.05701078582434515 0.3448275862068966 0.5\n"
          ]
        }
      ]
    },
    {
      "cell_type": "markdown",
      "metadata": {
        "id": "bsU7zgaZYIAf"
      },
      "source": [
        "Group 6: Guernsey County, OLS"
      ]
    },
    {
      "cell_type": "code",
      "metadata": {
        "colab": {
          "base_uri": "https://localhost:8080/"
        },
        "id": "75IihwMAYIAg",
        "outputId": "1e74c4c9-e941-433d-f705-3ca35bf6c23c"
      },
      "source": [
        "%cd \"/content/gdrive/My Drive/Colab Notebooks/census_privacy\"\n",
        "from lib.topdown_ols import *\n",
        "import scipy.stats\n",
        "import math\n",
        "\n",
        "eps = 17.14\n",
        "delta = 1e-10\n",
        "# rho = 1\n",
        "rho = cdp2adp.cdp_rho(eps, delta)\n",
        "\n",
        "## block\n",
        "f1, f2, f3, f4, f6, f7, f8, f9, f10, f11 = 165/4099*5/4097, 165/4099*9/4097, 165/4099*5/4097, 165/4099*5/4097, 165/4099*5/4097, 165/4099*21/4097, 165/4099*21/4097, 165/4099*5/4097, 165/4099*71/4097, 165/4099*3945/4097\n",
        "A = strategy_mtx(rho, f1, f2, f3, f4, f6, f7, f8, f9, f10, f11)\n",
        "W = workload_mtx_race()\n",
        "var = (W @ np.linalg.inv(A.T @ A) @ W.T)[0, 0]\n",
        "sigma = math.sqrt(var)\n",
        "column_values = hist1_g[hist1_g.columns].values.ravel()\n",
        "A = pd.unique(column_values)\n",
        "probs = []\n",
        "for i in A:\n",
        "    p1 = scipy.stats.norm(0, sigma).cdf(0.5 - i) - scipy.stats.norm(0, sigma).cdf(1.5 - i)\n",
        "    u0 = hist1_g == i\n",
        "    p2 = np.unique(u0.values, return_counts=True)[1][1] / (np.unique(u0.values, return_counts=True)[1][1] + \n",
        "                                                           np.unique(u0.values, return_counts=True)[1][0])\n",
        "    probs.append(p1 * p2)\n",
        "p3 = scipy.stats.norm(0, sigma).cdf(-0.5) - scipy.stats.norm(0, sigma).cdf(0.5)\n",
        "u0 = hist1_g == 1\n",
        "p4 = np.unique(u0.values, return_counts=True)[1][1] / (np.unique(u0.values, return_counts=True)[1][1] + \n",
        "                                                       np.unique(u0.values, return_counts=True)[1][0])\n",
        "p_tu_ols_blk_g = p3 * p4 / sum(probs)\n",
        "\n",
        "## block group\n",
        "col_names = hist1_g.columns.to_numpy()\n",
        "hist1_bg_g = hist1_g.groupby(hist1_g.index.astype(str).str[:12]).sum()\n",
        "\n",
        "f1, f2, f3, f4, f6, f7, f8, f9, f10, f11 = 1256/4099*1705/4099, 1256/4099*3/4099, 1256/4099*3/4099, 1256/4099*3/4099, 1256/4099*3/4099, 1256/4099*1055/4099, 1256/4099*9/4099, 1256/4099*3/4099, 1256/4099*24/4099, 1256/4099*1288/4099\n",
        "A = strategy_mtx(rho, f1, f2, f3, f4, f6, f7, f8, f9, f10, f11)\n",
        "W = workload_mtx_race()\n",
        "var = (W @ np.linalg.inv(A.T @ A) @ W.T)[0, 0]\n",
        "sigma = math.sqrt(var)\n",
        "\n",
        "column_values = hist1_bg_g[hist1_bg_g.columns].values.ravel()\n",
        "A = pd.unique(column_values)\n",
        "probs = []\n",
        "for i in A:\n",
        "    p1 = scipy.stats.norm(0, sigma).cdf(0.5 - i) - scipy.stats.norm(0, sigma).cdf(1.5 - i)\n",
        "    u0 = hist1_bg_g == i\n",
        "    p2 = np.unique(u0.values, return_counts=True)[1][1] / (np.unique(u0.values, return_counts=True)[1][1] + \n",
        "                                                           np.unique(u0.values, return_counts=True)[1][0])\n",
        "    probs.append(p1 * p2)\n",
        "p3 = scipy.stats.norm(0, sigma).cdf(-0.5) - scipy.stats.norm(0, sigma).cdf(0.5)\n",
        "u0 = hist1_bg_g == 1\n",
        "p4 = np.unique(u0.values, return_counts=True)[1][1] / (np.unique(u0.values, return_counts=True)[1][1] + \n",
        "                                                       np.unique(u0.values, return_counts=True)[1][0])\n",
        "p_tu_ols_bg_g = p3 * p4 / sum(probs)\n",
        "\n",
        "## tract\n",
        "col_names = hist1_g.columns.to_numpy()\n",
        "hist1_tr_g = hist1_g.groupby(hist1_g.index.astype(str).str[:11]).sum()\n",
        "\n",
        "f1, f2, f3, f4, f6, f7, f8, f9, f10, f11 = 687/4099*1567/4102, 687/4099*4/2051, 687/4099*5/4102, 687/4099*5/4102, 687/4099*5/4102, 687/4099*1933/4102, 687/4099*10/2051, 687/4099*5/4102, 687/4099*67/4102, 687/4099*241/2051\n",
        "A = strategy_mtx(rho, f1, f2, f3, f4, f6, f7, f8, f9, f10, f11)\n",
        "W = workload_mtx_race()\n",
        "var = (W @ np.linalg.inv(A.T @ A) @ W.T)[0, 0]\n",
        "sigma = math.sqrt(var)\n",
        "\n",
        "column_values = hist1_tr_g[hist1_tr_g.columns].values.ravel()\n",
        "A = pd.unique(column_values)\n",
        "probs = []\n",
        "for i in A:\n",
        "    p1 = scipy.stats.norm(0, sigma).cdf(0.5 - i) - scipy.stats.norm(0, sigma).cdf(1.5 - i)\n",
        "    u0 = hist1_tr_g == i\n",
        "    p2 = np.unique(u0.values, return_counts=True)[1][1] / (np.unique(u0.values, return_counts=True)[1][1] + \n",
        "                                                           np.unique(u0.values, return_counts=True)[1][0])\n",
        "    probs.append(p1 * p2)\n",
        "p3 = scipy.stats.norm(0, sigma).cdf(-0.5) - scipy.stats.norm(0, sigma).cdf(0.5)\n",
        "u0 = hist1_tr_g == 1\n",
        "p4 = np.unique(u0.values, return_counts=True)[1][1] / (np.unique(u0.values, return_counts=True)[1][1] + \n",
        "                                                       np.unique(u0.values, return_counts=True)[1][0])\n",
        "p_tu_ols_tr_g = p3 * p4 / sum(probs)\n",
        "\n",
        "print(p_tu_ols_blk_g, p_tu_ols_bg_g, p_tu_ols_tr_g)"
      ],
      "execution_count": 27,
      "outputs": [
        {
          "output_type": "stream",
          "name": "stdout",
          "text": [
            "/content/gdrive/My Drive/Colab Notebooks/census_privacy\n",
            "(1, 2016) (63, 2016) (2, 2016) (2, 2016) (8, 2016) (126, 2016) (126, 2016) (4, 2016) (252, 2016) (2016, 2016) (2600, 2016)\n",
            "(1, 2016) (63, 2016) (2, 2016) (2, 2016) (8, 2016) (126, 2016) (126, 2016) (4, 2016) (252, 2016) (2016, 2016) (2600, 2016)\n",
            "(1, 2016) (63, 2016) (2, 2016) (2, 2016) (8, 2016) (126, 2016) (126, 2016) (4, 2016) (252, 2016) (2016, 2016) (2600, 2016)\n",
            "0.015682139806798945 0.23104619071063917 0.27013258704964604\n"
          ]
        }
      ]
    },
    {
      "cell_type": "code",
      "metadata": {
        "colab": {
          "base_uri": "https://localhost:8080/",
          "height": 265
        },
        "id": "BTY9Ee4I0ZEf",
        "outputId": "7bb02fc1-9c9d-4f26-f3e4-b35158e23091"
      },
      "source": [
        "import matplotlib.pyplot as plt\n",
        "\n",
        "labels = ['Block', 'Block Group', 'Tract']\n",
        "x = np.arange(len(labels))  # the label locations\n",
        "width = 0.1 # the width of the bars\n",
        "fig, ax = plt.subplots(2)\n",
        "colors = [(0, 0, 1, 1), (1, 0, 0, 1), (1, 1, 0, 1)]\n",
        "\n",
        "## franklin\n",
        "p_tu_1 = [p_tu_blk, p_tu_bg, p_tu_tr]\n",
        "p_tu_2 = [p_tu_nhgis_blk, p_tu_nhgis_bg, p_tu_nhgis_tr]\n",
        "p_tu_3 = [p_tu_ols_blk, p_tu_ols_bg, p_tu_ols_tr]\n",
        "\n",
        "rects1 = ax[0].bar(x - width, p_tu_1, width, label='Franklin (My data)', color=(0,0,0,0), edgecolor=colors[0])\n",
        "rects3 = ax[0].bar(x, p_tu_2, width, label='Franklin (NHGIS)', color=(0,0,0,0), edgecolor=colors[1])\n",
        "rects2 = ax[0].bar(x + width, p_tu_3, width, label='Franklin (OLS)', color=(0,0,0,0), edgecolor=colors[2])\n",
        "\n",
        "ax[0].set_ylabel('p(TU)')\n",
        "ax[0].set_xticks(x)\n",
        "ax[0].set_xticklabels(labels)\n",
        "ax[0].legend()\n",
        "\n",
        "## guernsey\n",
        "# p_tu_1 = [p_tu_blk_g, p_tu_bg_g, p_tu_tr_g]\n",
        "p_tu_2 = [p_tu_nhgis_blk_g, p_tu_nhgis_bg_g, p_tu_nhgis_tr_g]\n",
        "p_tu_3 = [p_tu_ols_blk_g, p_tu_ols_bg_g, p_tu_ols_tr_g]\n",
        "\n",
        "# rects1 = ax[1].bar(x - width, p_tu_1, width, label='Guernsey (My data)', color=(0,0,0,0), edgecolor=colors[0])\n",
        "rects3 = ax[1].bar(x, p_tu_2, width, label='Guernsey (NHGIS)', color=(0,0,0,0), edgecolor=colors[1])\n",
        "rects2 = ax[1].bar(x + width, p_tu_3, width, label='Guernsey (OLS)', color=(0,0,0,0), edgecolor=colors[2])\n",
        "\n",
        "ax[1].set_ylabel('p(TU)')\n",
        "ax[1].set_xticks(x)\n",
        "ax[1].set_xticklabels(labels)\n",
        "ax[1].legend()\n",
        "\n",
        "plt.show()"
      ],
      "execution_count": 28,
      "outputs": [
        {
          "output_type": "display_data",
          "data": {
            "image/png": "[encoded data removed]",
            "text/plain": [
              "<Figure size 432x288 with 2 Axes>"
            ]
          },
          "metadata": {
            "needs_background": "light"
          }
        }
      ]
    },
    {
      "cell_type": "markdown",
      "metadata": {
        "id": "ieirVzBe9WW5"
      },
      "source": [
        "#####**Impact of extents**"
      ]
    },
    {
      "cell_type": "markdown",
      "metadata": {
        "id": "Vh_1LBqdTyTB"
      },
      "source": [
        "Read block and tract data"
      ]
    },
    {
      "cell_type": "code",
      "metadata": {
        "id": "KB49RS8R9ZLQ",
        "colab": {
          "base_uri": "https://localhost:8080/"
        },
        "outputId": "3257e162-cc24-40b7-f0fa-b1e39f236037"
      },
      "source": [
        "!pip install geopandas\n",
        "!pip install pysal"
      ],
      "execution_count": 29,
      "outputs": [
        {
          "output_type": "stream",
          "name": "stdout",
          "text": [
            "Requirement already satisfied: geopandas in /usr/local/lib/python3.7/dist-packages (0.10.0)\n",
            "Requirement already satisfied: pyproj>=2.2.0 in /usr/local/lib/python3.7/dist-packages (from geopandas) (3.2.1)\n",
            "Requirement already satisfied: shapely>=1.6 in /usr/local/lib/python3.7/dist-packages (from geopandas) (1.7.1)\n",
            "Requirement already satisfied: fiona>=1.8 in /usr/local/lib/python3.7/dist-packages (from geopandas) (1.8.20)\n",
            "Requirement already satisfied: pandas>=0.25.0 in /usr/local/lib/python3.7/dist-packages (from geopandas) (1.1.5)\n",
            "Requirement already satisfied: click>=4.0 in /usr/local/lib/python3.7/dist-packages (from fiona>=1.8->geopandas) (7.1.2)\n",
            "Requirement already satisfied: cligj>=0.5 in /usr/local/lib/python3.7/dist-packages (from fiona>=1.8->geopandas) (0.7.2)\n",
            "Requirement already satisfied: six>=1.7 in /usr/local/lib/python3.7/dist-packages (from fiona>=1.8->geopandas) (1.15.0)\n",
            "Requirement already satisfied: click-plugins>=1.0 in /usr/local/lib/python3.7/dist-packages (from fiona>=1.8->geopandas) (1.1.1)\n",
            "Requirement already satisfied: attrs>=17 in /usr/local/lib/python3.7/dist-packages (from fiona>=1.8->geopandas) (21.2.0)\n",
            "Requirement already satisfied: munch in /usr/local/lib/python3.7/dist-packages (from fiona>=1.8->geopandas) (2.5.0)\n",
            "Requirement already satisfied: certifi in /usr/local/lib/python3.7/dist-packages (from fiona>=1.8->geopandas) (2021.5.30)\n",
            "Requirement already satisfied: setuptools in /usr/local/lib/python3.7/dist-packages (from fiona>=1.8->geopandas) (57.4.0)\n",
            "Requirement already satisfied: pytz>=2017.2 in /usr/local/lib/python3.7/dist-packages (from pandas>=0.25.0->geopandas) (2018.9)\n",
            "Requirement already satisfied: numpy>=1.15.4 in /usr/local/lib/python3.7/dist-packages (from pandas>=0.25.0->geopandas) (1.19.5)\n",
            "Requirement already satisfied: python-dateutil>=2.7.3 in /usr/local/lib/python3.7/dist-packages (from pandas>=0.25.0->geopandas) (2.8.0)\n",
            "Requirement already satisfied: pysal in /usr/local/lib/python3.7/dist-packages (2.5.0)\n",
            "Requirement already satisfied: mapclassify>=2.4.3 in /usr/local/lib/python3.7/dist-packages (from pysal) (2.4.3)\n",
            "Requirement already satisfied: urllib3>=1.26 in /usr/local/lib/python3.7/dist-packages (from pysal) (1.26.7)\n",
            "Requirement already satisfied: libpysal>=4.5.1 in /usr/local/lib/python3.7/dist-packages (from pysal) (4.5.1)\n",
            "Requirement already satisfied: esda>=2.4.1 in /usr/local/lib/python3.7/dist-packages (from pysal) (2.4.1)\n",
            "Requirement already satisfied: spaghetti>=1.6.2 in /usr/local/lib/python3.7/dist-packages (from pysal) (1.6.4)\n",
            "Requirement already satisfied: spglm>=1.0.8 in /usr/local/lib/python3.7/dist-packages (from pysal) (1.0.8)\n",
            "Requirement already satisfied: spint>=1.0.7 in /usr/local/lib/python3.7/dist-packages (from pysal) (1.0.7)\n",
            "Requirement already satisfied: tobler>=0.8.2 in /usr/local/lib/python3.7/dist-packages (from pysal) (0.8.2)\n",
            "Requirement already satisfied: spreg>=1.2.4 in /usr/local/lib/python3.7/dist-packages (from pysal) (1.2.4)\n",
            "Requirement already satisfied: splot>=1.1.4 in /usr/local/lib/python3.7/dist-packages (from pysal) (1.1.4)\n",
            "Requirement already satisfied: pytest in /usr/local/lib/python3.7/dist-packages (from pysal) (3.6.4)\n",
            "Requirement already satisfied: pytest-cov in /usr/local/lib/python3.7/dist-packages (from pysal) (2.9.0)\n",
            "Requirement already satisfied: access>=1.1.3 in /usr/local/lib/python3.7/dist-packages (from pysal) (1.1.3)\n",
            "Requirement already satisfied: coverage in /usr/local/lib/python3.7/dist-packages (from pysal) (6.0)\n",
            "Requirement already satisfied: spopt>=0.1.2 in /usr/local/lib/python3.7/dist-packages (from pysal) (0.1.2)\n",
            "Requirement already satisfied: segregation>=2.0.0 in /usr/local/lib/python3.7/dist-packages (from pysal) (2.1.0)\n",
            "Requirement already satisfied: spvcm>=0.3.0 in /usr/local/lib/python3.7/dist-packages (from pysal) (0.3.0)\n",
            "Requirement already satisfied: python-dateutil<=2.8.0 in /usr/local/lib/python3.7/dist-packages (from pysal) (2.8.0)\n",
            "Requirement already satisfied: mgwr>=2.1.2 in /usr/local/lib/python3.7/dist-packages (from pysal) (2.1.2)\n",
            "Requirement already satisfied: giddy>=2.3.3 in /usr/local/lib/python3.7/dist-packages (from pysal) (2.3.3)\n",
            "Requirement already satisfied: pointpats>=2.2.0 in /usr/local/lib/python3.7/dist-packages (from pysal) (2.2.0)\n",
            "Requirement already satisfied: inequality>=1.0.0 in /usr/local/lib/python3.7/dist-packages (from pysal) (1.0.0)\n",
            "Requirement already satisfied: numpy>=1.3 in /usr/local/lib/python3.7/dist-packages (from access>=1.1.3->pysal) (1.19.5)\n",
            "Requirement already satisfied: pandas>=0.23.4 in /usr/local/lib/python3.7/dist-packages (from access>=1.1.3->pysal) (1.1.5)\n",
            "Requirement already satisfied: scipy>=0.11 in /usr/local/lib/python3.7/dist-packages (from esda>=2.4.1->pysal) (1.4.1)\n",
            "Requirement already satisfied: scikit-learn in /usr/local/lib/python3.7/dist-packages (from esda>=2.4.1->pysal) (0.22.2.post1)\n",
            "Requirement already satisfied: quantecon>=0.4.7 in /usr/local/lib/python3.7/dist-packages (from giddy>=2.3.3->pysal) (0.5.1)\n",
            "Requirement already satisfied: beautifulsoup4 in /usr/local/lib/python3.7/dist-packages (from libpysal>=4.5.1->pysal) (4.6.3)\n",
            "Requirement already satisfied: jinja2 in /usr/local/lib/python3.7/dist-packages (from libpysal>=4.5.1->pysal) (2.11.3)\n",
            "Requirement already satisfied: requests in /usr/local/lib/python3.7/dist-packages (from libpysal>=4.5.1->pysal) (2.26.0)\n",
            "Requirement already satisfied: networkx in /usr/local/lib/python3.7/dist-packages (from mapclassify>=2.4.3->pysal) (2.6.3)\n",
            "Requirement already satisfied: pytz>=2017.2 in /usr/local/lib/python3.7/dist-packages (from pandas>=0.23.4->access>=1.1.3->pysal) (2018.9)\n",
            "Requirement already satisfied: matplotlib in /usr/local/lib/python3.7/dist-packages (from pointpats>=2.2.0->pysal) (3.2.2)\n",
            "Requirement already satisfied: opencv-contrib-python>=4.2.0 in /usr/local/lib/python3.7/dist-packages (from pointpats>=2.2.0->pysal) (4.5.3.56)\n",
            "Requirement already satisfied: six>=1.5 in /usr/local/lib/python3.7/dist-packages (from python-dateutil<=2.8.0->pysal) (1.15.0)\n",
            "Requirement already satisfied: sympy in /usr/local/lib/python3.7/dist-packages (from quantecon>=0.4.7->giddy>=2.3.3->pysal) (1.7.1)\n",
            "Requirement already satisfied: numba>=0.38 in /usr/local/lib/python3.7/dist-packages (from quantecon>=0.4.7->giddy>=2.3.3->pysal) (0.51.2)\n",
            "Requirement already satisfied: llvmlite<0.35,>=0.34.0.dev0 in /usr/local/lib/python3.7/dist-packages (from numba>=0.38->quantecon>=0.4.7->giddy>=2.3.3->pysal) (0.34.0)\n",
            "Requirement already satisfied: setuptools in /usr/local/lib/python3.7/dist-packages (from numba>=0.38->quantecon>=0.4.7->giddy>=2.3.3->pysal) (57.4.0)\n",
            "Requirement already satisfied: pygeos in /usr/local/lib/python3.7/dist-packages (from segregation>=2.0.0->pysal) (0.10.2)\n",
            "Requirement already satisfied: quilt3 in /usr/local/lib/python3.7/dist-packages (from segregation>=2.0.0->pysal) (3.5.0)\n",
            "Requirement already satisfied: deprecation in /usr/local/lib/python3.7/dist-packages (from segregation>=2.0.0->pysal) (2.1.0)\n",
            "Requirement already satisfied: tqdm in /usr/local/lib/python3.7/dist-packages (from segregation>=2.0.0->pysal) (4.62.3)\n",
            "Requirement already satisfied: rvlib>=0.0.5 in /usr/local/lib/python3.7/dist-packages (from segregation>=2.0.0->pysal) (0.0.5)\n",
            "Requirement already satisfied: geopandas>=0.9 in /usr/local/lib/python3.7/dist-packages (from segregation>=2.0.0->pysal) (0.10.0)\n",
            "Requirement already satisfied: pip in /usr/local/lib/python3.7/dist-packages (from segregation>=2.0.0->pysal) (21.1.3)\n",
            "Requirement already satisfied: seaborn in /usr/local/lib/python3.7/dist-packages (from segregation>=2.0.0->pysal) (0.11.2)\n",
            "Requirement already satisfied: joblib in /usr/local/lib/python3.7/dist-packages (from segregation>=2.0.0->pysal) (1.0.1)\n",
            "Requirement already satisfied: fiona>=1.8 in /usr/local/lib/python3.7/dist-packages (from geopandas>=0.9->segregation>=2.0.0->pysal) (1.8.20)\n",
            "Requirement already satisfied: shapely>=1.6 in /usr/local/lib/python3.7/dist-packages (from geopandas>=0.9->segregation>=2.0.0->pysal) (1.7.1)\n",
            "Requirement already satisfied: pyproj>=2.2.0 in /usr/local/lib/python3.7/dist-packages (from geopandas>=0.9->segregation>=2.0.0->pysal) (3.2.1)\n",
            "Requirement already satisfied: click>=4.0 in /usr/local/lib/python3.7/dist-packages (from fiona>=1.8->geopandas>=0.9->segregation>=2.0.0->pysal) (7.1.2)\n",
            "Requirement already satisfied: attrs>=17 in /usr/local/lib/python3.7/dist-packages (from fiona>=1.8->geopandas>=0.9->segregation>=2.0.0->pysal) (21.2.0)\n",
            "Requirement already satisfied: cligj>=0.5 in /usr/local/lib/python3.7/dist-packages (from fiona>=1.8->geopandas>=0.9->segregation>=2.0.0->pysal) (0.7.2)\n",
            "Requirement already satisfied: munch in /usr/local/lib/python3.7/dist-packages (from fiona>=1.8->geopandas>=0.9->segregation>=2.0.0->pysal) (2.5.0)\n",
            "Requirement already satisfied: certifi in /usr/local/lib/python3.7/dist-packages (from fiona>=1.8->geopandas>=0.9->segregation>=2.0.0->pysal) (2021.5.30)\n",
            "Requirement already satisfied: click-plugins>=1.0 in /usr/local/lib/python3.7/dist-packages (from fiona>=1.8->geopandas>=0.9->segregation>=2.0.0->pysal) (1.1.1)\n",
            "Requirement already satisfied: cffi>=1.0.0 in /usr/local/lib/python3.7/dist-packages (from rvlib>=0.0.5->segregation>=2.0.0->pysal) (1.14.6)\n",
            "Requirement already satisfied: PyYAML in /usr/local/lib/python3.7/dist-packages (from rvlib>=0.0.5->segregation>=2.0.0->pysal) (5.4.1)\n",
            "Requirement already satisfied: pycparser in /usr/local/lib/python3.7/dist-packages (from cffi>=1.0.0->rvlib>=0.0.5->segregation>=2.0.0->pysal) (2.20)\n",
            "Requirement already satisfied: rtree in /usr/local/lib/python3.7/dist-packages (from spaghetti>=1.6.2->pysal) (0.9.7)\n",
            "Requirement already satisfied: descartes in /usr/local/lib/python3.7/dist-packages (from splot>=1.1.4->pysal) (1.1.0)\n",
            "Requirement already satisfied: pulp in /usr/local/lib/python3.7/dist-packages (from spopt>=0.1.2->pysal) (2.5.1)\n",
            "Requirement already satisfied: rasterio in /usr/local/lib/python3.7/dist-packages (from tobler>=0.8.2->pysal) (1.2.9)\n",
            "Requirement already satisfied: rasterstats in /usr/local/lib/python3.7/dist-packages (from tobler>=0.8.2->pysal) (0.15.0)\n",
            "Requirement already satisfied: statsmodels in /usr/local/lib/python3.7/dist-packages (from tobler>=0.8.2->pysal) (0.10.2)\n",
            "Requirement already satisfied: packaging in /usr/local/lib/python3.7/dist-packages (from deprecation->segregation>=2.0.0->pysal) (21.0)\n",
            "Requirement already satisfied: MarkupSafe>=0.23 in /usr/local/lib/python3.7/dist-packages (from jinja2->libpysal>=4.5.1->pysal) (2.0.1)\n",
            "Requirement already satisfied: pyparsing!=2.0.4,!=2.1.2,!=2.1.6,>=2.0.1 in /usr/local/lib/python3.7/dist-packages (from matplotlib->pointpats>=2.2.0->pysal) (2.4.7)\n",
            "Requirement already satisfied: kiwisolver>=1.0.1 in /usr/local/lib/python3.7/dist-packages (from matplotlib->pointpats>=2.2.0->pysal) (1.3.2)\n",
            "Requirement already satisfied: cycler>=0.10 in /usr/local/lib/python3.7/dist-packages (from matplotlib->pointpats>=2.2.0->pysal) (0.10.0)\n",
            "Requirement already satisfied: atomicwrites>=1.0 in /usr/local/lib/python3.7/dist-packages (from pytest->pysal) (1.4.0)\n",
            "Requirement already satisfied: more-itertools>=4.0.0 in /usr/local/lib/python3.7/dist-packages (from pytest->pysal) (8.10.0)\n",
            "Requirement already satisfied: py>=1.5.0 in /usr/local/lib/python3.7/dist-packages (from pytest->pysal) (1.10.0)\n",
            "Requirement already satisfied: pluggy<0.8,>=0.5 in /usr/local/lib/python3.7/dist-packages (from pytest->pysal) (0.7.1)\n",
            "Requirement already satisfied: jsonlines==1.2.0 in /usr/local/lib/python3.7/dist-packages (from quilt3->segregation>=2.0.0->pysal) (1.2.0)\n",
            "Requirement already satisfied: requests-futures==1.0.0 in /usr/local/lib/python3.7/dist-packages (from quilt3->segregation>=2.0.0->pysal) (1.0.0)\n",
            "Requirement already satisfied: boto3>=1.10.0 in /usr/local/lib/python3.7/dist-packages (from quilt3->segregation>=2.0.0->pysal) (1.18.53)\n",
            "Requirement already satisfied: tenacity>=5.1.1 in /usr/local/lib/python3.7/dist-packages (from quilt3->segregation>=2.0.0->pysal) (8.0.1)\n",
            "Requirement already satisfied: flask-json in /usr/local/lib/python3.7/dist-packages (from quilt3->segregation>=2.0.0->pysal) (0.3.4)\n",
            "Requirement already satisfied: jsonschema==3.* in /usr/local/lib/python3.7/dist-packages (from quilt3->segregation>=2.0.0->pysal) (3.2.0)\n",
            "Requirement already satisfied: aws-requests-auth>=0.4.2 in /usr/local/lib/python3.7/dist-packages (from quilt3->segregation>=2.0.0->pysal) (0.4.3)\n",
            "Requirement already satisfied: appdirs>=1.4.0 in /usr/local/lib/python3.7/dist-packages (from quilt3->segregation>=2.0.0->pysal) (1.4.4)\n",
            "Requirement already satisfied: dnspython>=1.16.0 in /usr/local/lib/python3.7/dist-packages (from quilt3->segregation>=2.0.0->pysal) (2.1.0)\n",
            "Requirement already satisfied: flask in /usr/local/lib/python3.7/dist-packages (from quilt3->segregation>=2.0.0->pysal) (1.1.4)\n",
            "Requirement already satisfied: flask-cors in /usr/local/lib/python3.7/dist-packages (from quilt3->segregation>=2.0.0->pysal) (3.0.10)\n",
            "Requirement already satisfied: importlib-metadata in /usr/local/lib/python3.7/dist-packages (from jsonschema==3.*->quilt3->segregation>=2.0.0->pysal) (4.8.1)\n",
            "Requirement already satisfied: pyrsistent>=0.14.0 in /usr/local/lib/python3.7/dist-packages (from jsonschema==3.*->quilt3->segregation>=2.0.0->pysal) (0.18.0)\n",
            "Requirement already satisfied: botocore<1.22.0,>=1.21.53 in /usr/local/lib/python3.7/dist-packages (from boto3>=1.10.0->quilt3->segregation>=2.0.0->pysal) (1.21.53)\n",
            "Requirement already satisfied: jmespath<1.0.0,>=0.7.1 in /usr/local/lib/python3.7/dist-packages (from boto3>=1.10.0->quilt3->segregation>=2.0.0->pysal) (0.10.0)\n",
            "Requirement already satisfied: s3transfer<0.6.0,>=0.5.0 in /usr/local/lib/python3.7/dist-packages (from boto3>=1.10.0->quilt3->segregation>=2.0.0->pysal) (0.5.0)\n",
            "Requirement already satisfied: charset-normalizer~=2.0.0 in /usr/local/lib/python3.7/dist-packages (from requests->libpysal>=4.5.1->pysal) (2.0.6)\n",
            "Requirement already satisfied: idna<4,>=2.5 in /usr/local/lib/python3.7/dist-packages (from requests->libpysal>=4.5.1->pysal) (2.10)\n",
            "Requirement already satisfied: Werkzeug<2.0,>=0.15 in /usr/local/lib/python3.7/dist-packages (from flask->quilt3->segregation>=2.0.0->pysal) (1.0.1)\n",
            "Requirement already satisfied: itsdangerous<2.0,>=0.24 in /usr/local/lib/python3.7/dist-packages (from flask->quilt3->segregation>=2.0.0->pysal) (1.1.0)\n",
            "Requirement already satisfied: typing-extensions>=3.6.4 in /usr/local/lib/python3.7/dist-packages (from importlib-metadata->jsonschema==3.*->quilt3->segregation>=2.0.0->pysal) (3.7.4.3)\n",
            "Requirement already satisfied: zipp>=0.5 in /usr/local/lib/python3.7/dist-packages (from importlib-metadata->jsonschema==3.*->quilt3->segregation>=2.0.0->pysal) (3.5.0)\n",
            "Requirement already satisfied: snuggs>=1.4.1 in /usr/local/lib/python3.7/dist-packages (from rasterio->tobler>=0.8.2->pysal) (1.4.7)\n",
            "Requirement already satisfied: affine in /usr/local/lib/python3.7/dist-packages (from rasterio->tobler>=0.8.2->pysal) (2.3.0)\n",
            "Requirement already satisfied: simplejson in /usr/local/lib/python3.7/dist-packages (from rasterstats->tobler>=0.8.2->pysal) (3.17.5)\n",
            "Requirement already satisfied: patsy>=0.4.0 in /usr/local/lib/python3.7/dist-packages (from statsmodels->tobler>=0.8.2->pysal) (0.5.1)\n",
            "Requirement already satisfied: mpmath>=0.19 in /usr/local/lib/python3.7/dist-packages (from sympy->quantecon>=0.4.7->giddy>=2.3.3->pysal) (1.2.1)\n"
          ]
        }
      ]
    },
    {
      "cell_type": "markdown",
      "metadata": {
        "id": "C2BG_IVUdXnl"
      },
      "source": [
        "Franklin county"
      ]
    },
    {
      "cell_type": "code",
      "metadata": {
        "id": "DDWaNiW69kcK",
        "colab": {
          "base_uri": "https://localhost:8080/"
        },
        "outputId": "4f57cf58-5581-4402-cd5f-c39f1e3abf6c"
      },
      "source": [
        "%cd \"/content/gdrive/My Drive/Colab Notebooks/census_privacy\"\n",
        "import geopandas as gpd\n",
        "\n",
        "filename_block = 'data/franklin/buildings/franklin_block10.json'\n",
        "data_block = gpd.read_file(filename_block)\n",
        "data_block['GEOID10'] = data_block['GEOID10'].astype(str)\n",
        "data_block['BGID10'] = data_block['GEOID10'].str[:12]\n",
        "data_block['TRACTID10'] = data_block['GEOID10'].str[:11]\n",
        "data_block.columns"
      ],
      "execution_count": 30,
      "outputs": [
        {
          "output_type": "stream",
          "name": "stdout",
          "text": [
            "/content/gdrive/My Drive/Colab Notebooks/census_privacy\n"
          ]
        },
        {
          "output_type": "execute_result",
          "data": {
            "text/plain": [
              "Index(['OBJECTID_1', 'STATEFP10', 'COUNTYFP10', 'TRACTCE10', 'BLOCKCE10',\n",
              "       'GEOID10', 'NAME10', 'MTFCC10', 'UR10', 'UACE10', 'UATYPE',\n",
              "       'FUNCSTAT10', 'ALAND10', 'AWATER10', 'INTPTLAT10', 'INTPTLON10', 'PUMA',\n",
              "       'Shape_Length', 'Shape_Area', 'BGID10', 'TRACTID10', 'geometry'],\n",
              "      dtype='object')"
            ]
          },
          "metadata": {},
          "execution_count": 30
        }
      ]
    },
    {
      "cell_type": "code",
      "metadata": {
        "id": "QjoiQCBU9qVn",
        "colab": {
          "base_uri": "https://localhost:8080/"
        },
        "outputId": "a7d896b8-e796-4ffa-e4c0-bd349676c326"
      },
      "source": [
        "%cd \"/content/gdrive/My Drive/Colab Notebooks/census_privacy\"\n",
        "import geopandas as gpd\n",
        "\n",
        "filename_tract = 'data/franklin/buildings/franklin_tract10.json'\n",
        "data_tract = gpd.read_file(filename_tract)\n",
        "data_tract['GEOID10'] = data_tract['GEOID10'].astype(str)\n",
        "data_tract.columns"
      ],
      "execution_count": 31,
      "outputs": [
        {
          "output_type": "stream",
          "name": "stdout",
          "text": [
            "/content/gdrive/My Drive/Colab Notebooks/census_privacy\n"
          ]
        },
        {
          "output_type": "execute_result",
          "data": {
            "text/plain": [
              "Index(['OBJECTID', 'STATEFP10', 'COUNTYFP10', 'TRACTCE10', 'GEOID10', 'NAME10',\n",
              "       'NAMELSAD10', 'MTFCC10', 'FUNCSTAT10', 'ALAND10', 'AWATER10',\n",
              "       'INTPTLAT10', 'INTPTLON10', 'Shape_Length', 'Shape_Area', 'geometry'],\n",
              "      dtype='object')"
            ]
          },
          "metadata": {},
          "execution_count": 31
        }
      ]
    },
    {
      "cell_type": "markdown",
      "metadata": {
        "id": "pZYlBFkNdbi3"
      },
      "source": [
        "Guernsey county"
      ]
    },
    {
      "cell_type": "code",
      "metadata": {
        "colab": {
          "base_uri": "https://localhost:8080/"
        },
        "id": "SFWCVT3Bdbi3",
        "outputId": "cecd7034-6c87-4964-9427-34ca05ddfb66"
      },
      "source": [
        "%cd \"/content/gdrive/My Drive/Colab Notebooks/census_privacy\"\n",
        "import geopandas as gpd\n",
        "\n",
        "filename_block_g = 'data/guernsey/buildings/guernsey_block10.json'\n",
        "data_block_g = gpd.read_file(filename_block_g)\n",
        "data_block_g['GEOID10'] = data_block_g['GEOID10'].astype(str)\n",
        "data_block_g['BGID10'] = data_block_g['GEOID10'].str[:12]\n",
        "data_block_g['TRACTID10'] = data_block_g['GEOID10'].str[:11]\n",
        "data_block_g.columns"
      ],
      "execution_count": 32,
      "outputs": [
        {
          "output_type": "stream",
          "name": "stdout",
          "text": [
            "/content/gdrive/My Drive/Colab Notebooks/census_privacy\n"
          ]
        },
        {
          "output_type": "execute_result",
          "data": {
            "text/plain": [
              "Index(['FID', 'STATEFP10', 'COUNTYFP10', 'TRACTCE10', 'BLOCKCE10', 'GEOID10',\n",
              "       'NAME10', 'MTFCC10', 'UR10', 'UACE10', 'FUNCSTAT10', 'ALAND10',\n",
              "       'AWATER10', 'INTPTLAT10', 'INTPTLON10', 'geometry', 'BGID10',\n",
              "       'TRACTID10'],\n",
              "      dtype='object')"
            ]
          },
          "metadata": {},
          "execution_count": 32
        }
      ]
    },
    {
      "cell_type": "code",
      "metadata": {
        "colab": {
          "base_uri": "https://localhost:8080/"
        },
        "id": "b9I6-fnidbi4",
        "outputId": "2588139a-b3e6-41b4-b9c4-bc6d93cd554d"
      },
      "source": [
        "%cd \"/content/gdrive/My Drive/Colab Notebooks/census_privacy\"\n",
        "import geopandas as gpd\n",
        "\n",
        "filename_tract_g = 'data/guernsey/buildings/guernsey_tract10.json'\n",
        "data_tract_g = gpd.read_file(filename_tract_g)\n",
        "data_tract_g['GEOID10'] = data_tract_g['GEOID10'].astype(str)\n",
        "data_tract_g.columns"
      ],
      "execution_count": 33,
      "outputs": [
        {
          "output_type": "stream",
          "name": "stdout",
          "text": [
            "/content/gdrive/My Drive/Colab Notebooks/census_privacy\n"
          ]
        },
        {
          "output_type": "execute_result",
          "data": {
            "text/plain": [
              "Index(['FID', 'STATEFP10', 'COUNTYFP10', 'TRACTCE10', 'GEOID10', 'NAME10',\n",
              "       'NAMELSAD10', 'MTFCC10', 'FUNCSTAT10', 'ALAND10', 'AWATER10',\n",
              "       'INTPTLAT10', 'INTPTLON10', 'geometry'],\n",
              "      dtype='object')"
            ]
          },
          "metadata": {},
          "execution_count": 33
        }
      ]
    },
    {
      "cell_type": "markdown",
      "metadata": {
        "id": "sh30xKiNT-RW"
      },
      "source": [
        "######**Continuous neighbors**\n",
        "\n",
        "> Find blocks in the most populated tract (largest population density), and keep searching the neighbors based on Rook continuity until all blocks in the county are covered.\n",
        "\n"
      ]
    },
    {
      "cell_type": "markdown",
      "metadata": {
        "id": "x5lYLDQ_dC4a"
      },
      "source": [
        "**Franklin county**"
      ]
    },
    {
      "cell_type": "code",
      "metadata": {
        "colab": {
          "base_uri": "https://localhost:8080/",
          "height": 206
        },
        "id": "Lvx3s3dWT-SE",
        "outputId": "5d85ef55-d6f8-4596-ae59-95d09029551f"
      },
      "source": [
        "total = hist1_tr.sum(axis=1).to_frame()\n",
        "total[\"GEOID10\"] = total.index.map(str)\n",
        "total = total.rename(columns={total.columns[0]: \"POP\"})\n",
        "total.index.name = None\n",
        "data_tract_new = data_tract.merge(total[['GEOID10', 'POP']], how='left', on=['GEOID10'])\n",
        "total.head()"
      ],
      "execution_count": 34,
      "outputs": [
        {
          "output_type": "execute_result",
          "data": {
            "text/html": [
              "<div>\n",
              "<style scoped>\n",
              "    .dataframe tbody tr th:only-of-type {\n",
              "        vertical-align: middle;\n",
              "    }\n",
              "\n",
              "    .dataframe tbody tr th {\n",
              "        vertical-align: top;\n",
              "    }\n",
              "\n",
              "    .dataframe thead th {\n",
              "        text-align: right;\n",
              "    }\n",
              "</style>\n",
              "<table border=\"1\" class=\"dataframe\">\n",
              "  <thead>\n",
              "    <tr style=\"text-align: right;\">\n",
              "      <th></th>\n",
              "      <th>POP</th>\n",
              "      <th>GEOID10</th>\n",
              "    </tr>\n",
              "  </thead>\n",
              "  <tbody>\n",
              "    <tr>\n",
              "      <th>39049000110</th>\n",
              "      <td>3316</td>\n",
              "      <td>39049000110</td>\n",
              "    </tr>\n",
              "    <tr>\n",
              "      <th>39049000120</th>\n",
              "      <td>3122</td>\n",
              "      <td>39049000120</td>\n",
              "    </tr>\n",
              "    <tr>\n",
              "      <th>39049000210</th>\n",
              "      <td>2889</td>\n",
              "      <td>39049000210</td>\n",
              "    </tr>\n",
              "    <tr>\n",
              "      <th>39049000220</th>\n",
              "      <td>3674</td>\n",
              "      <td>39049000220</td>\n",
              "    </tr>\n",
              "    <tr>\n",
              "      <th>39049000310</th>\n",
              "      <td>3047</td>\n",
              "      <td>39049000310</td>\n",
              "    </tr>\n",
              "  </tbody>\n",
              "</table>\n",
              "</div>"
            ],
            "text/plain": [
              "              POP      GEOID10\n",
              "39049000110  3316  39049000110\n",
              "39049000120  3122  39049000120\n",
              "39049000210  2889  39049000210\n",
              "39049000220  3674  39049000220\n",
              "39049000310  3047  39049000310"
            ]
          },
          "metadata": {},
          "execution_count": 34
        }
      ]
    },
    {
      "cell_type": "code",
      "metadata": {
        "colab": {
          "base_uri": "https://localhost:8080/"
        },
        "id": "K5lwLCbRT-SG",
        "outputId": "2c81ee3c-c826-4d58-d2e8-fbbff08a886d"
      },
      "source": [
        "data_tract_new[\"POP_DEN\"] = data_tract_new[\"POP\"] / data_tract_new[\"ALAND10\"]\n",
        "max_index = data_tract_new[\"POP_DEN\"].idxmax()\n",
        "max_id = data_tract_new.loc[max_index].at['GEOID10']\n",
        "max_index, max_id"
      ],
      "execution_count": 35,
      "outputs": [
        {
          "output_type": "execute_result",
          "data": {
            "text/plain": [
              "(232, '39049001810')"
            ]
          },
          "metadata": {},
          "execution_count": 35
        }
      ]
    },
    {
      "cell_type": "markdown",
      "metadata": {
        "id": "45HCeHqlWo05"
      },
      "source": [
        "Group 1: Franklin County, my data"
      ]
    },
    {
      "cell_type": "code",
      "metadata": {
        "colab": {
          "base_uri": "https://localhost:8080/"
        },
        "id": "VNuCPlRqT-SH",
        "outputId": "fe1f05a8-bac2-47f0-ecb3-dd62aaef7a8b"
      },
      "source": [
        "import geopandas as gpd\n",
        "from pysal.lib import weights\n",
        "import scipy.stats\n",
        "\n",
        "# k-nearest neighbors for all tracts\n",
        "k10 = weights.Rook.from_dataframe(data_tract)\n",
        "\n",
        "tract_index = [max_index]\n",
        "p_tu = []\n",
        "flag = 0\n",
        "while flag < 1:\n",
        "    if len(tract_index) == len(data_tract):\n",
        "        flag = 1\n",
        "\n",
        "    # create histogram\n",
        "    tract_ids = data_tract[\"GEOID10\"].iloc[tract_index]\n",
        "    hist1_sub = hist1[hist1.index.astype(str).str[:11].isin(tract_ids)].sort_index()\n",
        "    hist2_sub = hist2[hist2.index.astype(str).str[:11].isin(tract_ids)].sort_index()\n",
        "    \n",
        "    # calculate p(TU)\n",
        "    tu = (hist1_sub == hist2_sub) & (hist1_sub == 1) & (hist2_sub == 1) # find a true unique\n",
        "    n_tu = np.unique(tu.values, return_counts=True)[1][1]\n",
        "    u = hist2_sub == 1  # uniques after noise injection\n",
        "    n_u = np.unique(u.values, return_counts=True)[1][1]\n",
        "    p_tu_all = n_tu / n_u   # frequency of finding the true uniques\n",
        "    p_tu.append(p_tu_all)\n",
        "\n",
        "    # add neighbors \n",
        "    nb_index = [k10.neighbors.get(tract) for tract in tract_index]\n",
        "    nb_index = [x for sublist in nb_index for x in sublist]\n",
        "    tract_index = list(set(np.append(tract_index, nb_index)))\n",
        "    # print(len(tract_index))\n",
        "p_tu"
      ],
      "execution_count": 36,
      "outputs": [
        {
          "output_type": "execute_result",
          "data": {
            "text/plain": [
              "[0.09090909090909091,\n",
              " 0.037037037037037035,\n",
              " 0.08430913348946135,\n",
              " 0.08067729083665338,\n",
              " 0.07761642463695544,\n",
              " 0.07682659140796488,\n",
              " 0.07269617276031644,\n",
              " 0.06855032910579548,\n",
              " 0.06486555371479547,\n",
              " 0.0670926517571885,\n",
              " 0.06607410580424074,\n",
              " 0.06568958245466049]"
            ]
          },
          "metadata": {},
          "execution_count": 36
        }
      ]
    },
    {
      "cell_type": "markdown",
      "metadata": {
        "id": "OOFBOYNqZPJg"
      },
      "source": [
        "Group 2: Franklin County, NHGIS data (2021-06-08)"
      ]
    },
    {
      "cell_type": "code",
      "metadata": {
        "colab": {
          "base_uri": "https://localhost:8080/"
        },
        "id": "dvRGndA2ZSMn",
        "outputId": "1a86dc77-5800-43ac-ce70-30d2da03087e"
      },
      "source": [
        "%cd \"/content/gdrive/My Drive/Colab Notebooks/census_privacy\"\n",
        "import pandas as pd\n",
        "import geopandas as gpd\n",
        "from pysal.lib import weights\n",
        "import scipy.stats\n",
        "\n",
        "filename_nhgis = 'data/nhgis/nhgis_ppdd_20210608_block_OH.csv'\n",
        "data_nhgis = pd.read_csv(filename_nhgis, encoding = \"ISO-8859-1\")\n",
        "data_nhgis[\"STATE\"] = data_nhgis[\"gisjoin\"].str.slice(1, 3)\n",
        "data_nhgis['COUNTY'] = data_nhgis[\"gisjoin\"].str.slice(4, 7)\n",
        "data_nhgis['TRACT'] = data_nhgis[\"gisjoin\"].str.slice(8, 14)\n",
        "data_nhgis['GEOID10'] = data_nhgis[['STATE', 'COUNTY', 'TRACT']].apply(lambda x: ''.join(x), axis=1)\n",
        "data_nhgis = data_nhgis.set_index('GEOID10')\n",
        "data_nhgis = data_nhgis[['H72003_dp', 'H72004_dp', 'H72005_dp', 'H72006_dp', 'H72007_dp', 'H72008_dp', 'H72009_dp', \n",
        "                         'H72003_sf', 'H72004_sf', 'H72005_sf', 'H72006_sf', 'H72007_sf', 'H72008_sf', 'H72009_sf']]\n",
        "hist1_nhgis_blk = data_nhgis[['H72003_sf', 'H72004_sf', 'H72005_sf', 'H72006_sf', 'H72007_sf', 'H72008_sf', 'H72009_sf']]\n",
        "hist1_nhgis_blk = hist1_nhgis_blk.rename(columns={'H72003_sf': '1', 'H72004_sf': '2', 'H72005_sf': '3', 'H72006_sf': '4', \n",
        "                                                  'H72007_sf': '5', 'H72008_sf': '6', 'H72009_sf': '7'})\n",
        "hist2_nhgis_blk = data_nhgis[['H72003_dp', 'H72004_dp', 'H72005_dp', 'H72006_dp', 'H72007_dp', 'H72008_dp', 'H72009_dp']]\n",
        "hist2_nhgis_blk = hist2_nhgis_blk.rename(columns={'H72003_dp': '1', 'H72004_dp': '2', 'H72005_dp': '3', 'H72006_dp': '4', \n",
        "                                                  'H72007_dp': '5', 'H72008_dp': '6', 'H72009_dp': '7'})\n",
        "\n",
        "# k-nearest neighbors for all tracts\n",
        "k10 = weights.Rook.from_dataframe(data_tract)\n",
        "\n",
        "tract_index = [max_index]\n",
        "p_tu_nhgis = []\n",
        "flag = 0\n",
        "while flag < 1:\n",
        "    if len(tract_index) == len(data_tract):\n",
        "        flag = 1\n",
        "\n",
        "    # create histogram\n",
        "    tract_ids = data_tract[\"GEOID10\"].iloc[tract_index]\n",
        "    hist1_sub = hist1_nhgis_blk[hist1_nhgis_blk.index.astype(str).isin(tract_ids)].sort_index()\n",
        "    hist2_sub = hist2_nhgis_blk[hist2_nhgis_blk.index.astype(str).isin(tract_ids)].sort_index()\n",
        "    \n",
        "    # calculate p(TU)\n",
        "    tu = (hist1_sub == hist2_sub) & (hist1_sub == 1) & (hist2_sub == 1) # find a true unique\n",
        "    n_tu = np.unique(tu.values, return_counts=True)[1][1]\n",
        "    u = hist2_sub == 1  # uniques after noise injection\n",
        "    n_u = np.unique(u.values, return_counts=True)[1][1]\n",
        "    p_tu_all = n_tu / n_u   # frequency of finding the true uniques\n",
        "    p_tu_nhgis.append(p_tu_all)\n",
        "\n",
        "    # add neighbors \n",
        "    nb_index = [k10.neighbors.get(tract) for tract in tract_index]\n",
        "    nb_index = [x for sublist in nb_index for x in sublist]\n",
        "    tract_index = list(set(np.append(tract_index, nb_index)))\n",
        "    # print(len(tract_index))\n",
        "p_tu_nhgis"
      ],
      "execution_count": 37,
      "outputs": [
        {
          "output_type": "stream",
          "name": "stdout",
          "text": [
            "/content/gdrive/My Drive/Colab Notebooks/census_privacy\n"
          ]
        },
        {
          "output_type": "execute_result",
          "data": {
            "text/plain": [
              "[0.2857142857142857,\n",
              " 0.18032786885245902,\n",
              " 0.16194331983805668,\n",
              " 0.15,\n",
              " 0.13799448022079117,\n",
              " 0.13467132053519487,\n",
              " 0.12461820403176542,\n",
              " 0.1198201092194025,\n",
              " 0.11827541827541828,\n",
              " 0.11745886654478976,\n",
              " 0.1163877417952619,\n",
              " 0.115491452991453]"
            ]
          },
          "metadata": {},
          "execution_count": 37
        }
      ]
    },
    {
      "cell_type": "markdown",
      "metadata": {
        "id": "hXvKJ2MEiIzI"
      },
      "source": [
        "Group 3: Franklin County, OLS"
      ]
    },
    {
      "cell_type": "code",
      "metadata": {
        "colab": {
          "base_uri": "https://localhost:8080/"
        },
        "id": "qXxhDJ9jiM2C",
        "outputId": "01bc3628-8e35-4ea3-96f8-5940bc4d0fe8"
      },
      "source": [
        "import geopandas as gpd\n",
        "from pysal.lib import weights\n",
        "import scipy.stats\n",
        "from lib.topdown_ols import *\n",
        "import math\n",
        "\n",
        "eps = 17.14\n",
        "delta = 1e-10\n",
        "# rho = 1\n",
        "rho = cdp2adp.cdp_rho(eps, delta)\n",
        "f1, f2, f3, f4, f6, f7, f8, f9, f10, f11 = 165/4099*5/4097, 165/4099*9/4097, 165/4099*5/4097, 165/4099*5/4097, 165/4099*5/4097, 165/4099*21/4097, 165/4099*21/4097, 165/4099*5/4097, 165/4099*71/4097, 165/4099*3945/4097\n",
        "A = strategy_mtx(rho, f1, f2, f3, f4, f6, f7, f8, f9, f10, f11)\n",
        "W = workload_mtx_race()\n",
        "var = (W @ np.linalg.inv(A.T @ A) @ W.T)[0, 0]\n",
        "sigma = math.sqrt(var)\n",
        "\n",
        "# k-nearest neighbors for all tracts\n",
        "k10 = weights.Rook.from_dataframe(data_tract)\n",
        "\n",
        "tract_index = [max_index]\n",
        "p_tu_ols = []\n",
        "flag = 0\n",
        "while flag < 1:\n",
        "    if len(tract_index) == len(data_tract):\n",
        "        flag = 1\n",
        "\n",
        "    # create histogram\n",
        "    tract_ids = data_tract[\"GEOID10\"].iloc[tract_index]\n",
        "    hist1_sub = hist1[hist1.index.astype(str).str[:11].isin(tract_ids)].sort_index()\n",
        "    \n",
        "    # calculate p(TU)\n",
        "    column_values = hist1_sub[hist1_sub.columns].values.ravel()\n",
        "    A = pd.unique(column_values)\n",
        "    probs = []\n",
        "    for i in A:\n",
        "        p1 = scipy.stats.norm(0, sigma).cdf(0.5 - i) - scipy.stats.norm(0, sigma).cdf(1.5 - i)\n",
        "        u0 = hist1_sub == i\n",
        "        p2 = np.unique(u0.values, return_counts=True)[1][1] / (np.unique(u0.values, return_counts=True)[1][1] + \n",
        "                                                            np.unique(u0.values, return_counts=True)[1][0])\n",
        "        probs.append(p1 * p2)\n",
        "    p3 = scipy.stats.norm(0, sigma).cdf(-0.5) - scipy.stats.norm(0, sigma).cdf(0.5)\n",
        "    u0 = hist1_sub == 1\n",
        "    p4 = np.unique(u0.values, return_counts=True)[1][1] / (np.unique(u0.values, return_counts=True)[1][1] + \n",
        "                                                        np.unique(u0.values, return_counts=True)[1][0])\n",
        "    p_tu_all = p3 * p4 / sum(probs)\n",
        "    p_tu_ols.append(p_tu_all)\n",
        "\n",
        "    # add neighbors \n",
        "    nb_index = [k10.neighbors.get(tract) for tract in tract_index]\n",
        "    nb_index = [x for sublist in nb_index for x in sublist]\n",
        "    tract_index = list(set(np.append(tract_index, nb_index)))\n",
        "    # print(len(tract_index))\n",
        "p_tu_ols"
      ],
      "execution_count": 38,
      "outputs": [
        {
          "output_type": "stream",
          "name": "stdout",
          "text": [
            "(1, 2016) (63, 2016) (2, 2016) (2, 2016) (8, 2016) (126, 2016) (126, 2016) (4, 2016) (252, 2016) (2016, 2016) (2600, 2016)\n"
          ]
        },
        {
          "output_type": "execute_result",
          "data": {
            "text/plain": [
              "[0.06103531147109589,\n",
              " 0.038937975996685664,\n",
              " 0.06625433181104087,\n",
              " 0.056935311897547226,\n",
              " 0.0543988962007172,\n",
              " 0.052734718224194344,\n",
              " 0.05097968539610275,\n",
              " 0.05065221528823322,\n",
              " 0.04959977832903994,\n",
              " 0.04934788339876394,\n",
              " 0.048293256507202426,\n",
              " 0.04809997077232813]"
            ]
          },
          "metadata": {},
          "execution_count": 38
        }
      ]
    },
    {
      "cell_type": "markdown",
      "metadata": {
        "id": "XiPP05KBdLhw"
      },
      "source": [
        "**Guernsey county**"
      ]
    },
    {
      "cell_type": "code",
      "metadata": {
        "colab": {
          "base_uri": "https://localhost:8080/",
          "height": 206
        },
        "id": "khUEKvAwdLhx",
        "outputId": "0fc39597-bffc-4d5f-d8ce-be6911ddaab9"
      },
      "source": [
        "total = hist1_tr_g.sum(axis=1).to_frame()\n",
        "total[\"GEOID10\"] = total.index.map(str)\n",
        "total = total.rename(columns={total.columns[0]: \"POP\"})\n",
        "total.index.name = None\n",
        "data_tract_new = data_tract_g.merge(total[['GEOID10', 'POP']], how='left', on=['GEOID10'])\n",
        "total.head()"
      ],
      "execution_count": 39,
      "outputs": [
        {
          "output_type": "execute_result",
          "data": {
            "text/html": [
              "<div>\n",
              "<style scoped>\n",
              "    .dataframe tbody tr th:only-of-type {\n",
              "        vertical-align: middle;\n",
              "    }\n",
              "\n",
              "    .dataframe tbody tr th {\n",
              "        vertical-align: top;\n",
              "    }\n",
              "\n",
              "    .dataframe thead th {\n",
              "        text-align: right;\n",
              "    }\n",
              "</style>\n",
              "<table border=\"1\" class=\"dataframe\">\n",
              "  <thead>\n",
              "    <tr style=\"text-align: right;\">\n",
              "      <th></th>\n",
              "      <th>POP</th>\n",
              "      <th>GEOID10</th>\n",
              "    </tr>\n",
              "  </thead>\n",
              "  <tbody>\n",
              "    <tr>\n",
              "      <th>39059977100</th>\n",
              "      <td>4566.0</td>\n",
              "      <td>39059977100</td>\n",
              "    </tr>\n",
              "    <tr>\n",
              "      <th>39059977200</th>\n",
              "      <td>4779.0</td>\n",
              "      <td>39059977200</td>\n",
              "    </tr>\n",
              "    <tr>\n",
              "      <th>39059977300</th>\n",
              "      <td>3549.0</td>\n",
              "      <td>39059977300</td>\n",
              "    </tr>\n",
              "    <tr>\n",
              "      <th>39059977400</th>\n",
              "      <td>3607.0</td>\n",
              "      <td>39059977400</td>\n",
              "    </tr>\n",
              "    <tr>\n",
              "      <th>39059977500</th>\n",
              "      <td>3377.0</td>\n",
              "      <td>39059977500</td>\n",
              "    </tr>\n",
              "  </tbody>\n",
              "</table>\n",
              "</div>"
            ],
            "text/plain": [
              "                POP      GEOID10\n",
              "39059977100  4566.0  39059977100\n",
              "39059977200  4779.0  39059977200\n",
              "39059977300  3549.0  39059977300\n",
              "39059977400  3607.0  39059977400\n",
              "39059977500  3377.0  39059977500"
            ]
          },
          "metadata": {},
          "execution_count": 39
        }
      ]
    },
    {
      "cell_type": "code",
      "metadata": {
        "colab": {
          "base_uri": "https://localhost:8080/"
        },
        "id": "E7dRjf3IdLhx",
        "outputId": "946e9f22-ed8b-4e1a-e583-b19164fb31b0"
      },
      "source": [
        "data_tract_new[\"POP_DEN\"] = data_tract_new[\"POP\"] / data_tract_new[\"ALAND10\"]\n",
        "max_index = data_tract_new[\"POP_DEN\"].idxmax()\n",
        "max_id = data_tract_new.loc[max_index].at['GEOID10']\n",
        "max_index, max_id"
      ],
      "execution_count": 40,
      "outputs": [
        {
          "output_type": "execute_result",
          "data": {
            "text/plain": [
              "(8, '39059977500')"
            ]
          },
          "metadata": {},
          "execution_count": 40
        }
      ]
    },
    {
      "cell_type": "markdown",
      "metadata": {
        "id": "hASuR7MxdLhx"
      },
      "source": [
        "Group 4: Guernsey County, my data"
      ]
    },
    {
      "cell_type": "code",
      "metadata": {
        "colab": {
          "base_uri": "https://localhost:8080/"
        },
        "id": "4_3BCUtddLhy",
        "outputId": "159c735d-df55-475f-cd25-8c41bdde0b14"
      },
      "source": [
        "import geopandas as gpd\n",
        "from pysal.lib import weights\n",
        "import scipy.stats\n",
        "\n",
        "# k-nearest neighbors for all tracts\n",
        "k10 = weights.Rook.from_dataframe(data_tract_g)\n",
        "\n",
        "tract_index = [max_index]\n",
        "p_tu_g = []\n",
        "flag = 0\n",
        "while flag < 1:\n",
        "    if len(tract_index) == len(data_tract_g):\n",
        "        flag = 1\n",
        "\n",
        "    # create histogram\n",
        "    tract_ids = data_tract_g[\"GEOID10\"].iloc[tract_index]\n",
        "    hist1_sub = hist1_g[hist1_g.index.astype(str).str[:11].isin(tract_ids)].sort_index()\n",
        "    hist2_sub = hist2_g[hist2_g.index.astype(str).str[:11].isin(tract_ids)].sort_index()\n",
        "    \n",
        "    # calculate p(TU)\n",
        "    tu = (hist1_sub == hist2_sub) & (hist1_sub == 1) & (hist2_sub == 1) # find a true unique\n",
        "    n_tu = np.unique(tu.values, return_counts=True)[1][1]\n",
        "    u = hist2_sub == 1  # uniques after noise injection\n",
        "    n_u = np.unique(u.values, return_counts=True)[1][1]\n",
        "    p_tu_all = n_tu / n_u   # frequency of finding the true uniques\n",
        "    p_tu_g.append(p_tu_all)\n",
        "\n",
        "    # add neighbors \n",
        "    nb_index = [k10.neighbors.get(tract) for tract in tract_index]\n",
        "    nb_index = [x for sublist in nb_index for x in sublist]\n",
        "    tract_index = list(set(np.append(tract_index, nb_index)))\n",
        "    # print(len(tract_index))\n",
        "p_tu_g"
      ],
      "execution_count": 41,
      "outputs": [
        {
          "output_type": "execute_result",
          "data": {
            "text/plain": [
              "[0.1111111111111111, 0.017857142857142856, 0.007751937984496124, 0.00625]"
            ]
          },
          "metadata": {},
          "execution_count": 41
        }
      ]
    },
    {
      "cell_type": "markdown",
      "metadata": {
        "id": "EE55evNwdLhy"
      },
      "source": [
        "Group 5: Guernsey County, NHGIS data (2021-06-08)"
      ]
    },
    {
      "cell_type": "code",
      "metadata": {
        "colab": {
          "base_uri": "https://localhost:8080/"
        },
        "id": "Ov5hyG40dLhy",
        "outputId": "369c4e2c-3d62-484e-b71b-1c3b651aaed3"
      },
      "source": [
        "%cd \"/content/gdrive/My Drive/Colab Notebooks/census_privacy\"\n",
        "import pandas as pd\n",
        "import geopandas as gpd\n",
        "from pysal.lib import weights\n",
        "import scipy.stats\n",
        "\n",
        "filename_nhgis = 'data/nhgis/nhgis_ppdd_20210608_block_OH.csv'\n",
        "data_nhgis = pd.read_csv(filename_nhgis, encoding = \"ISO-8859-1\")\n",
        "data_nhgis[\"STATE\"] = data_nhgis[\"gisjoin\"].str.slice(1, 3)\n",
        "data_nhgis['COUNTY'] = data_nhgis[\"gisjoin\"].str.slice(4, 7)\n",
        "data_nhgis['TRACT'] = data_nhgis[\"gisjoin\"].str.slice(8, 14)\n",
        "data_nhgis['GEOID10'] = data_nhgis[['STATE', 'COUNTY', 'TRACT']].apply(lambda x: ''.join(x), axis=1)\n",
        "data_nhgis = data_nhgis.set_index('GEOID10')\n",
        "data_nhgis = data_nhgis[['H72003_dp', 'H72004_dp', 'H72005_dp', 'H72006_dp', 'H72007_dp', 'H72008_dp', 'H72009_dp', \n",
        "                         'H72003_sf', 'H72004_sf', 'H72005_sf', 'H72006_sf', 'H72007_sf', 'H72008_sf', 'H72009_sf']]\n",
        "hist1_nhgis_blk = data_nhgis[['H72003_sf', 'H72004_sf', 'H72005_sf', 'H72006_sf', 'H72007_sf', 'H72008_sf', 'H72009_sf']]\n",
        "hist1_nhgis_blk = hist1_nhgis_blk.rename(columns={'H72003_sf': '1', 'H72004_sf': '2', 'H72005_sf': '3', 'H72006_sf': '4', \n",
        "                                                  'H72007_sf': '5', 'H72008_sf': '6', 'H72009_sf': '7'})\n",
        "hist2_nhgis_blk = data_nhgis[['H72003_dp', 'H72004_dp', 'H72005_dp', 'H72006_dp', 'H72007_dp', 'H72008_dp', 'H72009_dp']]\n",
        "hist2_nhgis_blk = hist2_nhgis_blk.rename(columns={'H72003_dp': '1', 'H72004_dp': '2', 'H72005_dp': '3', 'H72006_dp': '4', \n",
        "                                                  'H72007_dp': '5', 'H72008_dp': '6', 'H72009_dp': '7'})\n",
        "\n",
        "# k-nearest neighbors for all tracts\n",
        "k10 = weights.Rook.from_dataframe(data_tract_g)\n",
        "\n",
        "tract_index = [max_index]\n",
        "p_tu_nhgis_g = []\n",
        "flag = 0\n",
        "while flag < 1:\n",
        "    if len(tract_index) == len(data_tract_g):\n",
        "        flag = 1\n",
        "\n",
        "    # create histogram\n",
        "    tract_ids = data_tract_g[\"GEOID10\"].iloc[tract_index]\n",
        "    hist1_sub = hist1_nhgis_blk[hist1_nhgis_blk.index.astype(str).isin(tract_ids)].sort_index()\n",
        "    hist2_sub = hist2_nhgis_blk[hist2_nhgis_blk.index.astype(str).isin(tract_ids)].sort_index()\n",
        "    \n",
        "    # calculate p(TU)\n",
        "    tu = (hist1_sub == hist2_sub) & (hist1_sub == 1) & (hist2_sub == 1) # find a true unique\n",
        "    n_tu = np.unique(tu.values, return_counts=True)[1][1]\n",
        "    u = hist2_sub == 1  # uniques after noise injection\n",
        "    n_u = np.unique(u.values, return_counts=True)[1][1]\n",
        "    p_tu_all = n_tu / n_u   # frequency of finding the true uniques\n",
        "    p_tu_nhgis_g.append(p_tu_all)\n",
        "\n",
        "    # add neighbors \n",
        "    nb_index = [k10.neighbors.get(tract) for tract in tract_index]\n",
        "    nb_index = [x for sublist in nb_index for x in sublist]\n",
        "    tract_index = list(set(np.append(tract_index, nb_index)))\n",
        "    # print(len(tract_index))\n",
        "p_tu_nhgis_g"
      ],
      "execution_count": 42,
      "outputs": [
        {
          "output_type": "stream",
          "name": "stdout",
          "text": [
            "/content/gdrive/My Drive/Colab Notebooks/census_privacy\n"
          ]
        },
        {
          "output_type": "execute_result",
          "data": {
            "text/plain": [
              "[0.08823529411764706,\n",
              " 0.06293706293706294,\n",
              " 0.05904761904761905,\n",
              " 0.05701078582434515]"
            ]
          },
          "metadata": {},
          "execution_count": 42
        }
      ]
    },
    {
      "cell_type": "markdown",
      "metadata": {
        "id": "KHPadbrmdLhz"
      },
      "source": [
        "Group 6: Guernsey County, OLS"
      ]
    },
    {
      "cell_type": "code",
      "metadata": {
        "colab": {
          "base_uri": "https://localhost:8080/"
        },
        "id": "OgWCOMw1dLh1",
        "outputId": "dd67df22-1eb5-4edc-8057-3e16168c9a31"
      },
      "source": [
        "import geopandas as gpd\n",
        "from pysal.lib import weights\n",
        "import scipy.stats\n",
        "from lib.topdown_ols import *\n",
        "import math\n",
        "\n",
        "eps = 17.14\n",
        "delta = 1e-10\n",
        "# rho = 1\n",
        "rho = cdp2adp.cdp_rho(eps, delta)\n",
        "f1, f2, f3, f4, f6, f7, f8, f9, f10, f11 = 165/4099*5/4097, 165/4099*9/4097, 165/4099*5/4097, 165/4099*5/4097, 165/4099*5/4097, 165/4099*21/4097, 165/4099*21/4097, 165/4099*5/4097, 165/4099*71/4097, 165/4099*3945/4097\n",
        "A = strategy_mtx(rho, f1, f2, f3, f4, f6, f7, f8, f9, f10, f11)\n",
        "W = workload_mtx_race()\n",
        "var = (W @ np.linalg.inv(A.T @ A) @ W.T)[0, 0]\n",
        "sigma = math.sqrt(var)\n",
        "\n",
        "# k-nearest neighbors for all tracts\n",
        "k10 = weights.Rook.from_dataframe(data_tract_g)\n",
        "\n",
        "tract_index = [max_index]\n",
        "p_tu_ols_g = []\n",
        "flag = 0\n",
        "while flag < 1:\n",
        "    if len(tract_index) == len(data_tract_g):\n",
        "        flag = 1\n",
        "\n",
        "    # create histogram\n",
        "    tract_ids = data_tract_g[\"GEOID10\"].iloc[tract_index]\n",
        "    hist1_sub = hist1_g[hist1_g.index.astype(str).str[:11].isin(tract_ids)].sort_index()\n",
        "    \n",
        "    # calculate p(TU)\n",
        "    column_values = hist1_sub[hist1_sub.columns].values.ravel()\n",
        "    A = pd.unique(column_values)\n",
        "    probs = []\n",
        "    for i in A:\n",
        "        p1 = scipy.stats.norm(0, sigma).cdf(0.5 - i) - scipy.stats.norm(0, sigma).cdf(1.5 - i)\n",
        "        u0 = hist1_sub == i\n",
        "        p2 = np.unique(u0.values, return_counts=True)[1][1] / (np.unique(u0.values, return_counts=True)[1][1] + \n",
        "                                                            np.unique(u0.values, return_counts=True)[1][0])\n",
        "        probs.append(p1 * p2)\n",
        "    p3 = scipy.stats.norm(0, sigma).cdf(-0.5) - scipy.stats.norm(0, sigma).cdf(0.5)\n",
        "    u0 = hist1_sub == 1\n",
        "    p4 = np.unique(u0.values, return_counts=True)[1][1] / (np.unique(u0.values, return_counts=True)[1][1] + \n",
        "                                                        np.unique(u0.values, return_counts=True)[1][0])\n",
        "    p_tu_all = p3 * p4 / sum(probs)\n",
        "    p_tu_ols_g.append(p_tu_all)\n",
        "\n",
        "    # add neighbors \n",
        "    nb_index = [k10.neighbors.get(tract) for tract in tract_index]\n",
        "    nb_index = [x for sublist in nb_index for x in sublist]\n",
        "    tract_index = list(set(np.append(tract_index, nb_index)))\n",
        "    # print(len(tract_index))\n",
        "p_tu_ols_g"
      ],
      "execution_count": 43,
      "outputs": [
        {
          "output_type": "stream",
          "name": "stdout",
          "text": [
            "(1, 2016) (63, 2016) (2, 2016) (2, 2016) (8, 2016) (126, 2016) (126, 2016) (4, 2016) (252, 2016) (2016, 2016) (2600, 2016)\n"
          ]
        },
        {
          "output_type": "execute_result",
          "data": {
            "text/plain": [
              "[0.041146941111799895,\n",
              " 0.02936509199902516,\n",
              " 0.01744465218472444,\n",
              " 0.015682139806798945]"
            ]
          },
          "metadata": {},
          "execution_count": 43
        }
      ]
    },
    {
      "cell_type": "code",
      "metadata": {
        "colab": {
          "base_uri": "https://localhost:8080/",
          "height": 279
        },
        "id": "2Ry8borbkzLs",
        "outputId": "b266b644-b18c-4b01-ea15-a451f600332f"
      },
      "source": [
        "import matplotlib.pyplot as plt\n",
        "import numpy as np\n",
        "\n",
        "fig, ax = plt.subplots(2)\n",
        "\n",
        "ax[0].plot(np.array(p_tu), color = 'r', label='Franklin (My data)')\n",
        "ax[0].plot(np.array(p_tu_nhgis), color = 'r', label='Franklin (NHGIS)', linestyle='dashed')\n",
        "ax[0].plot(np.array(p_tu_ols), color = 'r', label='Franklin (OLS)', linestyle='dotted')\n",
        "ax[0].set_xlabel(\"Iteration\")\n",
        "ax[0].set_ylabel(\"p(TU)\")\n",
        "ax[0].legend()\n",
        "\n",
        "ax[1].plot(np.array(p_tu_g), color = 'g', label='Guernsey (My data)')\n",
        "ax[1].plot(np.array(p_tu_nhgis_g), color = 'g', label='Guernsey (NHGIS)', linestyle='dashed')\n",
        "ax[1].plot(np.array(p_tu_ols_g), color = 'g', label='Guernsey (OLS)', linestyle='dotted')\n",
        "ax[1].set_xlabel(\"Iteration\")\n",
        "ax[1].set_ylabel(\"p(TU)\")\n",
        "ax[1].legend()\n",
        "plt.show()"
      ],
      "execution_count": 44,
      "outputs": [
        {
          "output_type": "display_data",
          "data": {
            "image/png": "[encoded data removed]",
            "text/plain": [
              "<Figure size 432x288 with 2 Axes>"
            ]
          },
          "metadata": {
            "needs_background": "light"
          }
        }
      ]
    },
    {
      "cell_type": "markdown",
      "metadata": {
        "id": "Pf7uNEmzlVPQ"
      },
      "source": [
        "######**Random**"
      ]
    },
    {
      "cell_type": "markdown",
      "metadata": {
        "id": "ijUPxrNalVPY"
      },
      "source": [
        "Randomly sample 10% of the blocks (without replacement) and add  to the histogram."
      ]
    },
    {
      "cell_type": "code",
      "metadata": {
        "colab": {
          "base_uri": "https://localhost:8080/"
        },
        "id": "2AVTkPsikNTN",
        "outputId": "9b7ec054-541f-476f-9462-f31afb3fd17e"
      },
      "source": [
        "%cd \"/content/gdrive/My Drive/Colab Notebooks/census_privacy\"\n",
        "import pandas as pd\n",
        "import geopandas as gpd\n",
        "from pysal.lib import weights\n",
        "import scipy.stats\n",
        "from lib.topdown_ols import *\n",
        "import math\n",
        "\n",
        "filename_nhgis = 'data/nhgis/nhgis_ppdd_20210608_block_OH.csv'\n",
        "data_nhgis = pd.read_csv(filename_nhgis, encoding = \"ISO-8859-1\")\n",
        "data_nhgis[\"STATE\"] = data_nhgis[\"gisjoin\"].str.slice(1, 3)\n",
        "data_nhgis['COUNTY'] = data_nhgis[\"gisjoin\"].str.slice(4, 7)\n",
        "data_nhgis['TRACT'] = data_nhgis[\"gisjoin\"].str.slice(8, 14)\n",
        "data_nhgis['BLOCK'] = data_nhgis[\"gisjoin\"].str.slice(14, 18)\n",
        "data_nhgis['GEOID10'] = data_nhgis[['STATE', 'COUNTY', 'TRACT', 'BLOCK']].apply(lambda x: ''.join(x), axis=1)\n",
        "data_nhgis = data_nhgis.set_index('GEOID10')\n",
        "data_nhgis = data_nhgis[['H72003_dp', 'H72004_dp', 'H72005_dp', 'H72006_dp', 'H72007_dp', 'H72008_dp', 'H72009_dp', \n",
        "                         'H72003_sf', 'H72004_sf', 'H72005_sf', 'H72006_sf', 'H72007_sf', 'H72008_sf', 'H72009_sf']]\n",
        "\n",
        "eps = 17.14\n",
        "delta = 1e-10\n",
        "# rho = 1\n",
        "rho = cdp2adp.cdp_rho(eps, delta)\n",
        "f1, f2, f3, f4, f6, f7, f8, f9, f10, f11 = 165/4099*5/4097, 165/4099*9/4097, 165/4099*5/4097, 165/4099*5/4097, 165/4099*5/4097, 165/4099*21/4097, 165/4099*21/4097, 165/4099*5/4097, 165/4099*71/4097, 165/4099*3945/4097\n",
        "A = strategy_mtx(rho, f1, f2, f3, f4, f6, f7, f8, f9, f10, f11)\n",
        "W = workload_mtx_race()\n",
        "var = (W @ np.linalg.inv(A.T @ A) @ W.T)[0, 0]\n",
        "sigma = math.sqrt(var)\n",
        "\n",
        "data_block_new = data_block\n",
        "N = int(0.1 * len(data_block_new))\n",
        "block_ids_all = []\n",
        "p_tu, p_tu_nhgis, p_tu_ols = [], [], []\n",
        "\n",
        "while len(block_ids_all) < len(data_block):\n",
        "    # sampling\n",
        "    if len(data_block_new) >= N:\n",
        "        block_ids = data_block_new[\"GEOID10\"].sample(n=N)\n",
        "    else: \n",
        "        block_ids = data_block_new[\"GEOID10\"]\n",
        "    block_ids_all = list(set(np.append(block_ids_all, block_ids)))\n",
        "    data_block_new = data_block_new.loc[~data_block_new[\"GEOID10\"].isin(block_ids)]    \n",
        "\n",
        "    ## Group 1: Franklin County, my data\n",
        "    # create histogram\n",
        "    hist1_sub = hist1[hist1.index.astype(str).isin(block_ids_all)].sort_index()\n",
        "    hist2_sub = hist2[hist2.index.astype(str).isin(block_ids_all)].sort_index()\n",
        "    \n",
        "    # calculate p(TU)\n",
        "    tu = (hist1_sub == hist2_sub) & (hist1_sub == 1) & (hist2_sub == 1) # find a true unique\n",
        "    n_tu = np.unique(tu.values, return_counts=True)[1][1]\n",
        "    u = hist2_sub == 1  # uniques after noise injection\n",
        "    n_u = np.unique(u.values, return_counts=True)[1][1]\n",
        "    p_tu_all = n_tu / n_u   # frequency of finding the true uniques\n",
        "    p_tu.append(p_tu_all)\n",
        "\n",
        "    ## Group 2: Franklin County, NHGIS data\n",
        "    # create histogram\n",
        "    nhgis_sub = data_nhgis[data_nhgis.index.astype(str).isin(block_ids_all)]\n",
        "    hist1_nhgis = nhgis_sub[['H72003_sf', 'H72004_sf', 'H72005_sf', 'H72006_sf', 'H72007_sf', 'H72008_sf', 'H72009_sf']]\n",
        "    hist1_nhgis = hist1_nhgis.rename(columns={'H72003_sf': '1', 'H72004_sf': '2', 'H72005_sf': '3', 'H72006_sf': '4', 'H72007_sf': '5', 'H72008_sf': '6', \n",
        "                                            'H72009_sf': '7'})\n",
        "    hist2_nhgis = nhgis_sub[['H72003_dp', 'H72004_dp', 'H72005_dp', 'H72006_dp', 'H72007_dp', 'H72008_dp', 'H72009_dp']]\n",
        "    hist2_nhgis = hist2_nhgis.rename(columns={'H72003_dp': '1', 'H72004_dp': '2', 'H72005_dp': '3', 'H72006_dp': '4', 'H72007_dp': '5', 'H72008_dp': '6', \n",
        "                                            'H72009_dp': '7'})\n",
        "    \n",
        "    # calculate p(TU)\n",
        "    # find a true unique\n",
        "    tu = (hist1_nhgis == hist2_nhgis) & (hist1_nhgis == 1) & (hist2_nhgis == 1)\n",
        "    n_tu = np.unique(tu.values, return_counts=True)[1][1]\n",
        "    # uniques after noise injection\n",
        "    u = hist2_nhgis == 1\n",
        "    n_u = np.unique(u.values, return_counts=True)[1][1]\n",
        "    # frequency of finding the true uniques\n",
        "    p_tu_nhgis_all = n_tu / n_u\n",
        "    p_tu_nhgis.append(p_tu_nhgis_all)\n",
        "\n",
        "    ## Group 3: Franklin County, OLS\n",
        "    hist1_sub = hist1[hist1.index.astype(str).isin(block_ids_all)]\n",
        "    \n",
        "    # calculate p(TU)\n",
        "    column_values = hist1_sub[hist1_sub.columns].values.ravel()\n",
        "    A = pd.unique(column_values)\n",
        "    probs = []\n",
        "    for i in A:\n",
        "        p1 = scipy.stats.norm(0, sigma).cdf(0.5 - i) - scipy.stats.norm(0, sigma).cdf(1.5 - i)\n",
        "        u0 = hist1_sub == i\n",
        "        p2 = np.unique(u0.values, return_counts=True)[1][1] / (np.unique(u0.values, return_counts=True)[1][1] + \n",
        "                                                            np.unique(u0.values, return_counts=True)[1][0])\n",
        "        probs.append(p1 * p2)\n",
        "    p3 = scipy.stats.norm(0, sigma).cdf(-0.5) - scipy.stats.norm(0, sigma).cdf(0.5)\n",
        "    u0 = hist1_sub == 1\n",
        "    p4 = np.unique(u0.values, return_counts=True)[1][1] / (np.unique(u0.values, return_counts=True)[1][1] + \n",
        "                                                        np.unique(u0.values, return_counts=True)[1][0])\n",
        "    p_tu_all = p3 * p4 / sum(probs)\n",
        "    p_tu_ols.append(p_tu_all)\n",
        "\n",
        "p_tu, p_tu_nhgis, p_tu_ols"
      ],
      "execution_count": 45,
      "outputs": [
        {
          "output_type": "stream",
          "name": "stdout",
          "text": [
            "/content/gdrive/My Drive/Colab Notebooks/census_privacy\n",
            "(1, 2016) (63, 2016) (2, 2016) (2, 2016) (8, 2016) (126, 2016) (126, 2016) (4, 2016) (252, 2016) (2016, 2016) (2600, 2016)\n"
          ]
        },
        {
          "output_type": "execute_result",
          "data": {
            "text/plain": [
              "([0.07492195629552549,\n",
              "  0.07596899224806201,\n",
              "  0.07209382545705416,\n",
              "  0.068759730150493,\n",
              "  0.06691604322527016,\n",
              "  0.0689052116124519,\n",
              "  0.06945279615153338,\n",
              "  0.06762079831932773,\n",
              "  0.06649586584371725,\n",
              "  0.06569650954339344,\n",
              "  0.06568958245466049],\n",
              " [0.12108559498956159,\n",
              "  0.1180482686253935,\n",
              "  0.11843052555795536,\n",
              "  0.11621547716707684,\n",
              "  0.11351931330472104,\n",
              "  0.11914514692787177,\n",
              "  0.11736237144585603,\n",
              "  0.11663581063210791,\n",
              "  0.11536183820916736,\n",
              "  0.11551613592648002,\n",
              "  0.115491452991453],\n",
              " [0.04930112438930685,\n",
              "  0.05012356134764724,\n",
              "  0.04923883004480436,\n",
              "  0.048575216242691135,\n",
              "  0.0484844016866481,\n",
              "  0.048791739668969734,\n",
              "  0.04867032462627542,\n",
              "  0.04837089820042977,\n",
              "  0.047904263556374976,\n",
              "  0.04810630769524729,\n",
              "  0.04809997077232813])"
            ]
          },
          "metadata": {},
          "execution_count": 45
        }
      ]
    },
    {
      "cell_type": "code",
      "metadata": {
        "colab": {
          "base_uri": "https://localhost:8080/"
        },
        "id": "nyXdmKsElVPY",
        "outputId": "fdf6c8bd-b89d-44a8-face-1e8f84760e59"
      },
      "source": [
        "%cd \"/content/gdrive/My Drive/Colab Notebooks/census_privacy\"\n",
        "import pandas as pd\n",
        "import geopandas as gpd\n",
        "from pysal.lib import weights\n",
        "import scipy.stats\n",
        "from lib.topdown_ols import *\n",
        "import math\n",
        "\n",
        "filename_nhgis = 'data/nhgis/nhgis_ppdd_20210608_block_OH.csv'\n",
        "data_nhgis = pd.read_csv(filename_nhgis, encoding = \"ISO-8859-1\")\n",
        "data_nhgis[\"STATE\"] = data_nhgis[\"gisjoin\"].str.slice(1, 3)\n",
        "data_nhgis['COUNTY'] = data_nhgis[\"gisjoin\"].str.slice(4, 7)\n",
        "data_nhgis['TRACT'] = data_nhgis[\"gisjoin\"].str.slice(8, 14)\n",
        "data_nhgis['BLOCK'] = data_nhgis[\"gisjoin\"].str.slice(14, 18)\n",
        "data_nhgis['GEOID10'] = data_nhgis[['STATE', 'COUNTY', 'TRACT', 'BLOCK']].apply(lambda x: ''.join(x), axis=1)\n",
        "data_nhgis = data_nhgis.set_index('GEOID10')\n",
        "data_nhgis = data_nhgis[['H72003_dp', 'H72004_dp', 'H72005_dp', 'H72006_dp', 'H72007_dp', 'H72008_dp', 'H72009_dp', \n",
        "                         'H72003_sf', 'H72004_sf', 'H72005_sf', 'H72006_sf', 'H72007_sf', 'H72008_sf', 'H72009_sf']]\n",
        "\n",
        "eps = 17.14\n",
        "delta = 1e-10\n",
        "# rho = 1\n",
        "rho = cdp2adp.cdp_rho(eps, delta)\n",
        "f1, f2, f3, f4, f6, f7, f8, f9, f10, f11 = 165/4099*5/4097, 165/4099*9/4097, 165/4099*5/4097, 165/4099*5/4097, 165/4099*5/4097, 165/4099*21/4097, 165/4099*21/4097, 165/4099*5/4097, 165/4099*71/4097, 165/4099*3945/4097\n",
        "A = strategy_mtx(rho, f1, f2, f3, f4, f6, f7, f8, f9, f10, f11)\n",
        "W = workload_mtx_race()\n",
        "var = (W @ np.linalg.inv(A.T @ A) @ W.T)[0, 0]\n",
        "sigma = math.sqrt(var)\n",
        "\n",
        "data_block_new = data_block_g\n",
        "N = int(0.1 * len(data_block_new))\n",
        "block_ids_all = []\n",
        "p_tu_g, p_tu_nhgis_g, p_tu_ols_g = [], [], []\n",
        "\n",
        "while len(block_ids_all) < len(data_block_g):\n",
        "    # sampling\n",
        "    if len(data_block_new) >= N:\n",
        "        block_ids = data_block_new[\"GEOID10\"].sample(n=N)\n",
        "    else: \n",
        "        block_ids = data_block_new[\"GEOID10\"]\n",
        "    block_ids_all = list(set(np.append(block_ids_all, block_ids)))\n",
        "    data_block_new = data_block_new.loc[~data_block_new[\"GEOID10\"].isin(block_ids)]    \n",
        "\n",
        "    ## Group 1: Guernsey County, my data\n",
        "    # create histogram\n",
        "    hist1_sub = hist1_g[hist1_g.index.astype(str).isin(block_ids_all)].sort_index()\n",
        "    hist2_sub = hist2_g[hist2_g.index.astype(str).isin(block_ids_all)].sort_index()\n",
        "    \n",
        "    # calculate p(TU)\n",
        "    tu = (hist1_sub == hist2_sub) & (hist1_sub == 1) & (hist2_sub == 1) # find a true unique\n",
        "    if len(np.unique(tu.values, return_counts=True)[1]) == 2:\n",
        "        n_tu = np.unique(tu.values, return_counts=True)[1][1]\n",
        "        u = hist2_sub == 1  # uniques after noise injection\n",
        "        n_u = np.unique(u.values, return_counts=True)[1][1]\n",
        "        p_tu_all = n_tu / n_u   # frequency of finding the true uniques\n",
        "    else:\n",
        "        p_tu_all = 0\n",
        "    p_tu_g.append(p_tu_all)\n",
        "\n",
        "    ## Group 2: Guernsey County, NHGIS data\n",
        "    # create histogram\n",
        "    nhgis_sub = data_nhgis[data_nhgis.index.astype(str).isin(block_ids_all)]\n",
        "    hist1_nhgis = nhgis_sub[['H72003_sf', 'H72004_sf', 'H72005_sf', 'H72006_sf', 'H72007_sf', 'H72008_sf', 'H72009_sf']]\n",
        "    hist1_nhgis = hist1_nhgis.rename(columns={'H72003_sf': '1', 'H72004_sf': '2', 'H72005_sf': '3', 'H72006_sf': '4', 'H72007_sf': '5', 'H72008_sf': '6', \n",
        "                                            'H72009_sf': '7'})\n",
        "    hist2_nhgis = nhgis_sub[['H72003_dp', 'H72004_dp', 'H72005_dp', 'H72006_dp', 'H72007_dp', 'H72008_dp', 'H72009_dp']]\n",
        "    hist2_nhgis = hist2_nhgis.rename(columns={'H72003_dp': '1', 'H72004_dp': '2', 'H72005_dp': '3', 'H72006_dp': '4', 'H72007_dp': '5', 'H72008_dp': '6', \n",
        "                                            'H72009_dp': '7'})\n",
        "    \n",
        "    # calculate p(TU)\n",
        "    # find a true unique\n",
        "    tu = (hist1_nhgis == hist2_nhgis) & (hist1_nhgis == 1) & (hist2_nhgis == 1)\n",
        "    n_tu = np.unique(tu.values, return_counts=True)[1][1]\n",
        "    # uniques after noise injection\n",
        "    u = hist2_nhgis == 1\n",
        "    n_u = np.unique(u.values, return_counts=True)[1][1]\n",
        "    # frequency of finding the true uniques\n",
        "    p_tu_nhgis_all = n_tu / n_u\n",
        "    p_tu_nhgis_g.append(p_tu_nhgis_all)\n",
        "\n",
        "    ## Group 3: Guernsey County, OLS\n",
        "    hist1_sub = hist1_g[hist1_g.index.astype(str).isin(block_ids_all)]\n",
        "    \n",
        "    # calculate p(TU)\n",
        "    column_values = hist1_sub[hist1_sub.columns].values.ravel()\n",
        "    A = pd.unique(column_values)\n",
        "    probs = []\n",
        "    for i in A:\n",
        "        p1 = scipy.stats.norm(0, sigma).cdf(0.5 - i) - scipy.stats.norm(0, sigma).cdf(1.5 - i)\n",
        "        u0 = hist1_sub == i\n",
        "        p2 = np.unique(u0.values, return_counts=True)[1][1] / (np.unique(u0.values, return_counts=True)[1][1] + \n",
        "                                                            np.unique(u0.values, return_counts=True)[1][0])\n",
        "        probs.append(p1 * p2)\n",
        "    p3 = scipy.stats.norm(0, sigma).cdf(-0.5) - scipy.stats.norm(0, sigma).cdf(0.5)\n",
        "    u0 = hist1_sub == 1\n",
        "    p4 = np.unique(u0.values, return_counts=True)[1][1] / (np.unique(u0.values, return_counts=True)[1][1] + \n",
        "                                                        np.unique(u0.values, return_counts=True)[1][0])\n",
        "    p_tu_all = p3 * p4 / sum(probs)\n",
        "    p_tu_ols_g.append(p_tu_all)\n",
        "\n",
        "p_tu_g, p_tu_nhgis_g, p_tu_ols_g"
      ],
      "execution_count": 46,
      "outputs": [
        {
          "output_type": "stream",
          "name": "stdout",
          "text": [
            "/content/gdrive/My Drive/Colab Notebooks/census_privacy\n",
            "(1, 2016) (63, 2016) (2, 2016) (2, 2016) (8, 2016) (126, 2016) (126, 2016) (4, 2016) (252, 2016) (2016, 2016) (2600, 2016)\n"
          ]
        },
        {
          "output_type": "execute_result",
          "data": {
            "text/plain": [
              "([0,\n",
              "  0,\n",
              "  0,\n",
              "  0,\n",
              "  0,\n",
              "  0,\n",
              "  0,\n",
              "  0.007751937984496124,\n",
              "  0.006802721088435374,\n",
              "  0.006289308176100629,\n",
              "  0.00625],\n",
              " [0.09722222222222222,\n",
              "  0.07575757575757576,\n",
              "  0.06666666666666667,\n",
              "  0.0749063670411985,\n",
              "  0.06990881458966565,\n",
              "  0.06234413965087282,\n",
              "  0.06637168141592921,\n",
              "  0.059845559845559844,\n",
              "  0.05631399317406143,\n",
              "  0.05709876543209876,\n",
              "  0.05701078582434515],\n",
              " [0.01527574651664411,\n",
              "  0.01368549489217687,\n",
              "  0.016042824835080894,\n",
              "  0.016929003065194792,\n",
              "  0.01642791815796385,\n",
              "  0.0162363967929453,\n",
              "  0.015986556705621408,\n",
              "  0.015693063703274005,\n",
              "  0.016035993412095956,\n",
              "  0.015719745250579155,\n",
              "  0.015682139806798945])"
            ]
          },
          "metadata": {},
          "execution_count": 46
        }
      ]
    },
    {
      "cell_type": "code",
      "metadata": {
        "colab": {
          "base_uri": "https://localhost:8080/",
          "height": 279
        },
        "id": "f1VGHrXWriPC",
        "outputId": "af1a495a-7ca4-4538-d109-ad955b504a49"
      },
      "source": [
        "import matplotlib.pyplot as plt\n",
        "import numpy as np\n",
        "\n",
        "fig, ax = plt.subplots(2)\n",
        "\n",
        "ax[0].plot(np.array(p_tu), color = 'r', label='Franklin (My data)')\n",
        "ax[0].plot(np.array(p_tu_nhgis), color = 'r', label='Franklin (NHGIS)', linestyle='dashed')\n",
        "ax[0].plot(np.array(p_tu_ols), color = 'r', label='Franklin (OLS)', linestyle='dotted')\n",
        "ax[0].set_xlabel(\"Iteration\")\n",
        "ax[0].set_ylabel(\"p(TU)\")\n",
        "ax[0].legend()\n",
        "\n",
        "ax[1].plot(np.array(p_tu_g), color = 'g', label='Guernsey (My data)')\n",
        "ax[1].plot(np.array(p_tu_nhgis_g), color = 'g', label='Guernsey (NHGIS)', linestyle='dashed')\n",
        "ax[1].plot(np.array(p_tu_ols_g), color = 'g', label='Guernsey (OLS)', linestyle='dotted')\n",
        "ax[1].set_xlabel(\"Iteration\")\n",
        "ax[1].set_ylabel(\"p(TU)\")\n",
        "ax[1].legend()\n",
        "plt.show()"
      ],
      "execution_count": 47,
      "outputs": [
        {
          "output_type": "display_data",
          "data": {
            "image/png": "[encoded data removed]",
            "text/plain": [
              "<Figure size 432x288 with 2 Axes>"
            ]
          },
          "metadata": {
            "needs_background": "light"
          }
        }
      ]
    },
    {
      "cell_type": "markdown",
      "metadata": {
        "id": "4JlBwV4iM9mv"
      },
      "source": [
        "####**More on cell uniqueness**\n",
        "Some simulations to demonstrate how spatial scales affect the probability of finding a true unique. Two aspects of spatial scales are examined here: resolution and extent."
      ]
    },
    {
      "cell_type": "markdown",
      "metadata": {
        "id": "26ueNIqNrKqr"
      },
      "source": [
        "#####**Impact of privacy loss budget (rho)**"
      ]
    },
    {
      "cell_type": "markdown",
      "metadata": {
        "id": "DmE-4EdYxPvj"
      },
      "source": [
        "For block level data, change epsilon from 1 to 20 while using the same allocation budget."
      ]
    },
    {
      "cell_type": "code",
      "metadata": {
        "id": "etcdrAMPrP2v"
      },
      "source": [
        "import scipy.stats\n",
        "import math\n",
        "import numpy as np\n",
        "\n",
        "delta = 10 ** (-10)\n",
        "hist1 = pd.crosstab(data_people.GEOID10, data_people.race)\n",
        "column_values = hist1[hist1.columns].values.ravel()\n",
        "A = pd.unique(column_values)\n",
        "\n",
        "p_tu_rho = []\n",
        "for k in np.arange(0.5, 21, 0.5):\n",
        "    rho = k * 9/4097\n",
        "    sigma = math.sqrt(1 / (2 * rho))\n",
        "\n",
        "    probs = []\n",
        "    for i in A:\n",
        "        p1 = scipy.stats.norm(0, sigma).cdf(0.5 - i) - scipy.stats.norm(0, sigma).cdf(1.5 - i)\n",
        "        u0 = hist1 == i\n",
        "        p2 = np.unique(u0.values, return_counts=True)[1][1] / (np.unique(u0.values, return_counts=True)[1][1] + \n",
        "                                                            np.unique(u0.values, return_counts=True)[1][0])\n",
        "        probs.append(p1 * p2)\n",
        "\n",
        "    p3 = scipy.stats.norm(0, sigma).cdf(-0.5) - scipy.stats.norm(0, sigma).cdf(0.5)\n",
        "    u0 = hist1 == 1\n",
        "    p4 = np.unique(u0.values, return_counts=True)[1][1] / (np.unique(u0.values, return_counts=True)[1][1] + \n",
        "                                                        np.unique(u0.values, return_counts=True)[1][0])\n",
        "    p_tu = p3 * p4 / sum(probs)\n",
        "    p_tu_rho.append(p_tu)\n",
        "\n",
        "p_tu_rho"
      ],
      "execution_count": null,
      "outputs": []
    },
    {
      "cell_type": "markdown",
      "metadata": {
        "id": "Y-UcTRFg6XPG"
      },
      "source": [
        "Compare with Guernsey county."
      ]
    },
    {
      "cell_type": "code",
      "metadata": {
        "id": "S3WP79ea6UgU"
      },
      "source": [
        "import scipy.stats\n",
        "import math\n",
        "import numpy as np\n",
        "\n",
        "delta = 10 ** (-10)\n",
        "hist1 = pd.crosstab(data_people_g.GEOID10, data_people_g.race)\n",
        "column_values = hist1[hist1.columns].values.ravel()\n",
        "A = pd.unique(column_values)\n",
        "\n",
        "p_tu_rho_g = []\n",
        "for k in np.arange(0.5, 21, 0.5):\n",
        "    rho = k * 9/4097\n",
        "    sigma = math.sqrt(1 / (2 * rho))\n",
        "\n",
        "    probs = []\n",
        "    for i in A:\n",
        "        p1 = scipy.stats.norm(0, sigma).cdf(0.5 - i) - scipy.stats.norm(0, sigma).cdf(1.5 - i)\n",
        "        u0 = hist1 == i\n",
        "        p2 = np.unique(u0.values, return_counts=True)[1][1] / (np.unique(u0.values, return_counts=True)[1][1] + \n",
        "                                                            np.unique(u0.values, return_counts=True)[1][0])\n",
        "        probs.append(p1 * p2)\n",
        "\n",
        "    p3 = scipy.stats.norm(0, sigma).cdf(-0.5) - scipy.stats.norm(0, sigma).cdf(0.5)\n",
        "    u0 = hist1 == 1\n",
        "    p4 = np.unique(u0.values, return_counts=True)[1][1] / (np.unique(u0.values, return_counts=True)[1][1] + \n",
        "                                                        np.unique(u0.values, return_counts=True)[1][0])\n",
        "    p_tu = p3 * p4 / sum(probs)\n",
        "    p_tu_rho_g.append(p_tu)\n",
        "\n",
        "p_tu_rho_g"
      ],
      "execution_count": null,
      "outputs": []
    },
    {
      "cell_type": "code",
      "metadata": {
        "colab": {
          "base_uri": "https://localhost:8080/",
          "height": 279
        },
        "id": "nQcx48o-6GrE",
        "outputId": "47bfdfc1-1719-46c3-a525-7173eb8b7370"
      },
      "source": [
        "import matplotlib.pyplot as plt\n",
        "import numpy as np\n",
        "\n",
        "plt.plot(np.array(p_tu_rho), color = 'r', label='Franklin')\n",
        "plt.plot(np.array(p_tu_rho_g), color = 'g', label='Guernsey')\n",
        "plt.xlabel(\"Rho\")\n",
        "plt.ylabel(\"p(TU)\")\n",
        "plt.legend()\n",
        "plt.show()"
      ],
      "execution_count": null,
      "outputs": [
        {
          "output_type": "display_data",
          "data": {
            "image/png": "[encoded data removed]",
            "text/plain": [
              "<Figure size 432x288 with 1 Axes>"
            ]
          },
          "metadata": {
            "needs_background": "light"
          }
        }
      ]
    },
    {
      "cell_type": "markdown",
      "metadata": {
        "id": "1fEN3YVkTS8J"
      },
      "source": [
        "**Something to do with population density**"
      ]
    },
    {
      "cell_type": "markdown",
      "metadata": {
        "id": "Q__o1dGLon0M"
      },
      "source": [
        "The trend above can potentially be explained by the population distribution in the county. As the iteration increases, more sparse blocks are added, and the histogram is more concentrated around zero. This can lead to the sharpe decrease in $p(TU)$."
      ]
    },
    {
      "cell_type": "code",
      "metadata": {
        "colab": {
          "base_uri": "https://localhost:8080/",
          "height": 281
        },
        "id": "I8P0mGszIY7J",
        "outputId": "c1770509-69df-42ba-82ac-60cc5b491ce9"
      },
      "source": [
        "import matplotlib.pyplot as plt\n",
        "\n",
        "fig, ax = plt.subplots(1, 1)\n",
        "data_tract_new.plot(column='POP_DEN', ax=ax, legend=True)"
      ],
      "execution_count": null,
      "outputs": [
        {
          "output_type": "execute_result",
          "data": {
            "text/plain": [
              "<matplotlib.axes._subplots.AxesSubplot at 0x7f3450b9e1d0>"
            ]
          },
          "metadata": {},
          "execution_count": 131
        },
        {
          "output_type": "display_data",
          "data": {
            "image/png": "[encoded data removed]",
            "text/plain": [
              "<Figure size 432x288 with 2 Axes>"
            ]
          },
          "metadata": {
            "needs_background": "light"
          }
        }
      ]
    },
    {
      "cell_type": "code",
      "metadata": {
        "colab": {
          "base_uri": "https://localhost:8080/",
          "height": 434
        },
        "id": "Nd5lxf8Ue6xq",
        "outputId": "2729a59f-ed38-400d-8cb9-713afd7563f6"
      },
      "source": [
        "from splot.esda import lisa_cluster\n",
        "from pysal.lib import weights\n",
        "from pysal.explore import esda\n",
        "\n",
        "data_tract_new['POP_DEN'] = data_tract_new['POP_DEN'].fillna(0)\n",
        "# Generate W from the GeoDataFrame\n",
        "w = weights.Queen.from_dataframe(data_tract_new)\n",
        "# Row-standardization\n",
        "w.transform = 'R'\n",
        "\n",
        "moran_loc = esda.moran.Moran_Local(data_tract_new['POP_DEN'].values, w)\n",
        "lisa_cluster(moran_loc, data_tract_new, p=0.05, figsize = (9,9))\n",
        "plt.show()"
      ],
      "execution_count": null,
      "outputs": [
        {
          "output_type": "stream",
          "name": "stderr",
          "text": [
            "/usr/local/lib/python3.7/dist-packages/numba/np/ufunc/parallel.py:363: NumbaWarning: The TBB threading layer requires TBB version 2019.5 or later i.e., TBB_INTERFACE_VERSION >= 11005. Found TBB_INTERFACE_VERSION = 9107. The TBB threading layer is disabled.\n",
            "  warnings.warn(problem)\n"
          ]
        },
        {
          "output_type": "display_data",
          "data": {
            "image/png": "[encoded data removed]",
            "text/plain": [
              "<Figure size 648x648 with 1 Axes>"
            ]
          },
          "metadata": {
            "needs_background": "light"
          }
        }
      ]
    }
  ]
}