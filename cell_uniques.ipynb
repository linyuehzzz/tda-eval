{
  "nbformat": 4,
  "nbformat_minor": 0,
  "metadata": {
    "colab": {
      "name": "cell uniques.ipynb",
      "provenance": [],
      "collapsed_sections": [],
      "toc_visible": true,
      "authorship_tag": "ABX9TyM6v+Z2obGPOg7fWAi5syFg",
      "include_colab_link": true
    },
    "kernelspec": {
      "name": "python3",
      "display_name": "Python 3"
    },
    "language_info": {
      "name": "python"
    }
  },
  "cells": [
    {
      "cell_type": "markdown",
      "metadata": {
        "id": "view-in-github",
        "colab_type": "text"
      },
      "source": [
        "<a href=\"https://colab.research.google.com/github/linyuehzzz/census_privacy/blob/main/cell_uniques.ipynb\" target=\"_parent\"><img src=\"https://colab.research.google.com/assets/colab-badge.svg\" alt=\"Open In Colab\"/></a>"
      ]
    },
    {
      "cell_type": "code",
      "metadata": {
        "id": "zLeEw-8vLEbA",
        "colab": {
          "base_uri": "https://localhost:8080/"
        },
        "outputId": "af6c6c6a-1f43-48ab-be63-64b175f7ffc0"
      },
      "source": [
        "from google.colab import drive\n",
        "drive.mount(\"/content/gdrive\")"
      ],
      "execution_count": 94,
      "outputs": [
        {
          "output_type": "stream",
          "name": "stdout",
          "text": [
            "Drive already mounted at /content/gdrive; to attempt to forcibly remount, call drive.mount(\"/content/gdrive\", force_remount=True).\n"
          ]
        }
      ]
    },
    {
      "cell_type": "markdown",
      "metadata": {
        "id": "S4xVcLAfX1bz"
      },
      "source": [
        "#### **Read synthetic population data**"
      ]
    },
    {
      "cell_type": "code",
      "metadata": {
        "colab": {
          "base_uri": "https://localhost:8080/",
          "height": 434
        },
        "id": "K-v55hYUUWEC",
        "outputId": "19832aa6-6b8f-44a9-fd22-874251dc99fb"
      },
      "source": [
        "%cd \"/content/gdrive/My Drive/Colab Notebooks/census_privacy\"\n",
        "import pandas as pd\n",
        "\n",
        "filename_people = 'franklin/microdata/franklin_people_all.csv'\n",
        "data_people = pd.read_csv(filename_people)\n",
        "data_people['GEOID10'] = data_people['GEOID10'].astype(str)\n",
        "data_people['BGID10'] = data_people['GEOID10'].str[:12]\n",
        "data_people['TRACTID10'] = data_people['GEOID10'].str[:11]\n",
        "data_people"
      ],
      "execution_count": 95,
      "outputs": [
        {
          "output_type": "stream",
          "name": "stdout",
          "text": [
            "/content/gdrive/My Drive/Colab Notebooks/census_privacy\n"
          ]
        },
        {
          "output_type": "execute_result",
          "data": {
            "text/html": [
              "<div>\n",
              "<style scoped>\n",
              "    .dataframe tbody tr th:only-of-type {\n",
              "        vertical-align: middle;\n",
              "    }\n",
              "\n",
              "    .dataframe tbody tr th {\n",
              "        vertical-align: top;\n",
              "    }\n",
              "\n",
              "    .dataframe thead th {\n",
              "        text-align: right;\n",
              "    }\n",
              "</style>\n",
              "<table border=\"1\" class=\"dataframe\">\n",
              "  <thead>\n",
              "    <tr style=\"text-align: right;\">\n",
              "      <th></th>\n",
              "      <th>GEOID10</th>\n",
              "      <th>race</th>\n",
              "      <th>sex</th>\n",
              "      <th>age</th>\n",
              "      <th>age_v</th>\n",
              "      <th>PUMA</th>\n",
              "      <th>BGID10</th>\n",
              "      <th>TRACTID10</th>\n",
              "    </tr>\n",
              "  </thead>\n",
              "  <tbody>\n",
              "    <tr>\n",
              "      <th>0</th>\n",
              "      <td>390490001101001</td>\n",
              "      <td>1</td>\n",
              "      <td>1</td>\n",
              "      <td>9</td>\n",
              "      <td>28</td>\n",
              "      <td>3904102</td>\n",
              "      <td>390490001101</td>\n",
              "      <td>39049000110</td>\n",
              "    </tr>\n",
              "    <tr>\n",
              "      <th>1</th>\n",
              "      <td>390490001101001</td>\n",
              "      <td>7</td>\n",
              "      <td>2</td>\n",
              "      <td>9</td>\n",
              "      <td>27</td>\n",
              "      <td>3904102</td>\n",
              "      <td>390490001101</td>\n",
              "      <td>39049000110</td>\n",
              "    </tr>\n",
              "    <tr>\n",
              "      <th>2</th>\n",
              "      <td>390490001101002</td>\n",
              "      <td>1</td>\n",
              "      <td>2</td>\n",
              "      <td>1</td>\n",
              "      <td>0</td>\n",
              "      <td>3904102</td>\n",
              "      <td>390490001101</td>\n",
              "      <td>39049000110</td>\n",
              "    </tr>\n",
              "    <tr>\n",
              "      <th>3</th>\n",
              "      <td>390490001101002</td>\n",
              "      <td>1</td>\n",
              "      <td>2</td>\n",
              "      <td>1</td>\n",
              "      <td>3</td>\n",
              "      <td>3904102</td>\n",
              "      <td>390490001101</td>\n",
              "      <td>39049000110</td>\n",
              "    </tr>\n",
              "    <tr>\n",
              "      <th>4</th>\n",
              "      <td>390490001101002</td>\n",
              "      <td>1</td>\n",
              "      <td>2</td>\n",
              "      <td>2</td>\n",
              "      <td>7</td>\n",
              "      <td>3904102</td>\n",
              "      <td>390490001101</td>\n",
              "      <td>39049000110</td>\n",
              "    </tr>\n",
              "    <tr>\n",
              "      <th>...</th>\n",
              "      <td>...</td>\n",
              "      <td>...</td>\n",
              "      <td>...</td>\n",
              "      <td>...</td>\n",
              "      <td>...</td>\n",
              "      <td>...</td>\n",
              "      <td>...</td>\n",
              "      <td>...</td>\n",
              "    </tr>\n",
              "    <tr>\n",
              "      <th>1163409</th>\n",
              "      <td>390490107001020</td>\n",
              "      <td>1</td>\n",
              "      <td>2</td>\n",
              "      <td>21</td>\n",
              "      <td>75</td>\n",
              "      <td>3904102</td>\n",
              "      <td>390490107001</td>\n",
              "      <td>39049010700</td>\n",
              "    </tr>\n",
              "    <tr>\n",
              "      <th>1163410</th>\n",
              "      <td>390490107001020</td>\n",
              "      <td>1</td>\n",
              "      <td>1</td>\n",
              "      <td>23</td>\n",
              "      <td>95</td>\n",
              "      <td>3904102</td>\n",
              "      <td>390490107001</td>\n",
              "      <td>39049010700</td>\n",
              "    </tr>\n",
              "    <tr>\n",
              "      <th>1163411</th>\n",
              "      <td>390490107001020</td>\n",
              "      <td>1</td>\n",
              "      <td>2</td>\n",
              "      <td>23</td>\n",
              "      <td>97</td>\n",
              "      <td>3904102</td>\n",
              "      <td>390490107001</td>\n",
              "      <td>39049010700</td>\n",
              "    </tr>\n",
              "    <tr>\n",
              "      <th>1163412</th>\n",
              "      <td>390499800001027</td>\n",
              "      <td>1</td>\n",
              "      <td>1</td>\n",
              "      <td>20</td>\n",
              "      <td>70</td>\n",
              "      <td>3904106</td>\n",
              "      <td>390499800001</td>\n",
              "      <td>39049980000</td>\n",
              "    </tr>\n",
              "    <tr>\n",
              "      <th>1163413</th>\n",
              "      <td>390499800001027</td>\n",
              "      <td>1</td>\n",
              "      <td>2</td>\n",
              "      <td>20</td>\n",
              "      <td>70</td>\n",
              "      <td>3904106</td>\n",
              "      <td>390499800001</td>\n",
              "      <td>39049980000</td>\n",
              "    </tr>\n",
              "  </tbody>\n",
              "</table>\n",
              "<p>1163414 rows × 8 columns</p>\n",
              "</div>"
            ],
            "text/plain": [
              "                 GEOID10  race  sex  ...     PUMA        BGID10    TRACTID10\n",
              "0        390490001101001     1    1  ...  3904102  390490001101  39049000110\n",
              "1        390490001101001     7    2  ...  3904102  390490001101  39049000110\n",
              "2        390490001101002     1    2  ...  3904102  390490001101  39049000110\n",
              "3        390490001101002     1    2  ...  3904102  390490001101  39049000110\n",
              "4        390490001101002     1    2  ...  3904102  390490001101  39049000110\n",
              "...                  ...   ...  ...  ...      ...           ...          ...\n",
              "1163409  390490107001020     1    2  ...  3904102  390490107001  39049010700\n",
              "1163410  390490107001020     1    1  ...  3904102  390490107001  39049010700\n",
              "1163411  390490107001020     1    2  ...  3904102  390490107001  39049010700\n",
              "1163412  390499800001027     1    1  ...  3904106  390499800001  39049980000\n",
              "1163413  390499800001027     1    2  ...  3904106  390499800001  39049980000\n",
              "\n",
              "[1163414 rows x 8 columns]"
            ]
          },
          "metadata": {},
          "execution_count": 95
        }
      ]
    },
    {
      "cell_type": "markdown",
      "metadata": {
        "id": "fpO_TqoLYDJ8"
      },
      "source": [
        "#### **Create original histograms**\n",
        "We consider the query of race for the purpose of demonstration. Cell uniqueness is presented in this query."
      ]
    },
    {
      "cell_type": "code",
      "metadata": {
        "colab": {
          "base_uri": "https://localhost:8080/",
          "height": 447
        },
        "id": "V04A9tgqjDpe",
        "outputId": "a900972a-ffdb-447d-b1ef-fa73141c7a35"
      },
      "source": [
        "hist1 = pd.crosstab(data_people.GEOID10, data_people.race)\n",
        "hist1"
      ],
      "execution_count": 3,
      "outputs": [
        {
          "output_type": "execute_result",
          "data": {
            "text/html": [
              "<div>\n",
              "<style scoped>\n",
              "    .dataframe tbody tr th:only-of-type {\n",
              "        vertical-align: middle;\n",
              "    }\n",
              "\n",
              "    .dataframe tbody tr th {\n",
              "        vertical-align: top;\n",
              "    }\n",
              "\n",
              "    .dataframe thead th {\n",
              "        text-align: right;\n",
              "    }\n",
              "</style>\n",
              "<table border=\"1\" class=\"dataframe\">\n",
              "  <thead>\n",
              "    <tr style=\"text-align: right;\">\n",
              "      <th>race</th>\n",
              "      <th>1</th>\n",
              "      <th>2</th>\n",
              "      <th>3</th>\n",
              "      <th>4</th>\n",
              "      <th>5</th>\n",
              "      <th>6</th>\n",
              "      <th>7</th>\n",
              "    </tr>\n",
              "    <tr>\n",
              "      <th>GEOID10</th>\n",
              "      <th></th>\n",
              "      <th></th>\n",
              "      <th></th>\n",
              "      <th></th>\n",
              "      <th></th>\n",
              "      <th></th>\n",
              "      <th></th>\n",
              "    </tr>\n",
              "  </thead>\n",
              "  <tbody>\n",
              "    <tr>\n",
              "      <th>390490001101001</th>\n",
              "      <td>1</td>\n",
              "      <td>0</td>\n",
              "      <td>0</td>\n",
              "      <td>0</td>\n",
              "      <td>0</td>\n",
              "      <td>0</td>\n",
              "      <td>1</td>\n",
              "    </tr>\n",
              "    <tr>\n",
              "      <th>390490001101002</th>\n",
              "      <td>45</td>\n",
              "      <td>0</td>\n",
              "      <td>0</td>\n",
              "      <td>0</td>\n",
              "      <td>0</td>\n",
              "      <td>0</td>\n",
              "      <td>0</td>\n",
              "    </tr>\n",
              "    <tr>\n",
              "      <th>390490001101003</th>\n",
              "      <td>51</td>\n",
              "      <td>4</td>\n",
              "      <td>0</td>\n",
              "      <td>0</td>\n",
              "      <td>0</td>\n",
              "      <td>0</td>\n",
              "      <td>0</td>\n",
              "    </tr>\n",
              "    <tr>\n",
              "      <th>390490001101004</th>\n",
              "      <td>48</td>\n",
              "      <td>0</td>\n",
              "      <td>0</td>\n",
              "      <td>0</td>\n",
              "      <td>0</td>\n",
              "      <td>0</td>\n",
              "      <td>0</td>\n",
              "    </tr>\n",
              "    <tr>\n",
              "      <th>390490001101005</th>\n",
              "      <td>51</td>\n",
              "      <td>0</td>\n",
              "      <td>0</td>\n",
              "      <td>0</td>\n",
              "      <td>0</td>\n",
              "      <td>0</td>\n",
              "      <td>4</td>\n",
              "    </tr>\n",
              "    <tr>\n",
              "      <th>...</th>\n",
              "      <td>...</td>\n",
              "      <td>...</td>\n",
              "      <td>...</td>\n",
              "      <td>...</td>\n",
              "      <td>...</td>\n",
              "      <td>...</td>\n",
              "      <td>...</td>\n",
              "    </tr>\n",
              "    <tr>\n",
              "      <th>390490107001015</th>\n",
              "      <td>92</td>\n",
              "      <td>17</td>\n",
              "      <td>0</td>\n",
              "      <td>0</td>\n",
              "      <td>0</td>\n",
              "      <td>1</td>\n",
              "      <td>2</td>\n",
              "    </tr>\n",
              "    <tr>\n",
              "      <th>390490107001016</th>\n",
              "      <td>9</td>\n",
              "      <td>0</td>\n",
              "      <td>0</td>\n",
              "      <td>0</td>\n",
              "      <td>0</td>\n",
              "      <td>0</td>\n",
              "      <td>0</td>\n",
              "    </tr>\n",
              "    <tr>\n",
              "      <th>390490107001017</th>\n",
              "      <td>42</td>\n",
              "      <td>6</td>\n",
              "      <td>0</td>\n",
              "      <td>9</td>\n",
              "      <td>0</td>\n",
              "      <td>0</td>\n",
              "      <td>0</td>\n",
              "    </tr>\n",
              "    <tr>\n",
              "      <th>390490107001020</th>\n",
              "      <td>167</td>\n",
              "      <td>20</td>\n",
              "      <td>0</td>\n",
              "      <td>7</td>\n",
              "      <td>0</td>\n",
              "      <td>1</td>\n",
              "      <td>1</td>\n",
              "    </tr>\n",
              "    <tr>\n",
              "      <th>390499800001027</th>\n",
              "      <td>2</td>\n",
              "      <td>0</td>\n",
              "      <td>0</td>\n",
              "      <td>0</td>\n",
              "      <td>0</td>\n",
              "      <td>0</td>\n",
              "      <td>0</td>\n",
              "    </tr>\n",
              "  </tbody>\n",
              "</table>\n",
              "<p>15127 rows × 7 columns</p>\n",
              "</div>"
            ],
            "text/plain": [
              "race               1   2  3  4  5  6  7\n",
              "GEOID10                                \n",
              "390490001101001    1   0  0  0  0  0  1\n",
              "390490001101002   45   0  0  0  0  0  0\n",
              "390490001101003   51   4  0  0  0  0  0\n",
              "390490001101004   48   0  0  0  0  0  0\n",
              "390490001101005   51   0  0  0  0  0  4\n",
              "...              ...  .. .. .. .. .. ..\n",
              "390490107001015   92  17  0  0  0  1  2\n",
              "390490107001016    9   0  0  0  0  0  0\n",
              "390490107001017   42   6  0  9  0  0  0\n",
              "390490107001020  167  20  0  7  0  1  1\n",
              "390499800001027    2   0  0  0  0  0  0\n",
              "\n",
              "[15127 rows x 7 columns]"
            ]
          },
          "metadata": {},
          "execution_count": 3
        }
      ]
    },
    {
      "cell_type": "code",
      "metadata": {
        "colab": {
          "base_uri": "https://localhost:8080/",
          "height": 335
        },
        "id": "vzjnkTLX_oxn",
        "outputId": "479f3333-979b-4611-9b18-37f49ce38fde"
      },
      "source": [
        "import seaborn as sns\n",
        "\n",
        "probabilities = hist1.stack().value_counts(normalize=True)    \n",
        "sns.barplot(probabilities.index, probabilities.values).set(xlim=(0, 10))"
      ],
      "execution_count": null,
      "outputs": [
        {
          "output_type": "stream",
          "name": "stderr",
          "text": [
            "/usr/local/lib/python3.7/dist-packages/seaborn/_decorators.py:43: FutureWarning: Pass the following variables as keyword args: x, y. From version 0.12, the only valid positional argument will be `data`, and passing other arguments without an explicit keyword will result in an error or misinterpretation.\n",
            "  FutureWarning\n"
          ]
        },
        {
          "output_type": "execute_result",
          "data": {
            "text/plain": [
              "[(0.0, 10.0)]"
            ]
          },
          "metadata": {},
          "execution_count": 96
        },
        {
          "output_type": "display_data",
          "data": {
            "image/png": "[encoded data removed]",
            "text/plain": [
              "<Figure size 432x288 with 1 Axes>"
            ]
          },
          "metadata": {
            "needs_background": "light"
          }
        }
      ]
    },
    {
      "cell_type": "markdown",
      "metadata": {
        "id": "6aR_Cvazj5i8"
      },
      "source": [
        "#### **Add noises (Zero-concentrated differential privacy)**\n",
        "There are two core components to the 2020 DAS: noise injection and post-processing. We only focus on the noise injection here. Consistent with the 2020 DAS, discrete Gaussian noise is applied.\n",
        "\n",
        "Bun, M., & Steinke, T. (2016, November). Concentrated differential privacy: Simplifications, extensions, and lower bounds. In Theory of Cryptography Conference (pp. 635-658). Springer, Berlin, Heidelberg."
      ]
    },
    {
      "cell_type": "markdown",
      "metadata": {
        "id": "pPVBCJgakEH_"
      },
      "source": [
        "Parameters for generating Gaussian noise."
      ]
    },
    {
      "cell_type": "code",
      "metadata": {
        "colab": {
          "base_uri": "https://localhost:8080/"
        },
        "id": "uozf2TuOqMN-",
        "outputId": "4cc7bad6-ee8f-437b-8935-d71e3f98d23b"
      },
      "source": [
        "import math\n",
        "import numpy as np\n",
        "\n",
        "# privacy budget allocation\n",
        "delta = 10 ** (-10)\n",
        "eps = 17.14 * 9/4097\n",
        "\n",
        "# calculate sigma (standard deviation)\n",
        "sigma = math.sqrt(1 / (2 * eps))\n",
        "# privacy loss budget in differential privacy\n",
        "eps0 = eps + 2 * math.sqrt(eps * math.log(1 / delta))\n",
        "eps, eps0, sigma"
      ],
      "execution_count": 150,
      "outputs": [
        {
          "output_type": "execute_result",
          "data": {
            "text/plain": [
              "(0.03765194044422748, 1.8998742342553376, 3.6441086797038675)"
            ]
          },
          "metadata": {},
          "execution_count": 150
        }
      ]
    },
    {
      "cell_type": "markdown",
      "metadata": {
        "id": "_P4-Pl6Nyt01"
      },
      "source": [
        "Probability of generating zero noise and other noises."
      ]
    },
    {
      "cell_type": "code",
      "metadata": {
        "colab": {
          "base_uri": "https://localhost:8080/"
        },
        "id": "dMCXfSjpyhA3",
        "outputId": "1bf13852-25a6-4fe1-beae-73d0d0b6762b"
      },
      "source": [
        "import scipy.stats\n",
        "\n",
        "print(scipy.stats.norm(0, sigma).cdf(0.5) - scipy.stats.norm(0, sigma).cdf(-0.5), \n",
        "      scipy.stats.norm(0, sigma).cdf(1.5) - scipy.stats.norm(0, sigma).cdf(0.5),\n",
        "      scipy.stats.norm(0, sigma).cdf(2.5) - scipy.stats.norm(0, sigma).cdf(1.5),\n",
        "      scipy.stats.norm(0, sigma).cdf(3.5) - scipy.stats.norm(0, sigma).cdf(2.5), \n",
        "      scipy.stats.norm(0, sigma).cdf(8.5) - scipy.stats.norm(0, sigma).cdf(7.5))"
      ],
      "execution_count": null,
      "outputs": [
        {
          "output_type": "stream",
          "name": "stdout",
          "text": [
            "0.10913342502468493 0.1051255079831912 0.09396346340685724 0.07793101600369479 0.009953116866908474\n"
          ]
        }
      ]
    },
    {
      "cell_type": "markdown",
      "metadata": {
        "id": "KMQVJ_rzvGCU"
      },
      "source": [
        "Add noise to histogram."
      ]
    },
    {
      "cell_type": "code",
      "metadata": {
        "colab": {
          "base_uri": "https://localhost:8080/",
          "height": 446
        },
        "id": "uf_C7vK6wmz0",
        "outputId": "6ac41594-74dd-44ba-ce89-8b0542182d47"
      },
      "source": [
        "hist2 = hist1 + np.round(np.random.normal(0, sigma, size=(hist1.shape)), 0)\n",
        "hist2"
      ],
      "execution_count": null,
      "outputs": [
        {
          "output_type": "execute_result",
          "data": {
            "text/html": [
              "<div>\n",
              "<style scoped>\n",
              "    .dataframe tbody tr th:only-of-type {\n",
              "        vertical-align: middle;\n",
              "    }\n",
              "\n",
              "    .dataframe tbody tr th {\n",
              "        vertical-align: top;\n",
              "    }\n",
              "\n",
              "    .dataframe thead th {\n",
              "        text-align: right;\n",
              "    }\n",
              "</style>\n",
              "<table border=\"1\" class=\"dataframe\">\n",
              "  <thead>\n",
              "    <tr style=\"text-align: right;\">\n",
              "      <th>race</th>\n",
              "      <th>1</th>\n",
              "      <th>2</th>\n",
              "      <th>3</th>\n",
              "      <th>4</th>\n",
              "      <th>5</th>\n",
              "      <th>6</th>\n",
              "      <th>7</th>\n",
              "    </tr>\n",
              "    <tr>\n",
              "      <th>GEOID10</th>\n",
              "      <th></th>\n",
              "      <th></th>\n",
              "      <th></th>\n",
              "      <th></th>\n",
              "      <th></th>\n",
              "      <th></th>\n",
              "      <th></th>\n",
              "    </tr>\n",
              "  </thead>\n",
              "  <tbody>\n",
              "    <tr>\n",
              "      <th>390490001101001</th>\n",
              "      <td>3.0</td>\n",
              "      <td>-3.0</td>\n",
              "      <td>-3.0</td>\n",
              "      <td>-2.0</td>\n",
              "      <td>-6.0</td>\n",
              "      <td>-4.0</td>\n",
              "      <td>1.0</td>\n",
              "    </tr>\n",
              "    <tr>\n",
              "      <th>390490001101002</th>\n",
              "      <td>50.0</td>\n",
              "      <td>-3.0</td>\n",
              "      <td>4.0</td>\n",
              "      <td>-2.0</td>\n",
              "      <td>-1.0</td>\n",
              "      <td>3.0</td>\n",
              "      <td>-6.0</td>\n",
              "    </tr>\n",
              "    <tr>\n",
              "      <th>390490001101003</th>\n",
              "      <td>51.0</td>\n",
              "      <td>5.0</td>\n",
              "      <td>3.0</td>\n",
              "      <td>3.0</td>\n",
              "      <td>-3.0</td>\n",
              "      <td>5.0</td>\n",
              "      <td>2.0</td>\n",
              "    </tr>\n",
              "    <tr>\n",
              "      <th>390490001101004</th>\n",
              "      <td>44.0</td>\n",
              "      <td>1.0</td>\n",
              "      <td>-2.0</td>\n",
              "      <td>-1.0</td>\n",
              "      <td>-1.0</td>\n",
              "      <td>-3.0</td>\n",
              "      <td>-3.0</td>\n",
              "    </tr>\n",
              "    <tr>\n",
              "      <th>390490001101005</th>\n",
              "      <td>57.0</td>\n",
              "      <td>0.0</td>\n",
              "      <td>-2.0</td>\n",
              "      <td>0.0</td>\n",
              "      <td>4.0</td>\n",
              "      <td>1.0</td>\n",
              "      <td>10.0</td>\n",
              "    </tr>\n",
              "    <tr>\n",
              "      <th>...</th>\n",
              "      <td>...</td>\n",
              "      <td>...</td>\n",
              "      <td>...</td>\n",
              "      <td>...</td>\n",
              "      <td>...</td>\n",
              "      <td>...</td>\n",
              "      <td>...</td>\n",
              "    </tr>\n",
              "    <tr>\n",
              "      <th>390490107001015</th>\n",
              "      <td>92.0</td>\n",
              "      <td>23.0</td>\n",
              "      <td>-5.0</td>\n",
              "      <td>4.0</td>\n",
              "      <td>-4.0</td>\n",
              "      <td>8.0</td>\n",
              "      <td>6.0</td>\n",
              "    </tr>\n",
              "    <tr>\n",
              "      <th>390490107001016</th>\n",
              "      <td>10.0</td>\n",
              "      <td>5.0</td>\n",
              "      <td>-5.0</td>\n",
              "      <td>-4.0</td>\n",
              "      <td>-6.0</td>\n",
              "      <td>4.0</td>\n",
              "      <td>-5.0</td>\n",
              "    </tr>\n",
              "    <tr>\n",
              "      <th>390490107001017</th>\n",
              "      <td>41.0</td>\n",
              "      <td>2.0</td>\n",
              "      <td>3.0</td>\n",
              "      <td>5.0</td>\n",
              "      <td>-7.0</td>\n",
              "      <td>1.0</td>\n",
              "      <td>4.0</td>\n",
              "    </tr>\n",
              "    <tr>\n",
              "      <th>390490107001020</th>\n",
              "      <td>161.0</td>\n",
              "      <td>29.0</td>\n",
              "      <td>1.0</td>\n",
              "      <td>12.0</td>\n",
              "      <td>5.0</td>\n",
              "      <td>2.0</td>\n",
              "      <td>3.0</td>\n",
              "    </tr>\n",
              "    <tr>\n",
              "      <th>390499800001027</th>\n",
              "      <td>4.0</td>\n",
              "      <td>8.0</td>\n",
              "      <td>4.0</td>\n",
              "      <td>-5.0</td>\n",
              "      <td>-2.0</td>\n",
              "      <td>5.0</td>\n",
              "      <td>1.0</td>\n",
              "    </tr>\n",
              "  </tbody>\n",
              "</table>\n",
              "<p>15127 rows × 7 columns</p>\n",
              "</div>"
            ],
            "text/plain": [
              "race                 1     2    3     4    5    6     7\n",
              "GEOID10                                                \n",
              "390490001101001    3.0  -3.0 -3.0  -2.0 -6.0 -4.0   1.0\n",
              "390490001101002   50.0  -3.0  4.0  -2.0 -1.0  3.0  -6.0\n",
              "390490001101003   51.0   5.0  3.0   3.0 -3.0  5.0   2.0\n",
              "390490001101004   44.0   1.0 -2.0  -1.0 -1.0 -3.0  -3.0\n",
              "390490001101005   57.0   0.0 -2.0   0.0  4.0  1.0  10.0\n",
              "...                ...   ...  ...   ...  ...  ...   ...\n",
              "390490107001015   92.0  23.0 -5.0   4.0 -4.0  8.0   6.0\n",
              "390490107001016   10.0   5.0 -5.0  -4.0 -6.0  4.0  -5.0\n",
              "390490107001017   41.0   2.0  3.0   5.0 -7.0  1.0   4.0\n",
              "390490107001020  161.0  29.0  1.0  12.0  5.0  2.0   3.0\n",
              "390499800001027    4.0   8.0  4.0  -5.0 -2.0  5.0   1.0\n",
              "\n",
              "[15127 rows x 7 columns]"
            ]
          },
          "metadata": {},
          "execution_count": 35
        }
      ]
    },
    {
      "cell_type": "markdown",
      "metadata": {
        "id": "KzDk5nC0yKiI"
      },
      "source": [
        "####**Cell uniqueness**\n",
        "Young, C., Martin, D., & Skinner, C. (2009). Geographically intelligent disclosure control for flexible aggregation of census data. International Journal of Geographical Information Science, 23(4), 457-482.\n",
        "\n",
        "Privacy measure: probability of finding a true unique"
      ]
    },
    {
      "cell_type": "code",
      "metadata": {
        "colab": {
          "base_uri": "https://localhost:8080/"
        },
        "id": "nLNB98iXyPj1",
        "outputId": "04cb61e8-829e-4780-cb28-1f9c326716ce"
      },
      "source": [
        "# find a true unique\n",
        "tu = (hist1 == hist2) & (hist1 == 1) & (hist2 == 1)\n",
        "n_tu = np.unique(tu.values, return_counts=True)[1][1]\n",
        "n_tu"
      ],
      "execution_count": null,
      "outputs": [
        {
          "output_type": "execute_result",
          "data": {
            "text/plain": [
              "795"
            ]
          },
          "metadata": {},
          "execution_count": 100
        }
      ]
    },
    {
      "cell_type": "code",
      "metadata": {
        "colab": {
          "base_uri": "https://localhost:8080/"
        },
        "id": "c9dGf3LC4d7_",
        "outputId": "a02c9acc-5bd7-49ac-b47c-be6325ba8fa3"
      },
      "source": [
        "# uniques after noise injection\n",
        "u = hist2 == 1\n",
        "n_u = np.unique(u.values, return_counts=True)[1][1]\n",
        "n_u"
      ],
      "execution_count": null,
      "outputs": [
        {
          "output_type": "execute_result",
          "data": {
            "text/plain": [
              "8362"
            ]
          },
          "metadata": {},
          "execution_count": 101
        }
      ]
    },
    {
      "cell_type": "code",
      "metadata": {
        "colab": {
          "base_uri": "https://localhost:8080/"
        },
        "id": "fd73PgPg4nz7",
        "outputId": "384cb747-aeb1-42d5-a415-568b0434a5c3"
      },
      "source": [
        "# frequency of finding the true uniques\n",
        "p_tu = n_tu / n_u\n",
        "p_tu"
      ],
      "execution_count": null,
      "outputs": [
        {
          "output_type": "execute_result",
          "data": {
            "text/plain": [
              "0.09507294905524993"
            ]
          },
          "metadata": {},
          "execution_count": 102
        }
      ]
    },
    {
      "cell_type": "markdown",
      "metadata": {
        "id": "4HDpGpvHcXUM"
      },
      "source": [
        "Let $A_i$ = {cell = $i$ before noise injection}, and the noise be $W\\sim N(0,\\sigma^2)$. A true unique (TU) is a cell = 1 before and after noise injection. The probability of finding a true unique can be defined using the Bayes' theorem:\n",
        "\n",
        "$p(TU)=\\frac{p(-0.5<=W<=0.5)p(A_1)}{\\sum_ip(0.5-i<=W<=1.5-i)p(A_i)}$\n",
        "\n",
        "\n",
        "$p(TU)$ is large if (i) the histogram is dominantly \"unique\", (ii) non-unique cells have relatively large values, and/or (iii) the privacy budget is large."
      ]
    },
    {
      "cell_type": "code",
      "metadata": {
        "colab": {
          "base_uri": "https://localhost:8080/"
        },
        "id": "1CE869uxc5x-",
        "outputId": "45845beb-d937-4dca-e65d-75aeea0ea823"
      },
      "source": [
        "import scipy.stats\n",
        "\n",
        "column_values = hist1[hist1.columns].values.ravel()\n",
        "A = pd.unique(column_values)\n",
        "\n",
        "probs = []\n",
        "for i in A:\n",
        "    p1 = scipy.stats.norm(0, sigma).cdf(0.5 - i) - scipy.stats.norm(0, sigma).cdf(1.5 - i)\n",
        "    u0 = hist1 == i\n",
        "    p2 = np.unique(u0.values, return_counts=True)[1][1] / (np.unique(u0.values, return_counts=True)[1][1] + \n",
        "                                                           np.unique(u0.values, return_counts=True)[1][0])\n",
        "    probs.append(p1 * p2)\n",
        "\n",
        "p3 = scipy.stats.norm(0, sigma).cdf(-0.5) - scipy.stats.norm(0, sigma).cdf(0.5)\n",
        "u0 = hist1 == 1\n",
        "p4 = np.unique(u0.values, return_counts=True)[1][1] / (np.unique(u0.values, return_counts=True)[1][1] + \n",
        "                                                       np.unique(u0.values, return_counts=True)[1][0])\n",
        "p_tu = p3 * p4 / sum(probs)\n",
        "p_tu"
      ],
      "execution_count": 151,
      "outputs": [
        {
          "output_type": "execute_result",
          "data": {
            "text/plain": [
              "0.08792193110751202"
            ]
          },
          "metadata": {},
          "execution_count": 151
        }
      ]
    },
    {
      "cell_type": "markdown",
      "metadata": {
        "id": "rQ1i-cbNdbc_"
      },
      "source": [
        "We also use a Monte Carlo method to calculate the expected frequency (probability) of finding the true uniques. The result is consistent with the theoretical value."
      ]
    },
    {
      "cell_type": "code",
      "metadata": {
        "colab": {
          "base_uri": "https://localhost:8080/"
        },
        "id": "y8OG9nTl8SQE",
        "outputId": "45ae90f0-ff95-4e21-ec03-7931e802e4e7"
      },
      "source": [
        "import statistics\n",
        "import numpy as np\n",
        "\n",
        "N = 1000    # bootstrap times\n",
        "p_tus = []\n",
        "\n",
        "for i in range(N):\n",
        "    hist2 = hist1 + np.round(np.random.normal(0, sigma, size=(hist1.shape)), 0)\n",
        "    # find a true unique\n",
        "    tu = (hist1 == hist2) & (hist1 == 1) & (hist2 == 1)\n",
        "    n_tu = np.unique(tu.values, return_counts=True)[1][1]\n",
        "    # uniques after noise injection\n",
        "    u = hist2 == 1\n",
        "    n_u = np.unique(u.values, return_counts=True)[1][1]\n",
        "    # frequency of finding the true uniques\n",
        "    p_tu = n_tu / n_u\n",
        "    p_tus.append(p_tu)\n",
        "\n",
        "statistics.mean(p_tus)"
      ],
      "execution_count": null,
      "outputs": [
        {
          "output_type": "execute_result",
          "data": {
            "text/plain": [
              "0.08784854985966403"
            ]
          },
          "metadata": {},
          "execution_count": 104
        }
      ]
    },
    {
      "cell_type": "markdown",
      "metadata": {
        "id": "AjhQwN2SkimP"
      },
      "source": [
        "Compare with the Privacy-Protected 2010 Census Demonstration Data derived from the 2021-06-08 vintage of the PPMF. The result shows that after post-processing, the $p(TU)$ is potentially larger than that calculated immediately after noise injection."
      ]
    },
    {
      "cell_type": "code",
      "metadata": {
        "colab": {
          "base_uri": "https://localhost:8080/"
        },
        "id": "TvK9f0hTwvp_",
        "outputId": "991465df-672b-4d63-fb00-9573703c1c17"
      },
      "source": [
        "%cd \"/content/gdrive/My Drive/Colab Notebooks/census_privacy\"\n",
        "import pandas as pd\n",
        "\n",
        "filename_nhgis_block = 'franklin/nhgis/franklin_nhgis_block.csv'\n",
        "nhgis_block = pd.read_csv(filename_nhgis_block)\n",
        "\n",
        "hist1_nhgis = nhgis_block[['H72003_sf', 'H72004_sf', 'H72005_sf', 'H72006_sf', 'H72007_sf', 'H72008_sf', 'H72009_sf']]\n",
        "hist1_nhgis = hist1_nhgis.rename(columns={'H72003_sf': '1', 'H72004_sf': '2', 'H72005_sf': '3', 'H72006_sf': '4', 'H72007_sf': '5', 'H72008_sf': '6', \n",
        "                                          'H72009_sf': '7'})\n",
        "hist2_nhgis = nhgis_block[['H72003_dp', 'H72004_dp', 'H72005_dp', 'H72006_dp', 'H72007_dp', 'H72008_dp', 'H72009_dp']]\n",
        "hist2_nhgis = hist2_nhgis.rename(columns={'H72003_dp': '1', 'H72004_dp': '2', 'H72005_dp': '3', 'H72006_dp': '4', 'H72007_dp': '5', 'H72008_dp': '6', \n",
        "                                          'H72009_dp': '7'})\n",
        "\n",
        "# find a true unique\n",
        "tu = (hist1_nhgis == hist2_nhgis) & (hist1_nhgis == 1) & (hist2_nhgis == 1)\n",
        "n_tu = np.unique(tu.values, return_counts=True)[1][1]\n",
        "# uniques after noise injection\n",
        "u = hist2_nhgis == 1\n",
        "n_u = np.unique(u.values, return_counts=True)[1][1]\n",
        "# frequency of finding the true uniques\n",
        "p_tu_nhgis = n_tu / n_u\n",
        "p_tu_nhgis"
      ],
      "execution_count": 98,
      "outputs": [
        {
          "output_type": "stream",
          "name": "stdout",
          "text": [
            "/content/gdrive/My Drive/Colab Notebooks/census_privacy\n"
          ]
        },
        {
          "output_type": "execute_result",
          "data": {
            "text/plain": [
              "0.11636167922497309"
            ]
          },
          "metadata": {},
          "execution_count": 98
        }
      ]
    },
    {
      "cell_type": "markdown",
      "metadata": {
        "id": "FJoHrlwkbPK7"
      },
      "source": [
        "We also compare the results with that derived in the Guernsey county, which only has a population of 40,087."
      ]
    },
    {
      "cell_type": "code",
      "metadata": {
        "colab": {
          "base_uri": "https://localhost:8080/",
          "height": 220
        },
        "id": "UfdS2mILej9i",
        "outputId": "368731d9-963f-42ce-f47a-75258c9f8359"
      },
      "source": [
        "%cd \"/content/gdrive/My Drive/Colab Notebooks/census_privacy\"\n",
        "import pandas as pd\n",
        "import seaborn as sns\n",
        "\n",
        "filename_people_g = 'guernsey/microdata/guernsey_people_all.csv'\n",
        "data_people_g = pd.read_csv(filename_people_g)\n",
        "data_people_g['GEOID10'] = data_people_g['GEOID10'].astype(str)\n",
        "data_people_g['BGID10'] = data_people_g['GEOID10'].str[:12]\n",
        "data_people_g['TRACTID10'] = data_people_g['GEOID10'].str[:11]\n",
        "data_people_g.head()"
      ],
      "execution_count": 99,
      "outputs": [
        {
          "output_type": "stream",
          "name": "stdout",
          "text": [
            "/content/gdrive/My Drive/Colab Notebooks/census_privacy\n"
          ]
        },
        {
          "output_type": "execute_result",
          "data": {
            "text/html": [
              "<div>\n",
              "<style scoped>\n",
              "    .dataframe tbody tr th:only-of-type {\n",
              "        vertical-align: middle;\n",
              "    }\n",
              "\n",
              "    .dataframe tbody tr th {\n",
              "        vertical-align: top;\n",
              "    }\n",
              "\n",
              "    .dataframe thead th {\n",
              "        text-align: right;\n",
              "    }\n",
              "</style>\n",
              "<table border=\"1\" class=\"dataframe\">\n",
              "  <thead>\n",
              "    <tr style=\"text-align: right;\">\n",
              "      <th></th>\n",
              "      <th>GEOID10</th>\n",
              "      <th>race</th>\n",
              "      <th>sex</th>\n",
              "      <th>age</th>\n",
              "      <th>age_v</th>\n",
              "      <th>BGID10</th>\n",
              "      <th>TRACTID10</th>\n",
              "    </tr>\n",
              "  </thead>\n",
              "  <tbody>\n",
              "    <tr>\n",
              "      <th>0</th>\n",
              "      <td>390599771001005</td>\n",
              "      <td>1</td>\n",
              "      <td>1</td>\n",
              "      <td>1</td>\n",
              "      <td>1</td>\n",
              "      <td>390599771001</td>\n",
              "      <td>39059977100</td>\n",
              "    </tr>\n",
              "    <tr>\n",
              "      <th>1</th>\n",
              "      <td>390599771001005</td>\n",
              "      <td>1</td>\n",
              "      <td>1</td>\n",
              "      <td>1</td>\n",
              "      <td>1</td>\n",
              "      <td>390599771001</td>\n",
              "      <td>39059977100</td>\n",
              "    </tr>\n",
              "    <tr>\n",
              "      <th>2</th>\n",
              "      <td>390599771001005</td>\n",
              "      <td>1</td>\n",
              "      <td>1</td>\n",
              "      <td>1</td>\n",
              "      <td>2</td>\n",
              "      <td>390599771001</td>\n",
              "      <td>39059977100</td>\n",
              "    </tr>\n",
              "    <tr>\n",
              "      <th>3</th>\n",
              "      <td>390599771001005</td>\n",
              "      <td>1</td>\n",
              "      <td>1</td>\n",
              "      <td>1</td>\n",
              "      <td>0</td>\n",
              "      <td>390599771001</td>\n",
              "      <td>39059977100</td>\n",
              "    </tr>\n",
              "    <tr>\n",
              "      <th>4</th>\n",
              "      <td>390599771001005</td>\n",
              "      <td>1</td>\n",
              "      <td>1</td>\n",
              "      <td>1</td>\n",
              "      <td>2</td>\n",
              "      <td>390599771001</td>\n",
              "      <td>39059977100</td>\n",
              "    </tr>\n",
              "  </tbody>\n",
              "</table>\n",
              "</div>"
            ],
            "text/plain": [
              "           GEOID10  race  sex  age  age_v        BGID10    TRACTID10\n",
              "0  390599771001005     1    1    1      1  390599771001  39059977100\n",
              "1  390599771001005     1    1    1      1  390599771001  39059977100\n",
              "2  390599771001005     1    1    1      2  390599771001  39059977100\n",
              "3  390599771001005     1    1    1      0  390599771001  39059977100\n",
              "4  390599771001005     1    1    1      2  390599771001  39059977100"
            ]
          },
          "metadata": {},
          "execution_count": 99
        }
      ]
    },
    {
      "cell_type": "code",
      "metadata": {
        "colab": {
          "base_uri": "https://localhost:8080/",
          "height": 335
        },
        "id": "Ll9FFHP0beuo",
        "outputId": "217ea69e-8647-452b-95bd-385944375338"
      },
      "source": [
        "import seaborn as sns\n",
        "\n",
        "hist1_g = pd.crosstab(data_people_g.GEOID10, data_people_g.race)\n",
        "probabilities = hist1_g.stack().value_counts(normalize=True)    \n",
        "sns.barplot(probabilities.index, probabilities.values).set(xlim=(0, 10))"
      ],
      "execution_count": 100,
      "outputs": [
        {
          "output_type": "stream",
          "name": "stderr",
          "text": [
            "/usr/local/lib/python3.7/dist-packages/seaborn/_decorators.py:43: FutureWarning: Pass the following variables as keyword args: x, y. From version 0.12, the only valid positional argument will be `data`, and passing other arguments without an explicit keyword will result in an error or misinterpretation.\n",
            "  FutureWarning\n"
          ]
        },
        {
          "output_type": "execute_result",
          "data": {
            "text/plain": [
              "[(0.0, 10.0)]"
            ]
          },
          "metadata": {},
          "execution_count": 100
        },
        {
          "output_type": "display_data",
          "data": {
            "image/png": "[encoded data removed]",
            "text/plain": [
              "<Figure size 432x288 with 1 Axes>"
            ]
          },
          "metadata": {
            "needs_background": "light"
          }
        }
      ]
    },
    {
      "cell_type": "code",
      "metadata": {
        "colab": {
          "base_uri": "https://localhost:8080/"
        },
        "id": "48s6YxFTcoPA",
        "outputId": "baf10f12-bbd3-4a63-ef2c-0f3f3472a2fa"
      },
      "source": [
        "import scipy.stats\n",
        "\n",
        "column_values = hist1_g[hist1_g.columns].values.ravel()\n",
        "A = pd.unique(column_values)\n",
        "\n",
        "probs = []\n",
        "for i in A:\n",
        "    p1 = scipy.stats.norm(0, sigma).cdf(0.5 - i) - scipy.stats.norm(0, sigma).cdf(1.5 - i)\n",
        "    u0 = hist1_g == i\n",
        "    p2 = np.unique(u0.values, return_counts=True)[1][1] / (np.unique(u0.values, return_counts=True)[1][1] + \n",
        "                                                           np.unique(u0.values, return_counts=True)[1][0])\n",
        "    probs.append(p1 * p2)\n",
        "\n",
        "p3 = scipy.stats.norm(0, sigma).cdf(-0.5) - scipy.stats.norm(0, sigma).cdf(0.5)\n",
        "u0 = hist1_g == 1\n",
        "p4 = np.unique(u0.values, return_counts=True)[1][1] / (np.unique(u0.values, return_counts=True)[1][1] + \n",
        "                                                       np.unique(u0.values, return_counts=True)[1][0])\n",
        "p_tu_g = p3 * p4 / sum(probs)\n",
        "p_tu_g"
      ],
      "execution_count": 101,
      "outputs": [
        {
          "output_type": "execute_result",
          "data": {
            "text/plain": [
              "0.03317121400234159"
            ]
          },
          "metadata": {},
          "execution_count": 101
        }
      ]
    },
    {
      "cell_type": "code",
      "metadata": {
        "colab": {
          "base_uri": "https://localhost:8080/"
        },
        "id": "INTyFA6hhY9w",
        "outputId": "a42d6561-e763-4334-f18b-bc6a513aa9b3"
      },
      "source": [
        "# compare with NHGIS\n",
        "%cd \"/content/gdrive/My Drive/Colab Notebooks/census_privacy\"\n",
        "import pandas as pd\n",
        "\n",
        "filename_nhgis_block_g = 'guernsey/nhgis/guernsey_nhgis_block.csv'\n",
        "nhgis_block_g = pd.read_csv(filename_nhgis_block_g)\n",
        "\n",
        "hist1_nhgis_g = nhgis_block_g[['H72003_sf', 'H72004_sf', 'H72005_sf', 'H72006_sf', 'H72007_sf', 'H72008_sf', 'H72009_sf']]\n",
        "hist1_nhgis_g = hist1_nhgis_g.rename(columns={'H72003_sf': '1', 'H72004_sf': '2', 'H72005_sf': '3', 'H72006_sf': '4', 'H72007_sf': '5', 'H72008_sf': '6', \n",
        "                                          'H72009_sf': '7'})\n",
        "hist2_nhgis_g = nhgis_block_g[['H72003_dp', 'H72004_dp', 'H72005_dp', 'H72006_dp', 'H72007_dp', 'H72008_dp', 'H72009_dp']]\n",
        "hist2_nhgis_g = hist2_nhgis_g.rename(columns={'H72003_dp': '1', 'H72004_dp': '2', 'H72005_dp': '3', 'H72006_dp': '4', 'H72007_dp': '5', 'H72008_dp': '6', \n",
        "                                          'H72009_dp': '7'})\n",
        "\n",
        "# find a true unique\n",
        "tu = (hist1_nhgis_g == hist2_nhgis_g) & (hist1_nhgis_g == 1) & (hist2_nhgis_g == 1)\n",
        "n_tu = np.unique(tu.values, return_counts=True)[1][1]\n",
        "# uniques after noise injection\n",
        "u = hist2_nhgis_g == 1\n",
        "n_u = np.unique(u.values, return_counts=True)[1][1]\n",
        "# frequency of finding the true uniques\n",
        "p_tu_nhgis_g = n_tu / n_u\n",
        "p_tu_nhgis_g"
      ],
      "execution_count": 102,
      "outputs": [
        {
          "output_type": "stream",
          "name": "stdout",
          "text": [
            "/content/gdrive/My Drive/Colab Notebooks/census_privacy\n"
          ]
        },
        {
          "output_type": "execute_result",
          "data": {
            "text/plain": [
              "0.05958132045088567"
            ]
          },
          "metadata": {},
          "execution_count": 102
        }
      ]
    },
    {
      "cell_type": "markdown",
      "metadata": {
        "id": "4JlBwV4iM9mv"
      },
      "source": [
        "####**More on cell uniqueness**\n",
        "Some simulations to demonstrate how spatial scales affect the probability of finding a true unique. Two aspects of spatial scales are examined here: resolution and extent."
      ]
    },
    {
      "cell_type": "markdown",
      "metadata": {
        "id": "YAgcz2I07Pvq"
      },
      "source": [
        "#####**Impact of resolutions (aggregation levels)**\n",
        "We test the probability of finding a true unique at both block group and tract levels. As shown below, as we increase the aggregation level, the probability raises. This is potentially due to the fact that the histogram is less clustered around the small numbers (e.g., 2, 3, 0 that are easily transformed to 1 when adding noises)."
      ]
    },
    {
      "cell_type": "markdown",
      "metadata": {
        "id": "87-T5Xj47Wal"
      },
      "source": [
        "######**Block group**"
      ]
    },
    {
      "cell_type": "code",
      "metadata": {
        "colab": {
          "base_uri": "https://localhost:8080/",
          "height": 447
        },
        "id": "l04sSEhV7YaO",
        "outputId": "bac17004-2a0e-47e2-e169-3263728cf63f"
      },
      "source": [
        "hist1_bg = pd.crosstab(data_people.BGID10, data_people.race)\n",
        "hist1_bg"
      ],
      "execution_count": 103,
      "outputs": [
        {
          "output_type": "execute_result",
          "data": {
            "text/html": [
              "<div>\n",
              "<style scoped>\n",
              "    .dataframe tbody tr th:only-of-type {\n",
              "        vertical-align: middle;\n",
              "    }\n",
              "\n",
              "    .dataframe tbody tr th {\n",
              "        vertical-align: top;\n",
              "    }\n",
              "\n",
              "    .dataframe thead th {\n",
              "        text-align: right;\n",
              "    }\n",
              "</style>\n",
              "<table border=\"1\" class=\"dataframe\">\n",
              "  <thead>\n",
              "    <tr style=\"text-align: right;\">\n",
              "      <th>race</th>\n",
              "      <th>1</th>\n",
              "      <th>2</th>\n",
              "      <th>3</th>\n",
              "      <th>4</th>\n",
              "      <th>5</th>\n",
              "      <th>6</th>\n",
              "      <th>7</th>\n",
              "    </tr>\n",
              "    <tr>\n",
              "      <th>BGID10</th>\n",
              "      <th></th>\n",
              "      <th></th>\n",
              "      <th></th>\n",
              "      <th></th>\n",
              "      <th></th>\n",
              "      <th></th>\n",
              "      <th></th>\n",
              "    </tr>\n",
              "  </thead>\n",
              "  <tbody>\n",
              "    <tr>\n",
              "      <th>390490001101</th>\n",
              "      <td>1040</td>\n",
              "      <td>14</td>\n",
              "      <td>0</td>\n",
              "      <td>8</td>\n",
              "      <td>0</td>\n",
              "      <td>3</td>\n",
              "      <td>15</td>\n",
              "    </tr>\n",
              "    <tr>\n",
              "      <th>390490001102</th>\n",
              "      <td>814</td>\n",
              "      <td>15</td>\n",
              "      <td>0</td>\n",
              "      <td>18</td>\n",
              "      <td>0</td>\n",
              "      <td>3</td>\n",
              "      <td>7</td>\n",
              "    </tr>\n",
              "    <tr>\n",
              "      <th>390490001103</th>\n",
              "      <td>619</td>\n",
              "      <td>6</td>\n",
              "      <td>2</td>\n",
              "      <td>6</td>\n",
              "      <td>0</td>\n",
              "      <td>6</td>\n",
              "      <td>9</td>\n",
              "    </tr>\n",
              "    <tr>\n",
              "      <th>390490001104</th>\n",
              "      <td>744</td>\n",
              "      <td>5</td>\n",
              "      <td>0</td>\n",
              "      <td>4</td>\n",
              "      <td>0</td>\n",
              "      <td>1</td>\n",
              "      <td>5</td>\n",
              "    </tr>\n",
              "    <tr>\n",
              "      <th>390490001201</th>\n",
              "      <td>758</td>\n",
              "      <td>6</td>\n",
              "      <td>0</td>\n",
              "      <td>11</td>\n",
              "      <td>0</td>\n",
              "      <td>2</td>\n",
              "      <td>12</td>\n",
              "    </tr>\n",
              "    <tr>\n",
              "      <th>...</th>\n",
              "      <td>...</td>\n",
              "      <td>...</td>\n",
              "      <td>...</td>\n",
              "      <td>...</td>\n",
              "      <td>...</td>\n",
              "      <td>...</td>\n",
              "      <td>...</td>\n",
              "    </tr>\n",
              "    <tr>\n",
              "      <th>390490106021</th>\n",
              "      <td>1369</td>\n",
              "      <td>48</td>\n",
              "      <td>4</td>\n",
              "      <td>41</td>\n",
              "      <td>0</td>\n",
              "      <td>17</td>\n",
              "      <td>31</td>\n",
              "    </tr>\n",
              "    <tr>\n",
              "      <th>390490106022</th>\n",
              "      <td>2293</td>\n",
              "      <td>59</td>\n",
              "      <td>1</td>\n",
              "      <td>159</td>\n",
              "      <td>0</td>\n",
              "      <td>17</td>\n",
              "      <td>45</td>\n",
              "    </tr>\n",
              "    <tr>\n",
              "      <th>390490106023</th>\n",
              "      <td>1824</td>\n",
              "      <td>50</td>\n",
              "      <td>4</td>\n",
              "      <td>220</td>\n",
              "      <td>0</td>\n",
              "      <td>20</td>\n",
              "      <td>37</td>\n",
              "    </tr>\n",
              "    <tr>\n",
              "      <th>390490107001</th>\n",
              "      <td>1062</td>\n",
              "      <td>119</td>\n",
              "      <td>4</td>\n",
              "      <td>61</td>\n",
              "      <td>1</td>\n",
              "      <td>19</td>\n",
              "      <td>33</td>\n",
              "    </tr>\n",
              "    <tr>\n",
              "      <th>390499800001</th>\n",
              "      <td>2</td>\n",
              "      <td>0</td>\n",
              "      <td>0</td>\n",
              "      <td>0</td>\n",
              "      <td>0</td>\n",
              "      <td>0</td>\n",
              "      <td>0</td>\n",
              "    </tr>\n",
              "  </tbody>\n",
              "</table>\n",
              "<p>887 rows × 7 columns</p>\n",
              "</div>"
            ],
            "text/plain": [
              "race             1    2  3    4  5   6   7\n",
              "BGID10                                    \n",
              "390490001101  1040   14  0    8  0   3  15\n",
              "390490001102   814   15  0   18  0   3   7\n",
              "390490001103   619    6  2    6  0   6   9\n",
              "390490001104   744    5  0    4  0   1   5\n",
              "390490001201   758    6  0   11  0   2  12\n",
              "...            ...  ... ..  ... ..  ..  ..\n",
              "390490106021  1369   48  4   41  0  17  31\n",
              "390490106022  2293   59  1  159  0  17  45\n",
              "390490106023  1824   50  4  220  0  20  37\n",
              "390490107001  1062  119  4   61  1  19  33\n",
              "390499800001     2    0  0    0  0   0   0\n",
              "\n",
              "[887 rows x 7 columns]"
            ]
          },
          "metadata": {},
          "execution_count": 103
        }
      ]
    },
    {
      "cell_type": "code",
      "metadata": {
        "colab": {
          "base_uri": "https://localhost:8080/",
          "height": 335
        },
        "id": "gn5tDEpKADBZ",
        "outputId": "712de61d-657e-4b20-91b5-c3dac35eeb14"
      },
      "source": [
        "import seaborn as sns\n",
        "\n",
        "probabilities = hist1_bg.stack().value_counts(normalize=True)    \n",
        "sns.barplot(probabilities.index, probabilities.values).set(xlim=(0, 10))"
      ],
      "execution_count": null,
      "outputs": [
        {
          "output_type": "stream",
          "name": "stderr",
          "text": [
            "/usr/local/lib/python3.7/dist-packages/seaborn/_decorators.py:43: FutureWarning: Pass the following variables as keyword args: x, y. From version 0.12, the only valid positional argument will be `data`, and passing other arguments without an explicit keyword will result in an error or misinterpretation.\n",
            "  FutureWarning\n"
          ]
        },
        {
          "output_type": "execute_result",
          "data": {
            "text/plain": [
              "[(0.0, 10.0)]"
            ]
          },
          "metadata": {},
          "execution_count": 107
        },
        {
          "output_type": "display_data",
          "data": {
            "image/png": "[encoded data removed]",
            "text/plain": [
              "<Figure size 432x288 with 1 Axes>"
            ]
          },
          "metadata": {
            "needs_background": "light"
          }
        }
      ]
    },
    {
      "cell_type": "code",
      "metadata": {
        "colab": {
          "base_uri": "https://localhost:8080/"
        },
        "id": "e1LQyv9k7xUQ",
        "outputId": "12811512-998e-4b10-f200-eb6ef0e8ce60"
      },
      "source": [
        "import math\n",
        "import numpy as np\n",
        "\n",
        "# privacy budget allocation\n",
        "delta = 10 ** (-10)\n",
        "eps = 17.14 * 3/4099\n",
        "\n",
        "# calculate sigma (standard deviation)\n",
        "sigma = math.sqrt(1 / (2 * eps))\n",
        "# privacy loss budget in differential privacy\n",
        "eps0 = eps + 2 * math.sqrt(eps * math.log(1 / delta))\n",
        "eps, eps0, sigma"
      ],
      "execution_count": 104,
      "outputs": [
        {
          "output_type": "execute_result",
          "data": {
            "text/plain": [
              "(0.012544523054403513, 1.0874367368840445, 6.313321779713481)"
            ]
          },
          "metadata": {},
          "execution_count": 104
        }
      ]
    },
    {
      "cell_type": "code",
      "metadata": {
        "colab": {
          "base_uri": "https://localhost:8080/"
        },
        "id": "Z1-qO5xU7VyW",
        "outputId": "3284852c-2fef-421b-ac28-f0ee6571472e"
      },
      "source": [
        "import scipy.stats\n",
        "\n",
        "column_values = hist1_bg[hist1_bg.columns].values.ravel()\n",
        "A = pd.unique(column_values)\n",
        "\n",
        "probs = []\n",
        "for i in A:\n",
        "    p1 = scipy.stats.norm(0, sigma).cdf(0.5 - i) - scipy.stats.norm(0, sigma).cdf(1.5 - i)\n",
        "    u0 = hist1_bg == i\n",
        "    p2 = np.unique(u0.values, return_counts=True)[1][1] / (np.unique(u0.values, return_counts=True)[1][1] + \n",
        "                                                           np.unique(u0.values, return_counts=True)[1][0])\n",
        "    probs.append(p1 * p2)\n",
        "\n",
        "p3 = scipy.stats.norm(0, sigma).cdf(-0.5) - scipy.stats.norm(0, sigma).cdf(0.5)\n",
        "u0 = hist1_bg == 1\n",
        "p4 = np.unique(u0.values, return_counts=True)[1][1] / (np.unique(u0.values, return_counts=True)[1][1] + \n",
        "                                                       np.unique(u0.values, return_counts=True)[1][0])\n",
        "p_tu_bg = p3 * p4 / sum(probs)\n",
        "p_tu_bg"
      ],
      "execution_count": 105,
      "outputs": [
        {
          "output_type": "execute_result",
          "data": {
            "text/plain": [
              "0.1661838820385404"
            ]
          },
          "metadata": {},
          "execution_count": 105
        }
      ]
    },
    {
      "cell_type": "code",
      "metadata": {
        "colab": {
          "base_uri": "https://localhost:8080/"
        },
        "id": "NpAvMAMM99VK",
        "outputId": "fdbb08dc-7429-4b01-e07c-cbfab790fa04"
      },
      "source": [
        "# Compare with NHGIS data\n",
        "%cd \"/content/gdrive/My Drive/Colab Notebooks/census_privacy\"\n",
        "import pandas as pd\n",
        "\n",
        "filename_nhgis_bg = 'franklin/nhgis/franklin_nhgis_bg.csv'\n",
        "nhgis_bg = pd.read_csv(filename_nhgis_bg)\n",
        "\n",
        "hist1_nhgis_bg = nhgis_bg[['H72003_sf', 'H72004_sf', 'H72005_sf', 'H72006_sf', 'H72007_sf', 'H72008_sf', 'H72009_sf']]\n",
        "hist1_nhgis_bg = hist1_nhgis_bg.rename(columns={'H72003_sf': '1', 'H72004_sf': '2', 'H72005_sf': '3', 'H72006_sf': '4', 'H72007_sf': '5', 'H72008_sf': '6', \n",
        "                                          'H72009_sf': '7'})\n",
        "hist2_nhgis_bg = nhgis_bg[['H72003_dp', 'H72004_dp', 'H72005_dp', 'H72006_dp', 'H72007_dp', 'H72008_dp', 'H72009_dp']]\n",
        "hist2_nhgis_bg = hist2_nhgis_bg.rename(columns={'H72003_dp': '1', 'H72004_dp': '2', 'H72005_dp': '3', 'H72006_dp': '4', 'H72007_dp': '5', 'H72008_dp': '6', \n",
        "                                          'H72009_dp': '7'})\n",
        "\n",
        "# find a true unique\n",
        "tu = (hist1_nhgis_bg == hist2_nhgis_bg) & (hist1_nhgis_bg == 1) & (hist2_nhgis_bg == 1)\n",
        "n_tu = np.unique(tu.values, return_counts=True)[1][1]\n",
        "# uniques after noise injection\n",
        "u = hist2_nhgis_bg == 1\n",
        "n_u = np.unique(u.values, return_counts=True)[1][1]\n",
        "# frequency of finding the true uniques\n",
        "p_tu_bg_nhgis = n_tu / n_u\n",
        "p_tu_bg_nhgis"
      ],
      "execution_count": 106,
      "outputs": [
        {
          "output_type": "stream",
          "name": "stdout",
          "text": [
            "/content/gdrive/My Drive/Colab Notebooks/census_privacy\n"
          ]
        },
        {
          "output_type": "execute_result",
          "data": {
            "text/plain": [
              "0.2316715542521994"
            ]
          },
          "metadata": {},
          "execution_count": 106
        }
      ]
    },
    {
      "cell_type": "markdown",
      "metadata": {
        "id": "qyuFdb4vdO8n"
      },
      "source": [
        "Compare with Guernsey county."
      ]
    },
    {
      "cell_type": "code",
      "metadata": {
        "colab": {
          "base_uri": "https://localhost:8080/"
        },
        "id": "1S55lJY9dZvX",
        "outputId": "d24c955d-e629-40e3-fef9-dd3ae00ecbfc"
      },
      "source": [
        "import scipy.stats\n",
        "\n",
        "hist1_bg_g = pd.crosstab(data_people_g.BGID10, data_people_g.race)\n",
        "column_values = hist1_bg_g[hist1_bg_g.columns].values.ravel()\n",
        "A = pd.unique(column_values)\n",
        "\n",
        "probs = []\n",
        "for i in A:\n",
        "    p1 = scipy.stats.norm(0, sigma).cdf(0.5 - i) - scipy.stats.norm(0, sigma).cdf(1.5 - i)\n",
        "    u0 = hist1_bg_g == i\n",
        "    p2 = np.unique(u0.values, return_counts=True)[1][1] / (np.unique(u0.values, return_counts=True)[1][1] + \n",
        "                                                           np.unique(u0.values, return_counts=True)[1][0])\n",
        "    probs.append(p1 * p2)\n",
        "\n",
        "p3 = scipy.stats.norm(0, sigma).cdf(-0.5) - scipy.stats.norm(0, sigma).cdf(0.5)\n",
        "u0 = hist1_bg_g == 1\n",
        "p4 = np.unique(u0.values, return_counts=True)[1][1] / (np.unique(u0.values, return_counts=True)[1][1] + \n",
        "                                                       np.unique(u0.values, return_counts=True)[1][0])\n",
        "p_tu_bg_g = p3 * p4 / sum(probs)\n",
        "p_tu_bg_g"
      ],
      "execution_count": 107,
      "outputs": [
        {
          "output_type": "execute_result",
          "data": {
            "text/plain": [
              "0.201244639220228"
            ]
          },
          "metadata": {},
          "execution_count": 107
        }
      ]
    },
    {
      "cell_type": "code",
      "metadata": {
        "colab": {
          "base_uri": "https://localhost:8080/"
        },
        "id": "EZxxOjyCe9Tw",
        "outputId": "1d4addfd-c627-4647-f8da-365776f9ce05"
      },
      "source": [
        "# Compare with NHGIS data (Guernsey)\n",
        "%cd \"/content/gdrive/My Drive/Colab Notebooks/census_privacy\"\n",
        "import pandas as pd\n",
        "\n",
        "filename_nhgis_bg_g = 'guernsey/nhgis/guernsey_nhgis_bg.csv'\n",
        "nhgis_bg_g = pd.read_csv(filename_nhgis_bg_g)\n",
        "\n",
        "hist1_nhgis_bg_g = nhgis_bg_g[['H72003_sf', 'H72004_sf', 'H72005_sf', 'H72006_sf', 'H72007_sf', 'H72008_sf', 'H72009_sf']]\n",
        "hist1_nhgis_bg_g = hist1_nhgis_bg_g.rename(columns={'H72003_sf': '1', 'H72004_sf': '2', 'H72005_sf': '3', 'H72006_sf': '4', 'H72007_sf': '5', 'H72008_sf': '6', \n",
        "                                          'H72009_sf': '7'})\n",
        "hist2_nhgis_bg_g = nhgis_bg_g[['H72003_dp', 'H72004_dp', 'H72005_dp', 'H72006_dp', 'H72007_dp', 'H72008_dp', 'H72009_dp']]\n",
        "hist2_nhgis_bg_g = hist2_nhgis_bg_g.rename(columns={'H72003_dp': '1', 'H72004_dp': '2', 'H72005_dp': '3', 'H72006_dp': '4', 'H72007_dp': '5', 'H72008_dp': '6', \n",
        "                                          'H72009_dp': '7'})\n",
        "\n",
        "# find a true unique\n",
        "tu = (hist1_nhgis_bg_g == hist2_nhgis_bg_g) & (hist1_nhgis_bg_g == 1) & (hist2_nhgis_bg_g == 1)\n",
        "n_tu = np.unique(tu.values, return_counts=True)[1][1]\n",
        "# uniques after noise injection\n",
        "u = hist2_nhgis_bg_g == 1\n",
        "n_u = np.unique(u.values, return_counts=True)[1][1]\n",
        "# frequency of finding the true uniques\n",
        "p_tu_bg_nhgis_g = n_tu / n_u\n",
        "p_tu_bg_nhgis_g"
      ],
      "execution_count": 108,
      "outputs": [
        {
          "output_type": "stream",
          "name": "stdout",
          "text": [
            "/content/gdrive/My Drive/Colab Notebooks/census_privacy\n"
          ]
        },
        {
          "output_type": "execute_result",
          "data": {
            "text/plain": [
              "0.3448275862068966"
            ]
          },
          "metadata": {},
          "execution_count": 108
        }
      ]
    },
    {
      "cell_type": "markdown",
      "metadata": {
        "id": "gbwbohOH8Hd1"
      },
      "source": [
        "######**Tract**"
      ]
    },
    {
      "cell_type": "code",
      "metadata": {
        "colab": {
          "base_uri": "https://localhost:8080/",
          "height": 447
        },
        "id": "Q55Isky-8HeK",
        "outputId": "45b36e39-cccf-4f89-a5bd-733b02ddc51e"
      },
      "source": [
        "hist1_tr = pd.crosstab(data_people.TRACTID10, data_people.race)\n",
        "hist1_tr"
      ],
      "execution_count": 109,
      "outputs": [
        {
          "output_type": "execute_result",
          "data": {
            "text/html": [
              "<div>\n",
              "<style scoped>\n",
              "    .dataframe tbody tr th:only-of-type {\n",
              "        vertical-align: middle;\n",
              "    }\n",
              "\n",
              "    .dataframe tbody tr th {\n",
              "        vertical-align: top;\n",
              "    }\n",
              "\n",
              "    .dataframe thead th {\n",
              "        text-align: right;\n",
              "    }\n",
              "</style>\n",
              "<table border=\"1\" class=\"dataframe\">\n",
              "  <thead>\n",
              "    <tr style=\"text-align: right;\">\n",
              "      <th>race</th>\n",
              "      <th>1</th>\n",
              "      <th>2</th>\n",
              "      <th>3</th>\n",
              "      <th>4</th>\n",
              "      <th>5</th>\n",
              "      <th>6</th>\n",
              "      <th>7</th>\n",
              "    </tr>\n",
              "    <tr>\n",
              "      <th>TRACTID10</th>\n",
              "      <th></th>\n",
              "      <th></th>\n",
              "      <th></th>\n",
              "      <th></th>\n",
              "      <th></th>\n",
              "      <th></th>\n",
              "      <th></th>\n",
              "    </tr>\n",
              "  </thead>\n",
              "  <tbody>\n",
              "    <tr>\n",
              "      <th>39049000110</th>\n",
              "      <td>3217</td>\n",
              "      <td>40</td>\n",
              "      <td>2</td>\n",
              "      <td>36</td>\n",
              "      <td>0</td>\n",
              "      <td>13</td>\n",
              "      <td>36</td>\n",
              "    </tr>\n",
              "    <tr>\n",
              "      <th>39049000120</th>\n",
              "      <td>3016</td>\n",
              "      <td>44</td>\n",
              "      <td>3</td>\n",
              "      <td>42</td>\n",
              "      <td>1</td>\n",
              "      <td>7</td>\n",
              "      <td>49</td>\n",
              "    </tr>\n",
              "    <tr>\n",
              "      <th>39049000210</th>\n",
              "      <td>2773</td>\n",
              "      <td>52</td>\n",
              "      <td>5</td>\n",
              "      <td>32</td>\n",
              "      <td>0</td>\n",
              "      <td>10</td>\n",
              "      <td>63</td>\n",
              "    </tr>\n",
              "    <tr>\n",
              "      <th>39049000220</th>\n",
              "      <td>3536</td>\n",
              "      <td>32</td>\n",
              "      <td>4</td>\n",
              "      <td>55</td>\n",
              "      <td>0</td>\n",
              "      <td>24</td>\n",
              "      <td>76</td>\n",
              "    </tr>\n",
              "    <tr>\n",
              "      <th>39049000310</th>\n",
              "      <td>2135</td>\n",
              "      <td>739</td>\n",
              "      <td>3</td>\n",
              "      <td>70</td>\n",
              "      <td>2</td>\n",
              "      <td>61</td>\n",
              "      <td>137</td>\n",
              "    </tr>\n",
              "    <tr>\n",
              "      <th>...</th>\n",
              "      <td>...</td>\n",
              "      <td>...</td>\n",
              "      <td>...</td>\n",
              "      <td>...</td>\n",
              "      <td>...</td>\n",
              "      <td>...</td>\n",
              "      <td>...</td>\n",
              "    </tr>\n",
              "    <tr>\n",
              "      <th>39049010500</th>\n",
              "      <td>6499</td>\n",
              "      <td>108</td>\n",
              "      <td>4</td>\n",
              "      <td>1179</td>\n",
              "      <td>1</td>\n",
              "      <td>43</td>\n",
              "      <td>119</td>\n",
              "    </tr>\n",
              "    <tr>\n",
              "      <th>39049010601</th>\n",
              "      <td>3933</td>\n",
              "      <td>128</td>\n",
              "      <td>3</td>\n",
              "      <td>453</td>\n",
              "      <td>0</td>\n",
              "      <td>32</td>\n",
              "      <td>95</td>\n",
              "    </tr>\n",
              "    <tr>\n",
              "      <th>39049010602</th>\n",
              "      <td>5486</td>\n",
              "      <td>157</td>\n",
              "      <td>9</td>\n",
              "      <td>420</td>\n",
              "      <td>0</td>\n",
              "      <td>54</td>\n",
              "      <td>113</td>\n",
              "    </tr>\n",
              "    <tr>\n",
              "      <th>39049010700</th>\n",
              "      <td>1062</td>\n",
              "      <td>119</td>\n",
              "      <td>4</td>\n",
              "      <td>61</td>\n",
              "      <td>1</td>\n",
              "      <td>19</td>\n",
              "      <td>33</td>\n",
              "    </tr>\n",
              "    <tr>\n",
              "      <th>39049980000</th>\n",
              "      <td>2</td>\n",
              "      <td>0</td>\n",
              "      <td>0</td>\n",
              "      <td>0</td>\n",
              "      <td>0</td>\n",
              "      <td>0</td>\n",
              "      <td>0</td>\n",
              "    </tr>\n",
              "  </tbody>\n",
              "</table>\n",
              "<p>284 rows × 7 columns</p>\n",
              "</div>"
            ],
            "text/plain": [
              "race            1    2  3     4  5   6    7\n",
              "TRACTID10                                  \n",
              "39049000110  3217   40  2    36  0  13   36\n",
              "39049000120  3016   44  3    42  1   7   49\n",
              "39049000210  2773   52  5    32  0  10   63\n",
              "39049000220  3536   32  4    55  0  24   76\n",
              "39049000310  2135  739  3    70  2  61  137\n",
              "...           ...  ... ..   ... ..  ..  ...\n",
              "39049010500  6499  108  4  1179  1  43  119\n",
              "39049010601  3933  128  3   453  0  32   95\n",
              "39049010602  5486  157  9   420  0  54  113\n",
              "39049010700  1062  119  4    61  1  19   33\n",
              "39049980000     2    0  0     0  0   0    0\n",
              "\n",
              "[284 rows x 7 columns]"
            ]
          },
          "metadata": {},
          "execution_count": 109
        }
      ]
    },
    {
      "cell_type": "code",
      "metadata": {
        "colab": {
          "base_uri": "https://localhost:8080/",
          "height": 337
        },
        "id": "zglJ3iq7AMyn",
        "outputId": "d849b757-68d3-4f80-f726-6cc3ad342a91"
      },
      "source": [
        "import seaborn as sns\n",
        "\n",
        "probabilities = hist1_tr.stack().value_counts(normalize=True)    \n",
        "sns.barplot(probabilities.index, probabilities.values).set(xlim=(0, 10))"
      ],
      "execution_count": null,
      "outputs": [
        {
          "output_type": "stream",
          "name": "stderr",
          "text": [
            "/usr/local/lib/python3.7/dist-packages/seaborn/_decorators.py:43: FutureWarning: Pass the following variables as keyword args: x, y. From version 0.12, the only valid positional argument will be `data`, and passing other arguments without an explicit keyword will result in an error or misinterpretation.\n",
            "  FutureWarning\n"
          ]
        },
        {
          "output_type": "execute_result",
          "data": {
            "text/plain": [
              "[(0.0, 10.0)]"
            ]
          },
          "metadata": {},
          "execution_count": 112
        },
        {
          "output_type": "display_data",
          "data": {
            "image/png": "[encoded data removed]",
            "text/plain": [
              "<Figure size 432x288 with 1 Axes>"
            ]
          },
          "metadata": {
            "needs_background": "light"
          }
        }
      ]
    },
    {
      "cell_type": "code",
      "metadata": {
        "colab": {
          "base_uri": "https://localhost:8080/"
        },
        "id": "fU3kNMNX8HeL",
        "outputId": "aa5d9671-a065-417f-e9c8-e881f16fea99"
      },
      "source": [
        "import math\n",
        "import numpy as np\n",
        "\n",
        "# privacy budget allocation\n",
        "delta = 10 ** (-10)\n",
        "eps = 17.14 * 4/2051\n",
        "\n",
        "# calculate sigma (standard deviation)\n",
        "sigma = math.sqrt(1 / (2 * eps))\n",
        "# privacy loss budget in differential privacy\n",
        "eps0 = eps + 2 * math.sqrt(eps * math.log(1 / delta))\n",
        "eps, eps0, sigma"
      ],
      "execution_count": 110,
      "outputs": [
        {
          "output_type": "execute_result",
          "data": {
            "text/plain": [
              "(0.03342759629449049, 1.7880772470489288, 3.867518750251543)"
            ]
          },
          "metadata": {},
          "execution_count": 110
        }
      ]
    },
    {
      "cell_type": "code",
      "metadata": {
        "colab": {
          "base_uri": "https://localhost:8080/"
        },
        "id": "fJfVioNn8HeL",
        "outputId": "880f09c1-81d8-4b04-821d-c8683048bb1d"
      },
      "source": [
        "import scipy.stats\n",
        "\n",
        "column_values = hist1_tr[hist1_tr.columns].values.ravel()\n",
        "A = pd.unique(column_values)\n",
        "\n",
        "probs = []\n",
        "for i in A:\n",
        "    p1 = scipy.stats.norm(0, sigma).cdf(0.5 - i) - scipy.stats.norm(0, sigma).cdf(1.5 - i)\n",
        "    u0 = hist1_tr == i\n",
        "    p2 = np.unique(u0.values, return_counts=True)[1][1] / (np.unique(u0.values, return_counts=True)[1][1] + \n",
        "                                                           np.unique(u0.values, return_counts=True)[1][0])\n",
        "    probs.append(p1 * p2)\n",
        "\n",
        "p3 = scipy.stats.norm(0, sigma).cdf(-0.5) - scipy.stats.norm(0, sigma).cdf(0.5)\n",
        "u0 = hist1_tr == 1\n",
        "p4 = np.unique(u0.values, return_counts=True)[1][1] / (np.unique(u0.values, return_counts=True)[1][1] + \n",
        "                                                       np.unique(u0.values, return_counts=True)[1][0])\n",
        "p_tu_tr = p3 * p4 / sum(probs)\n",
        "p_tu_tr"
      ],
      "execution_count": 111,
      "outputs": [
        {
          "output_type": "execute_result",
          "data": {
            "text/plain": [
              "0.22091171504653892"
            ]
          },
          "metadata": {},
          "execution_count": 111
        }
      ]
    },
    {
      "cell_type": "code",
      "metadata": {
        "colab": {
          "base_uri": "https://localhost:8080/"
        },
        "id": "GpUEviut_JK4",
        "outputId": "e8604cfb-6d0d-4522-fbc9-c7be901f188a"
      },
      "source": [
        "# Compare with NHGIS data\n",
        "%cd \"/content/gdrive/My Drive/Colab Notebooks/census_privacy\"\n",
        "import pandas as pd\n",
        "\n",
        "filename_nhgis_tr = 'franklin/nhgis/franklin_nhgis_tract.csv'\n",
        "nhgis_tr = pd.read_csv(filename_nhgis_tr)\n",
        "\n",
        "hist1_nhgis_tr = nhgis_tr[['H72003_sf', 'H72004_sf', 'H72005_sf', 'H72006_sf', 'H72007_sf', 'H72008_sf', 'H72009_sf']]\n",
        "hist1_nhgis_tr = hist1_nhgis_tr.rename(columns={'H72003_sf': '1', 'H72004_sf': '2', 'H72005_sf': '3', 'H72006_sf': '4', 'H72007_sf': '5', 'H72008_sf': '6', \n",
        "                                          'H72009_sf': '7'})\n",
        "hist2_nhgis_tr = nhgis_tr[['H72003_dp', 'H72004_dp', 'H72005_dp', 'H72006_dp', 'H72007_dp', 'H72008_dp', 'H72009_dp']]\n",
        "hist2_nhgis_tr = hist2_nhgis_tr.rename(columns={'H72003_dp': '1', 'H72004_dp': '2', 'H72005_dp': '3', 'H72006_dp': '4', 'H72007_dp': '5', 'H72008_dp': '6', \n",
        "                                          'H72009_dp': '7'})\n",
        "\n",
        "# find a true unique\n",
        "tu = (hist1_nhgis_tr == hist2_nhgis_tr) & (hist1_nhgis_tr == 1) & (hist2_nhgis_tr == 1)\n",
        "n_tu = np.unique(tu.values, return_counts=True)[1][1]\n",
        "# uniques after noise injection\n",
        "u = hist2_nhgis_tr == 1\n",
        "n_u = np.unique(u.values, return_counts=True)[1][1]\n",
        "# frequency of finding the true uniques\n",
        "p_tu_tr_nhgis = n_tu / n_u\n",
        "p_tu_tr_nhgis"
      ],
      "execution_count": 112,
      "outputs": [
        {
          "output_type": "stream",
          "name": "stdout",
          "text": [
            "/content/gdrive/My Drive/Colab Notebooks/census_privacy\n"
          ]
        },
        {
          "output_type": "execute_result",
          "data": {
            "text/plain": [
              "0.18181818181818182"
            ]
          },
          "metadata": {},
          "execution_count": 112
        }
      ]
    },
    {
      "cell_type": "markdown",
      "metadata": {
        "id": "TyYDCCvjgPW_"
      },
      "source": [
        "Compare with Guernsey county."
      ]
    },
    {
      "cell_type": "code",
      "metadata": {
        "colab": {
          "base_uri": "https://localhost:8080/"
        },
        "id": "higb1JERfx9j",
        "outputId": "1d5f5ab8-77dd-4dc3-f52b-0d80cab1cf35"
      },
      "source": [
        "import scipy.stats\n",
        "\n",
        "hist1_tr_g = pd.crosstab(data_people_g.TRACTID10, data_people_g.race)\n",
        "column_values = hist1_tr_g[hist1_tr_g.columns].values.ravel()\n",
        "A = pd.unique(column_values)\n",
        "\n",
        "probs = []\n",
        "for i in A:\n",
        "    p1 = scipy.stats.norm(0, sigma).cdf(0.5 - i) - scipy.stats.norm(0, sigma).cdf(1.5 - i)\n",
        "    u0 = hist1_tr_g == i\n",
        "    p2 = np.unique(u0.values, return_counts=True)[1][1] / (np.unique(u0.values, return_counts=True)[1][1] + \n",
        "                                                           np.unique(u0.values, return_counts=True)[1][0])\n",
        "    probs.append(p1 * p2)\n",
        "\n",
        "p3 = scipy.stats.norm(0, sigma).cdf(-0.5) - scipy.stats.norm(0, sigma).cdf(0.5)\n",
        "u0 = hist1_tr_g == 1\n",
        "p4 = np.unique(u0.values, return_counts=True)[1][1] / (np.unique(u0.values, return_counts=True)[1][1] + \n",
        "                                                       np.unique(u0.values, return_counts=True)[1][0])\n",
        "p_tu_tr_g = p3 * p4 / sum(probs)\n",
        "p_tu_tr_g"
      ],
      "execution_count": 113,
      "outputs": [
        {
          "output_type": "execute_result",
          "data": {
            "text/plain": [
              "0.2296246783029495"
            ]
          },
          "metadata": {},
          "execution_count": 113
        }
      ]
    },
    {
      "cell_type": "code",
      "metadata": {
        "colab": {
          "base_uri": "https://localhost:8080/"
        },
        "id": "2qw3C6FmgS4X",
        "outputId": "0b04038a-cd82-4c94-b69e-7f662ad68ad6"
      },
      "source": [
        "# Compare with NHGIS data (Guernsey)\n",
        "%cd \"/content/gdrive/My Drive/Colab Notebooks/census_privacy\"\n",
        "import pandas as pd\n",
        "\n",
        "filename_nhgis_tr_g = 'guernsey/nhgis/guernsey_nhgis_tract.csv'\n",
        "nhgis_tr_g = pd.read_csv(filename_nhgis_tr_g)\n",
        "\n",
        "hist1_nhgis_tr_g = nhgis_tr_g[['H72003_sf', 'H72004_sf', 'H72005_sf', 'H72006_sf', 'H72007_sf', 'H72008_sf', 'H72009_sf']]\n",
        "hist1_nhgis_tr_g = hist1_nhgis_tr_g.rename(columns={'H72003_sf': '1', 'H72004_sf': '2', 'H72005_sf': '3', 'H72006_sf': '4', 'H72007_sf': '5', 'H72008_sf': '6', \n",
        "                                          'H72009_sf': '7'})\n",
        "hist2_nhgis_tr_g = nhgis_tr_g[['H72003_dp', 'H72004_dp', 'H72005_dp', 'H72006_dp', 'H72007_dp', 'H72008_dp', 'H72009_dp']]\n",
        "hist2_nhgis_tr_g = hist2_nhgis_tr_g.rename(columns={'H72003_dp': '1', 'H72004_dp': '2', 'H72005_dp': '3', 'H72006_dp': '4', 'H72007_dp': '5', 'H72008_dp': '6', \n",
        "                                          'H72009_dp': '7'})\n",
        "\n",
        "# find a true unique\n",
        "tu = (hist1_nhgis_tr_g == hist2_nhgis_tr_g) & (hist1_nhgis_tr_g == 1) & (hist2_nhgis_tr_g == 1)\n",
        "n_tu = np.unique(tu.values, return_counts=True)[1][1]\n",
        "# uniques after noise injection\n",
        "u = hist2_nhgis_tr_g == 1\n",
        "n_u = np.unique(u.values, return_counts=True)[1][1]\n",
        "# frequency of finding the true uniques\n",
        "p_tu_tr_nhgis_g = n_tu / n_u\n",
        "p_tu_tr_nhgis_g"
      ],
      "execution_count": 114,
      "outputs": [
        {
          "output_type": "stream",
          "name": "stdout",
          "text": [
            "/content/gdrive/My Drive/Colab Notebooks/census_privacy\n"
          ]
        },
        {
          "output_type": "execute_result",
          "data": {
            "text/plain": [
              "0.5"
            ]
          },
          "metadata": {},
          "execution_count": 114
        }
      ]
    },
    {
      "cell_type": "markdown",
      "metadata": {
        "id": "2sY5PpoMvgSv"
      },
      "source": [
        "We can plot the $p(TU)$ under different aggregation levels using a bar chart."
      ]
    },
    {
      "cell_type": "code",
      "metadata": {
        "colab": {
          "base_uri": "https://localhost:8080/",
          "height": 265
        },
        "id": "Aw22CxrwvpwV",
        "outputId": "53741882-d024-4dc3-9ee4-8b9ee9e70a6c"
      },
      "source": [
        "import matplotlib.pyplot as plt\n",
        "\n",
        "labels = ['Block', 'Block Group', 'Tract']\n",
        "p_tu_1 = [p_tu, p_tu_bg, p_tu_tr]\n",
        "p_tu_2 = [p_tu_nhgis, p_tu_bg_nhgis, p_tu_tr_nhgis]\n",
        "p_tu_3 = [p_tu_g, p_tu_bg_g, p_tu_tr_g]\n",
        "p_tu_4 = [p_tu_nhgis_g, p_tu_bg_nhgis_g, p_tu_tr_nhgis_g]\n",
        "\n",
        "x = np.arange(len(labels))  # the label locations\n",
        "width = 0.1 # the width of the bars\n",
        "\n",
        "fig, ax = plt.subplots()\n",
        "colors = [(0, 0, 1, 1), (1, 0, 0, 1)]\n",
        "\n",
        "rects1 = ax.bar(x - 0.5 * width, p_tu_1, width, label='Franklin (Noisy histogram)', color=(0,0,0,0), edgecolor=colors[0])\n",
        "rects3 = ax.bar(x + 0.5 * width, p_tu_3, width, label='Guernsey (Noisy histogram)', color=(0,0,0,0), edgecolor=colors[1])\n",
        "rects2 = ax.scatter(x - 0.5 * width, p_tu_2, label='Franklin (NHGIS)')\n",
        "rects4 = ax.scatter(x + 0.5 * width, p_tu_4, label='Guernsey (NHGIS)')\n",
        "\n",
        "ax.set_ylabel('p(TU)')\n",
        "ax.set_xticks(x)\n",
        "ax.set_xticklabels(labels)\n",
        "ax.legend()\n",
        "\n",
        "plt.show()"
      ],
      "execution_count": 115,
      "outputs": [
        {
          "output_type": "display_data",
          "data": {
            "image/png": "[encoded data removed]",
            "text/plain": [
              "<Figure size 432x288 with 1 Axes>"
            ]
          },
          "metadata": {
            "needs_background": "light"
          }
        }
      ]
    },
    {
      "cell_type": "markdown",
      "metadata": {
        "id": "9N1XIX6aGlNx"
      },
      "source": [
        "#####**Impact of extents**"
      ]
    },
    {
      "cell_type": "markdown",
      "metadata": {
        "id": "Eg9zH9_Ki7Fq"
      },
      "source": [
        "Read block and tract data."
      ]
    },
    {
      "cell_type": "code",
      "metadata": {
        "id": "z74fUdStIjrH"
      },
      "source": [
        "!pip install geopandas\n",
        "!pip install pysal"
      ],
      "execution_count": null,
      "outputs": []
    },
    {
      "cell_type": "code",
      "metadata": {
        "colab": {
          "base_uri": "https://localhost:8080/"
        },
        "id": "DGZGgSzaIjrH",
        "outputId": "3d928caf-a866-43ac-9558-ce06061f32a3"
      },
      "source": [
        "%cd \"/content/gdrive/My Drive/Colab Notebooks/census_privacy\"\n",
        "import geopandas as gpd\n",
        "\n",
        "filename_block = 'franklin/buildings/franklin_block10.json'\n",
        "data_block = gpd.read_file(filename_block)\n",
        "data_block['GEOID10'] = data_block['GEOID10'].astype(str)\n",
        "data_block['BGID10'] = data_block['GEOID10'].str[:12]\n",
        "data_block['TRACTID10'] = data_block['GEOID10'].str[:11]\n",
        "data_block.columns"
      ],
      "execution_count": 116,
      "outputs": [
        {
          "output_type": "stream",
          "name": "stdout",
          "text": [
            "/content/gdrive/My Drive/Colab Notebooks/census_privacy\n"
          ]
        },
        {
          "output_type": "execute_result",
          "data": {
            "text/plain": [
              "Index(['OBJECTID_1', 'STATEFP10', 'COUNTYFP10', 'TRACTCE10', 'BLOCKCE10',\n",
              "       'GEOID10', 'NAME10', 'MTFCC10', 'UR10', 'UACE10', 'UATYPE',\n",
              "       'FUNCSTAT10', 'ALAND10', 'AWATER10', 'INTPTLAT10', 'INTPTLON10', 'PUMA',\n",
              "       'Shape_Length', 'Shape_Area', 'BGID10', 'TRACTID10', 'geometry'],\n",
              "      dtype='object')"
            ]
          },
          "metadata": {},
          "execution_count": 116
        }
      ]
    },
    {
      "cell_type": "code",
      "metadata": {
        "colab": {
          "base_uri": "https://localhost:8080/"
        },
        "id": "JGFxJ_t75sqO",
        "outputId": "c0ec2577-59e1-4544-80c8-f3a11e9eb64e"
      },
      "source": [
        "%cd \"/content/gdrive/My Drive/Colab Notebooks/census_privacy\"\n",
        "import geopandas as gpd\n",
        "\n",
        "filename_tract = 'franklin/buildings/franklin_tract10.json'\n",
        "data_tract = gpd.read_file(filename_tract)\n",
        "data_tract['GEOID10'] = data_tract['GEOID10'].astype(str)\n",
        "data_tract.columns"
      ],
      "execution_count": 117,
      "outputs": [
        {
          "output_type": "stream",
          "name": "stdout",
          "text": [
            "/content/gdrive/My Drive/Colab Notebooks/census_privacy\n"
          ]
        },
        {
          "output_type": "execute_result",
          "data": {
            "text/plain": [
              "Index(['OBJECTID', 'STATEFP10', 'COUNTYFP10', 'TRACTCE10', 'GEOID10', 'NAME10',\n",
              "       'NAMELSAD10', 'MTFCC10', 'FUNCSTAT10', 'ALAND10', 'AWATER10',\n",
              "       'INTPTLAT10', 'INTPTLON10', 'Shape_Length', 'Shape_Area', 'geometry'],\n",
              "      dtype='object')"
            ]
          },
          "metadata": {},
          "execution_count": 117
        }
      ]
    },
    {
      "cell_type": "markdown",
      "metadata": {
        "id": "URjSPZB6Pg-W"
      },
      "source": [
        "######**Continuous neighbors**"
      ]
    },
    {
      "cell_type": "markdown",
      "metadata": {
        "id": "H59SvuWwjCTE"
      },
      "source": [
        "Find blocks in the most populated tract (largest population density)."
      ]
    },
    {
      "cell_type": "code",
      "metadata": {
        "colab": {
          "base_uri": "https://localhost:8080/",
          "height": 203
        },
        "id": "H1ecmHHIGpsu",
        "outputId": "be2413d4-8830-444b-aec0-787333859b6f"
      },
      "source": [
        "total = hist1_tr.sum(axis=1).to_frame()\n",
        "total[\"GEOID10\"] = total.index.map(str)\n",
        "total = total.rename(columns={total.columns[0]: \"POP\"})\n",
        "total.index.name = None\n",
        "data_tract_new = data_tract.merge(total[['GEOID10', 'POP']], how='left', on=['GEOID10'])\n",
        "total.head()"
      ],
      "execution_count": 118,
      "outputs": [
        {
          "output_type": "execute_result",
          "data": {
            "text/html": [
              "<div>\n",
              "<style scoped>\n",
              "    .dataframe tbody tr th:only-of-type {\n",
              "        vertical-align: middle;\n",
              "    }\n",
              "\n",
              "    .dataframe tbody tr th {\n",
              "        vertical-align: top;\n",
              "    }\n",
              "\n",
              "    .dataframe thead th {\n",
              "        text-align: right;\n",
              "    }\n",
              "</style>\n",
              "<table border=\"1\" class=\"dataframe\">\n",
              "  <thead>\n",
              "    <tr style=\"text-align: right;\">\n",
              "      <th></th>\n",
              "      <th>POP</th>\n",
              "      <th>GEOID10</th>\n",
              "    </tr>\n",
              "  </thead>\n",
              "  <tbody>\n",
              "    <tr>\n",
              "      <th>39049000110</th>\n",
              "      <td>3344</td>\n",
              "      <td>39049000110</td>\n",
              "    </tr>\n",
              "    <tr>\n",
              "      <th>39049000120</th>\n",
              "      <td>3162</td>\n",
              "      <td>39049000120</td>\n",
              "    </tr>\n",
              "    <tr>\n",
              "      <th>39049000210</th>\n",
              "      <td>2935</td>\n",
              "      <td>39049000210</td>\n",
              "    </tr>\n",
              "    <tr>\n",
              "      <th>39049000220</th>\n",
              "      <td>3727</td>\n",
              "      <td>39049000220</td>\n",
              "    </tr>\n",
              "    <tr>\n",
              "      <th>39049000310</th>\n",
              "      <td>3147</td>\n",
              "      <td>39049000310</td>\n",
              "    </tr>\n",
              "  </tbody>\n",
              "</table>\n",
              "</div>"
            ],
            "text/plain": [
              "              POP      GEOID10\n",
              "39049000110  3344  39049000110\n",
              "39049000120  3162  39049000120\n",
              "39049000210  2935  39049000210\n",
              "39049000220  3727  39049000220\n",
              "39049000310  3147  39049000310"
            ]
          },
          "metadata": {},
          "execution_count": 118
        }
      ]
    },
    {
      "cell_type": "code",
      "metadata": {
        "colab": {
          "base_uri": "https://localhost:8080/"
        },
        "id": "m5oPoBUR6JSq",
        "outputId": "50acc4db-0cd7-4da6-be68-1360f4e8530e"
      },
      "source": [
        "data_tract_new[\"POP_DEN\"] = data_tract_new[\"POP\"] / data_tract_new[\"ALAND10\"]\n",
        "max_index = data_tract_new[\"POP_DEN\"].idxmax()\n",
        "max_id = data_tract_new.loc[max_index].at['GEOID10']\n",
        "max_index, max_id"
      ],
      "execution_count": 119,
      "outputs": [
        {
          "output_type": "execute_result",
          "data": {
            "text/plain": [
              "(232, '39049001810')"
            ]
          },
          "metadata": {},
          "execution_count": 119
        }
      ]
    },
    {
      "cell_type": "markdown",
      "metadata": {
        "id": "1g9Bgrc_ou0A"
      },
      "source": [
        "Calculate $p(TU)$ based on the selected blocks (only blocks in the most population tract)."
      ]
    },
    {
      "cell_type": "code",
      "metadata": {
        "colab": {
          "base_uri": "https://localhost:8080/",
          "height": 234
        },
        "id": "9Fd4jEXtoufF",
        "outputId": "7c258df2-24d1-4ba7-ad42-0898625191c4"
      },
      "source": [
        "data_people_b1 = data_people[data_people[\"TRACTID10\"] == max_id]\n",
        "hist1_b1 = pd.crosstab(data_people_b1.GEOID10, data_people_b1.race)\n",
        "hist1_b1.head()"
      ],
      "execution_count": 120,
      "outputs": [
        {
          "output_type": "execute_result",
          "data": {
            "text/html": [
              "<div>\n",
              "<style scoped>\n",
              "    .dataframe tbody tr th:only-of-type {\n",
              "        vertical-align: middle;\n",
              "    }\n",
              "\n",
              "    .dataframe tbody tr th {\n",
              "        vertical-align: top;\n",
              "    }\n",
              "\n",
              "    .dataframe thead th {\n",
              "        text-align: right;\n",
              "    }\n",
              "</style>\n",
              "<table border=\"1\" class=\"dataframe\">\n",
              "  <thead>\n",
              "    <tr style=\"text-align: right;\">\n",
              "      <th>race</th>\n",
              "      <th>1</th>\n",
              "      <th>2</th>\n",
              "      <th>3</th>\n",
              "      <th>4</th>\n",
              "      <th>6</th>\n",
              "      <th>7</th>\n",
              "    </tr>\n",
              "    <tr>\n",
              "      <th>GEOID10</th>\n",
              "      <th></th>\n",
              "      <th></th>\n",
              "      <th></th>\n",
              "      <th></th>\n",
              "      <th></th>\n",
              "      <th></th>\n",
              "    </tr>\n",
              "  </thead>\n",
              "  <tbody>\n",
              "    <tr>\n",
              "      <th>390490018101000</th>\n",
              "      <td>88</td>\n",
              "      <td>5</td>\n",
              "      <td>0</td>\n",
              "      <td>7</td>\n",
              "      <td>2</td>\n",
              "      <td>4</td>\n",
              "    </tr>\n",
              "    <tr>\n",
              "      <th>390490018101001</th>\n",
              "      <td>45</td>\n",
              "      <td>0</td>\n",
              "      <td>0</td>\n",
              "      <td>8</td>\n",
              "      <td>0</td>\n",
              "      <td>1</td>\n",
              "    </tr>\n",
              "    <tr>\n",
              "      <th>390490018101002</th>\n",
              "      <td>338</td>\n",
              "      <td>25</td>\n",
              "      <td>0</td>\n",
              "      <td>53</td>\n",
              "      <td>6</td>\n",
              "      <td>15</td>\n",
              "    </tr>\n",
              "    <tr>\n",
              "      <th>390490018101003</th>\n",
              "      <td>153</td>\n",
              "      <td>4</td>\n",
              "      <td>0</td>\n",
              "      <td>30</td>\n",
              "      <td>0</td>\n",
              "      <td>5</td>\n",
              "    </tr>\n",
              "    <tr>\n",
              "      <th>390490018101004</th>\n",
              "      <td>234</td>\n",
              "      <td>7</td>\n",
              "      <td>0</td>\n",
              "      <td>40</td>\n",
              "      <td>0</td>\n",
              "      <td>6</td>\n",
              "    </tr>\n",
              "  </tbody>\n",
              "</table>\n",
              "</div>"
            ],
            "text/plain": [
              "race               1   2  3   4  6   7\n",
              "GEOID10                               \n",
              "390490018101000   88   5  0   7  2   4\n",
              "390490018101001   45   0  0   8  0   1\n",
              "390490018101002  338  25  0  53  6  15\n",
              "390490018101003  153   4  0  30  0   5\n",
              "390490018101004  234   7  0  40  0   6"
            ]
          },
          "metadata": {},
          "execution_count": 120
        }
      ]
    },
    {
      "cell_type": "code",
      "metadata": {
        "colab": {
          "base_uri": "https://localhost:8080/",
          "height": 335
        },
        "id": "jiExPImE9Szz",
        "outputId": "c8f9bc34-a7b6-4579-b2f1-e873f5ad8531"
      },
      "source": [
        "import seaborn as sns\n",
        "\n",
        "probabilities = hist1_b1.stack().value_counts(normalize=True)    \n",
        "sns.barplot(probabilities.index, probabilities.values).set(xlim=(0, 10))"
      ],
      "execution_count": 49,
      "outputs": [
        {
          "output_type": "stream",
          "name": "stderr",
          "text": [
            "/usr/local/lib/python3.7/dist-packages/seaborn/_decorators.py:43: FutureWarning: Pass the following variables as keyword args: x, y. From version 0.12, the only valid positional argument will be `data`, and passing other arguments without an explicit keyword will result in an error or misinterpretation.\n",
            "  FutureWarning\n"
          ]
        },
        {
          "output_type": "execute_result",
          "data": {
            "text/plain": [
              "[(0.0, 10.0)]"
            ]
          },
          "metadata": {},
          "execution_count": 49
        },
        {
          "output_type": "display_data",
          "data": {
            "image/png": "[encoded data removed]",
            "text/plain": [
              "<Figure size 432x288 with 1 Axes>"
            ]
          },
          "metadata": {
            "needs_background": "light"
          }
        }
      ]
    },
    {
      "cell_type": "code",
      "metadata": {
        "colab": {
          "base_uri": "https://localhost:8080/"
        },
        "id": "4EEivlxRSIRc",
        "outputId": "9b8d9d70-9318-441a-b0b4-2b8b574727b2"
      },
      "source": [
        "import math\n",
        "import numpy as np\n",
        "\n",
        "# privacy budget allocation\n",
        "delta = 10 ** (-10)\n",
        "eps = 17.14 * 9/4097\n",
        "\n",
        "# calculate sigma (standard deviation)\n",
        "sigma = math.sqrt(1 / (2 * eps))\n",
        "# privacy loss budget in differential privacy\n",
        "eps0 = eps + 2 * math.sqrt(eps * math.log(1 / delta))\n",
        "eps, eps0, sigma"
      ],
      "execution_count": 128,
      "outputs": [
        {
          "output_type": "execute_result",
          "data": {
            "text/plain": [
              "(0.03765194044422748, 1.8998742342553376, 3.6441086797038675)"
            ]
          },
          "metadata": {},
          "execution_count": 128
        }
      ]
    },
    {
      "cell_type": "code",
      "metadata": {
        "colab": {
          "base_uri": "https://localhost:8080/"
        },
        "id": "DzIZZ1OLoZPI",
        "outputId": "0505a9a4-73bd-4ea6-a96a-d42d2a65b055"
      },
      "source": [
        "import scipy.stats\n",
        "\n",
        "column_values = hist1_b1[hist1_b1.columns].values.ravel()\n",
        "A = pd.unique(column_values)\n",
        "\n",
        "probs = []\n",
        "for i in A:\n",
        "    p1 = scipy.stats.norm(0, sigma).cdf(0.5 - i) - scipy.stats.norm(0, sigma).cdf(1.5 - i)\n",
        "    u0 = hist1_b1 == i\n",
        "    p2 = np.unique(u0.values, return_counts=True)[1][1] / (np.unique(u0.values, return_counts=True)[1][1] + \n",
        "                                                           np.unique(u0.values, return_counts=True)[1][0])\n",
        "    probs.append(p1 * p2)\n",
        "\n",
        "p3 = scipy.stats.norm(0, sigma).cdf(-0.5) - scipy.stats.norm(0, sigma).cdf(0.5)\n",
        "u0 = hist1_b1 == 1\n",
        "p4 = np.unique(u0.values, return_counts=True)[1][1] / (np.unique(u0.values, return_counts=True)[1][1] + \n",
        "                                                       np.unique(u0.values, return_counts=True)[1][0])\n",
        "p_tu = p3 * p4 / sum(probs)\n",
        "p_tu"
      ],
      "execution_count": 123,
      "outputs": [
        {
          "output_type": "execute_result",
          "data": {
            "text/plain": [
              "0.18278672381416478"
            ]
          },
          "metadata": {},
          "execution_count": 123
        }
      ]
    },
    {
      "cell_type": "markdown",
      "metadata": {
        "id": "suP6PRBYq2uD"
      },
      "source": [
        "Expand the examined blocks by considering the neighbors of the most populated tract based on Rook continuity."
      ]
    },
    {
      "cell_type": "code",
      "metadata": {
        "colab": {
          "base_uri": "https://localhost:8080/"
        },
        "id": "uatdlUkVtFi0",
        "outputId": "33d1f8a6-7317-41ac-a74d-48aa379b5596"
      },
      "source": [
        "import geopandas as gpd\n",
        "from pysal.lib import weights\n",
        "\n",
        "k10 = weights.Rook.from_dataframe(data_tract)\n",
        "nb_index = k10.neighbors[max_index]\n",
        "nb_id = data_tract[\"GEOID10\"].iloc[nb_index]\n",
        "nb_id"
      ],
      "execution_count": 124,
      "outputs": [
        {
          "output_type": "execute_result",
          "data": {
            "text/plain": [
              "233    39049001700\n",
              "35     39049001122\n",
              "126    39049001121\n",
              "231    39049001820\n",
              "Name: GEOID10, dtype: object"
            ]
          },
          "metadata": {},
          "execution_count": 124
        }
      ]
    },
    {
      "cell_type": "code",
      "metadata": {
        "colab": {
          "base_uri": "https://localhost:8080/",
          "height": 234
        },
        "id": "i4b5VpLJ8lVl",
        "outputId": "3b7282d3-6bd2-477a-883e-e87756fcddb1"
      },
      "source": [
        "data_people_b2 = data_people[data_people[\"TRACTID10\"].isin(nb_id)]\n",
        "hist1_b2 = pd.crosstab(data_people_b2.GEOID10, data_people_b2.race)\n",
        "hist1_b2.head()"
      ],
      "execution_count": 125,
      "outputs": [
        {
          "output_type": "execute_result",
          "data": {
            "text/html": [
              "<div>\n",
              "<style scoped>\n",
              "    .dataframe tbody tr th:only-of-type {\n",
              "        vertical-align: middle;\n",
              "    }\n",
              "\n",
              "    .dataframe tbody tr th {\n",
              "        vertical-align: top;\n",
              "    }\n",
              "\n",
              "    .dataframe thead th {\n",
              "        text-align: right;\n",
              "    }\n",
              "</style>\n",
              "<table border=\"1\" class=\"dataframe\">\n",
              "  <thead>\n",
              "    <tr style=\"text-align: right;\">\n",
              "      <th>race</th>\n",
              "      <th>1</th>\n",
              "      <th>2</th>\n",
              "      <th>3</th>\n",
              "      <th>4</th>\n",
              "      <th>5</th>\n",
              "      <th>6</th>\n",
              "      <th>7</th>\n",
              "    </tr>\n",
              "    <tr>\n",
              "      <th>GEOID10</th>\n",
              "      <th></th>\n",
              "      <th></th>\n",
              "      <th></th>\n",
              "      <th></th>\n",
              "      <th></th>\n",
              "      <th></th>\n",
              "      <th></th>\n",
              "    </tr>\n",
              "  </thead>\n",
              "  <tbody>\n",
              "    <tr>\n",
              "      <th>390490011211002</th>\n",
              "      <td>1900</td>\n",
              "      <td>110</td>\n",
              "      <td>5</td>\n",
              "      <td>113</td>\n",
              "      <td>0</td>\n",
              "      <td>27</td>\n",
              "      <td>6</td>\n",
              "    </tr>\n",
              "    <tr>\n",
              "      <th>390490011212000</th>\n",
              "      <td>486</td>\n",
              "      <td>14</td>\n",
              "      <td>0</td>\n",
              "      <td>91</td>\n",
              "      <td>0</td>\n",
              "      <td>3</td>\n",
              "      <td>1</td>\n",
              "    </tr>\n",
              "    <tr>\n",
              "      <th>390490011212001</th>\n",
              "      <td>5</td>\n",
              "      <td>1</td>\n",
              "      <td>0</td>\n",
              "      <td>0</td>\n",
              "      <td>0</td>\n",
              "      <td>0</td>\n",
              "      <td>0</td>\n",
              "    </tr>\n",
              "    <tr>\n",
              "      <th>390490011212003</th>\n",
              "      <td>1779</td>\n",
              "      <td>90</td>\n",
              "      <td>7</td>\n",
              "      <td>125</td>\n",
              "      <td>0</td>\n",
              "      <td>27</td>\n",
              "      <td>5</td>\n",
              "    </tr>\n",
              "    <tr>\n",
              "      <th>390490011213000</th>\n",
              "      <td>13</td>\n",
              "      <td>0</td>\n",
              "      <td>0</td>\n",
              "      <td>10</td>\n",
              "      <td>0</td>\n",
              "      <td>0</td>\n",
              "      <td>1</td>\n",
              "    </tr>\n",
              "  </tbody>\n",
              "</table>\n",
              "</div>"
            ],
            "text/plain": [
              "race                1    2  3    4  5   6  7\n",
              "GEOID10                                     \n",
              "390490011211002  1900  110  5  113  0  27  6\n",
              "390490011212000   486   14  0   91  0   3  1\n",
              "390490011212001     5    1  0    0  0   0  0\n",
              "390490011212003  1779   90  7  125  0  27  5\n",
              "390490011213000    13    0  0   10  0   0  1"
            ]
          },
          "metadata": {},
          "execution_count": 125
        }
      ]
    },
    {
      "cell_type": "code",
      "metadata": {
        "colab": {
          "base_uri": "https://localhost:8080/",
          "height": 335
        },
        "id": "04Nt3-8dEio7",
        "outputId": "fe1736cd-6864-438b-fa5f-e620057bbc69"
      },
      "source": [
        "import seaborn as sns\n",
        "\n",
        "probabilities = hist1_b2.stack().value_counts(normalize=True)    \n",
        "sns.barplot(probabilities.index, probabilities.values).set(xlim=(0, 10))"
      ],
      "execution_count": null,
      "outputs": [
        {
          "output_type": "stream",
          "name": "stderr",
          "text": [
            "/usr/local/lib/python3.7/dist-packages/seaborn/_decorators.py:43: FutureWarning: Pass the following variables as keyword args: x, y. From version 0.12, the only valid positional argument will be `data`, and passing other arguments without an explicit keyword will result in an error or misinterpretation.\n",
            "  FutureWarning\n"
          ]
        },
        {
          "output_type": "execute_result",
          "data": {
            "text/plain": [
              "[(0.0, 10.0)]"
            ]
          },
          "metadata": {},
          "execution_count": 159
        },
        {
          "output_type": "display_data",
          "data": {
            "image/png": "[encoded data removed]",
            "text/plain": [
              "<Figure size 432x288 with 1 Axes>"
            ]
          },
          "metadata": {
            "needs_background": "light"
          }
        }
      ]
    },
    {
      "cell_type": "code",
      "metadata": {
        "colab": {
          "base_uri": "https://localhost:8080/"
        },
        "id": "Sodp-AUXEn5l",
        "outputId": "047ca415-40df-4f3a-cf6e-368aaee8f5d1"
      },
      "source": [
        "import scipy.stats\n",
        "\n",
        "column_values = hist1_b2[hist1_b2.columns].values.ravel()\n",
        "A = pd.unique(column_values)\n",
        "\n",
        "probs = []\n",
        "for i in A:\n",
        "    p1 = scipy.stats.norm(0, sigma).cdf(0.5 - i) - scipy.stats.norm(0, sigma).cdf(1.5 - i)\n",
        "    u0 = hist1_b2 == i\n",
        "    p2 = np.unique(u0.values, return_counts=True)[1][1] / (np.unique(u0.values, return_counts=True)[1][1] + \n",
        "                                                           np.unique(u0.values, return_counts=True)[1][0])\n",
        "    probs.append(p1 * p2)\n",
        "\n",
        "p3 = scipy.stats.norm(0, sigma).cdf(-0.5) - scipy.stats.norm(0, sigma).cdf(0.5)\n",
        "u0 = hist1_b2 == 1\n",
        "p4 = np.unique(u0.values, return_counts=True)[1][1] / (np.unique(u0.values, return_counts=True)[1][1] + \n",
        "                                                       np.unique(u0.values, return_counts=True)[1][0])\n",
        "p_tu = p3 * p4 / sum(probs)\n",
        "p_tu"
      ],
      "execution_count": 129,
      "outputs": [
        {
          "output_type": "execute_result",
          "data": {
            "text/plain": [
              "0.09916652833582495"
            ]
          },
          "metadata": {},
          "execution_count": 129
        }
      ]
    },
    {
      "cell_type": "markdown",
      "metadata": {
        "id": "Y3Xs2-gVEbQ8"
      },
      "source": [
        "We can keep searching the neighbors based on Rook continuity until all blocks in the county are covered. "
      ]
    },
    {
      "cell_type": "code",
      "metadata": {
        "colab": {
          "base_uri": "https://localhost:8080/"
        },
        "id": "COGn30YeFHcH",
        "outputId": "90085730-b6a9-4781-9210-fabe3a216276"
      },
      "source": [
        "import geopandas as gpd\n",
        "from pysal.lib import weights\n",
        "import scipy.stats\n",
        "\n",
        "# k-nearest neighbors for all tracts\n",
        "k10 = weights.Rook.from_dataframe(data_tract)\n",
        "\n",
        "tract_index = [max_index]\n",
        "p_tu_all = []\n",
        "flag = 0\n",
        "while flag < 1:\n",
        "    if len(tract_index) == len(data_tract):\n",
        "        flag = 1\n",
        "\n",
        "    # create histogram\n",
        "    tract_ids = data_tract[\"GEOID10\"].iloc[tract_index]\n",
        "    data_people_sub = data_people[data_people[\"TRACTID10\"].isin(tract_ids)]\n",
        "    hist1_sub = pd.crosstab(data_people_sub.GEOID10, data_people_sub.race)\n",
        "    \n",
        "    # calculate p(TU)\n",
        "    column_values = hist1_sub[hist1_sub.columns].values.ravel()\n",
        "    A = pd.unique(column_values)\n",
        "    probs = []\n",
        "    for i in A:\n",
        "        p1 = scipy.stats.norm(0, sigma).cdf(0.5 - i) - scipy.stats.norm(0, sigma).cdf(1.5 - i)\n",
        "        u0 = hist1_sub == i\n",
        "        p2 = np.unique(u0.values, return_counts=True)[1][1] / (np.unique(u0.values, return_counts=True)[1][1] + \n",
        "                                                               np.unique(u0.values, return_counts=True)[1][0])\n",
        "        probs.append(p1 * p2)\n",
        "    p3 = scipy.stats.norm(0, sigma).cdf(-0.5) - scipy.stats.norm(0, sigma).cdf(0.5)\n",
        "    u0 = hist1_sub == 1\n",
        "    p4 = np.unique(u0.values, return_counts=True)[1][1] / (np.unique(u0.values, return_counts=True)[1][1] + \n",
        "                                                           np.unique(u0.values, return_counts=True)[1][0])\n",
        "    p_tu = p3 * p4 / sum(probs)\n",
        "    p_tu_all.append(p_tu)\n",
        "\n",
        "    # add neighbors \n",
        "    nb_index = [k10.neighbors.get(tract) for tract in tract_index]\n",
        "    nb_index = [x for sublist in nb_index for x in sublist]\n",
        "    tract_index = list(set(np.append(tract_index, nb_index)))\n",
        "    # print(len(tract_index))\n",
        "p_tu_all"
      ],
      "execution_count": 130,
      "outputs": [
        {
          "output_type": "execute_result",
          "data": {
            "text/plain": [
              "[0.18278672381416478,\n",
              " 0.10593891801676952,\n",
              " 0.11387105599160953,\n",
              " 0.11290170562622144,\n",
              " 0.10167375753245647,\n",
              " 0.09648750777639777,\n",
              " 0.0930725037419665,\n",
              " 0.0916532120211213,\n",
              " 0.08942969493732188,\n",
              " 0.0888465827857876,\n",
              " 0.08840328930023635,\n",
              " 0.08792193110751202]"
            ]
          },
          "metadata": {},
          "execution_count": 130
        }
      ]
    },
    {
      "cell_type": "markdown",
      "metadata": {
        "id": "4YMxHsGXKNEE"
      },
      "source": [
        "We can use the same procedure to calculate $p(TU)$ based on the NHGIS data."
      ]
    },
    {
      "cell_type": "code",
      "metadata": {
        "colab": {
          "base_uri": "https://localhost:8080/"
        },
        "id": "4ZvaYk5YKWoX",
        "outputId": "fbf440f8-269a-4da5-d729-c50d87c70edc"
      },
      "source": [
        "%cd \"/content/gdrive/My Drive/Colab Notebooks/census_privacy\"\n",
        "import pandas as pd\n",
        "import geopandas as gpd\n",
        "from pysal.lib import weights\n",
        "import scipy.stats\n",
        "\n",
        "filename_nhgis_block = 'franklin/nhgis/franklin_nhgis_block.csv'\n",
        "nhgis_block = pd.read_csv(filename_nhgis_block)\n",
        "nhgis_block['GEOID10'] = nhgis_block['GEOID10'].astype(str)\n",
        "nhgis_block['TRACTID10'] = nhgis_block['GEOID10'].str[:11]\n",
        "\n",
        "hist1_nhgis = nhgis_block[['H72003_sf', 'H72004_sf', 'H72005_sf', 'H72006_sf', 'H72007_sf', 'H72008_sf', 'H72009_sf']]\n",
        "hist1_nhgis = hist1_nhgis.rename(columns={'H72003_sf': '1', 'H72004_sf': '2', 'H72005_sf': '3', 'H72006_sf': '4', 'H72007_sf': '5', 'H72008_sf': '6', \n",
        "                                          'H72009_sf': '7'})\n",
        "hist2_nhgis = nhgis_block[['H72003_dp', 'H72004_dp', 'H72005_dp', 'H72006_dp', 'H72007_dp', 'H72008_dp', 'H72009_dp']]\n",
        "hist2_nhgis = hist2_nhgis.rename(columns={'H72003_dp': '1', 'H72004_dp': '2', 'H72005_dp': '3', 'H72006_dp': '4', 'H72007_dp': '5', 'H72008_dp': '6', \n",
        "                                          'H72009_dp': '7'})\n",
        "\n",
        "# k-nearest neighbors for all tracts\n",
        "k10 = weights.Rook.from_dataframe(data_tract)\n",
        "\n",
        "tract_index = [max_index]\n",
        "p_tu_all_nhgis = []\n",
        "flag = 0\n",
        "while flag < 1:\n",
        "    if len(tract_index) == len(data_tract):\n",
        "        flag = 1\n",
        "        \n",
        "    # create histogram\n",
        "    tract_ids = data_tract[\"GEOID10\"].iloc[tract_index]\n",
        "    nhgis_sub = nhgis_block[nhgis_block[\"TRACTID10\"].isin(tract_ids)]\n",
        "    hist1_nhgis = nhgis_sub[['H72003_sf', 'H72004_sf', 'H72005_sf', 'H72006_sf', 'H72007_sf', 'H72008_sf', 'H72009_sf']]\n",
        "    hist1_nhgis = hist1_nhgis.rename(columns={'H72003_sf': '1', 'H72004_sf': '2', 'H72005_sf': '3', 'H72006_sf': '4', 'H72007_sf': '5', 'H72008_sf': '6', \n",
        "                                            'H72009_sf': '7'})\n",
        "    hist2_nhgis = nhgis_sub[['H72003_dp', 'H72004_dp', 'H72005_dp', 'H72006_dp', 'H72007_dp', 'H72008_dp', 'H72009_dp']]\n",
        "    hist2_nhgis = hist2_nhgis.rename(columns={'H72003_dp': '1', 'H72004_dp': '2', 'H72005_dp': '3', 'H72006_dp': '4', 'H72007_dp': '5', 'H72008_dp': '6', \n",
        "                                            'H72009_dp': '7'})\n",
        "    \n",
        "    # calculate p(TU)\n",
        "    # find a true unique\n",
        "    tu = (hist1_nhgis == hist2_nhgis) & (hist1_nhgis == 1) & (hist2_nhgis == 1)\n",
        "    n_tu = np.unique(tu.values, return_counts=True)[1][1]\n",
        "    # uniques after noise injection\n",
        "    u = hist2_nhgis == 1\n",
        "    n_u = np.unique(u.values, return_counts=True)[1][1]\n",
        "    # frequency of finding the true uniques\n",
        "    p_tu_nhgis = n_tu / n_u\n",
        "    p_tu_all_nhgis.append(p_tu_nhgis)\n",
        "\n",
        "    # add neighbors \n",
        "    nb_index = [k10.neighbors.get(tract) for tract in tract_index]\n",
        "    nb_index = [x for sublist in nb_index for x in sublist]\n",
        "    tract_index = list(set(np.append(tract_index, nb_index)))\n",
        "p_tu_all_nhgis"
      ],
      "execution_count": 132,
      "outputs": [
        {
          "output_type": "stream",
          "name": "stdout",
          "text": [
            "/content/gdrive/My Drive/Colab Notebooks/census_privacy\n"
          ]
        },
        {
          "output_type": "execute_result",
          "data": {
            "text/plain": [
              "[0.2857142857142857,\n",
              " 0.18032786885245902,\n",
              " 0.16194331983805668,\n",
              " 0.15014436958614052,\n",
              " 0.13876040703052728,\n",
              " 0.13541971336648143,\n",
              " 0.12558998563513235,\n",
              " 0.12069244458825433,\n",
              " 0.11913404200155561,\n",
              " 0.11832412523020258,\n",
              " 0.11727989487516426,\n",
              " 0.11636167922497309]"
            ]
          },
          "metadata": {},
          "execution_count": 132
        }
      ]
    },
    {
      "cell_type": "markdown",
      "metadata": {
        "id": "1XioTBcCu8Yg"
      },
      "source": [
        "Compare with Guernsey county."
      ]
    },
    {
      "cell_type": "code",
      "metadata": {
        "colab": {
          "base_uri": "https://localhost:8080/"
        },
        "id": "4RUYIJHZvZfN",
        "outputId": "0591a9fd-de04-47e9-96f7-03e42b0130b6"
      },
      "source": [
        "%cd \"/content/gdrive/My Drive/Colab Notebooks/census_privacy\"\n",
        "import geopandas as gpd\n",
        "\n",
        "filename_block_g = 'guernsey/buildings/guernsey_block10.json'\n",
        "data_block_g = gpd.read_file(filename_block_g)\n",
        "data_block_g['GEOID10'] = data_block_g['GEOID10'].astype(str)\n",
        "data_block_g['BGID10'] = data_block_g['GEOID10'].str[:12]\n",
        "data_block_g['TRACTID10'] = data_block_g['GEOID10'].str[:11]\n",
        "data_block_g.columns"
      ],
      "execution_count": 133,
      "outputs": [
        {
          "output_type": "stream",
          "name": "stdout",
          "text": [
            "/content/gdrive/My Drive/Colab Notebooks/census_privacy\n"
          ]
        },
        {
          "output_type": "execute_result",
          "data": {
            "text/plain": [
              "Index(['FID', 'STATEFP10', 'COUNTYFP10', 'TRACTCE10', 'BLOCKCE10', 'GEOID10',\n",
              "       'NAME10', 'MTFCC10', 'UR10', 'UACE10', 'FUNCSTAT10', 'ALAND10',\n",
              "       'AWATER10', 'INTPTLAT10', 'INTPTLON10', 'geometry', 'BGID10',\n",
              "       'TRACTID10'],\n",
              "      dtype='object')"
            ]
          },
          "metadata": {},
          "execution_count": 133
        }
      ]
    },
    {
      "cell_type": "code",
      "metadata": {
        "colab": {
          "base_uri": "https://localhost:8080/"
        },
        "id": "vQij8fgOvZfO",
        "outputId": "72978ea5-8ce1-467b-dfe7-336516a7ce6e"
      },
      "source": [
        "%cd \"/content/gdrive/My Drive/Colab Notebooks/census_privacy\"\n",
        "import geopandas as gpd\n",
        "\n",
        "filename_tract_g = 'guernsey/buildings/guernsey_tract10.json'\n",
        "data_tract_g = gpd.read_file(filename_tract_g)\n",
        "data_tract_g['GEOID10'] = data_tract_g['GEOID10'].astype(str)\n",
        "data_tract_g.columns"
      ],
      "execution_count": 134,
      "outputs": [
        {
          "output_type": "stream",
          "name": "stdout",
          "text": [
            "/content/gdrive/My Drive/Colab Notebooks/census_privacy\n"
          ]
        },
        {
          "output_type": "execute_result",
          "data": {
            "text/plain": [
              "Index(['FID', 'STATEFP10', 'COUNTYFP10', 'TRACTCE10', 'GEOID10', 'NAME10',\n",
              "       'NAMELSAD10', 'MTFCC10', 'FUNCSTAT10', 'ALAND10', 'AWATER10',\n",
              "       'INTPTLAT10', 'INTPTLON10', 'geometry'],\n",
              "      dtype='object')"
            ]
          },
          "metadata": {},
          "execution_count": 134
        }
      ]
    },
    {
      "cell_type": "code",
      "metadata": {
        "colab": {
          "base_uri": "https://localhost:8080/"
        },
        "id": "ertf3BuLu8u3",
        "outputId": "150ad489-9837-4c71-d400-224dddfbaca6"
      },
      "source": [
        "import geopandas as gpd\n",
        "from pysal.lib import weights\n",
        "import scipy.stats\n",
        "\n",
        "total_g = hist1_tr_g.sum(axis=1).to_frame()\n",
        "total_g[\"GEOID10\"] = total_g.index.map(str)\n",
        "total_g = total_g.rename(columns={total_g.columns[0]: \"POP\"})\n",
        "total_g.index.name = None\n",
        "data_tract_new_g = data_tract_g.merge(total_g[['GEOID10', 'POP']], how='left', on=['GEOID10'])\n",
        "\n",
        "data_tract_new_g[\"POP_DEN\"] = data_tract_new_g[\"POP\"] / data_tract_new_g[\"ALAND10\"]\n",
        "max_index = data_tract_new_g[\"POP_DEN\"].idxmax()\n",
        "max_id = data_tract_new_g.loc[max_index].at['GEOID10']\n",
        "\n",
        "# k-nearest neighbors for all tracts\n",
        "k10 = weights.Rook.from_dataframe(data_tract_g)\n",
        "tract_index = [max_index]\n",
        "p_tu_all_g = []\n",
        "flag = 0\n",
        "while flag < 1:\n",
        "    if len(tract_index) == len(data_tract_g):\n",
        "        flag = 1\n",
        "    # create histogram\n",
        "    tract_ids = data_tract_g[\"GEOID10\"].iloc[tract_index]\n",
        "    data_people_sub = data_people_g[data_people_g[\"TRACTID10\"].isin(tract_ids)]\n",
        "    hist1_sub = pd.crosstab(data_people_sub.GEOID10, data_people_sub.race)\n",
        "\n",
        "    # calculate p(TU)\n",
        "    column_values = hist1_sub[hist1_sub.columns].values.ravel()\n",
        "    A = pd.unique(column_values)\n",
        "    probs = []\n",
        "    for i in A:\n",
        "        p1 = scipy.stats.norm(0, sigma).cdf(0.5 - i) - scipy.stats.norm(0, sigma).cdf(1.5 - i)\n",
        "        u0 = hist1_sub == i\n",
        "        p2 = np.unique(u0.values, return_counts=True)[1][1] / (np.unique(u0.values, return_counts=True)[1][1] + \n",
        "                                                               np.unique(u0.values, return_counts=True)[1][0])\n",
        "        probs.append(p1 * p2)\n",
        "    p3 = scipy.stats.norm(0, sigma).cdf(-0.5) - scipy.stats.norm(0, sigma).cdf(0.5)\n",
        "    u0 = hist1_sub == 1\n",
        "    p4 = np.unique(u0.values, return_counts=True)[1][1] / (np.unique(u0.values, return_counts=True)[1][1] + \n",
        "                                                           np.unique(u0.values, return_counts=True)[1][0])\n",
        "    p_tu = p3 * p4 / sum(probs)\n",
        "    p_tu_all_g.append(p_tu)\n",
        "\n",
        "    # add neighbors \n",
        "    nb_index = [k10.neighbors.get(tract) for tract in tract_index]\n",
        "    nb_index = [x for sublist in nb_index for x in sublist]\n",
        "    tract_index = list(set(np.append(tract_index, nb_index)))\n",
        "    # print(len(tract_index))\n",
        "p_tu_all_g"
      ],
      "execution_count": 135,
      "outputs": [
        {
          "output_type": "execute_result",
          "data": {
            "text/plain": [
              "[0.06995867221233878,\n",
              " 0.05219107308927424,\n",
              " 0.03645256101226877,\n",
              " 0.03317121400234159]"
            ]
          },
          "metadata": {},
          "execution_count": 135
        }
      ]
    },
    {
      "cell_type": "code",
      "metadata": {
        "colab": {
          "base_uri": "https://localhost:8080/"
        },
        "id": "F2rlKe4yfgv4",
        "outputId": "05e07509-af0c-403f-c026-889b1635c0f0"
      },
      "source": [
        "%cd \"/content/gdrive/My Drive/Colab Notebooks/census_privacy\"\n",
        "import pandas as pd\n",
        "import geopandas as gpd\n",
        "from pysal.lib import weights\n",
        "import scipy.stats\n",
        "\n",
        "filename_nhgis_block_g = 'guernsey/nhgis/guernsey_nhgis_block.csv'\n",
        "nhgis_block_g = pd.read_csv(filename_nhgis_block_g)\n",
        "nhgis_block_g['GEOID10'] = nhgis_block_g['GEOID10'].astype(str)\n",
        "nhgis_block_g['TRACTID10'] = nhgis_block_g['GEOID10'].str[:11]\n",
        "\n",
        "hist1_nhgis_g = nhgis_block_g[['H72003_sf', 'H72004_sf', 'H72005_sf', 'H72006_sf', 'H72007_sf', 'H72008_sf', 'H72009_sf']]\n",
        "hist1_nhgis_g = hist1_nhgis_g.rename(columns={'H72003_sf': '1', 'H72004_sf': '2', 'H72005_sf': '3', 'H72006_sf': '4', 'H72007_sf': '5', 'H72008_sf': '6', \n",
        "                                          'H72009_sf': '7'})\n",
        "hist2_nhgis_g = nhgis_block_g[['H72003_dp', 'H72004_dp', 'H72005_dp', 'H72006_dp', 'H72007_dp', 'H72008_dp', 'H72009_dp']]\n",
        "hist2_nhgis_g = hist2_nhgis_g.rename(columns={'H72003_dp': '1', 'H72004_dp': '2', 'H72005_dp': '3', 'H72006_dp': '4', 'H72007_dp': '5', 'H72008_dp': '6', \n",
        "                                          'H72009_dp': '7'})\n",
        "\n",
        "# k-nearest neighbors for all tracts\n",
        "k10 = weights.Rook.from_dataframe(data_tract_g)\n",
        "\n",
        "tract_index = [max_index]\n",
        "p_tu_all_nhgis_g = []\n",
        "flag = 0\n",
        "while flag < 1:\n",
        "    if len(tract_index) == len(data_tract_g):\n",
        "        flag = 1\n",
        "        \n",
        "    # create histogram\n",
        "    tract_ids = data_tract_g[\"GEOID10\"].iloc[tract_index]\n",
        "    nhgis_sub = nhgis_block_g[nhgis_block_g[\"TRACTID10\"].isin(tract_ids)]\n",
        "    hist1_nhgis = nhgis_sub[['H72003_sf', 'H72004_sf', 'H72005_sf', 'H72006_sf', 'H72007_sf', 'H72008_sf', 'H72009_sf']]\n",
        "    hist1_nhgis = hist1_nhgis.rename(columns={'H72003_sf': '1', 'H72004_sf': '2', 'H72005_sf': '3', 'H72006_sf': '4', 'H72007_sf': '5', 'H72008_sf': '6', \n",
        "                                            'H72009_sf': '7'})\n",
        "    hist2_nhgis = nhgis_sub[['H72003_dp', 'H72004_dp', 'H72005_dp', 'H72006_dp', 'H72007_dp', 'H72008_dp', 'H72009_dp']]\n",
        "    hist2_nhgis = hist2_nhgis.rename(columns={'H72003_dp': '1', 'H72004_dp': '2', 'H72005_dp': '3', 'H72006_dp': '4', 'H72007_dp': '5', 'H72008_dp': '6', \n",
        "                                            'H72009_dp': '7'})\n",
        "    \n",
        "    # calculate p(TU)\n",
        "    # find a true unique\n",
        "    tu = (hist1_nhgis == hist2_nhgis) & (hist1_nhgis == 1) & (hist2_nhgis == 1)\n",
        "    n_tu = np.unique(tu.values, return_counts=True)[1][1]\n",
        "    # uniques after noise injection\n",
        "    u = hist2_nhgis == 1\n",
        "    n_u = np.unique(u.values, return_counts=True)[1][1]\n",
        "    # frequency of finding the true uniques\n",
        "    p_tu_nhgis = n_tu / n_u\n",
        "    p_tu_all_nhgis_g.append(p_tu_nhgis)\n",
        "\n",
        "    # add neighbors \n",
        "    nb_index = [k10.neighbors.get(tract) for tract in tract_index]\n",
        "    nb_index = [x for sublist in nb_index for x in sublist]\n",
        "    tract_index = list(set(np.append(tract_index, nb_index)))\n",
        "p_tu_all_nhgis_g"
      ],
      "execution_count": 137,
      "outputs": [
        {
          "output_type": "stream",
          "name": "stdout",
          "text": [
            "/content/gdrive/My Drive/Colab Notebooks/census_privacy\n"
          ]
        },
        {
          "output_type": "execute_result",
          "data": {
            "text/plain": [
              "[0.08823529411764706,\n",
              " 0.06428571428571428,\n",
              " 0.061630218687872766,\n",
              " 0.05958132045088567]"
            ]
          },
          "metadata": {},
          "execution_count": 137
        }
      ]
    },
    {
      "cell_type": "markdown",
      "metadata": {
        "id": "mwxnp9CMWL8x"
      },
      "source": [
        "We visualize the trend of $p(TU)$ during the expansion. As shown in the figure, $p(TU)$ increases in the first iteration, and then continues to decrease during the subsequent interations."
      ]
    },
    {
      "cell_type": "code",
      "metadata": {
        "colab": {
          "base_uri": "https://localhost:8080/",
          "height": 279
        },
        "id": "EGjZotAMSx3q",
        "outputId": "41bbc535-1f38-40a1-dcaf-653003733852"
      },
      "source": [
        "import matplotlib.pyplot as plt\n",
        "import numpy as np\n",
        "\n",
        "plt.plot(np.array(p_tu_all), color = 'r', label='Franklin (Noisy histogram)')\n",
        "plt.plot(np.array(p_tu_all_nhgis), color = 'r', label='Franklin (NHGIS)', linestyle='dashed')\n",
        "plt.plot(np.array(p_tu_all_g), color = 'g', label='Guernsey (Noisy histogram)')\n",
        "plt.plot(np.array(p_tu_all_nhgis_g), color = 'g', label='Guernsey (NHGIS)', linestyle='dashed')\n",
        "plt.xlabel(\"Iteration\")\n",
        "plt.ylabel(\"p(TU)\")\n",
        "plt.legend()\n",
        "plt.show()"
      ],
      "execution_count": 138,
      "outputs": [
        {
          "output_type": "display_data",
          "data": {
            "image/png": "[encoded data removed]",
            "text/plain": [
              "<Figure size 432x288 with 1 Axes>"
            ]
          },
          "metadata": {
            "needs_background": "light"
          }
        }
      ]
    },
    {
      "cell_type": "markdown",
      "metadata": {
        "id": "qARnVeDhP3Pl"
      },
      "source": [
        "######**Random**"
      ]
    },
    {
      "cell_type": "markdown",
      "metadata": {
        "id": "dFleRu0lS355"
      },
      "source": [
        "Randomly sample 10% of the blocks (without replacement) and add  to the histogram."
      ]
    },
    {
      "cell_type": "code",
      "metadata": {
        "colab": {
          "base_uri": "https://localhost:8080/"
        },
        "id": "NL3VlMeYQC9Z",
        "outputId": "4af576bd-d7cf-4e7c-d4d7-08a19d0c39a3"
      },
      "source": [
        "import scipy.stats\n",
        "\n",
        "filename_nhgis_block = 'franklin/nhgis/franklin_nhgis_block.csv'\n",
        "nhgis_block = pd.read_csv(filename_nhgis_block)\n",
        "nhgis_block['GEOID10'] = nhgis_block['GEOID10'].astype(str)\n",
        "\n",
        "hist1_nhgis = nhgis_block[['H72003_sf', 'H72004_sf', 'H72005_sf', 'H72006_sf', 'H72007_sf', 'H72008_sf', 'H72009_sf']]\n",
        "hist1_nhgis = hist1_nhgis.rename(columns={'H72003_sf': '1', 'H72004_sf': '2', 'H72005_sf': '3', 'H72006_sf': '4', 'H72007_sf': '5', 'H72008_sf': '6', \n",
        "                                          'H72009_sf': '7'})\n",
        "hist2_nhgis = nhgis_block[['H72003_dp', 'H72004_dp', 'H72005_dp', 'H72006_dp', 'H72007_dp', 'H72008_dp', 'H72009_dp']]\n",
        "hist2_nhgis = hist2_nhgis.rename(columns={'H72003_dp': '1', 'H72004_dp': '2', 'H72005_dp': '3', 'H72006_dp': '4', 'H72007_dp': '5', 'H72008_dp': '6', \n",
        "                                          'H72009_dp': '7'})\n",
        "\n",
        "data_block_new = data_block\n",
        "N = int(0.1 * len(data_block_new))\n",
        "block_ids_all = []\n",
        "p_tu_all = []\n",
        "p_tu_all_nhgis = []\n",
        "\n",
        "while len(block_ids_all) < len(data_block):\n",
        "    # sampling\n",
        "    if len(data_block_new) >= N:\n",
        "        block_ids = data_block_new[\"GEOID10\"].sample(n=N)\n",
        "    else: \n",
        "        block_ids = data_block_new[\"GEOID10\"]\n",
        "    block_ids_all = list(set(np.append(block_ids_all, block_ids)))\n",
        "    data_block_new = data_block_new.loc[~data_block_new[\"GEOID10\"].isin(block_ids)]    \n",
        "\n",
        "    # create histogram\n",
        "    data_people_sub = data_people[data_people[\"GEOID10\"].isin(block_ids_all)]\n",
        "    hist1_sub = pd.crosstab(data_people_sub.GEOID10, data_people_sub.race)\n",
        "\n",
        "    # calculate p(TU)\n",
        "    column_values = hist1_sub[hist1_sub.columns].values.ravel()\n",
        "    A = pd.unique(column_values)\n",
        "    probs = []\n",
        "    for i in A:\n",
        "        p1 = scipy.stats.norm(0, sigma).cdf(0.5 - i) - scipy.stats.norm(0, sigma).cdf(1.5 - i)\n",
        "        u0 = hist1_sub == i\n",
        "        p2 = np.unique(u0.values, return_counts=True)[1][1] / (np.unique(u0.values, return_counts=True)[1][1] + \n",
        "                                                               np.unique(u0.values, return_counts=True)[1][0])\n",
        "        probs.append(p1 * p2)\n",
        "    p3 = scipy.stats.norm(0, sigma).cdf(-0.5) - scipy.stats.norm(0, sigma).cdf(0.5)\n",
        "    u0 = hist1_sub == 1\n",
        "    p4 = np.unique(u0.values, return_counts=True)[1][1] / (np.unique(u0.values, return_counts=True)[1][1] + \n",
        "                                                           np.unique(u0.values, return_counts=True)[1][0])\n",
        "    p_tu = p3 * p4 / sum(probs)\n",
        "    p_tu_all.append(p_tu)\n",
        "\n",
        "    ## NHGIS\n",
        "    # create histogram\n",
        "    nhgis_sub = nhgis_block[nhgis_block[\"GEOID10\"].isin(block_ids_all)]\n",
        "    hist1_nhgis = nhgis_sub[['H72003_sf', 'H72004_sf', 'H72005_sf', 'H72006_sf', 'H72007_sf', 'H72008_sf', 'H72009_sf']]\n",
        "    hist1_nhgis = hist1_nhgis.rename(columns={'H72003_sf': '1', 'H72004_sf': '2', 'H72005_sf': '3', 'H72006_sf': '4', 'H72007_sf': '5', 'H72008_sf': '6', \n",
        "                                            'H72009_sf': '7'})\n",
        "    hist2_nhgis = nhgis_sub[['H72003_dp', 'H72004_dp', 'H72005_dp', 'H72006_dp', 'H72007_dp', 'H72008_dp', 'H72009_dp']]\n",
        "    hist2_nhgis = hist2_nhgis.rename(columns={'H72003_dp': '1', 'H72004_dp': '2', 'H72005_dp': '3', 'H72006_dp': '4', 'H72007_dp': '5', 'H72008_dp': '6', \n",
        "                                            'H72009_dp': '7'})\n",
        "    \n",
        "    # calculate p(TU)\n",
        "    # find a true unique\n",
        "    tu = (hist1_nhgis == hist2_nhgis) & (hist1_nhgis == 1) & (hist2_nhgis == 1)\n",
        "    n_tu = np.unique(tu.values, return_counts=True)[1][1]\n",
        "    # uniques after noise injection\n",
        "    u = hist2_nhgis == 1\n",
        "    n_u = np.unique(u.values, return_counts=True)[1][1]\n",
        "    # frequency of finding the true uniques\n",
        "    p_tu_nhgis = n_tu / n_u\n",
        "    p_tu_all_nhgis.append(p_tu_nhgis)\n",
        "    # print(len(block_ids_all))\n",
        "\n",
        "p_tu_all, p_tu_all_nhgis"
      ],
      "execution_count": 141,
      "outputs": [
        {
          "output_type": "execute_result",
          "data": {
            "text/plain": [
              "([0.09339451084211853,\n",
              "  0.08850579664291902,\n",
              "  0.08850862194888134,\n",
              "  0.08781618066906273,\n",
              "  0.086973722249013,\n",
              "  0.08675513976270187,\n",
              "  0.0875929481390732,\n",
              "  0.08746029106889963,\n",
              "  0.08787696322641826,\n",
              "  0.08791063281862686,\n",
              "  0.08792193110751202],\n",
              " [0.12008501594048884,\n",
              "  0.11488673139158576,\n",
              "  0.1180731618978631,\n",
              "  0.11498637602179837,\n",
              "  0.11564477416539384,\n",
              "  0.11646297627606039,\n",
              "  0.11593096074537956,\n",
              "  0.1154308617234469,\n",
              "  0.11641720123544785,\n",
              "  0.11636167922497309,\n",
              "  0.11636167922497309])"
            ]
          },
          "metadata": {},
          "execution_count": 141
        }
      ]
    },
    {
      "cell_type": "markdown",
      "metadata": {
        "id": "MGWdTI5MdNLi"
      },
      "source": [
        "Compare with Guernsey county."
      ]
    },
    {
      "cell_type": "code",
      "metadata": {
        "colab": {
          "base_uri": "https://localhost:8080/"
        },
        "id": "tZKZKGeOgKiS",
        "outputId": "fc99984b-c8f1-433c-b149-2debd26ca264"
      },
      "source": [
        "import scipy.stats\n",
        "import geopandas as gpd\n",
        "\n",
        "filename_block_g = 'guernsey/buildings/guernsey_block10.json'\n",
        "data_block_g = gpd.read_file(filename_block_g)\n",
        "data_block_g['GEOID10'] = data_block_g['GEOID10'].astype(str)\n",
        "\n",
        "filename_nhgis_block = 'guernsey/nhgis/guernsey_nhgis_block.csv'\n",
        "nhgis_block = pd.read_csv(filename_nhgis_block)\n",
        "nhgis_block['GEOID10'] = nhgis_block['GEOID10'].astype(str)\n",
        "\n",
        "hist1_nhgis = nhgis_block[['H72003_sf', 'H72004_sf', 'H72005_sf', 'H72006_sf', 'H72007_sf', 'H72008_sf', 'H72009_sf']]\n",
        "hist1_nhgis = hist1_nhgis.rename(columns={'H72003_sf': '1', 'H72004_sf': '2', 'H72005_sf': '3', 'H72006_sf': '4', 'H72007_sf': '5', 'H72008_sf': '6', \n",
        "                                          'H72009_sf': '7'})\n",
        "hist2_nhgis = nhgis_block[['H72003_dp', 'H72004_dp', 'H72005_dp', 'H72006_dp', 'H72007_dp', 'H72008_dp', 'H72009_dp']]\n",
        "hist2_nhgis = hist2_nhgis.rename(columns={'H72003_dp': '1', 'H72004_dp': '2', 'H72005_dp': '3', 'H72006_dp': '4', 'H72007_dp': '5', 'H72008_dp': '6', \n",
        "                                          'H72009_dp': '7'})\n",
        "\n",
        "data_block_new = data_block_g\n",
        "N = int(0.1 * len(data_block_new))\n",
        "block_ids_all = []\n",
        "p_tu_all_g = []\n",
        "p_tu_all_nhgis_g = []\n",
        "\n",
        "while len(block_ids_all) < len(data_block_g):\n",
        "    # sampling\n",
        "    if len(data_block_new) >= N:\n",
        "        block_ids = data_block_new[\"GEOID10\"].sample(n=N)\n",
        "    else: \n",
        "        block_ids = data_block_new[\"GEOID10\"]\n",
        "    block_ids_all = list(set(np.append(block_ids_all, block_ids)))\n",
        "    data_block_new = data_block_new.loc[~data_block_new[\"GEOID10\"].isin(block_ids)]    \n",
        "\n",
        "    # create histogram\n",
        "    data_people_sub = data_people_g[data_people_g[\"GEOID10\"].isin(block_ids_all)]\n",
        "    hist1_sub = pd.crosstab(data_people_sub.GEOID10, data_people_sub.race)\n",
        "\n",
        "    # calculate p(TU)\n",
        "    column_values = hist1_sub[hist1_sub.columns].values.ravel()\n",
        "    A = pd.unique(column_values)\n",
        "    probs = []\n",
        "    for i in A:\n",
        "        p1 = scipy.stats.norm(0, sigma).cdf(0.5 - i) - scipy.stats.norm(0, sigma).cdf(1.5 - i)\n",
        "        u0 = hist1_sub == i\n",
        "        p2 = np.unique(u0.values, return_counts=True)[1][1] / (np.unique(u0.values, return_counts=True)[1][1] + \n",
        "                                                               np.unique(u0.values, return_counts=True)[1][0])\n",
        "        probs.append(p1 * p2)\n",
        "    p3 = scipy.stats.norm(0, sigma).cdf(-0.5) - scipy.stats.norm(0, sigma).cdf(0.5)\n",
        "    u0 = hist1_sub == 1\n",
        "    p4 = np.unique(u0.values, return_counts=True)[1][1] / (np.unique(u0.values, return_counts=True)[1][1] + \n",
        "                                                           np.unique(u0.values, return_counts=True)[1][0])\n",
        "    p_tu = p3 * p4 / sum(probs)\n",
        "    p_tu_all_g.append(p_tu)\n",
        "\n",
        "    ## NHGIS\n",
        "    # create histogram\n",
        "    nhgis_sub = nhgis_block[nhgis_block[\"GEOID10\"].isin(block_ids_all)]\n",
        "    hist1_nhgis = nhgis_sub[['H72003_sf', 'H72004_sf', 'H72005_sf', 'H72006_sf', 'H72007_sf', 'H72008_sf', 'H72009_sf']]\n",
        "    hist1_nhgis = hist1_nhgis.rename(columns={'H72003_sf': '1', 'H72004_sf': '2', 'H72005_sf': '3', 'H72006_sf': '4', 'H72007_sf': '5', 'H72008_sf': '6', \n",
        "                                            'H72009_sf': '7'})\n",
        "    hist2_nhgis = nhgis_sub[['H72003_dp', 'H72004_dp', 'H72005_dp', 'H72006_dp', 'H72007_dp', 'H72008_dp', 'H72009_dp']]\n",
        "    hist2_nhgis = hist2_nhgis.rename(columns={'H72003_dp': '1', 'H72004_dp': '2', 'H72005_dp': '3', 'H72006_dp': '4', 'H72007_dp': '5', 'H72008_dp': '6', \n",
        "                                            'H72009_dp': '7'})\n",
        "    \n",
        "    # calculate p(TU)\n",
        "    # find a true unique\n",
        "    tu = (hist1_nhgis == hist2_nhgis) & (hist1_nhgis == 1) & (hist2_nhgis == 1)\n",
        "    n_tu = np.unique(tu.values, return_counts=True)[1][1]\n",
        "    # uniques after noise injection\n",
        "    u = hist2_nhgis == 1\n",
        "    n_u = np.unique(u.values, return_counts=True)[1][1]\n",
        "    # frequency of finding the true uniques\n",
        "    p_tu_nhgis_g = n_tu / n_u\n",
        "    p_tu_all_nhgis_g.append(p_tu_nhgis_g)\n",
        "    # print(len(block_ids_all))\n",
        "\n",
        "p_tu_all_g, p_tu_all_nhgis_g"
      ],
      "execution_count": 144,
      "outputs": [
        {
          "output_type": "execute_result",
          "data": {
            "text/plain": [
              "([0.03794089999238389,\n",
              "  0.034125706994759634,\n",
              "  0.0335321661769337,\n",
              "  0.031986210689234594,\n",
              "  0.03255011918636419,\n",
              "  0.03240063380669271,\n",
              "  0.032790748021858364,\n",
              "  0.03250606918352734,\n",
              "  0.03285335967071572,\n",
              "  0.033109139223050275,\n",
              "  0.03317121400234159],\n",
              " [0.08620689655172414,\n",
              "  0.07936507936507936,\n",
              "  0.07777777777777778,\n",
              "  0.058333333333333334,\n",
              "  0.04838709677419355,\n",
              "  0.04878048780487805,\n",
              "  0.05128205128205128,\n",
              "  0.055441478439425054,\n",
              "  0.05197132616487455,\n",
              "  0.05967741935483871,\n",
              "  0.05958132045088567])"
            ]
          },
          "metadata": {},
          "execution_count": 144
        }
      ]
    },
    {
      "cell_type": "code",
      "metadata": {
        "colab": {
          "base_uri": "https://localhost:8080/",
          "height": 279
        },
        "id": "uIFr7sl7fml-",
        "outputId": "e52900c3-52bb-452c-811a-2ffe5cdccd1a"
      },
      "source": [
        "import matplotlib.pyplot as plt\n",
        "import numpy as np\n",
        "\n",
        "plt.plot(np.array(p_tu_all), color = 'r', label='Franklin (Noisy histogram)')\n",
        "plt.plot(np.array(p_tu_all_nhgis), color = 'r', label='Franklin (NHGIS)', linestyle='dashed')\n",
        "plt.plot(np.array(p_tu_all_g), color = 'g', label='Guernsey (Noisy histogram)')\n",
        "plt.plot(np.array(p_tu_all_nhgis_g), color = 'g', label='Guernsey (NHGIS)', linestyle='dashed')\n",
        "plt.xlabel(\"Iteration\")\n",
        "plt.ylabel(\"p(TU)\")\n",
        "plt.legend()\n",
        "plt.show()"
      ],
      "execution_count": 145,
      "outputs": [
        {
          "output_type": "display_data",
          "data": {
            "image/png": "[encoded data removed]",
            "text/plain": [
              "<Figure size 432x288 with 1 Axes>"
            ]
          },
          "metadata": {
            "needs_background": "light"
          }
        }
      ]
    },
    {
      "cell_type": "markdown",
      "metadata": {
        "id": "26ueNIqNrKqr"
      },
      "source": [
        "#####**Impact of privacy loss budget**"
      ]
    },
    {
      "cell_type": "code",
      "metadata": {
        "colab": {
          "base_uri": "https://localhost:8080/"
        },
        "id": "4BqZG6ulvSy-",
        "outputId": "eb48be9f-ce4e-40ab-c2a5-4b4e370c6904"
      },
      "source": [
        "import math\n",
        "import numpy as np\n",
        "\n",
        "# privacy budget allocation\n",
        "delta = 10 ** (-10)\n",
        "eps = 17.14 * 9/4097\n",
        "\n",
        "# calculate sigma (standard deviation)\n",
        "sigma = math.sqrt(1 / (2 * eps))\n",
        "# privacy loss budget in differential privacy\n",
        "eps0 = eps + 2 * math.sqrt(eps * math.log(1 / delta))\n",
        "eps, eps0, sigma"
      ],
      "execution_count": 146,
      "outputs": [
        {
          "output_type": "execute_result",
          "data": {
            "text/plain": [
              "(0.03765194044422748, 1.8998742342553376, 3.6441086797038675)"
            ]
          },
          "metadata": {},
          "execution_count": 146
        }
      ]
    },
    {
      "cell_type": "code",
      "metadata": {
        "colab": {
          "base_uri": "https://localhost:8080/"
        },
        "id": "etcdrAMPrP2v",
        "outputId": "cff414ba-bde7-4c22-dcc3-e6b4db2f5345"
      },
      "source": [
        "import scipy.stats\n",
        "\n",
        "hist1 = pd.crosstab(data_people.GEOID10, data_people.race)\n",
        "column_values = hist1[hist1.columns].values.ravel()\n",
        "A = pd.unique(column_values)\n",
        "\n",
        "probs = []\n",
        "for i in A:\n",
        "    p1 = scipy.stats.norm(0, sigma).cdf(0.5 - i) - scipy.stats.norm(0, sigma).cdf(1.5 - i)\n",
        "    u0 = hist1 == i\n",
        "    p2 = np.unique(u0.values, return_counts=True)[1][1] / (np.unique(u0.values, return_counts=True)[1][1] + \n",
        "                                                           np.unique(u0.values, return_counts=True)[1][0])\n",
        "    probs.append(p1 * p2)\n",
        "\n",
        "p3 = scipy.stats.norm(0, sigma).cdf(-0.5) - scipy.stats.norm(0, sigma).cdf(0.5)\n",
        "u0 = hist1 == 1\n",
        "p4 = np.unique(u0.values, return_counts=True)[1][1] / (np.unique(u0.values, return_counts=True)[1][1] + \n",
        "                                                       np.unique(u0.values, return_counts=True)[1][0])\n",
        "p_tu = p3 * p4 / sum(probs)\n",
        "p_tu"
      ],
      "execution_count": 147,
      "outputs": [
        {
          "output_type": "execute_result",
          "data": {
            "text/plain": [
              "0.08792193110751202"
            ]
          },
          "metadata": {},
          "execution_count": 147
        }
      ]
    },
    {
      "cell_type": "markdown",
      "metadata": {
        "id": "1fEN3YVkTS8J"
      },
      "source": [
        "**Something to do with population density**"
      ]
    },
    {
      "cell_type": "markdown",
      "metadata": {
        "id": "Q__o1dGLon0M"
      },
      "source": [
        "The trend above can potentially be explained by the population distribution in the county. As the iteration increases, more sparse blocks are added, and the histogram is more concentrated around zero. This can lead to the sharpe decrease in $p(TU)$."
      ]
    },
    {
      "cell_type": "code",
      "metadata": {
        "colab": {
          "base_uri": "https://localhost:8080/",
          "height": 281
        },
        "id": "I8P0mGszIY7J",
        "outputId": "c1770509-69df-42ba-82ac-60cc5b491ce9"
      },
      "source": [
        "import matplotlib.pyplot as plt\n",
        "\n",
        "fig, ax = plt.subplots(1, 1)\n",
        "data_tract_new.plot(column='POP_DEN', ax=ax, legend=True)"
      ],
      "execution_count": null,
      "outputs": [
        {
          "output_type": "execute_result",
          "data": {
            "text/plain": [
              "<matplotlib.axes._subplots.AxesSubplot at 0x7f3450b9e1d0>"
            ]
          },
          "metadata": {},
          "execution_count": 131
        },
        {
          "output_type": "display_data",
          "data": {
            "image/png": "[encoded data removed]",
            "text/plain": [
              "<Figure size 432x288 with 2 Axes>"
            ]
          },
          "metadata": {
            "needs_background": "light"
          }
        }
      ]
    },
    {
      "cell_type": "code",
      "metadata": {
        "colab": {
          "base_uri": "https://localhost:8080/",
          "height": 434
        },
        "id": "Nd5lxf8Ue6xq",
        "outputId": "2729a59f-ed38-400d-8cb9-713afd7563f6"
      },
      "source": [
        "from splot.esda import lisa_cluster\n",
        "from pysal.lib import weights\n",
        "from pysal.explore import esda\n",
        "\n",
        "data_tract_new['POP_DEN'] = data_tract_new['POP_DEN'].fillna(0)\n",
        "# Generate W from the GeoDataFrame\n",
        "w = weights.Queen.from_dataframe(data_tract_new)\n",
        "# Row-standardization\n",
        "w.transform = 'R'\n",
        "\n",
        "moran_loc = esda.moran.Moran_Local(data_tract_new['POP_DEN'].values, w)\n",
        "lisa_cluster(moran_loc, data_tract_new, p=0.05, figsize = (9,9))\n",
        "plt.show()"
      ],
      "execution_count": null,
      "outputs": [
        {
          "output_type": "stream",
          "name": "stderr",
          "text": [
            "/usr/local/lib/python3.7/dist-packages/numba/np/ufunc/parallel.py:363: NumbaWarning: The TBB threading layer requires TBB version 2019.5 or later i.e., TBB_INTERFACE_VERSION >= 11005. Found TBB_INTERFACE_VERSION = 9107. The TBB threading layer is disabled.\n",
            "  warnings.warn(problem)\n"
          ]
        },
        {
          "output_type": "display_data",
          "data": {
            "image/png": "[encoded data removed]",
            "text/plain": [
              "<Figure size 648x648 with 1 Axes>"
            ]
          },
          "metadata": {
            "needs_background": "light"
          }
        }
      ]
    },
    {
      "cell_type": "markdown",
      "metadata": {
        "id": "AoE1zcvijZzt"
      },
      "source": [
        "####**Check noise distribution**"
      ]
    },
    {
      "cell_type": "code",
      "metadata": {
        "colab": {
          "base_uri": "https://localhost:8080/",
          "height": 352
        },
        "id": "nbWiP8rZjex_",
        "outputId": "5bd1afa4-9379-4b9f-99ae-a598d51d13e0"
      },
      "source": [
        "%cd \"/content/gdrive/My Drive/Colab Notebooks/census_privacy\"\n",
        "import pandas as pd\n",
        "import seaborn as sns\n",
        "import numpy as np\n",
        "from scipy.stats import norm\n",
        "\n",
        "filename_nhgis_block = 'franklin/nhgis/franklin_nhgis_block.csv'\n",
        "nhgis_block = pd.read_csv(filename_nhgis_block)\n",
        "\n",
        "hist1_nhgis = nhgis_block[['H72003_sf', 'H72004_sf', 'H72005_sf', 'H72006_sf', 'H72007_sf', 'H72008_sf', 'H72009_sf']]\n",
        "hist1_nhgis = hist1_nhgis.rename(columns={'H72003_sf': '1', 'H72004_sf': '2', 'H72005_sf': '3', 'H72006_sf': '4', 'H72007_sf': '5', 'H72008_sf': '6', \n",
        "                                          'H72009_sf': '7'})\n",
        "hist2_nhgis = nhgis_block[['H72003_dp', 'H72004_dp', 'H72005_dp', 'H72006_dp', 'H72007_dp', 'H72008_dp', 'H72009_dp']]\n",
        "hist2_nhgis = hist2_nhgis.rename(columns={'H72003_dp': '1', 'H72004_dp': '2', 'H72005_dp': '3', 'H72006_dp': '4', 'H72007_dp': '5', 'H72008_dp': '6', \n",
        "                                          'H72009_dp': '7'})\n",
        "\n",
        "noise = hist2_nhgis - hist1_nhgis\n",
        "\n",
        "probabilities = noise.stack().value_counts(normalize=True)    \n",
        "sns.barplot(probabilities.index, probabilities.values)\n",
        "\n",
        "data = noise.values.ravel()\n",
        "mu, std = norm.fit(data)\n",
        "print(mu, std)"
      ],
      "execution_count": null,
      "outputs": [
        {
          "output_type": "stream",
          "name": "stdout",
          "text": [
            "/content/gdrive/My Drive/Colab Notebooks/census_privacy\n"
          ]
        },
        {
          "output_type": "stream",
          "name": "stderr",
          "text": [
            "/usr/local/lib/python3.7/dist-packages/seaborn/_decorators.py:43: FutureWarning: Pass the following variables as keyword args: x, y. From version 0.12, the only valid positional argument will be `data`, and passing other arguments without an explicit keyword will result in an error or misinterpretation.\n",
            "  FutureWarning\n"
          ]
        },
        {
          "output_type": "stream",
          "name": "stdout",
          "text": [
            "-0.005146899111333566 2.8233444076974767\n"
          ]
        },
        {
          "output_type": "display_data",
          "data": {
            "image/png": "[encoded data removed]",
            "text/plain": [
              "<Figure size 432x288 with 1 Axes>"
            ]
          },
          "metadata": {
            "needs_background": "light"
          }
        }
      ]
    },
    {
      "cell_type": "code",
      "metadata": {
        "colab": {
          "base_uri": "https://localhost:8080/",
          "height": 352
        },
        "id": "2sk8tkwp3Wmm",
        "outputId": "232b1746-7486-471c-8a97-b6c4be567a6f"
      },
      "source": [
        "%cd \"/content/gdrive/My Drive/Colab Notebooks/census_privacy\"\n",
        "import pandas as pd\n",
        "import seaborn as sns\n",
        "import numpy as np\n",
        "from scipy.stats import norm\n",
        "\n",
        "filename_nhgis_block = 'guernsey/nhgis/guernsey_nhgis_block.csv'\n",
        "nhgis_block = pd.read_csv(filename_nhgis_block)\n",
        "\n",
        "hist1_nhgis = nhgis_block[['H72003_sf', 'H72004_sf', 'H72005_sf', 'H72006_sf', 'H72007_sf', 'H72008_sf', 'H72009_sf']]\n",
        "hist1_nhgis = hist1_nhgis.rename(columns={'H72003_sf': '1', 'H72004_sf': '2', 'H72005_sf': '3', 'H72006_sf': '4', 'H72007_sf': '5', 'H72008_sf': '6', \n",
        "                                          'H72009_sf': '7'})\n",
        "hist2_nhgis = nhgis_block[['H72003_dp', 'H72004_dp', 'H72005_dp', 'H72006_dp', 'H72007_dp', 'H72008_dp', 'H72009_dp']]\n",
        "hist2_nhgis = hist2_nhgis.rename(columns={'H72003_dp': '1', 'H72004_dp': '2', 'H72005_dp': '3', 'H72006_dp': '4', 'H72007_dp': '5', 'H72008_dp': '6', \n",
        "                                          'H72009_dp': '7'})\n",
        "\n",
        "noise = hist2_nhgis - hist1_nhgis\n",
        "\n",
        "probabilities = noise.stack().value_counts(normalize=True)    \n",
        "sns.barplot(probabilities.index, probabilities.values)\n",
        "\n",
        "data = noise.values.ravel()\n",
        "mu, std = norm.fit(data)\n",
        "print(mu, std)"
      ],
      "execution_count": null,
      "outputs": [
        {
          "output_type": "stream",
          "name": "stdout",
          "text": [
            "/content/gdrive/My Drive/Colab Notebooks/census_privacy\n",
            "-0.015388805665259431 1.431502015562092\n"
          ]
        },
        {
          "output_type": "stream",
          "name": "stderr",
          "text": [
            "/usr/local/lib/python3.7/dist-packages/seaborn/_decorators.py:43: FutureWarning: Pass the following variables as keyword args: x, y. From version 0.12, the only valid positional argument will be `data`, and passing other arguments without an explicit keyword will result in an error or misinterpretation.\n",
            "  FutureWarning\n"
          ]
        },
        {
          "output_type": "display_data",
          "data": {
            "image/png": "[encoded data removed]",
            "text/plain": [
              "<Figure size 432x288 with 1 Axes>"
            ]
          },
          "metadata": {
            "needs_background": "light"
          }
        }
      ]
    },
    {
      "cell_type": "code",
      "metadata": {
        "colab": {
          "base_uri": "https://localhost:8080/",
          "height": 352
        },
        "id": "_08hAdp5kEhU",
        "outputId": "6ae00aff-aeae-4865-ad4a-1087d2d653b2"
      },
      "source": [
        "%cd \"/content/gdrive/My Drive/Colab Notebooks/census_privacy\"\n",
        "import pandas as pd\n",
        "import seaborn as sns\n",
        "import numpy as np\n",
        "from scipy.stats import norm\n",
        "\n",
        "filename_nhgis_block = 'franklin/nhgis/franklin_nhgis_bg.csv'\n",
        "nhgis_block = pd.read_csv(filename_nhgis_block)\n",
        "\n",
        "hist1_nhgis = nhgis_block[['H72003_sf', 'H72004_sf', 'H72005_sf', 'H72006_sf', 'H72007_sf', 'H72008_sf', 'H72009_sf']]\n",
        "hist1_nhgis = hist1_nhgis.rename(columns={'H72003_sf': '1', 'H72004_sf': '2', 'H72005_sf': '3', 'H72006_sf': '4', 'H72007_sf': '5', 'H72008_sf': '6', \n",
        "                                          'H72009_sf': '7'})\n",
        "hist2_nhgis = nhgis_block[['H72003_dp', 'H72004_dp', 'H72005_dp', 'H72006_dp', 'H72007_dp', 'H72008_dp', 'H72009_dp']]\n",
        "hist2_nhgis = hist2_nhgis.rename(columns={'H72003_dp': '1', 'H72004_dp': '2', 'H72005_dp': '3', 'H72006_dp': '4', 'H72007_dp': '5', 'H72008_dp': '6', \n",
        "                                          'H72009_dp': '7'})\n",
        "\n",
        "noise = hist2_nhgis - hist1_nhgis\n",
        "\n",
        "probabilities = noise.stack().value_counts(normalize=True)    \n",
        "sns.barplot(probabilities.index, probabilities.values)\n",
        "\n",
        "data = noise.values.ravel()\n",
        "mu, std = norm.fit(data)\n",
        "print(mu, std)"
      ],
      "execution_count": null,
      "outputs": [
        {
          "output_type": "stream",
          "name": "stdout",
          "text": [
            "/content/gdrive/My Drive/Colab Notebooks/census_privacy\n"
          ]
        },
        {
          "output_type": "stream",
          "name": "stderr",
          "text": [
            "/usr/local/lib/python3.7/dist-packages/seaborn/_decorators.py:43: FutureWarning: Pass the following variables as keyword args: x, y. From version 0.12, the only valid positional argument will be `data`, and passing other arguments without an explicit keyword will result in an error or misinterpretation.\n",
            "  FutureWarning\n"
          ]
        },
        {
          "output_type": "stream",
          "name": "stdout",
          "text": [
            "0.00016105653084232566 7.852655417580383\n"
          ]
        },
        {
          "output_type": "display_data",
          "data": {
            "image/png": "[encoded data removed]",
            "text/plain": [
              "<Figure size 432x288 with 1 Axes>"
            ]
          },
          "metadata": {
            "needs_background": "light"
          }
        }
      ]
    },
    {
      "cell_type": "code",
      "metadata": {
        "colab": {
          "base_uri": "https://localhost:8080/",
          "height": 355
        },
        "id": "lGc4DcDK3ktu",
        "outputId": "15c01b2b-2de6-483c-c752-1e578b78a161"
      },
      "source": [
        "%cd \"/content/gdrive/My Drive/Colab Notebooks/census_privacy\"\n",
        "import pandas as pd\n",
        "import seaborn as sns\n",
        "import numpy as np\n",
        "from scipy.stats import norm\n",
        "\n",
        "filename_nhgis_block = 'guernsey/nhgis/guernsey_nhgis_bg.csv'\n",
        "nhgis_block = pd.read_csv(filename_nhgis_block)\n",
        "\n",
        "hist1_nhgis = nhgis_block[['H72003_sf', 'H72004_sf', 'H72005_sf', 'H72006_sf', 'H72007_sf', 'H72008_sf', 'H72009_sf']]\n",
        "hist1_nhgis = hist1_nhgis.rename(columns={'H72003_sf': '1', 'H72004_sf': '2', 'H72005_sf': '3', 'H72006_sf': '4', 'H72007_sf': '5', 'H72008_sf': '6', \n",
        "                                          'H72009_sf': '7'})\n",
        "hist2_nhgis = nhgis_block[['H72003_dp', 'H72004_dp', 'H72005_dp', 'H72006_dp', 'H72007_dp', 'H72008_dp', 'H72009_dp']]\n",
        "hist2_nhgis = hist2_nhgis.rename(columns={'H72003_dp': '1', 'H72004_dp': '2', 'H72005_dp': '3', 'H72006_dp': '4', 'H72007_dp': '5', 'H72008_dp': '6', \n",
        "                                          'H72009_dp': '7'})\n",
        "\n",
        "noise = hist2_nhgis - hist1_nhgis\n",
        "\n",
        "probabilities = noise.stack().value_counts(normalize=True)    \n",
        "sns.barplot(probabilities.index, probabilities.values)\n",
        "\n",
        "data = noise.values.ravel()\n",
        "mu, std = norm.fit(data)\n",
        "print(mu, std)"
      ],
      "execution_count": null,
      "outputs": [
        {
          "output_type": "stream",
          "name": "stdout",
          "text": [
            "/content/gdrive/My Drive/Colab Notebooks/census_privacy\n",
            "-0.008928571428571428 3.903971274123783\n"
          ]
        },
        {
          "output_type": "stream",
          "name": "stderr",
          "text": [
            "/usr/local/lib/python3.7/dist-packages/seaborn/_decorators.py:43: FutureWarning: Pass the following variables as keyword args: x, y. From version 0.12, the only valid positional argument will be `data`, and passing other arguments without an explicit keyword will result in an error or misinterpretation.\n",
            "  FutureWarning\n"
          ]
        },
        {
          "output_type": "display_data",
          "data": {
            "image/png": "[encoded data removed]",
            "text/plain": [
              "<Figure size 432x288 with 1 Axes>"
            ]
          },
          "metadata": {
            "needs_background": "light"
          }
        }
      ]
    },
    {
      "cell_type": "code",
      "metadata": {
        "colab": {
          "base_uri": "https://localhost:8080/",
          "height": 352
        },
        "id": "ZF_5BWgO2xGO",
        "outputId": "37fea1fe-c1eb-4484-ce9e-31b263c2783e"
      },
      "source": [
        "%cd \"/content/gdrive/My Drive/Colab Notebooks/census_privacy\"\n",
        "import pandas as pd\n",
        "import seaborn as sns\n",
        "import numpy as np\n",
        "from scipy.stats import norm\n",
        "\n",
        "filename_nhgis_block = 'franklin/nhgis/franklin_nhgis_tract.csv'\n",
        "nhgis_block = pd.read_csv(filename_nhgis_block)\n",
        "\n",
        "hist1_nhgis = nhgis_block[['H72003_sf', 'H72004_sf', 'H72005_sf', 'H72006_sf', 'H72007_sf', 'H72008_sf', 'H72009_sf']]\n",
        "hist1_nhgis = hist1_nhgis.rename(columns={'H72003_sf': '1', 'H72004_sf': '2', 'H72005_sf': '3', 'H72006_sf': '4', 'H72007_sf': '5', 'H72008_sf': '6', \n",
        "                                          'H72009_sf': '7'})\n",
        "hist2_nhgis = nhgis_block[['H72003_dp', 'H72004_dp', 'H72005_dp', 'H72006_dp', 'H72007_dp', 'H72008_dp', 'H72009_dp']]\n",
        "hist2_nhgis = hist2_nhgis.rename(columns={'H72003_dp': '1', 'H72004_dp': '2', 'H72005_dp': '3', 'H72006_dp': '4', 'H72007_dp': '5', 'H72008_dp': '6', \n",
        "                                          'H72009_dp': '7'})\n",
        "\n",
        "noise = hist2_nhgis - hist1_nhgis\n",
        "\n",
        "probabilities = noise.stack().value_counts(normalize=True)    \n",
        "sns.barplot(probabilities.index, probabilities.values)\n",
        "\n",
        "data = noise.values.ravel()\n",
        "mu, std = norm.fit(data)\n",
        "print(mu, std)"
      ],
      "execution_count": null,
      "outputs": [
        {
          "output_type": "stream",
          "name": "stdout",
          "text": [
            "/content/gdrive/My Drive/Colab Notebooks/census_privacy\n",
            "0.0005030181086519115 4.924020268246625\n"
          ]
        },
        {
          "output_type": "stream",
          "name": "stderr",
          "text": [
            "/usr/local/lib/python3.7/dist-packages/seaborn/_decorators.py:43: FutureWarning: Pass the following variables as keyword args: x, y. From version 0.12, the only valid positional argument will be `data`, and passing other arguments without an explicit keyword will result in an error or misinterpretation.\n",
            "  FutureWarning\n"
          ]
        },
        {
          "output_type": "display_data",
          "data": {
            "image/png": "[encoded data removed]",
            "text/plain": [
              "<Figure size 432x288 with 1 Axes>"
            ]
          },
          "metadata": {
            "needs_background": "light"
          }
        }
      ]
    },
    {
      "cell_type": "code",
      "metadata": {
        "id": "qKNKl6H14eoo",
        "colab": {
          "base_uri": "https://localhost:8080/",
          "height": 352
        },
        "outputId": "4642c7cc-3270-452e-8fb9-97576cf12de2"
      },
      "source": [
        "%cd \"/content/gdrive/My Drive/Colab Notebooks/census_privacy\"\n",
        "import pandas as pd\n",
        "import seaborn as sns\n",
        "import numpy as np\n",
        "from scipy.stats import norm\n",
        "\n",
        "filename_nhgis_block = 'guernsey/nhgis/guernsey_nhgis_tract.csv'\n",
        "nhgis_block = pd.read_csv(filename_nhgis_block)\n",
        "\n",
        "hist1_nhgis = nhgis_block[['H72003_sf', 'H72004_sf', 'H72005_sf', 'H72006_sf', 'H72007_sf', 'H72008_sf', 'H72009_sf']]\n",
        "hist1_nhgis = hist1_nhgis.rename(columns={'H72003_sf': '1', 'H72004_sf': '2', 'H72005_sf': '3', 'H72006_sf': '4', 'H72007_sf': '5', 'H72008_sf': '6', \n",
        "                                          'H72009_sf': '7'})\n",
        "hist2_nhgis = nhgis_block[['H72003_dp', 'H72004_dp', 'H72005_dp', 'H72006_dp', 'H72007_dp', 'H72008_dp', 'H72009_dp']]\n",
        "hist2_nhgis = hist2_nhgis.rename(columns={'H72003_dp': '1', 'H72004_dp': '2', 'H72005_dp': '3', 'H72006_dp': '4', 'H72007_dp': '5', 'H72008_dp': '6', \n",
        "                                          'H72009_dp': '7'})\n",
        "\n",
        "noise = hist2_nhgis - hist1_nhgis\n",
        "\n",
        "probabilities = noise.stack().value_counts(normalize=True)    \n",
        "sns.barplot(probabilities.index, probabilities.values)\n",
        "\n",
        "data = noise.values.ravel()\n",
        "mu, std = norm.fit(data)\n",
        "print(mu, std)"
      ],
      "execution_count": null,
      "outputs": [
        {
          "output_type": "stream",
          "name": "stdout",
          "text": [
            "/content/gdrive/My Drive/Colab Notebooks/census_privacy\n",
            "-0.02857142857142857 8.600616968851591\n"
          ]
        },
        {
          "output_type": "stream",
          "name": "stderr",
          "text": [
            "/usr/local/lib/python3.7/dist-packages/seaborn/_decorators.py:43: FutureWarning: Pass the following variables as keyword args: x, y. From version 0.12, the only valid positional argument will be `data`, and passing other arguments without an explicit keyword will result in an error or misinterpretation.\n",
            "  FutureWarning\n"
          ]
        },
        {
          "output_type": "display_data",
          "data": {
            "image/png": "[encoded data removed]",
            "text/plain": [
              "<Figure size 432x288 with 1 Axes>"
            ]
          },
          "metadata": {
            "needs_background": "light"
          }
        }
      ]
    }
  ]
}