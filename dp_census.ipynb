{
  "nbformat": 4,
  "nbformat_minor": 0,
  "metadata": {
    "colab": {
      "name": "dp_census.ipynb",
      "provenance": [],
      "collapsed_sections": [],
      "authorship_tag": "ABX9TyOt/+BNK4qcG3UdAsXF+BS/",
      "include_colab_link": true
    },
    "kernelspec": {
      "name": "python3",
      "display_name": "Python 3"
    },
    "language_info": {
      "name": "python"
    }
  },
  "cells": [
    {
      "cell_type": "markdown",
      "metadata": {
        "id": "view-in-github",
        "colab_type": "text"
      },
      "source": [
        "<a href=\"https://colab.research.google.com/github/linyuehzzz/dp_census/blob/main/dp_census.ipynb\" target=\"_parent\"><img src=\"https://colab.research.google.com/assets/colab-badge.svg\" alt=\"Open In Colab\"/></a>"
      ]
    },
    {
      "cell_type": "markdown",
      "metadata": {
        "id": "1PW-GwYbUUWp"
      },
      "source": [
        "##**Differential Privacy for Census**\n",
        "This code simulates the TopDown algorithm for the U.S. census.  \n",
        "Yue Lin (lin.3326 at osu.edu)  \n",
        "Created: 7/28/2021"
      ]
    },
    {
      "cell_type": "code",
      "metadata": {
        "id": "xPwhg3H1SQ3Y"
      },
      "source": [
        "from google.colab import drive\n",
        "drive.mount(\"/content/gdrive\")"
      ],
      "execution_count": null,
      "outputs": []
    },
    {
      "cell_type": "markdown",
      "metadata": {
        "id": "RvdJLbqGUxaT"
      },
      "source": [
        "#### **Set up libraries**"
      ]
    },
    {
      "cell_type": "code",
      "metadata": {
        "id": "U1qgiXDmU0F_"
      },
      "source": [
        "# %cd \"/content/gdrive/My Drive/Colab Notebooks/census_dp\"\n",
        "import json\n",
        "import pandas as pd\n",
        "import numpy as np\n",
        "import math\n",
        "from sympy import *"
      ],
      "execution_count": 2,
      "outputs": []
    },
    {
      "cell_type": "markdown",
      "metadata": {
        "id": "zu3TcNY4u-8G"
      },
      "source": [
        "#### **Create synthetic microdata**\n",
        "Young et al. (2009) presents a method that creates a realistic dataset for testing disclosure control methodologies.  \n",
        "\n",
        "Young, C., Martin, D., & Skinner, C. (2009). Geographically intelligent disclosure control for flexible aggregation of census data. International Journal of Geographical Information Science, 23(4), 457-482."
      ]
    },
    {
      "cell_type": "code",
      "metadata": {
        "id": "P-f51b8du-do"
      },
      "source": [
        "block = [\"1234\", \"1234\", \"1234\", \"1235\", \"1235\", \"1235\", \"1234\"]\n",
        "age = [66, 84, 30, 36, 8, 18, 24]\n",
        "sex = [\"F\", \"M\", \"M\", \"F\", \"F\", \"M\", \"F\"]\n",
        "race = [\"B\", \"B\", \"W\", \"B\", \"B\", \"W\", \"W\"]\n",
        "relationship = [\"M\", \"M\", \"M\", \"M\", \"S\", \"S\", \"S\"]\n",
        "N = 7"
      ],
      "execution_count": 3,
      "outputs": []
    },
    {
      "cell_type": "markdown",
      "metadata": {
        "id": "S2-TC0qrvJM6"
      },
      "source": [
        "#### **Create original histograms**"
      ]
    },
    {
      "cell_type": "markdown",
      "metadata": {
        "id": "FrXt2_el0MnI"
      },
      "source": [
        "block/sex"
      ]
    },
    {
      "cell_type": "code",
      "metadata": {
        "colab": {
          "base_uri": "https://localhost:8080/"
        },
        "id": "rf9lZPZYvI80",
        "outputId": "cc6bbad5-cd19-49d5-f8ed-52916a1f79fe"
      },
      "source": [
        "block_sex = {}\n",
        "for i in [\"1234\", \"1235\"]:\n",
        "    block_sex[i] = {}\n",
        "    for j in [\"F\", \"M\"]:\n",
        "        block_sex[i][j] = 0\n",
        "        \n",
        "for k in range(N):\n",
        "    i = block[k]\n",
        "    j = sex[k]\n",
        "    block_sex[i][j] += 1\n",
        "\n",
        "df = pd.DataFrame.from_dict(block_sex, orient='index')\n",
        "print(df)"
      ],
      "execution_count": 4,
      "outputs": [
        {
          "output_type": "stream",
          "text": [
            "      F  M\n",
            "1234  2  2\n",
            "1235  2  1\n"
          ],
          "name": "stdout"
        }
      ]
    },
    {
      "cell_type": "markdown",
      "metadata": {
        "id": "FAjuIfww_Bai"
      },
      "source": [
        "block/sex/race/relationship"
      ]
    },
    {
      "cell_type": "code",
      "metadata": {
        "colab": {
          "base_uri": "https://localhost:8080/"
        },
        "id": "FAkqvCzW_D9x",
        "outputId": "6bbcd536-8f30-42ab-d7e1-51bf5c84656f"
      },
      "source": [
        "block_sex_race_rel = {}\n",
        "for a in [\"1234\", \"1235\"]:\n",
        "    block_sex_race_rel[a] = {}\n",
        "    for b in [\"F\", \"M\"]:\n",
        "        for c in [\"W\", \"B\"]:\n",
        "            for d in [\"M\", \"S\"]:\n",
        "                block_sex_race_rel[a][b + \"/\" + c + \"/\" + d] = 0\n",
        "\n",
        "for k in range(N):\n",
        "    a = block[k]\n",
        "    b = sex[k]\n",
        "    c = race[k]\n",
        "    d = relationship[k]\n",
        "    block_sex_race_rel[a][b + \"/\" + c + \"/\" + d] += 1\n",
        "\n",
        "df = pd.DataFrame.from_dict(block_sex_race_rel, orient='index')\n",
        "print(df)"
      ],
      "execution_count": 5,
      "outputs": [
        {
          "output_type": "stream",
          "text": [
            "      F/W/M  F/W/S  F/B/M  F/B/S  M/W/M  M/W/S  M/B/M  M/B/S\n",
            "1234      0      1      1      0      1      0      1      0\n",
            "1235      0      0      1      1      0      1      0      0\n"
          ],
          "name": "stdout"
        }
      ]
    },
    {
      "cell_type": "markdown",
      "metadata": {
        "id": "pOOGCVYwDFzh"
      },
      "source": [
        "#### **Add noises (Zero-concentrated differential privacy)**\n",
        "Discrete Gaussian noise is applied.\n",
        "\n",
        "Bun, M., & Steinke, T. (2016, November). Concentrated differential privacy: Simplifications, extensions, and lower bounds. In Theory of Cryptography Conference (pp. 635-658). Springer, Berlin, Heidelberg."
      ]
    },
    {
      "cell_type": "markdown",
      "metadata": {
        "id": "kBsGMjX6NtYh"
      },
      "source": [
        "Generate Gaussian noise  \n",
        "\n",
        "**How espilon is distributed?** The noise magnitude scales should relate with the number of queries. Are they identical within each type of queries and each geographical level?"
      ]
    },
    {
      "cell_type": "code",
      "metadata": {
        "colab": {
          "base_uri": "https://localhost:8080/"
        },
        "id": "FojPNZ-INs88",
        "outputId": "d278877d-9160-441c-8b18-233df8b7746a"
      },
      "source": [
        "delta = 0.05\n",
        "eps = 12.2 * 0.02\n",
        "\n",
        "# solve for rho\n",
        "y = Symbol('y')\n",
        "eqn = Eq(y + 2 * sqrt(y * log(1 / delta)), eps)\n",
        "rho = solve(eqn)[0]\n",
        "# calculate sigma (standard deviation)\n",
        "sigma = math.sqrt(1 / (2 * rho))\n",
        "\n",
        "print(sigma)"
      ],
      "execution_count": 6,
      "outputs": [
        {
          "output_type": "stream",
          "text": [
            "10.232020630940216\n"
          ],
          "name": "stdout"
        }
      ]
    },
    {
      "cell_type": "markdown",
      "metadata": {
        "id": "3x1O_Y9WD0jV"
      },
      "source": [
        "block/sex"
      ]
    },
    {
      "cell_type": "code",
      "metadata": {
        "colab": {
          "base_uri": "https://localhost:8080/"
        },
        "id": "x6T3OvPQDgjh",
        "outputId": "e3ae3c59-bfa2-4ed6-871e-22af07e6ef49"
      },
      "source": [
        "block_sex_noise = {}\n",
        "\n",
        "for i in [\"1234\", \"1235\"]:\n",
        "    block_sex_noise[i] = {}\n",
        "    for j in [\"F\", \"M\"]:\n",
        "        noise = np.random.normal(0, sigma, 1).astype(int)[0]\n",
        "        block_sex_noise[i][j] = block_sex[i][j] + noise\n",
        "\n",
        "df = pd.DataFrame.from_dict(block_sex_noise, orient='index')\n",
        "print(df)"
      ],
      "execution_count": 11,
      "outputs": [
        {
          "output_type": "stream",
          "text": [
            "       F  M\n",
            "1234 -13  4\n",
            "1235   8  9\n"
          ],
          "name": "stdout"
        }
      ]
    },
    {
      "cell_type": "markdown",
      "metadata": {
        "id": "hUnXpUyJgzLQ"
      },
      "source": [
        "block/sex/race/relationship"
      ]
    },
    {
      "cell_type": "code",
      "metadata": {
        "colab": {
          "base_uri": "https://localhost:8080/"
        },
        "id": "Pb4YgwLYg1VF",
        "outputId": "ba24a8f6-25ec-45b7-b4c3-b56bb3c2ea19"
      },
      "source": [
        "block_sex_race_rel_noise = {}\n",
        "\n",
        "for a in [\"1234\", \"1235\"]:\n",
        "    block_sex_race_rel_noise[a] = {}\n",
        "    for b in [\"F\", \"M\"]:\n",
        "        for c in [\"W\", \"B\"]:\n",
        "            for d in [\"M\", \"S\"]:\n",
        "                block_sex_race_rel_noise[a][b + \"/\" + c + \"/\" + d] = block_sex_race_rel[a][b + \"/\" + c + \"/\" + d] + noise\n",
        "\n",
        "df = pd.DataFrame.from_dict(block_sex_race_rel_noise, orient='index')\n",
        "print(df)"
      ],
      "execution_count": null,
      "outputs": [
        {
          "output_type": "stream",
          "text": [
            "      F/W/M  F/W/S  F/B/M  F/B/S  M/W/M  M/W/S  M/B/M  M/B/S\n",
            "1234      0      1      1      0      1      0      1      0\n",
            "1235      0      0      1      1      0      1      0      0\n"
          ],
          "name": "stdout"
        }
      ]
    },
    {
      "cell_type": "markdown",
      "metadata": {
        "id": "nCX_iuXMhYCn"
      },
      "source": [
        "#### **Post-processing**"
      ]
    },
    {
      "cell_type": "code",
      "metadata": {
        "id": "sMlxkJDFhc4n"
      },
      "source": [
        ""
      ],
      "execution_count": null,
      "outputs": []
    }
  ]
}