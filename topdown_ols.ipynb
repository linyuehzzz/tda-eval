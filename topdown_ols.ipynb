{
  "nbformat": 4,
  "nbformat_minor": 0,
  "metadata": {
    "colab": {
      "name": "topdown_ols.ipynb",
      "provenance": [],
      "collapsed_sections": [],
      "authorship_tag": "ABX9TyOLLfc4FnKYwTBakREYuyPm",
      "include_colab_link": true
    },
    "kernelspec": {
      "name": "python3",
      "display_name": "Python 3"
    },
    "language_info": {
      "name": "python"
    }
  },
  "cells": [
    {
      "cell_type": "markdown",
      "metadata": {
        "id": "view-in-github",
        "colab_type": "text"
      },
      "source": [
        "<a href=\"https://colab.research.google.com/github/linyuehzzz/census_privacy/blob/main/topdown_ols.ipynb\" target=\"_parent\"><img src=\"https://colab.research.google.com/assets/colab-badge.svg\" alt=\"Open In Colab\"/></a>"
      ]
    },
    {
      "cell_type": "code",
      "metadata": {
        "colab": {
          "base_uri": "https://localhost:8080/"
        },
        "id": "aKuVw4Dv9Dm5",
        "outputId": "a8a52f45-ebf7-4594-e13b-8177b390a926"
      },
      "source": [
        "from google.colab import drive\n",
        "drive.mount(\"/content/gdrive\")"
      ],
      "execution_count": 3,
      "outputs": [
        {
          "output_type": "stream",
          "name": "stdout",
          "text": [
            "Mounted at /content/gdrive\n"
          ]
        }
      ]
    },
    {
      "cell_type": "markdown",
      "metadata": {
        "id": "xuI3yDW87UNN"
      },
      "source": [
        "**Budget allocation**"
      ]
    },
    {
      "cell_type": "code",
      "metadata": {
        "id": "pcbABy9H7Wt2"
      },
      "source": [
        "scale = 3   # county:0, tract:1, bg:2, block:3\n",
        "if scale == 0:\n",
        "    f1, f2, f3, f4, f6, f7, f8, f9, f10, f11 = 1, 447/4099*10/4097, 447/4099*10/4097, 447/4099*10/4097, 447/4099*10/4097, 447/4099*28/4097, 447/4099*28/4097, 447/4099*10/4097, 447/4099*101/4097, 447/4099*754/4097\n",
        "elif scale == 1:\n",
        "    f1, f2, f3, f4, f6, f7, f8, f9, f10, f11 = 687/4099*1567/4102, 687/4099*4/2051, 687/4099*5/4102, 687/4099*5/4102, 687/4099*5/4102, 687/4099*1933/4102, 687/4099*10/2051, 687/4099*5/4102, 687/4099*67/4102, 687/4099*241/2051\n",
        "elif scale == 2:\n",
        "    f1, f2, f3, f4, f6, f7, f8, f9, f10, f11 = 1256/4099*1705/4099, 1256/4099*3/4099, 1256/4099*3/4099, 1256/4099*3/4099, 1256/4099*3/4099, 1256/4099*1055/4099, 1256/4099*9/4099, 1256/4099*3/4099, 1256/4099*24/4099, 1256/4099*1288/4099\n",
        "else:\n",
        "    f1, f2, f3, f4, f6, f7, f8, f9, f10, f11 = 165/4099*5/4097, 165/4099*9/4097, 165/4099*5/4097, 165/4099*5/4097, 165/4099*5/4097, 165/4099*21/4097, 165/4099*21/4097, 165/4099*5/4097, 165/4099*71/4097, 165/4099*3945/4097"
      ],
      "execution_count": 4,
      "outputs": []
    },
    {
      "cell_type": "markdown",
      "metadata": {
        "id": "eMeTVBBCRt0o"
      },
      "source": [
        "**Define strategy matrix and rescale (for homoskedastic errors)**"
      ]
    },
    {
      "cell_type": "code",
      "metadata": {
        "colab": {
          "base_uri": "https://localhost:8080/"
        },
        "id": "tPELpT6MROEG",
        "outputId": "ae6e817a-d745-41e2-8bcf-815ea0106078"
      },
      "source": [
        "%cd \"/content/gdrive/My Drive/Colab Notebooks/census_privacy\"\n",
        "import torch\n",
        "import numpy as np\n",
        "import math\n",
        "import lib.cdp2adp as cdp2adp\n",
        "\n",
        "# setup parameters\n",
        "eps = 17.14\n",
        "delta = 1e-10\n",
        "# rho = 1\n",
        "rho = cdp2adp.cdp_rho(eps, delta) \n",
        "n1, n2, n3, n4 = 8, 2, 2, 63        # number of attribute combinations: HHGQ (8) ∗ VOTINGAGE (2) ∗ HISPANIC (2) ∗ RACE (63)\n",
        "N = n1 * n2 * n3 * n4         # number of attribute combinations: HHGQ (8) ∗ VOTINGAGE (2) ∗ HISPANIC (2) ∗ RACE (63)\n",
        "q1, q2, q3, q4, q6, q7, q8, q9, q10, q11 = [], [], [], [], [], [], [], [], [], []\n",
        "\n",
        "AA = torch.tensor(range(N))\n",
        "AA = AA.reshape([n1, n2, n3, n4])\n",
        "\n",
        "## Q1: TOTAL (1 cell)\n",
        "q1 = np.full((1, N), rho * f1)\n",
        "\n",
        "## Q2: CENRACE (63 cells)\n",
        "q2 = np.zeros((n4, N))\n",
        "for x in range(n4):     # race\n",
        "    hist_idx = torch.flatten(AA[:, :, :, x]).tolist()\n",
        "    for i in hist_idx:\n",
        "        q2[x, i] = math.sqrt(rho * f2)\n",
        "\n",
        "## Q3: HISPANIC (2 cells)\n",
        "q3 = np.zeros((n3, N))\n",
        "for x in range(n3):\n",
        "    hist_idx = torch.flatten(AA[:, :, x, :]).tolist()\n",
        "    for i in hist_idx:\n",
        "        q3[x, i] = math.sqrt(rho * f3)   \n",
        "\n",
        "## Q4: VOTINGAGE (2 cells)\n",
        "q4 = np.zeros((n2, N))\n",
        "for x in range(n2):\n",
        "    hist_idx = torch.flatten(AA[:, x, :, :]).tolist()\n",
        "    for i in hist_idx:\n",
        "        q4[x, i] = math.sqrt(rho * f4) \n",
        "\n",
        "## Q6: HHGQ (8 cells)\n",
        "q6 = np.zeros((n1, N))\n",
        "for x in range(n1):\n",
        "    hist_idx = torch.flatten(AA[x, :, :, :]).tolist()\n",
        "    for i in hist_idx:\n",
        "        q6[x, i] = math.sqrt(rho * f6) \n",
        "\n",
        "## Q7: HISPANIC*CENRACE (126 cells)\n",
        "q7 = np.zeros((n3*n4, N))\n",
        "row_idx = 0 \n",
        "for x in range(n3): \n",
        "    for y in range(n4):\n",
        "        hist_idx = torch.flatten(AA[:, :, x, y]).tolist()\n",
        "        for i in hist_idx:\n",
        "            q7[row_idx, i] = math.sqrt(rho * f7)\n",
        "        row_idx += 1\n",
        "\n",
        "## Q8: VOTINGAGE*CENRACE (126 cells)\n",
        "q8 = np.zeros((n2*n4, N))\n",
        "row_idx = 0 \n",
        "for x in range(n2): \n",
        "    for y in range(n4):\n",
        "        hist_idx = torch.flatten(AA[:, x, :, y]).tolist()\n",
        "        for i in hist_idx:\n",
        "            q8[row_idx, i] = math.sqrt(rho * f8)\n",
        "        row_idx += 1\n",
        "\n",
        "## Q9: VOTINGAGE*HISPANIC (4 cells)\n",
        "q9 = np.zeros((n2*n3, N))\n",
        "row_idx = 0 \n",
        "for x in range(n2): \n",
        "    for y in range(n3):\n",
        "        hist_idx = torch.flatten(AA[:, x, y, :]).tolist()\n",
        "        for i in hist_idx:\n",
        "            q9[row_idx, i] = math.sqrt(rho * f9)\n",
        "        row_idx += 1\n",
        "\n",
        "## Q10: VOTINGAGE*HISPANIC*CENRACE (252 cells)\n",
        "q10 = np.zeros((n2*n3*n4, N))\n",
        "row_idx = 0 \n",
        "for x in range(n2):\n",
        "    for y in range(n3):\n",
        "        for z in range(n4):\n",
        "            hist_idx = torch.flatten(AA[:, x, y, z]).tolist()\n",
        "            for i in hist_idx:\n",
        "                q10[row_idx, i] = math.sqrt(rho * f10)\n",
        "            row_idx += 1\n",
        "\n",
        "## Q11: HHGQ*VOTINGAGE*HISPANIC*CENRACE (2,016 cells)\n",
        "q11 = np.zeros((N, N))\n",
        "np.fill_diagonal(q11, math.sqrt(rho * f11))\n",
        "\n",
        "## stack all queries -> strategy matrix\n",
        "A = np.vstack((q1, q2, q3, q4, q6, q7, q8, q9, q10, q11))\n",
        "\n",
        "print(q1.shape, q2.shape, q3.shape, q4.shape, q6.shape, q7.shape, q8.shape, q9.shape, q10.shape, q11.shape, A.shape)\n",
        "A"
      ],
      "execution_count": 5,
      "outputs": [
        {
          "output_type": "stream",
          "name": "stdout",
          "text": [
            "/content/gdrive/My Drive/Colab Notebooks/census_privacy\n",
            "(1, 2016) (63, 2016) (2, 2016) (2, 2016) (8, 2016) (126, 2016) (126, 2016) (4, 2016) (252, 2016) (2016, 2016) (2600, 2016)\n"
          ]
        },
        {
          "output_type": "execute_result",
          "data": {
            "text/plain": [
              "array([[1.25532154e-04, 1.25532154e-04, 1.25532154e-04, ...,\n",
              "        1.25532154e-04, 1.25532154e-04, 1.25532154e-04],\n",
              "       [1.50318953e-02, 0.00000000e+00, 0.00000000e+00, ...,\n",
              "        0.00000000e+00, 0.00000000e+00, 0.00000000e+00],\n",
              "       [0.00000000e+00, 1.50318953e-02, 0.00000000e+00, ...,\n",
              "        0.00000000e+00, 0.00000000e+00, 0.00000000e+00],\n",
              "       ...,\n",
              "       [0.00000000e+00, 0.00000000e+00, 0.00000000e+00, ...,\n",
              "        3.14713949e-01, 0.00000000e+00, 0.00000000e+00],\n",
              "       [0.00000000e+00, 0.00000000e+00, 0.00000000e+00, ...,\n",
              "        0.00000000e+00, 3.14713949e-01, 0.00000000e+00],\n",
              "       [0.00000000e+00, 0.00000000e+00, 0.00000000e+00, ...,\n",
              "        0.00000000e+00, 0.00000000e+00, 3.14713949e-01]])"
            ]
          },
          "metadata": {},
          "execution_count": 5
        }
      ]
    },
    {
      "cell_type": "markdown",
      "metadata": {
        "id": "xJSNwbpUjBSi"
      },
      "source": [
        "**Define workload query**"
      ]
    },
    {
      "cell_type": "markdown",
      "metadata": {
        "id": "vKD8LOQuiwb0"
      },
      "source": [
        "Detailed"
      ]
    },
    {
      "cell_type": "code",
      "metadata": {
        "colab": {
          "base_uri": "https://localhost:8080/"
        },
        "id": "t1YYZFMWinHR",
        "outputId": "0fdf58f6-62fb-4c80-d21f-e53e91980e4e"
      },
      "source": [
        "import numpy as np\n",
        "\n",
        "# setup parameters\n",
        "n1, n2, n3, n4 = 8, 2, 2, 63        # number of attribute combinations: HHGQ (8) ∗ VOTINGAGE (2) ∗ HISPANIC (2) ∗ RACE (63)\n",
        "N = n1 * n2 * n3 * n4         # number of attribute combinations: HHGQ (8) ∗ VOTINGAGE (2) ∗ HISPANIC (2) ∗ RACE (63)\n",
        "\n",
        "W = np.zeros((N, N))\n",
        "np.fill_diagonal(W, 1)\n",
        "W.shape"
      ],
      "execution_count": 22,
      "outputs": [
        {
          "output_type": "execute_result",
          "data": {
            "text/plain": [
              "(2016, 2016)"
            ]
          },
          "metadata": {},
          "execution_count": 22
        }
      ]
    },
    {
      "cell_type": "markdown",
      "metadata": {
        "id": "6IaMWvjju3Zm"
      },
      "source": [
        "Race * Voting age"
      ]
    },
    {
      "cell_type": "code",
      "metadata": {
        "id": "DKp4CEeju5mr"
      },
      "source": [
        "import numpy as np\n",
        "import torch\n",
        "\n",
        "# setup parameters\n",
        "n1, n2, n3, n4 = 8, 2, 2, 63        # number of attribute combinations: HHGQ (8) ∗ VOTINGAGE (2) ∗ HISPANIC (2) ∗ RACE (63)\n",
        "N = n1 * n2 * n3 * n4         # number of attribute combinations: HHGQ (8) ∗ VOTINGAGE (2) ∗ HISPANIC (2) ∗ RACE (63)\n",
        "\n",
        "AA = torch.tensor(range(N))\n",
        "AA = AA.reshape([n1, n2, n3, n4])\n",
        "\n",
        "W = np.zeros((n2 * n4, N))\n",
        "row_idx = 0\n",
        "for x in range (n2):\n",
        "    for y in range(n4):\n",
        "        hist_idx = torch.flatten(AA[:, x, :, y]).tolist()\n",
        "        for i in hist_idx:\n",
        "            W[row_idx, i] = 1\n",
        "        row_idx += 1"
      ],
      "execution_count": 1,
      "outputs": []
    },
    {
      "cell_type": "markdown",
      "metadata": {
        "id": "7X8ZH-8tins0"
      },
      "source": [
        "Race"
      ]
    },
    {
      "cell_type": "code",
      "metadata": {
        "id": "RgohNVUTjAnj",
        "colab": {
          "base_uri": "https://localhost:8080/"
        },
        "outputId": "aa728f39-a926-40dd-976a-de3baa935f13"
      },
      "source": [
        "import numpy as np\n",
        "import torch\n",
        "\n",
        "# setup parameters\n",
        "n1, n2, n3, n4 = 8, 2, 2, 63        # number of attribute combinations: HHGQ (8) ∗ VOTINGAGE (2) ∗ HISPANIC (2) ∗ RACE (63)\n",
        "N = n1 * n2 * n3 * n4         # number of attribute combinations: HHGQ (8) ∗ VOTINGAGE (2) ∗ HISPANIC (2) ∗ RACE (63)\n",
        "\n",
        "AA = torch.tensor(range(N))\n",
        "AA = AA.reshape([n1, n2, n3, n4])\n",
        "\n",
        "t = 7\n",
        "W = np.zeros((t, N))\n",
        "col_two_or_more_races = []\n",
        "for x in range(n4):\n",
        "    if x >= 0 and x <= 5:     \n",
        "        hist_idx = torch.flatten(AA[:, :, :, x]).tolist()\n",
        "        for i in hist_idx:\n",
        "            W[x, i] = 1\n",
        "    else:\n",
        "        hist_idx = torch.flatten(AA[:, :, :, x]).tolist()\n",
        "        col_two_or_more_races.extend(hist_idx)\n",
        "for i in hist_idx:\n",
        "    W[6, i] = 1\n",
        "W.shape"
      ],
      "execution_count": 20,
      "outputs": [
        {
          "output_type": "execute_result",
          "data": {
            "text/plain": [
              "(7, 2016)"
            ]
          },
          "metadata": {},
          "execution_count": 20
        }
      ]
    },
    {
      "cell_type": "markdown",
      "metadata": {
        "id": "eO1hky7IYsAK"
      },
      "source": [
        "OLS variance matrix\n",
        "\n",
        "$$Var(W\\hat{x})=W(\\tilde{A}^T\\tilde{A})^{-1}W^T$$"
      ]
    },
    {
      "cell_type": "code",
      "metadata": {
        "colab": {
          "base_uri": "https://localhost:8080/"
        },
        "id": "AI4fPsQtYVGW",
        "outputId": "f27fc06e-95c1-4b65-8e50-7de762ffe33c"
      },
      "source": [
        "import numpy as np\n",
        "\n",
        "var = W @ np.linalg.inv(A.T @ A) @ W.T\n",
        "var[0, 0]"
      ],
      "execution_count": 6,
      "outputs": [
        {
          "output_type": "execute_result",
          "data": {
            "text/plain": [
              "122.63620215995955"
            ]
          },
          "metadata": {},
          "execution_count": 6
        }
      ]
    }
  ]
}