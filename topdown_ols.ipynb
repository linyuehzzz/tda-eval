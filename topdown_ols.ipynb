{
  "nbformat": 4,
  "nbformat_minor": 0,
  "metadata": {
    "colab": {
      "name": "topdown_ols.ipynb",
      "provenance": [],
      "collapsed_sections": [],
      "authorship_tag": "ABX9TyNpMTtoSlTcAPXQyxK4SRgb",
      "include_colab_link": true
    },
    "kernelspec": {
      "name": "python3",
      "display_name": "Python 3"
    },
    "language_info": {
      "name": "python"
    }
  },
  "cells": [
    {
      "cell_type": "markdown",
      "metadata": {
        "id": "view-in-github",
        "colab_type": "text"
      },
      "source": [
        "<a href=\"https://colab.research.google.com/github/linyuehzzz/census_privacy/blob/main/topdown_ols.ipynb\" target=\"_parent\"><img src=\"https://colab.research.google.com/assets/colab-badge.svg\" alt=\"Open In Colab\"/></a>"
      ]
    },
    {
      "cell_type": "markdown",
      "metadata": {
        "id": "eMeTVBBCRt0o"
      },
      "source": [
        "Define strategy queries and strategy matrix"
      ]
    },
    {
      "cell_type": "code",
      "metadata": {
        "colab": {
          "base_uri": "https://localhost:8080/"
        },
        "id": "tPELpT6MROEG",
        "outputId": "6528bc11-e70a-4fea-d14f-cf0b597cc7f3"
      },
      "source": [
        "import torch\n",
        "import numpy as np\n",
        "\n",
        "# setup parameters\n",
        "eps = 17.14\n",
        "delta = 1e-10\n",
        "n1, n2, n3, n4 = 8, 2, 2, 63        # number of attribute combinations: HHGQ (8) ∗ VOTINGAGE (2) ∗ HISPANIC (2) ∗ RACE (63)\n",
        "N = n1 * n2 * n3 * n4         # number of attribute combinations: HHGQ (8) ∗ VOTINGAGE (2) ∗ HISPANIC (2) ∗ RACE (63)\n",
        "q1, q2, q3, q4, q6, q7, q8, q9, q10, q11 = [], [], [], [], [], [], [], [], [], []\n",
        "\n",
        "AA = torch.tensor(range(N))\n",
        "AA = AA.reshape([n1, n2, n3, n4])\n",
        "\n",
        "## Q1: TOTAL (1 cell)\n",
        "q1 = np.ones((1, N))\n",
        "\n",
        "## Q2: CENRACE (63 cells)\n",
        "q2 = np.zeros((n4, N))\n",
        "for x in range(n4):     # race\n",
        "    hist_idx = torch.flatten(AA[:, :, :, x]).tolist()\n",
        "    for i in hist_idx:\n",
        "        q2[x, i] = 1\n",
        "\n",
        "## Q3: HISPANIC (2 cells)\n",
        "q3 = np.zeros((n3, N))\n",
        "for x in range(n3):\n",
        "    hist_idx = torch.flatten(AA[:, :, x, :]).tolist()\n",
        "    for i in hist_idx:\n",
        "        q3[x, i] = 1    \n",
        "\n",
        "## Q4: VOTINGAGE (2 cells)\n",
        "q4 = np.zeros((n2, N))\n",
        "for x in range(n2):\n",
        "    hist_idx = torch.flatten(AA[:, x, :, :]).tolist()\n",
        "    for i in hist_idx:\n",
        "        q4[x, i] = 1 \n",
        "\n",
        "## Q6: HHGQ (8 cells)\n",
        "q6 = np.zeros((n1, N))\n",
        "for x in range(n1):\n",
        "    hist_idx = torch.flatten(AA[x, :, :, :]).tolist()\n",
        "    for i in hist_idx:\n",
        "        q6[x, i] = 1 \n",
        "\n",
        "## Q7: HISPANIC*CENRACE (126 cells)\n",
        "q7 = np.zeros((n3*n4, N))\n",
        "row_idx = 0 \n",
        "for x in range(n3): \n",
        "    for y in range(n4):\n",
        "        hist_idx = torch.flatten(AA[:, :, x, y]).tolist()\n",
        "        for i in hist_idx:\n",
        "            q7[row_idx, i] = 1\n",
        "        row_idx += 1\n",
        "\n",
        "## Q8: VOTINGAGE*CENRACE (126 cells)\n",
        "q8 = np.zeros((n2*n4, N))\n",
        "row_idx = 0 \n",
        "for x in range(n2): \n",
        "    for y in range(n4):\n",
        "        hist_idx = torch.flatten(AA[:, x, :, y]).tolist()\n",
        "        for i in hist_idx:\n",
        "            q8[row_idx, i] = 1\n",
        "        row_idx += 1\n",
        "\n",
        "## Q9: VOTINGAGE*HISPANIC (4 cells)\n",
        "q9 = np.zeros((n2*n3, N))\n",
        "row_idx = 0 \n",
        "for x in range(n2): \n",
        "    for y in range(n3):\n",
        "        hist_idx = torch.flatten(AA[:, x, y, :]).tolist()\n",
        "        for i in hist_idx:\n",
        "            q9[row_idx, i] = 1\n",
        "        row_idx += 1\n",
        "\n",
        "## Q10: VOTINGAGE*HISPANIC*CENRACE (252 cells)\n",
        "q10 = np.zeros((n2*n3*n4, N))\n",
        "row_idx = 0 \n",
        "for x in range(n2):\n",
        "    for y in range(n3):\n",
        "        for z in range(n4):\n",
        "            hist_idx = torch.flatten(AA[:, x, y, z]).tolist()\n",
        "            for i in hist_idx:\n",
        "                q10[row_idx, i] = 1\n",
        "            row_idx += 1\n",
        "\n",
        "## Q11: HHGQ*VOTINGAGE*HISPANIC*CENRACE (2,016 cells)\n",
        "q11 = np.zeros((N, N))\n",
        "np.fill_diagonal(q11, 1)\n",
        "\n",
        "## stack all queries -> strategy matrix\n",
        "A = np.vstack((q1, q2, q3, q4, q6, q7, q8, q9, q10, q11))\n",
        "\n",
        "print(q1.shape, q2.shape, q3.shape, q4.shape, q6.shape, q7.shape, q8.shape, q9.shape, q10.shape, q11.shape, A.shape)\n",
        "A"
      ],
      "execution_count": 23,
      "outputs": [
        {
          "output_type": "stream",
          "name": "stdout",
          "text": [
            "(1, 2016) (63, 2016) (2, 2016) (2, 2016) (8, 2016) (126, 2016) (126, 2016) (4, 2016) (252, 2016) (2016, 2016) (2600, 2016)\n"
          ]
        },
        {
          "output_type": "execute_result",
          "data": {
            "text/plain": [
              "array([[1., 1., 1., ..., 1., 1., 1.],\n",
              "       [1., 0., 0., ..., 0., 0., 0.],\n",
              "       [0., 1., 0., ..., 0., 0., 0.],\n",
              "       ...,\n",
              "       [0., 0., 0., ..., 1., 0., 0.],\n",
              "       [0., 0., 0., ..., 0., 1., 0.],\n",
              "       [0., 0., 0., ..., 0., 0., 1.]])"
            ]
          },
          "metadata": {},
          "execution_count": 23
        }
      ]
    },
    {
      "cell_type": "code",
      "metadata": {
        "id": "AI4fPsQtYVGW"
      },
      "source": [
        ""
      ],
      "execution_count": null,
      "outputs": []
    }
  ]
}